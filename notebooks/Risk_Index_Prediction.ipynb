{
 "cells": [
  {
   "cell_type": "markdown",
   "id": "about-mistake",
   "metadata": {
    "id": "900025c001e546939eed852361cb377d"
   },
   "source": [
    "# Import a SageMaker Predictive Model for Calculating Risk Index per Region - "
   ]
  },
  {
   "cell_type": "code",
   "execution_count": null,
   "id": "original-irrigation",
   "metadata": {
    "id": "a03b4f3125d84cb29c7450870ce89906"
   },
   "outputs": [],
   "source": [
    "import time\n",
    "st = time.time()"
   ]
  },
  {
   "cell_type": "markdown",
   "id": "bearing-circle",
   "metadata": {
    "id": "928f69d9320648b8b90919fc315bb22f"
   },
   "source": [
    "### Install necessary libraries"
   ]
  },
  {
   "cell_type": "code",
   "execution_count": null,
   "id": "52223d7c",
   "metadata": {
    "id": "f4d559e7-1048-48a9-831b-85297ad00963"
   },
   "outputs": [],
   "source": [
    "!pip install pandas_profiling\n",
    "!pip install lightgbm\n",
    "!pip install shap"
   ]
  },
  {
   "cell_type": "markdown",
   "id": "current-component",
   "metadata": {
    "id": "33198312ab874ff99a47b7500e9d972b"
   },
   "source": [
    "### Import the libraries into the notebook"
   ]
  },
  {
   "cell_type": "code",
   "execution_count": null,
   "id": "e9b73621",
   "metadata": {
    "id": "38150458-bdbd-440e-aef5-b6e7ddddfddd"
   },
   "outputs": [],
   "source": [
    "import numpy as np \n",
    "import pandas as pd \n",
    "import matplotlib.pyplot as plt\n",
    "import ipaddress\n",
    "import pandas_profiling as pp\n",
    "%matplotlib inline\n",
    "from sklearn import preprocessing\n",
    "plt.rc(\"font\", size=14)\n",
    "import warnings\n",
    "warnings.simplefilter(action='ignore', category=FutureWarning)\n",
    "import warnings\n",
    "warnings.filterwarnings(\"ignore\")\n",
    "import time\n",
    "import boto3\n",
    "from sklearn.linear_model import LogisticRegression\n",
    "from sklearn.model_selection import train_test_split\n",
    "import lightgbm as lgb\n",
    "from lightgbm import LGBMClassifier\n",
    "from sklearn import preprocessing\n",
    "from sklearn.model_selection import train_test_split\n",
    "from sklearn.ensemble import RandomForestClassifier\n",
    "from sklearn.metrics import accuracy_score\n",
    "from sklearn.metrics import confusion_matrix\n",
    "from sklearn import metrics\n",
    "import shap\n",
    "import seaborn as sns\n",
    "sns.set(style=\"white\")\n",
    "sns.set(style=\"whitegrid\", color_codes=True)"
   ]
  },
  {
   "cell_type": "markdown",
   "id": "limited-probe",
   "metadata": {
    "id": "fd70171887c946c39cffdb5c27489271"
   },
   "source": [
    "### Update the AWS credentials in the below cell.\n",
    "We will ingest the data files which were pre-processed in the earlier steps using the Data pre-processing Notebook"
   ]
  },
  {
   "cell_type": "code",
   "execution_count": null,
   "id": "4abe2e7b",
   "metadata": {
    "id": "95dc3ab3-df0d-47fb-9b56-b7eb10d1d8a9"
   },
   "outputs": [],
   "source": [
    "BUCKET_TYPE=\"s3\"\n",
    "BUCKET_NAME=\"\"\n",
    "BUCKET_REGION=\"\"\n",
    "AWS_ACCESS_KEY_ID=\"\"\n",
    "AWS_SECRET_ACCESS_KEY=\"\""
   ]
  },
  {
   "cell_type": "markdown",
   "id": "alike-camping",
   "metadata": {
    "id": "85c37f9f74a6491380ebde62ddbbc320"
   },
   "source": [
    "### Create an instance with S3 Credentials "
   ]
  },
  {
   "cell_type": "code",
   "execution_count": null,
   "id": "a55dad50",
   "metadata": {
    "id": "607659a2-a82b-4d5c-9ea7-cdc998a0f49b"
   },
   "outputs": [],
   "source": [
    "s3 = boto3.resource(\n",
    "    service_name = BUCKET_TYPE,\n",
    "    region_name = BUCKET_REGION,\n",
    "    aws_access_key_id = AWS_ACCESS_KEY_ID,\n",
    "    aws_secret_access_key = AWS_SECRET_ACCESS_KEY\n",
    ")"
   ]
  },
  {
   "cell_type": "markdown",
   "id": "representative-steps",
   "metadata": {
    "id": "d52a4189ee3a4b318f214b948e3bdf65"
   },
   "source": [
    "### Read and display the available datasets in S3 Bucket"
   ]
  },
  {
   "cell_type": "code",
   "execution_count": null,
   "id": "d3eda0dc",
   "metadata": {
    "id": "27f7f248-e2f4-43bd-822f-9f2563c9ccdd"
   },
   "outputs": [],
   "source": [
    "datasets = []\n",
    "for obj in s3.Bucket(BUCKET_NAME).objects.all():\n",
    "    datasets.append(obj.key)\n",
    "datasets"
   ]
  },
  {
   "cell_type": "markdown",
   "id": "biological-harvey",
   "metadata": {
    "id": "931cc450e22244a6a483b2a5a22b6950"
   },
   "source": [
    "### Read the Risk Index per Region data as dataframe and display five records"
   ]
  },
  {
   "cell_type": "code",
   "execution_count": null,
   "id": "ddffff72",
   "metadata": {
    "id": "8b4cfbae-cdc0-4389-b15d-cbe15afc1dfd"
   },
   "outputs": [],
   "source": [
    "obj = s3.Bucket(BUCKET_NAME).Object('ts-data-region-RI.csv').get()\n",
    "data = pd.read_csv(obj['Body'])\n",
    "data.head()"
   ]
  },
  {
   "cell_type": "markdown",
   "id": "regular-transcription",
   "metadata": {
    "id": "f03c5cc06d524b0f8a2170b134624c4f"
   },
   "source": [
    "### identify the Data Types"
   ]
  },
  {
   "cell_type": "code",
   "execution_count": null,
   "id": "e226ff23",
   "metadata": {
    "id": "85d747ed-a6cd-4cc5-8217-7ad61eb4b334"
   },
   "outputs": [],
   "source": [
    "data.dtypes"
   ]
  },
  {
   "cell_type": "markdown",
   "id": "impressive-specialist",
   "metadata": {
    "id": "aa85e466b6ba47bca8c9177c472b49f7"
   },
   "source": [
    "### Drop the Date attribute as we will not be using it"
   ]
  },
  {
   "cell_type": "code",
   "execution_count": null,
   "id": "4fb6918a",
   "metadata": {
    "id": "6512c1ce-275f-4a57-a9b8-b2f551b8f013"
   },
   "outputs": [],
   "source": [
    "data.drop('DATE', axis=1, inplace=True)\n",
    "data"
   ]
  },
  {
   "cell_type": "markdown",
   "id": "noble-moses",
   "metadata": {
    "id": "3a80eacc103040cc9e790051616c5818"
   },
   "source": [
    "### Encode the Region data into integers\n",
    "\n",
    "Brussels is encoded as 0 ::: Flanders is encoded as 1 ::: Wallonia is encoded as 2"
   ]
  },
  {
   "cell_type": "code",
   "execution_count": null,
   "id": "3b7c73ad",
   "metadata": {
    "id": "d647826b-8c90-4be9-a840-7ec1cc82a0f1"
   },
   "outputs": [],
   "source": [
    "label_encoder = preprocessing.LabelEncoder()\n",
    "\n",
    "data['REGION']= label_encoder.fit_transform(data['REGION'])\n",
    "\n",
    "data"
   ]
  },
  {
   "cell_type": "markdown",
   "id": "tough-royalty",
   "metadata": {
    "id": "dd7fd56ed5e34dc58b078e891986e338"
   },
   "source": [
    "### Generate the detailed analysis report"
   ]
  },
  {
   "cell_type": "code",
   "execution_count": null,
   "id": "a28c171e",
   "metadata": {
    "id": "5095c300-70c9-4f9e-a3ef-08a9e174ffb6"
   },
   "outputs": [],
   "source": [
    "pp.ProfileReport(data)"
   ]
  },
  {
   "cell_type": "markdown",
   "id": "joint-forestry",
   "metadata": {
    "id": "1a6fccca4a9b49d183a89f23b7ea8e2b"
   },
   "source": [
    "### Drop the duplicate values"
   ]
  },
  {
   "cell_type": "code",
   "execution_count": null,
   "id": "7d00f977",
   "metadata": {
    "id": "20cdcc5d-f20b-413f-a6d8-fb68e4bc1f3b"
   },
   "outputs": [],
   "source": [
    "data.drop_duplicates(keep=False, inplace=True)"
   ]
  },
  {
   "cell_type": "code",
   "execution_count": null,
   "id": "3a5697da",
   "metadata": {
    "id": "ab35a159-aa00-4ab1-9e60-61fbfd1476fb"
   },
   "outputs": [],
   "source": [
    "pp.ProfileReport(data)"
   ]
  },
  {
   "cell_type": "markdown",
   "id": "challenging-objective",
   "metadata": {
    "id": "1648735ed95a40858e226a19e9c29407"
   },
   "source": [
    "### Check for missing values"
   ]
  },
  {
   "cell_type": "code",
   "execution_count": null,
   "id": "a31cead4",
   "metadata": {
    "id": "46be0f80-e89b-4f76-8cfa-25a6634c5580"
   },
   "outputs": [],
   "source": [
    "data.isna()"
   ]
  },
  {
   "cell_type": "markdown",
   "id": "changed-treatment",
   "metadata": {
    "id": "3cce0e2d99014774a5aed3ad0177224a"
   },
   "source": [
    "### Set the Input & Target variables for the Predictive Model\n",
    "\n",
    "Region & Total_cases are Input attributes, Risk_Index will be the Target attribute"
   ]
  },
  {
   "cell_type": "code",
   "execution_count": null,
   "id": "f87acd53",
   "metadata": {
    "id": "43d46516-c8c7-4464-b855-4bcab12162c2"
   },
   "outputs": [],
   "source": [
    "X = data[data.columns[0:2]]\n",
    "y = data[data.columns[2:]]"
   ]
  },
  {
   "cell_type": "markdown",
   "id": "liberal-isaac",
   "metadata": {
    "id": "94397cf67e9d460580b32d7c2db6320a"
   },
   "source": [
    "### Print the Input attributes"
   ]
  },
  {
   "cell_type": "code",
   "execution_count": null,
   "id": "29fe5172",
   "metadata": {
    "id": "08fbedbc-34a6-40e1-9ec5-ee8fcb9a6840"
   },
   "outputs": [],
   "source": [
    "X"
   ]
  },
  {
   "cell_type": "markdown",
   "id": "timely-victoria",
   "metadata": {
    "id": "f71723332ed240c28efb204870e78a22"
   },
   "source": [
    "### Print the Target attribute"
   ]
  },
  {
   "cell_type": "code",
   "execution_count": null,
   "id": "e508db5e",
   "metadata": {
    "id": "f76f85a0-e55d-4043-8a5a-34452b8db170"
   },
   "outputs": [],
   "source": [
    "y"
   ]
  },
  {
   "cell_type": "markdown",
   "id": "directed-knowing",
   "metadata": {
    "id": "926efd81a82c4d79a9c2b8256934797f"
   },
   "source": [
    "### Split the data using 70:30 mix into Training & Testing samples "
   ]
  },
  {
   "cell_type": "code",
   "execution_count": null,
   "id": "14b88d83",
   "metadata": {
    "id": "882e3dc2-c3f7-4dca-9747-75d69fb4e760"
   },
   "outputs": [],
   "source": [
    "X_train, X_test, y_train, y_test = train_test_split(X, y, test_size=0.2, random_state=0)"
   ]
  },
  {
   "cell_type": "markdown",
   "id": "ranking-vacation",
   "metadata": {
    "id": "c1616327cc6241ea860c757ac2e35723"
   },
   "source": [
    "### Check for data shape of Training & Testing samples"
   ]
  },
  {
   "cell_type": "code",
   "execution_count": null,
   "id": "ae104fe7",
   "metadata": {
    "id": "15887ef9-d2d1-424c-92e1-350b35c44883"
   },
   "outputs": [],
   "source": [
    "print(\"Train_x Shape :: \", X_train.shape)\n",
    "print(\"Train_y Shape :: \", y_train.shape)\n",
    "print(\"Test_x Shape :: \", X_test.shape)\n",
    "print(\"Test_y Shape :: \", y_test.shape)"
   ]
  },
  {
   "cell_type": "markdown",
   "id": "permanent-influence",
   "metadata": {
    "id": "51da7504f4f94fac80d374d9ec456ab7"
   },
   "source": [
    "### Prepare the dataset for building the Predictive Model"
   ]
  },
  {
   "cell_type": "code",
   "execution_count": null,
   "id": "1451103e",
   "metadata": {
    "id": "5a51a6a8-1d37-4dd0-923e-2066b78b8b52"
   },
   "outputs": [],
   "source": [
    "d_train = lgb.Dataset(X_train, label=y_train)"
   ]
  },
  {
   "cell_type": "markdown",
   "id": "stuffed-participation",
   "metadata": {
    "id": "7a95fe3166064fe38268958a46df21d2"
   },
   "source": [
    "### Build the Model using Light Gradient Boosting algorithm"
   ]
  },
  {
   "cell_type": "code",
   "execution_count": null,
   "id": "4c521923",
   "metadata": {
    "id": "13113d30-0c0f-48ce-8a33-5d45bb4d5a7a"
   },
   "outputs": [],
   "source": [
    "def LGBM_classifier(features, target):\n",
    "    \"\"\"\n",
    "    To train the LGBM classifier with features and target data\n",
    "    :param features:\n",
    "    :param target:\n",
    "    :return: trained LGBM classifier\n",
    "    \"\"\"\n",
    "    model = LGBMClassifier(metric='multi_logloss', objective='multiclass', num_leaves=60, max_depth=30, min_data=50)\n",
    "    model.fit(features, target)\n",
    "    return model\n",
    "\n",
    "start = time.time()\n",
    "trained_model = LGBM_classifier(X_train, y_train.values.ravel())\n",
    "print(\"> Completion Time : \", time.time() - start)\n",
    "print(\"Trained LGBM model :: \", trained_model)\n",
    "predictions = trained_model.predict(X_test)"
   ]
  },
  {
   "cell_type": "code",
   "execution_count": null,
   "id": "315dc215",
   "metadata": {
    "id": "f9428f69-4481-4498-b3a1-546bc45f67ad"
   },
   "outputs": [],
   "source": [
    "X_test"
   ]
  },
  {
   "cell_type": "markdown",
   "id": "optical-relationship",
   "metadata": {
    "id": "49f155d6a1b94b8181bc60fd17d62baa"
   },
   "source": [
    "### Evaluate the accuracy of the Model"
   ]
  },
  {
   "cell_type": "code",
   "execution_count": null,
   "id": "358a199c",
   "metadata": {
    "id": "75e8f3d4-a67e-418f-ac01-9b10f1f78a40"
   },
   "outputs": [],
   "source": [
    "print(\"Train Accuracy :: \", accuracy_score(y_train, trained_model.predict(X_train)))\n",
    "print(\"LGBM Model Test Accuracy is :: \", accuracy_score(y_test, predictions))"
   ]
  },
  {
   "cell_type": "markdown",
   "id": "flush-methodology",
   "metadata": {
    "id": "c845fc6b1d6846a880fa75f0dd28a836"
   },
   "source": [
    "### Analyze the Confusion Matrix"
   ]
  },
  {
   "cell_type": "code",
   "execution_count": null,
   "id": "b4f493a9",
   "metadata": {
    "id": "c4a7e11c-a662-4178-a543-6b623536bce6"
   },
   "outputs": [],
   "source": [
    "print(\" Confusion matrix \", confusion_matrix(y_test, predictions))"
   ]
  },
  {
   "cell_type": "markdown",
   "id": "resident-prediction",
   "metadata": {
    "id": "01392c05426541c1865e92fe9704fd80"
   },
   "source": [
    "### Analyze the model performance across different categories"
   ]
  },
  {
   "cell_type": "code",
   "execution_count": null,
   "id": "82c8021c",
   "metadata": {
    "id": "8c3ca2c5-c09f-4c8f-a52d-5ab7ca680846"
   },
   "outputs": [],
   "source": [
    "print(metrics.classification_report(y_test, predictions))"
   ]
  },
  {
   "cell_type": "markdown",
   "id": "blocked-boards",
   "metadata": {
    "id": "5c62aa1d4352425284b5f6fe1010c1d8"
   },
   "source": [
    "### Identify the important feature/s"
   ]
  },
  {
   "cell_type": "code",
   "execution_count": null,
   "id": "3bf308c5",
   "metadata": {
    "id": "8efd9c8e-9528-4a17-96c1-29261c4cd620"
   },
   "outputs": [],
   "source": [
    "feat_imp = pd.Series(trained_model.feature_importances_, index=X.columns)\n",
    "feat_imp.nlargest(12).plot(kind='barh', figsize=(8,10))"
   ]
  },
  {
   "cell_type": "markdown",
   "id": "typical-recording",
   "metadata": {
    "id": "ab1129b287184db189cfe944ef3521ef"
   },
   "source": [
    "### Install the shap library for Model Evaluation & Feature Importance"
   ]
  },
  {
   "cell_type": "code",
   "execution_count": null,
   "id": "fcde466d",
   "metadata": {
    "id": "60e42741-b348-4aaf-999f-ed696febc564"
   },
   "outputs": [],
   "source": [
    "!pip install shap"
   ]
  },
  {
   "cell_type": "code",
   "execution_count": null,
   "id": "162585f9",
   "metadata": {
    "id": "92310377-342b-4ec5-bcd3-aa04ff8c400f"
   },
   "outputs": [],
   "source": [
    "shap.initjs()"
   ]
  },
  {
   "cell_type": "markdown",
   "id": "4ba862a7",
   "metadata": {},
   "source": [
    "### You may need higher computation resources to run the below cells. "
   ]
  },
  {
   "cell_type": "code",
   "execution_count": null,
   "id": "102c8c36",
   "metadata": {
    "id": "9564045f-0ab8-40ea-861a-a938aac34563"
   },
   "outputs": [],
   "source": [
    "#shap_values = shap.TreeExplainer(trained_model.booster_).shap_values(X_train)\n",
    "shap_values = shap.TreeExplainer(trained_model).shap_values(X_train)"
   ]
  },
  {
   "cell_type": "code",
   "execution_count": null,
   "id": "3f751e5c",
   "metadata": {
    "id": "5254b1ab-cb3c-44b7-853a-06b6797cd0b2"
   },
   "outputs": [],
   "source": [
    "shap.summary_plot(shap_values, X_train)"
   ]
  },
  {
   "cell_type": "markdown",
   "id": "compact-examination",
   "metadata": {
    "id": "1429f4ff4c4f410f8547c79bce48a913"
   },
   "source": [
    "#### As per above summary plot, we can infer that Region is important/significant attribute for classes 0 & 2 (Brussels & Wallonia) & Total_cases is a significant attribute for class 0 (Brussels) Risk Index prediction. For Flanders (Class 1), Region attribute is more significant than Total_cases to predict Risk Index."
   ]
  },
  {
   "cell_type": "markdown",
   "id": "norwegian-washington",
   "metadata": {
    "id": "dec15618603b4fd7b6ad0eb725712f20"
   },
   "source": [
    "### Let's churn out some predictions using random values for Region & Total_cases \n",
    "\n",
    "Risk-Index of 0 is Low ::: Risk-Index of 1 is Moderate ::: Risk-Index of 2 is High Risk"
   ]
  },
  {
   "cell_type": "code",
   "execution_count": null,
   "id": "d240bd7e",
   "metadata": {
    "id": "eb95f423-9518-4b26-921a-9ada6c2b5299"
   },
   "outputs": [],
   "source": [
    "import numpy as np\n",
    "\n",
    "new_data=np.array([1,1000])\n",
    "new_data = new_data.reshape(1, -1)"
   ]
  },
  {
   "cell_type": "code",
   "execution_count": null,
   "id": "2722b701",
   "metadata": {
    "id": "ee5231ea-b9a6-4e50-a72f-285449f4ae51"
   },
   "outputs": [],
   "source": [
    "trained_model.predict(new_data)"
   ]
  },
  {
   "cell_type": "markdown",
   "id": "classified-watershed",
   "metadata": {
    "id": "8bdbda8712784b318964e0456aca54b4"
   },
   "source": [
    "For the input [1, 1000] which is Flanders with 1000 cases per day, the predicted Risk index is ([ 2 ]) which is High risk."
   ]
  },
  {
   "cell_type": "code",
   "execution_count": null,
   "id": "3e3781c8",
   "metadata": {
    "id": "436d520d-6af7-4efe-ba39-d2263d394551"
   },
   "outputs": [],
   "source": [
    "new_data1=np.array([0,10])\n",
    "new_data1 = new_data1.reshape(1, -1)"
   ]
  },
  {
   "cell_type": "code",
   "execution_count": null,
   "id": "ade4f5d4",
   "metadata": {
    "id": "0d349abd-8606-4089-a00b-5954ddae42df"
   },
   "outputs": [],
   "source": [
    "trained_model.predict(new_data1)"
   ]
  },
  {
   "cell_type": "markdown",
   "id": "normal-trainer",
   "metadata": {
    "id": "471f48c6b67248a8852bbcd6b8347661"
   },
   "source": [
    "For the input [0, 10] which is Brussels with 10 cases per day, the predicted Risk index is ([ 0 ]) which is Low risk."
   ]
  },
  {
   "cell_type": "code",
   "execution_count": null,
   "id": "c9bb914d",
   "metadata": {
    "id": "49c1216e-c7f0-4b9f-8df0-c6694f193879"
   },
   "outputs": [],
   "source": [
    "new_data2=np.array([2,100])\n",
    "new_data2=new_data2.reshape(1, -1)"
   ]
  },
  {
   "cell_type": "code",
   "execution_count": null,
   "id": "a55cf06a",
   "metadata": {
    "id": "4550ffd7-287d-41ea-bdcb-28f18ce5c734"
   },
   "outputs": [],
   "source": [
    "trained_model.predict(new_data2)"
   ]
  },
  {
   "cell_type": "markdown",
   "id": "silver-building",
   "metadata": {
    "id": "351db37aae0f4961b4fe20eef90b0050"
   },
   "source": [
    "For the input [2, 1] which is Wallonia with 1 case per day, the predicted Risk index is ([ 1 ]) which is Moderate risk."
   ]
  },
  {
   "cell_type": "markdown",
   "id": "stuck-enterprise",
   "metadata": {
    "id": "2391c02ac2e34d54850e4c46158656e5"
   },
   "source": [
    "### Generate predictions for multiple values in one go"
   ]
  },
  {
   "cell_type": "code",
   "execution_count": null,
   "id": "39182564",
   "metadata": {
    "id": "43b88838-a45c-4772-ba39-2a7c3d811616"
   },
   "outputs": [],
   "source": [
    "validation_data=np.array([1,500,2,100,0,600])\n",
    "val_data1 = validation_data.reshape(3, -1)"
   ]
  },
  {
   "cell_type": "code",
   "execution_count": null,
   "id": "15eedc3e",
   "metadata": {
    "id": "9873e31d-92a8-4905-b428-8c1a3749fe50"
   },
   "outputs": [],
   "source": [
    "val_data1"
   ]
  },
  {
   "cell_type": "code",
   "execution_count": null,
   "id": "e02d8f86",
   "metadata": {
    "id": "dd816201-70fc-463f-b599-9e80eca88b86"
   },
   "outputs": [],
   "source": [
    "trained_model.predict(val_data1)"
   ]
  },
  {
   "cell_type": "markdown",
   "id": "sufficient-desktop",
   "metadata": {
    "id": "7399a5eb-edd9-4e98-a286-2e6b89b1b49d"
   },
   "source": [
    "The predicted results are High risk, Moderate risk & Low risk for the three records."
   ]
  },
  {
   "cell_type": "markdown",
   "id": "described-medium",
   "metadata": {
    "id": "859fb7d7fc0b46ad8d39ea1df16bbb6c"
   },
   "source": [
    "## In this notebook, we have learnt how to import the SageMaker notebook into Watson Studio and generate predictions."
   ]
  },
  {
   "cell_type": "code",
   "execution_count": null,
   "id": "integral-planet",
   "metadata": {
    "id": "8258723f662046cd93cf548a95023d01"
   },
   "outputs": [],
   "source": [
    "time_taken=round(time.time() - st,1)\n",
    "print(\"The Notebook ran in {} \".format(float(time_taken)) + \"seconds\") "
   ]
  },
  {
   "cell_type": "code",
   "execution_count": null,
   "id": "blocked-frank",
   "metadata": {
    "id": "ce99f2d1ac154daa95dbefda3b4ddd00"
   },
   "outputs": [],
   "source": []
  }
 ],
 "metadata": {
  "kernelspec": {
   "display_name": "Python 3 (ipykernel)",
   "language": "python",
   "name": "python3"
  },
  "language_info": {
   "codemirror_mode": {
    "name": "ipython",
    "version": 3
   },
   "file_extension": ".py",
   "mimetype": "text/x-python",
   "name": "python",
   "nbconvert_exporter": "python",
   "pygments_lexer": "ipython3",
   "version": "3.8.9"
  }
 },
 "nbformat": 4,
 "nbformat_minor": 5
}
