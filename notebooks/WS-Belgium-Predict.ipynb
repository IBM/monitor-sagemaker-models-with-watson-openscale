{
 "cells": [
  {
   "cell_type": "markdown",
   "id": "23846834",
   "metadata": {
    "id": "08aab1b1-62e7-4b42-af22-df5cee1fb1fb"
   },
   "source": [
    "# Future cases forecasting using Deep Learning - LSTM (Long 'Short Term Memory')\n",
    "\n",
    "LSTM is one of the prominent techniques under Recurrent Neural Netrowk which is known to remember long sequences over time."
   ]
  },
  {
   "cell_type": "code",
   "execution_count": 1,
   "id": "satellite-scanner",
   "metadata": {
    "id": "0f64f07677734261821d2f6fd02399ca"
   },
   "outputs": [],
   "source": [
    "import time\n",
    "st = time.time()"
   ]
  },
  {
   "cell_type": "markdown",
   "id": "c3089bbb",
   "metadata": {
    "id": "e48c7dea-757d-4ce8-a9f8-d40fb54e85ce"
   },
   "source": [
    "## 1. Setup\n",
    "To prepare your environment, you need to install some packages.\n",
    "\n",
    "### 1.1 Install the necessary packages\n",
    "\n",
    "You need the latest versions of these packages:<br> We will be using Keras modules which runs on top of TensorFlow"
   ]
  },
  {
   "cell_type": "code",
   "execution_count": 2,
   "id": "77cb8db6",
   "metadata": {
    "id": "9a7d6cbd-1b50-4305-bce1-00eb9978f1c0"
   },
   "outputs": [
    {
     "name": "stdout",
     "output_type": "stream",
     "text": [
      "Python 3.9.7\r\n"
     ]
    }
   ],
   "source": [
    "!python -V"
   ]
  },
  {
   "cell_type": "code",
   "execution_count": 3,
   "id": "ff26faf4",
   "metadata": {
    "id": "e8d7e3ab-ef1c-4950-90e4-55b029d166b9"
   },
   "outputs": [],
   "source": [
    "import boto3\n",
    "import numpy as np \n",
    "import pandas as pd \n",
    "from keras.layers.core import Dense, Dropout\n",
    "from keras.layers.recurrent import LSTM\n",
    "from keras.models import Sequential\n",
    "from tensorflow.keras.optimizers import Adam\n",
    "import math, time\n",
    "from sklearn.preprocessing import MinMaxScaler\n",
    "import matplotlib.pyplot as plt\n",
    "from numpy import newaxis\n",
    "from keras.callbacks import EarlyStopping\n",
    "import tensorflow as tf\n",
    "%matplotlib inline\n",
    "from keras.models import load_model\n",
    "from keras.models import model_from_json\n",
    "import h5py\n",
    "import warnings\n",
    "warnings.filterwarnings(\"ignore\")"
   ]
  },
  {
   "cell_type": "markdown",
   "id": "b2076bbf",
   "metadata": {
    "id": "3ad54def-2ed5-4dd7-ac31-cf79fc6c8c81"
   },
   "source": [
    "### Ingest data from S3"
   ]
  },
  {
   "cell_type": "code",
   "execution_count": 4,
   "id": "3ad4a2de",
   "metadata": {
    "id": "d3a5d48b-eff3-4ec6-93b2-5c8f2327751e"
   },
   "outputs": [],
   "source": [
    "BUCKET_TYPE=\"\"\n",
    "BUCKET_NAME=\"\"\n",
    "BUCKET_REGION=\"\"\n",
    "AWS_ACCESS_KEY_ID=\"\"\n",
    "AWS_SECRET_ACCESS_KEY=\"\""
   ]
  },
  {
   "cell_type": "code",
   "execution_count": 5,
   "id": "22e76d22",
   "metadata": {
    "id": "3711bbe9-0740-42bd-b293-f8b26176a4e1"
   },
   "outputs": [],
   "source": [
    "s3 = boto3.resource(\n",
    "    service_name = BUCKET_TYPE,\n",
    "    region_name = BUCKET_REGION,\n",
    "    aws_access_key_id = AWS_ACCESS_KEY_ID,\n",
    "    aws_secret_access_key = AWS_SECRET_ACCESS_KEY\n",
    ")"
   ]
  },
  {
   "cell_type": "code",
   "execution_count": 6,
   "id": "5fb8b56d",
   "metadata": {
    "id": "c690b090-020f-4a42-82bd-3245f8ffdd93"
   },
   "outputs": [
    {
     "data": {
      "text/plain": [
       "['15-day-pred.csv',\n",
       " 'Belgium-country-output.csv',\n",
       " 'Belgium-ts.csv',\n",
       " 'Risk-Index_data/',\n",
       " 'Risk-Index_data/ts-data-region-RI.csv',\n",
       " 'flanders-output.csv',\n",
       " 'my_pred_model_Belgium.h5',\n",
       " 'my_pred_model_Flanders.h5',\n",
       " 'pred-data-15.csv',\n",
       " 'pred-data.csv',\n",
       " 'pred-models/',\n",
       " 'raw-data/',\n",
       " 'raw-data/COVID19BE_CASES_AGESEX.csv',\n",
       " 'raw-data/COVID19BE_HOSP.csv',\n",
       " 'test-data.csv',\n",
       " 'test-y-data.csv',\n",
       " 'time-series-data/',\n",
       " 'time-series-data/Belgium-ts.csv',\n",
       " 'time-series-data/formatted/',\n",
       " 'time-series-data/formatted/Belgium-ts-21-04.csv',\n",
       " 'time-series-data/formatted/Belgium-ts.csv',\n",
       " 'time-series-data/formatted/Belgium-ts.xlsx',\n",
       " 'time-series-data/formatted/forecast-data-15.csv',\n",
       " 'time-series-data/formatted/results/',\n",
       " 'time-series-data/formatted/ts-Brussels-grouped-21-04.csv',\n",
       " 'time-series-data/formatted/ts-Brussels-grouped.csv',\n",
       " 'time-series-data/formatted/ts-Brussels-grouped.xlsx',\n",
       " 'time-series-data/formatted/ts-Flanders-grouped-21-04.csv',\n",
       " 'time-series-data/formatted/ts-Flanders-grouped.csv',\n",
       " 'time-series-data/formatted/ts-Flanders-grouped.xlsx',\n",
       " 'time-series-data/formatted/ts-Wallonia-grouped-21-04.csv',\n",
       " 'time-series-data/formatted/ts-Wallonia-grouped.csv',\n",
       " 'time-series-data/formatted/ts-Wallonia-grouped.xlsx',\n",
       " 'time-series-data/formatted/ts-data-region-21-04.csv',\n",
       " 'time-series-data/formatted/ts-data-region.csv',\n",
       " 'time-series-data/formatted/ts-data-region.xlsx',\n",
       " 'time-series-data/ts-Brussels-grouped.csv',\n",
       " 'time-series-data/ts-Flanders-grouped.csv',\n",
       " 'time-series-data/ts-Wallonia-grouped.csv',\n",
       " 'time-series-data/ts-data-region.csv',\n",
       " 'ts-Brussels.csv',\n",
       " 'ts-Flanders.csv',\n",
       " 'ts-Wallonia.csv',\n",
       " 'ts-data-region-RI.csv',\n",
       " 'ts-data-region.csv']"
      ]
     },
     "execution_count": 6,
     "metadata": {},
     "output_type": "execute_result"
    }
   ],
   "source": [
    "datasets = []\n",
    "for obj in s3.Bucket(BUCKET_NAME).objects.all():\n",
    "    datasets.append(obj.key)\n",
    "datasets"
   ]
  },
  {
   "cell_type": "code",
   "execution_count": 7,
   "id": "08307819",
   "metadata": {
    "id": "d55470be-437a-4be4-913b-12e83ca8b0a2"
   },
   "outputs": [
    {
     "data": {
      "text/html": [
       "<div>\n",
       "<style scoped>\n",
       "    .dataframe tbody tr th:only-of-type {\n",
       "        vertical-align: middle;\n",
       "    }\n",
       "\n",
       "    .dataframe tbody tr th {\n",
       "        vertical-align: top;\n",
       "    }\n",
       "\n",
       "    .dataframe thead th {\n",
       "        text-align: right;\n",
       "    }\n",
       "</style>\n",
       "<table border=\"1\" class=\"dataframe\">\n",
       "  <thead>\n",
       "    <tr style=\"text-align: right;\">\n",
       "      <th></th>\n",
       "      <th>Total_cases</th>\n",
       "    </tr>\n",
       "    <tr>\n",
       "      <th>DATE</th>\n",
       "      <th></th>\n",
       "    </tr>\n",
       "  </thead>\n",
       "  <tbody>\n",
       "    <tr>\n",
       "      <th>2020-03-15</th>\n",
       "      <td>963</td>\n",
       "    </tr>\n",
       "    <tr>\n",
       "      <th>2020-03-16</th>\n",
       "      <td>1600</td>\n",
       "    </tr>\n",
       "    <tr>\n",
       "      <th>2020-03-17</th>\n",
       "      <td>2287</td>\n",
       "    </tr>\n",
       "    <tr>\n",
       "      <th>2020-03-18</th>\n",
       "      <td>3233</td>\n",
       "    </tr>\n",
       "    <tr>\n",
       "      <th>2020-03-19</th>\n",
       "      <td>4040</td>\n",
       "    </tr>\n",
       "  </tbody>\n",
       "</table>\n",
       "</div>"
      ],
      "text/plain": [
       "            Total_cases\n",
       "DATE                   \n",
       "2020-03-15          963\n",
       "2020-03-16         1600\n",
       "2020-03-17         2287\n",
       "2020-03-18         3233\n",
       "2020-03-19         4040"
      ]
     },
     "execution_count": 7,
     "metadata": {},
     "output_type": "execute_result"
    }
   ],
   "source": [
    "obj = s3.Bucket(BUCKET_NAME).Object('Belgium-ts.csv').get()\n",
    "data = pd.read_csv(obj['Body'], index_col=0)\n",
    "data.head()"
   ]
  },
  {
   "cell_type": "markdown",
   "id": "c6ba15bd",
   "metadata": {
    "id": "1c00c027-bbd1-4700-ab81-3542a3d062e1"
   },
   "source": [
    "# Fix random seed for reproducibility"
   ]
  },
  {
   "cell_type": "code",
   "execution_count": 8,
   "id": "bcc483ea",
   "metadata": {
    "id": "73ccd036-f37a-4f88-9f6c-6f028ddc03f3"
   },
   "outputs": [],
   "source": [
    "tf.random.set_seed(1011)"
   ]
  },
  {
   "cell_type": "code",
   "execution_count": 9,
   "id": "dc6b7e8d",
   "metadata": {
    "id": "6467d15a-d246-42d6-8e55-711f33db9492"
   },
   "outputs": [],
   "source": [
    "series = data\n",
    "series = series.astype(float)"
   ]
  },
  {
   "cell_type": "markdown",
   "id": "4ea92cf3",
   "metadata": {
    "id": "f9e9690b-ab43-4454-9e6a-8cec4fc5c39e"
   },
   "source": [
    "# Plot the data"
   ]
  },
  {
   "cell_type": "code",
   "execution_count": 10,
   "id": "591a62b3",
   "metadata": {
    "id": "74d61eed-89a2-493d-bbe4-889e249b2237"
   },
   "outputs": [
    {
     "data": {
      "image/png": "[encoded data removed]",
      "text/plain": [
       "<Figure size 1440x432 with 1 Axes>"
      ]
     },
     "metadata": {
      "needs_background": "light"
     },
     "output_type": "display_data"
    }
   ],
   "source": [
    "plt.figure(figsize=(20,6))\n",
    "plt.plot(series.values)\n",
    "plt.show()"
   ]
  },
  {
   "cell_type": "markdown",
   "id": "9a18c3ca",
   "metadata": {
    "id": "ef8159c8-964c-4731-87ab-2758fd78be43"
   },
   "source": [
    "# Normalize the data"
   ]
  },
  {
   "cell_type": "code",
   "execution_count": 11,
   "id": "df11ddfd",
   "metadata": {
    "id": "a47bf6e1-625e-4ddd-9f71-a91dfd3c0291"
   },
   "outputs": [],
   "source": [
    "series = series.values\n",
    "scaler = MinMaxScaler(feature_range=(0, 1))\n",
    "series = scaler.fit_transform(series)"
   ]
  },
  {
   "cell_type": "markdown",
   "id": "bada1998",
   "metadata": {
    "id": "2fab920c-313e-476b-8027-5d1739bd9523"
   },
   "source": [
    "# Split the data into train and test with 80:20 ratio"
   ]
  },
  {
   "cell_type": "code",
   "execution_count": 12,
   "id": "d123f7e3",
   "metadata": {
    "id": "61f73c1a-1bd1-4c3e-8db2-c8ab4e111dc2"
   },
   "outputs": [
    {
     "name": "stdout",
     "output_type": "stream",
     "text": [
      "592 149\n"
     ]
    }
   ],
   "source": [
    "train_size = int(len(series) * 0.80)\n",
    "test_size = len(series) - train_size\n",
    "train, test = series[0:train_size,:], series[train_size:len(series),:]\n",
    "print(len(train), len(test))"
   ]
  },
  {
   "cell_type": "markdown",
   "id": "9ffd218f",
   "metadata": {
    "id": "e62e66e0-b2f3-462e-8877-0970e8d50536"
   },
   "source": [
    "# Helper function to generate the dataset with input(X) & output(Y) variables"
   ]
  },
  {
   "cell_type": "code",
   "execution_count": 13,
   "id": "7b9802ef",
   "metadata": {
    "id": "44e32eb3-3b9f-4aa4-b7cb-488a960531f3"
   },
   "outputs": [],
   "source": [
    "def create_dataset(dataset, look_back=1):\n",
    "    dataX, dataY = [], []\n",
    "    for i in range(len(dataset)-look_back-1):\n",
    "        a = dataset[i:(i+look_back), 0]\n",
    "        dataX.append(a)\n",
    "        dataY.append(dataset[i + look_back, 0])\n",
    "    return np.array(dataX), np.array(dataY)"
   ]
  },
  {
   "cell_type": "markdown",
   "id": "1a2b8b76",
   "metadata": {
    "id": "95172d6e-09a2-4854-8d75-857cce097041"
   },
   "source": [
    "# Create a dataset with a look back period of 'x' observations\n",
    "\n",
    "This is where we convert the time series problem into a regression problem"
   ]
  },
  {
   "cell_type": "code",
   "execution_count": 14,
   "id": "603fd6af",
   "metadata": {
    "id": "039e4b75-9ed5-48bf-bae6-3170a5892854"
   },
   "outputs": [],
   "source": [
    "look_back = 15\n",
    "trainX, trainY = create_dataset(train, look_back)\n",
    "testX, testY = create_dataset(test, look_back)"
   ]
  },
  {
   "cell_type": "markdown",
   "id": "d84a69da",
   "metadata": {
    "id": "95d25067-8527-4788-9e4d-1ae05ba7cf67"
   },
   "source": [
    "# Review the shape of datasets"
   ]
  },
  {
   "cell_type": "code",
   "execution_count": 15,
   "id": "5c50f6b5",
   "metadata": {
    "id": "42269fc6-f4da-44ec-8f47-60932f3ca47d"
   },
   "outputs": [
    {
     "data": {
      "text/plain": [
       "(576, 15)"
      ]
     },
     "execution_count": 15,
     "metadata": {},
     "output_type": "execute_result"
    }
   ],
   "source": [
    "trainX.shape"
   ]
  },
  {
   "cell_type": "code",
   "execution_count": 16,
   "id": "89422026",
   "metadata": {
    "id": "a929eb67-e4a8-4bec-af15-9a3bf120e736"
   },
   "outputs": [
    {
     "data": {
      "text/plain": [
       "(133, 15)"
      ]
     },
     "execution_count": 16,
     "metadata": {},
     "output_type": "execute_result"
    }
   ],
   "source": [
    "testX.shape"
   ]
  },
  {
   "cell_type": "markdown",
   "id": "a9c5586b",
   "metadata": {
    "id": "899ce0eb-ad6e-4019-a7b4-a56a176cc6ce"
   },
   "source": [
    "# Reshape the data to 3D\n",
    "\n",
    "The LSTM model requires the input data to be three dimensional"
   ]
  },
  {
   "cell_type": "code",
   "execution_count": 17,
   "id": "1bbd8cc4",
   "metadata": {
    "id": "2c894fa2-9360-4581-892c-29bb56452720"
   },
   "outputs": [],
   "source": [
    "trainX = np.reshape(trainX, (trainX.shape[0], trainX.shape[1], 1))\n",
    "testX = np.reshape(testX, (testX.shape[0], testX.shape[1], 1))"
   ]
  },
  {
   "cell_type": "code",
   "execution_count": 18,
   "id": "cfaa6f5a",
   "metadata": {
    "id": "b817515d-90f6-445a-aef3-fad24436ff84"
   },
   "outputs": [
    {
     "data": {
      "text/plain": [
       "(576, 15, 1)"
      ]
     },
     "execution_count": 18,
     "metadata": {},
     "output_type": "execute_result"
    }
   ],
   "source": [
    "trainX.shape"
   ]
  },
  {
   "cell_type": "markdown",
   "id": "d2e2ae50",
   "metadata": {
    "id": "85af5767-26fd-464a-857b-21c34ed61873"
   },
   "source": [
    "# Define the LSTM model\n",
    "\n",
    "Activation function will activate the neurons for the learning. Rectified linear unit (ReLu) is one of the most popular activations because the output does not go beyond 0.\n",
    "\n",
    "Units will be the number of neurons in the input & hidden layers.\n",
    "\n",
    "Stateful is where we define whether the previous information has to be remembered or not.\n",
    "\n",
    "Dropout is where we omit random neurons for each layer as per the value (0 to 1). In this case we omit 20% of the neurons.\n",
    "\n",
    "Optimiser is where the weights are back propagated through the network to enhance the learnings closer to the desired outcome. Adam optimiser is an efficient method for enhanced accuracy."
   ]
  },
  {
   "cell_type": "code",
   "execution_count": 19,
   "id": "41e64bca",
   "metadata": {
    "id": "61a43cc4-7207-47f9-a46c-7c73fcb0ef5f"
   },
   "outputs": [
    {
     "name": "stdout",
     "output_type": "stream",
     "text": [
      "Build Model...\n",
      "Model: \"sequential\"\n",
      "_________________________________________________________________\n",
      " Layer (type)                Output Shape              Param #   \n",
      "=================================================================\n",
      " lstm (LSTM)                 (None, 15, 90)            33120     \n",
      "                                                                 \n",
      " dropout (Dropout)           (None, 15, 90)            0         \n",
      "                                                                 \n",
      " lstm_1 (LSTM)               (None, 100)               76400     \n",
      "                                                                 \n",
      " dropout_1 (Dropout)         (None, 100)               0         \n",
      "                                                                 \n",
      " dense (Dense)               (None, 32)                3232      \n",
      "                                                                 \n",
      " dense_1 (Dense)             (None, 1)                 33        \n",
      "                                                                 \n",
      "=================================================================\n",
      "Total params: 112,785\n",
      "Trainable params: 112,785\n",
      "Non-trainable params: 0\n",
      "_________________________________________________________________\n"
     ]
    }
   ],
   "source": [
    "print('Build Model...')\n",
    "model = Sequential()\n",
    "model.add(LSTM(input_shape=(15,1), kernel_initializer=\"uniform\", return_sequences=True, stateful=False, units=90))\n",
    "model.add(Dropout(0.25))\n",
    "model.add(LSTM(100, kernel_initializer=\"uniform\", activation='relu',return_sequences=False))\n",
    "model.add(Dropout(0.15))\n",
    "model.add(Dense(32,kernel_initializer=\"uniform\",activation='relu'))\n",
    "model.add(Dense(1, activation='linear'))\n",
    "#optimizer = Adam(lr=0.0005)\n",
    "#model.compile(loss=\"mse\", optimizer=optimizer)\n",
    "model.compile(loss=\"mse\", optimizer='adam')\n",
    "model.summary()"
   ]
  },
  {
   "cell_type": "markdown",
   "id": "38c91a9d",
   "metadata": {
    "id": "24a3546d-b03d-4924-ab21-7ed9b435c10d"
   },
   "source": [
    "# Params Calculation\n",
    "\n",
    "params = 4 * (size_of_input + 1 * size_of_output) + 4 * size_of_output^2"
   ]
  },
  {
   "cell_type": "markdown",
   "id": "ac65bcd2",
   "metadata": {
    "id": "407d2bb1-048f-402d-b65f-962e23c9827b"
   },
   "source": [
    "# Optimize computation time using early stopping\n",
    "\n",
    "We monitor the accuracy of validation loss ('val_loss') and end the training if there's no improvement in the accuracy after five iterations ('patience=5')."
   ]
  },
  {
   "cell_type": "code",
   "execution_count": 20,
   "id": "ba5cbc09",
   "metadata": {
    "id": "0fe5c427-961b-4a32-92f3-03d03b6d96b3"
   },
   "outputs": [],
   "source": [
    "'''One of the methods to optimize computation time'''\n",
    "\n",
    "early_stopping=EarlyStopping(monitor='val_loss', patience=5, verbose=1, mode='auto')"
   ]
  },
  {
   "cell_type": "markdown",
   "id": "7fac61a3",
   "metadata": {
    "id": "3519a75f-6de2-4fca-bcd2-69a622b38868"
   },
   "source": [
    "# Fitting the model for training data"
   ]
  },
  {
   "cell_type": "code",
   "execution_count": 21,
   "id": "affaa725",
   "metadata": {
    "id": "b29f4018-d0f4-4c1d-9ae2-713ac11effd4"
   },
   "outputs": [
    {
     "name": "stdout",
     "output_type": "stream",
     "text": [
      "Epoch 1/25\n",
      "17/17 [==============================] - 4s 50ms/step - loss: 0.0060 - val_loss: 9.4764e-04\n",
      "Epoch 2/25\n",
      "17/17 [==============================] - 0s 25ms/step - loss: 0.0047 - val_loss: 0.0010\n",
      "Epoch 3/25\n",
      "17/17 [==============================] - 0s 25ms/step - loss: 0.0045 - val_loss: 9.4447e-04\n",
      "Epoch 4/25\n",
      "17/17 [==============================] - 0s 26ms/step - loss: 0.0042 - val_loss: 8.6960e-04\n",
      "Epoch 5/25\n",
      "17/17 [==============================] - 0s 26ms/step - loss: 0.0032 - val_loss: 7.0951e-04\n",
      "Epoch 6/25\n",
      "17/17 [==============================] - 0s 26ms/step - loss: 0.0026 - val_loss: 6.7340e-04\n",
      "Epoch 7/25\n",
      "17/17 [==============================] - 0s 26ms/step - loss: 0.0021 - val_loss: 8.4935e-04\n",
      "Epoch 8/25\n",
      "17/17 [==============================] - 0s 26ms/step - loss: 0.0020 - val_loss: 6.5225e-04\n",
      "Epoch 9/25\n",
      "17/17 [==============================] - 0s 25ms/step - loss: 0.0017 - val_loss: 6.9160e-04\n",
      "Epoch 10/25\n",
      "17/17 [==============================] - 0s 25ms/step - loss: 0.0016 - val_loss: 6.0300e-04\n",
      "Epoch 11/25\n",
      "17/17 [==============================] - 0s 25ms/step - loss: 0.0018 - val_loss: 5.2887e-04\n",
      "Epoch 12/25\n",
      "17/17 [==============================] - 0s 25ms/step - loss: 0.0015 - val_loss: 5.4038e-04\n",
      "Epoch 13/25\n",
      "17/17 [==============================] - 0s 25ms/step - loss: 0.0015 - val_loss: 5.3050e-04\n",
      "Epoch 14/25\n",
      "17/17 [==============================] - 0s 25ms/step - loss: 0.0013 - val_loss: 5.0033e-04\n",
      "Epoch 15/25\n",
      "17/17 [==============================] - 0s 25ms/step - loss: 0.0012 - val_loss: 5.2974e-04\n",
      "Epoch 16/25\n",
      "17/17 [==============================] - 0s 26ms/step - loss: 0.0012 - val_loss: 4.7455e-04\n",
      "Epoch 17/25\n",
      "17/17 [==============================] - 0s 25ms/step - loss: 0.0012 - val_loss: 5.2171e-04\n",
      "Epoch 18/25\n",
      "17/17 [==============================] - 0s 25ms/step - loss: 0.0011 - val_loss: 4.6085e-04\n",
      "Epoch 19/25\n",
      "17/17 [==============================] - 0s 26ms/step - loss: 0.0011 - val_loss: 4.6600e-04\n",
      "Epoch 20/25\n",
      "17/17 [==============================] - 0s 25ms/step - loss: 9.8675e-04 - val_loss: 4.6642e-04\n",
      "Epoch 21/25\n",
      "17/17 [==============================] - 0s 25ms/step - loss: 9.0189e-04 - val_loss: 4.8752e-04\n",
      "Epoch 22/25\n",
      "17/17 [==============================] - 0s 25ms/step - loss: 0.0010 - val_loss: 3.9116e-04\n",
      "Epoch 23/25\n",
      "17/17 [==============================] - 0s 25ms/step - loss: 9.4074e-04 - val_loss: 3.7492e-04\n",
      "Epoch 24/25\n",
      "17/17 [==============================] - 0s 25ms/step - loss: 9.5015e-04 - val_loss: 4.3240e-04\n",
      "Epoch 25/25\n",
      "17/17 [==============================] - 0s 25ms/step - loss: 9.4725e-04 - val_loss: 7.0661e-04\n",
      "> Compilation Time :  14.458081245422363\n"
     ]
    }
   ],
   "source": [
    "start = time.time()\n",
    "history = model.fit(trainX, trainY, batch_size=32, epochs=25, verbose=1, shuffle=False, validation_split=0.10, callbacks=[early_stopping])\n",
    "print(\"> Compilation Time : \", time.time() - start)"
   ]
  },
  {
   "cell_type": "markdown",
   "id": "f2625ca4",
   "metadata": {
    "id": "e532a7e5-b901-480a-bf1f-a9b55880ce20"
   },
   "source": [
    "# Create a function to calculate accuracy\n",
    "\n",
    "We will be using 'Mean Squared Error' & 'Root Mean Squared Error' functions to calculate accuracy"
   ]
  },
  {
   "cell_type": "code",
   "execution_count": 22,
   "id": "74150a59",
   "metadata": {
    "id": "b1cd7372-a823-44de-a328-b4e3d25a2601"
   },
   "outputs": [],
   "source": [
    "def model_score(model, trainX, trainY, testX, testY):\n",
    "    trainScore = model.evaluate(trainX, trainY, batch_size=72, verbose=0)\n",
    "    print('Train Score: %.5f MSE (%.2f RMSE)' % (trainScore, math.sqrt(trainScore)))\n",
    "    print('Train Accuracy: %.2f %%' % (100 - math.sqrt(trainScore)*100))\n",
    "\n",
    "    testScore = model.evaluate(testX, testY, batch_size=72, verbose=0)\n",
    "    print('Test Score: %.5f MSE (%.2f RMSE)' % (testScore, math.sqrt(testScore)))\n",
    "    print('Test Accuracy: %.2f %%' % (100 - math.sqrt(testScore)*100))\n",
    "    return trainScore, testScore"
   ]
  },
  {
   "cell_type": "markdown",
   "id": "0261cf49",
   "metadata": {
    "id": "379555e5-d0df-4ec9-8782-c8f6356086ec"
   },
   "source": [
    "# Check the Accuracy of the model"
   ]
  },
  {
   "cell_type": "code",
   "execution_count": 23,
   "id": "013997e0",
   "metadata": {
    "id": "3fcc3506-37cf-4a78-af71-1317dbecbab2"
   },
   "outputs": [
    {
     "name": "stdout",
     "output_type": "stream",
     "text": [
      "Train Score: 0.00120 MSE (0.03 RMSE)\n",
      "Train Accuracy: 96.54 %\n",
      "Test Score: 0.02388 MSE (0.15 RMSE)\n",
      "Test Accuracy: 84.55 %\n"
     ]
    },
    {
     "data": {
      "text/plain": [
       "(0.001195011311210692, 0.023876942694187164)"
      ]
     },
     "execution_count": 23,
     "metadata": {},
     "output_type": "execute_result"
    }
   ],
   "source": [
    "model_score(model, trainX, trainY, testX, testY)"
   ]
  },
  {
   "cell_type": "markdown",
   "id": "ba359dd4",
   "metadata": {
    "id": "2269a650-e7d4-4ebc-9dc8-9e66007e2e0e"
   },
   "source": [
    "# Review the learning of training & validation loss (error evaluation)"
   ]
  },
  {
   "cell_type": "code",
   "execution_count": 24,
   "id": "f8666657",
   "metadata": {
    "id": "2bac27cd-35ca-40e9-8667-f862472f4eaf"
   },
   "outputs": [
    {
     "data": {
      "image/png": "[encoded data removed]",
      "text/plain": [
       "<Figure size 432x288 with 1 Axes>"
      ]
     },
     "metadata": {
      "needs_background": "light"
     },
     "output_type": "display_data"
    }
   ],
   "source": [
    "'''Review the learning'''\n",
    "\n",
    "plt.plot(history.history['loss'])\n",
    "plt.plot(history.history['val_loss'])\n",
    "plt.show()"
   ]
  },
  {
   "cell_type": "markdown",
   "id": "acc1640c",
   "metadata": {
    "id": "059d6fdc-72cf-45d3-8ba1-3ccea5ba5304"
   },
   "source": [
    "# Get the configuration of the model\n",
    "\n",
    "This will give us an idea about all the parameters available and which ones have been choosen."
   ]
  },
  {
   "cell_type": "code",
   "execution_count": 25,
   "id": "737d9ad0",
   "metadata": {
    "id": "0e1c74e9-f513-4ab5-a4ff-cedffe2aa5af"
   },
   "outputs": [
    {
     "data": {
      "text/plain": [
       "{'name': 'sequential',\n",
       " 'layers': [{'class_name': 'InputLayer',\n",
       "   'config': {'batch_input_shape': (None, 15, 1),\n",
       "    'dtype': 'float32',\n",
       "    'sparse': False,\n",
       "    'ragged': False,\n",
       "    'name': 'lstm_input'}},\n",
       "  {'class_name': 'LSTM',\n",
       "   'config': {'name': 'lstm',\n",
       "    'trainable': True,\n",
       "    'batch_input_shape': (None, 15, 1),\n",
       "    'dtype': 'float32',\n",
       "    'return_sequences': True,\n",
       "    'return_state': False,\n",
       "    'go_backwards': False,\n",
       "    'stateful': False,\n",
       "    'unroll': False,\n",
       "    'time_major': False,\n",
       "    'units': 90,\n",
       "    'activation': 'tanh',\n",
       "    'recurrent_activation': 'hard_sigmoid',\n",
       "    'use_bias': True,\n",
       "    'kernel_initializer': {'class_name': 'RandomUniform',\n",
       "     'config': {'minval': -0.05, 'maxval': 0.05, 'seed': None}},\n",
       "    'recurrent_initializer': {'class_name': 'Orthogonal',\n",
       "     'config': {'gain': 1.0, 'seed': None}},\n",
       "    'bias_initializer': {'class_name': 'Zeros', 'config': {}},\n",
       "    'unit_forget_bias': True,\n",
       "    'kernel_regularizer': None,\n",
       "    'recurrent_regularizer': None,\n",
       "    'bias_regularizer': None,\n",
       "    'activity_regularizer': None,\n",
       "    'kernel_constraint': None,\n",
       "    'recurrent_constraint': None,\n",
       "    'bias_constraint': None,\n",
       "    'dropout': 0.0,\n",
       "    'recurrent_dropout': 0.0,\n",
       "    'implementation': 1}},\n",
       "  {'class_name': 'Dropout',\n",
       "   'config': {'name': 'dropout',\n",
       "    'trainable': True,\n",
       "    'dtype': 'float32',\n",
       "    'rate': 0.25,\n",
       "    'noise_shape': None,\n",
       "    'seed': None}},\n",
       "  {'class_name': 'LSTM',\n",
       "   'config': {'name': 'lstm_1',\n",
       "    'trainable': True,\n",
       "    'dtype': 'float32',\n",
       "    'return_sequences': False,\n",
       "    'return_state': False,\n",
       "    'go_backwards': False,\n",
       "    'stateful': False,\n",
       "    'unroll': False,\n",
       "    'time_major': False,\n",
       "    'units': 100,\n",
       "    'activation': 'relu',\n",
       "    'recurrent_activation': 'hard_sigmoid',\n",
       "    'use_bias': True,\n",
       "    'kernel_initializer': {'class_name': 'RandomUniform',\n",
       "     'config': {'minval': -0.05, 'maxval': 0.05, 'seed': None}},\n",
       "    'recurrent_initializer': {'class_name': 'Orthogonal',\n",
       "     'config': {'gain': 1.0, 'seed': None}},\n",
       "    'bias_initializer': {'class_name': 'Zeros', 'config': {}},\n",
       "    'unit_forget_bias': True,\n",
       "    'kernel_regularizer': None,\n",
       "    'recurrent_regularizer': None,\n",
       "    'bias_regularizer': None,\n",
       "    'activity_regularizer': None,\n",
       "    'kernel_constraint': None,\n",
       "    'recurrent_constraint': None,\n",
       "    'bias_constraint': None,\n",
       "    'dropout': 0.0,\n",
       "    'recurrent_dropout': 0.0,\n",
       "    'implementation': 1}},\n",
       "  {'class_name': 'Dropout',\n",
       "   'config': {'name': 'dropout_1',\n",
       "    'trainable': True,\n",
       "    'dtype': 'float32',\n",
       "    'rate': 0.15,\n",
       "    'noise_shape': None,\n",
       "    'seed': None}},\n",
       "  {'class_name': 'Dense',\n",
       "   'config': {'name': 'dense',\n",
       "    'trainable': True,\n",
       "    'dtype': 'float32',\n",
       "    'units': 32,\n",
       "    'activation': 'relu',\n",
       "    'use_bias': True,\n",
       "    'kernel_initializer': {'class_name': 'RandomUniform',\n",
       "     'config': {'minval': -0.05, 'maxval': 0.05, 'seed': None}},\n",
       "    'bias_initializer': {'class_name': 'Zeros', 'config': {}},\n",
       "    'kernel_regularizer': None,\n",
       "    'bias_regularizer': None,\n",
       "    'activity_regularizer': None,\n",
       "    'kernel_constraint': None,\n",
       "    'bias_constraint': None}},\n",
       "  {'class_name': 'Dense',\n",
       "   'config': {'name': 'dense_1',\n",
       "    'trainable': True,\n",
       "    'dtype': 'float32',\n",
       "    'units': 1,\n",
       "    'activation': 'linear',\n",
       "    'use_bias': True,\n",
       "    'kernel_initializer': {'class_name': 'GlorotUniform',\n",
       "     'config': {'seed': None}},\n",
       "    'bias_initializer': {'class_name': 'Zeros', 'config': {}},\n",
       "    'kernel_regularizer': None,\n",
       "    'bias_regularizer': None,\n",
       "    'activity_regularizer': None,\n",
       "    'kernel_constraint': None,\n",
       "    'bias_constraint': None}}]}"
      ]
     },
     "execution_count": 25,
     "metadata": {},
     "output_type": "execute_result"
    }
   ],
   "source": [
    "model.get_config()"
   ]
  },
  {
   "cell_type": "markdown",
   "id": "70441348",
   "metadata": {
    "id": "0bf2f601-26f5-4d53-9a9a-82c78287cd85"
   },
   "source": [
    "# Create a function to plot predicted vs actual values"
   ]
  },
  {
   "cell_type": "code",
   "execution_count": 26,
   "id": "5e811df5",
   "metadata": {
    "id": "1c98b370-bca8-4f0f-b122-b11431c18f09"
   },
   "outputs": [],
   "source": [
    "def plot_the_results(predicted_data, true_data, prediction_len):\n",
    "    fig = plt.figure(facecolor='white', figsize=(16,8))\n",
    "    ax = fig.add_subplot(111)\n",
    "    ax.plot(true_data, label='True Data')\n",
    "    for i, data in enumerate(predicted_data):\n",
    "        padding = [None for p in range(i * prediction_len)]\n",
    "        plt.plot(padding + data, label='Prediction')\n",
    "        plt.plot(padding + data, 'b^')\n",
    "    plt.show()"
   ]
  },
  {
   "cell_type": "markdown",
   "id": "de6e2f8d",
   "metadata": {
    "id": "7b97e59b-a446-484b-9ee5-c0aef97c9c43"
   },
   "source": [
    "# Create a function to predict future values"
   ]
  },
  {
   "cell_type": "code",
   "execution_count": 27,
   "id": "bdbbf2a0",
   "metadata": {
    "id": "b9dbebb7-fae8-4fda-b0ed-d957cb83b47d"
   },
   "outputs": [],
   "source": [
    "def predict_the_sequences(model, data, window_size, prediction_len):\n",
    "    prediction_seqs = []\n",
    "    for i in range(int(len(data)/prediction_len)):\n",
    "        curr_frame = data[i*prediction_len]\n",
    "        predicted = []\n",
    "        for j in range(prediction_len):\n",
    "            predicted.append(model.predict(curr_frame[newaxis,:,:])[0,0])\n",
    "            curr_frame = curr_frame[1:]\n",
    "            curr_frame = np.insert(curr_frame, [window_size-1], predicted[-1], axis=0)\n",
    "        prediction_seqs.append(predicted)\n",
    "    return prediction_seqs"
   ]
  },
  {
   "cell_type": "markdown",
   "id": "330d8546",
   "metadata": {
    "id": "b1c27577-709c-4eb9-96c9-19a69c60d967"
   },
   "source": [
    "### Predict future values & plot the results\n",
    "\n",
    "In this case, we are predicting the current values.\n",
    "If we need to predict t+1 then the prediction_len parameter has to be changed to 2\n",
    "and if we need t+2 then prediction_len would be 3."
   ]
  },
  {
   "cell_type": "code",
   "execution_count": 28,
   "id": "a9dbdc2e",
   "metadata": {
    "id": "434ddcb5-4fc4-42e0-9855-967d4dce9ae9"
   },
   "outputs": [
    {
     "data": {
      "image/png": "[encoded data removed]",
      "text/plain": [
       "<Figure size 1152x576 with 1 Axes>"
      ]
     },
     "metadata": {},
     "output_type": "display_data"
    }
   ],
   "source": [
    "predictions = predict_the_sequences(model, testX, 15, 1)\n",
    "\n",
    "plot_the_results(predictions, testY, 1)"
   ]
  },
  {
   "cell_type": "code",
   "execution_count": 29,
   "id": "511b7d18",
   "metadata": {
    "id": "8548474a-2437-4f10-a5da-fda80e9a40a5"
   },
   "outputs": [],
   "source": [
    "predictions1 = predict_the_sequences(model, testX, 15, 15)"
   ]
  },
  {
   "cell_type": "code",
   "execution_count": 30,
   "id": "b5491371",
   "metadata": {
    "id": "17f1b7c2-ed77-48f6-bbcc-a511adf962bf"
   },
   "outputs": [
    {
     "data": {
      "text/plain": [
       "[[0.2102284,\n",
       "  0.21795245,\n",
       "  0.22674854,\n",
       "  0.23583354,\n",
       "  0.24559796,\n",
       "  0.25708124,\n",
       "  0.2717044,\n",
       "  0.28730506,\n",
       "  0.30362257,\n",
       "  0.32113716,\n",
       "  0.33898714,\n",
       "  0.35792777,\n",
       "  0.38100815,\n",
       "  0.4052815,\n",
       "  0.4311779],\n",
       " [0.3868428,\n",
       "  0.40419,\n",
       "  0.4245236,\n",
       "  0.44770333,\n",
       "  0.47801006,\n",
       "  0.5105451,\n",
       "  0.545701,\n",
       "  0.5835329,\n",
       "  0.6245325,\n",
       "  0.66698474,\n",
       "  0.7126647,\n",
       "  0.7680806,\n",
       "  0.82696307,\n",
       "  0.89033276,\n",
       "  0.9595093],\n",
       " [0.288075,\n",
       "  0.28301945,\n",
       "  0.2842213,\n",
       "  0.29621395,\n",
       "  0.31113285,\n",
       "  0.3282889,\n",
       "  0.34736112,\n",
       "  0.36836305,\n",
       "  0.38973242,\n",
       "  0.4124316,\n",
       "  0.4407637,\n",
       "  0.47023606,\n",
       "  0.5014185,\n",
       "  0.5346378,\n",
       "  0.5705037],\n",
       " [0.118807346,\n",
       "  0.113077655,\n",
       "  0.111963466,\n",
       "  0.11249697,\n",
       "  0.114021376,\n",
       "  0.11623551,\n",
       "  0.11922231,\n",
       "  0.12226623,\n",
       "  0.12543769,\n",
       "  0.13038184,\n",
       "  0.13528055,\n",
       "  0.14035821,\n",
       "  0.14556736,\n",
       "  0.15077831,\n",
       "  0.15573783],\n",
       " [0.39995936,\n",
       "  0.41776705,\n",
       "  0.43900064,\n",
       "  0.4639075,\n",
       "  0.49242753,\n",
       "  0.52350193,\n",
       "  0.5562971,\n",
       "  0.59456676,\n",
       "  0.64107174,\n",
       "  0.6904511,\n",
       "  0.74205106,\n",
       "  0.79677504,\n",
       "  0.8563033,\n",
       "  0.9193088,\n",
       "  0.988213],\n",
       " [0.941224,\n",
       "  0.97992927,\n",
       "  1.0329452,\n",
       "  1.0998563,\n",
       "  1.1815147,\n",
       "  1.2724423,\n",
       "  1.3746042,\n",
       "  1.5057356,\n",
       "  1.643185,\n",
       "  1.7891252,\n",
       "  1.9449743,\n",
       "  2.1140027,\n",
       "  2.2902598,\n",
       "  2.4827108,\n",
       "  2.7153563],\n",
       " [0.37288606,\n",
       "  0.36615667,\n",
       "  0.36973733,\n",
       "  0.38208503,\n",
       "  0.39794785,\n",
       "  0.4178557,\n",
       "  0.4533339,\n",
       "  0.48653302,\n",
       "  0.51966155,\n",
       "  0.55436116,\n",
       "  0.591136,\n",
       "  0.6292548,\n",
       "  0.6707886,\n",
       "  0.72237056,\n",
       "  0.77584356],\n",
       " [0.15380624,\n",
       "  0.15261777,\n",
       "  0.15476231,\n",
       "  0.15810569,\n",
       "  0.16284502,\n",
       "  0.17128304,\n",
       "  0.17990038,\n",
       "  0.1885762,\n",
       "  0.19741637,\n",
       "  0.20650536,\n",
       "  0.21574627,\n",
       "  0.22547565,\n",
       "  0.23776111,\n",
       "  0.25026143,\n",
       "  0.2635215]]"
      ]
     },
     "execution_count": 30,
     "metadata": {},
     "output_type": "execute_result"
    }
   ],
   "source": [
    "predictions1"
   ]
  },
  {
   "cell_type": "code",
   "execution_count": 31,
   "id": "cfc9b684",
   "metadata": {
    "id": "411a6d88-4173-475e-8a95-759db8990b59"
   },
   "outputs": [
    {
     "name": "stdout",
     "output_type": "stream",
     "text": [
      "        0        1        2        3        4         5         6         7   \\\n",
      "0  17105.0  17732.0  18446.0  19183.0  19976.0   20907.0   22094.0   23360.0   \n",
      "1  31437.0  32845.0  34495.0  36376.0  38835.0   41475.0   44328.0   47398.0   \n",
      "2  23422.0  23012.0  23110.0  24083.0  25293.0   26686.0   28233.0   29938.0   \n",
      "3   9687.0   9222.0   9131.0   9175.0   9298.0    9478.0    9721.0    9968.0   \n",
      "4  32502.0  33947.0  35670.0  37691.0  40005.0   42527.0   45188.0   48293.0   \n",
      "5  76424.0  79564.0  83866.0  89296.0  95922.0  103301.0  111591.0  122232.0   \n",
      "6  30305.0  29759.0  30049.0  31051.0  32338.0   33954.0   36833.0   39527.0   \n",
      "7  12527.0  12430.0  12604.0  12876.0  13260.0   13945.0   14644.0   15348.0   \n",
      "\n",
      "         8         9         10        11        12        13        14  \n",
      "0   24684.0   26105.0   27554.0   29091.0   30964.0   32933.0   35035.0  \n",
      "1   50725.0   54170.0   57877.0   62373.0   67152.0   72294.0   77907.0  \n",
      "2   31672.0   33514.0   35813.0   38204.0   40735.0   43430.0   46341.0  \n",
      "3   10225.0   10626.0   11024.0   11436.0   11858.0   12281.0   12684.0  \n",
      "4   52067.0   56074.0   60261.0   64702.0   69532.0   74645.0   80237.0  \n",
      "5  133386.0  145228.0  157875.0  171591.0  185894.0  201511.0  220389.0  \n",
      "6   42215.0   45031.0   48015.0   51108.0   54478.0   58664.0   63003.0  \n",
      "7   16066.0   16803.0   17553.0   18343.0   19340.0   20354.0   21430.0  \n"
     ]
    }
   ],
   "source": [
    "predictions1 = scaler.inverse_transform(predictions1)\n",
    "results1 = pd.DataFrame(np.round(predictions1[-10:]))\n",
    "print(results1)"
   ]
  },
  {
   "cell_type": "markdown",
   "id": "e5eca705",
   "metadata": {
    "id": "b0a36959-d324-46c6-9a97-d1c82a0416b5"
   },
   "source": [
    "## Create a dataframe for predicted results"
   ]
  },
  {
   "cell_type": "code",
   "execution_count": 32,
   "id": "eff70bb9",
   "metadata": {
    "id": "4fc5ce05-02f8-44e6-915d-99cd820b2389"
   },
   "outputs": [
    {
     "data": {
      "text/html": [
       "<div>\n",
       "<style scoped>\n",
       "    .dataframe tbody tr th:only-of-type {\n",
       "        vertical-align: middle;\n",
       "    }\n",
       "\n",
       "    .dataframe tbody tr th {\n",
       "        vertical-align: top;\n",
       "    }\n",
       "\n",
       "    .dataframe thead th {\n",
       "        text-align: right;\n",
       "    }\n",
       "</style>\n",
       "<table border=\"1\" class=\"dataframe\">\n",
       "  <thead>\n",
       "    <tr style=\"text-align: right;\">\n",
       "      <th></th>\n",
       "      <th>0</th>\n",
       "      <th>1</th>\n",
       "      <th>2</th>\n",
       "      <th>3</th>\n",
       "      <th>4</th>\n",
       "      <th>5</th>\n",
       "      <th>6</th>\n",
       "      <th>7</th>\n",
       "      <th>8</th>\n",
       "      <th>9</th>\n",
       "      <th>10</th>\n",
       "      <th>11</th>\n",
       "      <th>12</th>\n",
       "      <th>13</th>\n",
       "      <th>14</th>\n",
       "    </tr>\n",
       "  </thead>\n",
       "  <tbody>\n",
       "    <tr>\n",
       "      <th>0</th>\n",
       "      <td>12527.0</td>\n",
       "      <td>12430.0</td>\n",
       "      <td>12604.0</td>\n",
       "      <td>12876.0</td>\n",
       "      <td>13260.0</td>\n",
       "      <td>13945.0</td>\n",
       "      <td>14644.0</td>\n",
       "      <td>15348.0</td>\n",
       "      <td>16066.0</td>\n",
       "      <td>16803.0</td>\n",
       "      <td>17553.0</td>\n",
       "      <td>18343.0</td>\n",
       "      <td>19340.0</td>\n",
       "      <td>20354.0</td>\n",
       "      <td>21430.0</td>\n",
       "    </tr>\n",
       "  </tbody>\n",
       "</table>\n",
       "</div>"
      ],
      "text/plain": [
       "        0        1        2        3        4        5        6        7   \\\n",
       "0  12527.0  12430.0  12604.0  12876.0  13260.0  13945.0  14644.0  15348.0   \n",
       "\n",
       "        8        9        10       11       12       13       14  \n",
       "0  16066.0  16803.0  17553.0  18343.0  19340.0  20354.0  21430.0  "
      ]
     },
     "execution_count": 32,
     "metadata": {},
     "output_type": "execute_result"
    }
   ],
   "source": [
    "results=pd.DataFrame(np.round(predictions1[-1:]))\n",
    "results"
   ]
  },
  {
   "cell_type": "markdown",
   "id": "ab3f3e4f",
   "metadata": {
    "id": "e58d2892-8edd-4d63-b654-1abc080f663f"
   },
   "source": [
    "## Save the predicted output to S3 "
   ]
  },
  {
   "cell_type": "code",
   "execution_count": 33,
   "id": "cbe601f1",
   "metadata": {
    "id": "25e1d214-09ea-40d9-b03e-dde258d27ca4"
   },
   "outputs": [
    {
     "name": "stdout",
     "output_type": "stream",
     "text": [
      "Dataframe is saved as CSV in S3 bucket.\n"
     ]
    }
   ],
   "source": [
    "from io import StringIO\n",
    "import boto3\n",
    "\n",
    "#Creating Session With Boto3.\n",
    "\n",
    "session = boto3.Session(\n",
    "aws_access_key_id='',\n",
    "aws_secret_access_key=''\n",
    ")\n",
    "\n",
    "#Creating S3 Resource From the Session.\n",
    "s3_res = session.resource('s3')\n",
    "csv_buffer = StringIO()\n",
    "results.to_csv(csv_buffer)\n",
    "\n",
    "bucket_name = 'ibm-aws-immersion-day-lab-1'\n",
    "s3_object_name = 'Belgium-country-output.csv'\n",
    "\n",
    "s3_res.Object(bucket_name, s3_object_name).put(Body=csv_buffer.getvalue())\n",
    "print(\"Dataframe is saved as CSV in S3 bucket.\")"
   ]
  },
  {
   "cell_type": "markdown",
   "id": "9c1a87a5",
   "metadata": {
    "id": "a427169a-3976-4acd-8717-2035c791be00"
   },
   "source": [
    "## Follow the earlier steps with multiple iterations by changing the hyperparameters for better understanding of the flow."
   ]
  },
  {
   "cell_type": "markdown",
   "id": "9a6a43ae",
   "metadata": {
    "id": "1d736fb0-f97e-4f99-b160-45965ac97c50"
   },
   "source": [
    "We can use model.save(filepath) to save a Keras model into a single HDF5 file which will contain:\n",
    "\n",
    "The architecture of the model, allowing to re-create the model.\n",
    "\n",
    "The weights of the model.\n",
    "\n",
    "The training configuration (loss, optimizer).\n",
    "\n",
    "The state of the optimizer, allowing to resume training exactly where you left off."
   ]
  },
  {
   "cell_type": "markdown",
   "id": "c99481c7",
   "metadata": {
    "id": "0b4ae510-6968-47c4-932e-9098c418a1cd"
   },
   "source": [
    "# Transfer Learning\n",
    "\n",
    "Save the model for future use on new data"
   ]
  },
  {
   "cell_type": "markdown",
   "id": "26ae2f37",
   "metadata": {
    "id": "aa1fa03d-923a-4ef7-a809-64921d7b0616"
   },
   "source": [
    "## Get the current working directory"
   ]
  },
  {
   "cell_type": "code",
   "execution_count": 34,
   "id": "b60f0ded",
   "metadata": {
    "id": "31b1173d-e443-4d93-8618-d1261a1eb4a1"
   },
   "outputs": [
    {
     "data": {
      "text/plain": [
       "'/home/wsuser/work'"
      ]
     },
     "execution_count": 34,
     "metadata": {},
     "output_type": "execute_result"
    }
   ],
   "source": [
    "import os\n",
    "os.getcwd()"
   ]
  },
  {
   "cell_type": "markdown",
   "id": "58288639",
   "metadata": {
    "id": "f9eb45f9-c5c9-48c8-9d65-2cb6368e41b3"
   },
   "source": [
    "## Save the model to home directory"
   ]
  },
  {
   "cell_type": "code",
   "execution_count": 35,
   "id": "4d7e9411",
   "metadata": {
    "id": "ef7afd0f-99c8-449f-b0de-4288f372b065"
   },
   "outputs": [
    {
     "name": "stdout",
     "output_type": "stream",
     "text": [
      "Model saved to disc\n"
     ]
    }
   ],
   "source": [
    "model.save('/home/wsuser/work/my_pred_model_Belgium.h5')\n",
    "print('Model saved to disc')"
   ]
  },
  {
   "cell_type": "markdown",
   "id": "769397f1",
   "metadata": {
    "id": "5986e53b-5ba2-4070-a795-e39227789d3e"
   },
   "source": [
    "## Save the model to S3 Bucket"
   ]
  },
  {
   "cell_type": "code",
   "execution_count": 36,
   "id": "efc6e248",
   "metadata": {
    "id": "47613d8c-2720-41b2-a7cc-57adbb3feb71"
   },
   "outputs": [
    {
     "name": "stdout",
     "output_type": "stream",
     "text": [
      "Model saved to S3 bucket\n"
     ]
    }
   ],
   "source": [
    "from keras.models import load_model\n",
    "import boto3\n",
    "\n",
    "session = boto3.Session(\n",
    "aws_access_key_id='',\n",
    "aws_secret_access_key=''\n",
    ")\n",
    "\n",
    "csv_buffer = StringIO()\n",
    "\n",
    "bucket_name = 'ibm-aws-immersion-day-lab-1'\n",
    "s3_object_name = 'my_pred_model_Belgium.h5'\n",
    "\n",
    "s3_res.Object(bucket_name, s3_object_name).put(Body=csv_buffer.getvalue())\n",
    "print('Model saved to S3 bucket')"
   ]
  },
  {
   "cell_type": "markdown",
   "id": "01145dba",
   "metadata": {
    "id": "38050048-c379-4f57-a8e2-78cf90c4a35a"
   },
   "source": [
    "# Load the model"
   ]
  },
  {
   "cell_type": "code",
   "execution_count": 37,
   "id": "13494c0e",
   "metadata": {
    "id": "6bc9425f-e45b-46e6-bf94-328436a3b842"
   },
   "outputs": [
    {
     "name": "stdout",
     "output_type": "stream",
     "text": [
      "Model loaded to the session\n"
     ]
    }
   ],
   "source": [
    "model = load_model('/home/wsuser/work/my_pred_model_Belgium.h5')\n",
    "print('Model loaded to the session')"
   ]
  },
  {
   "cell_type": "markdown",
   "id": "03cd9dca",
   "metadata": {
    "id": "b8a64c4f-2fbd-49a3-bc73-e85971c1177b"
   },
   "source": [
    "# Methodology to save the model's architecture and weights for reusability in the future\n",
    "We can use these weights alone which has the learnings on other data."
   ]
  },
  {
   "cell_type": "code",
   "execution_count": 38,
   "id": "829fa9dc",
   "metadata": {
    "id": "7a88a4c0-4277-43ef-91c0-7c5e5d231cfb"
   },
   "outputs": [
    {
     "name": "stdout",
     "output_type": "stream",
     "text": [
      "Saved model & weights to disk\n"
     ]
    }
   ],
   "source": [
    "model_json = model.to_json()\n",
    "with open('/home/wsuser/work/my_pred_model_Belgium.json', \"w\") as json_file:\n",
    "    json_file.write(model_json)\n",
    "\n",
    "model.save_weights(\"/home/wsuser/work/pred_model_Belgium_weights.h5\")\n",
    "print(\"Saved model & weights to disk\")"
   ]
  },
  {
   "cell_type": "markdown",
   "id": "c7c22f2c",
   "metadata": {
    "id": "4f04b316-7ffb-4a68-9c12-c1fba91f3e98"
   },
   "source": [
    "# By loading the model architecture, we can rebuild the model with different configuration\n",
    "\n",
    "We can also use the existing weights on the new architecture."
   ]
  },
  {
   "cell_type": "code",
   "execution_count": 39,
   "id": "a27175f9",
   "metadata": {
    "id": "573d91cb-7d8a-4ada-9576-cf3c2f055dc8"
   },
   "outputs": [
    {
     "name": "stdout",
     "output_type": "stream",
     "text": [
      "Loaded model & weights from disk\n"
     ]
    }
   ],
   "source": [
    "json_file = open('/home/wsuser/work/my_pred_model_Belgium.json', 'r')\n",
    "loaded_model_json = json_file.read()\n",
    "json_file.close()\n",
    "loaded_model = model_from_json(loaded_model_json)\n",
    "\n",
    "\n",
    "loaded_model.load_weights(\"/home/wsuser/work/pred_model_Belgium_weights.h5\")\n",
    "print(\"Loaded model & weights from disk\")"
   ]
  },
  {
   "cell_type": "markdown",
   "id": "instant-matter",
   "metadata": {
    "id": "986bfd46-d56d-4deb-9667-bbc72c80f896"
   },
   "source": [
    "We can sum up the learnings of LSTM and its advantages. We have learned how to create and deploy a deep learning model, save the model, architecture & weights for future use. We have also learned how to evaluate the model & tune the parameters. LSTM is a very popular technique which can be applied to different usecases and can produce great results. "
   ]
  },
  {
   "cell_type": "code",
   "execution_count": 40,
   "id": "addressed-billy",
   "metadata": {
    "id": "cf8aabfcb22048648936cf8befb45d7b"
   },
   "outputs": [
    {
     "name": "stdout",
     "output_type": "stream",
     "text": [
      "> The Notebook ran in :  29.14\n"
     ]
    }
   ],
   "source": [
    "print(\"> The Notebook ran in : \", round(time.time() - st,2))"
   ]
  }
 ],
 "metadata": {
  "kernelspec": {
   "display_name": "Python 3 (ipykernel)",
   "language": "python",
   "name": "python3"
  },
  "language_info": {
   "codemirror_mode": {
    "name": "ipython",
    "version": 3
   },
   "file_extension": ".py",
   "mimetype": "text/x-python",
   "name": "python",
   "nbconvert_exporter": "python",
   "pygments_lexer": "ipython3",
   "version": "3.8.9"
  }
 },
 "nbformat": 4,
 "nbformat_minor": 5
}
