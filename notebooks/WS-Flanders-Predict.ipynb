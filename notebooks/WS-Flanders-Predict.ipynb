{
 "cells": [
  {
   "cell_type": "markdown",
   "id": "theoretical-naples",
   "metadata": {
    "id": "02d89948-d805-49b4-a673-f618e4691092"
   },
   "source": [
    "# Future cases forecasting using Deep Learning - LSTM (Long 'Short Term Memory')\n",
    "\n",
    "LSTM is one of the prominent techniques under Recurrent Neural Netrowk which is known to remember long sequences over time."
   ]
  },
  {
   "cell_type": "code",
   "execution_count": 1,
   "id": "better-architecture",
   "metadata": {
    "id": "b9a9b0b363a848318825fc59f657f642"
   },
   "outputs": [],
   "source": [
    "import time\n",
    "st = time.time()"
   ]
  },
  {
   "cell_type": "markdown",
   "id": "front-louisville",
   "metadata": {
    "id": "1859ae17-256b-4175-bbbb-989e1eaa6d7c"
   },
   "source": [
    "## 1. Setup\n",
    "To prepare your environment, you need to install some packages.\n",
    "\n",
    "### 1.1 Install the necessary packages\n",
    "\n",
    "You need the latest versions of these packages:<br> We will be using Keras modules which runs on top of TensorFlow"
   ]
  },
  {
   "cell_type": "code",
   "execution_count": 2,
   "id": "romance-clear",
   "metadata": {
    "id": "dc8319f5-de06-4e01-8ce4-173f581dd65c"
   },
   "outputs": [
    {
     "name": "stdout",
     "output_type": "stream",
     "text": [
      "Python 3.8.11\r\n"
     ]
    }
   ],
   "source": [
    "!python -V"
   ]
  },
  {
   "cell_type": "code",
   "execution_count": 3,
   "id": "e9ffbac4",
   "metadata": {
    "id": "9ae04f09-e33c-4c1e-a258-509e1342da6e"
   },
   "outputs": [
    {
     "name": "stdout",
     "output_type": "stream",
     "text": [
      "Requirement already satisfied: tensorflow in /opt/conda/envs/Python-3.8-main/lib/python3.8/site-packages (2.2.0)\n",
      "Requirement already satisfied: google-pasta>=0.1.8 in /opt/conda/envs/Python-3.8-main/lib/python3.8/site-packages (from tensorflow) (0.2.0)\n",
      "Requirement already satisfied: protobuf>=3.8.0 in /opt/conda/envs/Python-3.8-main/lib/python3.8/site-packages (from tensorflow) (3.11.2)\n",
      "Requirement already satisfied: h5py<2.11.0,>=2.10.0 in /opt/conda/envs/Python-3.8-main/lib/python3.8/site-packages (from tensorflow) (2.10.0)\n",
      "Requirement already satisfied: absl-py>=0.7.0 in /opt/conda/envs/Python-3.8-main/lib/python3.8/site-packages (from tensorflow) (0.10.0)\n",
      "Requirement already satisfied: opt-einsum>=2.3.2 in /opt/conda/envs/Python-3.8-main/lib/python3.8/site-packages (from tensorflow) (3.1.0)\n",
      "Requirement already satisfied: termcolor>=1.1.0 in /opt/conda/envs/Python-3.8-main/lib/python3.8/site-packages (from tensorflow) (1.1.0)\n",
      "Requirement already satisfied: numpy<2.0,>=1.16.0 in /opt/conda/envs/Python-3.8-main/lib/python3.8/site-packages (from tensorflow) (1.19.2)\n",
      "Requirement already satisfied: tensorflow-estimator<2.3.0,>=2.2.0 in /opt/conda/envs/Python-3.8-main/lib/python3.8/site-packages (from tensorflow) (2.2.0)\n",
      "Requirement already satisfied: keras-preprocessing>=1.1.0 in /opt/conda/envs/Python-3.8-main/lib/python3.8/site-packages (from tensorflow) (1.1.2)\n",
      "Requirement already satisfied: scipy==1.4.1 in /opt/conda/envs/Python-3.8-main/lib/python3.8/site-packages (from tensorflow) (1.4.1)\n",
      "Requirement already satisfied: six>=1.12.0 in /opt/conda/envs/Python-3.8-main/lib/python3.8/site-packages (from tensorflow) (1.15.0)\n",
      "Requirement already satisfied: tensorboard<2.3.0,>=2.2.0 in /opt/conda/envs/Python-3.8-main/lib/python3.8/site-packages (from tensorflow) (2.2.2)\n",
      "Requirement already satisfied: grpcio>=1.8.6 in /opt/conda/envs/Python-3.8-main/lib/python3.8/site-packages (from tensorflow) (1.35.0)\n",
      "Requirement already satisfied: wheel>=0.26 in /opt/conda/envs/Python-3.8-main/lib/python3.8/site-packages (from tensorflow) (0.35.1)\n",
      "Requirement already satisfied: wrapt>=1.11.1 in /opt/conda/envs/Python-3.8-main/lib/python3.8/site-packages (from tensorflow) (1.12.1)\n",
      "Requirement already satisfied: astunparse==1.6.3 in /opt/conda/envs/Python-3.8-main/lib/python3.8/site-packages (from tensorflow) (1.6.3)\n",
      "Requirement already satisfied: gast==0.3.3 in /opt/conda/envs/Python-3.8-main/lib/python3.8/site-packages (from tensorflow) (0.3.3)\n",
      "Requirement already satisfied: setuptools in /opt/conda/envs/Python-3.8-main/lib/python3.8/site-packages (from protobuf>=3.8.0->tensorflow) (52.0.0.post20211006)\n",
      "Requirement already satisfied: google-auth-oauthlib<0.5,>=0.4.1 in /opt/conda/envs/Python-3.8-main/lib/python3.8/site-packages (from tensorboard<2.3.0,>=2.2.0->tensorflow) (0.4.4)\n",
      "Requirement already satisfied: tensorboard-plugin-wit>=1.6.0 in /opt/conda/envs/Python-3.8-main/lib/python3.8/site-packages (from tensorboard<2.3.0,>=2.2.0->tensorflow) (1.6.0)\n",
      "Requirement already satisfied: google-auth<2,>=1.6.3 in /opt/conda/envs/Python-3.8-main/lib/python3.8/site-packages (from tensorboard<2.3.0,>=2.2.0->tensorflow) (1.23.0)\n",
      "Requirement already satisfied: requests<3,>=2.21.0 in /opt/conda/envs/Python-3.8-main/lib/python3.8/site-packages (from tensorboard<2.3.0,>=2.2.0->tensorflow) (2.25.1)\n",
      "Requirement already satisfied: werkzeug>=0.11.15 in /opt/conda/envs/Python-3.8-main/lib/python3.8/site-packages (from tensorboard<2.3.0,>=2.2.0->tensorflow) (2.0.1)\n",
      "Requirement already satisfied: markdown>=2.6.8 in /opt/conda/envs/Python-3.8-main/lib/python3.8/site-packages (from tensorboard<2.3.0,>=2.2.0->tensorflow) (3.1.1)\n",
      "Requirement already satisfied: pyasn1-modules>=0.2.1 in /opt/conda/envs/Python-3.8-main/lib/python3.8/site-packages (from google-auth<2,>=1.6.3->tensorboard<2.3.0,>=2.2.0->tensorflow) (0.2.8)\n",
      "Requirement already satisfied: cachetools<5.0,>=2.0.0 in /opt/conda/envs/Python-3.8-main/lib/python3.8/site-packages (from google-auth<2,>=1.6.3->tensorboard<2.3.0,>=2.2.0->tensorflow) (4.2.2)\n",
      "Requirement already satisfied: rsa<5,>=3.1.4 in /opt/conda/envs/Python-3.8-main/lib/python3.8/site-packages (from google-auth<2,>=1.6.3->tensorboard<2.3.0,>=2.2.0->tensorflow) (4.7.2)\n",
      "Requirement already satisfied: requests-oauthlib>=0.7.0 in /opt/conda/envs/Python-3.8-main/lib/python3.8/site-packages (from google-auth-oauthlib<0.5,>=0.4.1->tensorboard<2.3.0,>=2.2.0->tensorflow) (1.3.0)\n",
      "Requirement already satisfied: pyasn1<0.5.0,>=0.4.6 in /opt/conda/envs/Python-3.8-main/lib/python3.8/site-packages (from pyasn1-modules>=0.2.1->google-auth<2,>=1.6.3->tensorboard<2.3.0,>=2.2.0->tensorflow) (0.4.8)\n",
      "Requirement already satisfied: certifi>=2017.4.17 in /opt/conda/envs/Python-3.8-main/lib/python3.8/site-packages (from requests<3,>=2.21.0->tensorboard<2.3.0,>=2.2.0->tensorflow) (2021.10.8)\n",
      "Requirement already satisfied: chardet<5,>=3.0.2 in /opt/conda/envs/Python-3.8-main/lib/python3.8/site-packages (from requests<3,>=2.21.0->tensorboard<2.3.0,>=2.2.0->tensorflow) (3.0.4)\n",
      "Requirement already satisfied: urllib3<1.27,>=1.21.1 in /opt/conda/envs/Python-3.8-main/lib/python3.8/site-packages (from requests<3,>=2.21.0->tensorboard<2.3.0,>=2.2.0->tensorflow) (1.26.6)\n",
      "Requirement already satisfied: idna<3,>=2.5 in /opt/conda/envs/Python-3.8-main/lib/python3.8/site-packages (from requests<3,>=2.21.0->tensorboard<2.3.0,>=2.2.0->tensorflow) (2.8)\n",
      "Requirement already satisfied: oauthlib>=3.0.0 in /opt/conda/envs/Python-3.8-main/lib/python3.8/site-packages (from requests-oauthlib>=0.7.0->google-auth-oauthlib<0.5,>=0.4.1->tensorboard<2.3.0,>=2.2.0->tensorflow) (3.1.1)\n",
      "Requirement already satisfied: keras==2.3.1 in /opt/conda/envs/Python-3.8-main/lib/python3.8/site-packages (2.3.1)\n",
      "Requirement already satisfied: scipy>=0.14 in /opt/conda/envs/Python-3.8-main/lib/python3.8/site-packages (from keras==2.3.1) (1.4.1)\n",
      "Requirement already satisfied: pyyaml in /opt/conda/envs/Python-3.8-main/lib/python3.8/site-packages (from keras==2.3.1) (5.4.1)\n",
      "Requirement already satisfied: h5py in /opt/conda/envs/Python-3.8-main/lib/python3.8/site-packages (from keras==2.3.1) (2.10.0)\n",
      "Requirement already satisfied: keras-preprocessing>=1.0.5 in /opt/conda/envs/Python-3.8-main/lib/python3.8/site-packages (from keras==2.3.1) (1.1.2)\n",
      "Requirement already satisfied: numpy>=1.9.1 in /opt/conda/envs/Python-3.8-main/lib/python3.8/site-packages (from keras==2.3.1) (1.19.2)\n",
      "Requirement already satisfied: keras-applications>=1.0.6 in /opt/conda/envs/Python-3.8-main/lib/python3.8/site-packages (from keras==2.3.1) (1.0.8)\n",
      "Requirement already satisfied: six>=1.9.0 in /opt/conda/envs/Python-3.8-main/lib/python3.8/site-packages (from keras==2.3.1) (1.15.0)\n"
     ]
    }
   ],
   "source": [
    "!pip install tensorflow\n",
    "!pip install keras==2.3.1"
   ]
  },
  {
   "cell_type": "code",
   "execution_count": 4,
   "id": "involved-major",
   "metadata": {
    "id": "6d7d06b1-fa4e-49fa-a08e-96d07101aa62"
   },
   "outputs": [
    {
     "name": "stderr",
     "output_type": "stream",
     "text": [
      "Using TensorFlow backend.\n"
     ]
    }
   ],
   "source": [
    "import boto3\n",
    "import numpy as np \n",
    "import pandas as pd \n",
    "from keras.layers.core import Dense, Dropout\n",
    "from keras.layers.recurrent import LSTM\n",
    "from keras.models import Sequential\n",
    "from tensorflow.keras.optimizers import Adam\n",
    "import math, time\n",
    "from sklearn.preprocessing import MinMaxScaler\n",
    "import matplotlib.pyplot as plt\n",
    "from numpy import newaxis\n",
    "from keras.callbacks import EarlyStopping\n",
    "import tensorflow\n",
    "from keras.models import model_from_json\n",
    "import h5py\n",
    "from keras.models import load_model\n",
    "%matplotlib inline\n",
    "import warnings\n",
    "warnings.filterwarnings(\"ignore\")"
   ]
  },
  {
   "cell_type": "markdown",
   "id": "pursuant-bridges",
   "metadata": {
    "id": "471f358d-8803-4b70-afc0-02896cd6f07d"
   },
   "source": [
    "### Ingest data from S3. Update AWS credentials in the below cell."
   ]
  },
  {
   "cell_type": "code",
   "execution_count": 5,
   "id": "banner-reynolds",
   "metadata": {
    "id": "e81e287f-17dd-4b65-9081-bda9bfb124ec"
   },
   "outputs": [],
   "source": [
    "BUCKET_TYPE=\"s3\"\n",
    "BUCKET_NAME=\"\"\n",
    "BUCKET_REGION=\"\"\n",
    "AWS_ACCESS_KEY_ID=\"\"\n",
    "AWS_SECRET_ACCESS_KEY=\"\""
   ]
  },
  {
   "cell_type": "code",
   "execution_count": 6,
   "id": "pleased-negotiation",
   "metadata": {
    "id": "d06e0b1f-a1d2-4a2f-a673-a1e2c39ce792"
   },
   "outputs": [],
   "source": [
    "s3 = boto3.resource(\n",
    "    service_name = BUCKET_TYPE,\n",
    "    region_name = BUCKET_REGION,\n",
    "    aws_access_key_id = AWS_ACCESS_KEY_ID,\n",
    "    aws_secret_access_key = AWS_SECRET_ACCESS_KEY\n",
    ")"
   ]
  },
  {
   "cell_type": "code",
   "execution_count": 7,
   "id": "black-feelings",
   "metadata": {
    "id": "7536e3ea-46bf-4107-954b-f89b16dcf07b"
   },
   "outputs": [
    {
     "data": {
      "text/plain": [
       "['15-day-pred.csv',\n",
       " 'Belgium-country-output.csv',\n",
       " 'Belgium-ts.csv',\n",
       " 'Data-region-RI-SM.csv',\n",
       " 'Risk-Index-Output/',\n",
       " 'Risk-Index_data/',\n",
       " 'Risk-Index_data/Data-region-RI-SM-Scoring.csv',\n",
       " 'Risk-Index_data/Data-region-RI-SM.csv',\n",
       " 'Risk-Index_data/Data-region-RI.csv',\n",
       " 'Risk-Index_data/RI_data.csv',\n",
       " 'Risk-Index_data/test.csv',\n",
       " 'Risk-Index_data/train.csv',\n",
       " 'Risk-Index_data/ts-data-region-RI.csv',\n",
       " 'Risk_Index/Risk_index_training_recoded.csv',\n",
       " 'flanders-output.csv',\n",
       " 'my_pred_model_Belgium.h5',\n",
       " 'my_pred_model_Flanders.h5',\n",
       " 'pred-data-15.csv',\n",
       " 'pred-data.csv',\n",
       " 'pred-models/',\n",
       " 'raw-data/',\n",
       " 'raw-data/COVID19BE_CASES_AGESEX.csv',\n",
       " 'raw-data/COVID19BE_HOSP.csv',\n",
       " 'test-data.csv',\n",
       " 'test-y-data.csv',\n",
       " 'time-series-data/',\n",
       " 'time-series-data/formatted/',\n",
       " 'time-series-data/formatted/Belgium-ts.csv',\n",
       " 'time-series-data/formatted/forecast-data-15.csv',\n",
       " 'time-series-data/formatted/results/',\n",
       " 'time-series-data/formatted/ts-Brussels-grouped.csv',\n",
       " 'time-series-data/formatted/ts-Brussels-grouped.xlsx',\n",
       " 'time-series-data/formatted/ts-Flanders-grouped.csv',\n",
       " 'time-series-data/formatted/ts-Flanders-grouped.xlsx',\n",
       " 'time-series-data/formatted/ts-Wallonia-grouped.csv',\n",
       " 'time-series-data/formatted/ts-Wallonia-grouped.xlsx',\n",
       " 'time-series-data/formatted/ts-data-region.csv',\n",
       " 'time-series-data/formatted/ts-data-region.xlsx',\n",
       " 'time-series-data/ts-Brussels-grouped.csv',\n",
       " 'time-series-data/ts-Flanders-grouped.csv',\n",
       " 'time-series-data/ts-Wallonia-grouped.csv',\n",
       " 'time-series-data/ts-data-region.csv',\n",
       " 'ts-Brussels.csv',\n",
       " 'ts-Flanders.csv',\n",
       " 'ts-Wallonia.csv',\n",
       " 'ts-data-region-RI.csv',\n",
       " 'ts-data-region.csv']"
      ]
     },
     "execution_count": 7,
     "metadata": {},
     "output_type": "execute_result"
    }
   ],
   "source": [
    "datasets = []\n",
    "for obj in s3.Bucket(BUCKET_NAME).objects.all():\n",
    "    datasets.append(obj.key)\n",
    "datasets"
   ]
  },
  {
   "cell_type": "code",
   "execution_count": 8,
   "id": "lightweight-arrangement",
   "metadata": {
    "id": "42c1771c-ef88-4309-8643-260a8b011686"
   },
   "outputs": [
    {
     "data": {
      "text/html": [
       "<div>\n",
       "<style scoped>\n",
       "    .dataframe tbody tr th:only-of-type {\n",
       "        vertical-align: middle;\n",
       "    }\n",
       "\n",
       "    .dataframe tbody tr th {\n",
       "        vertical-align: top;\n",
       "    }\n",
       "\n",
       "    .dataframe thead th {\n",
       "        text-align: right;\n",
       "    }\n",
       "</style>\n",
       "<table border=\"1\" class=\"dataframe\">\n",
       "  <thead>\n",
       "    <tr style=\"text-align: right;\">\n",
       "      <th></th>\n",
       "      <th>Total_cases</th>\n",
       "    </tr>\n",
       "    <tr>\n",
       "      <th>REGION</th>\n",
       "      <th></th>\n",
       "    </tr>\n",
       "  </thead>\n",
       "  <tbody>\n",
       "    <tr>\n",
       "      <th>Flanders</th>\n",
       "      <td>461</td>\n",
       "    </tr>\n",
       "    <tr>\n",
       "      <th>Flanders</th>\n",
       "      <td>794</td>\n",
       "    </tr>\n",
       "    <tr>\n",
       "      <th>Flanders</th>\n",
       "      <td>1414</td>\n",
       "    </tr>\n",
       "    <tr>\n",
       "      <th>Flanders</th>\n",
       "      <td>1962</td>\n",
       "    </tr>\n",
       "    <tr>\n",
       "      <th>Flanders</th>\n",
       "      <td>2212</td>\n",
       "    </tr>\n",
       "  </tbody>\n",
       "</table>\n",
       "</div>"
      ],
      "text/plain": [
       "          Total_cases\n",
       "REGION               \n",
       "Flanders          461\n",
       "Flanders          794\n",
       "Flanders         1414\n",
       "Flanders         1962\n",
       "Flanders         2212"
      ]
     },
     "execution_count": 8,
     "metadata": {},
     "output_type": "execute_result"
    }
   ],
   "source": [
    "obj = s3.Bucket(BUCKET_NAME).Object('ts-Flanders.csv').get()\n",
    "data = pd.read_csv(obj['Body'], index_col=0)\n",
    "data.head()"
   ]
  },
  {
   "cell_type": "markdown",
   "id": "operating-brick",
   "metadata": {
    "id": "bff43db9-484d-426d-bf23-70851ba31897"
   },
   "source": [
    "# Fix random seed for reproducibility"
   ]
  },
  {
   "cell_type": "code",
   "execution_count": 9,
   "id": "opened-messaging",
   "metadata": {
    "id": "8be90778-cc30-40c3-aed4-d1f641a346fb"
   },
   "outputs": [],
   "source": [
    "tensorflow.random.set_seed(1010)"
   ]
  },
  {
   "cell_type": "code",
   "execution_count": 10,
   "id": "finite-seeking",
   "metadata": {
    "id": "2f6f2f06-c0d4-4163-b0a8-87dad62d0a48"
   },
   "outputs": [],
   "source": [
    "series = data\n",
    "series = series.astype(float)"
   ]
  },
  {
   "cell_type": "markdown",
   "id": "found-outline",
   "metadata": {
    "id": "c5078ea2-dab9-44f4-8967-87983193f30d"
   },
   "source": [
    "# Plot the data"
   ]
  },
  {
   "cell_type": "code",
   "execution_count": 11,
   "id": "cubic-junction",
   "metadata": {
    "id": "7a473a1b-e0f4-4017-af49-0c22a558529c"
   },
   "outputs": [
    {
     "data": {
      "image/png": "[encoded data removed]",
      "text/plain": [
       "<Figure size 1440x432 with 1 Axes>"
      ]
     },
     "metadata": {
      "needs_background": "light"
     },
     "output_type": "display_data"
    }
   ],
   "source": [
    "plt.figure(figsize=(20,6))\n",
    "plt.plot(series.values)\n",
    "plt.show()"
   ]
  },
  {
   "cell_type": "markdown",
   "id": "damaged-compact",
   "metadata": {
    "id": "b7b5ab8f-7ba0-4793-afa2-2ef4a123c2d7"
   },
   "source": [
    "# Normalize the data"
   ]
  },
  {
   "cell_type": "code",
   "execution_count": 12,
   "id": "accessible-poison",
   "metadata": {
    "id": "de749c66-dbfc-45d1-9eda-bd1b1393e2a0"
   },
   "outputs": [],
   "source": [
    "series = series.values\n",
    "scaler = MinMaxScaler(feature_range=(0, 1))\n",
    "series = scaler.fit_transform(series)"
   ]
  },
  {
   "cell_type": "markdown",
   "id": "urban-allergy",
   "metadata": {
    "id": "5d86e459-70a0-4bbf-9079-5684173a9bfc"
   },
   "source": [
    "# Split the data into train and test with 80:20 ratio"
   ]
  },
  {
   "cell_type": "code",
   "execution_count": 13,
   "id": "sublime-watch",
   "metadata": {
    "id": "371aeff5-4fef-4131-ba41-2a596e7d3dd0"
   },
   "outputs": [
    {
     "name": "stdout",
     "output_type": "stream",
     "text": [
      "592 149\n"
     ]
    }
   ],
   "source": [
    "train_size = int(len(series) * 0.80)\n",
    "test_size = len(series) - train_size\n",
    "train, test = series[0:train_size,:], series[train_size:len(series),:]\n",
    "print(len(train), len(test))"
   ]
  },
  {
   "cell_type": "markdown",
   "id": "alpine-roots",
   "metadata": {
    "id": "8f436b35-2369-472b-88c3-6640db6095e3"
   },
   "source": [
    "# Helper function to generate the dataset with input(X) & output(Y) variables"
   ]
  },
  {
   "cell_type": "code",
   "execution_count": 14,
   "id": "infectious-palace",
   "metadata": {
    "id": "677c341d-1611-4a27-8b03-14d7409a27cd"
   },
   "outputs": [],
   "source": [
    "def create_dataset(dataset, look_back=1):\n",
    "    dataX, dataY = [], []\n",
    "    for i in range(len(dataset)-look_back-1):\n",
    "        a = dataset[i:(i+look_back), 0]\n",
    "        dataX.append(a)\n",
    "        dataY.append(dataset[i + look_back, 0])\n",
    "    return np.array(dataX), np.array(dataY)"
   ]
  },
  {
   "cell_type": "markdown",
   "id": "alternative-block",
   "metadata": {
    "id": "ad6b4916-e6ab-45d1-8c3f-40f6c8c77659"
   },
   "source": [
    "# Create a dataset with a look back period of 'x' observations\n",
    "\n",
    "This is where we convert the time series problem into a regression problem"
   ]
  },
  {
   "cell_type": "code",
   "execution_count": 15,
   "id": "satisfied-audience",
   "metadata": {
    "id": "aba0137a-1e6e-4cbd-a354-822578919496"
   },
   "outputs": [],
   "source": [
    "look_back = 15\n",
    "trainX, trainY = create_dataset(train, look_back)\n",
    "testX, testY = create_dataset(test, look_back)"
   ]
  },
  {
   "cell_type": "markdown",
   "id": "maritime-protocol",
   "metadata": {
    "id": "3cc1d5ee-8772-4316-9dfc-6f4707dc36c2"
   },
   "source": [
    "# Review the shape of datasets"
   ]
  },
  {
   "cell_type": "code",
   "execution_count": 16,
   "id": "synthetic-screen",
   "metadata": {
    "id": "25c589c2-59e1-4f7e-88f6-d22ad43c6b11"
   },
   "outputs": [
    {
     "data": {
      "text/plain": [
       "(576, 15)"
      ]
     },
     "execution_count": 16,
     "metadata": {},
     "output_type": "execute_result"
    }
   ],
   "source": [
    "trainX.shape"
   ]
  },
  {
   "cell_type": "code",
   "execution_count": 17,
   "id": "annual-grocery",
   "metadata": {
    "id": "f514d414-06bf-46f1-9a93-a6c98d81ef57"
   },
   "outputs": [
    {
     "data": {
      "text/plain": [
       "(133, 15)"
      ]
     },
     "execution_count": 17,
     "metadata": {},
     "output_type": "execute_result"
    }
   ],
   "source": [
    "testX.shape"
   ]
  },
  {
   "cell_type": "markdown",
   "id": "durable-marker",
   "metadata": {
    "id": "b9fa7455-457f-41d3-869f-102e55aad830"
   },
   "source": [
    "# Reshape the data to 3D\n",
    "\n",
    "The LSTM model requires the input data to be three dimensional"
   ]
  },
  {
   "cell_type": "code",
   "execution_count": 18,
   "id": "hairy-cleaner",
   "metadata": {
    "id": "b8c03d83-d617-4e5a-a454-86293a87bf09"
   },
   "outputs": [],
   "source": [
    "trainX = np.reshape(trainX, (trainX.shape[0], trainX.shape[1], 1))\n",
    "testX = np.reshape(testX, (testX.shape[0], testX.shape[1], 1))"
   ]
  },
  {
   "cell_type": "code",
   "execution_count": 19,
   "id": "pleased-hartford",
   "metadata": {
    "id": "c4b9bad6-4984-4dfb-b524-c9689c74c866"
   },
   "outputs": [
    {
     "data": {
      "text/plain": [
       "(576, 15, 1)"
      ]
     },
     "execution_count": 19,
     "metadata": {},
     "output_type": "execute_result"
    }
   ],
   "source": [
    "trainX.shape"
   ]
  },
  {
   "cell_type": "markdown",
   "id": "equivalent-python",
   "metadata": {
    "id": "2a5ac32e-b0f3-441b-8c78-779e0b05866a"
   },
   "source": [
    "# Define the LSTM model\n",
    "\n",
    "Activation function will activate the neurons for the learning. Rectified linear unit (ReLu) is one of the most popular activations because the output does not go beyond 0.\n",
    "\n",
    "Units will be the number of neurons in the input & hidden layers.\n",
    "\n",
    "Stateful is where we define whether the previous information has to be remembered or not.\n",
    "\n",
    "Dropout is where we omit random neurons for each layer as per the value (0 to 1). In this case we omit 20% of the neurons.\n",
    "\n",
    "Optimiser is where the weights are back propagated through the network to enhance the learnings closer to the desired outcome. Adam optimiser is an efficient method for enhanced accuracy."
   ]
  },
  {
   "cell_type": "code",
   "execution_count": 20,
   "id": "italian-senior",
   "metadata": {
    "id": "157048df-d6b4-4a9c-aec0-59e7ed8802b9"
   },
   "outputs": [
    {
     "name": "stdout",
     "output_type": "stream",
     "text": [
      "Build Model...\n",
      "Model: \"sequential_1\"\n",
      "_________________________________________________________________\n",
      "Layer (type)                 Output Shape              Param #   \n",
      "=================================================================\n",
      "lstm_1 (LSTM)                (None, 15, 75)            23100     \n",
      "_________________________________________________________________\n",
      "dropout_1 (Dropout)          (None, 15, 75)            0         \n",
      "_________________________________________________________________\n",
      "lstm_2 (LSTM)                (None, 100)               70400     \n",
      "_________________________________________________________________\n",
      "dropout_2 (Dropout)          (None, 100)               0         \n",
      "_________________________________________________________________\n",
      "dense_1 (Dense)              (None, 32)                3232      \n",
      "_________________________________________________________________\n",
      "dense_2 (Dense)              (None, 1)                 33        \n",
      "=================================================================\n",
      "Total params: 96,765\n",
      "Trainable params: 96,765\n",
      "Non-trainable params: 0\n",
      "_________________________________________________________________\n"
     ]
    }
   ],
   "source": [
    "print('Build Model...')\n",
    "model = Sequential()\n",
    "model.add(LSTM(input_shape=(15,1), kernel_initializer=\"uniform\", return_sequences=True, stateful=False, units=75))\n",
    "model.add(Dropout(0.15))\n",
    "model.add(LSTM(100, kernel_initializer=\"uniform\", activation='relu',return_sequences=False))\n",
    "model.add(Dropout(0.15))\n",
    "model.add(Dense(32,kernel_initializer=\"uniform\",activation='relu'))\n",
    "model.add(Dense(1, activation='linear'))\n",
    "#optimizer = Adam(lr=0.0005)\n",
    "#model.compile(loss=\"mse\", optimizer=optimizer)\n",
    "model.compile(loss=\"mse\", optimizer='adam')\n",
    "model.summary()"
   ]
  },
  {
   "cell_type": "markdown",
   "id": "concrete-operations",
   "metadata": {
    "id": "3918f7d6-22cf-4015-bc71-b95ca56f2644"
   },
   "source": [
    "# Params Calculation\n",
    "\n",
    "params = 4 * (size_of_input + 1 * size_of_output) + 4 * size_of_output^2"
   ]
  },
  {
   "cell_type": "markdown",
   "id": "exempt-brisbane",
   "metadata": {
    "id": "fb9744e2-92cd-4250-b8c7-0f5abff9a5e2"
   },
   "source": [
    "# Optimize computation time using early stopping\n",
    "\n",
    "We monitor the accuracy of validation loss ('val_loss') and end the training if there's no improvement in the accuracy after five iterations ('patience=5')."
   ]
  },
  {
   "cell_type": "code",
   "execution_count": 21,
   "id": "recorded-regulation",
   "metadata": {
    "id": "e4a5f890-c30c-4cc6-a020-6d8601f76ca7"
   },
   "outputs": [],
   "source": [
    "'''One of the methods to optimize computation time'''\n",
    "\n",
    "early_stopping=EarlyStopping(monitor='val_loss', patience=5, verbose=1, mode='auto')"
   ]
  },
  {
   "cell_type": "markdown",
   "id": "primary-andrews",
   "metadata": {
    "id": "ab6694b1-1c88-42e7-8c9d-fb4c017f5785"
   },
   "source": [
    "# Fitting the model for training data"
   ]
  },
  {
   "cell_type": "code",
   "execution_count": 22,
   "id": "facial-latino",
   "metadata": {
    "id": "3e5c1d1f-2592-431d-8462-abd3b8b55d25"
   },
   "outputs": [
    {
     "name": "stdout",
     "output_type": "stream",
     "text": [
      "Train on 518 samples, validate on 58 samples\n",
      "Epoch 1/25\n",
      "518/518 [==============================] - 2s 5ms/step - loss: 0.0031 - val_loss: 0.0014\n",
      "Epoch 2/25\n",
      "518/518 [==============================] - 1s 3ms/step - loss: 0.0025 - val_loss: 9.0091e-04\n",
      "Epoch 3/25\n",
      "518/518 [==============================] - 1s 3ms/step - loss: 0.0023 - val_loss: 9.8697e-04\n",
      "Epoch 4/25\n",
      "518/518 [==============================] - 1s 3ms/step - loss: 0.0022 - val_loss: 9.6178e-04\n",
      "Epoch 5/25\n",
      "518/518 [==============================] - 1s 3ms/step - loss: 0.0021 - val_loss: 8.5317e-04\n",
      "Epoch 6/25\n",
      "518/518 [==============================] - 1s 3ms/step - loss: 0.0016 - val_loss: 8.6666e-04\n",
      "Epoch 7/25\n",
      "518/518 [==============================] - 1s 3ms/step - loss: 0.0017 - val_loss: 6.5576e-04\n",
      "Epoch 8/25\n",
      "518/518 [==============================] - 1s 2ms/step - loss: 0.0014 - val_loss: 5.1363e-04\n",
      "Epoch 9/25\n",
      "518/518 [==============================] - 1s 2ms/step - loss: 0.0014 - val_loss: 5.8795e-04\n",
      "Epoch 10/25\n",
      "518/518 [==============================] - 1s 2ms/step - loss: 7.8358e-04 - val_loss: 5.9985e-04\n",
      "Epoch 11/25\n",
      "518/518 [==============================] - 1s 3ms/step - loss: 7.2320e-04 - val_loss: 5.3362e-04\n",
      "Epoch 12/25\n",
      "518/518 [==============================] - 1s 2ms/step - loss: 8.0859e-04 - val_loss: 4.4862e-04\n",
      "Epoch 13/25\n",
      "518/518 [==============================] - 1s 2ms/step - loss: 7.1893e-04 - val_loss: 4.4190e-04\n",
      "Epoch 14/25\n",
      "518/518 [==============================] - 1s 2ms/step - loss: 6.5907e-04 - val_loss: 4.9791e-04\n",
      "Epoch 15/25\n",
      "518/518 [==============================] - 1s 3ms/step - loss: 6.6090e-04 - val_loss: 4.6531e-04\n",
      "Epoch 16/25\n",
      "518/518 [==============================] - 1s 2ms/step - loss: 6.4229e-04 - val_loss: 4.2544e-04\n",
      "Epoch 17/25\n",
      "518/518 [==============================] - 1s 2ms/step - loss: 6.1685e-04 - val_loss: 4.1819e-04\n",
      "Epoch 18/25\n",
      "518/518 [==============================] - 1s 2ms/step - loss: 6.0735e-04 - val_loss: 4.1198e-04\n",
      "Epoch 19/25\n",
      "518/518 [==============================] - 1s 2ms/step - loss: 5.8732e-04 - val_loss: 3.8442e-04\n",
      "Epoch 20/25\n",
      "518/518 [==============================] - 1s 2ms/step - loss: 6.0275e-04 - val_loss: 3.4881e-04\n",
      "Epoch 21/25\n",
      "518/518 [==============================] - 1s 2ms/step - loss: 5.6289e-04 - val_loss: 3.4518e-04\n",
      "Epoch 22/25\n",
      "518/518 [==============================] - 1s 2ms/step - loss: 5.5005e-04 - val_loss: 3.3594e-04\n",
      "Epoch 23/25\n",
      "518/518 [==============================] - 1s 2ms/step - loss: 5.1229e-04 - val_loss: 3.0974e-04\n",
      "Epoch 24/25\n",
      "518/518 [==============================] - 1s 2ms/step - loss: 4.7226e-04 - val_loss: 3.2023e-04\n",
      "Epoch 25/25\n",
      "518/518 [==============================] - 1s 2ms/step - loss: 5.0884e-04 - val_loss: 2.9675e-04\n",
      "> Compilation Time :  34.41573405265808\n"
     ]
    }
   ],
   "source": [
    "start = time.time()\n",
    "history = model.fit(trainX, trainY, batch_size=32, epochs=25, verbose=1, shuffle=False, validation_split=0.10, callbacks=[early_stopping])\n",
    "print(\"> Compilation Time : \", time.time() - start)"
   ]
  },
  {
   "cell_type": "markdown",
   "id": "absent-diameter",
   "metadata": {
    "id": "191d5bf7-c51f-4e7b-92f3-2954c4371a3f"
   },
   "source": [
    "# Create a function to calculate accuracy\n",
    "\n",
    "We will be using 'Mean Squared Error' & 'Root Mean Squared Error' functions to calculate accuracy"
   ]
  },
  {
   "cell_type": "code",
   "execution_count": 23,
   "id": "indoor-specification",
   "metadata": {
    "id": "9847156c-c599-4490-9b87-2e43efc99a2b"
   },
   "outputs": [],
   "source": [
    "def model_score(model, trainX, trainY, testX, testY):\n",
    "    trainScore = model.evaluate(trainX, trainY, batch_size=72, verbose=0)\n",
    "    print('Train Score: %.5f MSE (%.2f RMSE)' % (trainScore, math.sqrt(trainScore)))\n",
    "    print('Train Accuracy: %.2f %%' % (100 - math.sqrt(trainScore)*100))\n",
    "\n",
    "    testScore = model.evaluate(testX, testY, batch_size=72, verbose=0)\n",
    "    print('Test Score: %.5f MSE (%.2f RMSE)' % (testScore, math.sqrt(testScore)))\n",
    "    print('Test Accuracy: %.2f %%' % (100 - math.sqrt(testScore)*100))\n",
    "    return trainScore, testScore"
   ]
  },
  {
   "cell_type": "markdown",
   "id": "streaming-orlando",
   "metadata": {
    "id": "a4bf9e91-920a-4ba1-99e3-5c927572a34c"
   },
   "source": [
    "# Check the Accuracy of the model"
   ]
  },
  {
   "cell_type": "code",
   "execution_count": 24,
   "id": "verbal-antibody",
   "metadata": {
    "id": "1f325787-d8dc-42fb-b05e-c512a920fd85"
   },
   "outputs": [
    {
     "name": "stdout",
     "output_type": "stream",
     "text": [
      "Train Score: 0.00040 MSE (0.02 RMSE)\n",
      "Train Accuracy: 97.99 %\n",
      "Test Score: 0.01822 MSE (0.13 RMSE)\n",
      "Test Accuracy: 86.50 %\n"
     ]
    },
    {
     "data": {
      "text/plain": [
       "(0.0004027002432849258, 0.018219415868695518)"
      ]
     },
     "execution_count": 24,
     "metadata": {},
     "output_type": "execute_result"
    }
   ],
   "source": [
    "model_score(model, trainX, trainY, testX, testY)"
   ]
  },
  {
   "cell_type": "markdown",
   "id": "junior-example",
   "metadata": {
    "id": "151d97eb-88ab-422b-b669-93ef839175a3"
   },
   "source": [
    "# Review the learning of training & validation loss (error evaluation)"
   ]
  },
  {
   "cell_type": "code",
   "execution_count": 25,
   "id": "polar-holiday",
   "metadata": {
    "id": "911d770c-7992-4053-a0ee-91741b0f3066"
   },
   "outputs": [
    {
     "data": {
      "image/png": "[encoded data removed]",
      "text/plain": [
       "<Figure size 432x288 with 1 Axes>"
      ]
     },
     "metadata": {
      "needs_background": "light"
     },
     "output_type": "display_data"
    }
   ],
   "source": [
    "'''Review the learning'''\n",
    "\n",
    "plt.plot(history.history['loss'])\n",
    "plt.plot(history.history['val_loss'])\n",
    "plt.show()"
   ]
  },
  {
   "cell_type": "markdown",
   "id": "retained-mailman",
   "metadata": {
    "id": "f913af63-06b4-4d45-8141-959c99e5eba8"
   },
   "source": [
    "# Get the configuration of the model\n",
    "\n",
    "This will give us an idea about all the parameters available and which ones have been choosen."
   ]
  },
  {
   "cell_type": "code",
   "execution_count": 26,
   "id": "reverse-spine",
   "metadata": {
    "id": "8b86075a-cdb6-4269-9598-1b4a05e75660"
   },
   "outputs": [
    {
     "data": {
      "text/plain": [
       "{'name': 'sequential_1',\n",
       " 'layers': [{'class_name': 'LSTM',\n",
       "   'config': {'name': 'lstm_1',\n",
       "    'trainable': True,\n",
       "    'batch_input_shape': (None, 15, 1),\n",
       "    'dtype': 'float32',\n",
       "    'return_sequences': True,\n",
       "    'return_state': False,\n",
       "    'go_backwards': False,\n",
       "    'stateful': False,\n",
       "    'unroll': False,\n",
       "    'units': 75,\n",
       "    'activation': 'tanh',\n",
       "    'recurrent_activation': 'sigmoid',\n",
       "    'use_bias': True,\n",
       "    'kernel_initializer': {'class_name': 'RandomUniform',\n",
       "     'config': {'minval': -0.05, 'maxval': 0.05, 'seed': None}},\n",
       "    'recurrent_initializer': {'class_name': 'Orthogonal',\n",
       "     'config': {'gain': 1.0, 'seed': None}},\n",
       "    'bias_initializer': {'class_name': 'Zeros', 'config': {}},\n",
       "    'unit_forget_bias': True,\n",
       "    'kernel_regularizer': None,\n",
       "    'recurrent_regularizer': None,\n",
       "    'bias_regularizer': None,\n",
       "    'activity_regularizer': None,\n",
       "    'kernel_constraint': None,\n",
       "    'recurrent_constraint': None,\n",
       "    'bias_constraint': None,\n",
       "    'dropout': 0.0,\n",
       "    'recurrent_dropout': 0.0,\n",
       "    'implementation': 2}},\n",
       "  {'class_name': 'Dropout',\n",
       "   'config': {'name': 'dropout_1',\n",
       "    'trainable': True,\n",
       "    'dtype': 'float32',\n",
       "    'rate': 0.15,\n",
       "    'noise_shape': None,\n",
       "    'seed': None}},\n",
       "  {'class_name': 'LSTM',\n",
       "   'config': {'name': 'lstm_2',\n",
       "    'trainable': True,\n",
       "    'dtype': 'float32',\n",
       "    'return_sequences': False,\n",
       "    'return_state': False,\n",
       "    'go_backwards': False,\n",
       "    'stateful': False,\n",
       "    'unroll': False,\n",
       "    'units': 100,\n",
       "    'activation': 'relu',\n",
       "    'recurrent_activation': 'sigmoid',\n",
       "    'use_bias': True,\n",
       "    'kernel_initializer': {'class_name': 'RandomUniform',\n",
       "     'config': {'minval': -0.05, 'maxval': 0.05, 'seed': None}},\n",
       "    'recurrent_initializer': {'class_name': 'Orthogonal',\n",
       "     'config': {'gain': 1.0, 'seed': None}},\n",
       "    'bias_initializer': {'class_name': 'Zeros', 'config': {}},\n",
       "    'unit_forget_bias': True,\n",
       "    'kernel_regularizer': None,\n",
       "    'recurrent_regularizer': None,\n",
       "    'bias_regularizer': None,\n",
       "    'activity_regularizer': None,\n",
       "    'kernel_constraint': None,\n",
       "    'recurrent_constraint': None,\n",
       "    'bias_constraint': None,\n",
       "    'dropout': 0.0,\n",
       "    'recurrent_dropout': 0.0,\n",
       "    'implementation': 2}},\n",
       "  {'class_name': 'Dropout',\n",
       "   'config': {'name': 'dropout_2',\n",
       "    'trainable': True,\n",
       "    'dtype': 'float32',\n",
       "    'rate': 0.15,\n",
       "    'noise_shape': None,\n",
       "    'seed': None}},\n",
       "  {'class_name': 'Dense',\n",
       "   'config': {'name': 'dense_1',\n",
       "    'trainable': True,\n",
       "    'dtype': 'float32',\n",
       "    'units': 32,\n",
       "    'activation': 'relu',\n",
       "    'use_bias': True,\n",
       "    'kernel_initializer': {'class_name': 'RandomUniform',\n",
       "     'config': {'minval': -0.05, 'maxval': 0.05, 'seed': None}},\n",
       "    'bias_initializer': {'class_name': 'Zeros', 'config': {}},\n",
       "    'kernel_regularizer': None,\n",
       "    'bias_regularizer': None,\n",
       "    'activity_regularizer': None,\n",
       "    'kernel_constraint': None,\n",
       "    'bias_constraint': None}},\n",
       "  {'class_name': 'Dense',\n",
       "   'config': {'name': 'dense_2',\n",
       "    'trainable': True,\n",
       "    'dtype': 'float32',\n",
       "    'units': 1,\n",
       "    'activation': 'linear',\n",
       "    'use_bias': True,\n",
       "    'kernel_initializer': {'class_name': 'VarianceScaling',\n",
       "     'config': {'scale': 1.0,\n",
       "      'mode': 'fan_avg',\n",
       "      'distribution': 'uniform',\n",
       "      'seed': None}},\n",
       "    'bias_initializer': {'class_name': 'Zeros', 'config': {}},\n",
       "    'kernel_regularizer': None,\n",
       "    'bias_regularizer': None,\n",
       "    'activity_regularizer': None,\n",
       "    'kernel_constraint': None,\n",
       "    'bias_constraint': None}}]}"
      ]
     },
     "execution_count": 26,
     "metadata": {},
     "output_type": "execute_result"
    }
   ],
   "source": [
    "model.get_config()"
   ]
  },
  {
   "cell_type": "markdown",
   "id": "monthly-dover",
   "metadata": {
    "id": "c3078eec-1c46-492c-ad9f-ff0df741cecd"
   },
   "source": [
    "# Create a function to plot predicted vs actual values"
   ]
  },
  {
   "cell_type": "code",
   "execution_count": 27,
   "id": "broadband-rugby",
   "metadata": {
    "id": "3904636b-a5b9-401b-8b98-fc901a615517"
   },
   "outputs": [],
   "source": [
    "def plot_the_results(predicted_data, true_data, prediction_len):\n",
    "    fig = plt.figure(facecolor='white', figsize=(16,8))\n",
    "    ax = fig.add_subplot(111)\n",
    "    ax.plot(true_data, label='True Data')\n",
    "    for i, data in enumerate(predicted_data):\n",
    "        padding = [None for p in range(i * prediction_len)]\n",
    "        plt.plot(padding + data, label='Prediction')\n",
    "        plt.plot(padding + data, 'b^')\n",
    "    plt.show()"
   ]
  },
  {
   "cell_type": "markdown",
   "id": "forced-installation",
   "metadata": {
    "id": "efad7b4b-7060-4584-8d73-2c1eeebb1045"
   },
   "source": [
    "# Create a function to predict future values"
   ]
  },
  {
   "cell_type": "code",
   "execution_count": 28,
   "id": "metric-instruction",
   "metadata": {
    "id": "a03fc405-cea0-4b5d-9593-353c00d03552"
   },
   "outputs": [],
   "source": [
    "def predict_the_sequences(model, data, window_size, prediction_len):\n",
    "    prediction_seqs = []\n",
    "    for i in range(int(len(data)/prediction_len)):\n",
    "        curr_frame = data[i*prediction_len]\n",
    "        predicted = []\n",
    "        for j in range(prediction_len):\n",
    "            predicted.append(model.predict(curr_frame[newaxis,:,:])[0,0])\n",
    "            curr_frame = curr_frame[1:]\n",
    "            curr_frame = np.insert(curr_frame, [window_size-1], predicted[-1], axis=0)\n",
    "        prediction_seqs.append(predicted)\n",
    "    return prediction_seqs"
   ]
  },
  {
   "cell_type": "markdown",
   "id": "happy-flashing",
   "metadata": {
    "id": "67cdfe17-1992-406e-a0ed-25e671d6ce65"
   },
   "source": [
    "### Predict future values & plot the results\n",
    "\n",
    "In this case, we are predicting the current values.\n",
    "If we need to predict t+1 then the prediction_len parameter has to be changed to 2\n",
    "and if we need t+2 then prediction_len would be 3."
   ]
  },
  {
   "cell_type": "code",
   "execution_count": 29,
   "id": "inner-hands",
   "metadata": {
    "id": "dd22e1fb-dc61-4161-8b03-3f3f0936f3e1"
   },
   "outputs": [
    {
     "data": {
      "image/png": "[encoded data removed]",
      "text/plain": [
       "<Figure size 1152x576 with 1 Axes>"
      ]
     },
     "metadata": {},
     "output_type": "display_data"
    }
   ],
   "source": [
    "predictions = predict_the_sequences(model, testX, 15, 1)\n",
    "\n",
    "plot_the_results(predictions, testY, 1)"
   ]
  },
  {
   "cell_type": "code",
   "execution_count": 30,
   "id": "early-powell",
   "metadata": {
    "id": "eeba0666c29c4f68898781c705ff787f"
   },
   "outputs": [
    {
     "name": "stdout",
     "output_type": "stream",
     "text": [
      "           0\n",
      "0     9402.0\n",
      "1     9794.0\n",
      "2    10032.0\n",
      "3     9866.0\n",
      "4    10157.0\n",
      "..       ...\n",
      "128  11622.0\n",
      "129  11074.0\n",
      "130  11048.0\n",
      "131  11535.0\n",
      "132  12088.0\n",
      "\n",
      "[133 rows x 1 columns]\n"
     ]
    }
   ],
   "source": [
    "predictions = scaler.inverse_transform(predictions)\n",
    "pred = pd.DataFrame(np.round(predictions))\n",
    "print(pred)"
   ]
  },
  {
   "cell_type": "code",
   "execution_count": 31,
   "id": "fuzzy-thunder",
   "metadata": {
    "id": "92acfb5f132741cd94b8b1f63df8eb54"
   },
   "outputs": [
    {
     "name": "stdout",
     "output_type": "stream",
     "text": [
      "Dataframe is saved as CSV in S3 bucket.\n"
     ]
    }
   ],
   "source": [
    "from io import StringIO\n",
    "import boto3\n",
    "\n",
    "#Creating Session With Boto3.\n",
    "\n",
    "session = boto3.Session(\n",
    "aws_access_key_id=AWS_ACCESS_KEY_ID,\n",
    "aws_secret_access_key=AWS_SECRET_ACCESS_KEY\n",
    ")\n",
    "\n",
    "#Creating S3 Resource From the Session.\n",
    "s3_res = session.resource('s3')\n",
    "csv_buffer = StringIO()\n",
    "pred.to_csv(csv_buffer, header=False, index=False)\n",
    "\n",
    "bucket_name = BUCKET_NAME\n",
    "s3_object_name = 'pred-data.csv'\n",
    "\n",
    "s3_res.Object(bucket_name, s3_object_name).put(Body=csv_buffer.getvalue())\n",
    "print(\"Dataframe is saved as CSV in S3 bucket.\")"
   ]
  },
  {
   "cell_type": "code",
   "execution_count": 32,
   "id": "novel-booth",
   "metadata": {
    "id": "472c697a-6e09-4d80-9e47-6223299f859d"
   },
   "outputs": [],
   "source": [
    "predictions15 = predict_the_sequences(model, testX, 15, 15)"
   ]
  },
  {
   "cell_type": "code",
   "execution_count": 33,
   "id": "composed-lancaster",
   "metadata": {
    "id": "0eb36bd1-0424-425c-9a07-14538a2c5374"
   },
   "outputs": [
    {
     "data": {
      "text/plain": [
       "[[0.19567612,\n",
       "  0.2018138,\n",
       "  0.20719132,\n",
       "  0.20965174,\n",
       "  0.21014409,\n",
       "  0.21081811,\n",
       "  0.21530652,\n",
       "  0.21996562,\n",
       "  0.22363119,\n",
       "  0.22768429,\n",
       "  0.2284717,\n",
       "  0.22824931,\n",
       "  0.23440595,\n",
       "  0.23982048,\n",
       "  0.24531265],\n",
       " [0.38420478,\n",
       "  0.39508474,\n",
       "  0.40232083,\n",
       "  0.40630808,\n",
       "  0.4199069,\n",
       "  0.43155235,\n",
       "  0.4432583,\n",
       "  0.4550225,\n",
       "  0.46731487,\n",
       "  0.47319064,\n",
       "  0.4759154,\n",
       "  0.49273282,\n",
       "  0.5067975,\n",
       "  0.5202137,\n",
       "  0.53388935],\n",
       " [0.24571766,\n",
       "  0.23098893,\n",
       "  0.2177307,\n",
       "  0.21921821,\n",
       "  0.22091092,\n",
       "  0.22347842,\n",
       "  0.22655922,\n",
       "  0.22974634,\n",
       "  0.22974426,\n",
       "  0.22764997,\n",
       "  0.23456126,\n",
       "  0.23934966,\n",
       "  0.24385467,\n",
       "  0.24753805,\n",
       "  0.2508607],\n",
       " [0.09499559,\n",
       "  0.088923186,\n",
       "  0.08874617,\n",
       "  0.08908703,\n",
       "  0.08997696,\n",
       "  0.09073476,\n",
       "  0.09215519,\n",
       "  0.09241225,\n",
       "  0.092057,\n",
       "  0.09462006,\n",
       "  0.09699457,\n",
       "  0.0994009,\n",
       "  0.101616465,\n",
       "  0.10349204,\n",
       "  0.10392451],\n",
       " [0.3022775,\n",
       "  0.31547853,\n",
       "  0.3264266,\n",
       "  0.33619106,\n",
       "  0.34488875,\n",
       "  0.3502115,\n",
       "  0.35120898,\n",
       "  0.35383928,\n",
       "  0.36604586,\n",
       "  0.37763655,\n",
       "  0.38727325,\n",
       "  0.39517882,\n",
       "  0.40339118,\n",
       "  0.4065539,\n",
       "  0.40828967],\n",
       " [0.841908,\n",
       "  0.8726247,\n",
       "  0.9058444,\n",
       "  0.9399616,\n",
       "  0.9790085,\n",
       "  1.0130621,\n",
       "  1.0454723,\n",
       "  1.1236746,\n",
       "  1.202886,\n",
       "  1.288995,\n",
       "  1.3817017,\n",
       "  1.4821558,\n",
       "  1.5731664,\n",
       "  1.6693585,\n",
       "  1.8332485],\n",
       " [0.30185142,\n",
       "  0.29408884,\n",
       "  0.29036173,\n",
       "  0.28881732,\n",
       "  0.28081176,\n",
       "  0.27156255,\n",
       "  0.28651977,\n",
       "  0.29535127,\n",
       "  0.30194232,\n",
       "  0.3077719,\n",
       "  0.3119487,\n",
       "  0.3112082,\n",
       "  0.30955154,\n",
       "  0.3196847,\n",
       "  0.32496232],\n",
       " [0.15383509,\n",
       "  0.15367593,\n",
       "  0.15419814,\n",
       "  0.15298182,\n",
       "  0.1515554,\n",
       "  0.15694177,\n",
       "  0.16111991,\n",
       "  0.16426371,\n",
       "  0.16694412,\n",
       "  0.1686927,\n",
       "  0.16908284,\n",
       "  0.16851972,\n",
       "  0.17293367,\n",
       "  0.1761962,\n",
       "  0.17891215]]"
      ]
     },
     "execution_count": 33,
     "metadata": {},
     "output_type": "execute_result"
    }
   ],
   "source": [
    "predictions15"
   ]
  },
  {
   "cell_type": "code",
   "execution_count": 34,
   "id": "affiliated-study",
   "metadata": {
    "id": "f748aa70-bd50-4f48-be29-1813d87697f7"
   },
   "outputs": [
    {
     "name": "stdout",
     "output_type": "stream",
     "text": [
      "       0       1       2       3       4       5       6       7       8   \\\n",
      "0  7399.0  7391.0  7416.0  7358.0  7290.0  7548.0  7748.0  7898.0  8027.0   \n",
      "\n",
      "       9       10      11      12      13      14  \n",
      "0  8110.0  8129.0  8102.0  8313.0  8470.0  8600.0  \n"
     ]
    }
   ],
   "source": [
    "predictions15 = scaler.inverse_transform(predictions15)\n",
    "results = pd.DataFrame(np.round(predictions15[-1:]))\n",
    "print(results)"
   ]
  },
  {
   "cell_type": "markdown",
   "id": "certified-share",
   "metadata": {
    "id": "2db546f9a08f4e4c8da375f64c43d1a5"
   },
   "source": [
    "## Save the predicted results to S3 Bucket"
   ]
  },
  {
   "cell_type": "code",
   "execution_count": 35,
   "id": "distributed-target",
   "metadata": {
    "id": "17ea67658d53438a8f212f38eabd721e"
   },
   "outputs": [
    {
     "name": "stdout",
     "output_type": "stream",
     "text": [
      "Dataframe is saved as CSV in S3 bucket.\n"
     ]
    }
   ],
   "source": [
    "from io import StringIO\n",
    "import boto3\n",
    "\n",
    "#Creating Session With Boto3.\n",
    "\n",
    "session = boto3.Session(\n",
    "aws_access_key_id=AWS_ACCESS_KEY_ID,\n",
    "aws_secret_access_key=AWS_SECRET_ACCESS_KEY\n",
    ")\n",
    "\n",
    "#Creating S3 Resource From the Session.\n",
    "s3_res = session.resource('s3')\n",
    "csv_buffer = StringIO()\n",
    "results.T.to_csv(csv_buffer, header=False, index=False)\n",
    "\n",
    "bucket_name = BUCKET_NAME\n",
    "s3_object_name = 'flanders-output.csv'\n",
    "\n",
    "s3_res.Object(bucket_name, s3_object_name).put(Body=csv_buffer.getvalue())\n",
    "print(\"Dataframe is saved as CSV in S3 bucket.\")"
   ]
  },
  {
   "cell_type": "markdown",
   "id": "collectible-tennessee",
   "metadata": {
    "id": "8134659557814ad3b313c978bf3c1d71"
   },
   "source": [
    "## Follow the earlier steps with multiple iterations by changing the hyperparameters for better understanding of the flow."
   ]
  },
  {
   "cell_type": "markdown",
   "id": "progressive-beatles",
   "metadata": {
    "id": "44f65e8013a44acc9633807d88b5943a"
   },
   "source": [
    "We can use model.save(filepath) to save a Keras model into a single HDF5 file which will contain:\n",
    "\n",
    "The architecture of the model, allowing to re-create the model.\n",
    "\n",
    "The weights of the model.\n",
    "\n",
    "The training configuration (loss, optimizer).\n",
    "\n",
    "The state of the optimizer, allowing to resume training exactly where you left off."
   ]
  },
  {
   "cell_type": "markdown",
   "id": "infrared-strategy",
   "metadata": {
    "id": "9db7778436b24b548823d321d7149446"
   },
   "source": [
    "# Transfer Learning\n",
    "Save the model for future use on new data"
   ]
  },
  {
   "cell_type": "markdown",
   "id": "vocational-palestine",
   "metadata": {
    "id": "017f5bb4b73d41d7acad13be086280a9"
   },
   "source": [
    "## Get the current working directory"
   ]
  },
  {
   "cell_type": "code",
   "execution_count": 36,
   "id": "refined-surface",
   "metadata": {
    "id": "62b189d3d752471c8ea8be7013ad897f"
   },
   "outputs": [
    {
     "data": {
      "text/plain": [
       "'/home/wsuser/work'"
      ]
     },
     "execution_count": 36,
     "metadata": {},
     "output_type": "execute_result"
    }
   ],
   "source": [
    "import os\n",
    "os.getcwd()"
   ]
  },
  {
   "cell_type": "markdown",
   "id": "veterinary-ultimate",
   "metadata": {
    "id": "cdce097820f44bc18ca84725bde04df3"
   },
   "source": [
    "## Save the model to home directory"
   ]
  },
  {
   "cell_type": "code",
   "execution_count": 37,
   "id": "sustainable-denial",
   "metadata": {
    "id": "66efaafec5c844b587b4961ad1d18af1"
   },
   "outputs": [
    {
     "name": "stdout",
     "output_type": "stream",
     "text": [
      "Model saved to disc\n"
     ]
    }
   ],
   "source": [
    "model.save('/home/wsuser/work/my_pred_model_Flanders.h5')\n",
    "print('Model saved to disc')"
   ]
  },
  {
   "cell_type": "markdown",
   "id": "center-maple",
   "metadata": {
    "id": "08b6e335844942ab983de415ad5ac8c9"
   },
   "source": [
    "## Load the model"
   ]
  },
  {
   "cell_type": "code",
   "execution_count": 38,
   "id": "purple-actor",
   "metadata": {
    "id": "cc44e9eba03c435586e9ab4e18953c61"
   },
   "outputs": [
    {
     "name": "stdout",
     "output_type": "stream",
     "text": [
      "Model loaded to the session\n"
     ]
    }
   ],
   "source": [
    "model = load_model('/home/wsuser/work/my_pred_model_Flanders.h5')\n",
    "print('Model loaded to the session')"
   ]
  },
  {
   "cell_type": "markdown",
   "id": "anticipated-astronomy",
   "metadata": {
    "id": "666c59a4f3de4ebe8d5f803b5d0dc365"
   },
   "source": [
    "## Save the model to S3 Bucket"
   ]
  },
  {
   "cell_type": "code",
   "execution_count": 39,
   "id": "aquatic-algeria",
   "metadata": {
    "id": "b495ffee09d548d98d5d1cf1778694c5"
   },
   "outputs": [
    {
     "name": "stdout",
     "output_type": "stream",
     "text": [
      "Model saved to S3 bucket\n"
     ]
    }
   ],
   "source": [
    "from keras.models import load_model\n",
    "import boto3\n",
    "\n",
    "session = boto3.Session(\n",
    "aws_access_key_id=AWS_ACCESS_KEY_ID,\n",
    "aws_secret_access_key=AWS_SECRET_ACCESS_KEY\n",
    ")\n",
    "\n",
    "csv_buffer = StringIO()\n",
    "\n",
    "bucket_name = BUCKET_NAME\n",
    "s3_object_name = 'my_pred_model_Flanders.h5'\n",
    "\n",
    "s3_res.Object(bucket_name, s3_object_name).put(Body=csv_buffer.getvalue())\n",
    "print('Model saved to S3 bucket')"
   ]
  },
  {
   "cell_type": "markdown",
   "id": "lyric-parks",
   "metadata": {
    "id": "c7dd25482e6145ad96f3a0523da8d6a1"
   },
   "source": [
    "# Methodology to save the model's architecture and weights for reusability in the future\n",
    "We can use these weights alone which has the learnings on other data."
   ]
  },
  {
   "cell_type": "code",
   "execution_count": 40,
   "id": "stuffed-horizon",
   "metadata": {
    "id": "4bdb1bfce8514e028292b307905a4208"
   },
   "outputs": [
    {
     "name": "stdout",
     "output_type": "stream",
     "text": [
      "Saved model & weights to disk\n"
     ]
    }
   ],
   "source": [
    "model_json = model.to_json()\n",
    "with open('/home/wsuser/work/my_pred_model_Flanders.json', \"w\") as json_file:\n",
    "    json_file.write(model_json)\n",
    "\n",
    "model.save_weights(\"/home/wsuser/work/pred_model.h5\")\n",
    "print(\"Saved model & weights to disk\")"
   ]
  },
  {
   "cell_type": "markdown",
   "id": "fresh-formula",
   "metadata": {
    "id": "41a4bdd52514448db137258900d6a14d"
   },
   "source": [
    "# By loading the model architecture, we can rebuild the model with different configuration\n",
    "\n",
    "We can also use the existing weights on the new architecture."
   ]
  },
  {
   "cell_type": "code",
   "execution_count": 41,
   "id": "cultural-shooting",
   "metadata": {
    "id": "911cce5163444cca8dcd5564b1732434"
   },
   "outputs": [
    {
     "name": "stdout",
     "output_type": "stream",
     "text": [
      "Loaded model & weights from disk\n"
     ]
    }
   ],
   "source": [
    "json_file = open('/home/wsuser/work/my_pred_model_Flanders.json', 'r')\n",
    "loaded_model_json = json_file.read()\n",
    "json_file.close()\n",
    "loaded_model = model_from_json(loaded_model_json)\n",
    "\n",
    "\n",
    "loaded_model.load_weights(\"/home/wsuser/work/pred_model.h5\")\n",
    "print(\"Loaded model & weights from disk\")"
   ]
  },
  {
   "cell_type": "markdown",
   "id": "modified-chemical",
   "metadata": {
    "id": "60b1c824ed1649d28db15f8fc50b7494"
   },
   "source": [
    "We have learned how to create and deploy a deep learning model, save the model, architecture & weights for future use. We have also learned how to evaluate the model & tune the parameters. LSTM is a very popular technique which can be applied to different usecases and can produce great results. "
   ]
  },
  {
   "cell_type": "code",
   "execution_count": 43,
   "id": "musical-current",
   "metadata": {
    "id": "1678df294a8e47869ed13bfd9ae1aa8d"
   },
   "outputs": [
    {
     "name": "stdout",
     "output_type": "stream",
     "text": [
      "The Notebook ran in 61.0 seconds\n"
     ]
    }
   ],
   "source": [
    "time_taken=round(time.time() - st,1)\n",
    "print(\"The Notebook ran in {} \".format(float(time_taken)) + \"seconds\") "
   ]
  },
  {
   "cell_type": "markdown",
   "id": "regulated-passport",
   "metadata": {
    "id": "a76e409693d14d7f8a80f26643ede53f"
   },
   "source": [
    "### In this Notebook, we learnt how to build deep learning model for Time Series forecasting, generate forecasts and save the forecasted results to the S3 bucket."
   ]
  },
  {
   "cell_type": "code",
   "execution_count": null,
   "id": "derived-people",
   "metadata": {
    "id": "d7e31b310b264a7a84dc1e2d38d4b581"
   },
   "outputs": [],
   "source": []
  }
 ],
 "metadata": {
  "kernelspec": {
   "display_name": "Python 3 (ipykernel)",
   "language": "python",
   "name": "python3"
  },
  "language_info": {
   "codemirror_mode": {
    "name": "ipython",
    "version": 3
   },
   "file_extension": ".py",
   "mimetype": "text/x-python",
   "name": "python",
   "nbconvert_exporter": "python",
   "pygments_lexer": "ipython3",
   "version": "3.8.9"
  }
 },
 "nbformat": 4,
 "nbformat_minor": 5
}
