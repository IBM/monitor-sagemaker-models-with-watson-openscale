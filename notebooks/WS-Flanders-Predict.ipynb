{
 "cells": [
  {
   "cell_type": "markdown",
   "id": "theoretical-naples",
   "metadata": {
    "id": "02d89948-d805-49b4-a673-f618e4691092"
   },
   "source": [
    "# Future cases forecasting using Deep Learning - LSTM (Long 'Short Term Memory')\n",
    "\n",
    "LSTM is one of the prominent techniques under Recurrent Neural Netrowk which is known to remember long sequences over time."
   ]
  },
  {
   "cell_type": "code",
   "execution_count": 1,
   "id": "better-architecture",
   "metadata": {
    "id": "b9a9b0b363a848318825fc59f657f642"
   },
   "outputs": [],
   "source": [
    "import time\n",
    "st = time.time()"
   ]
  },
  {
   "cell_type": "markdown",
   "id": "front-louisville",
   "metadata": {
    "id": "1859ae17-256b-4175-bbbb-989e1eaa6d7c"
   },
   "source": [
    "## 1. Setup\n",
    "To prepare your environment, you need to install some packages.\n",
    "\n",
    "### 1.1 Install the necessary packages\n",
    "\n",
    "You need the latest versions of these packages:<br> We will be using Keras modules which runs on top of TensorFlow"
   ]
  },
  {
   "cell_type": "code",
   "execution_count": 2,
   "id": "romance-clear",
   "metadata": {
    "id": "dc8319f5-de06-4e01-8ce4-173f581dd65c"
   },
   "outputs": [
    {
     "name": "stdout",
     "output_type": "stream",
     "text": [
      "Python 3.9.7\r\n"
     ]
    }
   ],
   "source": [
    "!python -V"
   ]
  },
  {
   "cell_type": "code",
   "execution_count": 3,
   "id": "involved-major",
   "metadata": {
    "id": "6d7d06b1-fa4e-49fa-a08e-96d07101aa62"
   },
   "outputs": [],
   "source": [
    "import boto3\n",
    "import numpy as np \n",
    "import pandas as pd \n",
    "from keras.layers.core import Dense, Dropout\n",
    "from keras.layers.recurrent import LSTM\n",
    "from keras.models import Sequential\n",
    "from tensorflow.keras.optimizers import Adam\n",
    "import math, time\n",
    "from sklearn.preprocessing import MinMaxScaler\n",
    "import matplotlib.pyplot as plt\n",
    "from numpy import newaxis\n",
    "from keras.callbacks import EarlyStopping\n",
    "import tensorflow\n",
    "from keras.models import model_from_json\n",
    "import h5py\n",
    "from keras.models import load_model\n",
    "%matplotlib inline\n",
    "import warnings\n",
    "warnings.filterwarnings(\"ignore\")"
   ]
  },
  {
   "cell_type": "markdown",
   "id": "pursuant-bridges",
   "metadata": {
    "id": "471f358d-8803-4b70-afc0-02896cd6f07d"
   },
   "source": [
    "### Ingest data from S3"
   ]
  },
  {
   "cell_type": "code",
   "execution_count": 4,
   "id": "banner-reynolds",
   "metadata": {
    "id": "e81e287f-17dd-4b65-9081-bda9bfb124ec"
   },
   "outputs": [],
   "source": [
    "BUCKET_TYPE=\"\"\n",
    "BUCKET_NAME=\"\"\n",
    "BUCKET_REGION=\"\"\n",
    "AWS_ACCESS_KEY_ID=\"\"\n",
    "AWS_SECRET_ACCESS_KEY=\"\""
   ]
  },
  {
   "cell_type": "code",
   "execution_count": 5,
   "id": "pleased-negotiation",
   "metadata": {
    "id": "d06e0b1f-a1d2-4a2f-a673-a1e2c39ce792"
   },
   "outputs": [],
   "source": [
    "s3 = boto3.resource(\n",
    "    service_name = BUCKET_TYPE,\n",
    "    region_name = BUCKET_REGION,\n",
    "    aws_access_key_id = AWS_ACCESS_KEY_ID,\n",
    "    aws_secret_access_key = AWS_SECRET_ACCESS_KEY\n",
    ")"
   ]
  },
  {
   "cell_type": "code",
   "execution_count": 6,
   "id": "black-feelings",
   "metadata": {
    "id": "7536e3ea-46bf-4107-954b-f89b16dcf07b"
   },
   "outputs": [
    {
     "data": {
      "text/plain": [
       "['15-day-pred.csv',\n",
       " 'Belgium-country-output.csv',\n",
       " 'Belgium-ts.csv',\n",
       " 'Risk-Index_data/',\n",
       " 'Risk-Index_data/ts-data-region-RI.csv',\n",
       " 'flanders-output.csv',\n",
       " 'my_pred_model_Belgium.h5',\n",
       " 'my_pred_model_Flanders.h5',\n",
       " 'pred-data-15.csv',\n",
       " 'pred-data.csv',\n",
       " 'pred-models/',\n",
       " 'raw-data/',\n",
       " 'raw-data/COVID19BE_CASES_AGESEX.csv',\n",
       " 'raw-data/COVID19BE_HOSP.csv',\n",
       " 'test-data.csv',\n",
       " 'test-y-data.csv',\n",
       " 'time-series-data/',\n",
       " 'time-series-data/Belgium-ts.csv',\n",
       " 'time-series-data/formatted/',\n",
       " 'time-series-data/formatted/Belgium-ts-21-04.csv',\n",
       " 'time-series-data/formatted/Belgium-ts.csv',\n",
       " 'time-series-data/formatted/Belgium-ts.xlsx',\n",
       " 'time-series-data/formatted/forecast-data-15.csv',\n",
       " 'time-series-data/formatted/results/',\n",
       " 'time-series-data/formatted/ts-Brussels-grouped-21-04.csv',\n",
       " 'time-series-data/formatted/ts-Brussels-grouped.csv',\n",
       " 'time-series-data/formatted/ts-Brussels-grouped.xlsx',\n",
       " 'time-series-data/formatted/ts-Flanders-grouped-21-04.csv',\n",
       " 'time-series-data/formatted/ts-Flanders-grouped.csv',\n",
       " 'time-series-data/formatted/ts-Flanders-grouped.xlsx',\n",
       " 'time-series-data/formatted/ts-Wallonia-grouped-21-04.csv',\n",
       " 'time-series-data/formatted/ts-Wallonia-grouped.csv',\n",
       " 'time-series-data/formatted/ts-Wallonia-grouped.xlsx',\n",
       " 'time-series-data/formatted/ts-data-region-21-04.csv',\n",
       " 'time-series-data/formatted/ts-data-region.csv',\n",
       " 'time-series-data/formatted/ts-data-region.xlsx',\n",
       " 'time-series-data/ts-Brussels-grouped.csv',\n",
       " 'time-series-data/ts-Flanders-grouped.csv',\n",
       " 'time-series-data/ts-Wallonia-grouped.csv',\n",
       " 'time-series-data/ts-data-region.csv',\n",
       " 'ts-Brussels.csv',\n",
       " 'ts-Flanders.csv',\n",
       " 'ts-Wallonia.csv',\n",
       " 'ts-data-region-RI.csv',\n",
       " 'ts-data-region.csv']"
      ]
     },
     "execution_count": 6,
     "metadata": {},
     "output_type": "execute_result"
    }
   ],
   "source": [
    "datasets = []\n",
    "for obj in s3.Bucket(BUCKET_NAME).objects.all():\n",
    "    datasets.append(obj.key)\n",
    "datasets"
   ]
  },
  {
   "cell_type": "code",
   "execution_count": 7,
   "id": "lightweight-arrangement",
   "metadata": {
    "id": "42c1771c-ef88-4309-8643-260a8b011686"
   },
   "outputs": [
    {
     "data": {
      "text/html": [
       "<div>\n",
       "<style scoped>\n",
       "    .dataframe tbody tr th:only-of-type {\n",
       "        vertical-align: middle;\n",
       "    }\n",
       "\n",
       "    .dataframe tbody tr th {\n",
       "        vertical-align: top;\n",
       "    }\n",
       "\n",
       "    .dataframe thead th {\n",
       "        text-align: right;\n",
       "    }\n",
       "</style>\n",
       "<table border=\"1\" class=\"dataframe\">\n",
       "  <thead>\n",
       "    <tr style=\"text-align: right;\">\n",
       "      <th></th>\n",
       "      <th>REGION</th>\n",
       "      <th>Total_cases</th>\n",
       "    </tr>\n",
       "    <tr>\n",
       "      <th>DATE</th>\n",
       "      <th></th>\n",
       "      <th></th>\n",
       "    </tr>\n",
       "  </thead>\n",
       "  <tbody>\n",
       "    <tr>\n",
       "      <th>15/03/20</th>\n",
       "      <td>Flanders</td>\n",
       "      <td>461</td>\n",
       "    </tr>\n",
       "    <tr>\n",
       "      <th>16/03/20</th>\n",
       "      <td>Flanders</td>\n",
       "      <td>794</td>\n",
       "    </tr>\n",
       "    <tr>\n",
       "      <th>17/03/20</th>\n",
       "      <td>Flanders</td>\n",
       "      <td>1414</td>\n",
       "    </tr>\n",
       "    <tr>\n",
       "      <th>18/03/20</th>\n",
       "      <td>Flanders</td>\n",
       "      <td>1962</td>\n",
       "    </tr>\n",
       "    <tr>\n",
       "      <th>19/03/20</th>\n",
       "      <td>Flanders</td>\n",
       "      <td>2212</td>\n",
       "    </tr>\n",
       "  </tbody>\n",
       "</table>\n",
       "</div>"
      ],
      "text/plain": [
       "            REGION  Total_cases\n",
       "DATE                           \n",
       "15/03/20  Flanders          461\n",
       "16/03/20  Flanders          794\n",
       "17/03/20  Flanders         1414\n",
       "18/03/20  Flanders         1962\n",
       "19/03/20  Flanders         2212"
      ]
     },
     "execution_count": 7,
     "metadata": {},
     "output_type": "execute_result"
    }
   ],
   "source": [
    "obj = s3.Bucket(BUCKET_NAME).Object('time-series-data/formatted/ts-Flanders-grouped.csv').get()\n",
    "data = pd.read_csv(obj['Body'], index_col=0)\n",
    "data.head()"
   ]
  },
  {
   "cell_type": "code",
   "execution_count": 8,
   "id": "opposite-program",
   "metadata": {
    "id": "6e268369-a688-4623-b524-dc379f53f9d0"
   },
   "outputs": [],
   "source": [
    "data = data.drop('REGION', axis=1)"
   ]
  },
  {
   "cell_type": "markdown",
   "id": "operating-brick",
   "metadata": {
    "id": "bff43db9-484d-426d-bf23-70851ba31897"
   },
   "source": [
    "# Fix random seed for reproducibility"
   ]
  },
  {
   "cell_type": "code",
   "execution_count": 9,
   "id": "opened-messaging",
   "metadata": {
    "id": "8be90778-cc30-40c3-aed4-d1f641a346fb"
   },
   "outputs": [],
   "source": [
    "tensorflow.random.set_seed(1010)"
   ]
  },
  {
   "cell_type": "code",
   "execution_count": 10,
   "id": "finite-seeking",
   "metadata": {
    "id": "2f6f2f06-c0d4-4163-b0a8-87dad62d0a48"
   },
   "outputs": [],
   "source": [
    "series = data\n",
    "series = series.astype(float)"
   ]
  },
  {
   "cell_type": "markdown",
   "id": "found-outline",
   "metadata": {
    "id": "c5078ea2-dab9-44f4-8967-87983193f30d"
   },
   "source": [
    "# Plot the data"
   ]
  },
  {
   "cell_type": "code",
   "execution_count": 11,
   "id": "cubic-junction",
   "metadata": {
    "id": "7a473a1b-e0f4-4017-af49-0c22a558529c"
   },
   "outputs": [
    {
     "data": {
      "image/png": "[encoded data removed]",
      "text/plain": [
       "<Figure size 1440x432 with 1 Axes>"
      ]
     },
     "metadata": {
      "needs_background": "light"
     },
     "output_type": "display_data"
    }
   ],
   "source": [
    "plt.figure(figsize=(20,6))\n",
    "plt.plot(series.values)\n",
    "plt.show()"
   ]
  },
  {
   "cell_type": "markdown",
   "id": "damaged-compact",
   "metadata": {
    "id": "b7b5ab8f-7ba0-4793-afa2-2ef4a123c2d7"
   },
   "source": [
    "# Normalize the data"
   ]
  },
  {
   "cell_type": "code",
   "execution_count": 12,
   "id": "accessible-poison",
   "metadata": {
    "id": "de749c66-dbfc-45d1-9eda-bd1b1393e2a0"
   },
   "outputs": [],
   "source": [
    "series = series.values\n",
    "scaler = MinMaxScaler(feature_range=(0, 1))\n",
    "series = scaler.fit_transform(series)"
   ]
  },
  {
   "cell_type": "markdown",
   "id": "urban-allergy",
   "metadata": {
    "id": "5d86e459-70a0-4bbf-9079-5684173a9bfc"
   },
   "source": [
    "# Split the data into train and test with 80:20 ratio"
   ]
  },
  {
   "cell_type": "code",
   "execution_count": 13,
   "id": "sublime-watch",
   "metadata": {
    "id": "371aeff5-4fef-4131-ba41-2a596e7d3dd0"
   },
   "outputs": [
    {
     "name": "stdout",
     "output_type": "stream",
     "text": [
      "592 149\n"
     ]
    }
   ],
   "source": [
    "train_size = int(len(series) * 0.80)\n",
    "test_size = len(series) - train_size\n",
    "train, test = series[0:train_size,:], series[train_size:len(series),:]\n",
    "print(len(train), len(test))"
   ]
  },
  {
   "cell_type": "markdown",
   "id": "alpine-roots",
   "metadata": {
    "id": "8f436b35-2369-472b-88c3-6640db6095e3"
   },
   "source": [
    "# Helper function to generate the dataset with input(X) & output(Y) variables"
   ]
  },
  {
   "cell_type": "code",
   "execution_count": 14,
   "id": "infectious-palace",
   "metadata": {
    "id": "677c341d-1611-4a27-8b03-14d7409a27cd"
   },
   "outputs": [],
   "source": [
    "def create_dataset(dataset, look_back=1):\n",
    "    dataX, dataY = [], []\n",
    "    for i in range(len(dataset)-look_back-1):\n",
    "        a = dataset[i:(i+look_back), 0]\n",
    "        dataX.append(a)\n",
    "        dataY.append(dataset[i + look_back, 0])\n",
    "    return np.array(dataX), np.array(dataY)"
   ]
  },
  {
   "cell_type": "markdown",
   "id": "alternative-block",
   "metadata": {
    "id": "ad6b4916-e6ab-45d1-8c3f-40f6c8c77659"
   },
   "source": [
    "# Create a dataset with a look back period of 'x' observations\n",
    "\n",
    "This is where we convert the time series problem into a regression problem"
   ]
  },
  {
   "cell_type": "code",
   "execution_count": 15,
   "id": "satisfied-audience",
   "metadata": {
    "id": "aba0137a-1e6e-4cbd-a354-822578919496"
   },
   "outputs": [],
   "source": [
    "look_back = 15\n",
    "trainX, trainY = create_dataset(train, look_back)\n",
    "testX, testY = create_dataset(test, look_back)"
   ]
  },
  {
   "cell_type": "markdown",
   "id": "maritime-protocol",
   "metadata": {
    "id": "3cc1d5ee-8772-4316-9dfc-6f4707dc36c2"
   },
   "source": [
    "# Review the shape of datasets"
   ]
  },
  {
   "cell_type": "code",
   "execution_count": 16,
   "id": "synthetic-screen",
   "metadata": {
    "id": "25c589c2-59e1-4f7e-88f6-d22ad43c6b11"
   },
   "outputs": [
    {
     "data": {
      "text/plain": [
       "(576, 15)"
      ]
     },
     "execution_count": 16,
     "metadata": {},
     "output_type": "execute_result"
    }
   ],
   "source": [
    "trainX.shape"
   ]
  },
  {
   "cell_type": "code",
   "execution_count": 17,
   "id": "annual-grocery",
   "metadata": {
    "id": "f514d414-06bf-46f1-9a93-a6c98d81ef57"
   },
   "outputs": [
    {
     "data": {
      "text/plain": [
       "(133, 15)"
      ]
     },
     "execution_count": 17,
     "metadata": {},
     "output_type": "execute_result"
    }
   ],
   "source": [
    "testX.shape"
   ]
  },
  {
   "cell_type": "markdown",
   "id": "durable-marker",
   "metadata": {
    "id": "b9fa7455-457f-41d3-869f-102e55aad830"
   },
   "source": [
    "# Reshape the data to 3D\n",
    "\n",
    "The LSTM model requires the input data to be three dimensional"
   ]
  },
  {
   "cell_type": "code",
   "execution_count": 18,
   "id": "hairy-cleaner",
   "metadata": {
    "id": "b8c03d83-d617-4e5a-a454-86293a87bf09"
   },
   "outputs": [],
   "source": [
    "trainX = np.reshape(trainX, (trainX.shape[0], trainX.shape[1], 1))\n",
    "testX = np.reshape(testX, (testX.shape[0], testX.shape[1], 1))"
   ]
  },
  {
   "cell_type": "code",
   "execution_count": 19,
   "id": "pleased-hartford",
   "metadata": {
    "id": "c4b9bad6-4984-4dfb-b524-c9689c74c866"
   },
   "outputs": [
    {
     "data": {
      "text/plain": [
       "(576, 15, 1)"
      ]
     },
     "execution_count": 19,
     "metadata": {},
     "output_type": "execute_result"
    }
   ],
   "source": [
    "trainX.shape"
   ]
  },
  {
   "cell_type": "markdown",
   "id": "equivalent-python",
   "metadata": {
    "id": "2a5ac32e-b0f3-441b-8c78-779e0b05866a"
   },
   "source": [
    "# Define the LSTM model\n",
    "\n",
    "Activation function will activate the neurons for the learning. Rectified linear unit (ReLu) is one of the most popular activations because the output does not go beyond 0.\n",
    "\n",
    "Units will be the number of neurons in the input & hidden layers.\n",
    "\n",
    "Stateful is where we define whether the previous information has to be remembered or not.\n",
    "\n",
    "Dropout is where we omit random neurons for each layer as per the value (0 to 1). In this case we omit 20% of the neurons.\n",
    "\n",
    "Optimiser is where the weights are back propagated through the network to enhance the learnings closer to the desired outcome. Adam optimiser is an efficient method for enhanced accuracy."
   ]
  },
  {
   "cell_type": "code",
   "execution_count": 20,
   "id": "italian-senior",
   "metadata": {
    "id": "157048df-d6b4-4a9c-aec0-59e7ed8802b9"
   },
   "outputs": [
    {
     "name": "stdout",
     "output_type": "stream",
     "text": [
      "Build Model...\n",
      "Model: \"sequential\"\n",
      "_________________________________________________________________\n",
      " Layer (type)                Output Shape              Param #   \n",
      "=================================================================\n",
      " lstm (LSTM)                 (None, 15, 75)            23100     \n",
      "                                                                 \n",
      " dropout (Dropout)           (None, 15, 75)            0         \n",
      "                                                                 \n",
      " lstm_1 (LSTM)               (None, 100)               70400     \n",
      "                                                                 \n",
      " dropout_1 (Dropout)         (None, 100)               0         \n",
      "                                                                 \n",
      " dense (Dense)               (None, 32)                3232      \n",
      "                                                                 \n",
      " dense_1 (Dense)             (None, 1)                 33        \n",
      "                                                                 \n",
      "=================================================================\n",
      "Total params: 96,765\n",
      "Trainable params: 96,765\n",
      "Non-trainable params: 0\n",
      "_________________________________________________________________\n"
     ]
    }
   ],
   "source": [
    "print('Build Model...')\n",
    "model = Sequential()\n",
    "model.add(LSTM(input_shape=(15,1), kernel_initializer=\"uniform\", return_sequences=True, stateful=False, units=75))\n",
    "model.add(Dropout(0.15))\n",
    "model.add(LSTM(100, kernel_initializer=\"uniform\", activation='relu',return_sequences=False))\n",
    "model.add(Dropout(0.15))\n",
    "model.add(Dense(32,kernel_initializer=\"uniform\",activation='relu'))\n",
    "model.add(Dense(1, activation='linear'))\n",
    "#optimizer = Adam(lr=0.0005)\n",
    "#model.compile(loss=\"mse\", optimizer=optimizer)\n",
    "model.compile(loss=\"mse\", optimizer='adam')\n",
    "model.summary()"
   ]
  },
  {
   "cell_type": "markdown",
   "id": "concrete-operations",
   "metadata": {
    "id": "3918f7d6-22cf-4015-bc71-b95ca56f2644"
   },
   "source": [
    "# Params Calculation\n",
    "\n",
    "params = 4 * (size_of_input + 1 * size_of_output) + 4 * size_of_output^2"
   ]
  },
  {
   "cell_type": "markdown",
   "id": "exempt-brisbane",
   "metadata": {
    "id": "fb9744e2-92cd-4250-b8c7-0f5abff9a5e2"
   },
   "source": [
    "# Optimize computation time using early stopping\n",
    "\n",
    "We monitor the accuracy of validation loss ('val_loss') and end the training if there's no improvement in the accuracy after five iterations ('patience=5')."
   ]
  },
  {
   "cell_type": "code",
   "execution_count": 21,
   "id": "recorded-regulation",
   "metadata": {
    "id": "e4a5f890-c30c-4cc6-a020-6d8601f76ca7"
   },
   "outputs": [],
   "source": [
    "'''One of the methods to optimize computation time'''\n",
    "\n",
    "early_stopping=EarlyStopping(monitor='val_loss', patience=5, verbose=1, mode='auto')"
   ]
  },
  {
   "cell_type": "markdown",
   "id": "primary-andrews",
   "metadata": {
    "id": "ab6694b1-1c88-42e7-8c9d-fb4c017f5785"
   },
   "source": [
    "# Fitting the model for training data"
   ]
  },
  {
   "cell_type": "code",
   "execution_count": 22,
   "id": "facial-latino",
   "metadata": {
    "id": "3e5c1d1f-2592-431d-8462-abd3b8b55d25"
   },
   "outputs": [
    {
     "name": "stdout",
     "output_type": "stream",
     "text": [
      "Epoch 1/25\n",
      "17/17 [==============================] - 4s 50ms/step - loss: 0.0032 - val_loss: 0.0011\n",
      "Epoch 2/25\n",
      "17/17 [==============================] - 0s 25ms/step - loss: 0.0024 - val_loss: 9.5234e-04\n",
      "Epoch 3/25\n",
      "17/17 [==============================] - 0s 25ms/step - loss: 0.0023 - val_loss: 9.5559e-04\n",
      "Epoch 4/25\n",
      "17/17 [==============================] - 0s 25ms/step - loss: 0.0022 - val_loss: 9.4272e-04\n",
      "Epoch 5/25\n",
      "17/17 [==============================] - 0s 24ms/step - loss: 0.0020 - val_loss: 7.0636e-04\n",
      "Epoch 6/25\n",
      "17/17 [==============================] - 0s 25ms/step - loss: 0.0015 - val_loss: 6.9426e-04\n",
      "Epoch 7/25\n",
      "17/17 [==============================] - 0s 24ms/step - loss: 0.0013 - val_loss: 4.9131e-04\n",
      "Epoch 8/25\n",
      "17/17 [==============================] - 0s 24ms/step - loss: 0.0012 - val_loss: 5.9072e-04\n",
      "Epoch 9/25\n",
      "17/17 [==============================] - 0s 25ms/step - loss: 9.5125e-04 - val_loss: 4.6248e-04\n",
      "Epoch 10/25\n",
      "17/17 [==============================] - 0s 25ms/step - loss: 8.1062e-04 - val_loss: 5.1151e-04\n",
      "Epoch 11/25\n",
      "17/17 [==============================] - 0s 25ms/step - loss: 7.5059e-04 - val_loss: 5.0910e-04\n",
      "Epoch 12/25\n",
      "17/17 [==============================] - 0s 24ms/step - loss: 7.4806e-04 - val_loss: 4.4807e-04\n",
      "Epoch 13/25\n",
      "17/17 [==============================] - 0s 24ms/step - loss: 6.8051e-04 - val_loss: 4.8383e-04\n",
      "Epoch 14/25\n",
      "17/17 [==============================] - 0s 24ms/step - loss: 6.8022e-04 - val_loss: 4.5646e-04\n",
      "Epoch 15/25\n",
      "17/17 [==============================] - 0s 25ms/step - loss: 6.8054e-04 - val_loss: 4.1736e-04\n",
      "Epoch 16/25\n",
      "17/17 [==============================] - 0s 25ms/step - loss: 6.5102e-04 - val_loss: 4.2663e-04\n",
      "Epoch 17/25\n",
      "17/17 [==============================] - 0s 24ms/step - loss: 6.1879e-04 - val_loss: 4.1239e-04\n",
      "Epoch 18/25\n",
      "17/17 [==============================] - 0s 25ms/step - loss: 6.1411e-04 - val_loss: 3.8044e-04\n",
      "Epoch 19/25\n",
      "17/17 [==============================] - 0s 24ms/step - loss: 5.6784e-04 - val_loss: 3.5838e-04\n",
      "Epoch 20/25\n",
      "17/17 [==============================] - 0s 24ms/step - loss: 5.2391e-04 - val_loss: 3.4440e-04\n",
      "Epoch 21/25\n",
      "17/17 [==============================] - 0s 25ms/step - loss: 5.0422e-04 - val_loss: 3.7827e-04\n",
      "Epoch 22/25\n",
      "17/17 [==============================] - 0s 25ms/step - loss: 5.0276e-04 - val_loss: 3.6120e-04\n",
      "Epoch 23/25\n",
      "17/17 [==============================] - 0s 25ms/step - loss: 5.2220e-04 - val_loss: 2.9254e-04\n",
      "Epoch 24/25\n",
      "17/17 [==============================] - 0s 25ms/step - loss: 5.8030e-04 - val_loss: 2.7233e-04\n",
      "Epoch 25/25\n",
      "17/17 [==============================] - 0s 25ms/step - loss: 5.4226e-04 - val_loss: 2.9049e-04\n",
      "> Compilation Time :  14.187716960906982\n"
     ]
    }
   ],
   "source": [
    "start = time.time()\n",
    "history = model.fit(trainX, trainY, batch_size=32, epochs=25, verbose=1, shuffle=False, validation_split=0.10, callbacks=[early_stopping])\n",
    "print(\"> Compilation Time : \", time.time() - start)"
   ]
  },
  {
   "cell_type": "markdown",
   "id": "absent-diameter",
   "metadata": {
    "id": "191d5bf7-c51f-4e7b-92f3-2954c4371a3f"
   },
   "source": [
    "# Create a function to calculate accuracy\n",
    "\n",
    "We will be using 'Mean Squared Error' & 'Root Mean Squared Error' functions to calculate accuracy"
   ]
  },
  {
   "cell_type": "code",
   "execution_count": 23,
   "id": "indoor-specification",
   "metadata": {
    "id": "9847156c-c599-4490-9b87-2e43efc99a2b"
   },
   "outputs": [],
   "source": [
    "def model_score(model, trainX, trainY, testX, testY):\n",
    "    trainScore = model.evaluate(trainX, trainY, batch_size=72, verbose=0)\n",
    "    print('Train Score: %.5f MSE (%.2f RMSE)' % (trainScore, math.sqrt(trainScore)))\n",
    "    print('Train Accuracy: %.2f %%' % (100 - math.sqrt(trainScore)*100))\n",
    "\n",
    "    testScore = model.evaluate(testX, testY, batch_size=72, verbose=0)\n",
    "    print('Test Score: %.5f MSE (%.2f RMSE)' % (testScore, math.sqrt(testScore)))\n",
    "    print('Test Accuracy: %.2f %%' % (100 - math.sqrt(testScore)*100))\n",
    "    return trainScore, testScore"
   ]
  },
  {
   "cell_type": "markdown",
   "id": "streaming-orlando",
   "metadata": {
    "id": "a4bf9e91-920a-4ba1-99e3-5c927572a34c"
   },
   "source": [
    "# Check the Accuracy of the model"
   ]
  },
  {
   "cell_type": "code",
   "execution_count": 24,
   "id": "verbal-antibody",
   "metadata": {
    "id": "1f325787-d8dc-42fb-b05e-c512a920fd85"
   },
   "outputs": [
    {
     "name": "stdout",
     "output_type": "stream",
     "text": [
      "Train Score: 0.00044 MSE (0.02 RMSE)\n",
      "Train Accuracy: 97.91 %\n",
      "Test Score: 0.02169 MSE (0.15 RMSE)\n",
      "Test Accuracy: 85.27 %\n"
     ]
    },
    {
     "data": {
      "text/plain": [
       "(0.00043747713789343834, 0.021693188697099686)"
      ]
     },
     "execution_count": 24,
     "metadata": {},
     "output_type": "execute_result"
    }
   ],
   "source": [
    "model_score(model, trainX, trainY, testX, testY)"
   ]
  },
  {
   "cell_type": "markdown",
   "id": "junior-example",
   "metadata": {
    "id": "151d97eb-88ab-422b-b669-93ef839175a3"
   },
   "source": [
    "# Review the learning of training & validation loss (error evaluation)"
   ]
  },
  {
   "cell_type": "code",
   "execution_count": 25,
   "id": "polar-holiday",
   "metadata": {
    "id": "911d770c-7992-4053-a0ee-91741b0f3066"
   },
   "outputs": [
    {
     "data": {
      "image/png": "[encoded data removed]",
      "text/plain": [
       "<Figure size 432x288 with 1 Axes>"
      ]
     },
     "metadata": {
      "needs_background": "light"
     },
     "output_type": "display_data"
    }
   ],
   "source": [
    "'''Review the learning'''\n",
    "\n",
    "plt.plot(history.history['loss'])\n",
    "plt.plot(history.history['val_loss'])\n",
    "plt.show()"
   ]
  },
  {
   "cell_type": "markdown",
   "id": "retained-mailman",
   "metadata": {
    "id": "f913af63-06b4-4d45-8141-959c99e5eba8"
   },
   "source": [
    "# Get the configuration of the model\n",
    "\n",
    "This will give us an idea about all the parameters available and which ones have been choosen."
   ]
  },
  {
   "cell_type": "code",
   "execution_count": 26,
   "id": "reverse-spine",
   "metadata": {
    "id": "8b86075a-cdb6-4269-9598-1b4a05e75660"
   },
   "outputs": [
    {
     "data": {
      "text/plain": [
       "{'name': 'sequential',\n",
       " 'layers': [{'class_name': 'InputLayer',\n",
       "   'config': {'batch_input_shape': (None, 15, 1),\n",
       "    'dtype': 'float32',\n",
       "    'sparse': False,\n",
       "    'ragged': False,\n",
       "    'name': 'lstm_input'}},\n",
       "  {'class_name': 'LSTM',\n",
       "   'config': {'name': 'lstm',\n",
       "    'trainable': True,\n",
       "    'batch_input_shape': (None, 15, 1),\n",
       "    'dtype': 'float32',\n",
       "    'return_sequences': True,\n",
       "    'return_state': False,\n",
       "    'go_backwards': False,\n",
       "    'stateful': False,\n",
       "    'unroll': False,\n",
       "    'time_major': False,\n",
       "    'units': 75,\n",
       "    'activation': 'tanh',\n",
       "    'recurrent_activation': 'hard_sigmoid',\n",
       "    'use_bias': True,\n",
       "    'kernel_initializer': {'class_name': 'RandomUniform',\n",
       "     'config': {'minval': -0.05, 'maxval': 0.05, 'seed': None}},\n",
       "    'recurrent_initializer': {'class_name': 'Orthogonal',\n",
       "     'config': {'gain': 1.0, 'seed': None}},\n",
       "    'bias_initializer': {'class_name': 'Zeros', 'config': {}},\n",
       "    'unit_forget_bias': True,\n",
       "    'kernel_regularizer': None,\n",
       "    'recurrent_regularizer': None,\n",
       "    'bias_regularizer': None,\n",
       "    'activity_regularizer': None,\n",
       "    'kernel_constraint': None,\n",
       "    'recurrent_constraint': None,\n",
       "    'bias_constraint': None,\n",
       "    'dropout': 0.0,\n",
       "    'recurrent_dropout': 0.0,\n",
       "    'implementation': 1}},\n",
       "  {'class_name': 'Dropout',\n",
       "   'config': {'name': 'dropout',\n",
       "    'trainable': True,\n",
       "    'dtype': 'float32',\n",
       "    'rate': 0.15,\n",
       "    'noise_shape': None,\n",
       "    'seed': None}},\n",
       "  {'class_name': 'LSTM',\n",
       "   'config': {'name': 'lstm_1',\n",
       "    'trainable': True,\n",
       "    'dtype': 'float32',\n",
       "    'return_sequences': False,\n",
       "    'return_state': False,\n",
       "    'go_backwards': False,\n",
       "    'stateful': False,\n",
       "    'unroll': False,\n",
       "    'time_major': False,\n",
       "    'units': 100,\n",
       "    'activation': 'relu',\n",
       "    'recurrent_activation': 'hard_sigmoid',\n",
       "    'use_bias': True,\n",
       "    'kernel_initializer': {'class_name': 'RandomUniform',\n",
       "     'config': {'minval': -0.05, 'maxval': 0.05, 'seed': None}},\n",
       "    'recurrent_initializer': {'class_name': 'Orthogonal',\n",
       "     'config': {'gain': 1.0, 'seed': None}},\n",
       "    'bias_initializer': {'class_name': 'Zeros', 'config': {}},\n",
       "    'unit_forget_bias': True,\n",
       "    'kernel_regularizer': None,\n",
       "    'recurrent_regularizer': None,\n",
       "    'bias_regularizer': None,\n",
       "    'activity_regularizer': None,\n",
       "    'kernel_constraint': None,\n",
       "    'recurrent_constraint': None,\n",
       "    'bias_constraint': None,\n",
       "    'dropout': 0.0,\n",
       "    'recurrent_dropout': 0.0,\n",
       "    'implementation': 1}},\n",
       "  {'class_name': 'Dropout',\n",
       "   'config': {'name': 'dropout_1',\n",
       "    'trainable': True,\n",
       "    'dtype': 'float32',\n",
       "    'rate': 0.15,\n",
       "    'noise_shape': None,\n",
       "    'seed': None}},\n",
       "  {'class_name': 'Dense',\n",
       "   'config': {'name': 'dense',\n",
       "    'trainable': True,\n",
       "    'dtype': 'float32',\n",
       "    'units': 32,\n",
       "    'activation': 'relu',\n",
       "    'use_bias': True,\n",
       "    'kernel_initializer': {'class_name': 'RandomUniform',\n",
       "     'config': {'minval': -0.05, 'maxval': 0.05, 'seed': None}},\n",
       "    'bias_initializer': {'class_name': 'Zeros', 'config': {}},\n",
       "    'kernel_regularizer': None,\n",
       "    'bias_regularizer': None,\n",
       "    'activity_regularizer': None,\n",
       "    'kernel_constraint': None,\n",
       "    'bias_constraint': None}},\n",
       "  {'class_name': 'Dense',\n",
       "   'config': {'name': 'dense_1',\n",
       "    'trainable': True,\n",
       "    'dtype': 'float32',\n",
       "    'units': 1,\n",
       "    'activation': 'linear',\n",
       "    'use_bias': True,\n",
       "    'kernel_initializer': {'class_name': 'GlorotUniform',\n",
       "     'config': {'seed': None}},\n",
       "    'bias_initializer': {'class_name': 'Zeros', 'config': {}},\n",
       "    'kernel_regularizer': None,\n",
       "    'bias_regularizer': None,\n",
       "    'activity_regularizer': None,\n",
       "    'kernel_constraint': None,\n",
       "    'bias_constraint': None}}]}"
      ]
     },
     "execution_count": 26,
     "metadata": {},
     "output_type": "execute_result"
    }
   ],
   "source": [
    "model.get_config()"
   ]
  },
  {
   "cell_type": "markdown",
   "id": "monthly-dover",
   "metadata": {
    "id": "c3078eec-1c46-492c-ad9f-ff0df741cecd"
   },
   "source": [
    "# Create a function to plot predicted vs actual values"
   ]
  },
  {
   "cell_type": "code",
   "execution_count": 27,
   "id": "broadband-rugby",
   "metadata": {
    "id": "3904636b-a5b9-401b-8b98-fc901a615517"
   },
   "outputs": [],
   "source": [
    "def plot_the_results(predicted_data, true_data, prediction_len):\n",
    "    fig = plt.figure(facecolor='white', figsize=(16,8))\n",
    "    ax = fig.add_subplot(111)\n",
    "    ax.plot(true_data, label='True Data')\n",
    "    for i, data in enumerate(predicted_data):\n",
    "        padding = [None for p in range(i * prediction_len)]\n",
    "        plt.plot(padding + data, label='Prediction')\n",
    "        plt.plot(padding + data, 'b^')\n",
    "    plt.show()"
   ]
  },
  {
   "cell_type": "markdown",
   "id": "forced-installation",
   "metadata": {
    "id": "efad7b4b-7060-4584-8d73-2c1eeebb1045"
   },
   "source": [
    "# Create a function to predict future values"
   ]
  },
  {
   "cell_type": "code",
   "execution_count": 28,
   "id": "metric-instruction",
   "metadata": {
    "id": "a03fc405-cea0-4b5d-9593-353c00d03552"
   },
   "outputs": [],
   "source": [
    "def predict_the_sequences(model, data, window_size, prediction_len):\n",
    "    prediction_seqs = []\n",
    "    for i in range(int(len(data)/prediction_len)):\n",
    "        curr_frame = data[i*prediction_len]\n",
    "        predicted = []\n",
    "        for j in range(prediction_len):\n",
    "            predicted.append(model.predict(curr_frame[newaxis,:,:])[0,0])\n",
    "            curr_frame = curr_frame[1:]\n",
    "            curr_frame = np.insert(curr_frame, [window_size-1], predicted[-1], axis=0)\n",
    "        prediction_seqs.append(predicted)\n",
    "    return prediction_seqs"
   ]
  },
  {
   "cell_type": "markdown",
   "id": "happy-flashing",
   "metadata": {
    "id": "67cdfe17-1992-406e-a0ed-25e671d6ce65"
   },
   "source": [
    "### Predict future values & plot the results\n",
    "\n",
    "In this case, we are predicting the current values.\n",
    "If we need to predict t+1 then the prediction_len parameter has to be changed to 2\n",
    "and if we need t+2 then prediction_len would be 3."
   ]
  },
  {
   "cell_type": "code",
   "execution_count": 29,
   "id": "inner-hands",
   "metadata": {
    "id": "dd22e1fb-dc61-4161-8b03-3f3f0936f3e1"
   },
   "outputs": [
    {
     "data": {
      "image/png": "[encoded data removed]",
      "text/plain": [
       "<Figure size 1152x576 with 1 Axes>"
      ]
     },
     "metadata": {},
     "output_type": "display_data"
    }
   ],
   "source": [
    "predictions = predict_the_sequences(model, testX, 15, 1)\n",
    "\n",
    "plot_the_results(predictions, testY, 1)"
   ]
  },
  {
   "cell_type": "code",
   "execution_count": 30,
   "id": "early-powell",
   "metadata": {
    "id": "eeba0666c29c4f68898781c705ff787f"
   },
   "outputs": [
    {
     "name": "stdout",
     "output_type": "stream",
     "text": [
      "           0\n",
      "0     9513.0\n",
      "1     9921.0\n",
      "2    10181.0\n",
      "3    10057.0\n",
      "4    10379.0\n",
      "..       ...\n",
      "128  11866.0\n",
      "129  11380.0\n",
      "130  11383.0\n",
      "131  11862.0\n",
      "132  12418.0\n",
      "\n",
      "[133 rows x 1 columns]\n"
     ]
    }
   ],
   "source": [
    "predictions = scaler.inverse_transform(predictions)\n",
    "pred = pd.DataFrame(np.round(predictions))\n",
    "print(pred)"
   ]
  },
  {
   "cell_type": "code",
   "execution_count": 31,
   "id": "fuzzy-thunder",
   "metadata": {
    "id": "92acfb5f132741cd94b8b1f63df8eb54"
   },
   "outputs": [
    {
     "name": "stdout",
     "output_type": "stream",
     "text": [
      "Dataframe is saved as CSV in S3 bucket.\n"
     ]
    }
   ],
   "source": [
    "from io import StringIO\n",
    "import boto3\n",
    "\n",
    "#Creating Session With Boto3.\n",
    "\n",
    "session = boto3.Session(\n",
    "aws_access_key_id='',\n",
    "aws_secret_access_key=''\n",
    ")\n",
    "\n",
    "#Creating S3 Resource From the Session.\n",
    "s3_res = session.resource('s3')\n",
    "csv_buffer = StringIO()\n",
    "pred.to_csv(csv_buffer, header=False, index=False)\n",
    "\n",
    "bucket_name = 'ibm-aws-immersion-day-lab-1'\n",
    "s3_object_name = 'pred-data.csv'\n",
    "\n",
    "s3_res.Object(bucket_name, s3_object_name).put(Body=csv_buffer.getvalue())\n",
    "print(\"Dataframe is saved as CSV in S3 bucket.\")"
   ]
  },
  {
   "cell_type": "code",
   "execution_count": 32,
   "id": "novel-booth",
   "metadata": {
    "id": "472c697a-6e09-4d80-9e47-6223299f859d"
   },
   "outputs": [],
   "source": [
    "predictions15 = predict_the_sequences(model, testX, 15, 15)"
   ]
  },
  {
   "cell_type": "code",
   "execution_count": 33,
   "id": "composed-lancaster",
   "metadata": {
    "id": "0eb36bd1-0424-425c-9a07-14538a2c5374"
   },
   "outputs": [
    {
     "data": {
      "text/plain": [
       "[[0.19800232,\n",
       "  0.20471774,\n",
       "  0.21089566,\n",
       "  0.21458103,\n",
       "  0.21655421,\n",
       "  0.21871601,\n",
       "  0.22446449,\n",
       "  0.23054534,\n",
       "  0.23589838,\n",
       "  0.2417389,\n",
       "  0.24471073,\n",
       "  0.24679258,\n",
       "  0.2548627,\n",
       "  0.26243648,\n",
       "  0.27025616],\n",
       " [0.39661422,\n",
       "  0.40972832,\n",
       "  0.42035922,\n",
       "  0.4286901,\n",
       "  0.4466867,\n",
       "  0.4638768,\n",
       "  0.4820111,\n",
       "  0.50111294,\n",
       "  0.52162004,\n",
       "  0.536967,\n",
       "  0.550032,\n",
       "  0.57746595,\n",
       "  0.6037515,\n",
       "  0.6308842,\n",
       "  0.6598425],\n",
       " [0.2596476,\n",
       "  0.24549383,\n",
       "  0.2334541,\n",
       "  0.23628023,\n",
       "  0.2397801,\n",
       "  0.24455877,\n",
       "  0.25016528,\n",
       "  0.2560751,\n",
       "  0.25915518,\n",
       "  0.26030254,\n",
       "  0.26995584,\n",
       "  0.27775753,\n",
       "  0.28538468,\n",
       "  0.29233274,\n",
       "  0.29901403],\n",
       " [0.09935042,\n",
       "  0.09338301,\n",
       "  0.09328233,\n",
       "  0.093850754,\n",
       "  0.09505484,\n",
       "  0.09623,\n",
       "  0.0980889,\n",
       "  0.09894393,\n",
       "  0.099220574,\n",
       "  0.10214709,\n",
       "  0.104938515,\n",
       "  0.10777774,\n",
       "  0.11042177,\n",
       "  0.11275438,\n",
       "  0.11374849],\n",
       " [0.3073767,\n",
       "  0.32215893,\n",
       "  0.33519888,\n",
       "  0.34746987,\n",
       "  0.35913655,\n",
       "  0.36801526,\n",
       "  0.37320584,\n",
       "  0.38011584,\n",
       "  0.3963855,\n",
       "  0.412786,\n",
       "  0.4280128,\n",
       "  0.44219744,\n",
       "  0.4572013,\n",
       "  0.46797413,\n",
       "  0.4778005],\n",
       " [0.8911278,\n",
       "  0.9346382,\n",
       "  0.98551476,\n",
       "  1.0425181,\n",
       "  1.1098466,\n",
       "  1.1790501,\n",
       "  1.2538698,\n",
       "  1.3823293,\n",
       "  1.5270566,\n",
       "  1.696666,\n",
       "  1.895627,\n",
       "  2.1314034,\n",
       "  2.3946369,\n",
       "  2.710017,\n",
       "  3.1638486],\n",
       " [0.33032835,\n",
       "  0.3210927,\n",
       "  0.31814477,\n",
       "  0.3196917,\n",
       "  0.31572908,\n",
       "  0.31125143,\n",
       "  0.33031553,\n",
       "  0.34410384,\n",
       "  0.3562489,\n",
       "  0.3679725,\n",
       "  0.37833562,\n",
       "  0.3841332,\n",
       "  0.38898337,\n",
       "  0.40542516,\n",
       "  0.41759175],\n",
       " [0.16043478,\n",
       "  0.1601728,\n",
       "  0.16103654,\n",
       "  0.1606338,\n",
       "  0.16027291,\n",
       "  0.16635665,\n",
       "  0.17150472,\n",
       "  0.17581487,\n",
       "  0.17975216,\n",
       "  0.18286565,\n",
       "  0.1847356,\n",
       "  0.18571271,\n",
       "  0.19124565,\n",
       "  0.19579862,\n",
       "  0.19989659]]"
      ]
     },
     "execution_count": 33,
     "metadata": {},
     "output_type": "execute_result"
    }
   ],
   "source": [
    "predictions15"
   ]
  },
  {
   "cell_type": "code",
   "execution_count": 34,
   "id": "affiliated-study",
   "metadata": {
    "id": "f748aa70-bd50-4f48-be29-1813d87697f7"
   },
   "outputs": [
    {
     "name": "stdout",
     "output_type": "stream",
     "text": [
      "       0       1       2       3       4       5       6       7       8   \\\n",
      "0  7715.0  7702.0  7744.0  7725.0  7707.0  7998.0  8245.0  8451.0  8640.0   \n",
      "\n",
      "       9       10      11      12      13      14  \n",
      "0  8789.0  8878.0  8925.0  9190.0  9408.0  9604.0  \n"
     ]
    }
   ],
   "source": [
    "predictions15 = scaler.inverse_transform(predictions15)\n",
    "results = pd.DataFrame(np.round(predictions15[-1:]))\n",
    "print(results)"
   ]
  },
  {
   "cell_type": "markdown",
   "id": "certified-share",
   "metadata": {
    "id": "2db546f9a08f4e4c8da375f64c43d1a5"
   },
   "source": [
    "## Save the predicted results to S3 Bucket"
   ]
  },
  {
   "cell_type": "code",
   "execution_count": 35,
   "id": "distributed-target",
   "metadata": {
    "id": "17ea67658d53438a8f212f38eabd721e"
   },
   "outputs": [
    {
     "name": "stdout",
     "output_type": "stream",
     "text": [
      "Dataframe is saved as CSV in S3 bucket.\n"
     ]
    }
   ],
   "source": [
    "from io import StringIO\n",
    "import boto3\n",
    "\n",
    "#Creating Session With Boto3.\n",
    "\n",
    "session = boto3.Session(\n",
    "aws_access_key_id='',\n",
    "aws_secret_access_key=''\n",
    ")\n",
    "\n",
    "#Creating S3 Resource From the Session.\n",
    "s3_res = session.resource('s3')\n",
    "csv_buffer = StringIO()\n",
    "results.T.to_csv(csv_buffer, header=False, index=False)\n",
    "\n",
    "bucket_name = 'ibm-aws-immersion-day-lab-1'\n",
    "s3_object_name = 'flanders-output.csv'\n",
    "\n",
    "s3_res.Object(bucket_name, s3_object_name).put(Body=csv_buffer.getvalue())\n",
    "print(\"Dataframe is saved as CSV in S3 bucket.\")"
   ]
  },
  {
   "cell_type": "markdown",
   "id": "collectible-tennessee",
   "metadata": {
    "id": "8134659557814ad3b313c978bf3c1d71"
   },
   "source": [
    "## Follow the earlier steps with multiple iterations by changing the hyperparameters for better understanding of the flow."
   ]
  },
  {
   "cell_type": "markdown",
   "id": "progressive-beatles",
   "metadata": {
    "id": "44f65e8013a44acc9633807d88b5943a"
   },
   "source": [
    "We can use model.save(filepath) to save a Keras model into a single HDF5 file which will contain:\n",
    "\n",
    "The architecture of the model, allowing to re-create the model.\n",
    "\n",
    "The weights of the model.\n",
    "\n",
    "The training configuration (loss, optimizer).\n",
    "\n",
    "The state of the optimizer, allowing to resume training exactly where you left off."
   ]
  },
  {
   "cell_type": "markdown",
   "id": "infrared-strategy",
   "metadata": {
    "id": "9db7778436b24b548823d321d7149446"
   },
   "source": [
    "# Transfer Learning\n",
    "Save the model for future use on new data"
   ]
  },
  {
   "cell_type": "markdown",
   "id": "vocational-palestine",
   "metadata": {
    "id": "017f5bb4b73d41d7acad13be086280a9"
   },
   "source": [
    "## Get the current working directory"
   ]
  },
  {
   "cell_type": "code",
   "execution_count": 36,
   "id": "refined-surface",
   "metadata": {
    "id": "62b189d3d752471c8ea8be7013ad897f"
   },
   "outputs": [
    {
     "data": {
      "text/plain": [
       "'/home/wsuser/work'"
      ]
     },
     "execution_count": 36,
     "metadata": {},
     "output_type": "execute_result"
    }
   ],
   "source": [
    "import os\n",
    "os.getcwd()"
   ]
  },
  {
   "cell_type": "markdown",
   "id": "veterinary-ultimate",
   "metadata": {
    "id": "cdce097820f44bc18ca84725bde04df3"
   },
   "source": [
    "## Save the model to home directory"
   ]
  },
  {
   "cell_type": "code",
   "execution_count": 37,
   "id": "sustainable-denial",
   "metadata": {
    "id": "66efaafec5c844b587b4961ad1d18af1"
   },
   "outputs": [
    {
     "name": "stdout",
     "output_type": "stream",
     "text": [
      "Model saved to disc\n"
     ]
    }
   ],
   "source": [
    "model.save('/home/wsuser/work/my_pred_model_Flanders.h5')\n",
    "print('Model saved to disc')"
   ]
  },
  {
   "cell_type": "markdown",
   "id": "center-maple",
   "metadata": {
    "id": "08b6e335844942ab983de415ad5ac8c9"
   },
   "source": [
    "## Load the model"
   ]
  },
  {
   "cell_type": "code",
   "execution_count": 38,
   "id": "purple-actor",
   "metadata": {
    "id": "cc44e9eba03c435586e9ab4e18953c61"
   },
   "outputs": [
    {
     "name": "stdout",
     "output_type": "stream",
     "text": [
      "Model loaded to the session\n"
     ]
    }
   ],
   "source": [
    "model = load_model('/home/wsuser/work/my_pred_model_Flanders.h5')\n",
    "print('Model loaded to the session')"
   ]
  },
  {
   "cell_type": "markdown",
   "id": "anticipated-astronomy",
   "metadata": {
    "id": "666c59a4f3de4ebe8d5f803b5d0dc365"
   },
   "source": [
    "## Save the model to S3 Bucket"
   ]
  },
  {
   "cell_type": "code",
   "execution_count": 39,
   "id": "aquatic-algeria",
   "metadata": {
    "id": "b495ffee09d548d98d5d1cf1778694c5"
   },
   "outputs": [
    {
     "name": "stdout",
     "output_type": "stream",
     "text": [
      "Model saved to S3 bucket\n"
     ]
    }
   ],
   "source": [
    "from keras.models import load_model\n",
    "import boto3\n",
    "\n",
    "session = boto3.Session(\n",
    "aws_access_key_id='',\n",
    "aws_secret_access_key=''\n",
    ")\n",
    "\n",
    "csv_buffer = StringIO()\n",
    "\n",
    "bucket_name = 'ibm-aws-immersion-day-lab-1'\n",
    "s3_object_name = 'my_pred_model_Flanders.h5'\n",
    "\n",
    "s3_res.Object(bucket_name, s3_object_name).put(Body=csv_buffer.getvalue())\n",
    "print('Model saved to S3 bucket')"
   ]
  },
  {
   "cell_type": "markdown",
   "id": "lyric-parks",
   "metadata": {
    "id": "c7dd25482e6145ad96f3a0523da8d6a1"
   },
   "source": [
    "# Methodology to save the model's architecture and weights for reusability in the future\n",
    "We can use these weights alone which has the learnings on other data."
   ]
  },
  {
   "cell_type": "code",
   "execution_count": 40,
   "id": "stuffed-horizon",
   "metadata": {
    "id": "4bdb1bfce8514e028292b307905a4208"
   },
   "outputs": [
    {
     "name": "stdout",
     "output_type": "stream",
     "text": [
      "Saved model & weights to disk\n"
     ]
    }
   ],
   "source": [
    "model_json = model.to_json()\n",
    "with open('/home/wsuser/work/my_pred_model_Flanders.json', \"w\") as json_file:\n",
    "    json_file.write(model_json)\n",
    "\n",
    "model.save_weights(\"/home/wsuser/work/pred_model.h5\")\n",
    "print(\"Saved model & weights to disk\")"
   ]
  },
  {
   "cell_type": "markdown",
   "id": "fresh-formula",
   "metadata": {
    "id": "41a4bdd52514448db137258900d6a14d"
   },
   "source": [
    "# By loading the model architecture, we can rebuild the model with different configuration\n",
    "\n",
    "We can also use the existing weights on the new architecture."
   ]
  },
  {
   "cell_type": "code",
   "execution_count": 41,
   "id": "cultural-shooting",
   "metadata": {
    "id": "911cce5163444cca8dcd5564b1732434"
   },
   "outputs": [
    {
     "name": "stdout",
     "output_type": "stream",
     "text": [
      "Loaded model & weights from disk\n"
     ]
    }
   ],
   "source": [
    "json_file = open('/home/wsuser/work/my_pred_model_Flanders.json', 'r')\n",
    "loaded_model_json = json_file.read()\n",
    "json_file.close()\n",
    "loaded_model = model_from_json(loaded_model_json)\n",
    "\n",
    "\n",
    "loaded_model.load_weights(\"/home/wsuser/work/pred_model.h5\")\n",
    "print(\"Loaded model & weights from disk\")"
   ]
  },
  {
   "cell_type": "markdown",
   "id": "modified-chemical",
   "metadata": {
    "id": "60b1c824ed1649d28db15f8fc50b7494"
   },
   "source": [
    "We have learned how to create and deploy a deep learning model, save the model, architecture & weights for future use. We have also learned how to evaluate the model & tune the parameters. LSTM is a very popular technique which can be applied to different usecases and can produce great results. "
   ]
  },
  {
   "cell_type": "code",
   "execution_count": 42,
   "id": "musical-current",
   "metadata": {
    "id": "1678df294a8e47869ed13bfd9ae1aa8d"
   },
   "outputs": [
    {
     "name": "stdout",
     "output_type": "stream",
     "text": [
      "> The Notebook ran in :  29.0\n"
     ]
    }
   ],
   "source": [
    "print(\"> The Notebook ran in : \", round(time.time() - st,2)) "
   ]
  }
 ],
 "metadata": {
  "kernelspec": {
   "display_name": "Python 3 (ipykernel)",
   "language": "python",
   "name": "python3"
  },
  "language_info": {
   "codemirror_mode": {
    "name": "ipython",
    "version": 3
   },
   "file_extension": ".py",
   "mimetype": "text/x-python",
   "name": "python",
   "nbconvert_exporter": "python",
   "pygments_lexer": "ipython3",
   "version": "3.8.9"
  }
 },
 "nbformat": 4,
 "nbformat_minor": 5
}
