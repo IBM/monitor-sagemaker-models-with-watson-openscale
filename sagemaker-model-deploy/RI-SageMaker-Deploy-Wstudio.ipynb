{
 "cells": [
  {
   "cell_type": "markdown",
   "id": "46e331c8",
   "metadata": {
    "id": "1c2a3654-8b51-4150-b16f-9a3773e26390"
   },
   "source": [
    "# Build multiclass classifiers with Amazon SageMaker linear learner to predict Risk Index per Region"
   ]
  },
  {
   "cell_type": "code",
   "execution_count": 1,
   "id": "0f4475b7",
   "metadata": {
    "id": "0efeaf67-910c-4372-a0b0-6b37b9d24070"
   },
   "outputs": [],
   "source": [
    "import time\n",
    "st = time.time()"
   ]
  },
  {
   "cell_type": "code",
   "execution_count": 2,
   "id": "5918ea44",
   "metadata": {
    "id": "016491122aff46b785a056cdabb1488b"
   },
   "outputs": [
    {
     "name": "stdout",
     "output_type": "stream",
     "text": [
      "Requirement already satisfied: sagemaker in /opt/conda/envs/Python-3.9/lib/python3.9/site-packages (2.88.3)\n",
      "Requirement already satisfied: protobuf3-to-dict>=0.1.5 in /opt/conda/envs/Python-3.9/lib/python3.9/site-packages (from sagemaker) (0.1.5)\n",
      "Requirement already satisfied: packaging>=20.0 in /opt/conda/envs/Python-3.9/lib/python3.9/site-packages (from sagemaker) (21.3)\n",
      "Requirement already satisfied: pandas in /opt/conda/envs/Python-3.9/lib/python3.9/site-packages (from sagemaker) (1.3.4)\n",
      "Requirement already satisfied: smdebug-rulesconfig==1.0.1 in /opt/conda/envs/Python-3.9/lib/python3.9/site-packages (from sagemaker) (1.0.1)\n",
      "Requirement already satisfied: attrs==20.3.0 in /opt/conda/envs/Python-3.9/lib/python3.9/site-packages (from sagemaker) (20.3.0)\n",
      "Requirement already satisfied: importlib-metadata>=1.4.0 in /opt/conda/envs/Python-3.9/lib/python3.9/site-packages (from sagemaker) (4.8.2)\n",
      "Requirement already satisfied: protobuf>=3.1 in /opt/conda/envs/Python-3.9/lib/python3.9/site-packages (from sagemaker) (3.19.1)\n",
      "Requirement already satisfied: pathos in /opt/conda/envs/Python-3.9/lib/python3.9/site-packages (from sagemaker) (0.2.8)\n",
      "Requirement already satisfied: boto3>=1.20.21 in /opt/conda/envs/Python-3.9/lib/python3.9/site-packages (from sagemaker) (1.22.11)\n",
      "Requirement already satisfied: numpy>=1.9.0 in /opt/conda/envs/Python-3.9/lib/python3.9/site-packages (from sagemaker) (1.20.3)\n",
      "Requirement already satisfied: google-pasta in /opt/conda/envs/Python-3.9/lib/python3.9/site-packages (from sagemaker) (0.2.0)\n",
      "Requirement already satisfied: botocore<1.26.0,>=1.25.11 in /opt/conda/envs/Python-3.9/lib/python3.9/site-packages (from boto3>=1.20.21->sagemaker) (1.25.11)\n",
      "Requirement already satisfied: s3transfer<0.6.0,>=0.5.0 in /opt/conda/envs/Python-3.9/lib/python3.9/site-packages (from boto3>=1.20.21->sagemaker) (0.5.0)\n",
      "Requirement already satisfied: jmespath<2.0.0,>=0.7.1 in /opt/conda/envs/Python-3.9/lib/python3.9/site-packages (from boto3>=1.20.21->sagemaker) (0.10.0)\n",
      "Requirement already satisfied: python-dateutil<3.0.0,>=2.1 in /opt/conda/envs/Python-3.9/lib/python3.9/site-packages (from botocore<1.26.0,>=1.25.11->boto3>=1.20.21->sagemaker) (2.8.2)\n",
      "Requirement already satisfied: urllib3<1.27,>=1.25.4 in /opt/conda/envs/Python-3.9/lib/python3.9/site-packages (from botocore<1.26.0,>=1.25.11->boto3>=1.20.21->sagemaker) (1.26.7)\n",
      "Requirement already satisfied: zipp>=0.5 in /opt/conda/envs/Python-3.9/lib/python3.9/site-packages (from importlib-metadata>=1.4.0->sagemaker) (3.6.0)\n",
      "Requirement already satisfied: pyparsing!=3.0.5,>=2.0.2 in /opt/conda/envs/Python-3.9/lib/python3.9/site-packages (from packaging>=20.0->sagemaker) (3.0.4)\n",
      "Requirement already satisfied: six in /opt/conda/envs/Python-3.9/lib/python3.9/site-packages (from protobuf3-to-dict>=0.1.5->sagemaker) (1.15.0)\n",
      "Requirement already satisfied: pytz>=2017.3 in /opt/conda/envs/Python-3.9/lib/python3.9/site-packages (from pandas->sagemaker) (2021.3)\n",
      "Requirement already satisfied: pox>=0.3.0 in /opt/conda/envs/Python-3.9/lib/python3.9/site-packages (from pathos->sagemaker) (0.3.0)\n",
      "Requirement already satisfied: dill>=0.3.4 in /opt/conda/envs/Python-3.9/lib/python3.9/site-packages (from pathos->sagemaker) (0.3.4)\n",
      "Requirement already satisfied: ppft>=1.6.6.4 in /opt/conda/envs/Python-3.9/lib/python3.9/site-packages (from pathos->sagemaker) (1.6.6.4)\n",
      "Requirement already satisfied: multiprocess>=0.70.12 in /opt/conda/envs/Python-3.9/lib/python3.9/site-packages (from pathos->sagemaker) (0.70.12.2)\n"
     ]
    }
   ],
   "source": [
    "!pip install sagemaker"
   ]
  },
  {
   "cell_type": "markdown",
   "id": "54afae21",
   "metadata": {
    "id": "9be6fde4-27a3-4df0-ac29-80e694481bda"
   },
   "source": [
    "### Import the libraries into the notebook"
   ]
  },
  {
   "cell_type": "code",
   "execution_count": 3,
   "id": "bd4565b7",
   "metadata": {
    "id": "ab4e3b14-063c-41db-81d5-173baf52d73c"
   },
   "outputs": [],
   "source": [
    "%matplotlib inline\n",
    "import numpy as np \n",
    "import pandas as pd \n",
    "import matplotlib.pyplot as plt\n",
    "import ipaddress\n",
    "from sklearn import preprocessing\n",
    "import warnings\n",
    "warnings.filterwarnings(\"ignore\")\n",
    "import time\n",
    "import boto3\n",
    "from sklearn.linear_model import LogisticRegression\n",
    "from sklearn.model_selection import train_test_split\n",
    "from sklearn import preprocessing\n",
    "from sklearn.model_selection import train_test_split\n",
    "from sklearn.ensemble import RandomForestClassifier\n",
    "from sklearn.metrics import accuracy_score\n",
    "from sklearn.metrics import confusion_matrix\n",
    "from sklearn import metrics\n",
    "import seaborn as sns\n",
    "sns.set(style=\"white\")\n",
    "sns.set(style=\"whitegrid\", color_codes=True)"
   ]
  },
  {
   "cell_type": "markdown",
   "id": "1eba3698",
   "metadata": {
    "id": "60c6ad98-95b7-48bb-8f4b-80b37104f116"
   },
   "source": [
    "### Update the credentials for S3 Bucket\n",
    "We will ingest the data files which were pre-processed in the earlier steps using the Data pre-processing Notebook"
   ]
  },
  {
   "cell_type": "code",
   "execution_count": 4,
   "id": "83fda6c8",
   "metadata": {
    "id": "8d3c2e2e-92dc-488e-af20-1d7d38c22766"
   },
   "outputs": [],
   "source": [
    "BUCKET_TYPE=\"\"\n",
    "BUCKET_NAME=\"\"\n",
    "BUCKET_REGION=\"\"\n",
    "AWS_ACCESS_KEY_ID=\"\"\n",
    "AWS_SECRET_ACCESS_KEY=\"\""
   ]
  },
  {
   "cell_type": "markdown",
   "id": "6accaed1",
   "metadata": {
    "id": "9b768f46-7e6e-4058-8786-6efda5222ba7"
   },
   "source": [
    "### Create an instance with S3 Credentials "
   ]
  },
  {
   "cell_type": "code",
   "execution_count": 5,
   "id": "4f29bdd9",
   "metadata": {
    "id": "26595209-14cc-468c-abe7-c512a007d172"
   },
   "outputs": [],
   "source": [
    "s3 = boto3.resource(\n",
    "    service_name = BUCKET_TYPE,\n",
    "    region_name = BUCKET_REGION,\n",
    "    aws_access_key_id = AWS_ACCESS_KEY_ID,\n",
    "    aws_secret_access_key = AWS_SECRET_ACCESS_KEY\n",
    ")"
   ]
  },
  {
   "cell_type": "markdown",
   "id": "a8ffee58",
   "metadata": {
    "id": "c3a2becd-c232-4286-ab41-2b91f9ac1766"
   },
   "source": [
    "### Read and display the available datasets in S3 Bucket"
   ]
  },
  {
   "cell_type": "code",
   "execution_count": 6,
   "id": "8aff4a88",
   "metadata": {
    "id": "d081116b-6859-4c9b-b6e7-604be022d2f8"
   },
   "outputs": [
    {
     "data": {
      "text/plain": [
       "['15-day-pred.csv',\n",
       " 'Belgium-country-output.csv',\n",
       " 'Belgium-ts.csv',\n",
       " 'Risk-Index-Output/',\n",
       " 'Risk-Index_data/',\n",
       " 'Risk-Index_data/RI_data.csv',\n",
       " 'Risk-Index_data/test.csv',\n",
       " 'Risk-Index_data/train.csv',\n",
       " 'Risk-Index_data/ts-data-region-RI.csv',\n",
       " 'Risk_Index/Risk_index_training_recoded.csv',\n",
       " 'flanders-output.csv',\n",
       " 'my_pred_model_Belgium.h5',\n",
       " 'my_pred_model_Flanders.h5',\n",
       " 'pred-data-15.csv',\n",
       " 'pred-data.csv',\n",
       " 'pred-models/',\n",
       " 'raw-data/',\n",
       " 'raw-data/COVID19BE_CASES_AGESEX.csv',\n",
       " 'raw-data/COVID19BE_HOSP.csv',\n",
       " 'test-data.csv',\n",
       " 'test-y-data.csv',\n",
       " 'time-series-data/',\n",
       " 'time-series-data/Belgium-ts.csv',\n",
       " 'time-series-data/formatted/',\n",
       " 'time-series-data/formatted/Belgium-ts-21-04.csv',\n",
       " 'time-series-data/formatted/Belgium-ts.csv',\n",
       " 'time-series-data/formatted/Belgium-ts.xlsx',\n",
       " 'time-series-data/formatted/forecast-data-15.csv',\n",
       " 'time-series-data/formatted/results/',\n",
       " 'time-series-data/formatted/ts-Brussels-grouped-21-04.csv',\n",
       " 'time-series-data/formatted/ts-Brussels-grouped.csv',\n",
       " 'time-series-data/formatted/ts-Brussels-grouped.xlsx',\n",
       " 'time-series-data/formatted/ts-Flanders-grouped-21-04.csv',\n",
       " 'time-series-data/formatted/ts-Flanders-grouped.csv',\n",
       " 'time-series-data/formatted/ts-Flanders-grouped.xlsx',\n",
       " 'time-series-data/formatted/ts-Wallonia-grouped-21-04.csv',\n",
       " 'time-series-data/formatted/ts-Wallonia-grouped.csv',\n",
       " 'time-series-data/formatted/ts-Wallonia-grouped.xlsx',\n",
       " 'time-series-data/formatted/ts-data-region-21-04.csv',\n",
       " 'time-series-data/formatted/ts-data-region.csv',\n",
       " 'time-series-data/formatted/ts-data-region.xlsx',\n",
       " 'time-series-data/ts-Brussels-grouped.csv',\n",
       " 'time-series-data/ts-Flanders-grouped.csv',\n",
       " 'time-series-data/ts-Wallonia-grouped.csv',\n",
       " 'time-series-data/ts-data-region.csv',\n",
       " 'ts-Brussels.csv',\n",
       " 'ts-Flanders.csv',\n",
       " 'ts-Wallonia.csv',\n",
       " 'ts-data-region-RI.csv',\n",
       " 'ts-data-region.csv']"
      ]
     },
     "execution_count": 6,
     "metadata": {},
     "output_type": "execute_result"
    }
   ],
   "source": [
    "datasets = []\n",
    "for obj in s3.Bucket(BUCKET_NAME).objects.all():\n",
    "    datasets.append(obj.key)\n",
    "datasets"
   ]
  },
  {
   "cell_type": "markdown",
   "id": "9c4948fd",
   "metadata": {
    "id": "4551c425-aea9-4002-8745-dc0e39fcb12c"
   },
   "source": [
    "### Read the Risk Index per Region data as dataframe and display five records"
   ]
  },
  {
   "cell_type": "code",
   "execution_count": 7,
   "id": "a6e98033",
   "metadata": {
    "id": "aa5f1912-8e3b-4d52-a493-8c674b33bf56"
   },
   "outputs": [
    {
     "data": {
      "text/html": [
       "<div>\n",
       "<style scoped>\n",
       "    .dataframe tbody tr th:only-of-type {\n",
       "        vertical-align: middle;\n",
       "    }\n",
       "\n",
       "    .dataframe tbody tr th {\n",
       "        vertical-align: top;\n",
       "    }\n",
       "\n",
       "    .dataframe thead th {\n",
       "        text-align: right;\n",
       "    }\n",
       "</style>\n",
       "<table border=\"1\" class=\"dataframe\">\n",
       "  <thead>\n",
       "    <tr style=\"text-align: right;\">\n",
       "      <th></th>\n",
       "      <th>DATE</th>\n",
       "      <th>REGION</th>\n",
       "      <th>Total_cases</th>\n",
       "      <th>Risk_Index</th>\n",
       "    </tr>\n",
       "  </thead>\n",
       "  <tbody>\n",
       "    <tr>\n",
       "      <th>0</th>\n",
       "      <td>2020-03-15</td>\n",
       "      <td>Brussels</td>\n",
       "      <td>119</td>\n",
       "      <td>0</td>\n",
       "    </tr>\n",
       "    <tr>\n",
       "      <th>1</th>\n",
       "      <td>2020-03-15</td>\n",
       "      <td>Flanders</td>\n",
       "      <td>461</td>\n",
       "      <td>2</td>\n",
       "    </tr>\n",
       "    <tr>\n",
       "      <th>2</th>\n",
       "      <td>2020-03-15</td>\n",
       "      <td>Wallonia</td>\n",
       "      <td>383</td>\n",
       "      <td>1</td>\n",
       "    </tr>\n",
       "    <tr>\n",
       "      <th>3</th>\n",
       "      <td>2020-03-16</td>\n",
       "      <td>Brussels</td>\n",
       "      <td>238</td>\n",
       "      <td>0</td>\n",
       "    </tr>\n",
       "    <tr>\n",
       "      <th>4</th>\n",
       "      <td>2020-03-16</td>\n",
       "      <td>Flanders</td>\n",
       "      <td>794</td>\n",
       "      <td>2</td>\n",
       "    </tr>\n",
       "  </tbody>\n",
       "</table>\n",
       "</div>"
      ],
      "text/plain": [
       "         DATE    REGION  Total_cases  Risk_Index\n",
       "0  2020-03-15  Brussels          119           0\n",
       "1  2020-03-15  Flanders          461           2\n",
       "2  2020-03-15  Wallonia          383           1\n",
       "3  2020-03-16  Brussels          238           0\n",
       "4  2020-03-16  Flanders          794           2"
      ]
     },
     "execution_count": 7,
     "metadata": {},
     "output_type": "execute_result"
    }
   ],
   "source": [
    "obj = s3.Bucket(BUCKET_NAME).Object('ts-data-region-RI.csv').get()\n",
    "data = pd.read_csv(obj['Body'])\n",
    "data.head()"
   ]
  },
  {
   "cell_type": "markdown",
   "id": "3338b239",
   "metadata": {
    "id": "ef4d9779-5116-4a99-98a4-443103323635"
   },
   "source": [
    "### Identify the Data Types"
   ]
  },
  {
   "cell_type": "code",
   "execution_count": 8,
   "id": "499f1383",
   "metadata": {
    "id": "258f3b6d-316f-4659-8999-445f78fd9e37"
   },
   "outputs": [
    {
     "data": {
      "text/plain": [
       "DATE           object\n",
       "REGION         object\n",
       "Total_cases     int64\n",
       "Risk_Index      int64\n",
       "dtype: object"
      ]
     },
     "execution_count": 8,
     "metadata": {},
     "output_type": "execute_result"
    }
   ],
   "source": [
    "data.dtypes"
   ]
  },
  {
   "cell_type": "markdown",
   "id": "3723f66e",
   "metadata": {
    "id": "e3247dcf-e02b-4cee-9ca0-e3f1f108ee86"
   },
   "source": [
    "### Drop the Date attribute as we will not be using it"
   ]
  },
  {
   "cell_type": "code",
   "execution_count": 9,
   "id": "05f441db",
   "metadata": {
    "id": "72514323-cd42-4d89-b442-703a3044f87b"
   },
   "outputs": [
    {
     "data": {
      "text/html": [
       "<div>\n",
       "<style scoped>\n",
       "    .dataframe tbody tr th:only-of-type {\n",
       "        vertical-align: middle;\n",
       "    }\n",
       "\n",
       "    .dataframe tbody tr th {\n",
       "        vertical-align: top;\n",
       "    }\n",
       "\n",
       "    .dataframe thead th {\n",
       "        text-align: right;\n",
       "    }\n",
       "</style>\n",
       "<table border=\"1\" class=\"dataframe\">\n",
       "  <thead>\n",
       "    <tr style=\"text-align: right;\">\n",
       "      <th></th>\n",
       "      <th>REGION</th>\n",
       "      <th>Total_cases</th>\n",
       "      <th>Risk_Index</th>\n",
       "    </tr>\n",
       "  </thead>\n",
       "  <tbody>\n",
       "    <tr>\n",
       "      <th>0</th>\n",
       "      <td>Brussels</td>\n",
       "      <td>119</td>\n",
       "      <td>0</td>\n",
       "    </tr>\n",
       "    <tr>\n",
       "      <th>1</th>\n",
       "      <td>Flanders</td>\n",
       "      <td>461</td>\n",
       "      <td>2</td>\n",
       "    </tr>\n",
       "    <tr>\n",
       "      <th>2</th>\n",
       "      <td>Wallonia</td>\n",
       "      <td>383</td>\n",
       "      <td>1</td>\n",
       "    </tr>\n",
       "    <tr>\n",
       "      <th>3</th>\n",
       "      <td>Brussels</td>\n",
       "      <td>238</td>\n",
       "      <td>0</td>\n",
       "    </tr>\n",
       "    <tr>\n",
       "      <th>4</th>\n",
       "      <td>Flanders</td>\n",
       "      <td>794</td>\n",
       "      <td>2</td>\n",
       "    </tr>\n",
       "    <tr>\n",
       "      <th>...</th>\n",
       "      <td>...</td>\n",
       "      <td>...</td>\n",
       "      <td>...</td>\n",
       "    </tr>\n",
       "    <tr>\n",
       "      <th>2215</th>\n",
       "      <td>Brussels</td>\n",
       "      <td>677</td>\n",
       "      <td>0</td>\n",
       "    </tr>\n",
       "    <tr>\n",
       "      <th>2216</th>\n",
       "      <td>Flanders</td>\n",
       "      <td>7909</td>\n",
       "      <td>2</td>\n",
       "    </tr>\n",
       "    <tr>\n",
       "      <th>2217</th>\n",
       "      <td>Wallonia</td>\n",
       "      <td>1371</td>\n",
       "      <td>1</td>\n",
       "    </tr>\n",
       "    <tr>\n",
       "      <th>2218</th>\n",
       "      <td>Flanders</td>\n",
       "      <td>295</td>\n",
       "      <td>2</td>\n",
       "    </tr>\n",
       "    <tr>\n",
       "      <th>2219</th>\n",
       "      <td>Wallonia</td>\n",
       "      <td>33</td>\n",
       "      <td>0</td>\n",
       "    </tr>\n",
       "  </tbody>\n",
       "</table>\n",
       "<p>2220 rows × 3 columns</p>\n",
       "</div>"
      ],
      "text/plain": [
       "        REGION  Total_cases  Risk_Index\n",
       "0     Brussels          119           0\n",
       "1     Flanders          461           2\n",
       "2     Wallonia          383           1\n",
       "3     Brussels          238           0\n",
       "4     Flanders          794           2\n",
       "...        ...          ...         ...\n",
       "2215  Brussels          677           0\n",
       "2216  Flanders         7909           2\n",
       "2217  Wallonia         1371           1\n",
       "2218  Flanders          295           2\n",
       "2219  Wallonia           33           0\n",
       "\n",
       "[2220 rows x 3 columns]"
      ]
     },
     "execution_count": 9,
     "metadata": {},
     "output_type": "execute_result"
    }
   ],
   "source": [
    "data.drop('DATE', axis=1, inplace=True)\n",
    "data"
   ]
  },
  {
   "cell_type": "markdown",
   "id": "4fd42470",
   "metadata": {
    "id": "bf5b3552-d60c-4a83-9e26-8e0c47f13912"
   },
   "source": [
    "### Encode the Region data into integers\n",
    "\n",
    "Brussels is encoded as 0 ::: Flanders is encoded as 1 ::: Wallonia is encoded as 2"
   ]
  },
  {
   "cell_type": "code",
   "execution_count": 10,
   "id": "bd0f192c",
   "metadata": {
    "id": "e1414fef-af09-41da-a021-434dea08e174"
   },
   "outputs": [
    {
     "data": {
      "text/html": [
       "<div>\n",
       "<style scoped>\n",
       "    .dataframe tbody tr th:only-of-type {\n",
       "        vertical-align: middle;\n",
       "    }\n",
       "\n",
       "    .dataframe tbody tr th {\n",
       "        vertical-align: top;\n",
       "    }\n",
       "\n",
       "    .dataframe thead th {\n",
       "        text-align: right;\n",
       "    }\n",
       "</style>\n",
       "<table border=\"1\" class=\"dataframe\">\n",
       "  <thead>\n",
       "    <tr style=\"text-align: right;\">\n",
       "      <th></th>\n",
       "      <th>REGION</th>\n",
       "      <th>Total_cases</th>\n",
       "      <th>Risk_Index</th>\n",
       "    </tr>\n",
       "  </thead>\n",
       "  <tbody>\n",
       "    <tr>\n",
       "      <th>0</th>\n",
       "      <td>0</td>\n",
       "      <td>119</td>\n",
       "      <td>0</td>\n",
       "    </tr>\n",
       "    <tr>\n",
       "      <th>1</th>\n",
       "      <td>1</td>\n",
       "      <td>461</td>\n",
       "      <td>2</td>\n",
       "    </tr>\n",
       "    <tr>\n",
       "      <th>2</th>\n",
       "      <td>2</td>\n",
       "      <td>383</td>\n",
       "      <td>1</td>\n",
       "    </tr>\n",
       "    <tr>\n",
       "      <th>3</th>\n",
       "      <td>0</td>\n",
       "      <td>238</td>\n",
       "      <td>0</td>\n",
       "    </tr>\n",
       "    <tr>\n",
       "      <th>4</th>\n",
       "      <td>1</td>\n",
       "      <td>794</td>\n",
       "      <td>2</td>\n",
       "    </tr>\n",
       "    <tr>\n",
       "      <th>...</th>\n",
       "      <td>...</td>\n",
       "      <td>...</td>\n",
       "      <td>...</td>\n",
       "    </tr>\n",
       "    <tr>\n",
       "      <th>2215</th>\n",
       "      <td>0</td>\n",
       "      <td>677</td>\n",
       "      <td>0</td>\n",
       "    </tr>\n",
       "    <tr>\n",
       "      <th>2216</th>\n",
       "      <td>1</td>\n",
       "      <td>7909</td>\n",
       "      <td>2</td>\n",
       "    </tr>\n",
       "    <tr>\n",
       "      <th>2217</th>\n",
       "      <td>2</td>\n",
       "      <td>1371</td>\n",
       "      <td>1</td>\n",
       "    </tr>\n",
       "    <tr>\n",
       "      <th>2218</th>\n",
       "      <td>1</td>\n",
       "      <td>295</td>\n",
       "      <td>2</td>\n",
       "    </tr>\n",
       "    <tr>\n",
       "      <th>2219</th>\n",
       "      <td>2</td>\n",
       "      <td>33</td>\n",
       "      <td>0</td>\n",
       "    </tr>\n",
       "  </tbody>\n",
       "</table>\n",
       "<p>2220 rows × 3 columns</p>\n",
       "</div>"
      ],
      "text/plain": [
       "      REGION  Total_cases  Risk_Index\n",
       "0          0          119           0\n",
       "1          1          461           2\n",
       "2          2          383           1\n",
       "3          0          238           0\n",
       "4          1          794           2\n",
       "...      ...          ...         ...\n",
       "2215       0          677           0\n",
       "2216       1         7909           2\n",
       "2217       2         1371           1\n",
       "2218       1          295           2\n",
       "2219       2           33           0\n",
       "\n",
       "[2220 rows x 3 columns]"
      ]
     },
     "execution_count": 10,
     "metadata": {},
     "output_type": "execute_result"
    }
   ],
   "source": [
    "label_encoder = preprocessing.LabelEncoder()\n",
    "\n",
    "data['REGION']= label_encoder.fit_transform(data['REGION'])\n",
    "\n",
    "data"
   ]
  },
  {
   "cell_type": "markdown",
   "id": "c9330971",
   "metadata": {
    "id": "186346b6-2e4e-4af6-a8e8-e9ba49759229"
   },
   "source": [
    "### Convert dataframe to numpy array"
   ]
  },
  {
   "cell_type": "code",
   "execution_count": 11,
   "id": "e95de8cb",
   "metadata": {
    "id": "e3ed04af-ec6a-42be-9e4c-0111103a77fc"
   },
   "outputs": [],
   "source": [
    "data = data.to_numpy(dtype ='float32')"
   ]
  },
  {
   "cell_type": "markdown",
   "id": "b1c32dcc",
   "metadata": {
    "id": "c1efc710-5fa9-4d76-8ec5-d9ec7ccfc349"
   },
   "source": [
    "### Generate Data features (input) & Data Labels (target)"
   ]
  },
  {
   "cell_type": "code",
   "execution_count": 12,
   "id": "a39accd2",
   "metadata": {
    "id": "b2e64e76-8459-4484-8c9c-adac194265d5"
   },
   "outputs": [],
   "source": [
    "data_features, data_labels = data[:, :2], data[:, 2]"
   ]
  },
  {
   "cell_type": "code",
   "execution_count": 13,
   "id": "2e0dd037",
   "metadata": {
    "id": "abeae90a-4761-44a1-9077-7cf0a651ab6b"
   },
   "outputs": [
    {
     "data": {
      "text/plain": [
       "array([0., 2., 1., ..., 1., 2., 0.], dtype=float32)"
      ]
     },
     "execution_count": 13,
     "metadata": {},
     "output_type": "execute_result"
    }
   ],
   "source": [
    "data_labels"
   ]
  },
  {
   "cell_type": "markdown",
   "id": "cbcc49e0",
   "metadata": {
    "id": "855745ae-ecfd-4b09-b85a-2e567b6bc031"
   },
   "source": [
    "### Split the data into training & testing data with 80:20 ratio"
   ]
  },
  {
   "cell_type": "code",
   "execution_count": 14,
   "id": "00647c4c",
   "metadata": {
    "id": "3bf179b4-13fe-449e-945e-4fe0536ba0bd"
   },
   "outputs": [],
   "source": [
    "np.random.seed(0)\n",
    "train_features, test_features, train_labels, test_labels = train_test_split(\n",
    "    data_features, data_labels, test_size=0.2)"
   ]
  },
  {
   "cell_type": "markdown",
   "id": "93518cde",
   "metadata": {
    "id": "18a8c08c-c106-4849-a94e-36e568f596db"
   },
   "source": [
    "### Further split the test set into validation and test sets"
   ]
  },
  {
   "cell_type": "code",
   "execution_count": 15,
   "id": "55b426d4",
   "metadata": {
    "id": "1ba02e8a-e268-4a6b-a37a-8ebb7198b44f"
   },
   "outputs": [],
   "source": [
    "val_features, test_features, val_labels, test_labels = train_test_split(\n",
    "    test_features, test_labels, test_size=0.5)"
   ]
  },
  {
   "cell_type": "markdown",
   "id": "7cd3fda1",
   "metadata": {
    "id": "c2d3b26b-a345-4406-829f-5fb824231786"
   },
   "source": [
    "### Check the count of observations in features & labels"
   ]
  },
  {
   "cell_type": "code",
   "execution_count": 16,
   "id": "5d8aaf5b",
   "metadata": {
    "id": "d761ae3e-27ad-4fc7-ab43-fedc27f8c288"
   },
   "outputs": [
    {
     "data": {
      "text/plain": [
       "1776"
      ]
     },
     "execution_count": 16,
     "metadata": {},
     "output_type": "execute_result"
    }
   ],
   "source": [
    "len(train_features)\n",
    "len(train_labels)"
   ]
  },
  {
   "cell_type": "markdown",
   "id": "32aab3c1",
   "metadata": {
    "id": "eb647f2c-d49d-43db-b6e4-a378fc398e1a"
   },
   "source": [
    "### Assign label names and count label frequencies"
   ]
  },
  {
   "cell_type": "code",
   "execution_count": 17,
   "id": "f1595761",
   "metadata": {
    "id": "69196dd1-84cc-46be-8065-320542fb1722"
   },
   "outputs": [
    {
     "data": {
      "text/plain": [
       "<AxesSubplot:title={'center':'Label Counts'}>"
      ]
     },
     "execution_count": 17,
     "metadata": {},
     "output_type": "execute_result"
    },
    {
     "data": {
      "image/png": "[encoded data removed]",
      "text/plain": [
       "<Figure size 432x288 with 1 Axes>"
      ]
     },
     "metadata": {},
     "output_type": "display_data"
    }
   ],
   "source": [
    "label_map = {0:'Low Risk', 1:'Moderate Risk', 2:'High Risk'}\n",
    "label_counts = pd.DataFrame(data=train_labels)[0].map(label_map).value_counts(sort=False).sort_index(ascending=False)\n",
    "label_counts.plot(kind='barh', color='tomato', title='Label Counts')"
   ]
  },
  {
   "cell_type": "code",
   "execution_count": 18,
   "id": "1d71ecb6",
   "metadata": {
    "id": "ffc97acc399345e4be42834f3b325015"
   },
   "outputs": [],
   "source": [
    "aws_credentials = {'access_key': '', \n",
    "                   'secret_key': '', \n",
    "                   'region_name': ''}"
   ]
  },
  {
   "cell_type": "code",
   "execution_count": 19,
   "id": "75feb837",
   "metadata": {
    "id": "1d301b8c161246e68c81cbf1b0dc33fb"
   },
   "outputs": [],
   "source": [
    "import sagemaker\n",
    "session = boto3.session.Session(\n",
    "    aws_access_key_id = aws_credentials['access_key'],\n",
    "    aws_secret_access_key = aws_credentials['secret_key'],\n",
    "    region_name = aws_credentials['region_name']\n",
    ")\n",
    "region = session.region_name\n",
    "sagemaker_session = sagemaker.Session(session)"
   ]
  },
  {
   "cell_type": "code",
   "execution_count": 20,
   "id": "5f665002",
   "metadata": {
    "id": "fb4b383a869b40aba899bd153b95f498"
   },
   "outputs": [],
   "source": [
    "import os\n",
    "os.environ['AWS_DEFAULT_REGION'] = ''\n",
    "os.environ['AWS_ACCESS_KEY_ID'] = ''\n",
    "os.environ['AWS_SECRET_ACCESS_KEY'] = ''"
   ]
  },
  {
   "cell_type": "markdown",
   "id": "bde5fe53",
   "metadata": {
    "id": "2dc3700a-46cb-4bdd-9a33-9656bc760fbc"
   },
   "source": [
    "## Model Building Process"
   ]
  },
  {
   "cell_type": "markdown",
   "id": "90aaa43d",
   "metadata": {
    "id": "5049d185-ffdd-4f8b-aa6d-907139f9e8a0"
   },
   "source": [
    "### Instantiate the LinearLearner estimator object"
   ]
  },
  {
   "cell_type": "code",
   "execution_count": 21,
   "id": "c755ffd2",
   "metadata": {
    "id": "f12eeb19048140658c40a249bf132a46"
   },
   "outputs": [],
   "source": [
    "role='arn:aws:iam::481118440516:role/SagemakerFullAccessRole'"
   ]
  },
  {
   "cell_type": "code",
   "execution_count": 22,
   "id": "89927cbe",
   "metadata": {
    "id": "26377032-d715-4842-8b15-5108892009d2"
   },
   "outputs": [
    {
     "name": "stderr",
     "output_type": "stream",
     "text": [
      "train_instance_count has been renamed in sagemaker>=2.\n",
      "See: https://sagemaker.readthedocs.io/en/stable/v2.html for details.\n",
      "train_instance_type has been renamed in sagemaker>=2.\n",
      "See: https://sagemaker.readthedocs.io/en/stable/v2.html for details.\n"
     ]
    }
   ],
   "source": [
    "import sagemaker\n",
    "from sagemaker.amazon.amazon_estimator import RecordSet\n",
    "import boto3\n",
    "\n",
    "multiclass_estimator = sagemaker.LinearLearner(role=role,\n",
    "                                               train_instance_count=1,\n",
    "                                               train_instance_type='ml.m4.xlarge',\n",
    "                                               predictor_type='multiclass_classifier',\n",
    "                                               num_classes=3)"
   ]
  },
  {
   "cell_type": "markdown",
   "id": "feb4185e",
   "metadata": {
    "id": "43b38ee9-8135-49fb-8596-dac4fa2a48b8"
   },
   "source": [
    "### Wrap data in RecordSet objects"
   ]
  },
  {
   "cell_type": "code",
   "execution_count": 23,
   "id": "4d961262",
   "metadata": {
    "id": "c5b32e30-b3e9-4a83-8151-c4a4b205cb9e"
   },
   "outputs": [],
   "source": [
    "train_records = multiclass_estimator.record_set(train_features, train_labels, channel='train')\n",
    "val_records = multiclass_estimator.record_set(val_features, val_labels, channel='validation')\n",
    "test_records = multiclass_estimator.record_set(test_features, test_labels, channel='test')"
   ]
  },
  {
   "cell_type": "markdown",
   "id": "5a290e01",
   "metadata": {
    "id": "9493026f-9070-4c2d-b15c-66c410752088"
   },
   "source": [
    "### Start a training job"
   ]
  },
  {
   "cell_type": "code",
   "execution_count": 24,
   "id": "bcd8e6f1",
   "metadata": {
    "id": "1a23e459-b776-45bf-9e5a-78b8ea9d0c15"
   },
   "outputs": [
    {
     "name": "stderr",
     "output_type": "stream",
     "text": [
      "Defaulting to the only supported framework/algorithm version: 1. Ignoring framework/algorithm version: 1.\n",
      "Defaulting to the only supported framework/algorithm version: 1. Ignoring framework/algorithm version: 1.\n"
     ]
    },
    {
     "name": "stdout",
     "output_type": "stream",
     "text": [
      "2022-05-11 06:37:33 Starting - Starting the training job...\n",
      "2022-05-11 06:37:56 Starting - Preparing the instances for trainingProfilerReport-1652251053: InProgress\n",
      ".........\n",
      "2022-05-11 06:39:27 Downloading - Downloading input data\n",
      "2022-05-11 06:39:27 Training - Downloading the training image......\n",
      "2022-05-11 06:40:28 Training - Training image download completed. Training in progress..\u001b[34mDocker entrypoint called with argument(s): train\u001b[0m\n",
      "\u001b[34mRunning default environment configuration script\u001b[0m\n",
      "\u001b[34m[05/11/2022 06:40:34 INFO 140711442868032 integration.py:636] worker started\u001b[0m\n",
      "\u001b[34m[05/11/2022 06:40:34 INFO 140711442868032] Reading default configuration from /opt/amazon/lib/python3.7/site-packages/algorithm/resources/default-input.json: {'mini_batch_size': '1000', 'epochs': '15', 'feature_dim': 'auto', 'use_bias': 'true', 'binary_classifier_model_selection_criteria': 'accuracy', 'f_beta': '1.0', 'target_recall': '0.8', 'target_precision': '0.8', 'num_models': 'auto', 'num_calibration_samples': '10000000', 'init_method': 'uniform', 'init_scale': '0.07', 'init_sigma': '0.01', 'init_bias': '0.0', 'optimizer': 'auto', 'loss': 'auto', 'margin': '1.0', 'quantile': '0.5', 'loss_insensitivity': '0.01', 'huber_delta': '1.0', 'num_classes': '1', 'accuracy_top_k': '3', 'wd': 'auto', 'l1': 'auto', 'momentum': 'auto', 'learning_rate': 'auto', 'beta_1': 'auto', 'beta_2': 'auto', 'bias_lr_mult': 'auto', 'bias_wd_mult': 'auto', 'use_lr_scheduler': 'true', 'lr_scheduler_step': 'auto', 'lr_scheduler_factor': 'auto', 'lr_scheduler_minimum_lr': 'auto', 'positive_example_weight_mult': '1.0', 'balance_multiclass_weights': 'false', 'normalize_data': 'true', 'normalize_label': 'auto', 'unbias_data': 'auto', 'unbias_label': 'auto', 'num_point_for_scaler': '10000', '_kvstore': 'auto', '_num_gpus': 'auto', '_num_kv_servers': 'auto', '_log_level': 'info', '_tuning_objective_metric': '', 'early_stopping_patience': '3', 'early_stopping_tolerance': '0.001', '_enable_profiler': 'false'}\u001b[0m\n",
      "\u001b[34m[05/11/2022 06:40:34 INFO 140711442868032] Merging with provided configuration from /opt/ml/input/config/hyperparameters.json: {'feature_dim': '2', 'mini_batch_size': '1000', 'num_classes': '3', 'predictor_type': 'multiclass_classifier'}\u001b[0m\n",
      "\u001b[34m[05/11/2022 06:40:34 INFO 140711442868032] Final configuration: {'mini_batch_size': '1000', 'epochs': '15', 'feature_dim': '2', 'use_bias': 'true', 'binary_classifier_model_selection_criteria': 'accuracy', 'f_beta': '1.0', 'target_recall': '0.8', 'target_precision': '0.8', 'num_models': 'auto', 'num_calibration_samples': '10000000', 'init_method': 'uniform', 'init_scale': '0.07', 'init_sigma': '0.01', 'init_bias': '0.0', 'optimizer': 'auto', 'loss': 'auto', 'margin': '1.0', 'quantile': '0.5', 'loss_insensitivity': '0.01', 'huber_delta': '1.0', 'num_classes': '3', 'accuracy_top_k': '3', 'wd': 'auto', 'l1': 'auto', 'momentum': 'auto', 'learning_rate': 'auto', 'beta_1': 'auto', 'beta_2': 'auto', 'bias_lr_mult': 'auto', 'bias_wd_mult': 'auto', 'use_lr_scheduler': 'true', 'lr_scheduler_step': 'auto', 'lr_scheduler_factor': 'auto', 'lr_scheduler_minimum_lr': 'auto', 'positive_example_weight_mult': '1.0', 'balance_multiclass_weights': 'false', 'normalize_data': 'true', 'normalize_label': 'auto', 'unbias_data': 'auto', 'unbias_label': 'auto', 'num_point_for_scaler': '10000', '_kvstore': 'auto', '_num_gpus': 'auto', '_num_kv_servers': 'auto', '_log_level': 'info', '_tuning_objective_metric': '', 'early_stopping_patience': '3', 'early_stopping_tolerance': '0.001', '_enable_profiler': 'false', 'predictor_type': 'multiclass_classifier'}\u001b[0m\n",
      "\u001b[34m[05/11/2022 06:40:34 WARNING 140711442868032] Loggers have already been setup.\u001b[0m\n",
      "\u001b[34mProcess 1 is a worker.\u001b[0m\n",
      "\u001b[34m[05/11/2022 06:40:34 INFO 140711442868032] Using default worker.\u001b[0m\n",
      "\u001b[34m[05/11/2022 06:40:35 INFO 140711442868032] Checkpoint loading and saving are disabled.\u001b[0m\n",
      "\u001b[34m[2022-05-11 06:40:35.178] [tensorio] [warning] TensorIO is already initialized; ignoring the initialization routine.\u001b[0m\n",
      "\u001b[34m[2022-05-11 06:40:35.179] [tensorio] [warning] TensorIO is already initialized; ignoring the initialization routine.\u001b[0m\n",
      "\u001b[34m[2022-05-11 06:40:35.203] [tensorio] [info] epoch_stats={\"data_pipeline\": \"/opt/ml/input/data/train\", \"epoch\": 0, \"duration\": 27, \"num_examples\": 1, \"num_bytes\": 52000}\u001b[0m\n",
      "\u001b[34m[05/11/2022 06:40:35 INFO 140711442868032] Create Store: local\u001b[0m\n",
      "\u001b[34m[2022-05-11 06:40:35.230] [tensorio] [info] epoch_stats={\"data_pipeline\": \"/opt/ml/input/data/train\", \"epoch\": 1, \"duration\": 25, \"num_examples\": 2, \"num_bytes\": 92352}\u001b[0m\n",
      "\u001b[34m[05/11/2022 06:40:35 INFO 140711442868032] Scaler algorithm parameters\n",
      " <algorithm.scaler.ScalerAlgorithmStable object at 0x7ff98f9d54d0>\u001b[0m\n",
      "\u001b[34m[05/11/2022 06:40:35 INFO 140711442868032] Scaling model computed with parameters:\n",
      " {'stdev_label': None, 'stdev_weight': \u001b[0m\n",
      "\u001b[34m[8.0769736e-01 4.2531353e+03]\u001b[0m\n",
      "\u001b[34m<NDArray 2 @cpu(0)>, 'mean_label': None, 'mean_weight': \u001b[0m\n",
      "\u001b[34m[9.750000e-01 2.589306e+03]\u001b[0m\n",
      "\u001b[34m<NDArray 2 @cpu(0)>}\u001b[0m\n",
      "\u001b[34m[05/11/2022 06:40:35 INFO 140711442868032] nvidia-smi: took 0.032 seconds to run.\u001b[0m\n",
      "\u001b[34m[05/11/2022 06:40:35 INFO 140711442868032] nvidia-smi identified 0 GPUs.\u001b[0m\n",
      "\u001b[34m[05/11/2022 06:40:35 INFO 140711442868032] Number of GPUs being used: 0\u001b[0m\n",
      "\u001b[34m#metrics {\"StartTime\": 1652251235.3476977, \"EndTime\": 1652251235.3477378, \"Dimensions\": {\"Algorithm\": \"Linear Learner\", \"Host\": \"algo-1\", \"Operation\": \"training\", \"Meta\": \"init_train_data_iter\"}, \"Metrics\": {\"Total Records Seen\": {\"sum\": 2776.0, \"count\": 1, \"min\": 2776, \"max\": 2776}, \"Total Batches Seen\": {\"sum\": 3.0, \"count\": 1, \"min\": 3, \"max\": 3}, \"Max Records Seen Between Resets\": {\"sum\": 1776.0, \"count\": 1, \"min\": 1776, \"max\": 1776}, \"Max Batches Seen Between Resets\": {\"sum\": 2.0, \"count\": 1, \"min\": 2, \"max\": 2}, \"Reset Count\": {\"sum\": 2.0, \"count\": 1, \"min\": 2, \"max\": 2}, \"Number of Records Since Last Reset\": {\"sum\": 0.0, \"count\": 1, \"min\": 0, \"max\": 0}, \"Number of Batches Since Last Reset\": {\"sum\": 0.0, \"count\": 1, \"min\": 0, \"max\": 0}}}\u001b[0m\n",
      "\u001b[34m[2022-05-11 06:40:35.399] [tensorio] [info] epoch_stats={\"data_pipeline\": \"/opt/ml/input/data/train\", \"epoch\": 4, \"duration\": 51, \"num_examples\": 2, \"num_bytes\": 92352}\u001b[0m\n",
      "\u001b[34m#metrics {\"StartTime\": 1652251235.399948, \"EndTime\": 1652251235.4000432, \"Dimensions\": {\"Algorithm\": \"Linear Learner\", \"Host\": \"algo-1\", \"Operation\": \"training\", \"epoch\": 0, \"model\": 0}, \"Metrics\": {\"train_multiclass_cross_entropy_objective\": {\"sum\": 1.0954010009765625, \"count\": 1, \"min\": 1.0954010009765625, \"max\": 1.0954010009765625}}}\u001b[0m\n",
      "\u001b[34m#metrics {\"StartTime\": 1652251235.4001954, \"EndTime\": 1652251235.4003716, \"Dimensions\": {\"Algorithm\": \"Linear Learner\", \"Host\": \"algo-1\", \"Operation\": \"training\", \"epoch\": 0, \"model\": 1}, \"Metrics\": {\"train_multiclass_cross_entropy_objective\": {\"sum\": 1.0995819091796875, \"count\": 1, \"min\": 1.0995819091796875, \"max\": 1.0995819091796875}}}\u001b[0m\n",
      "\u001b[34m#metrics {\"StartTime\": 1652251235.4004357, \"EndTime\": 1652251235.4004571, \"Dimensions\": {\"Algorithm\": \"Linear Learner\", \"Host\": \"algo-1\", \"Operation\": \"training\", \"epoch\": 0, \"model\": 2}, \"Metrics\": {\"train_multiclass_cross_entropy_objective\": {\"sum\": 1.1139429931640625, \"count\": 1, \"min\": 1.1139429931640625, \"max\": 1.1139429931640625}}}\u001b[0m\n",
      "\u001b[34m#metrics {\"StartTime\": 1652251235.4005184, \"EndTime\": 1652251235.400537, \"Dimensions\": {\"Algorithm\": \"Linear Learner\", \"Host\": \"algo-1\", \"Operation\": \"training\", \"epoch\": 0, \"model\": 3}, \"Metrics\": {\"train_multiclass_cross_entropy_objective\": {\"sum\": 1.06709375, \"count\": 1, \"min\": 1.06709375, \"max\": 1.06709375}}}\u001b[0m\n",
      "\u001b[34m#metrics {\"StartTime\": 1652251235.4006026, \"EndTime\": 1652251235.4006479, \"Dimensions\": {\"Algorithm\": \"Linear Learner\", \"Host\": \"algo-1\", \"Operation\": \"training\", \"epoch\": 0, \"model\": 4}, \"Metrics\": {\"train_multiclass_cross_entropy_objective\": {\"sum\": 1.1328526611328125, \"count\": 1, \"min\": 1.1328526611328125, \"max\": 1.1328526611328125}}}\u001b[0m\n",
      "\u001b[34m#metrics {\"StartTime\": 1652251235.4007082, \"EndTime\": 1652251235.4007273, \"Dimensions\": {\"Algorithm\": \"Linear Learner\", \"Host\": \"algo-1\", \"Operation\": \"training\", \"epoch\": 0, \"model\": 5}, \"Metrics\": {\"train_multiclass_cross_entropy_objective\": {\"sum\": 1.0979373779296875, \"count\": 1, \"min\": 1.0979373779296875, \"max\": 1.0979373779296875}}}\u001b[0m\n",
      "\u001b[34m#metrics {\"StartTime\": 1652251235.4007857, \"EndTime\": 1652251235.4008036, \"Dimensions\": {\"Algorithm\": \"Linear Learner\", \"Host\": \"algo-1\", \"Operation\": \"training\", \"epoch\": 0, \"model\": 6}, \"Metrics\": {\"train_multiclass_cross_entropy_objective\": {\"sum\": 1.0733134765625, \"count\": 1, \"min\": 1.0733134765625, \"max\": 1.0733134765625}}}\u001b[0m\n",
      "\u001b[34m#metrics {\"StartTime\": 1652251235.4008589, \"EndTime\": 1652251235.4008768, \"Dimensions\": {\"Algorithm\": \"Linear Learner\", \"Host\": \"algo-1\", \"Operation\": \"training\", \"epoch\": 0, \"model\": 7}, \"Metrics\": {\"train_multiclass_cross_entropy_objective\": {\"sum\": 1.101536376953125, \"count\": 1, \"min\": 1.101536376953125, \"max\": 1.101536376953125}}}\u001b[0m\n",
      "\u001b[34m#metrics {\"StartTime\": 1652251235.400932, \"EndTime\": 1652251235.400949, \"Dimensions\": {\"Algorithm\": \"Linear Learner\", \"Host\": \"algo-1\", \"Operation\": \"training\", \"epoch\": 0, \"model\": 8}, \"Metrics\": {\"train_multiclass_cross_entropy_objective\": {\"sum\": 1.1102474365234376, \"count\": 1, \"min\": 1.1102474365234376, \"max\": 1.1102474365234376}}}\u001b[0m\n",
      "\u001b[34m#metrics {\"StartTime\": 1652251235.4010043, \"EndTime\": 1652251235.4010222, \"Dimensions\": {\"Algorithm\": \"Linear Learner\", \"Host\": \"algo-1\", \"Operation\": \"training\", \"epoch\": 0, \"model\": 9}, \"Metrics\": {\"train_multiclass_cross_entropy_objective\": {\"sum\": 1.123679443359375, \"count\": 1, \"min\": 1.123679443359375, \"max\": 1.123679443359375}}}\u001b[0m\n",
      "\u001b[34m#metrics {\"StartTime\": 1652251235.401078, \"EndTime\": 1652251235.4010952, \"Dimensions\": {\"Algorithm\": \"Linear Learner\", \"Host\": \"algo-1\", \"Operation\": \"training\", \"epoch\": 0, \"model\": 10}, \"Metrics\": {\"train_multiclass_cross_entropy_objective\": {\"sum\": 1.0930557861328125, \"count\": 1, \"min\": 1.0930557861328125, \"max\": 1.0930557861328125}}}\u001b[0m\n",
      "\u001b[34m#metrics {\"StartTime\": 1652251235.40115, \"EndTime\": 1652251235.4011683, \"Dimensions\": {\"Algorithm\": \"Linear Learner\", \"Host\": \"algo-1\", \"Operation\": \"training\", \"epoch\": 0, \"model\": 11}, \"Metrics\": {\"train_multiclass_cross_entropy_objective\": {\"sum\": 1.100878662109375, \"count\": 1, \"min\": 1.100878662109375, \"max\": 1.100878662109375}}}\u001b[0m\n",
      "\u001b[34m[05/11/2022 06:40:35 INFO 140711442868032] #quality_metric: host=algo-1, epoch=0, train multiclass_cross_entropy_objective <loss>=1.0954010009765625\u001b[0m\n",
      "\u001b[34m[2022-05-11 06:40:35.410] [tensorio] [info] epoch_stats={\"data_pipeline\": \"/opt/ml/input/data/validation\", \"epoch\": 0, \"duration\": 231, \"num_examples\": 1, \"num_bytes\": 11544}\u001b[0m\n",
      "\u001b[34m[2022-05-11 06:40:35.422] [tensorio] [info] epoch_stats={\"data_pipeline\": \"/opt/ml/input/data/validation\", \"epoch\": 2, \"duration\": 11, \"num_examples\": 1, \"num_bytes\": 11544}\u001b[0m\n",
      "\u001b[34m#metrics {\"StartTime\": 1652251235.4257612, \"EndTime\": 1652251235.425796, \"Dimensions\": {\"Algorithm\": \"Linear Learner\", \"Host\": \"algo-1\", \"Operation\": \"training\", \"epoch\": 0, \"model\": 0}, \"Metrics\": {\"validation_multiclass_cross_entropy_objective\": {\"sum\": 1.0870965493691933, \"count\": 1, \"min\": 1.0870965493691933, \"max\": 1.0870965493691933}}}\u001b[0m\n",
      "\u001b[34m#metrics {\"StartTime\": 1652251235.4258606, \"EndTime\": 1652251235.4258814, \"Dimensions\": {\"Algorithm\": \"Linear Learner\", \"Host\": \"algo-1\", \"Operation\": \"training\", \"epoch\": 0, \"model\": 1}, \"Metrics\": {\"validation_multiclass_cross_entropy_objective\": {\"sum\": 1.0952040526244018, \"count\": 1, \"min\": 1.0952040526244018, \"max\": 1.0952040526244018}}}\u001b[0m\n",
      "\u001b[34m#metrics {\"StartTime\": 1652251235.4259446, \"EndTime\": 1652251235.425963, \"Dimensions\": {\"Algorithm\": \"Linear Learner\", \"Host\": \"algo-1\", \"Operation\": \"training\", \"epoch\": 0, \"model\": 2}, \"Metrics\": {\"validation_multiclass_cross_entropy_objective\": {\"sum\": 1.1503361882390202, \"count\": 1, \"min\": 1.1503361882390202, \"max\": 1.1503361882390202}}}\u001b[0m\n",
      "\u001b[34m#metrics {\"StartTime\": 1652251235.4260237, \"EndTime\": 1652251235.4260426, \"Dimensions\": {\"Algorithm\": \"Linear Learner\", \"Host\": \"algo-1\", \"Operation\": \"training\", \"epoch\": 0, \"model\": 3}, \"Metrics\": {\"validation_multiclass_cross_entropy_objective\": {\"sum\": 1.0671759940482475, \"count\": 1, \"min\": 1.0671759940482475, \"max\": 1.0671759940482475}}}\u001b[0m\n",
      "\u001b[34m#metrics {\"StartTime\": 1652251235.4261017, \"EndTime\": 1652251235.4261189, \"Dimensions\": {\"Algorithm\": \"Linear Learner\", \"Host\": \"algo-1\", \"Operation\": \"training\", \"epoch\": 0, \"model\": 4}, \"Metrics\": {\"validation_multiclass_cross_entropy_objective\": {\"sum\": 1.111834276903857, \"count\": 1, \"min\": 1.111834276903857, \"max\": 1.111834276903857}}}\u001b[0m\n",
      "\u001b[34m#metrics {\"StartTime\": 1652251235.426175, \"EndTime\": 1652251235.4261925, \"Dimensions\": {\"Algorithm\": \"Linear Learner\", \"Host\": \"algo-1\", \"Operation\": \"training\", \"epoch\": 0, \"model\": 5}, \"Metrics\": {\"validation_multiclass_cross_entropy_objective\": {\"sum\": 1.053416277911212, \"count\": 1, \"min\": 1.053416277911212, \"max\": 1.053416277911212}}}\u001b[0m\n",
      "\u001b[34m#metrics {\"StartTime\": 1652251235.426249, \"EndTime\": 1652251235.4262671, \"Dimensions\": {\"Algorithm\": \"Linear Learner\", \"Host\": \"algo-1\", \"Operation\": \"training\", \"epoch\": 0, \"model\": 6}, \"Metrics\": {\"validation_multiclass_cross_entropy_objective\": {\"sum\": 0.9854361731726844, \"count\": 1, \"min\": 0.9854361731726844, \"max\": 0.9854361731726844}}}\u001b[0m\n",
      "\u001b[34m#metrics {\"StartTime\": 1652251235.4263215, \"EndTime\": 1652251235.4263387, \"Dimensions\": {\"Algorithm\": \"Linear Learner\", \"Host\": \"algo-1\", \"Operation\": \"training\", \"epoch\": 0, \"model\": 7}, \"Metrics\": {\"validation_multiclass_cross_entropy_objective\": {\"sum\": 1.092049332352372, \"count\": 1, \"min\": 1.092049332352372, \"max\": 1.092049332352372}}}\u001b[0m\n",
      "\u001b[34m#metrics {\"StartTime\": 1652251235.4263947, \"EndTime\": 1652251235.426411, \"Dimensions\": {\"Algorithm\": \"Linear Learner\", \"Host\": \"algo-1\", \"Operation\": \"training\", \"epoch\": 0, \"model\": 8}, \"Metrics\": {\"validation_multiclass_cross_entropy_objective\": {\"sum\": 1.0225276775188274, \"count\": 1, \"min\": 1.0225276775188274, \"max\": 1.0225276775188274}}}\u001b[0m\n",
      "\u001b[34m#metrics {\"StartTime\": 1652251235.4264681, \"EndTime\": 1652251235.4265049, \"Dimensions\": {\"Algorithm\": \"Linear Learner\", \"Host\": \"algo-1\", \"Operation\": \"training\", \"epoch\": 0, \"model\": 9}, \"Metrics\": {\"validation_multiclass_cross_entropy_objective\": {\"sum\": 3.2381616540857263, \"count\": 1, \"min\": 3.2381616540857263, \"max\": 3.2381616540857263}}}\u001b[0m\n",
      "\u001b[34m#metrics {\"StartTime\": 1652251235.4265625, \"EndTime\": 1652251235.4265792, \"Dimensions\": {\"Algorithm\": \"Linear Learner\", \"Host\": \"algo-1\", \"Operation\": \"training\", \"epoch\": 0, \"model\": 10}, \"Metrics\": {\"validation_multiclass_cross_entropy_objective\": {\"sum\": 1.0837469702368383, \"count\": 1, \"min\": 1.0837469702368383, \"max\": 1.0837469702368383}}}\u001b[0m\n",
      "\u001b[34m#metrics {\"StartTime\": 1652251235.4266412, \"EndTime\": 1652251235.4266593, \"Dimensions\": {\"Algorithm\": \"Linear Learner\", \"Host\": \"algo-1\", \"Operation\": \"training\", \"epoch\": 0, \"model\": 11}, \"Metrics\": {\"validation_multiclass_cross_entropy_objective\": {\"sum\": 1.9163554423564189, \"count\": 1, \"min\": 1.9163554423564189, \"max\": 1.9163554423564189}}}\u001b[0m\n",
      "\u001b[34m[05/11/2022 06:40:35 INFO 140711442868032] #quality_metric: host=algo-1, epoch=0, validation multiclass_cross_entropy_objective <loss>=1.0870965493691933\u001b[0m\n",
      "\u001b[34m[05/11/2022 06:40:35 INFO 140711442868032] #early_stopping_criteria_metric: host=algo-1, epoch=0, criteria=multiclass_cross_entropy_objective, value=0.9854361731726844\u001b[0m\n",
      "\u001b[34m[05/11/2022 06:40:35 INFO 140711442868032] Epoch 0: Loss improved. Updating best model\u001b[0m\n",
      "\u001b[34m[05/11/2022 06:40:35 INFO 140711442868032] Saving model for epoch: 0\u001b[0m\n",
      "\u001b[34m[05/11/2022 06:40:35 INFO 140711442868032] Saved checkpoint to \"/tmp/tmpq_5zjg2c/mx-mod-0000.params\"\u001b[0m\n",
      "\u001b[34m[05/11/2022 06:40:35 INFO 140711442868032] #progress_metric: host=algo-1, completed 6.666666666666667 % of epochs\u001b[0m\n",
      "\u001b[34m#metrics {\"StartTime\": 1652251235.3482692, \"EndTime\": 1652251235.437923, \"Dimensions\": {\"Algorithm\": \"Linear Learner\", \"Host\": \"algo-1\", \"Operation\": \"training\", \"epoch\": 0, \"Meta\": \"training_data_iter\"}, \"Metrics\": {\"Total Records Seen\": {\"sum\": 4552.0, \"count\": 1, \"min\": 4552, \"max\": 4552}, \"Total Batches Seen\": {\"sum\": 5.0, \"count\": 1, \"min\": 5, \"max\": 5}, \"Max Records Seen Between Resets\": {\"sum\": 1776.0, \"count\": 1, \"min\": 1776, \"max\": 1776}, \"Max Batches Seen Between Resets\": {\"sum\": 2.0, \"count\": 1, \"min\": 2, \"max\": 2}, \"Reset Count\": {\"sum\": 3.0, \"count\": 1, \"min\": 3, \"max\": 3}, \"Number of Records Since Last Reset\": {\"sum\": 1776.0, \"count\": 1, \"min\": 1776, \"max\": 1776}, \"Number of Batches Since Last Reset\": {\"sum\": 2.0, \"count\": 1, \"min\": 2, \"max\": 2}}}\u001b[0m\n",
      "\u001b[34m[05/11/2022 06:40:35 INFO 140711442868032] #throughput_metric: host=algo-1, train throughput=19774.106549086962 records/second\u001b[0m\n",
      "\u001b[34m[2022-05-11 06:40:35.461] [tensorio] [info] epoch_stats={\"data_pipeline\": \"/opt/ml/input/data/train\", \"epoch\": 6, \"duration\": 23, \"num_examples\": 2, \"num_bytes\": 92352}\u001b[0m\n",
      "\u001b[34m#metrics {\"StartTime\": 1652251235.4617436, \"EndTime\": 1652251235.4618058, \"Dimensions\": {\"Algorithm\": \"Linear Learner\", \"Host\": \"algo-1\", \"Operation\": \"training\", \"epoch\": 1, \"model\": 0}, \"Metrics\": {\"train_multiclass_cross_entropy_objective\": {\"sum\": 1.086185791015625, \"count\": 1, \"min\": 1.086185791015625, \"max\": 1.086185791015625}}}\u001b[0m\n",
      "\u001b[34m#metrics {\"StartTime\": 1652251235.4619372, \"EndTime\": 1652251235.4619882, \"Dimensions\": {\"Algorithm\": \"Linear Learner\", \"Host\": \"algo-1\", \"Operation\": \"training\", \"epoch\": 1, \"model\": 1}, \"Metrics\": {\"train_multiclass_cross_entropy_objective\": {\"sum\": 1.09255615234375, \"count\": 1, \"min\": 1.09255615234375, \"max\": 1.09255615234375}}}\u001b[0m\n",
      "\u001b[34m#metrics {\"StartTime\": 1652251235.4620614, \"EndTime\": 1652251235.4620838, \"Dimensions\": {\"Algorithm\": \"Linear Learner\", \"Host\": \"algo-1\", \"Operation\": \"training\", \"epoch\": 1, \"model\": 2}, \"Metrics\": {\"train_multiclass_cross_entropy_objective\": {\"sum\": 1.1436983642578125, \"count\": 1, \"min\": 1.1436983642578125, \"max\": 1.1436983642578125}}}\u001b[0m\n",
      "\u001b[34m#metrics {\"StartTime\": 1652251235.4621797, \"EndTime\": 1652251235.4622016, \"Dimensions\": {\"Algorithm\": \"Linear Learner\", \"Host\": \"algo-1\", \"Operation\": \"training\", \"epoch\": 1, \"model\": 3}, \"Metrics\": {\"train_multiclass_cross_entropy_objective\": {\"sum\": 1.06668115234375, \"count\": 1, \"min\": 1.06668115234375, \"max\": 1.06668115234375}}}\u001b[0m\n",
      "\u001b[34m#metrics {\"StartTime\": 1652251235.462263, \"EndTime\": 1652251235.462329, \"Dimensions\": {\"Algorithm\": \"Linear Learner\", \"Host\": \"algo-1\", \"Operation\": \"training\", \"epoch\": 1, \"model\": 4}, \"Metrics\": {\"train_multiclass_cross_entropy_objective\": {\"sum\": 1.109125, \"count\": 1, \"min\": 1.109125, \"max\": 1.109125}}}\u001b[0m\n",
      "\u001b[34m#metrics {\"StartTime\": 1652251235.4623904, \"EndTime\": 1652251235.4624088, \"Dimensions\": {\"Algorithm\": \"Linear Learner\", \"Host\": \"algo-1\", \"Operation\": \"training\", \"epoch\": 1, \"model\": 5}, \"Metrics\": {\"train_multiclass_cross_entropy_objective\": {\"sum\": 1.0555576171875, \"count\": 1, \"min\": 1.0555576171875, \"max\": 1.0555576171875}}}\u001b[0m\n",
      "\u001b[34m#metrics {\"StartTime\": 1652251235.4625204, \"EndTime\": 1652251235.4625409, \"Dimensions\": {\"Algorithm\": \"Linear Learner\", \"Host\": \"algo-1\", \"Operation\": \"training\", \"epoch\": 1, \"model\": 6}, \"Metrics\": {\"train_multiclass_cross_entropy_objective\": {\"sum\": 0.9857898559570313, \"count\": 1, \"min\": 0.9857898559570313, \"max\": 0.9857898559570313}}}\u001b[0m\n",
      "\u001b[34m#metrics {\"StartTime\": 1652251235.4626024, \"EndTime\": 1652251235.46262, \"Dimensions\": {\"Algorithm\": \"Linear Learner\", \"Host\": \"algo-1\", \"Operation\": \"training\", \"epoch\": 1, \"model\": 7}, \"Metrics\": {\"train_multiclass_cross_entropy_objective\": {\"sum\": 1.091218017578125, \"count\": 1, \"min\": 1.091218017578125, \"max\": 1.091218017578125}}}\u001b[0m\n",
      "\u001b[34m#metrics {\"StartTime\": 1652251235.4627106, \"EndTime\": 1652251235.4627311, \"Dimensions\": {\"Algorithm\": \"Linear Learner\", \"Host\": \"algo-1\", \"Operation\": \"training\", \"epoch\": 1, \"model\": 8}, \"Metrics\": {\"train_multiclass_cross_entropy_objective\": {\"sum\": 1.0247166748046874, \"count\": 1, \"min\": 1.0247166748046874, \"max\": 1.0247166748046874}}}\u001b[0m\n",
      "\u001b[34m#metrics {\"StartTime\": 1652251235.4627883, \"EndTime\": 1652251235.4628067, \"Dimensions\": {\"Algorithm\": \"Linear Learner\", \"Host\": \"algo-1\", \"Operation\": \"training\", \"epoch\": 1, \"model\": 9}, \"Metrics\": {\"train_multiclass_cross_entropy_objective\": {\"sum\": 3.1880087890625, \"count\": 1, \"min\": 3.1880087890625, \"max\": 3.1880087890625}}}\u001b[0m\n",
      "\u001b[34m#metrics {\"StartTime\": 1652251235.4628923, \"EndTime\": 1652251235.4629111, \"Dimensions\": {\"Algorithm\": \"Linear Learner\", \"Host\": \"algo-1\", \"Operation\": \"training\", \"epoch\": 1, \"model\": 10}, \"Metrics\": {\"train_multiclass_cross_entropy_objective\": {\"sum\": 1.0830186767578125, \"count\": 1, \"min\": 1.0830186767578125, \"max\": 1.0830186767578125}}}\u001b[0m\n",
      "\u001b[34m#metrics {\"StartTime\": 1652251235.462968, \"EndTime\": 1652251235.4629862, \"Dimensions\": {\"Algorithm\": \"Linear Learner\", \"Host\": \"algo-1\", \"Operation\": \"training\", \"epoch\": 1, \"model\": 11}, \"Metrics\": {\"train_multiclass_cross_entropy_objective\": {\"sum\": 1.89115087890625, \"count\": 1, \"min\": 1.89115087890625, \"max\": 1.89115087890625}}}\u001b[0m\n",
      "\u001b[34m[05/11/2022 06:40:35 INFO 140711442868032] #quality_metric: host=algo-1, epoch=1, train multiclass_cross_entropy_objective <loss>=1.086185791015625\u001b[0m\n",
      "\u001b[34m[2022-05-11 06:40:35.503] [tensorio] [info] epoch_stats={\"data_pipeline\": \"/opt/ml/input/data/validation\", \"epoch\": 5, \"duration\": 25, \"num_examples\": 1, \"num_bytes\": 11544}\u001b[0m\n",
      "\u001b[34m#metrics {\"StartTime\": 1652251235.5080926, \"EndTime\": 1652251235.5081327, \"Dimensions\": {\"Algorithm\": \"Linear Learner\", \"Host\": \"algo-1\", \"Operation\": \"training\", \"epoch\": 1, \"model\": 0}, \"Metrics\": {\"validation_multiclass_cross_entropy_objective\": {\"sum\": 1.0596500431095157, \"count\": 1, \"min\": 1.0596500431095157, \"max\": 1.0596500431095157}}}\u001b[0m\n",
      "\u001b[34m#metrics {\"StartTime\": 1652251235.508207, \"EndTime\": 1652251235.5082288, \"Dimensions\": {\"Algorithm\": \"Linear Learner\", \"Host\": \"algo-1\", \"Operation\": \"training\", \"epoch\": 1, \"model\": 1}, \"Metrics\": {\"validation_multiclass_cross_entropy_objective\": {\"sum\": 1.0570338481181376, \"count\": 1, \"min\": 1.0570338481181376, \"max\": 1.0570338481181376}}}\u001b[0m\n",
      "\u001b[34m#metrics {\"StartTime\": 1652251235.50848, \"EndTime\": 1652251235.5085063, \"Dimensions\": {\"Algorithm\": \"Linear Learner\", \"Host\": \"algo-1\", \"Operation\": \"training\", \"epoch\": 1, \"model\": 2}, \"Metrics\": {\"validation_multiclass_cross_entropy_objective\": {\"sum\": 1.0374676128765483, \"count\": 1, \"min\": 1.0374676128765483, \"max\": 1.0374676128765483}}}\u001b[0m\n",
      "\u001b[34m#metrics {\"StartTime\": 1652251235.50857, \"EndTime\": 1652251235.5085895, \"Dimensions\": {\"Algorithm\": \"Linear Learner\", \"Host\": \"algo-1\", \"Operation\": \"training\", \"epoch\": 1, \"model\": 3}, \"Metrics\": {\"validation_multiclass_cross_entropy_objective\": {\"sum\": 1.0151929425763655, \"count\": 1, \"min\": 1.0151929425763655, \"max\": 1.0151929425763655}}}\u001b[0m\n",
      "\u001b[34m#metrics {\"StartTime\": 1652251235.5086763, \"EndTime\": 1652251235.5086958, \"Dimensions\": {\"Algorithm\": \"Linear Learner\", \"Host\": \"algo-1\", \"Operation\": \"training\", \"epoch\": 1, \"model\": 4}, \"Metrics\": {\"validation_multiclass_cross_entropy_objective\": {\"sum\": 1.0885723217113599, \"count\": 1, \"min\": 1.0885723217113599, \"max\": 1.0885723217113599}}}\u001b[0m\n",
      "\u001b[34m#metrics {\"StartTime\": 1652251235.5087533, \"EndTime\": 1652251235.5087724, \"Dimensions\": {\"Algorithm\": \"Linear Learner\", \"Host\": \"algo-1\", \"Operation\": \"training\", \"epoch\": 1, \"model\": 5}, \"Metrics\": {\"validation_multiclass_cross_entropy_objective\": {\"sum\": 1.0263055337441933, \"count\": 1, \"min\": 1.0263055337441933, \"max\": 1.0263055337441933}}}\u001b[0m\n",
      "\u001b[34m#metrics {\"StartTime\": 1652251235.508829, \"EndTime\": 1652251235.5088475, \"Dimensions\": {\"Algorithm\": \"Linear Learner\", \"Host\": \"algo-1\", \"Operation\": \"training\", \"epoch\": 1, \"model\": 6}, \"Metrics\": {\"validation_multiclass_cross_entropy_objective\": {\"sum\": 0.9337130709811374, \"count\": 1, \"min\": 0.9337130709811374, \"max\": 0.9337130709811374}}}\u001b[0m\n",
      "\u001b[34m#metrics {\"StartTime\": 1652251235.5089042, \"EndTime\": 1652251235.5089214, \"Dimensions\": {\"Algorithm\": \"Linear Learner\", \"Host\": \"algo-1\", \"Operation\": \"training\", \"epoch\": 1, \"model\": 7}, \"Metrics\": {\"validation_multiclass_cross_entropy_objective\": {\"sum\": 1.0735106597075592, \"count\": 1, \"min\": 1.0735106597075592, \"max\": 1.0735106597075592}}}\u001b[0m\n",
      "\u001b[34m#metrics {\"StartTime\": 1652251235.5089786, \"EndTime\": 1652251235.5089955, \"Dimensions\": {\"Algorithm\": \"Linear Learner\", \"Host\": \"algo-1\", \"Operation\": \"training\", \"epoch\": 1, \"model\": 8}, \"Metrics\": {\"validation_multiclass_cross_entropy_objective\": {\"sum\": 0.9513241879574887, \"count\": 1, \"min\": 0.9513241879574887, \"max\": 0.9513241879574887}}}\u001b[0m\n",
      "\u001b[34m#metrics {\"StartTime\": 1652251235.5090492, \"EndTime\": 1652251235.5090652, \"Dimensions\": {\"Algorithm\": \"Linear Learner\", \"Host\": \"algo-1\", \"Operation\": \"training\", \"epoch\": 1, \"model\": 9}, \"Metrics\": {\"validation_multiclass_cross_entropy_objective\": {\"sum\": 0.7848566416147593, \"count\": 1, \"min\": 0.7848566416147593, \"max\": 0.7848566416147593}}}\u001b[0m\n",
      "\u001b[34m#metrics {\"StartTime\": 1652251235.5091212, \"EndTime\": 1652251235.5091383, \"Dimensions\": {\"Algorithm\": \"Linear Learner\", \"Host\": \"algo-1\", \"Operation\": \"training\", \"epoch\": 1, \"model\": 10}, \"Metrics\": {\"validation_multiclass_cross_entropy_objective\": {\"sum\": 1.0707135587125212, \"count\": 1, \"min\": 1.0707135587125212, \"max\": 1.0707135587125212}}}\u001b[0m\n",
      "\u001b[34m#metrics {\"StartTime\": 1652251235.509194, \"EndTime\": 1652251235.509212, \"Dimensions\": {\"Algorithm\": \"Linear Learner\", \"Host\": \"algo-1\", \"Operation\": \"training\", \"epoch\": 1, \"model\": 11}, \"Metrics\": {\"validation_multiclass_cross_entropy_objective\": {\"sum\": 0.8712932139903575, \"count\": 1, \"min\": 0.8712932139903575, \"max\": 0.8712932139903575}}}\u001b[0m\n",
      "\u001b[34m[05/11/2022 06:40:35 INFO 140711442868032] #quality_metric: host=algo-1, epoch=1, validation multiclass_cross_entropy_objective <loss>=1.0596500431095157\u001b[0m\n",
      "\u001b[34m[05/11/2022 06:40:35 INFO 140711442868032] #early_stopping_criteria_metric: host=algo-1, epoch=1, criteria=multiclass_cross_entropy_objective, value=0.7848566416147593\u001b[0m\n",
      "\u001b[34m[05/11/2022 06:40:35 INFO 140711442868032] Epoch 1: Loss improved. Updating best model\u001b[0m\n",
      "\u001b[34m[05/11/2022 06:40:35 INFO 140711442868032] Saving model for epoch: 1\u001b[0m\n",
      "\u001b[34m[05/11/2022 06:40:35 INFO 140711442868032] Saved checkpoint to \"/tmp/tmpz7q4sdl4/mx-mod-0000.params\"\u001b[0m\n",
      "\u001b[34m[05/11/2022 06:40:35 INFO 140711442868032] #progress_metric: host=algo-1, completed 13.333333333333334 % of epochs\u001b[0m\n",
      "\u001b[34m#metrics {\"StartTime\": 1652251235.4382663, \"EndTime\": 1652251235.519121, \"Dimensions\": {\"Algorithm\": \"Linear Learner\", \"Host\": \"algo-1\", \"Operation\": \"training\", \"epoch\": 1, \"Meta\": \"training_data_iter\"}, \"Metrics\": {\"Total Records Seen\": {\"sum\": 6328.0, \"count\": 1, \"min\": 6328, \"max\": 6328}, \"Total Batches Seen\": {\"sum\": 7.0, \"count\": 1, \"min\": 7, \"max\": 7}, \"Max Records Seen Between Resets\": {\"sum\": 1776.0, \"count\": 1, \"min\": 1776, \"max\": 1776}, \"Max Batches Seen Between Resets\": {\"sum\": 2.0, \"count\": 1, \"min\": 2, \"max\": 2}, \"Reset Count\": {\"sum\": 4.0, \"count\": 1, \"min\": 4, \"max\": 4}, \"Number of Records Since Last Reset\": {\"sum\": 1776.0, \"count\": 1, \"min\": 1776, \"max\": 1776}, \"Number of Batches Since Last Reset\": {\"sum\": 2.0, \"count\": 1, \"min\": 2, \"max\": 2}}}\u001b[0m\n",
      "\u001b[34m[05/11/2022 06:40:35 INFO 140711442868032] #throughput_metric: host=algo-1, train throughput=21922.41718928877 records/second\u001b[0m\n",
      "\u001b[34m[2022-05-11 06:40:35.543] [tensorio] [info] epoch_stats={\"data_pipeline\": \"/opt/ml/input/data/train\", \"epoch\": 8, \"duration\": 24, \"num_examples\": 2, \"num_bytes\": 92352}\u001b[0m\n",
      "\u001b[34m#metrics {\"StartTime\": 1652251235.544014, \"EndTime\": 1652251235.54407, \"Dimensions\": {\"Algorithm\": \"Linear Learner\", \"Host\": \"algo-1\", \"Operation\": \"training\", \"epoch\": 2, \"model\": 0}, \"Metrics\": {\"train_multiclass_cross_entropy_objective\": {\"sum\": 1.0606181640625, \"count\": 1, \"min\": 1.0606181640625, \"max\": 1.0606181640625}}}\u001b[0m\n",
      "\u001b[34m#metrics {\"StartTime\": 1652251235.544151, \"EndTime\": 1652251235.5441725, \"Dimensions\": {\"Algorithm\": \"Linear Learner\", \"Host\": \"algo-1\", \"Operation\": \"training\", \"epoch\": 2, \"model\": 1}, \"Metrics\": {\"train_multiclass_cross_entropy_objective\": {\"sum\": 1.0572132568359376, \"count\": 1, \"min\": 1.0572132568359376, \"max\": 1.0572132568359376}}}\u001b[0m\n",
      "\u001b[34m#metrics {\"StartTime\": 1652251235.5444486, \"EndTime\": 1652251235.5444717, \"Dimensions\": {\"Algorithm\": \"Linear Learner\", \"Host\": \"algo-1\", \"Operation\": \"training\", \"epoch\": 2, \"model\": 2}, \"Metrics\": {\"train_multiclass_cross_entropy_objective\": {\"sum\": 1.0368223876953124, \"count\": 1, \"min\": 1.0368223876953124, \"max\": 1.0368223876953124}}}\u001b[0m\n",
      "\u001b[34m#metrics {\"StartTime\": 1652251235.5445397, \"EndTime\": 1652251235.5445583, \"Dimensions\": {\"Algorithm\": \"Linear Learner\", \"Host\": \"algo-1\", \"Operation\": \"training\", \"epoch\": 2, \"model\": 3}, \"Metrics\": {\"train_multiclass_cross_entropy_objective\": {\"sum\": 1.01776220703125, \"count\": 1, \"min\": 1.01776220703125, \"max\": 1.01776220703125}}}\u001b[0m\n",
      "\u001b[34m#metrics {\"StartTime\": 1652251235.5446455, \"EndTime\": 1652251235.544665, \"Dimensions\": {\"Algorithm\": \"Linear Learner\", \"Host\": \"algo-1\", \"Operation\": \"training\", \"epoch\": 2, \"model\": 4}, \"Metrics\": {\"train_multiclass_cross_entropy_objective\": {\"sum\": 1.087057373046875, \"count\": 1, \"min\": 1.087057373046875, \"max\": 1.087057373046875}}}\u001b[0m\n",
      "\u001b[34m#metrics {\"StartTime\": 1652251235.5447233, \"EndTime\": 1652251235.5447395, \"Dimensions\": {\"Algorithm\": \"Linear Learner\", \"Host\": \"algo-1\", \"Operation\": \"training\", \"epoch\": 2, \"model\": 5}, \"Metrics\": {\"train_multiclass_cross_entropy_objective\": {\"sum\": 1.0293048095703126, \"count\": 1, \"min\": 1.0293048095703126, \"max\": 1.0293048095703126}}}\u001b[0m\n",
      "\u001b[34m#metrics {\"StartTime\": 1652251235.544808, \"EndTime\": 1652251235.5448265, \"Dimensions\": {\"Algorithm\": \"Linear Learner\", \"Host\": \"algo-1\", \"Operation\": \"training\", \"epoch\": 2, \"model\": 6}, \"Metrics\": {\"train_multiclass_cross_entropy_objective\": {\"sum\": 0.9412068481445313, \"count\": 1, \"min\": 0.9412068481445313, \"max\": 0.9412068481445313}}}\u001b[0m\n",
      "\u001b[34m#metrics {\"StartTime\": 1652251235.5448864, \"EndTime\": 1652251235.5449028, \"Dimensions\": {\"Algorithm\": \"Linear Learner\", \"Host\": \"algo-1\", \"Operation\": \"training\", \"epoch\": 2, \"model\": 7}, \"Metrics\": {\"train_multiclass_cross_entropy_objective\": {\"sum\": 1.07357568359375, \"count\": 1, \"min\": 1.07357568359375, \"max\": 1.07357568359375}}}\u001b[0m\n",
      "\u001b[34m#metrics {\"StartTime\": 1652251235.5449715, \"EndTime\": 1652251235.5449896, \"Dimensions\": {\"Algorithm\": \"Linear Learner\", \"Host\": \"algo-1\", \"Operation\": \"training\", \"epoch\": 2, \"model\": 8}, \"Metrics\": {\"train_multiclass_cross_entropy_objective\": {\"sum\": 0.9560392456054687, \"count\": 1, \"min\": 0.9560392456054687, \"max\": 0.9560392456054687}}}\u001b[0m\n",
      "\u001b[34m#metrics {\"StartTime\": 1652251235.5450497, \"EndTime\": 1652251235.5450675, \"Dimensions\": {\"Algorithm\": \"Linear Learner\", \"Host\": \"algo-1\", \"Operation\": \"training\", \"epoch\": 2, \"model\": 9}, \"Metrics\": {\"train_multiclass_cross_entropy_objective\": {\"sum\": 0.8069232788085937, \"count\": 1, \"min\": 0.8069232788085937, \"max\": 0.8069232788085937}}}\u001b[0m\n",
      "\u001b[34m#metrics {\"StartTime\": 1652251235.5451336, \"EndTime\": 1652251235.5451512, \"Dimensions\": {\"Algorithm\": \"Linear Learner\", \"Host\": \"algo-1\", \"Operation\": \"training\", \"epoch\": 2, \"model\": 10}, \"Metrics\": {\"train_multiclass_cross_entropy_objective\": {\"sum\": 1.070302490234375, \"count\": 1, \"min\": 1.070302490234375, \"max\": 1.070302490234375}}}\u001b[0m\n",
      "\u001b[34m#metrics {\"StartTime\": 1652251235.5452065, \"EndTime\": 1652251235.545224, \"Dimensions\": {\"Algorithm\": \"Linear Learner\", \"Host\": \"algo-1\", \"Operation\": \"training\", \"epoch\": 2, \"model\": 11}, \"Metrics\": {\"train_multiclass_cross_entropy_objective\": {\"sum\": 0.8821119995117187, \"count\": 1, \"min\": 0.8821119995117187, \"max\": 0.8821119995117187}}}\u001b[0m\n",
      "\u001b[34m[05/11/2022 06:40:35 INFO 140711442868032] #quality_metric: host=algo-1, epoch=2, train multiclass_cross_entropy_objective <loss>=1.0606181640625\u001b[0m\n",
      "\u001b[34m[2022-05-11 06:40:35.568] [tensorio] [info] epoch_stats={\"data_pipeline\": \"/opt/ml/input/data/validation\", \"epoch\": 8, \"duration\": 12, \"num_examples\": 1, \"num_bytes\": 11544}\u001b[0m\n",
      "\u001b[34m#metrics {\"StartTime\": 1652251235.5729668, \"EndTime\": 1652251235.5730264, \"Dimensions\": {\"Algorithm\": \"Linear Learner\", \"Host\": \"algo-1\", \"Operation\": \"training\", \"epoch\": 2, \"model\": 0}, \"Metrics\": {\"validation_multiclass_cross_entropy_objective\": {\"sum\": 1.0409196733354449, \"count\": 1, \"min\": 1.0409196733354449, \"max\": 1.0409196733354449}}}\u001b[0m\n",
      "\u001b[34m#metrics {\"StartTime\": 1652251235.5731232, \"EndTime\": 1652251235.5731452, \"Dimensions\": {\"Algorithm\": \"Linear Learner\", \"Host\": \"algo-1\", \"Operation\": \"training\", \"epoch\": 2, \"model\": 1}, \"Metrics\": {\"validation_multiclass_cross_entropy_objective\": {\"sum\": 1.0350620166675464, \"count\": 1, \"min\": 1.0350620166675464, \"max\": 1.0350620166675464}}}\u001b[0m\n",
      "\u001b[34m#metrics {\"StartTime\": 1652251235.5732074, \"EndTime\": 1652251235.5732243, \"Dimensions\": {\"Algorithm\": \"Linear Learner\", \"Host\": \"algo-1\", \"Operation\": \"training\", \"epoch\": 2, \"model\": 2}, \"Metrics\": {\"validation_multiclass_cross_entropy_objective\": {\"sum\": 1.0066045812658362, \"count\": 1, \"min\": 1.0066045812658362, \"max\": 1.0066045812658362}}}\u001b[0m\n",
      "\u001b[34m#metrics {\"StartTime\": 1652251235.573282, \"EndTime\": 1652251235.5732982, \"Dimensions\": {\"Algorithm\": \"Linear Learner\", \"Host\": \"algo-1\", \"Operation\": \"training\", \"epoch\": 2, \"model\": 3}, \"Metrics\": {\"validation_multiclass_cross_entropy_objective\": {\"sum\": 0.9919012258718679, \"count\": 1, \"min\": 0.9919012258718679, \"max\": 0.9919012258718679}}}\u001b[0m\n",
      "\u001b[34m#metrics {\"StartTime\": 1652251235.5733593, \"EndTime\": 1652251235.5733767, \"Dimensions\": {\"Algorithm\": \"Linear Learner\", \"Host\": \"algo-1\", \"Operation\": \"training\", \"epoch\": 2, \"model\": 4}, \"Metrics\": {\"validation_multiclass_cross_entropy_objective\": {\"sum\": 1.0670623091964033, \"count\": 1, \"min\": 1.0670623091964033, \"max\": 1.0670623091964033}}}\u001b[0m\n",
      "\u001b[34m#metrics {\"StartTime\": 1652251235.573435, \"EndTime\": 1652251235.5734527, \"Dimensions\": {\"Algorithm\": \"Linear Learner\", \"Host\": \"algo-1\", \"Operation\": \"training\", \"epoch\": 2, \"model\": 5}, \"Metrics\": {\"validation_multiclass_cross_entropy_objective\": {\"sum\": 1.0052759668848537, \"count\": 1, \"min\": 1.0052759668848537, \"max\": 1.0052759668848537}}}\u001b[0m\n",
      "\u001b[34m#metrics {\"StartTime\": 1652251235.5735073, \"EndTime\": 1652251235.573525, \"Dimensions\": {\"Algorithm\": \"Linear Learner\", \"Host\": \"algo-1\", \"Operation\": \"training\", \"epoch\": 2, \"model\": 6}, \"Metrics\": {\"validation_multiclass_cross_entropy_objective\": {\"sum\": 0.9063583236556869, \"count\": 1, \"min\": 0.9063583236556869, \"max\": 0.9063583236556869}}}\u001b[0m\n",
      "\u001b[34m#metrics {\"StartTime\": 1652251235.5735838, \"EndTime\": 1652251235.5736043, \"Dimensions\": {\"Algorithm\": \"Linear Learner\", \"Host\": \"algo-1\", \"Operation\": \"training\", \"epoch\": 2, \"model\": 7}, \"Metrics\": {\"validation_multiclass_cross_entropy_objective\": {\"sum\": 1.05790545489337, \"count\": 1, \"min\": 1.05790545489337, \"max\": 1.05790545489337}}}\u001b[0m\n",
      "\u001b[34m#metrics {\"StartTime\": 1652251235.5736632, \"EndTime\": 1652251235.5736816, \"Dimensions\": {\"Algorithm\": \"Linear Learner\", \"Host\": \"algo-1\", \"Operation\": \"training\", \"epoch\": 2, \"model\": 8}, \"Metrics\": {\"validation_multiclass_cross_entropy_objective\": {\"sum\": 0.8919179418065526, \"count\": 1, \"min\": 0.8919179418065526, \"max\": 0.8919179418065526}}}\u001b[0m\n",
      "\u001b[34m#metrics {\"StartTime\": 1652251235.5737412, \"EndTime\": 1652251235.5737584, \"Dimensions\": {\"Algorithm\": \"Linear Learner\", \"Host\": \"algo-1\", \"Operation\": \"training\", \"epoch\": 2, \"model\": 9}, \"Metrics\": {\"validation_multiclass_cross_entropy_objective\": {\"sum\": 0.9264925020235079, \"count\": 1, \"min\": 0.9264925020235079, \"max\": 0.9264925020235079}}}\u001b[0m\n",
      "\u001b[34m#metrics {\"StartTime\": 1652251235.5738435, \"EndTime\": 1652251235.5738616, \"Dimensions\": {\"Algorithm\": \"Linear Learner\", \"Host\": \"algo-1\", \"Operation\": \"training\", \"epoch\": 2, \"model\": 10}, \"Metrics\": {\"validation_multiclass_cross_entropy_objective\": {\"sum\": 1.0575632318720087, \"count\": 1, \"min\": 1.0575632318720087, \"max\": 1.0575632318720087}}}\u001b[0m\n",
      "\u001b[34m#metrics {\"StartTime\": 1652251235.573929, \"EndTime\": 1652251235.5739524, \"Dimensions\": {\"Algorithm\": \"Linear Learner\", \"Host\": \"algo-1\", \"Operation\": \"training\", \"epoch\": 2, \"model\": 11}, \"Metrics\": {\"validation_multiclass_cross_entropy_objective\": {\"sum\": 0.8339095931869369, \"count\": 1, \"min\": 0.8339095931869369, \"max\": 0.8339095931869369}}}\u001b[0m\n",
      "\u001b[34m[05/11/2022 06:40:35 INFO 140711442868032] #quality_metric: host=algo-1, epoch=2, validation multiclass_cross_entropy_objective <loss>=1.0409196733354449\u001b[0m\n",
      "\u001b[34m[05/11/2022 06:40:35 INFO 140711442868032] #early_stopping_criteria_metric: host=algo-1, epoch=2, criteria=multiclass_cross_entropy_objective, value=0.8339095931869369\u001b[0m\n",
      "\u001b[34m[05/11/2022 06:40:35 INFO 140711442868032] Saving model for epoch: 2\u001b[0m\n",
      "\u001b[34m[05/11/2022 06:40:35 INFO 140711442868032] Saved checkpoint to \"/tmp/tmpzqq7ghhq/mx-mod-0000.params\"\u001b[0m\n",
      "\u001b[34m[05/11/2022 06:40:35 INFO 140711442868032] #progress_metric: host=algo-1, completed 20.0 % of epochs\u001b[0m\n",
      "\u001b[34m#metrics {\"StartTime\": 1652251235.5194511, \"EndTime\": 1652251235.5815291, \"Dimensions\": {\"Algorithm\": \"Linear Learner\", \"Host\": \"algo-1\", \"Operation\": \"training\", \"epoch\": 2, \"Meta\": \"training_data_iter\"}, \"Metrics\": {\"Total Records Seen\": {\"sum\": 8104.0, \"count\": 1, \"min\": 8104, \"max\": 8104}, \"Total Batches Seen\": {\"sum\": 9.0, \"count\": 1, \"min\": 9, \"max\": 9}, \"Max Records Seen Between Resets\": {\"sum\": 1776.0, \"count\": 1, \"min\": 1776, \"max\": 1776}, \"Max Batches Seen Between Resets\": {\"sum\": 2.0, \"count\": 1, \"min\": 2, \"max\": 2}, \"Reset Count\": {\"sum\": 5.0, \"count\": 1, \"min\": 5, \"max\": 5}, \"Number of Records Since Last Reset\": {\"sum\": 1776.0, \"count\": 1, \"min\": 1776, \"max\": 1776}, \"Number of Batches Since Last Reset\": {\"sum\": 2.0, \"count\": 1, \"min\": 2, \"max\": 2}}}\u001b[0m\n",
      "\u001b[34m[05/11/2022 06:40:35 INFO 140711442868032] #throughput_metric: host=algo-1, train throughput=28538.364508466784 records/second\u001b[0m\n",
      "\u001b[34m[2022-05-11 06:40:35.603] [tensorio] [info] epoch_stats={\"data_pipeline\": \"/opt/ml/input/data/train\", \"epoch\": 10, \"duration\": 21, \"num_examples\": 2, \"num_bytes\": 92352}\u001b[0m\n",
      "\u001b[34m#metrics {\"StartTime\": 1652251235.6039846, \"EndTime\": 1652251235.6040425, \"Dimensions\": {\"Algorithm\": \"Linear Learner\", \"Host\": \"algo-1\", \"Operation\": \"training\", \"epoch\": 3, \"model\": 0}, \"Metrics\": {\"train_multiclass_cross_entropy_objective\": {\"sum\": 1.0444185791015625, \"count\": 1, \"min\": 1.0444185791015625, \"max\": 1.0444185791015625}}}\u001b[0m\n",
      "\u001b[34m#metrics {\"StartTime\": 1652251235.6041236, \"EndTime\": 1652251235.604145, \"Dimensions\": {\"Algorithm\": \"Linear Learner\", \"Host\": \"algo-1\", \"Operation\": \"training\", \"epoch\": 3, \"model\": 1}, \"Metrics\": {\"train_multiclass_cross_entropy_objective\": {\"sum\": 1.0386099853515625, \"count\": 1, \"min\": 1.0386099853515625, \"max\": 1.0386099853515625}}}\u001b[0m\n",
      "\u001b[34m#metrics {\"StartTime\": 1652251235.6042082, \"EndTime\": 1652251235.6042266, \"Dimensions\": {\"Algorithm\": \"Linear Learner\", \"Host\": \"algo-1\", \"Operation\": \"training\", \"epoch\": 3, \"model\": 2}, \"Metrics\": {\"train_multiclass_cross_entropy_objective\": {\"sum\": 1.0124017333984374, \"count\": 1, \"min\": 1.0124017333984374, \"max\": 1.0124017333984374}}}\u001b[0m\n",
      "\u001b[34m#metrics {\"StartTime\": 1652251235.6042871, \"EndTime\": 1652251235.6043062, \"Dimensions\": {\"Algorithm\": \"Linear Learner\", \"Host\": \"algo-1\", \"Operation\": \"training\", \"epoch\": 3, \"model\": 3}, \"Metrics\": {\"train_multiclass_cross_entropy_objective\": {\"sum\": 0.997985595703125, \"count\": 1, \"min\": 0.997985595703125, \"max\": 0.997985595703125}}}\u001b[0m\n",
      "\u001b[34m#metrics {\"StartTime\": 1652251235.604364, \"EndTime\": 1652251235.6043818, \"Dimensions\": {\"Algorithm\": \"Linear Learner\", \"Host\": \"algo-1\", \"Operation\": \"training\", \"epoch\": 3, \"model\": 4}, \"Metrics\": {\"train_multiclass_cross_entropy_objective\": {\"sum\": 1.06651123046875, \"count\": 1, \"min\": 1.06651123046875, \"max\": 1.06651123046875}}}\u001b[0m\n",
      "\u001b[34m#metrics {\"StartTime\": 1652251235.6044388, \"EndTime\": 1652251235.6044564, \"Dimensions\": {\"Algorithm\": \"Linear Learner\", \"Host\": \"algo-1\", \"Operation\": \"training\", \"epoch\": 3, \"model\": 5}, \"Metrics\": {\"train_multiclass_cross_entropy_objective\": {\"sum\": 1.0092876586914064, \"count\": 1, \"min\": 1.0092876586914064, \"max\": 1.0092876586914064}}}\u001b[0m\n",
      "\u001b[34m#metrics {\"StartTime\": 1652251235.604513, \"EndTime\": 1652251235.6045303, \"Dimensions\": {\"Algorithm\": \"Linear Learner\", \"Host\": \"algo-1\", \"Operation\": \"training\", \"epoch\": 3, \"model\": 6}, \"Metrics\": {\"train_multiclass_cross_entropy_objective\": {\"sum\": 0.91410498046875, \"count\": 1, \"min\": 0.91410498046875, \"max\": 0.91410498046875}}}\u001b[0m\n",
      "\u001b[34m#metrics {\"StartTime\": 1652251235.6045878, \"EndTime\": 1652251235.6046054, \"Dimensions\": {\"Algorithm\": \"Linear Learner\", \"Host\": \"algo-1\", \"Operation\": \"training\", \"epoch\": 3, \"model\": 7}, \"Metrics\": {\"train_multiclass_cross_entropy_objective\": {\"sum\": 1.05976513671875, \"count\": 1, \"min\": 1.05976513671875, \"max\": 1.05976513671875}}}\u001b[0m\n",
      "\u001b[34m#metrics {\"StartTime\": 1652251235.6046908, \"EndTime\": 1652251235.6047096, \"Dimensions\": {\"Algorithm\": \"Linear Learner\", \"Host\": \"algo-1\", \"Operation\": \"training\", \"epoch\": 3, \"model\": 8}, \"Metrics\": {\"train_multiclass_cross_entropy_objective\": {\"sum\": 0.8989544677734375, \"count\": 1, \"min\": 0.8989544677734375, \"max\": 0.8989544677734375}}}\u001b[0m\n",
      "\u001b[34m#metrics {\"StartTime\": 1652251235.6047623, \"EndTime\": 1652251235.6047797, \"Dimensions\": {\"Algorithm\": \"Linear Learner\", \"Host\": \"algo-1\", \"Operation\": \"training\", \"epoch\": 3, \"model\": 9}, \"Metrics\": {\"train_multiclass_cross_entropy_objective\": {\"sum\": 0.9466784057617188, \"count\": 1, \"min\": 0.9466784057617188, \"max\": 0.9466784057617188}}}\u001b[0m\n",
      "\u001b[34m#metrics {\"StartTime\": 1652251235.604835, \"EndTime\": 1652251235.604852, \"Dimensions\": {\"Algorithm\": \"Linear Learner\", \"Host\": \"algo-1\", \"Operation\": \"training\", \"epoch\": 3, \"model\": 10}, \"Metrics\": {\"train_multiclass_cross_entropy_objective\": {\"sum\": 1.0585916748046875, \"count\": 1, \"min\": 1.0585916748046875, \"max\": 1.0585916748046875}}}\u001b[0m\n",
      "\u001b[34m#metrics {\"StartTime\": 1652251235.6049068, \"EndTime\": 1652251235.6049232, \"Dimensions\": {\"Algorithm\": \"Linear Learner\", \"Host\": \"algo-1\", \"Operation\": \"training\", \"epoch\": 3, \"model\": 11}, \"Metrics\": {\"train_multiclass_cross_entropy_objective\": {\"sum\": 0.8438983764648438, \"count\": 1, \"min\": 0.8438983764648438, \"max\": 0.8438983764648438}}}\u001b[0m\n",
      "\u001b[34m[05/11/2022 06:40:35 INFO 140711442868032] #quality_metric: host=algo-1, epoch=3, train multiclass_cross_entropy_objective <loss>=1.0444185791015625\u001b[0m\n",
      "\u001b[34m[2022-05-11 06:40:35.635] [tensorio] [info] epoch_stats={\"data_pipeline\": \"/opt/ml/input/data/validation\", \"epoch\": 11, \"duration\": 20, \"num_examples\": 1, \"num_bytes\": 11544}\u001b[0m\n",
      "\u001b[34m#metrics {\"StartTime\": 1652251235.6394403, \"EndTime\": 1652251235.6394765, \"Dimensions\": {\"Algorithm\": \"Linear Learner\", \"Host\": \"algo-1\", \"Operation\": \"training\", \"epoch\": 3, \"model\": 0}, \"Metrics\": {\"validation_multiclass_cross_entropy_objective\": {\"sum\": 1.0270592629372537, \"count\": 1, \"min\": 1.0270592629372537, \"max\": 1.0270592629372537}}}\u001b[0m\n",
      "\u001b[34m#metrics {\"StartTime\": 1652251235.639543, \"EndTime\": 1652251235.6395638, \"Dimensions\": {\"Algorithm\": \"Linear Learner\", \"Host\": \"algo-1\", \"Operation\": \"training\", \"epoch\": 3, \"model\": 1}, \"Metrics\": {\"validation_multiclass_cross_entropy_objective\": {\"sum\": 1.019809963466885, \"count\": 1, \"min\": 1.019809963466885, \"max\": 1.019809963466885}}}\u001b[0m\n",
      "\u001b[34m#metrics {\"StartTime\": 1652251235.6396286, \"EndTime\": 1652251235.6396482, \"Dimensions\": {\"Algorithm\": \"Linear Learner\", \"Host\": \"algo-1\", \"Operation\": \"training\", \"epoch\": 3, \"model\": 2}, \"Metrics\": {\"validation_multiclass_cross_entropy_objective\": {\"sum\": 0.9941092138891822, \"count\": 1, \"min\": 0.9941092138891822, \"max\": 0.9941092138891822}}}\u001b[0m\n",
      "\u001b[34m#metrics {\"StartTime\": 1652251235.6397111, \"EndTime\": 1652251235.6397295, \"Dimensions\": {\"Algorithm\": \"Linear Learner\", \"Host\": \"algo-1\", \"Operation\": \"training\", \"epoch\": 3, \"model\": 3}, \"Metrics\": {\"validation_multiclass_cross_entropy_objective\": {\"sum\": 0.9777897327869862, \"count\": 1, \"min\": 0.9777897327869862, \"max\": 0.9777897327869862}}}\u001b[0m\n",
      "\u001b[34m#metrics {\"StartTime\": 1652251235.6397877, \"EndTime\": 1652251235.6398063, \"Dimensions\": {\"Algorithm\": \"Linear Learner\", \"Host\": \"algo-1\", \"Operation\": \"training\", \"epoch\": 3, \"model\": 4}, \"Metrics\": {\"validation_multiclass_cross_entropy_objective\": {\"sum\": 1.046907510843363, \"count\": 1, \"min\": 1.046907510843363, \"max\": 1.046907510843363}}}\u001b[0m\n",
      "\u001b[34m#metrics {\"StartTime\": 1652251235.639855, \"EndTime\": 1652251235.6398711, \"Dimensions\": {\"Algorithm\": \"Linear Learner\", \"Host\": \"algo-1\", \"Operation\": \"training\", \"epoch\": 3, \"model\": 5}, \"Metrics\": {\"validation_multiclass_cross_entropy_objective\": {\"sum\": 0.9883912232545045, \"count\": 1, \"min\": 0.9883912232545045, \"max\": 0.9883912232545045}}}\u001b[0m\n",
      "\u001b[34m#metrics {\"StartTime\": 1652251235.6399264, \"EndTime\": 1652251235.639943, \"Dimensions\": {\"Algorithm\": \"Linear Learner\", \"Host\": \"algo-1\", \"Operation\": \"training\", \"epoch\": 3, \"model\": 6}, \"Metrics\": {\"validation_multiclass_cross_entropy_objective\": {\"sum\": 0.886699779613598, \"count\": 1, \"min\": 0.886699779613598, \"max\": 0.886699779613598}}}\u001b[0m\n",
      "\u001b[34m#metrics {\"StartTime\": 1652251235.6399968, \"EndTime\": 1652251235.6400142, \"Dimensions\": {\"Algorithm\": \"Linear Learner\", \"Host\": \"algo-1\", \"Operation\": \"training\", \"epoch\": 3, \"model\": 7}, \"Metrics\": {\"validation_multiclass_cross_entropy_objective\": {\"sum\": 1.0451556368991062, \"count\": 1, \"min\": 1.0451556368991062, \"max\": 1.0451556368991062}}}\u001b[0m\n",
      "\u001b[34m#metrics {\"StartTime\": 1652251235.6400802, \"EndTime\": 1652251235.640099, \"Dimensions\": {\"Algorithm\": \"Linear Learner\", \"Host\": \"algo-1\", \"Operation\": \"training\", \"epoch\": 3, \"model\": 8}, \"Metrics\": {\"validation_multiclass_cross_entropy_objective\": {\"sum\": 0.8441734657631265, \"count\": 1, \"min\": 0.8441734657631265, \"max\": 0.8441734657631265}}}\u001b[0m\n",
      "\u001b[34m#metrics {\"StartTime\": 1652251235.6401656, \"EndTime\": 1652251235.6401842, \"Dimensions\": {\"Algorithm\": \"Linear Learner\", \"Host\": \"algo-1\", \"Operation\": \"training\", \"epoch\": 3, \"model\": 9}, \"Metrics\": {\"validation_multiclass_cross_entropy_objective\": {\"sum\": 2.0304856858811937, \"count\": 1, \"min\": 2.0304856858811937, \"max\": 2.0304856858811937}}}\u001b[0m\n",
      "\u001b[34m#metrics {\"StartTime\": 1652251235.6402512, \"EndTime\": 1652251235.6402695, \"Dimensions\": {\"Algorithm\": \"Linear Learner\", \"Host\": \"algo-1\", \"Operation\": \"training\", \"epoch\": 3, \"model\": 10}, \"Metrics\": {\"validation_multiclass_cross_entropy_objective\": {\"sum\": 1.045929917344102, \"count\": 1, \"min\": 1.045929917344102, \"max\": 1.045929917344102}}}\u001b[0m\n",
      "\u001b[34m#metrics {\"StartTime\": 1652251235.6403284, \"EndTime\": 1652251235.6403453, \"Dimensions\": {\"Algorithm\": \"Linear Learner\", \"Host\": \"algo-1\", \"Operation\": \"training\", \"epoch\": 3, \"model\": 11}, \"Metrics\": {\"validation_multiclass_cross_entropy_objective\": {\"sum\": 0.8418076661255982, \"count\": 1, \"min\": 0.8418076661255982, \"max\": 0.8418076661255982}}}\u001b[0m\n",
      "\u001b[34m[05/11/2022 06:40:35 INFO 140711442868032] #quality_metric: host=algo-1, epoch=3, validation multiclass_cross_entropy_objective <loss>=1.0270592629372537\u001b[0m\n",
      "\u001b[34m[05/11/2022 06:40:35 INFO 140711442868032] #early_stopping_criteria_metric: host=algo-1, epoch=3, criteria=multiclass_cross_entropy_objective, value=0.8418076661255982\u001b[0m\n",
      "\u001b[34m[05/11/2022 06:40:35 INFO 140711442868032] Saving model for epoch: 3\u001b[0m\n",
      "\u001b[34m[05/11/2022 06:40:35 INFO 140711442868032] Saved checkpoint to \"/tmp/tmpn17fvmkx/mx-mod-0000.params\"\u001b[0m\n",
      "\u001b[34m[05/11/2022 06:40:35 INFO 140711442868032] #progress_metric: host=algo-1, completed 26.666666666666668 % of epochs\u001b[0m\n",
      "\u001b[34m#metrics {\"StartTime\": 1652251235.5818574, \"EndTime\": 1652251235.6504953, \"Dimensions\": {\"Algorithm\": \"Linear Learner\", \"Host\": \"algo-1\", \"Operation\": \"training\", \"epoch\": 3, \"Meta\": \"training_data_iter\"}, \"Metrics\": {\"Total Records Seen\": {\"sum\": 9880.0, \"count\": 1, \"min\": 9880, \"max\": 9880}, \"Total Batches Seen\": {\"sum\": 11.0, \"count\": 1, \"min\": 11, \"max\": 11}, \"Max Records Seen Between Resets\": {\"sum\": 1776.0, \"count\": 1, \"min\": 1776, \"max\": 1776}, \"Max Batches Seen Between Resets\": {\"sum\": 2.0, \"count\": 1, \"min\": 2, \"max\": 2}, \"Reset Count\": {\"sum\": 6.0, \"count\": 1, \"min\": 6, \"max\": 6}, \"Number of Records Since Last Reset\": {\"sum\": 1776.0, \"count\": 1, \"min\": 1776, \"max\": 1776}, \"Number of Batches Since Last Reset\": {\"sum\": 2.0, \"count\": 1, \"min\": 2, \"max\": 2}}}\u001b[0m\n",
      "\u001b[34m[05/11/2022 06:40:35 INFO 140711442868032] #throughput_metric: host=algo-1, train throughput=25813.069270699776 records/second\u001b[0m\n",
      "\u001b[34m[2022-05-11 06:40:35.671] [tensorio] [info] epoch_stats={\"data_pipeline\": \"/opt/ml/input/data/train\", \"epoch\": 12, \"duration\": 20, \"num_examples\": 2, \"num_bytes\": 92352}\u001b[0m\n",
      "\u001b[34m#metrics {\"StartTime\": 1652251235.6718574, \"EndTime\": 1652251235.6719196, \"Dimensions\": {\"Algorithm\": \"Linear Learner\", \"Host\": \"algo-1\", \"Operation\": \"training\", \"epoch\": 4, \"model\": 0}, \"Metrics\": {\"train_multiclass_cross_entropy_objective\": {\"sum\": 1.03218310546875, \"count\": 1, \"min\": 1.03218310546875, \"max\": 1.03218310546875}}}\u001b[0m\n",
      "\u001b[34m#metrics {\"StartTime\": 1652251235.6720185, \"EndTime\": 1652251235.672041, \"Dimensions\": {\"Algorithm\": \"Linear Learner\", \"Host\": \"algo-1\", \"Operation\": \"training\", \"epoch\": 4, \"model\": 1}, \"Metrics\": {\"train_multiclass_cross_entropy_objective\": {\"sum\": 1.0253536376953125, \"count\": 1, \"min\": 1.0253536376953125, \"max\": 1.0253536376953125}}}\u001b[0m\n",
      "\u001b[34m#metrics {\"StartTime\": 1652251235.672105, \"EndTime\": 1652251235.672122, \"Dimensions\": {\"Algorithm\": \"Linear Learner\", \"Host\": \"algo-1\", \"Operation\": \"training\", \"epoch\": 4, \"model\": 2}, \"Metrics\": {\"train_multiclass_cross_entropy_objective\": {\"sum\": 1.00282861328125, \"count\": 1, \"min\": 1.00282861328125, \"max\": 1.00282861328125}}}\u001b[0m\n",
      "\u001b[34m#metrics {\"StartTime\": 1652251235.6721773, \"EndTime\": 1652251235.6721961, \"Dimensions\": {\"Algorithm\": \"Linear Learner\", \"Host\": \"algo-1\", \"Operation\": \"training\", \"epoch\": 4, \"model\": 3}, \"Metrics\": {\"train_multiclass_cross_entropy_objective\": {\"sum\": 0.9858480224609375, \"count\": 1, \"min\": 0.9858480224609375, \"max\": 0.9858480224609375}}}\u001b[0m\n",
      "\u001b[34m#metrics {\"StartTime\": 1652251235.672265, \"EndTime\": 1652251235.672284, \"Dimensions\": {\"Algorithm\": \"Linear Learner\", \"Host\": \"algo-1\", \"Operation\": \"training\", \"epoch\": 4, \"model\": 4}, \"Metrics\": {\"train_multiclass_cross_entropy_objective\": {\"sum\": 1.047233154296875, \"count\": 1, \"min\": 1.047233154296875, \"max\": 1.047233154296875}}}\u001b[0m\n",
      "\u001b[34m#metrics {\"StartTime\": 1652251235.6723526, \"EndTime\": 1652251235.6723726, \"Dimensions\": {\"Algorithm\": \"Linear Learner\", \"Host\": \"algo-1\", \"Operation\": \"training\", \"epoch\": 4, \"model\": 5}, \"Metrics\": {\"train_multiclass_cross_entropy_objective\": {\"sum\": 0.9927888793945312, \"count\": 1, \"min\": 0.9927888793945312, \"max\": 0.9927888793945312}}}\u001b[0m\n",
      "\u001b[34m#metrics {\"StartTime\": 1652251235.672429, \"EndTime\": 1652251235.6724458, \"Dimensions\": {\"Algorithm\": \"Linear Learner\", \"Host\": \"algo-1\", \"Operation\": \"training\", \"epoch\": 4, \"model\": 6}, \"Metrics\": {\"train_multiclass_cross_entropy_objective\": {\"sum\": 0.8956713256835938, \"count\": 1, \"min\": 0.8956713256835938, \"max\": 0.8956713256835938}}}\u001b[0m\n",
      "\u001b[34m#metrics {\"StartTime\": 1652251235.6724854, \"EndTime\": 1652251235.6725016, \"Dimensions\": {\"Algorithm\": \"Linear Learner\", \"Host\": \"algo-1\", \"Operation\": \"training\", \"epoch\": 4, \"model\": 7}, \"Metrics\": {\"train_multiclass_cross_entropy_objective\": {\"sum\": 1.0487437744140624, \"count\": 1, \"min\": 1.0487437744140624, \"max\": 1.0487437744140624}}}\u001b[0m\n",
      "\u001b[34m#metrics {\"StartTime\": 1652251235.672566, \"EndTime\": 1652251235.6725838, \"Dimensions\": {\"Algorithm\": \"Linear Learner\", \"Host\": \"algo-1\", \"Operation\": \"training\", \"epoch\": 4, \"model\": 8}, \"Metrics\": {\"train_multiclass_cross_entropy_objective\": {\"sum\": 0.8530120849609375, \"count\": 1, \"min\": 0.8530120849609375, \"max\": 0.8530120849609375}}}\u001b[0m\n",
      "\u001b[34m#metrics {\"StartTime\": 1652251235.67266, \"EndTime\": 1652251235.672677, \"Dimensions\": {\"Algorithm\": \"Linear Learner\", \"Host\": \"algo-1\", \"Operation\": \"training\", \"epoch\": 4, \"model\": 9}, \"Metrics\": {\"train_multiclass_cross_entropy_objective\": {\"sum\": 2.03142626953125, \"count\": 1, \"min\": 2.03142626953125, \"max\": 2.03142626953125}}}\u001b[0m\n",
      "\u001b[34m#metrics {\"StartTime\": 1652251235.6727343, \"EndTime\": 1652251235.672751, \"Dimensions\": {\"Algorithm\": \"Linear Learner\", \"Host\": \"algo-1\", \"Operation\": \"training\", \"epoch\": 4, \"model\": 10}, \"Metrics\": {\"train_multiclass_cross_entropy_objective\": {\"sum\": 1.0487557373046874, \"count\": 1, \"min\": 1.0487557373046874, \"max\": 1.0487557373046874}}}\u001b[0m\n",
      "\u001b[34m#metrics {\"StartTime\": 1652251235.6728084, \"EndTime\": 1652251235.6728263, \"Dimensions\": {\"Algorithm\": \"Linear Learner\", \"Host\": \"algo-1\", \"Operation\": \"training\", \"epoch\": 4, \"model\": 11}, \"Metrics\": {\"train_multiclass_cross_entropy_objective\": {\"sum\": 0.8513424072265625, \"count\": 1, \"min\": 0.8513424072265625, \"max\": 0.8513424072265625}}}\u001b[0m\n",
      "\u001b[34m[05/11/2022 06:40:35 INFO 140711442868032] #quality_metric: host=algo-1, epoch=4, train multiclass_cross_entropy_objective <loss>=1.03218310546875\u001b[0m\n",
      "\u001b[34m[2022-05-11 06:40:35.694] [tensorio] [info] epoch_stats={\"data_pipeline\": \"/opt/ml/input/data/validation\", \"epoch\": 14, \"duration\": 11, \"num_examples\": 1, \"num_bytes\": 11544}\u001b[0m\n",
      "\u001b[34m#metrics {\"StartTime\": 1652251235.6998758, \"EndTime\": 1652251235.6999116, \"Dimensions\": {\"Algorithm\": \"Linear Learner\", \"Host\": \"algo-1\", \"Operation\": \"training\", \"epoch\": 4, \"model\": 0}, \"Metrics\": {\"validation_multiclass_cross_entropy_objective\": {\"sum\": 1.0100545109929264, \"count\": 1, \"min\": 1.0100545109929264, \"max\": 1.0100545109929264}}}\u001b[0m\n",
      "\u001b[34m#metrics {\"StartTime\": 1652251235.6999724, \"EndTime\": 1652251235.6999857, \"Dimensions\": {\"Algorithm\": \"Linear Learner\", \"Host\": \"algo-1\", \"Operation\": \"training\", \"epoch\": 4, \"model\": 1}, \"Metrics\": {\"validation_multiclass_cross_entropy_objective\": {\"sum\": 0.9982991261525197, \"count\": 1, \"min\": 0.9982991261525197, \"max\": 0.9982991261525197}}}\u001b[0m\n",
      "\u001b[34m#metrics {\"StartTime\": 1652251235.7000432, \"EndTime\": 1652251235.70006, \"Dimensions\": {\"Algorithm\": \"Linear Learner\", \"Host\": \"algo-1\", \"Operation\": \"training\", \"epoch\": 4, \"model\": 2}, \"Metrics\": {\"validation_multiclass_cross_entropy_objective\": {\"sum\": 0.9440632725621129, \"count\": 1, \"min\": 0.9440632725621129, \"max\": 0.9440632725621129}}}\u001b[0m\n",
      "\u001b[34m#metrics {\"StartTime\": 1652251235.7001162, \"EndTime\": 1652251235.7001336, \"Dimensions\": {\"Algorithm\": \"Linear Learner\", \"Host\": \"algo-1\", \"Operation\": \"training\", \"epoch\": 4, \"model\": 3}, \"Metrics\": {\"validation_multiclass_cross_entropy_objective\": {\"sum\": 0.9517125310124578, \"count\": 1, \"min\": 0.9517125310124578, \"max\": 0.9517125310124578}}}\u001b[0m\n",
      "\u001b[34m#metrics {\"StartTime\": 1652251235.7001917, \"EndTime\": 1652251235.7002103, \"Dimensions\": {\"Algorithm\": \"Linear Learner\", \"Host\": \"algo-1\", \"Operation\": \"training\", \"epoch\": 4, \"model\": 4}, \"Metrics\": {\"validation_multiclass_cross_entropy_objective\": {\"sum\": 1.0277523006404843, \"count\": 1, \"min\": 1.0277523006404843, \"max\": 1.0277523006404843}}}\u001b[0m\n",
      "\u001b[34m#metrics {\"StartTime\": 1652251235.7002633, \"EndTime\": 1652251235.7002783, \"Dimensions\": {\"Algorithm\": \"Linear Learner\", \"Host\": \"algo-1\", \"Operation\": \"training\", \"epoch\": 4, \"model\": 5}, \"Metrics\": {\"validation_multiclass_cross_entropy_objective\": {\"sum\": 0.9736388610289978, \"count\": 1, \"min\": 0.9736388610289978, \"max\": 0.9736388610289978}}}\u001b[0m\n",
      "\u001b[34m#metrics {\"StartTime\": 1652251235.7003417, \"EndTime\": 1652251235.700359, \"Dimensions\": {\"Algorithm\": \"Linear Learner\", \"Host\": \"algo-1\", \"Operation\": \"training\", \"epoch\": 4, \"model\": 6}, \"Metrics\": {\"validation_multiclass_cross_entropy_objective\": {\"sum\": 0.8720021978154913, \"count\": 1, \"min\": 0.8720021978154913, \"max\": 0.8720021978154913}}}\u001b[0m\n",
      "\u001b[34m#metrics {\"StartTime\": 1652251235.700417, \"EndTime\": 1652251235.700436, \"Dimensions\": {\"Algorithm\": \"Linear Learner\", \"Host\": \"algo-1\", \"Operation\": \"training\", \"epoch\": 4, \"model\": 7}, \"Metrics\": {\"validation_multiclass_cross_entropy_objective\": {\"sum\": 1.0315409479914486, \"count\": 1, \"min\": 1.0315409479914486, \"max\": 1.0315409479914486}}}\u001b[0m\n",
      "\u001b[34m#metrics {\"StartTime\": 1652251235.7004924, \"EndTime\": 1652251235.7005095, \"Dimensions\": {\"Algorithm\": \"Linear Learner\", \"Host\": \"algo-1\", \"Operation\": \"training\", \"epoch\": 4, \"model\": 8}, \"Metrics\": {\"validation_multiclass_cross_entropy_objective\": {\"sum\": 0.8065404806051168, \"count\": 1, \"min\": 0.8065404806051168, \"max\": 0.8065404806051168}}}\u001b[0m\n",
      "\u001b[34m#metrics {\"StartTime\": 1652251235.700564, \"EndTime\": 1652251235.700581, \"Dimensions\": {\"Algorithm\": \"Linear Learner\", \"Host\": \"algo-1\", \"Operation\": \"training\", \"epoch\": 4, \"model\": 9}, \"Metrics\": {\"validation_multiclass_cross_entropy_objective\": {\"sum\": 0.8620898272540118, \"count\": 1, \"min\": 0.8620898272540118, \"max\": 0.8620898272540118}}}\u001b[0m\n",
      "\u001b[34m#metrics {\"StartTime\": 1652251235.70067, \"EndTime\": 1652251235.7006886, \"Dimensions\": {\"Algorithm\": \"Linear Learner\", \"Host\": \"algo-1\", \"Operation\": \"training\", \"epoch\": 4, \"model\": 10}, \"Metrics\": {\"validation_multiclass_cross_entropy_objective\": {\"sum\": 1.0346797908748593, \"count\": 1, \"min\": 1.0346797908748593, \"max\": 1.0346797908748593}}}\u001b[0m\n",
      "\u001b[34m#metrics {\"StartTime\": 1652251235.7007437, \"EndTime\": 1652251235.7007608, \"Dimensions\": {\"Algorithm\": \"Linear Learner\", \"Host\": \"algo-1\", \"Operation\": \"training\", \"epoch\": 4, \"model\": 11}, \"Metrics\": {\"validation_multiclass_cross_entropy_objective\": {\"sum\": 0.9936064299162444, \"count\": 1, \"min\": 0.9936064299162444, \"max\": 0.9936064299162444}}}\u001b[0m\n",
      "\u001b[34m[05/11/2022 06:40:35 INFO 140711442868032] #quality_metric: host=algo-1, epoch=4, validation multiclass_cross_entropy_objective <loss>=1.0100545109929264\u001b[0m\n",
      "\u001b[34m[05/11/2022 06:40:35 INFO 140711442868032] #early_stopping_criteria_metric: host=algo-1, epoch=4, criteria=multiclass_cross_entropy_objective, value=0.8065404806051168\u001b[0m\n",
      "\u001b[34m[05/11/2022 06:40:35 INFO 140711442868032] Saving model for epoch: 4\u001b[0m\n",
      "\u001b[34m[05/11/2022 06:40:35 INFO 140711442868032] Saved checkpoint to \"/tmp/tmpgxk28g1x/mx-mod-0000.params\"\u001b[0m\n",
      "\u001b[34m[05/11/2022 06:40:35 INFO 140711442868032] #progress_metric: host=algo-1, completed 33.333333333333336 % of epochs\u001b[0m\n",
      "\u001b[34m#metrics {\"StartTime\": 1652251235.6508331, \"EndTime\": 1652251235.7154932, \"Dimensions\": {\"Algorithm\": \"Linear Learner\", \"Host\": \"algo-1\", \"Operation\": \"training\", \"epoch\": 4, \"Meta\": \"training_data_iter\"}, \"Metrics\": {\"Total Records Seen\": {\"sum\": 11656.0, \"count\": 1, \"min\": 11656, \"max\": 11656}, \"Total Batches Seen\": {\"sum\": 13.0, \"count\": 1, \"min\": 13, \"max\": 13}, \"Max Records Seen Between Resets\": {\"sum\": 1776.0, \"count\": 1, \"min\": 1776, \"max\": 1776}, \"Max Batches Seen Between Resets\": {\"sum\": 2.0, \"count\": 1, \"min\": 2, \"max\": 2}, \"Reset Count\": {\"sum\": 7.0, \"count\": 1, \"min\": 7, \"max\": 7}, \"Number of Records Since Last Reset\": {\"sum\": 1776.0, \"count\": 1, \"min\": 1776, \"max\": 1776}, \"Number of Batches Since Last Reset\": {\"sum\": 2.0, \"count\": 1, \"min\": 2, \"max\": 2}}}\u001b[0m\n",
      "\u001b[34m[05/11/2022 06:40:35 INFO 140711442868032] #throughput_metric: host=algo-1, train throughput=27397.61925498735 records/second\u001b[0m\n",
      "\u001b[34m[2022-05-11 06:40:35.759] [tensorio] [info] epoch_stats={\"data_pipeline\": \"/opt/ml/input/data/train\", \"epoch\": 14, \"duration\": 43, \"num_examples\": 2, \"num_bytes\": 92352}\u001b[0m\n",
      "\u001b[34m#metrics {\"StartTime\": 1652251235.7599354, \"EndTime\": 1652251235.7600052, \"Dimensions\": {\"Algorithm\": \"Linear Learner\", \"Host\": \"algo-1\", \"Operation\": \"training\", \"epoch\": 5, \"model\": 0}, \"Metrics\": {\"train_multiclass_cross_entropy_objective\": {\"sum\": 1.0152379760742187, \"count\": 1, \"min\": 1.0152379760742187, \"max\": 1.0152379760742187}}}\u001b[0m\n",
      "\u001b[34m#metrics {\"StartTime\": 1652251235.7601366, \"EndTime\": 1652251235.7601624, \"Dimensions\": {\"Algorithm\": \"Linear Learner\", \"Host\": \"algo-1\", \"Operation\": \"training\", \"epoch\": 5, \"model\": 1}, \"Metrics\": {\"train_multiclass_cross_entropy_objective\": {\"sum\": 1.0039544067382813, \"count\": 1, \"min\": 1.0039544067382813, \"max\": 1.0039544067382813}}}\u001b[0m\n",
      "\u001b[34m#metrics {\"StartTime\": 1652251235.760258, \"EndTime\": 1652251235.7602792, \"Dimensions\": {\"Algorithm\": \"Linear Learner\", \"Host\": \"algo-1\", \"Operation\": \"training\", \"epoch\": 5, \"model\": 2}, \"Metrics\": {\"train_multiclass_cross_entropy_objective\": {\"sum\": 0.9525301513671875, \"count\": 1, \"min\": 0.9525301513671875, \"max\": 0.9525301513671875}}}\u001b[0m\n",
      "\u001b[34m#metrics {\"StartTime\": 1652251235.7603781, \"EndTime\": 1652251235.7604034, \"Dimensions\": {\"Algorithm\": \"Linear Learner\", \"Host\": \"algo-1\", \"Operation\": \"training\", \"epoch\": 5, \"model\": 3}, \"Metrics\": {\"train_multiclass_cross_entropy_objective\": {\"sum\": 0.959768310546875, \"count\": 1, \"min\": 0.959768310546875, \"max\": 0.959768310546875}}}\u001b[0m\n",
      "\u001b[34m#metrics {\"StartTime\": 1652251235.7604678, \"EndTime\": 1652251235.760487, \"Dimensions\": {\"Algorithm\": \"Linear Learner\", \"Host\": \"algo-1\", \"Operation\": \"training\", \"epoch\": 5, \"model\": 4}, \"Metrics\": {\"train_multiclass_cross_entropy_objective\": {\"sum\": 1.0289783935546875, \"count\": 1, \"min\": 1.0289783935546875, \"max\": 1.0289783935546875}}}\u001b[0m\n",
      "\u001b[34m#metrics {\"StartTime\": 1652251235.7605784, \"EndTime\": 1652251235.7606006, \"Dimensions\": {\"Algorithm\": \"Linear Learner\", \"Host\": \"algo-1\", \"Operation\": \"training\", \"epoch\": 5, \"model\": 5}, \"Metrics\": {\"train_multiclass_cross_entropy_objective\": {\"sum\": 0.9785779418945313, \"count\": 1, \"min\": 0.9785779418945313, \"max\": 0.9785779418945313}}}\u001b[0m\n",
      "\u001b[34m#metrics {\"StartTime\": 1652251235.7607093, \"EndTime\": 1652251235.7607317, \"Dimensions\": {\"Algorithm\": \"Linear Learner\", \"Host\": \"algo-1\", \"Operation\": \"training\", \"epoch\": 5, \"model\": 6}, \"Metrics\": {\"train_multiclass_cross_entropy_objective\": {\"sum\": 0.8819891967773438, \"count\": 1, \"min\": 0.8819891967773438, \"max\": 0.8819891967773438}}}\u001b[0m\n",
      "\u001b[34m#metrics {\"StartTime\": 1652251235.7608232, \"EndTime\": 1652251235.7608464, \"Dimensions\": {\"Algorithm\": \"Linear Learner\", \"Host\": \"algo-1\", \"Operation\": \"training\", \"epoch\": 5, \"model\": 7}, \"Metrics\": {\"train_multiclass_cross_entropy_objective\": {\"sum\": 1.035796875, \"count\": 1, \"min\": 1.035796875, \"max\": 1.035796875}}}\u001b[0m\n",
      "\u001b[34m#metrics {\"StartTime\": 1652251235.7609081, \"EndTime\": 1652251235.7609265, \"Dimensions\": {\"Algorithm\": \"Linear Learner\", \"Host\": \"algo-1\", \"Operation\": \"training\", \"epoch\": 5, \"model\": 8}, \"Metrics\": {\"train_multiclass_cross_entropy_objective\": {\"sum\": 0.816642578125, \"count\": 1, \"min\": 0.816642578125, \"max\": 0.816642578125}}}\u001b[0m\n",
      "\u001b[34m#metrics {\"StartTime\": 1652251235.7610214, \"EndTime\": 1652251235.761042, \"Dimensions\": {\"Algorithm\": \"Linear Learner\", \"Host\": \"algo-1\", \"Operation\": \"training\", \"epoch\": 5, \"model\": 9}, \"Metrics\": {\"train_multiclass_cross_entropy_objective\": {\"sum\": 0.8850859985351562, \"count\": 1, \"min\": 0.8850859985351562, \"max\": 0.8850859985351562}}}\u001b[0m\n",
      "\u001b[34m#metrics {\"StartTime\": 1652251235.7611876, \"EndTime\": 1652251235.761211, \"Dimensions\": {\"Algorithm\": \"Linear Learner\", \"Host\": \"algo-1\", \"Operation\": \"training\", \"epoch\": 5, \"model\": 10}, \"Metrics\": {\"train_multiclass_cross_entropy_objective\": {\"sum\": 1.0386148681640626, \"count\": 1, \"min\": 1.0386148681640626, \"max\": 1.0386148681640626}}}\u001b[0m\n",
      "\u001b[34m#metrics {\"StartTime\": 1652251235.7613711, \"EndTime\": 1652251235.761394, \"Dimensions\": {\"Algorithm\": \"Linear Learner\", \"Host\": \"algo-1\", \"Operation\": \"training\", \"epoch\": 5, \"model\": 11}, \"Metrics\": {\"train_multiclass_cross_entropy_objective\": {\"sum\": 1.0105449829101563, \"count\": 1, \"min\": 1.0105449829101563, \"max\": 1.0105449829101563}}}\u001b[0m\n",
      "\u001b[34m[05/11/2022 06:40:35 INFO 140711442868032] #quality_metric: host=algo-1, epoch=5, train multiclass_cross_entropy_objective <loss>=1.0152379760742187\u001b[0m\n",
      "\u001b[34m[2022-05-11 06:40:35.786] [tensorio] [info] epoch_stats={\"data_pipeline\": \"/opt/ml/input/data/validation\", \"epoch\": 17, \"duration\": 10, \"num_examples\": 1, \"num_bytes\": 11544}\u001b[0m\n",
      "\u001b[34m#metrics {\"StartTime\": 1652251235.790466, \"EndTime\": 1652251235.7905025, \"Dimensions\": {\"Algorithm\": \"Linear Learner\", \"Host\": \"algo-1\", \"Operation\": \"training\", \"epoch\": 5, \"model\": 0}, \"Metrics\": {\"validation_multiclass_cross_entropy_objective\": {\"sum\": 0.9939004021721918, \"count\": 1, \"min\": 0.9939004021721918, \"max\": 0.9939004021721918}}}\u001b[0m\n",
      "\u001b[34m#metrics {\"StartTime\": 1652251235.7905736, \"EndTime\": 1652251235.7905948, \"Dimensions\": {\"Algorithm\": \"Linear Learner\", \"Host\": \"algo-1\", \"Operation\": \"training\", \"epoch\": 5, \"model\": 1}, \"Metrics\": {\"validation_multiclass_cross_entropy_objective\": {\"sum\": 0.9781173843521256, \"count\": 1, \"min\": 0.9781173843521256, \"max\": 0.9781173843521256}}}\u001b[0m\n",
      "\u001b[34m#metrics {\"StartTime\": 1652251235.7906675, \"EndTime\": 1652251235.7906864, \"Dimensions\": {\"Algorithm\": \"Linear Learner\", \"Host\": \"algo-1\", \"Operation\": \"training\", \"epoch\": 5, \"model\": 2}, \"Metrics\": {\"validation_multiclass_cross_entropy_objective\": {\"sum\": 0.9010299132750915, \"count\": 1, \"min\": 0.9010299132750915, \"max\": 0.9010299132750915}}}\u001b[0m\n",
      "\u001b[34m#metrics {\"StartTime\": 1652251235.7907567, \"EndTime\": 1652251235.790776, \"Dimensions\": {\"Algorithm\": \"Linear Learner\", \"Host\": \"algo-1\", \"Operation\": \"training\", \"epoch\": 5, \"model\": 3}, \"Metrics\": {\"validation_multiclass_cross_entropy_objective\": {\"sum\": 0.9276772576409418, \"count\": 1, \"min\": 0.9276772576409418, \"max\": 0.9276772576409418}}}\u001b[0m\n",
      "\u001b[34m#metrics {\"StartTime\": 1652251235.7908459, \"EndTime\": 1652251235.790865, \"Dimensions\": {\"Algorithm\": \"Linear Learner\", \"Host\": \"algo-1\", \"Operation\": \"training\", \"epoch\": 5, \"model\": 4}, \"Metrics\": {\"validation_multiclass_cross_entropy_objective\": {\"sum\": 1.0094401728999507, \"count\": 1, \"min\": 1.0094401728999507, \"max\": 1.0094401728999507}}}\u001b[0m\n",
      "\u001b[34m#metrics {\"StartTime\": 1652251235.7909253, \"EndTime\": 1652251235.790943, \"Dimensions\": {\"Algorithm\": \"Linear Learner\", \"Host\": \"algo-1\", \"Operation\": \"training\", \"epoch\": 5, \"model\": 5}, \"Metrics\": {\"validation_multiclass_cross_entropy_objective\": {\"sum\": 0.9608209283502253, \"count\": 1, \"min\": 0.9608209283502253, \"max\": 0.9608209283502253}}}\u001b[0m\n",
      "\u001b[34m#metrics {\"StartTime\": 1652251235.791007, \"EndTime\": 1652251235.7910254, \"Dimensions\": {\"Algorithm\": \"Linear Learner\", \"Host\": \"algo-1\", \"Operation\": \"training\", \"epoch\": 5, \"model\": 6}, \"Metrics\": {\"validation_multiclass_cross_entropy_objective\": {\"sum\": 0.8611121650214668, \"count\": 1, \"min\": 0.8611121650214668, \"max\": 0.8611121650214668}}}\u001b[0m\n",
      "\u001b[34m#metrics {\"StartTime\": 1652251235.7910824, \"EndTime\": 1652251235.7911005, \"Dimensions\": {\"Algorithm\": \"Linear Learner\", \"Host\": \"algo-1\", \"Operation\": \"training\", \"epoch\": 5, \"model\": 7}, \"Metrics\": {\"validation_multiclass_cross_entropy_objective\": {\"sum\": 1.018416877265449, \"count\": 1, \"min\": 1.018416877265449, \"max\": 1.018416877265449}}}\u001b[0m\n",
      "\u001b[34m#metrics {\"StartTime\": 1652251235.7911577, \"EndTime\": 1652251235.7911756, \"Dimensions\": {\"Algorithm\": \"Linear Learner\", \"Host\": \"algo-1\", \"Operation\": \"training\", \"epoch\": 5, \"model\": 8}, \"Metrics\": {\"validation_multiclass_cross_entropy_objective\": {\"sum\": 0.776808111517279, \"count\": 1, \"min\": 0.776808111517279, \"max\": 0.776808111517279}}}\u001b[0m\n",
      "\u001b[34m#metrics {\"StartTime\": 1652251235.7912302, \"EndTime\": 1652251235.791246, \"Dimensions\": {\"Algorithm\": \"Linear Learner\", \"Host\": \"algo-1\", \"Operation\": \"training\", \"epoch\": 5, \"model\": 9}, \"Metrics\": {\"validation_multiclass_cross_entropy_objective\": {\"sum\": 1.0299277778144356, \"count\": 1, \"min\": 1.0299277778144356, \"max\": 1.0299277778144356}}}\u001b[0m\n",
      "\u001b[34m#metrics {\"StartTime\": 1652251235.791297, \"EndTime\": 1652251235.7913115, \"Dimensions\": {\"Algorithm\": \"Linear Learner\", \"Host\": \"algo-1\", \"Operation\": \"training\", \"epoch\": 5, \"model\": 10}, \"Metrics\": {\"validation_multiclass_cross_entropy_objective\": {\"sum\": 1.0237428819811023, \"count\": 1, \"min\": 1.0237428819811023, \"max\": 1.0237428819811023}}}\u001b[0m\n",
      "\u001b[34m#metrics {\"StartTime\": 1652251235.791363, \"EndTime\": 1652251235.791379, \"Dimensions\": {\"Algorithm\": \"Linear Learner\", \"Host\": \"algo-1\", \"Operation\": \"training\", \"epoch\": 5, \"model\": 11}, \"Metrics\": {\"validation_multiclass_cross_entropy_objective\": {\"sum\": 1.0481382490278364, \"count\": 1, \"min\": 1.0481382490278364, \"max\": 1.0481382490278364}}}\u001b[0m\n",
      "\u001b[34m[05/11/2022 06:40:35 INFO 140711442868032] #quality_metric: host=algo-1, epoch=5, validation multiclass_cross_entropy_objective <loss>=0.9939004021721918\u001b[0m\n",
      "\u001b[34m[05/11/2022 06:40:35 INFO 140711442868032] #early_stopping_criteria_metric: host=algo-1, epoch=5, criteria=multiclass_cross_entropy_objective, value=0.776808111517279\u001b[0m\n",
      "\u001b[34m[05/11/2022 06:40:35 INFO 140711442868032] Epoch 5: Loss improved. Updating best model\u001b[0m\n",
      "\u001b[34m[05/11/2022 06:40:35 INFO 140711442868032] Saving model for epoch: 5\u001b[0m\n",
      "\u001b[34m[05/11/2022 06:40:35 INFO 140711442868032] Saved checkpoint to \"/tmp/tmpqaunx7w_/mx-mod-0000.params\"\u001b[0m\n",
      "\u001b[34m[05/11/2022 06:40:35 INFO 140711442868032] #progress_metric: host=algo-1, completed 40.0 % of epochs\u001b[0m\n",
      "\u001b[34m#metrics {\"StartTime\": 1652251235.7158253, \"EndTime\": 1652251235.8004525, \"Dimensions\": {\"Algorithm\": \"Linear Learner\", \"Host\": \"algo-1\", \"Operation\": \"training\", \"epoch\": 5, \"Meta\": \"training_data_iter\"}, \"Metrics\": {\"Total Records Seen\": {\"sum\": 13432.0, \"count\": 1, \"min\": 13432, \"max\": 13432}, \"Total Batches Seen\": {\"sum\": 15.0, \"count\": 1, \"min\": 15, \"max\": 15}, \"Max Records Seen Between Resets\": {\"sum\": 1776.0, \"count\": 1, \"min\": 1776, \"max\": 1776}, \"Max Batches Seen Between Resets\": {\"sum\": 2.0, \"count\": 1, \"min\": 2, \"max\": 2}, \"Reset Count\": {\"sum\": 8.0, \"count\": 1, \"min\": 8, \"max\": 8}, \"Number of Records Since Last Reset\": {\"sum\": 1776.0, \"count\": 1, \"min\": 1776, \"max\": 1776}, \"Number of Batches Since Last Reset\": {\"sum\": 2.0, \"count\": 1, \"min\": 2, \"max\": 2}}}\u001b[0m\n",
      "\u001b[34m[05/11/2022 06:40:35 INFO 140711442868032] #throughput_metric: host=algo-1, train throughput=20947.81217203503 records/second\u001b[0m\n",
      "\u001b[34m[2022-05-11 06:40:35.823] [tensorio] [info] epoch_stats={\"data_pipeline\": \"/opt/ml/input/data/train\", \"epoch\": 16, \"duration\": 22, \"num_examples\": 2, \"num_bytes\": 92352}\u001b[0m\n",
      "\u001b[34m#metrics {\"StartTime\": 1652251235.8232021, \"EndTime\": 1652251235.8232598, \"Dimensions\": {\"Algorithm\": \"Linear Learner\", \"Host\": \"algo-1\", \"Operation\": \"training\", \"epoch\": 6, \"model\": 0}, \"Metrics\": {\"train_multiclass_cross_entropy_objective\": {\"sum\": 0.9983641967773438, \"count\": 1, \"min\": 0.9983641967773438, \"max\": 0.9983641967773438}}}\u001b[0m\n",
      "\u001b[34m#metrics {\"StartTime\": 1652251235.8233259, \"EndTime\": 1652251235.8233469, \"Dimensions\": {\"Algorithm\": \"Linear Learner\", \"Host\": \"algo-1\", \"Operation\": \"training\", \"epoch\": 6, \"model\": 1}, \"Metrics\": {\"train_multiclass_cross_entropy_objective\": {\"sum\": 0.9830233154296875, \"count\": 1, \"min\": 0.9830233154296875, \"max\": 0.9830233154296875}}}\u001b[0m\n",
      "\u001b[34m#metrics {\"StartTime\": 1652251235.823407, \"EndTime\": 1652251235.8234258, \"Dimensions\": {\"Algorithm\": \"Linear Learner\", \"Host\": \"algo-1\", \"Operation\": \"training\", \"epoch\": 6, \"model\": 2}, \"Metrics\": {\"train_multiclass_cross_entropy_objective\": {\"sum\": 0.90822900390625, \"count\": 1, \"min\": 0.90822900390625, \"max\": 0.90822900390625}}}\u001b[0m\n",
      "\u001b[34m#metrics {\"StartTime\": 1652251235.8234718, \"EndTime\": 1652251235.8234837, \"Dimensions\": {\"Algorithm\": \"Linear Learner\", \"Host\": \"algo-1\", \"Operation\": \"training\", \"epoch\": 6, \"model\": 3}, \"Metrics\": {\"train_multiclass_cross_entropy_objective\": {\"sum\": 0.9347615966796875, \"count\": 1, \"min\": 0.9347615966796875, \"max\": 0.9347615966796875}}}\u001b[0m\n",
      "\u001b[34m#metrics {\"StartTime\": 1652251235.8235357, \"EndTime\": 1652251235.8235538, \"Dimensions\": {\"Algorithm\": \"Linear Learner\", \"Host\": \"algo-1\", \"Operation\": \"training\", \"epoch\": 6, \"model\": 4}, \"Metrics\": {\"train_multiclass_cross_entropy_objective\": {\"sum\": 1.01159619140625, \"count\": 1, \"min\": 1.01159619140625, \"max\": 1.01159619140625}}}\u001b[0m\n",
      "\u001b[34m#metrics {\"StartTime\": 1652251235.823609, \"EndTime\": 1652251235.8236263, \"Dimensions\": {\"Algorithm\": \"Linear Learner\", \"Host\": \"algo-1\", \"Operation\": \"training\", \"epoch\": 6, \"model\": 5}, \"Metrics\": {\"train_multiclass_cross_entropy_objective\": {\"sum\": 0.9659964599609375, \"count\": 1, \"min\": 0.9659964599609375, \"max\": 0.9659964599609375}}}\u001b[0m\n",
      "\u001b[34m#metrics {\"StartTime\": 1652251235.82368, \"EndTime\": 1652251235.8236985, \"Dimensions\": {\"Algorithm\": \"Linear Learner\", \"Host\": \"algo-1\", \"Operation\": \"training\", \"epoch\": 6, \"model\": 6}, \"Metrics\": {\"train_multiclass_cross_entropy_objective\": {\"sum\": 0.8716508178710938, \"count\": 1, \"min\": 0.8716508178710938, \"max\": 0.8716508178710938}}}\u001b[0m\n",
      "\u001b[34m#metrics {\"StartTime\": 1652251235.8237526, \"EndTime\": 1652251235.82377, \"Dimensions\": {\"Algorithm\": \"Linear Learner\", \"Host\": \"algo-1\", \"Operation\": \"training\", \"epoch\": 6, \"model\": 7}, \"Metrics\": {\"train_multiclass_cross_entropy_objective\": {\"sum\": 1.022560546875, \"count\": 1, \"min\": 1.022560546875, \"max\": 1.022560546875}}}\u001b[0m\n",
      "\u001b[34m#metrics {\"StartTime\": 1652251235.8238237, \"EndTime\": 1652251235.8238418, \"Dimensions\": {\"Algorithm\": \"Linear Learner\", \"Host\": \"algo-1\", \"Operation\": \"training\", \"epoch\": 6, \"model\": 8}, \"Metrics\": {\"train_multiclass_cross_entropy_objective\": {\"sum\": 0.7877861938476562, \"count\": 1, \"min\": 0.7877861938476562, \"max\": 0.7877861938476562}}}\u001b[0m\n",
      "\u001b[34m#metrics {\"StartTime\": 1652251235.8238966, \"EndTime\": 1652251235.8239143, \"Dimensions\": {\"Algorithm\": \"Linear Learner\", \"Host\": \"algo-1\", \"Operation\": \"training\", \"epoch\": 6, \"model\": 9}, \"Metrics\": {\"train_multiclass_cross_entropy_objective\": {\"sum\": 1.042639892578125, \"count\": 1, \"min\": 1.042639892578125, \"max\": 1.042639892578125}}}\u001b[0m\n",
      "\u001b[34m#metrics {\"StartTime\": 1652251235.8239682, \"EndTime\": 1652251235.8239865, \"Dimensions\": {\"Algorithm\": \"Linear Learner\", \"Host\": \"algo-1\", \"Operation\": \"training\", \"epoch\": 6, \"model\": 10}, \"Metrics\": {\"train_multiclass_cross_entropy_objective\": {\"sum\": 1.0279864501953124, \"count\": 1, \"min\": 1.0279864501953124, \"max\": 1.0279864501953124}}}\u001b[0m\n",
      "\u001b[34m#metrics {\"StartTime\": 1652251235.8240414, \"EndTime\": 1652251235.8240592, \"Dimensions\": {\"Algorithm\": \"Linear Learner\", \"Host\": \"algo-1\", \"Operation\": \"training\", \"epoch\": 6, \"model\": 11}, \"Metrics\": {\"train_multiclass_cross_entropy_objective\": {\"sum\": 1.056670166015625, \"count\": 1, \"min\": 1.056670166015625, \"max\": 1.056670166015625}}}\u001b[0m\n",
      "\u001b[34m[05/11/2022 06:40:35 INFO 140711442868032] #quality_metric: host=algo-1, epoch=6, train multiclass_cross_entropy_objective <loss>=0.9983641967773438\u001b[0m\n",
      "\u001b[34m[2022-05-11 06:40:35.848] [tensorio] [info] epoch_stats={\"data_pipeline\": \"/opt/ml/input/data/validation\", \"epoch\": 20, \"duration\": 14, \"num_examples\": 1, \"num_bytes\": 11544}\u001b[0m\n",
      "\u001b[34m#metrics {\"StartTime\": 1652251235.8516169, \"EndTime\": 1652251235.8516529, \"Dimensions\": {\"Algorithm\": \"Linear Learner\", \"Host\": \"algo-1\", \"Operation\": \"training\", \"epoch\": 6, \"model\": 0}, \"Metrics\": {\"validation_multiclass_cross_entropy_objective\": {\"sum\": 0.9816924086562148, \"count\": 1, \"min\": 0.9816924086562148, \"max\": 0.9816924086562148}}}\u001b[0m\n",
      "\u001b[34m#metrics {\"StartTime\": 1652251235.8517203, \"EndTime\": 1652251235.8517346, \"Dimensions\": {\"Algorithm\": \"Linear Learner\", \"Host\": \"algo-1\", \"Operation\": \"training\", \"epoch\": 6, \"model\": 1}, \"Metrics\": {\"validation_multiclass_cross_entropy_objective\": {\"sum\": 0.9640626649598818, \"count\": 1, \"min\": 0.9640626649598818, \"max\": 0.9640626649598818}}}\u001b[0m\n",
      "\u001b[34m#metrics {\"StartTime\": 1652251235.8517911, \"EndTime\": 1652251235.8518095, \"Dimensions\": {\"Algorithm\": \"Linear Learner\", \"Host\": \"algo-1\", \"Operation\": \"training\", \"epoch\": 6, \"model\": 2}, \"Metrics\": {\"validation_multiclass_cross_entropy_objective\": {\"sum\": 0.8840011734146256, \"count\": 1, \"min\": 0.8840011734146256, \"max\": 0.8840011734146256}}}\u001b[0m\n",
      "\u001b[34m#metrics {\"StartTime\": 1652251235.8520062, \"EndTime\": 1652251235.8520281, \"Dimensions\": {\"Algorithm\": \"Linear Learner\", \"Host\": \"algo-1\", \"Operation\": \"training\", \"epoch\": 6, \"model\": 3}, \"Metrics\": {\"validation_multiclass_cross_entropy_objective\": {\"sum\": 0.913693058598149, \"count\": 1, \"min\": 0.913693058598149, \"max\": 0.913693058598149}}}\u001b[0m\n",
      "\u001b[34m#metrics {\"StartTime\": 1652251235.8520916, \"EndTime\": 1652251235.8521087, \"Dimensions\": {\"Algorithm\": \"Linear Learner\", \"Host\": \"algo-1\", \"Operation\": \"training\", \"epoch\": 6, \"model\": 4}, \"Metrics\": {\"validation_multiclass_cross_entropy_objective\": {\"sum\": 0.9919377919789907, \"count\": 1, \"min\": 0.9919377919789907, \"max\": 0.9919377919789907}}}\u001b[0m\n",
      "\u001b[34m#metrics {\"StartTime\": 1652251235.8521698, \"EndTime\": 1652251235.8521883, \"Dimensions\": {\"Algorithm\": \"Linear Learner\", \"Host\": \"algo-1\", \"Operation\": \"training\", \"epoch\": 6, \"model\": 5}, \"Metrics\": {\"validation_multiclass_cross_entropy_objective\": {\"sum\": 0.9490948238888303, \"count\": 1, \"min\": 0.9490948238888303, \"max\": 0.9490948238888303}}}\u001b[0m\n",
      "\u001b[34m#metrics {\"StartTime\": 1652251235.852236, \"EndTime\": 1652251235.8522508, \"Dimensions\": {\"Algorithm\": \"Linear Learner\", \"Host\": \"algo-1\", \"Operation\": \"training\", \"epoch\": 6, \"model\": 6}, \"Metrics\": {\"validation_multiclass_cross_entropy_objective\": {\"sum\": 0.8521690024985923, \"count\": 1, \"min\": 0.8521690024985923, \"max\": 0.8521690024985923}}}\u001b[0m\n",
      "\u001b[34m#metrics {\"StartTime\": 1652251235.8522828, \"EndTime\": 1652251235.8522916, \"Dimensions\": {\"Algorithm\": \"Linear Learner\", \"Host\": \"algo-1\", \"Operation\": \"training\", \"epoch\": 6, \"model\": 7}, \"Metrics\": {\"validation_multiclass_cross_entropy_objective\": {\"sum\": 1.007544096525725, \"count\": 1, \"min\": 1.007544096525725, \"max\": 1.007544096525725}}}\u001b[0m\n",
      "\u001b[34m#metrics {\"StartTime\": 1652251235.8523395, \"EndTime\": 1652251235.852356, \"Dimensions\": {\"Algorithm\": \"Linear Learner\", \"Host\": \"algo-1\", \"Operation\": \"training\", \"epoch\": 6, \"model\": 8}, \"Metrics\": {\"validation_multiclass_cross_entropy_objective\": {\"sum\": 0.7531444790127041, \"count\": 1, \"min\": 0.7531444790127041, \"max\": 0.7531444790127041}}}\u001b[0m\n",
      "\u001b[34m#metrics {\"StartTime\": 1652251235.8524234, \"EndTime\": 1652251235.852443, \"Dimensions\": {\"Algorithm\": \"Linear Learner\", \"Host\": \"algo-1\", \"Operation\": \"training\", \"epoch\": 6, \"model\": 9}, \"Metrics\": {\"validation_multiclass_cross_entropy_objective\": {\"sum\": 0.9661099545590512, \"count\": 1, \"min\": 0.9661099545590512, \"max\": 0.9661099545590512}}}\u001b[0m\n",
      "\u001b[34m#metrics {\"StartTime\": 1652251235.8525023, \"EndTime\": 1652251235.8525202, \"Dimensions\": {\"Algorithm\": \"Linear Learner\", \"Host\": \"algo-1\", \"Operation\": \"training\", \"epoch\": 6, \"model\": 10}, \"Metrics\": {\"validation_multiclass_cross_entropy_objective\": {\"sum\": 1.0140147166209177, \"count\": 1, \"min\": 1.0140147166209177, \"max\": 1.0140147166209177}}}\u001b[0m\n",
      "\u001b[34m#metrics {\"StartTime\": 1652251235.8525763, \"EndTime\": 1652251235.852594, \"Dimensions\": {\"Algorithm\": \"Linear Learner\", \"Host\": \"algo-1\", \"Operation\": \"training\", \"epoch\": 6, \"model\": 11}, \"Metrics\": {\"validation_multiclass_cross_entropy_objective\": {\"sum\": 0.7726690618841497, \"count\": 1, \"min\": 0.7726690618841497, \"max\": 0.7726690618841497}}}\u001b[0m\n",
      "\u001b[34m[05/11/2022 06:40:35 INFO 140711442868032] #quality_metric: host=algo-1, epoch=6, validation multiclass_cross_entropy_objective <loss>=0.9816924086562148\u001b[0m\n",
      "\u001b[34m[05/11/2022 06:40:35 INFO 140711442868032] #early_stopping_criteria_metric: host=algo-1, epoch=6, criteria=multiclass_cross_entropy_objective, value=0.7531444790127041\u001b[0m\n",
      "\u001b[34m[05/11/2022 06:40:35 INFO 140711442868032] Epoch 6: Loss improved. Updating best model\u001b[0m\n",
      "\u001b[34m[05/11/2022 06:40:35 INFO 140711442868032] Saving model for epoch: 6\u001b[0m\n",
      "\u001b[34m[05/11/2022 06:40:35 INFO 140711442868032] Saved checkpoint to \"/tmp/tmp1g0xpgvc/mx-mod-0000.params\"\u001b[0m\n",
      "\u001b[34m[05/11/2022 06:40:35 INFO 140711442868032] #progress_metric: host=algo-1, completed 46.666666666666664 % of epochs\u001b[0m\n",
      "\u001b[34m#metrics {\"StartTime\": 1652251235.800805, \"EndTime\": 1652251235.8631535, \"Dimensions\": {\"Algorithm\": \"Linear Learner\", \"Host\": \"algo-1\", \"Operation\": \"training\", \"epoch\": 6, \"Meta\": \"training_data_iter\"}, \"Metrics\": {\"Total Records Seen\": {\"sum\": 15208.0, \"count\": 1, \"min\": 15208, \"max\": 15208}, \"Total Batches Seen\": {\"sum\": 17.0, \"count\": 1, \"min\": 17, \"max\": 17}, \"Max Records Seen Between Resets\": {\"sum\": 1776.0, \"count\": 1, \"min\": 1776, \"max\": 1776}, \"Max Batches Seen Between Resets\": {\"sum\": 2.0, \"count\": 1, \"min\": 2, \"max\": 2}, \"Reset Count\": {\"sum\": 9.0, \"count\": 1, \"min\": 9, \"max\": 9}, \"Number of Records Since Last Reset\": {\"sum\": 1776.0, \"count\": 1, \"min\": 1776, \"max\": 1776}, \"Number of Batches Since Last Reset\": {\"sum\": 2.0, \"count\": 1, \"min\": 2, \"max\": 2}}}\u001b[0m\n",
      "\u001b[34m[05/11/2022 06:40:35 INFO 140711442868032] #throughput_metric: host=algo-1, train throughput=28405.922520468128 records/second\u001b[0m\n",
      "\u001b[34m[2022-05-11 06:40:35.886] [tensorio] [info] epoch_stats={\"data_pipeline\": \"/opt/ml/input/data/train\", \"epoch\": 18, \"duration\": 22, \"num_examples\": 2, \"num_bytes\": 92352}\u001b[0m\n",
      "\u001b[34m#metrics {\"StartTime\": 1652251235.8865943, \"EndTime\": 1652251235.8866491, \"Dimensions\": {\"Algorithm\": \"Linear Learner\", \"Host\": \"algo-1\", \"Operation\": \"training\", \"epoch\": 7, \"model\": 0}, \"Metrics\": {\"train_multiclass_cross_entropy_objective\": {\"sum\": 0.9853231811523437, \"count\": 1, \"min\": 0.9853231811523437, \"max\": 0.9853231811523437}}}\u001b[0m\n",
      "\u001b[34m#metrics {\"StartTime\": 1652251235.88702, \"EndTime\": 1652251235.887239, \"Dimensions\": {\"Algorithm\": \"Linear Learner\", \"Host\": \"algo-1\", \"Operation\": \"training\", \"epoch\": 7, \"model\": 1}, \"Metrics\": {\"train_multiclass_cross_entropy_objective\": {\"sum\": 0.9681892700195313, \"count\": 1, \"min\": 0.9681892700195313, \"max\": 0.9681892700195313}}}\u001b[0m\n",
      "\u001b[34m#metrics {\"StartTime\": 1652251235.8874445, \"EndTime\": 1652251235.887469, \"Dimensions\": {\"Algorithm\": \"Linear Learner\", \"Host\": \"algo-1\", \"Operation\": \"training\", \"epoch\": 7, \"model\": 2}, \"Metrics\": {\"train_multiclass_cross_entropy_objective\": {\"sum\": 0.890293212890625, \"count\": 1, \"min\": 0.890293212890625, \"max\": 0.890293212890625}}}\u001b[0m\n",
      "\u001b[34m#metrics {\"StartTime\": 1652251235.8875344, \"EndTime\": 1652251235.8875544, \"Dimensions\": {\"Algorithm\": \"Linear Learner\", \"Host\": \"algo-1\", \"Operation\": \"training\", \"epoch\": 7, \"model\": 3}, \"Metrics\": {\"train_multiclass_cross_entropy_objective\": {\"sum\": 0.9197091064453125, \"count\": 1, \"min\": 0.9197091064453125, \"max\": 0.9197091064453125}}}\u001b[0m\n",
      "\u001b[34m#metrics {\"StartTime\": 1652251235.8876169, \"EndTime\": 1652251235.8876364, \"Dimensions\": {\"Algorithm\": \"Linear Learner\", \"Host\": \"algo-1\", \"Operation\": \"training\", \"epoch\": 7, \"model\": 4}, \"Metrics\": {\"train_multiclass_cross_entropy_objective\": {\"sum\": 0.9950196533203125, \"count\": 1, \"min\": 0.9950196533203125, \"max\": 0.9950196533203125}}}\u001b[0m\n",
      "\u001b[34m#metrics {\"StartTime\": 1652251235.8876946, \"EndTime\": 1652251235.8877099, \"Dimensions\": {\"Algorithm\": \"Linear Learner\", \"Host\": \"algo-1\", \"Operation\": \"training\", \"epoch\": 7, \"model\": 5}, \"Metrics\": {\"train_multiclass_cross_entropy_objective\": {\"sum\": 0.9546382446289062, \"count\": 1, \"min\": 0.9546382446289062, \"max\": 0.9546382446289062}}}\u001b[0m\n",
      "\u001b[34m#metrics {\"StartTime\": 1652251235.887765, \"EndTime\": 1652251235.887784, \"Dimensions\": {\"Algorithm\": \"Linear Learner\", \"Host\": \"algo-1\", \"Operation\": \"training\", \"epoch\": 7, \"model\": 6}, \"Metrics\": {\"train_multiclass_cross_entropy_objective\": {\"sum\": 0.8637085571289063, \"count\": 1, \"min\": 0.8637085571289063, \"max\": 0.8637085571289063}}}\u001b[0m\n",
      "\u001b[34m#metrics {\"StartTime\": 1652251235.8878415, \"EndTime\": 1652251235.8878598, \"Dimensions\": {\"Algorithm\": \"Linear Learner\", \"Host\": \"algo-1\", \"Operation\": \"training\", \"epoch\": 7, \"model\": 7}, \"Metrics\": {\"train_multiclass_cross_entropy_objective\": {\"sum\": 1.0112341918945313, \"count\": 1, \"min\": 1.0112341918945313, \"max\": 1.0112341918945313}}}\u001b[0m\n",
      "\u001b[34m#metrics {\"StartTime\": 1652251235.8879154, \"EndTime\": 1652251235.887933, \"Dimensions\": {\"Algorithm\": \"Linear Learner\", \"Host\": \"algo-1\", \"Operation\": \"training\", \"epoch\": 7, \"model\": 8}, \"Metrics\": {\"train_multiclass_cross_entropy_objective\": {\"sum\": 0.764803955078125, \"count\": 1, \"min\": 0.764803955078125, \"max\": 0.764803955078125}}}\u001b[0m\n",
      "\u001b[34m#metrics {\"StartTime\": 1652251235.8879888, \"EndTime\": 1652251235.888007, \"Dimensions\": {\"Algorithm\": \"Linear Learner\", \"Host\": \"algo-1\", \"Operation\": \"training\", \"epoch\": 7, \"model\": 9}, \"Metrics\": {\"train_multiclass_cross_entropy_objective\": {\"sum\": 1.0003087158203126, \"count\": 1, \"min\": 1.0003087158203126, \"max\": 1.0003087158203126}}}\u001b[0m\n",
      "\u001b[34m#metrics {\"StartTime\": 1652251235.888063, \"EndTime\": 1652251235.8880804, \"Dimensions\": {\"Algorithm\": \"Linear Learner\", \"Host\": \"algo-1\", \"Operation\": \"training\", \"epoch\": 7, \"model\": 10}, \"Metrics\": {\"train_multiclass_cross_entropy_objective\": {\"sum\": 1.0180759887695312, \"count\": 1, \"min\": 1.0180759887695312, \"max\": 1.0180759887695312}}}\u001b[0m\n",
      "\u001b[34m#metrics {\"StartTime\": 1652251235.8881352, \"EndTime\": 1652251235.8881543, \"Dimensions\": {\"Algorithm\": \"Linear Learner\", \"Host\": \"algo-1\", \"Operation\": \"training\", \"epoch\": 7, \"model\": 11}, \"Metrics\": {\"train_multiclass_cross_entropy_objective\": {\"sum\": 0.7881486206054688, \"count\": 1, \"min\": 0.7881486206054688, \"max\": 0.7881486206054688}}}\u001b[0m\n",
      "\u001b[34m[05/11/2022 06:40:35 INFO 140711442868032] #quality_metric: host=algo-1, epoch=7, train multiclass_cross_entropy_objective <loss>=0.9853231811523437\u001b[0m\n",
      "\u001b[34m[2022-05-11 06:40:35.924] [tensorio] [info] epoch_stats={\"data_pipeline\": \"/opt/ml/input/data/validation\", \"epoch\": 23, \"duration\": 23, \"num_examples\": 1, \"num_bytes\": 11544}\u001b[0m\n",
      "\u001b[34m#metrics {\"StartTime\": 1652251235.929668, \"EndTime\": 1652251235.9297273, \"Dimensions\": {\"Algorithm\": \"Linear Learner\", \"Host\": \"algo-1\", \"Operation\": \"training\", \"epoch\": 7, \"model\": 0}, \"Metrics\": {\"validation_multiclass_cross_entropy_objective\": {\"sum\": 0.9710025959186726, \"count\": 1, \"min\": 0.9710025959186726, \"max\": 0.9710025959186726}}}\u001b[0m\n",
      "\u001b[34m#metrics {\"StartTime\": 1652251235.9298291, \"EndTime\": 1652251235.9298525, \"Dimensions\": {\"Algorithm\": \"Linear Learner\", \"Host\": \"algo-1\", \"Operation\": \"training\", \"epoch\": 7, \"model\": 1}, \"Metrics\": {\"validation_multiclass_cross_entropy_objective\": {\"sum\": 0.9522011559288781, \"count\": 1, \"min\": 0.9522011559288781, \"max\": 0.9522011559288781}}}\u001b[0m\n",
      "\u001b[34m#metrics {\"StartTime\": 1652251235.9299183, \"EndTime\": 1652251235.9299393, \"Dimensions\": {\"Algorithm\": \"Linear Learner\", \"Host\": \"algo-1\", \"Operation\": \"training\", \"epoch\": 7, \"model\": 2}, \"Metrics\": {\"validation_multiclass_cross_entropy_objective\": {\"sum\": 0.8751449584960938, \"count\": 1, \"min\": 0.8751449584960938, \"max\": 0.8751449584960938}}}\u001b[0m\n",
      "\u001b[34m#metrics {\"StartTime\": 1652251235.930002, \"EndTime\": 1652251235.9300215, \"Dimensions\": {\"Algorithm\": \"Linear Learner\", \"Host\": \"algo-1\", \"Operation\": \"training\", \"epoch\": 7, \"model\": 3}, \"Metrics\": {\"validation_multiclass_cross_entropy_objective\": {\"sum\": 0.9035690582550324, \"count\": 1, \"min\": 0.9035690582550324, \"max\": 0.9035690582550324}}}\u001b[0m\n",
      "\u001b[34m#metrics {\"StartTime\": 1652251235.9300807, \"EndTime\": 1652251235.9301007, \"Dimensions\": {\"Algorithm\": \"Linear Learner\", \"Host\": \"algo-1\", \"Operation\": \"training\", \"epoch\": 7, \"model\": 4}, \"Metrics\": {\"validation_multiclass_cross_entropy_objective\": {\"sum\": 0.9752499692074887, \"count\": 1, \"min\": 0.9752499692074887, \"max\": 0.9752499692074887}}}\u001b[0m\n",
      "\u001b[34m#metrics {\"StartTime\": 1652251235.9301598, \"EndTime\": 1652251235.9301765, \"Dimensions\": {\"Algorithm\": \"Linear Learner\", \"Host\": \"algo-1\", \"Operation\": \"training\", \"epoch\": 7, \"model\": 5}, \"Metrics\": {\"validation_multiclass_cross_entropy_objective\": {\"sum\": 0.9385290747290259, \"count\": 1, \"min\": 0.9385290747290259, \"max\": 0.9385290747290259}}}\u001b[0m\n",
      "\u001b[34m#metrics {\"StartTime\": 1652251235.930231, \"EndTime\": 1652251235.930248, \"Dimensions\": {\"Algorithm\": \"Linear Learner\", \"Host\": \"algo-1\", \"Operation\": \"training\", \"epoch\": 7, \"model\": 6}, \"Metrics\": {\"validation_multiclass_cross_entropy_objective\": {\"sum\": 0.8457017503343187, \"count\": 1, \"min\": 0.8457017503343187, \"max\": 0.8457017503343187}}}\u001b[0m\n",
      "\u001b[34m#metrics {\"StartTime\": 1652251235.9303062, \"EndTime\": 1652251235.930323, \"Dimensions\": {\"Algorithm\": \"Linear Learner\", \"Host\": \"algo-1\", \"Operation\": \"training\", \"epoch\": 7, \"model\": 7}, \"Metrics\": {\"validation_multiclass_cross_entropy_objective\": {\"sum\": 0.9978819151182432, \"count\": 1, \"min\": 0.9978819151182432, \"max\": 0.9978819151182432}}}\u001b[0m\n",
      "\u001b[34m#metrics {\"StartTime\": 1652251235.9303753, \"EndTime\": 1652251235.930392, \"Dimensions\": {\"Algorithm\": \"Linear Learner\", \"Host\": \"algo-1\", \"Operation\": \"training\", \"epoch\": 7, \"model\": 8}, \"Metrics\": {\"validation_multiclass_cross_entropy_objective\": {\"sum\": 0.7345062805725647, \"count\": 1, \"min\": 0.7345062805725647, \"max\": 0.7345062805725647}}}\u001b[0m\n",
      "\u001b[34m#metrics {\"StartTime\": 1652251235.9305058, \"EndTime\": 1652251235.9305265, \"Dimensions\": {\"Algorithm\": \"Linear Learner\", \"Host\": \"algo-1\", \"Operation\": \"training\", \"epoch\": 7, \"model\": 9}, \"Metrics\": {\"validation_multiclass_cross_entropy_objective\": {\"sum\": 0.8614959029464034, \"count\": 1, \"min\": 0.8614959029464034, \"max\": 0.8614959029464034}}}\u001b[0m\n",
      "\u001b[34m#metrics {\"StartTime\": 1652251235.930588, \"EndTime\": 1652251235.9306056, \"Dimensions\": {\"Algorithm\": \"Linear Learner\", \"Host\": \"algo-1\", \"Operation\": \"training\", \"epoch\": 7, \"model\": 10}, \"Metrics\": {\"validation_multiclass_cross_entropy_objective\": {\"sum\": 1.0053842905405406, \"count\": 1, \"min\": 1.0053842905405406, \"max\": 1.0053842905405406}}}\u001b[0m\n",
      "\u001b[34m#metrics {\"StartTime\": 1652251235.930663, \"EndTime\": 1652251235.9306803, \"Dimensions\": {\"Algorithm\": \"Linear Learner\", \"Host\": \"algo-1\", \"Operation\": \"training\", \"epoch\": 7, \"model\": 11}, \"Metrics\": {\"validation_multiclass_cross_entropy_objective\": {\"sum\": 0.7539334683804899, \"count\": 1, \"min\": 0.7539334683804899, \"max\": 0.7539334683804899}}}\u001b[0m\n",
      "\u001b[34m[05/11/2022 06:40:35 INFO 140711442868032] #quality_metric: host=algo-1, epoch=7, validation multiclass_cross_entropy_objective <loss>=0.9710025959186726\u001b[0m\n",
      "\u001b[34m[05/11/2022 06:40:35 INFO 140711442868032] #early_stopping_criteria_metric: host=algo-1, epoch=7, criteria=multiclass_cross_entropy_objective, value=0.7345062805725647\u001b[0m\n",
      "\u001b[34m[05/11/2022 06:40:35 INFO 140711442868032] Epoch 7: Loss improved. Updating best model\u001b[0m\n",
      "\u001b[34m[05/11/2022 06:40:35 INFO 140711442868032] Saving model for epoch: 7\u001b[0m\n",
      "\u001b[34m[05/11/2022 06:40:35 INFO 140711442868032] Saved checkpoint to \"/tmp/tmpah5_ga4i/mx-mod-0000.params\"\u001b[0m\n",
      "\u001b[34m[05/11/2022 06:40:35 INFO 140711442868032] #progress_metric: host=algo-1, completed 53.333333333333336 % of epochs\u001b[0m\n",
      "\u001b[34m#metrics {\"StartTime\": 1652251235.863531, \"EndTime\": 1652251235.9424133, \"Dimensions\": {\"Algorithm\": \"Linear Learner\", \"Host\": \"algo-1\", \"Operation\": \"training\", \"epoch\": 7, \"Meta\": \"training_data_iter\"}, \"Metrics\": {\"Total Records Seen\": {\"sum\": 16984.0, \"count\": 1, \"min\": 16984, \"max\": 16984}, \"Total Batches Seen\": {\"sum\": 19.0, \"count\": 1, \"min\": 19, \"max\": 19}, \"Max Records Seen Between Resets\": {\"sum\": 1776.0, \"count\": 1, \"min\": 1776, \"max\": 1776}, \"Max Batches Seen Between Resets\": {\"sum\": 2.0, \"count\": 1, \"min\": 2, \"max\": 2}, \"Reset Count\": {\"sum\": 10.0, \"count\": 1, \"min\": 10, \"max\": 10}, \"Number of Records Since Last Reset\": {\"sum\": 1776.0, \"count\": 1, \"min\": 1776, \"max\": 1776}, \"Number of Batches Since Last Reset\": {\"sum\": 2.0, \"count\": 1, \"min\": 2, \"max\": 2}}}\u001b[0m\n",
      "\u001b[34m[05/11/2022 06:40:35 INFO 140711442868032] #throughput_metric: host=algo-1, train throughput=22460.813585488228 records/second\u001b[0m\n",
      "\u001b[34m[2022-05-11 06:40:35.966] [tensorio] [info] epoch_stats={\"data_pipeline\": \"/opt/ml/input/data/train\", \"epoch\": 20, \"duration\": 23, \"num_examples\": 2, \"num_bytes\": 92352}\u001b[0m\n",
      "\u001b[34m#metrics {\"StartTime\": 1652251235.9670305, \"EndTime\": 1652251235.967131, \"Dimensions\": {\"Algorithm\": \"Linear Learner\", \"Host\": \"algo-1\", \"Operation\": \"training\", \"epoch\": 8, \"model\": 0}, \"Metrics\": {\"train_multiclass_cross_entropy_objective\": {\"sum\": 0.9742128295898438, \"count\": 1, \"min\": 0.9742128295898438, \"max\": 0.9742128295898438}}}\u001b[0m\n",
      "\u001b[34m#metrics {\"StartTime\": 1652251235.9675045, \"EndTime\": 1652251235.9675345, \"Dimensions\": {\"Algorithm\": \"Linear Learner\", \"Host\": \"algo-1\", \"Operation\": \"training\", \"epoch\": 8, \"model\": 1}, \"Metrics\": {\"train_multiclass_cross_entropy_objective\": {\"sum\": 0.9560975952148437, \"count\": 1, \"min\": 0.9560975952148437, \"max\": 0.9560975952148437}}}\u001b[0m\n",
      "\u001b[34m#metrics {\"StartTime\": 1652251235.9676623, \"EndTime\": 1652251235.967686, \"Dimensions\": {\"Algorithm\": \"Linear Learner\", \"Host\": \"algo-1\", \"Operation\": \"training\", \"epoch\": 8, \"model\": 2}, \"Metrics\": {\"train_multiclass_cross_entropy_objective\": {\"sum\": 0.88151708984375, \"count\": 1, \"min\": 0.88151708984375, \"max\": 0.88151708984375}}}\u001b[0m\n",
      "\u001b[34m#metrics {\"StartTime\": 1652251235.9677498, \"EndTime\": 1652251235.9677677, \"Dimensions\": {\"Algorithm\": \"Linear Learner\", \"Host\": \"algo-1\", \"Operation\": \"training\", \"epoch\": 8, \"model\": 3}, \"Metrics\": {\"train_multiclass_cross_entropy_objective\": {\"sum\": 0.9090670166015625, \"count\": 1, \"min\": 0.9090670166015625, \"max\": 0.9090670166015625}}}\u001b[0m\n",
      "\u001b[34m#metrics {\"StartTime\": 1652251235.9678607, \"EndTime\": 1652251235.9678814, \"Dimensions\": {\"Algorithm\": \"Linear Learner\", \"Host\": \"algo-1\", \"Operation\": \"training\", \"epoch\": 8, \"model\": 4}, \"Metrics\": {\"train_multiclass_cross_entropy_objective\": {\"sum\": 0.979219482421875, \"count\": 1, \"min\": 0.979219482421875, \"max\": 0.979219482421875}}}\u001b[0m\n",
      "\u001b[34m#metrics {\"StartTime\": 1652251235.9679735, \"EndTime\": 1652251235.9679914, \"Dimensions\": {\"Algorithm\": \"Linear Learner\", \"Host\": \"algo-1\", \"Operation\": \"training\", \"epoch\": 8, \"model\": 5}, \"Metrics\": {\"train_multiclass_cross_entropy_objective\": {\"sum\": 0.9442431030273437, \"count\": 1, \"min\": 0.9442431030273437, \"max\": 0.9442431030273437}}}\u001b[0m\n",
      "\u001b[34m#metrics {\"StartTime\": 1652251235.9680398, \"EndTime\": 1652251235.9680536, \"Dimensions\": {\"Algorithm\": \"Linear Learner\", \"Host\": \"algo-1\", \"Operation\": \"training\", \"epoch\": 8, \"model\": 6}, \"Metrics\": {\"train_multiclass_cross_entropy_objective\": {\"sum\": 0.857370361328125, \"count\": 1, \"min\": 0.857370361328125, \"max\": 0.857370361328125}}}\u001b[0m\n",
      "\u001b[34m#metrics {\"StartTime\": 1652251235.968137, \"EndTime\": 1652251235.968153, \"Dimensions\": {\"Algorithm\": \"Linear Learner\", \"Host\": \"algo-1\", \"Operation\": \"training\", \"epoch\": 8, \"model\": 7}, \"Metrics\": {\"train_multiclass_cross_entropy_objective\": {\"sum\": 1.0012473754882814, \"count\": 1, \"min\": 1.0012473754882814, \"max\": 1.0012473754882814}}}\u001b[0m\n",
      "\u001b[34m#metrics {\"StartTime\": 1652251235.968232, \"EndTime\": 1652251235.968252, \"Dimensions\": {\"Algorithm\": \"Linear Learner\", \"Host\": \"algo-1\", \"Operation\": \"training\", \"epoch\": 8, \"model\": 8}, \"Metrics\": {\"train_multiclass_cross_entropy_objective\": {\"sum\": 0.7468468017578125, \"count\": 1, \"min\": 0.7468468017578125, \"max\": 0.7468468017578125}}}\u001b[0m\n",
      "\u001b[34m#metrics {\"StartTime\": 1652251235.9683073, \"EndTime\": 1652251235.9683218, \"Dimensions\": {\"Algorithm\": \"Linear Learner\", \"Host\": \"algo-1\", \"Operation\": \"training\", \"epoch\": 8, \"model\": 9}, \"Metrics\": {\"train_multiclass_cross_entropy_objective\": {\"sum\": 0.8839507446289062, \"count\": 1, \"min\": 0.8839507446289062, \"max\": 0.8839507446289062}}}\u001b[0m\n",
      "\u001b[34m#metrics {\"StartTime\": 1652251235.9684038, \"EndTime\": 1652251235.9684234, \"Dimensions\": {\"Algorithm\": \"Linear Learner\", \"Host\": \"algo-1\", \"Operation\": \"training\", \"epoch\": 8, \"model\": 10}, \"Metrics\": {\"train_multiclass_cross_entropy_objective\": {\"sum\": 1.009175048828125, \"count\": 1, \"min\": 1.009175048828125, \"max\": 1.009175048828125}}}\u001b[0m\n",
      "\u001b[34m#metrics {\"StartTime\": 1652251235.9685135, \"EndTime\": 1652251235.9685326, \"Dimensions\": {\"Algorithm\": \"Linear Learner\", \"Host\": \"algo-1\", \"Operation\": \"training\", \"epoch\": 8, \"model\": 11}, \"Metrics\": {\"train_multiclass_cross_entropy_objective\": {\"sum\": 0.7669869384765625, \"count\": 1, \"min\": 0.7669869384765625, \"max\": 0.7669869384765625}}}\u001b[0m\n",
      "\u001b[34m[05/11/2022 06:40:35 INFO 140711442868032] #quality_metric: host=algo-1, epoch=8, train multiclass_cross_entropy_objective <loss>=0.9742128295898438\u001b[0m\n",
      "\u001b[34m[2022-05-11 06:40:35.995] [tensorio] [info] epoch_stats={\"data_pipeline\": \"/opt/ml/input/data/validation\", \"epoch\": 26, \"duration\": 15, \"num_examples\": 1, \"num_bytes\": 11544}\u001b[0m\n",
      "\u001b[34m#metrics {\"StartTime\": 1652251235.9976523, \"EndTime\": 1652251235.997687, \"Dimensions\": {\"Algorithm\": \"Linear Learner\", \"Host\": \"algo-1\", \"Operation\": \"training\", \"epoch\": 8, \"model\": 0}, \"Metrics\": {\"validation_multiclass_cross_entropy_objective\": {\"sum\": 0.9585014549461571, \"count\": 1, \"min\": 0.9585014549461571, \"max\": 0.9585014549461571}}}\u001b[0m\n",
      "\u001b[34m#metrics {\"StartTime\": 1652251235.997757, \"EndTime\": 1652251235.997778, \"Dimensions\": {\"Algorithm\": \"Linear Learner\", \"Host\": \"algo-1\", \"Operation\": \"training\", \"epoch\": 8, \"model\": 1}, \"Metrics\": {\"validation_multiclass_cross_entropy_objective\": {\"sum\": 0.9375753316793356, \"count\": 1, \"min\": 0.9375753316793356, \"max\": 0.9375753316793356}}}\u001b[0m\n",
      "\u001b[34m#metrics {\"StartTime\": 1652251235.9978418, \"EndTime\": 1652251235.9978623, \"Dimensions\": {\"Algorithm\": \"Linear Learner\", \"Host\": \"algo-1\", \"Operation\": \"training\", \"epoch\": 8, \"model\": 2}, \"Metrics\": {\"validation_multiclass_cross_entropy_objective\": {\"sum\": 0.8565547358882319, \"count\": 1, \"min\": 0.8565547358882319, \"max\": 0.8565547358882319}}}\u001b[0m\n",
      "\u001b[34m#metrics {\"StartTime\": 1652251235.997924, \"EndTime\": 1652251235.997944, \"Dimensions\": {\"Algorithm\": \"Linear Learner\", \"Host\": \"algo-1\", \"Operation\": \"training\", \"epoch\": 8, \"model\": 3}, \"Metrics\": {\"validation_multiclass_cross_entropy_objective\": {\"sum\": 0.8892968667520059, \"count\": 1, \"min\": 0.8892968667520059, \"max\": 0.8892968667520059}}}\u001b[0m\n",
      "\u001b[34m#metrics {\"StartTime\": 1652251235.9980044, \"EndTime\": 1652251235.9980237, \"Dimensions\": {\"Algorithm\": \"Linear Learner\", \"Host\": \"algo-1\", \"Operation\": \"training\", \"epoch\": 8, \"model\": 4}, \"Metrics\": {\"validation_multiclass_cross_entropy_objective\": {\"sum\": 0.9593923757742117, \"count\": 1, \"min\": 0.9593923757742117, \"max\": 0.9593923757742117}}}\u001b[0m\n",
      "\u001b[34m#metrics {\"StartTime\": 1652251235.9980826, \"EndTime\": 1652251235.9981008, \"Dimensions\": {\"Algorithm\": \"Linear Learner\", \"Host\": \"algo-1\", \"Operation\": \"training\", \"epoch\": 8, \"model\": 5}, \"Metrics\": {\"validation_multiclass_cross_entropy_objective\": {\"sum\": 0.9286073564409135, \"count\": 1, \"min\": 0.9286073564409135, \"max\": 0.9286073564409135}}}\u001b[0m\n",
      "\u001b[34m#metrics {\"StartTime\": 1652251235.9981596, \"EndTime\": 1652251235.9981782, \"Dimensions\": {\"Algorithm\": \"Linear Learner\", \"Host\": \"algo-1\", \"Operation\": \"training\", \"epoch\": 8, \"model\": 6}, \"Metrics\": {\"validation_multiclass_cross_entropy_objective\": {\"sum\": 0.839864782384924, \"count\": 1, \"min\": 0.839864782384924, \"max\": 0.839864782384924}}}\u001b[0m\n",
      "\u001b[34m#metrics {\"StartTime\": 1652251235.9982343, \"EndTime\": 1652251235.9982529, \"Dimensions\": {\"Algorithm\": \"Linear Learner\", \"Host\": \"algo-1\", \"Operation\": \"training\", \"epoch\": 8, \"model\": 7}, \"Metrics\": {\"validation_multiclass_cross_entropy_objective\": {\"sum\": 0.9874037321623381, \"count\": 1, \"min\": 0.9874037321623381, \"max\": 0.9874037321623381}}}\u001b[0m\n",
      "\u001b[34m#metrics {\"StartTime\": 1652251235.9983075, \"EndTime\": 1652251235.9983246, \"Dimensions\": {\"Algorithm\": \"Linear Learner\", \"Host\": \"algo-1\", \"Operation\": \"training\", \"epoch\": 8, \"model\": 8}, \"Metrics\": {\"validation_multiclass_cross_entropy_objective\": {\"sum\": 0.7201382748715512, \"count\": 1, \"min\": 0.7201382748715512, \"max\": 0.7201382748715512}}}\u001b[0m\n",
      "\u001b[34m#metrics {\"StartTime\": 1652251235.9983823, \"EndTime\": 1652251235.998401, \"Dimensions\": {\"Algorithm\": \"Linear Learner\", \"Host\": \"algo-1\", \"Operation\": \"training\", \"epoch\": 8, \"model\": 9}, \"Metrics\": {\"validation_multiclass_cross_entropy_objective\": {\"sum\": 0.7733155671540681, \"count\": 1, \"min\": 0.7733155671540681, \"max\": 0.7733155671540681}}}\u001b[0m\n",
      "\u001b[34m#metrics {\"StartTime\": 1652251235.9984567, \"EndTime\": 1652251235.9984753, \"Dimensions\": {\"Algorithm\": \"Linear Learner\", \"Host\": \"algo-1\", \"Operation\": \"training\", \"epoch\": 8, \"model\": 10}, \"Metrics\": {\"validation_multiclass_cross_entropy_objective\": {\"sum\": 0.9966917295713682, \"count\": 1, \"min\": 0.9966917295713682, \"max\": 0.9966917295713682}}}\u001b[0m\n",
      "\u001b[34m#metrics {\"StartTime\": 1652251235.9985294, \"EndTime\": 1652251235.9985468, \"Dimensions\": {\"Algorithm\": \"Linear Learner\", \"Host\": \"algo-1\", \"Operation\": \"training\", \"epoch\": 8, \"model\": 11}, \"Metrics\": {\"validation_multiclass_cross_entropy_objective\": {\"sum\": 0.7390858418232685, \"count\": 1, \"min\": 0.7390858418232685, \"max\": 0.7390858418232685}}}\u001b[0m\n",
      "\u001b[34m[05/11/2022 06:40:35 INFO 140711442868032] #quality_metric: host=algo-1, epoch=8, validation multiclass_cross_entropy_objective <loss>=0.9585014549461571\u001b[0m\n",
      "\u001b[34m[05/11/2022 06:40:35 INFO 140711442868032] #early_stopping_criteria_metric: host=algo-1, epoch=8, criteria=multiclass_cross_entropy_objective, value=0.7201382748715512\u001b[0m\n",
      "\u001b[34m[05/11/2022 06:40:35 INFO 140711442868032] Epoch 8: Loss improved. Updating best model\u001b[0m\n",
      "\u001b[34m[05/11/2022 06:40:36 INFO 140711442868032] Saving model for epoch: 8\u001b[0m\n",
      "\u001b[34m[05/11/2022 06:40:36 INFO 140711442868032] Saved checkpoint to \"/tmp/tmpljo3irli/mx-mod-0000.params\"\u001b[0m\n",
      "\u001b[34m[05/11/2022 06:40:36 INFO 140711442868032] #progress_metric: host=algo-1, completed 60.0 % of epochs\u001b[0m\n",
      "\u001b[34m#metrics {\"StartTime\": 1652251235.9427922, \"EndTime\": 1652251236.0098352, \"Dimensions\": {\"Algorithm\": \"Linear Learner\", \"Host\": \"algo-1\", \"Operation\": \"training\", \"epoch\": 8, \"Meta\": \"training_data_iter\"}, \"Metrics\": {\"Total Records Seen\": {\"sum\": 18760.0, \"count\": 1, \"min\": 18760, \"max\": 18760}, \"Total Batches Seen\": {\"sum\": 21.0, \"count\": 1, \"min\": 21, \"max\": 21}, \"Max Records Seen Between Resets\": {\"sum\": 1776.0, \"count\": 1, \"min\": 1776, \"max\": 1776}, \"Max Batches Seen Between Resets\": {\"sum\": 2.0, \"count\": 1, \"min\": 2, \"max\": 2}, \"Reset Count\": {\"sum\": 11.0, \"count\": 1, \"min\": 11, \"max\": 11}, \"Number of Records Since Last Reset\": {\"sum\": 1776.0, \"count\": 1, \"min\": 1776, \"max\": 1776}, \"Number of Batches Since Last Reset\": {\"sum\": 2.0, \"count\": 1, \"min\": 2, \"max\": 2}}}\u001b[0m\n",
      "\u001b[34m[05/11/2022 06:40:36 INFO 140711442868032] #throughput_metric: host=algo-1, train throughput=26362.83941109853 records/second\u001b[0m\n",
      "\u001b[34m[2022-05-11 06:40:36.045] [tensorio] [info] epoch_stats={\"data_pipeline\": \"/opt/ml/input/data/train\", \"epoch\": 22, \"duration\": 34, \"num_examples\": 2, \"num_bytes\": 92352}\u001b[0m\n",
      "\u001b[34m#metrics {\"StartTime\": 1652251236.0486965, \"EndTime\": 1652251236.0487761, \"Dimensions\": {\"Algorithm\": \"Linear Learner\", \"Host\": \"algo-1\", \"Operation\": \"training\", \"epoch\": 9, \"model\": 0}, \"Metrics\": {\"train_multiclass_cross_entropy_objective\": {\"sum\": 0.9618958129882812, \"count\": 1, \"min\": 0.9618958129882812, \"max\": 0.9618958129882812}}}\u001b[0m\n",
      "\u001b[34m#metrics {\"StartTime\": 1652251236.048888, \"EndTime\": 1652251236.0489132, \"Dimensions\": {\"Algorithm\": \"Linear Learner\", \"Host\": \"algo-1\", \"Operation\": \"training\", \"epoch\": 9, \"model\": 1}, \"Metrics\": {\"train_multiclass_cross_entropy_objective\": {\"sum\": 0.941915771484375, \"count\": 1, \"min\": 0.941915771484375, \"max\": 0.941915771484375}}}\u001b[0m\n",
      "\u001b[34m#metrics {\"StartTime\": 1652251236.0489824, \"EndTime\": 1652251236.0490034, \"Dimensions\": {\"Algorithm\": \"Linear Learner\", \"Host\": \"algo-1\", \"Operation\": \"training\", \"epoch\": 9, \"model\": 2}, \"Metrics\": {\"train_multiclass_cross_entropy_objective\": {\"sum\": 0.8639841918945312, \"count\": 1, \"min\": 0.8639841918945312, \"max\": 0.8639841918945312}}}\u001b[0m\n",
      "\u001b[34m#metrics {\"StartTime\": 1652251236.049295, \"EndTime\": 1652251236.0494118, \"Dimensions\": {\"Algorithm\": \"Linear Learner\", \"Host\": \"algo-1\", \"Operation\": \"training\", \"epoch\": 9, \"model\": 3}, \"Metrics\": {\"train_multiclass_cross_entropy_objective\": {\"sum\": 0.8950126953125, \"count\": 1, \"min\": 0.8950126953125, \"max\": 0.8950126953125}}}\u001b[0m\n",
      "\u001b[34m#metrics {\"StartTime\": 1652251236.0494967, \"EndTime\": 1652251236.049521, \"Dimensions\": {\"Algorithm\": \"Linear Learner\", \"Host\": \"algo-1\", \"Operation\": \"training\", \"epoch\": 9, \"model\": 4}, \"Metrics\": {\"train_multiclass_cross_entropy_objective\": {\"sum\": 0.964184814453125, \"count\": 1, \"min\": 0.964184814453125, \"max\": 0.964184814453125}}}\u001b[0m\n",
      "\u001b[34m#metrics {\"StartTime\": 1652251236.0495868, \"EndTime\": 1652251236.0496068, \"Dimensions\": {\"Algorithm\": \"Linear Learner\", \"Host\": \"algo-1\", \"Operation\": \"training\", \"epoch\": 9, \"model\": 5}, \"Metrics\": {\"train_multiclass_cross_entropy_objective\": {\"sum\": 0.9346255493164063, \"count\": 1, \"min\": 0.9346255493164063, \"max\": 0.9346255493164063}}}\u001b[0m\n",
      "\u001b[34m#metrics {\"StartTime\": 1652251236.0496655, \"EndTime\": 1652251236.0496843, \"Dimensions\": {\"Algorithm\": \"Linear Learner\", \"Host\": \"algo-1\", \"Operation\": \"training\", \"epoch\": 9, \"model\": 6}, \"Metrics\": {\"train_multiclass_cross_entropy_objective\": {\"sum\": 0.8526281127929688, \"count\": 1, \"min\": 0.8526281127929688, \"max\": 0.8526281127929688}}}\u001b[0m\n",
      "\u001b[34m#metrics {\"StartTime\": 1652251236.0497415, \"EndTime\": 1652251236.0499759, \"Dimensions\": {\"Algorithm\": \"Linear Learner\", \"Host\": \"algo-1\", \"Operation\": \"training\", \"epoch\": 9, \"model\": 7}, \"Metrics\": {\"train_multiclass_cross_entropy_objective\": {\"sum\": 0.990891357421875, \"count\": 1, \"min\": 0.990891357421875, \"max\": 0.990891357421875}}}\u001b[0m\n",
      "\u001b[34m#metrics {\"StartTime\": 1652251236.050063, \"EndTime\": 1652251236.0500858, \"Dimensions\": {\"Algorithm\": \"Linear Learner\", \"Host\": \"algo-1\", \"Operation\": \"training\", \"epoch\": 9, \"model\": 8}, \"Metrics\": {\"train_multiclass_cross_entropy_objective\": {\"sum\": 0.733297607421875, \"count\": 1, \"min\": 0.733297607421875, \"max\": 0.733297607421875}}}\u001b[0m\n",
      "\u001b[34m#metrics {\"StartTime\": 1652251236.0502586, \"EndTime\": 1652251236.0502849, \"Dimensions\": {\"Algorithm\": \"Linear Learner\", \"Host\": \"algo-1\", \"Operation\": \"training\", \"epoch\": 9, \"model\": 9}, \"Metrics\": {\"train_multiclass_cross_entropy_objective\": {\"sum\": 0.8032108764648438, \"count\": 1, \"min\": 0.8032108764648438, \"max\": 0.8032108764648438}}}\u001b[0m\n",
      "\u001b[34m#metrics {\"StartTime\": 1652251236.050356, \"EndTime\": 1652251236.0504289, \"Dimensions\": {\"Algorithm\": \"Linear Learner\", \"Host\": \"algo-1\", \"Operation\": \"training\", \"epoch\": 9, \"model\": 10}, \"Metrics\": {\"train_multiclass_cross_entropy_objective\": {\"sum\": 1.0005331420898438, \"count\": 1, \"min\": 1.0005331420898438, \"max\": 1.0005331420898438}}}\u001b[0m\n",
      "\u001b[34m#metrics {\"StartTime\": 1652251236.0504951, \"EndTime\": 1652251236.0505145, \"Dimensions\": {\"Algorithm\": \"Linear Learner\", \"Host\": \"algo-1\", \"Operation\": \"training\", \"epoch\": 9, \"model\": 11}, \"Metrics\": {\"train_multiclass_cross_entropy_objective\": {\"sum\": 0.755513671875, \"count\": 1, \"min\": 0.755513671875, \"max\": 0.755513671875}}}\u001b[0m\n",
      "\u001b[34m[05/11/2022 06:40:36 INFO 140711442868032] #quality_metric: host=algo-1, epoch=9, train multiclass_cross_entropy_objective <loss>=0.9618958129882812\u001b[0m\n",
      "\u001b[34m[2022-05-11 06:40:36.085] [tensorio] [info] epoch_stats={\"data_pipeline\": \"/opt/ml/input/data/validation\", \"epoch\": 29, \"duration\": 13, \"num_examples\": 1, \"num_bytes\": 11544}\u001b[0m\n",
      "\u001b[34m#metrics {\"StartTime\": 1652251236.0898206, \"EndTime\": 1652251236.0898604, \"Dimensions\": {\"Algorithm\": \"Linear Learner\", \"Host\": \"algo-1\", \"Operation\": \"training\", \"epoch\": 9, \"model\": 0}, \"Metrics\": {\"validation_multiclass_cross_entropy_objective\": {\"sum\": 0.9445367761560388, \"count\": 1, \"min\": 0.9445367761560388, \"max\": 0.9445367761560388}}}\u001b[0m\n",
      "\u001b[34m#metrics {\"StartTime\": 1652251236.0899372, \"EndTime\": 1652251236.0899584, \"Dimensions\": {\"Algorithm\": \"Linear Learner\", \"Host\": \"algo-1\", \"Operation\": \"training\", \"epoch\": 9, \"model\": 1}, \"Metrics\": {\"validation_multiclass_cross_entropy_objective\": {\"sum\": 0.9207396636138091, \"count\": 1, \"min\": 0.9207396636138091, \"max\": 0.9207396636138091}}}\u001b[0m\n",
      "\u001b[34m#metrics {\"StartTime\": 1652251236.0900235, \"EndTime\": 1652251236.0900426, \"Dimensions\": {\"Algorithm\": \"Linear Learner\", \"Host\": \"algo-1\", \"Operation\": \"training\", \"epoch\": 9, \"model\": 2}, \"Metrics\": {\"validation_multiclass_cross_entropy_objective\": {\"sum\": 0.8297453184385557, \"count\": 1, \"min\": 0.8297453184385557, \"max\": 0.8297453184385557}}}\u001b[0m\n",
      "\u001b[34m#metrics {\"StartTime\": 1652251236.090105, \"EndTime\": 1652251236.0901248, \"Dimensions\": {\"Algorithm\": \"Linear Learner\", \"Host\": \"algo-1\", \"Operation\": \"training\", \"epoch\": 9, \"model\": 3}, \"Metrics\": {\"validation_multiclass_cross_entropy_objective\": {\"sum\": 0.8711527231577281, \"count\": 1, \"min\": 0.8711527231577281, \"max\": 0.8711527231577281}}}\u001b[0m\n",
      "\u001b[34m#metrics {\"StartTime\": 1652251236.090183, \"EndTime\": 1652251236.0902007, \"Dimensions\": {\"Algorithm\": \"Linear Learner\", \"Host\": \"algo-1\", \"Operation\": \"training\", \"epoch\": 9, \"model\": 4}, \"Metrics\": {\"validation_multiclass_cross_entropy_objective\": {\"sum\": 0.9443805454013584, \"count\": 1, \"min\": 0.9443805454013584, \"max\": 0.9443805454013584}}}\u001b[0m\n",
      "\u001b[34m#metrics {\"StartTime\": 1652251236.0902576, \"EndTime\": 1652251236.0902748, \"Dimensions\": {\"Algorithm\": \"Linear Learner\", \"Host\": \"algo-1\", \"Operation\": \"training\", \"epoch\": 9, \"model\": 5}, \"Metrics\": {\"validation_multiclass_cross_entropy_objective\": {\"sum\": 0.919510368828301, \"count\": 1, \"min\": 0.919510368828301, \"max\": 0.919510368828301}}}\u001b[0m\n",
      "\u001b[34m#metrics {\"StartTime\": 1652251236.0903335, \"EndTime\": 1652251236.0903513, \"Dimensions\": {\"Algorithm\": \"Linear Learner\", \"Host\": \"algo-1\", \"Operation\": \"training\", \"epoch\": 9, \"model\": 6}, \"Metrics\": {\"validation_multiclass_cross_entropy_objective\": {\"sum\": 0.8361467241166948, \"count\": 1, \"min\": 0.8361467241166948, \"max\": 0.8361467241166948}}}\u001b[0m\n",
      "\u001b[34m#metrics {\"StartTime\": 1652251236.0904596, \"EndTime\": 1652251236.0904815, \"Dimensions\": {\"Algorithm\": \"Linear Learner\", \"Host\": \"algo-1\", \"Operation\": \"training\", \"epoch\": 9, \"model\": 7}, \"Metrics\": {\"validation_multiclass_cross_entropy_objective\": {\"sum\": 0.9760390273085585, \"count\": 1, \"min\": 0.9760390273085585, \"max\": 0.9760390273085585}}}\u001b[0m\n",
      "\u001b[34m#metrics {\"StartTime\": 1652251236.0905445, \"EndTime\": 1652251236.0905633, \"Dimensions\": {\"Algorithm\": \"Linear Learner\", \"Host\": \"algo-1\", \"Operation\": \"training\", \"epoch\": 9, \"model\": 8}, \"Metrics\": {\"validation_multiclass_cross_entropy_objective\": {\"sum\": 0.7090885746586431, \"count\": 1, \"min\": 0.7090885746586431, \"max\": 0.7090885746586431}}}\u001b[0m\n",
      "\u001b[34m#metrics {\"StartTime\": 1652251236.0906196, \"EndTime\": 1652251236.0906377, \"Dimensions\": {\"Algorithm\": \"Linear Learner\", \"Host\": \"algo-1\", \"Operation\": \"training\", \"epoch\": 9, \"model\": 9}, \"Metrics\": {\"validation_multiclass_cross_entropy_objective\": {\"sum\": 0.8904751614407376, \"count\": 1, \"min\": 0.8904751614407376, \"max\": 0.8904751614407376}}}\u001b[0m\n",
      "\u001b[34m#metrics {\"StartTime\": 1652251236.0906932, \"EndTime\": 1652251236.0907114, \"Dimensions\": {\"Algorithm\": \"Linear Learner\", \"Host\": \"algo-1\", \"Operation\": \"training\", \"epoch\": 9, \"model\": 10}, \"Metrics\": {\"validation_multiclass_cross_entropy_objective\": {\"sum\": 0.9873264072177647, \"count\": 1, \"min\": 0.9873264072177647, \"max\": 0.9873264072177647}}}\u001b[0m\n",
      "\u001b[34m#metrics {\"StartTime\": 1652251236.0907683, \"EndTime\": 1652251236.0907857, \"Dimensions\": {\"Algorithm\": \"Linear Learner\", \"Host\": \"algo-1\", \"Operation\": \"training\", \"epoch\": 9, \"model\": 11}, \"Metrics\": {\"validation_multiclass_cross_entropy_objective\": {\"sum\": 0.732469232232721, \"count\": 1, \"min\": 0.732469232232721, \"max\": 0.732469232232721}}}\u001b[0m\n",
      "\u001b[34m[05/11/2022 06:40:36 INFO 140711442868032] #quality_metric: host=algo-1, epoch=9, validation multiclass_cross_entropy_objective <loss>=0.9445367761560388\u001b[0m\n",
      "\u001b[34m[05/11/2022 06:40:36 INFO 140711442868032] #early_stopping_criteria_metric: host=algo-1, epoch=9, criteria=multiclass_cross_entropy_objective, value=0.7090885746586431\u001b[0m\n",
      "\u001b[34m[05/11/2022 06:40:36 INFO 140711442868032] Epoch 9: Loss improved. Updating best model\u001b[0m\n",
      "\u001b[34m[05/11/2022 06:40:36 INFO 140711442868032] Saving model for epoch: 9\u001b[0m\n",
      "\u001b[34m[05/11/2022 06:40:36 INFO 140711442868032] Saved checkpoint to \"/tmp/tmp39m61fik/mx-mod-0000.params\"\u001b[0m\n",
      "\u001b[34m[05/11/2022 06:40:36 INFO 140711442868032] #progress_metric: host=algo-1, completed 66.66666666666667 % of epochs\u001b[0m\n",
      "\u001b[34m#metrics {\"StartTime\": 1652251236.0108888, \"EndTime\": 1652251236.1027813, \"Dimensions\": {\"Algorithm\": \"Linear Learner\", \"Host\": \"algo-1\", \"Operation\": \"training\", \"epoch\": 9, \"Meta\": \"training_data_iter\"}, \"Metrics\": {\"Total Records Seen\": {\"sum\": 20536.0, \"count\": 1, \"min\": 20536, \"max\": 20536}, \"Total Batches Seen\": {\"sum\": 23.0, \"count\": 1, \"min\": 23, \"max\": 23}, \"Max Records Seen Between Resets\": {\"sum\": 1776.0, \"count\": 1, \"min\": 1776, \"max\": 1776}, \"Max Batches Seen Between Resets\": {\"sum\": 2.0, \"count\": 1, \"min\": 2, \"max\": 2}, \"Reset Count\": {\"sum\": 12.0, \"count\": 1, \"min\": 12, \"max\": 12}, \"Number of Records Since Last Reset\": {\"sum\": 1776.0, \"count\": 1, \"min\": 1776, \"max\": 1776}, \"Number of Batches Since Last Reset\": {\"sum\": 2.0, \"count\": 1, \"min\": 2, \"max\": 2}}}\u001b[0m\n",
      "\u001b[34m[05/11/2022 06:40:36 INFO 140711442868032] #throughput_metric: host=algo-1, train throughput=19293.396454240537 records/second\u001b[0m\n",
      "\u001b[34m[2022-05-11 06:40:36.141] [tensorio] [info] epoch_stats={\"data_pipeline\": \"/opt/ml/input/data/train\", \"epoch\": 24, \"duration\": 38, \"num_examples\": 2, \"num_bytes\": 92352}\u001b[0m\n",
      "\u001b[34m#metrics {\"StartTime\": 1652251236.1416013, \"EndTime\": 1652251236.1416652, \"Dimensions\": {\"Algorithm\": \"Linear Learner\", \"Host\": \"algo-1\", \"Operation\": \"training\", \"epoch\": 10, \"model\": 0}, \"Metrics\": {\"train_multiclass_cross_entropy_objective\": {\"sum\": 0.9485713500976563, \"count\": 1, \"min\": 0.9485713500976563, \"max\": 0.9485713500976563}}}\u001b[0m\n",
      "\u001b[34m#metrics {\"StartTime\": 1652251236.141977, \"EndTime\": 1652251236.1420462, \"Dimensions\": {\"Algorithm\": \"Linear Learner\", \"Host\": \"algo-1\", \"Operation\": \"training\", \"epoch\": 10, \"model\": 1}, \"Metrics\": {\"train_multiclass_cross_entropy_objective\": {\"sum\": 0.925982177734375, \"count\": 1, \"min\": 0.925982177734375, \"max\": 0.925982177734375}}}\u001b[0m\n",
      "\u001b[34m#metrics {\"StartTime\": 1652251236.142342, \"EndTime\": 1652251236.142365, \"Dimensions\": {\"Algorithm\": \"Linear Learner\", \"Host\": \"algo-1\", \"Operation\": \"training\", \"epoch\": 10, \"model\": 2}, \"Metrics\": {\"train_multiclass_cross_entropy_objective\": {\"sum\": 0.8388611450195312, \"count\": 1, \"min\": 0.8388611450195312, \"max\": 0.8388611450195312}}}\u001b[0m\n",
      "\u001b[34m#metrics {\"StartTime\": 1652251236.1426919, \"EndTime\": 1652251236.142715, \"Dimensions\": {\"Algorithm\": \"Linear Learner\", \"Host\": \"algo-1\", \"Operation\": \"training\", \"epoch\": 10, \"model\": 3}, \"Metrics\": {\"train_multiclass_cross_entropy_objective\": {\"sum\": 0.8776348876953125, \"count\": 1, \"min\": 0.8776348876953125, \"max\": 0.8776348876953125}}}\u001b[0m\n",
      "\u001b[34m#metrics {\"StartTime\": 1652251236.1429975, \"EndTime\": 1652251236.1430197, \"Dimensions\": {\"Algorithm\": \"Linear Learner\", \"Host\": \"algo-1\", \"Operation\": \"training\", \"epoch\": 10, \"model\": 4}, \"Metrics\": {\"train_multiclass_cross_entropy_objective\": {\"sum\": 0.949911376953125, \"count\": 1, \"min\": 0.949911376953125, \"max\": 0.949911376953125}}}\u001b[0m\n",
      "\u001b[34m#metrics {\"StartTime\": 1652251236.1433134, \"EndTime\": 1652251236.1433363, \"Dimensions\": {\"Algorithm\": \"Linear Learner\", \"Host\": \"algo-1\", \"Operation\": \"training\", \"epoch\": 10, \"model\": 5}, \"Metrics\": {\"train_multiclass_cross_entropy_objective\": {\"sum\": 0.9256568603515625, \"count\": 1, \"min\": 0.9256568603515625, \"max\": 0.9256568603515625}}}\u001b[0m\n",
      "\u001b[34m#metrics {\"StartTime\": 1652251236.1436517, \"EndTime\": 1652251236.14368, \"Dimensions\": {\"Algorithm\": \"Linear Learner\", \"Host\": \"algo-1\", \"Operation\": \"training\", \"epoch\": 10, \"model\": 6}, \"Metrics\": {\"train_multiclass_cross_entropy_objective\": {\"sum\": 0.8485236206054687, \"count\": 1, \"min\": 0.8485236206054687, \"max\": 0.8485236206054687}}}\u001b[0m\n",
      "\u001b[34m#metrics {\"StartTime\": 1652251236.1439912, \"EndTime\": 1652251236.1440194, \"Dimensions\": {\"Algorithm\": \"Linear Learner\", \"Host\": \"algo-1\", \"Operation\": \"training\", \"epoch\": 10, \"model\": 7}, \"Metrics\": {\"train_multiclass_cross_entropy_objective\": {\"sum\": 0.9800468139648437, \"count\": 1, \"min\": 0.9800468139648437, \"max\": 0.9800468139648437}}}\u001b[0m\n",
      "\u001b[34m#metrics {\"StartTime\": 1652251236.1443415, \"EndTime\": 1652251236.144369, \"Dimensions\": {\"Algorithm\": \"Linear Learner\", \"Host\": \"algo-1\", \"Operation\": \"training\", \"epoch\": 10, \"model\": 8}, \"Metrics\": {\"train_multiclass_cross_entropy_objective\": {\"sum\": 0.7232676391601562, \"count\": 1, \"min\": 0.7232676391601562, \"max\": 0.7232676391601562}}}\u001b[0m\n",
      "\u001b[34m#metrics {\"StartTime\": 1652251236.1446054, \"EndTime\": 1652251236.1446505, \"Dimensions\": {\"Algorithm\": \"Linear Learner\", \"Host\": \"algo-1\", \"Operation\": \"training\", \"epoch\": 10, \"model\": 9}, \"Metrics\": {\"train_multiclass_cross_entropy_objective\": {\"sum\": 0.9164950561523437, \"count\": 1, \"min\": 0.9164950561523437, \"max\": 0.9164950561523437}}}\u001b[0m\n",
      "\u001b[34m#metrics {\"StartTime\": 1652251236.1447887, \"EndTime\": 1652251236.1448135, \"Dimensions\": {\"Algorithm\": \"Linear Learner\", \"Host\": \"algo-1\", \"Operation\": \"training\", \"epoch\": 10, \"model\": 10}, \"Metrics\": {\"train_multiclass_cross_entropy_objective\": {\"sum\": 0.9916439819335937, \"count\": 1, \"min\": 0.9916439819335937, \"max\": 0.9916439819335937}}}\u001b[0m\n",
      "\u001b[34m#metrics {\"StartTime\": 1652251236.144884, \"EndTime\": 1652251236.1449034, \"Dimensions\": {\"Algorithm\": \"Linear Learner\", \"Host\": \"algo-1\", \"Operation\": \"training\", \"epoch\": 10, \"model\": 11}, \"Metrics\": {\"train_multiclass_cross_entropy_objective\": {\"sum\": 0.747091552734375, \"count\": 1, \"min\": 0.747091552734375, \"max\": 0.747091552734375}}}\u001b[0m\n",
      "\u001b[34m[05/11/2022 06:40:36 INFO 140711442868032] #quality_metric: host=algo-1, epoch=10, train multiclass_cross_entropy_objective <loss>=0.9485713500976563\u001b[0m\n",
      "\u001b[34m[2022-05-11 06:40:36.173] [tensorio] [info] epoch_stats={\"data_pipeline\": \"/opt/ml/input/data/validation\", \"epoch\": 32, \"duration\": 17, \"num_examples\": 1, \"num_bytes\": 11544}\u001b[0m\n",
      "\u001b[34m#metrics {\"StartTime\": 1652251236.177329, \"EndTime\": 1652251236.177387, \"Dimensions\": {\"Algorithm\": \"Linear Learner\", \"Host\": \"algo-1\", \"Operation\": \"training\", \"epoch\": 10, \"model\": 0}, \"Metrics\": {\"validation_multiclass_cross_entropy_objective\": {\"sum\": 0.9316181492161106, \"count\": 1, \"min\": 0.9316181492161106, \"max\": 0.9316181492161106}}}\u001b[0m\n",
      "\u001b[34m#metrics {\"StartTime\": 1652251236.177483, \"EndTime\": 1652251236.177506, \"Dimensions\": {\"Algorithm\": \"Linear Learner\", \"Host\": \"algo-1\", \"Operation\": \"training\", \"epoch\": 10, \"model\": 1}, \"Metrics\": {\"validation_multiclass_cross_entropy_objective\": {\"sum\": 0.9051046285543356, \"count\": 1, \"min\": 0.9051046285543356, \"max\": 0.9051046285543356}}}\u001b[0m\n",
      "\u001b[34m#metrics {\"StartTime\": 1652251236.1775737, \"EndTime\": 1652251236.1775918, \"Dimensions\": {\"Algorithm\": \"Linear Learner\", \"Host\": \"algo-1\", \"Operation\": \"training\", \"epoch\": 10, \"model\": 2}, \"Metrics\": {\"validation_multiclass_cross_entropy_objective\": {\"sum\": 0.8061451267551731, \"count\": 1, \"min\": 0.8061451267551731, \"max\": 0.8061451267551731}}}\u001b[0m\n",
      "\u001b[34m#metrics {\"StartTime\": 1652251236.1776514, \"EndTime\": 1652251236.1776695, \"Dimensions\": {\"Algorithm\": \"Linear Learner\", \"Host\": \"algo-1\", \"Operation\": \"training\", \"epoch\": 10, \"model\": 3}, \"Metrics\": {\"validation_multiclass_cross_entropy_objective\": {\"sum\": 0.8541580062728744, \"count\": 1, \"min\": 0.8541580062728744, \"max\": 0.8541580062728744}}}\u001b[0m\n",
      "\u001b[34m#metrics {\"StartTime\": 1652251236.1778946, \"EndTime\": 1652251236.1779153, \"Dimensions\": {\"Algorithm\": \"Linear Learner\", \"Host\": \"algo-1\", \"Operation\": \"training\", \"epoch\": 10, \"model\": 4}, \"Metrics\": {\"validation_multiclass_cross_entropy_objective\": {\"sum\": 0.9302162651543144, \"count\": 1, \"min\": 0.9302162651543144, \"max\": 0.9302162651543144}}}\u001b[0m\n",
      "\u001b[34m#metrics {\"StartTime\": 1652251236.177967, \"EndTime\": 1652251236.1779833, \"Dimensions\": {\"Algorithm\": \"Linear Learner\", \"Host\": \"algo-1\", \"Operation\": \"training\", \"epoch\": 10, \"model\": 5}, \"Metrics\": {\"validation_multiclass_cross_entropy_objective\": {\"sum\": 0.9107974628070453, \"count\": 1, \"min\": 0.9107974628070453, \"max\": 0.9107974628070453}}}\u001b[0m\n",
      "\u001b[34m#metrics {\"StartTime\": 1652251236.1780982, \"EndTime\": 1652251236.178118, \"Dimensions\": {\"Algorithm\": \"Linear Learner\", \"Host\": \"algo-1\", \"Operation\": \"training\", \"epoch\": 10, \"model\": 6}, \"Metrics\": {\"validation_multiclass_cross_entropy_objective\": {\"sum\": 0.8320942784214879, \"count\": 1, \"min\": 0.8320942784214879, \"max\": 0.8320942784214879}}}\u001b[0m\n",
      "\u001b[34m#metrics {\"StartTime\": 1652251236.1781726, \"EndTime\": 1652251236.1781898, \"Dimensions\": {\"Algorithm\": \"Linear Learner\", \"Host\": \"algo-1\", \"Operation\": \"training\", \"epoch\": 10, \"model\": 7}, \"Metrics\": {\"validation_multiclass_cross_entropy_objective\": {\"sum\": 0.965047887853674, \"count\": 1, \"min\": 0.965047887853674, \"max\": 0.965047887853674}}}\u001b[0m\n",
      "\u001b[34m#metrics {\"StartTime\": 1652251236.1782463, \"EndTime\": 1652251236.1782641, \"Dimensions\": {\"Algorithm\": \"Linear Learner\", \"Host\": \"algo-1\", \"Operation\": \"training\", \"epoch\": 10, \"model\": 8}, \"Metrics\": {\"validation_multiclass_cross_entropy_objective\": {\"sum\": 0.700357385583826, \"count\": 1, \"min\": 0.700357385583826, \"max\": 0.700357385583826}}}\u001b[0m\n",
      "\u001b[34m#metrics {\"StartTime\": 1652251236.178321, \"EndTime\": 1652251236.178339, \"Dimensions\": {\"Algorithm\": \"Linear Learner\", \"Host\": \"algo-1\", \"Operation\": \"training\", \"epoch\": 10, \"model\": 9}, \"Metrics\": {\"validation_multiclass_cross_entropy_objective\": {\"sum\": 1.1265192117776957, \"count\": 1, \"min\": 1.1265192117776957, \"max\": 1.1265192117776957}}}\u001b[0m\n",
      "\u001b[34m#metrics {\"StartTime\": 1652251236.178395, \"EndTime\": 1652251236.178413, \"Dimensions\": {\"Algorithm\": \"Linear Learner\", \"Host\": \"algo-1\", \"Operation\": \"training\", \"epoch\": 10, \"model\": 10}, \"Metrics\": {\"validation_multiclass_cross_entropy_objective\": {\"sum\": 0.9778387396185247, \"count\": 1, \"min\": 0.9778387396185247, \"max\": 0.9778387396185247}}}\u001b[0m\n",
      "\u001b[34m#metrics {\"StartTime\": 1652251236.178464, \"EndTime\": 1652251236.1784797, \"Dimensions\": {\"Algorithm\": \"Linear Learner\", \"Host\": \"algo-1\", \"Operation\": \"training\", \"epoch\": 10, \"model\": 11}, \"Metrics\": {\"validation_multiclass_cross_entropy_objective\": {\"sum\": 0.7242622719154702, \"count\": 1, \"min\": 0.7242622719154702, \"max\": 0.7242622719154702}}}\u001b[0m\n",
      "\u001b[34m[05/11/2022 06:40:36 INFO 140711442868032] #quality_metric: host=algo-1, epoch=10, validation multiclass_cross_entropy_objective <loss>=0.9316181492161106\u001b[0m\n",
      "\u001b[34m[05/11/2022 06:40:36 INFO 140711442868032] #early_stopping_criteria_metric: host=algo-1, epoch=10, criteria=multiclass_cross_entropy_objective, value=0.700357385583826\u001b[0m\n",
      "\u001b[34m[05/11/2022 06:40:36 INFO 140711442868032] Epoch 10: Loss improved. Updating best model\u001b[0m\n",
      "\u001b[34m[05/11/2022 06:40:36 INFO 140711442868032] Saving model for epoch: 10\u001b[0m\n",
      "\u001b[34m[05/11/2022 06:40:36 INFO 140711442868032] Saved checkpoint to \"/tmp/tmp1v3t3_hb/mx-mod-0000.params\"\u001b[0m\n",
      "\u001b[34m[05/11/2022 06:40:36 INFO 140711442868032] #progress_metric: host=algo-1, completed 73.33333333333333 % of epochs\u001b[0m\n",
      "\u001b[34m#metrics {\"StartTime\": 1652251236.1031187, \"EndTime\": 1652251236.1894891, \"Dimensions\": {\"Algorithm\": \"Linear Learner\", \"Host\": \"algo-1\", \"Operation\": \"training\", \"epoch\": 10, \"Meta\": \"training_data_iter\"}, \"Metrics\": {\"Total Records Seen\": {\"sum\": 22312.0, \"count\": 1, \"min\": 22312, \"max\": 22312}, \"Total Batches Seen\": {\"sum\": 25.0, \"count\": 1, \"min\": 25, \"max\": 25}, \"Max Records Seen Between Resets\": {\"sum\": 1776.0, \"count\": 1, \"min\": 1776, \"max\": 1776}, \"Max Batches Seen Between Resets\": {\"sum\": 2.0, \"count\": 1, \"min\": 2, \"max\": 2}, \"Reset Count\": {\"sum\": 13.0, \"count\": 1, \"min\": 13, \"max\": 13}, \"Number of Records Since Last Reset\": {\"sum\": 1776.0, \"count\": 1, \"min\": 1776, \"max\": 1776}, \"Number of Batches Since Last Reset\": {\"sum\": 2.0, \"count\": 1, \"min\": 2, \"max\": 2}}}\u001b[0m\n",
      "\u001b[34m[05/11/2022 06:40:36 INFO 140711442868032] #throughput_metric: host=algo-1, train throughput=20524.28474127955 records/second\u001b[0m\n",
      "\u001b[34m[2022-05-11 06:40:36.215] [tensorio] [info] epoch_stats={\"data_pipeline\": \"/opt/ml/input/data/train\", \"epoch\": 26, \"duration\": 25, \"num_examples\": 2, \"num_bytes\": 92352}\u001b[0m\n",
      "\u001b[34m#metrics {\"StartTime\": 1652251236.215944, \"EndTime\": 1652251236.2160594, \"Dimensions\": {\"Algorithm\": \"Linear Learner\", \"Host\": \"algo-1\", \"Operation\": \"training\", \"epoch\": 11, \"model\": 0}, \"Metrics\": {\"train_multiclass_cross_entropy_objective\": {\"sum\": 0.936486328125, \"count\": 1, \"min\": 0.936486328125, \"max\": 0.936486328125}}}\u001b[0m\n",
      "\u001b[34m#metrics {\"StartTime\": 1652251236.2161498, \"EndTime\": 1652251236.216171, \"Dimensions\": {\"Algorithm\": \"Linear Learner\", \"Host\": \"algo-1\", \"Operation\": \"training\", \"epoch\": 11, \"model\": 1}, \"Metrics\": {\"train_multiclass_cross_entropy_objective\": {\"sum\": 0.9114187622070312, \"count\": 1, \"min\": 0.9114187622070312, \"max\": 0.9114187622070312}}}\u001b[0m\n",
      "\u001b[34m#metrics {\"StartTime\": 1652251236.2162364, \"EndTime\": 1652251236.216258, \"Dimensions\": {\"Algorithm\": \"Linear Learner\", \"Host\": \"algo-1\", \"Operation\": \"training\", \"epoch\": 11, \"model\": 2}, \"Metrics\": {\"train_multiclass_cross_entropy_objective\": {\"sum\": 0.8171005859375, \"count\": 1, \"min\": 0.8171005859375, \"max\": 0.8171005859375}}}\u001b[0m\n",
      "\u001b[34m#metrics {\"StartTime\": 1652251236.2163172, \"EndTime\": 1652251236.2163336, \"Dimensions\": {\"Algorithm\": \"Linear Learner\", \"Host\": \"algo-1\", \"Operation\": \"training\", \"epoch\": 11, \"model\": 3}, \"Metrics\": {\"train_multiclass_cross_entropy_objective\": {\"sum\": 0.8616476440429688, \"count\": 1, \"min\": 0.8616476440429688, \"max\": 0.8616476440429688}}}\u001b[0m\n",
      "\u001b[34m#metrics {\"StartTime\": 1652251236.2163858, \"EndTime\": 1652251236.2164018, \"Dimensions\": {\"Algorithm\": \"Linear Learner\", \"Host\": \"algo-1\", \"Operation\": \"training\", \"epoch\": 11, \"model\": 4}, \"Metrics\": {\"train_multiclass_cross_entropy_objective\": {\"sum\": 0.9363878784179688, \"count\": 1, \"min\": 0.9363878784179688, \"max\": 0.9363878784179688}}}\u001b[0m\n",
      "\u001b[34m#metrics {\"StartTime\": 1652251236.2164626, \"EndTime\": 1652251236.2164803, \"Dimensions\": {\"Algorithm\": \"Linear Learner\", \"Host\": \"algo-1\", \"Operation\": \"training\", \"epoch\": 11, \"model\": 5}, \"Metrics\": {\"train_multiclass_cross_entropy_objective\": {\"sum\": 0.9172357177734375, \"count\": 1, \"min\": 0.9172357177734375, \"max\": 0.9172357177734375}}}\u001b[0m\n",
      "\u001b[34m#metrics {\"StartTime\": 1652251236.2165337, \"EndTime\": 1652251236.216546, \"Dimensions\": {\"Algorithm\": \"Linear Learner\", \"Host\": \"algo-1\", \"Operation\": \"training\", \"epoch\": 11, \"model\": 6}, \"Metrics\": {\"train_multiclass_cross_entropy_objective\": {\"sum\": 0.8457938842773437, \"count\": 1, \"min\": 0.8457938842773437, \"max\": 0.8457938842773437}}}\u001b[0m\n",
      "\u001b[34m#metrics {\"StartTime\": 1652251236.2165952, \"EndTime\": 1652251236.2166367, \"Dimensions\": {\"Algorithm\": \"Linear Learner\", \"Host\": \"algo-1\", \"Operation\": \"training\", \"epoch\": 11, \"model\": 7}, \"Metrics\": {\"train_multiclass_cross_entropy_objective\": {\"sum\": 0.9697664184570313, \"count\": 1, \"min\": 0.9697664184570313, \"max\": 0.9697664184570313}}}\u001b[0m\n",
      "\u001b[34m#metrics {\"StartTime\": 1652251236.2166908, \"EndTime\": 1652251236.2167087, \"Dimensions\": {\"Algorithm\": \"Linear Learner\", \"Host\": \"algo-1\", \"Operation\": \"training\", \"epoch\": 11, \"model\": 8}, \"Metrics\": {\"train_multiclass_cross_entropy_objective\": {\"sum\": 0.7157525024414062, \"count\": 1, \"min\": 0.7157525024414062, \"max\": 0.7157525024414062}}}\u001b[0m\n",
      "\u001b[34m#metrics {\"StartTime\": 1652251236.2167678, \"EndTime\": 1652251236.2167838, \"Dimensions\": {\"Algorithm\": \"Linear Learner\", \"Host\": \"algo-1\", \"Operation\": \"training\", \"epoch\": 11, \"model\": 9}, \"Metrics\": {\"train_multiclass_cross_entropy_objective\": {\"sum\": 1.1543360595703125, \"count\": 1, \"min\": 1.1543360595703125, \"max\": 1.1543360595703125}}}\u001b[0m\n",
      "\u001b[34m#metrics {\"StartTime\": 1652251236.2168353, \"EndTime\": 1652251236.2168493, \"Dimensions\": {\"Algorithm\": \"Linear Learner\", \"Host\": \"algo-1\", \"Operation\": \"training\", \"epoch\": 11, \"model\": 10}, \"Metrics\": {\"train_multiclass_cross_entropy_objective\": {\"sum\": 0.982904296875, \"count\": 1, \"min\": 0.982904296875, \"max\": 0.982904296875}}}\u001b[0m\n",
      "\u001b[34m#metrics {\"StartTime\": 1652251236.216899, \"EndTime\": 1652251236.2169151, \"Dimensions\": {\"Algorithm\": \"Linear Learner\", \"Host\": \"algo-1\", \"Operation\": \"training\", \"epoch\": 11, \"model\": 11}, \"Metrics\": {\"train_multiclass_cross_entropy_objective\": {\"sum\": 0.7418512573242187, \"count\": 1, \"min\": 0.7418512573242187, \"max\": 0.7418512573242187}}}\u001b[0m\n",
      "\u001b[34m[05/11/2022 06:40:36 INFO 140711442868032] #quality_metric: host=algo-1, epoch=11, train multiclass_cross_entropy_objective <loss>=0.936486328125\u001b[0m\n",
      "\u001b[34m[2022-05-11 06:40:36.264] [tensorio] [info] epoch_stats={\"data_pipeline\": \"/opt/ml/input/data/validation\", \"epoch\": 35, \"duration\": 31, \"num_examples\": 1, \"num_bytes\": 11544}\u001b[0m\n",
      "\u001b[34m#metrics {\"StartTime\": 1652251236.2692044, \"EndTime\": 1652251236.2692668, \"Dimensions\": {\"Algorithm\": \"Linear Learner\", \"Host\": \"algo-1\", \"Operation\": \"training\", \"epoch\": 11, \"model\": 0}, \"Metrics\": {\"validation_multiclass_cross_entropy_objective\": {\"sum\": 0.9206571149396466, \"count\": 1, \"min\": 0.9206571149396466, \"max\": 0.9206571149396466}}}\u001b[0m\n",
      "\u001b[34m#metrics {\"StartTime\": 1652251236.2698314, \"EndTime\": 1652251236.2698617, \"Dimensions\": {\"Algorithm\": \"Linear Learner\", \"Host\": \"algo-1\", \"Operation\": \"training\", \"epoch\": 11, \"model\": 1}, \"Metrics\": {\"validation_multiclass_cross_entropy_objective\": {\"sum\": 0.8926412221547719, \"count\": 1, \"min\": 0.8926412221547719, \"max\": 0.8926412221547719}}}\u001b[0m\n",
      "\u001b[34m#metrics {\"StartTime\": 1652251236.2703075, \"EndTime\": 1652251236.2703376, \"Dimensions\": {\"Algorithm\": \"Linear Learner\", \"Host\": \"algo-1\", \"Operation\": \"training\", \"epoch\": 11, \"model\": 2}, \"Metrics\": {\"validation_multiclass_cross_entropy_objective\": {\"sum\": 0.79347174017279, \"count\": 1, \"min\": 0.79347174017279, \"max\": 0.79347174017279}}}\u001b[0m\n",
      "\u001b[34m#metrics {\"StartTime\": 1652251236.270795, \"EndTime\": 1652251236.2708223, \"Dimensions\": {\"Algorithm\": \"Linear Learner\", \"Host\": \"algo-1\", \"Operation\": \"training\", \"epoch\": 11, \"model\": 3}, \"Metrics\": {\"validation_multiclass_cross_entropy_objective\": {\"sum\": 0.8417616148252745, \"count\": 1, \"min\": 0.8417616148252745, \"max\": 0.8417616148252745}}}\u001b[0m\n",
      "\u001b[34m#metrics {\"StartTime\": 1652251236.2712789, \"EndTime\": 1652251236.271307, \"Dimensions\": {\"Algorithm\": \"Linear Learner\", \"Host\": \"algo-1\", \"Operation\": \"training\", \"epoch\": 11, \"model\": 4}, \"Metrics\": {\"validation_multiclass_cross_entropy_objective\": {\"sum\": 0.9168795336474169, \"count\": 1, \"min\": 0.9168795336474169, \"max\": 0.9168795336474169}}}\u001b[0m\n",
      "\u001b[34m#metrics {\"StartTime\": 1652251236.2717402, \"EndTime\": 1652251236.271771, \"Dimensions\": {\"Algorithm\": \"Linear Learner\", \"Host\": \"algo-1\", \"Operation\": \"training\", \"epoch\": 11, \"model\": 5}, \"Metrics\": {\"validation_multiclass_cross_entropy_objective\": {\"sum\": 0.9027696214280687, \"count\": 1, \"min\": 0.9027696214280687, \"max\": 0.9027696214280687}}}\u001b[0m\n",
      "\u001b[34m#metrics {\"StartTime\": 1652251236.2721746, \"EndTime\": 1652251236.2722054, \"Dimensions\": {\"Algorithm\": \"Linear Learner\", \"Host\": \"algo-1\", \"Operation\": \"training\", \"epoch\": 11, \"model\": 6}, \"Metrics\": {\"validation_multiclass_cross_entropy_objective\": {\"sum\": 0.8300546182168497, \"count\": 1, \"min\": 0.8300546182168497, \"max\": 0.8300546182168497}}}\u001b[0m\n",
      "\u001b[34m#metrics {\"StartTime\": 1652251236.2726116, \"EndTime\": 1652251236.2726948, \"Dimensions\": {\"Algorithm\": \"Linear Learner\", \"Host\": \"algo-1\", \"Operation\": \"training\", \"epoch\": 11, \"model\": 7}, \"Metrics\": {\"validation_multiclass_cross_entropy_objective\": {\"sum\": 0.9552351118208052, \"count\": 1, \"min\": 0.9552351118208052, \"max\": 0.9552351118208052}}}\u001b[0m\n",
      "\u001b[34m#metrics {\"StartTime\": 1652251236.2733035, \"EndTime\": 1652251236.2733338, \"Dimensions\": {\"Algorithm\": \"Linear Learner\", \"Host\": \"algo-1\", \"Operation\": \"training\", \"epoch\": 11, \"model\": 8}, \"Metrics\": {\"validation_multiclass_cross_entropy_objective\": {\"sum\": 0.6932918101817638, \"count\": 1, \"min\": 0.6932918101817638, \"max\": 0.6932918101817638}}}\u001b[0m\n",
      "\u001b[34m#metrics {\"StartTime\": 1652251236.273799, \"EndTime\": 1652251236.2738292, \"Dimensions\": {\"Algorithm\": \"Linear Learner\", \"Host\": \"algo-1\", \"Operation\": \"training\", \"epoch\": 11, \"model\": 9}, \"Metrics\": {\"validation_multiclass_cross_entropy_objective\": {\"sum\": 0.8486811319986979, \"count\": 1, \"min\": 0.8486811319986979, \"max\": 0.8486811319986979}}}\u001b[0m\n",
      "\u001b[34m#metrics {\"StartTime\": 1652251236.2746449, \"EndTime\": 1652251236.2746732, \"Dimensions\": {\"Algorithm\": \"Linear Learner\", \"Host\": \"algo-1\", \"Operation\": \"training\", \"epoch\": 11, \"model\": 10}, \"Metrics\": {\"validation_multiclass_cross_entropy_objective\": {\"sum\": 0.9689559936523438, \"count\": 1, \"min\": 0.9689559936523438, \"max\": 0.9689559936523438}}}\u001b[0m\n",
      "\u001b[34m#metrics {\"StartTime\": 1652251236.2751102, \"EndTime\": 1652251236.2751386, \"Dimensions\": {\"Algorithm\": \"Linear Learner\", \"Host\": \"algo-1\", \"Operation\": \"training\", \"epoch\": 11, \"model\": 11}, \"Metrics\": {\"validation_multiclass_cross_entropy_objective\": {\"sum\": 0.7209465095588753, \"count\": 1, \"min\": 0.7209465095588753, \"max\": 0.7209465095588753}}}\u001b[0m\n",
      "\u001b[34m[05/11/2022 06:40:36 INFO 140711442868032] #quality_metric: host=algo-1, epoch=11, validation multiclass_cross_entropy_objective <loss>=0.9206571149396466\u001b[0m\n",
      "\u001b[34m[05/11/2022 06:40:36 INFO 140711442868032] #early_stopping_criteria_metric: host=algo-1, epoch=11, criteria=multiclass_cross_entropy_objective, value=0.6932918101817638\u001b[0m\n",
      "\u001b[34m[05/11/2022 06:40:36 INFO 140711442868032] Epoch 11: Loss improved. Updating best model\u001b[0m\n",
      "\u001b[34m[05/11/2022 06:40:36 INFO 140711442868032] Saving model for epoch: 11\u001b[0m\n",
      "\u001b[34m[05/11/2022 06:40:36 INFO 140711442868032] Saved checkpoint to \"/tmp/tmpih732rs2/mx-mod-0000.params\"\u001b[0m\n",
      "\u001b[34m[05/11/2022 06:40:36 INFO 140711442868032] #progress_metric: host=algo-1, completed 80.0 % of epochs\u001b[0m\n",
      "\u001b[34m#metrics {\"StartTime\": 1652251236.189828, \"EndTime\": 1652251236.294408, \"Dimensions\": {\"Algorithm\": \"Linear Learner\", \"Host\": \"algo-1\", \"Operation\": \"training\", \"epoch\": 11, \"Meta\": \"training_data_iter\"}, \"Metrics\": {\"Total Records Seen\": {\"sum\": 24088.0, \"count\": 1, \"min\": 24088, \"max\": 24088}, \"Total Batches Seen\": {\"sum\": 27.0, \"count\": 1, \"min\": 27, \"max\": 27}, \"Max Records Seen Between Resets\": {\"sum\": 1776.0, \"count\": 1, \"min\": 1776, \"max\": 1776}, \"Max Batches Seen Between Resets\": {\"sum\": 2.0, \"count\": 1, \"min\": 2, \"max\": 2}, \"Reset Count\": {\"sum\": 14.0, \"count\": 1, \"min\": 14, \"max\": 14}, \"Number of Records Since Last Reset\": {\"sum\": 1776.0, \"count\": 1, \"min\": 1776, \"max\": 1776}, \"Number of Batches Since Last Reset\": {\"sum\": 2.0, \"count\": 1, \"min\": 2, \"max\": 2}}}\u001b[0m\n",
      "\u001b[34m[05/11/2022 06:40:36 INFO 140711442868032] #throughput_metric: host=algo-1, train throughput=16895.637676688864 records/second\u001b[0m\n",
      "\u001b[34m[2022-05-11 06:40:36.329] [tensorio] [info] epoch_stats={\"data_pipeline\": \"/opt/ml/input/data/train\", \"epoch\": 28, \"duration\": 33, \"num_examples\": 2, \"num_bytes\": 92352}\u001b[0m\n",
      "\u001b[34m#metrics {\"StartTime\": 1652251236.3293715, \"EndTime\": 1652251236.329447, \"Dimensions\": {\"Algorithm\": \"Linear Learner\", \"Host\": \"algo-1\", \"Operation\": \"training\", \"epoch\": 12, \"model\": 0}, \"Metrics\": {\"train_multiclass_cross_entropy_objective\": {\"sum\": 0.9263245849609375, \"count\": 1, \"min\": 0.9263245849609375, \"max\": 0.9263245849609375}}}\u001b[0m\n",
      "\u001b[34m#metrics {\"StartTime\": 1652251236.329594, \"EndTime\": 1652251236.329647, \"Dimensions\": {\"Algorithm\": \"Linear Learner\", \"Host\": \"algo-1\", \"Operation\": \"training\", \"epoch\": 12, \"model\": 1}, \"Metrics\": {\"train_multiclass_cross_entropy_objective\": {\"sum\": 0.8999277954101562, \"count\": 1, \"min\": 0.8999277954101562, \"max\": 0.8999277954101562}}}\u001b[0m\n",
      "\u001b[34m#metrics {\"StartTime\": 1652251236.329726, \"EndTime\": 1652251236.3297505, \"Dimensions\": {\"Algorithm\": \"Linear Learner\", \"Host\": \"algo-1\", \"Operation\": \"training\", \"epoch\": 12, \"model\": 2}, \"Metrics\": {\"train_multiclass_cross_entropy_objective\": {\"sum\": 0.8059401245117187, \"count\": 1, \"min\": 0.8059401245117187, \"max\": 0.8059401245117187}}}\u001b[0m\n",
      "\u001b[34m#metrics {\"StartTime\": 1652251236.3298612, \"EndTime\": 1652251236.3298845, \"Dimensions\": {\"Algorithm\": \"Linear Learner\", \"Host\": \"algo-1\", \"Operation\": \"training\", \"epoch\": 12, \"model\": 3}, \"Metrics\": {\"train_multiclass_cross_entropy_objective\": {\"sum\": 0.8501904296875, \"count\": 1, \"min\": 0.8501904296875, \"max\": 0.8501904296875}}}\u001b[0m\n",
      "\u001b[34m#metrics {\"StartTime\": 1652251236.3299956, \"EndTime\": 1652251236.3300166, \"Dimensions\": {\"Algorithm\": \"Linear Learner\", \"Host\": \"algo-1\", \"Operation\": \"training\", \"epoch\": 12, \"model\": 4}, \"Metrics\": {\"train_multiclass_cross_entropy_objective\": {\"sum\": 0.9235873413085938, \"count\": 1, \"min\": 0.9235873413085938, \"max\": 0.9235873413085938}}}\u001b[0m\n",
      "\u001b[34m#metrics {\"StartTime\": 1652251236.3301144, \"EndTime\": 1652251236.3301373, \"Dimensions\": {\"Algorithm\": \"Linear Learner\", \"Host\": \"algo-1\", \"Operation\": \"training\", \"epoch\": 12, \"model\": 5}, \"Metrics\": {\"train_multiclass_cross_entropy_objective\": {\"sum\": 0.9092908325195312, \"count\": 1, \"min\": 0.9092908325195312, \"max\": 0.9092908325195312}}}\u001b[0m\n",
      "\u001b[34m#metrics {\"StartTime\": 1652251236.3310122, \"EndTime\": 1652251236.3310409, \"Dimensions\": {\"Algorithm\": \"Linear Learner\", \"Host\": \"algo-1\", \"Operation\": \"training\", \"epoch\": 12, \"model\": 6}, \"Metrics\": {\"train_multiclass_cross_entropy_objective\": {\"sum\": 0.8428941040039063, \"count\": 1, \"min\": 0.8428941040039063, \"max\": 0.8428941040039063}}}\u001b[0m\n",
      "\u001b[34m#metrics {\"StartTime\": 1652251236.3314755, \"EndTime\": 1652251236.3315058, \"Dimensions\": {\"Algorithm\": \"Linear Learner\", \"Host\": \"algo-1\", \"Operation\": \"training\", \"epoch\": 12, \"model\": 7}, \"Metrics\": {\"train_multiclass_cross_entropy_objective\": {\"sum\": 0.9606159057617187, \"count\": 1, \"min\": 0.9606159057617187, \"max\": 0.9606159057617187}}}\u001b[0m\n",
      "\u001b[34m#metrics {\"StartTime\": 1652251236.3319912, \"EndTime\": 1652251236.3320196, \"Dimensions\": {\"Algorithm\": \"Linear Learner\", \"Host\": \"algo-1\", \"Operation\": \"training\", \"epoch\": 12, \"model\": 8}, \"Metrics\": {\"train_multiclass_cross_entropy_objective\": {\"sum\": 0.7100371704101562, \"count\": 1, \"min\": 0.7100371704101562, \"max\": 0.7100371704101562}}}\u001b[0m\n",
      "\u001b[34m#metrics {\"StartTime\": 1652251236.3325927, \"EndTime\": 1652251236.332656, \"Dimensions\": {\"Algorithm\": \"Linear Learner\", \"Host\": \"algo-1\", \"Operation\": \"training\", \"epoch\": 12, \"model\": 9}, \"Metrics\": {\"train_multiclass_cross_entropy_objective\": {\"sum\": 0.8775864868164063, \"count\": 1, \"min\": 0.8775864868164063, \"max\": 0.8775864868164063}}}\u001b[0m\n",
      "\u001b[34m#metrics {\"StartTime\": 1652251236.3327253, \"EndTime\": 1652251236.3327734, \"Dimensions\": {\"Algorithm\": \"Linear Learner\", \"Host\": \"algo-1\", \"Operation\": \"training\", \"epoch\": 12, \"model\": 10}, \"Metrics\": {\"train_multiclass_cross_entropy_objective\": {\"sum\": 0.9748095703125, \"count\": 1, \"min\": 0.9748095703125, \"max\": 0.9748095703125}}}\u001b[0m\n",
      "\u001b[34m#metrics {\"StartTime\": 1652251236.3328435, \"EndTime\": 1652251236.3328652, \"Dimensions\": {\"Algorithm\": \"Linear Learner\", \"Host\": \"algo-1\", \"Operation\": \"training\", \"epoch\": 12, \"model\": 11}, \"Metrics\": {\"train_multiclass_cross_entropy_objective\": {\"sum\": 0.7370922241210938, \"count\": 1, \"min\": 0.7370922241210938, \"max\": 0.7370922241210938}}}\u001b[0m\n",
      "\u001b[34m[05/11/2022 06:40:36 INFO 140711442868032] #quality_metric: host=algo-1, epoch=12, train multiclass_cross_entropy_objective <loss>=0.9263245849609375\u001b[0m\n",
      "\u001b[34m[2022-05-11 06:40:36.366] [tensorio] [info] epoch_stats={\"data_pipeline\": \"/opt/ml/input/data/validation\", \"epoch\": 38, \"duration\": 22, \"num_examples\": 1, \"num_bytes\": 11544}\u001b[0m\n",
      "\u001b[34m#metrics {\"StartTime\": 1652251236.372412, \"EndTime\": 1652251236.3724704, \"Dimensions\": {\"Algorithm\": \"Linear Learner\", \"Host\": \"algo-1\", \"Operation\": \"training\", \"epoch\": 12, \"model\": 0}, \"Metrics\": {\"validation_multiclass_cross_entropy_objective\": {\"sum\": 0.9108252310538077, \"count\": 1, \"min\": 0.9108252310538077, \"max\": 0.9108252310538077}}}\u001b[0m\n",
      "\u001b[34m#metrics {\"StartTime\": 1652251236.3725681, \"EndTime\": 1652251236.3725924, \"Dimensions\": {\"Algorithm\": \"Linear Learner\", \"Host\": \"algo-1\", \"Operation\": \"training\", \"epoch\": 12, \"model\": 1}, \"Metrics\": {\"validation_multiclass_cross_entropy_objective\": {\"sum\": 0.8820520349451013, \"count\": 1, \"min\": 0.8820520349451013, \"max\": 0.8820520349451013}}}\u001b[0m\n",
      "\u001b[34m#metrics {\"StartTime\": 1652251236.372683, \"EndTime\": 1652251236.3727028, \"Dimensions\": {\"Algorithm\": \"Linear Learner\", \"Host\": \"algo-1\", \"Operation\": \"training\", \"epoch\": 12, \"model\": 2}, \"Metrics\": {\"validation_multiclass_cross_entropy_objective\": {\"sum\": 0.7874741425385346, \"count\": 1, \"min\": 0.7874741425385346, \"max\": 0.7874741425385346}}}\u001b[0m\n",
      "\u001b[34m#metrics {\"StartTime\": 1652251236.3727634, \"EndTime\": 1652251236.372782, \"Dimensions\": {\"Algorithm\": \"Linear Learner\", \"Host\": \"algo-1\", \"Operation\": \"training\", \"epoch\": 12, \"model\": 3}, \"Metrics\": {\"validation_multiclass_cross_entropy_objective\": {\"sum\": 0.8325396701022312, \"count\": 1, \"min\": 0.8325396701022312, \"max\": 0.8325396701022312}}}\u001b[0m\n",
      "\u001b[34m#metrics {\"StartTime\": 1652251236.3728433, \"EndTime\": 1652251236.3728616, \"Dimensions\": {\"Algorithm\": \"Linear Learner\", \"Host\": \"algo-1\", \"Operation\": \"training\", \"epoch\": 12, \"model\": 4}, \"Metrics\": {\"validation_multiclass_cross_entropy_objective\": {\"sum\": 0.904331585308453, \"count\": 1, \"min\": 0.904331585308453, \"max\": 0.904331585308453}}}\u001b[0m\n",
      "\u001b[34m#metrics {\"StartTime\": 1652251236.3729222, \"EndTime\": 1652251236.3729408, \"Dimensions\": {\"Algorithm\": \"Linear Learner\", \"Host\": \"algo-1\", \"Operation\": \"training\", \"epoch\": 12, \"model\": 5}, \"Metrics\": {\"validation_multiclass_cross_entropy_objective\": {\"sum\": 0.8949262601835234, \"count\": 1, \"min\": 0.8949262601835234, \"max\": 0.8949262601835234}}}\u001b[0m\n",
      "\u001b[34m#metrics {\"StartTime\": 1652251236.3729985, \"EndTime\": 1652251236.373014, \"Dimensions\": {\"Algorithm\": \"Linear Learner\", \"Host\": \"algo-1\", \"Operation\": \"training\", \"epoch\": 12, \"model\": 6}, \"Metrics\": {\"validation_multiclass_cross_entropy_objective\": {\"sum\": 0.8271030047992328, \"count\": 1, \"min\": 0.8271030047992328, \"max\": 0.8271030047992328}}}\u001b[0m\n",
      "\u001b[34m#metrics {\"StartTime\": 1652251236.37307, \"EndTime\": 1652251236.3730857, \"Dimensions\": {\"Algorithm\": \"Linear Learner\", \"Host\": \"algo-1\", \"Operation\": \"training\", \"epoch\": 12, \"model\": 7}, \"Metrics\": {\"validation_multiclass_cross_entropy_objective\": {\"sum\": 0.9462568953230575, \"count\": 1, \"min\": 0.9462568953230575, \"max\": 0.9462568953230575}}}\u001b[0m\n",
      "\u001b[34m#metrics {\"StartTime\": 1652251236.3731368, \"EndTime\": 1652251236.3731542, \"Dimensions\": {\"Algorithm\": \"Linear Learner\", \"Host\": \"algo-1\", \"Operation\": \"training\", \"epoch\": 12, \"model\": 8}, \"Metrics\": {\"validation_multiclass_cross_entropy_objective\": {\"sum\": 0.6876294935071791, \"count\": 1, \"min\": 0.6876294935071791, \"max\": 0.6876294935071791}}}\u001b[0m\n",
      "\u001b[34m#metrics {\"StartTime\": 1652251236.3732054, \"EndTime\": 1652251236.373221, \"Dimensions\": {\"Algorithm\": \"Linear Learner\", \"Host\": \"algo-1\", \"Operation\": \"training\", \"epoch\": 12, \"model\": 9}, \"Metrics\": {\"validation_multiclass_cross_entropy_objective\": {\"sum\": 0.9615854486688837, \"count\": 1, \"min\": 0.9615854486688837, \"max\": 0.9615854486688837}}}\u001b[0m\n",
      "\u001b[34m#metrics {\"StartTime\": 1652251236.3733373, \"EndTime\": 1652251236.3733573, \"Dimensions\": {\"Algorithm\": \"Linear Learner\", \"Host\": \"algo-1\", \"Operation\": \"training\", \"epoch\": 12, \"model\": 10}, \"Metrics\": {\"validation_multiclass_cross_entropy_objective\": {\"sum\": 0.9608302760768581, \"count\": 1, \"min\": 0.9608302760768581, \"max\": 0.9608302760768581}}}\u001b[0m\n",
      "\u001b[34m#metrics {\"StartTime\": 1652251236.3734195, \"EndTime\": 1652251236.3734381, \"Dimensions\": {\"Algorithm\": \"Linear Learner\", \"Host\": \"algo-1\", \"Operation\": \"training\", \"epoch\": 12, \"model\": 11}, \"Metrics\": {\"validation_multiclass_cross_entropy_objective\": {\"sum\": 0.715646692224451, \"count\": 1, \"min\": 0.715646692224451, \"max\": 0.715646692224451}}}\u001b[0m\n",
      "\u001b[34m[05/11/2022 06:40:36 INFO 140711442868032] #quality_metric: host=algo-1, epoch=12, validation multiclass_cross_entropy_objective <loss>=0.9108252310538077\u001b[0m\n",
      "\u001b[34m[05/11/2022 06:40:36 INFO 140711442868032] #early_stopping_criteria_metric: host=algo-1, epoch=12, criteria=multiclass_cross_entropy_objective, value=0.6876294935071791\u001b[0m\n",
      "\u001b[34m[05/11/2022 06:40:36 INFO 140711442868032] Epoch 12: Loss improved. Updating best model\u001b[0m\n",
      "\u001b[34m[05/11/2022 06:40:36 INFO 140711442868032] Saving model for epoch: 12\u001b[0m\n",
      "\u001b[34m[05/11/2022 06:40:36 INFO 140711442868032] Saved checkpoint to \"/tmp/tmpbed2gb8u/mx-mod-0000.params\"\u001b[0m\n",
      "\u001b[34m[05/11/2022 06:40:36 INFO 140711442868032] #progress_metric: host=algo-1, completed 86.66666666666667 % of epochs\u001b[0m\n",
      "\u001b[34m#metrics {\"StartTime\": 1652251236.2952538, \"EndTime\": 1652251236.3864264, \"Dimensions\": {\"Algorithm\": \"Linear Learner\", \"Host\": \"algo-1\", \"Operation\": \"training\", \"epoch\": 12, \"Meta\": \"training_data_iter\"}, \"Metrics\": {\"Total Records Seen\": {\"sum\": 25864.0, \"count\": 1, \"min\": 25864, \"max\": 25864}, \"Total Batches Seen\": {\"sum\": 29.0, \"count\": 1, \"min\": 29, \"max\": 29}, \"Max Records Seen Between Resets\": {\"sum\": 1776.0, \"count\": 1, \"min\": 1776, \"max\": 1776}, \"Max Batches Seen Between Resets\": {\"sum\": 2.0, \"count\": 1, \"min\": 2, \"max\": 2}, \"Reset Count\": {\"sum\": 15.0, \"count\": 1, \"min\": 15, \"max\": 15}, \"Number of Records Since Last Reset\": {\"sum\": 1776.0, \"count\": 1, \"min\": 1776, \"max\": 1776}, \"Number of Batches Since Last Reset\": {\"sum\": 2.0, \"count\": 1, \"min\": 2, \"max\": 2}}}\u001b[0m\n",
      "\u001b[34m[05/11/2022 06:40:36 INFO 140711442868032] #throughput_metric: host=algo-1, train throughput=19446.563419256814 records/second\u001b[0m\n",
      "\u001b[34m[2022-05-11 06:40:36.426] [tensorio] [info] epoch_stats={\"data_pipeline\": \"/opt/ml/input/data/train\", \"epoch\": 30, \"duration\": 40, \"num_examples\": 2, \"num_bytes\": 92352}\u001b[0m\n",
      "\u001b[34m#metrics {\"StartTime\": 1652251236.427144, \"EndTime\": 1652251236.427206, \"Dimensions\": {\"Algorithm\": \"Linear Learner\", \"Host\": \"algo-1\", \"Operation\": \"training\", \"epoch\": 13, \"model\": 0}, \"Metrics\": {\"train_multiclass_cross_entropy_objective\": {\"sum\": 0.9170615234375, \"count\": 1, \"min\": 0.9170615234375, \"max\": 0.9170615234375}}}\u001b[0m\n",
      "\u001b[34m#metrics {\"StartTime\": 1652251236.4275656, \"EndTime\": 1652251236.4276366, \"Dimensions\": {\"Algorithm\": \"Linear Learner\", \"Host\": \"algo-1\", \"Operation\": \"training\", \"epoch\": 13, \"model\": 1}, \"Metrics\": {\"train_multiclass_cross_entropy_objective\": {\"sum\": 0.890017822265625, \"count\": 1, \"min\": 0.890017822265625, \"max\": 0.890017822265625}}}\u001b[0m\n",
      "\u001b[34m#metrics {\"StartTime\": 1652251236.4279501, \"EndTime\": 1652251236.4279997, \"Dimensions\": {\"Algorithm\": \"Linear Learner\", \"Host\": \"algo-1\", \"Operation\": \"training\", \"epoch\": 13, \"model\": 2}, \"Metrics\": {\"train_multiclass_cross_entropy_objective\": {\"sum\": 0.8010418090820313, \"count\": 1, \"min\": 0.8010418090820313, \"max\": 0.8010418090820313}}}\u001b[0m\n",
      "\u001b[34m#metrics {\"StartTime\": 1652251236.428305, \"EndTime\": 1652251236.4283535, \"Dimensions\": {\"Algorithm\": \"Linear Learner\", \"Host\": \"algo-1\", \"Operation\": \"training\", \"epoch\": 13, \"model\": 3}, \"Metrics\": {\"train_multiclass_cross_entropy_objective\": {\"sum\": 0.8416005249023437, \"count\": 1, \"min\": 0.8416005249023437, \"max\": 0.8416005249023437}}}\u001b[0m\n",
      "\u001b[34m#metrics {\"StartTime\": 1652251236.4286861, \"EndTime\": 1652251236.4287112, \"Dimensions\": {\"Algorithm\": \"Linear Learner\", \"Host\": \"algo-1\", \"Operation\": \"training\", \"epoch\": 13, \"model\": 4}, \"Metrics\": {\"train_multiclass_cross_entropy_objective\": {\"sum\": 0.911470703125, \"count\": 1, \"min\": 0.911470703125, \"max\": 0.911470703125}}}\u001b[0m\n",
      "\u001b[34m#metrics {\"StartTime\": 1652251236.4290385, \"EndTime\": 1652251236.4291146, \"Dimensions\": {\"Algorithm\": \"Linear Learner\", \"Host\": \"algo-1\", \"Operation\": \"training\", \"epoch\": 13, \"model\": 5}, \"Metrics\": {\"train_multiclass_cross_entropy_objective\": {\"sum\": 0.901758544921875, \"count\": 1, \"min\": 0.901758544921875, \"max\": 0.901758544921875}}}\u001b[0m\n",
      "\u001b[34m#metrics {\"StartTime\": 1652251236.4294467, \"EndTime\": 1652251236.4295037, \"Dimensions\": {\"Algorithm\": \"Linear Learner\", \"Host\": \"algo-1\", \"Operation\": \"training\", \"epoch\": 13, \"model\": 6}, \"Metrics\": {\"train_multiclass_cross_entropy_objective\": {\"sum\": 0.8414108276367187, \"count\": 1, \"min\": 0.8414108276367187, \"max\": 0.8414108276367187}}}\u001b[0m\n",
      "\u001b[34m#metrics {\"StartTime\": 1652251236.4298363, \"EndTime\": 1652251236.4298906, \"Dimensions\": {\"Algorithm\": \"Linear Learner\", \"Host\": \"algo-1\", \"Operation\": \"training\", \"epoch\": 13, \"model\": 7}, \"Metrics\": {\"train_multiclass_cross_entropy_objective\": {\"sum\": 0.9520338134765625, \"count\": 1, \"min\": 0.9520338134765625, \"max\": 0.9520338134765625}}}\u001b[0m\n",
      "\u001b[34m#metrics {\"StartTime\": 1652251236.4302187, \"EndTime\": 1652251236.430267, \"Dimensions\": {\"Algorithm\": \"Linear Learner\", \"Host\": \"algo-1\", \"Operation\": \"training\", \"epoch\": 13, \"model\": 8}, \"Metrics\": {\"train_multiclass_cross_entropy_objective\": {\"sum\": 0.7057743530273437, \"count\": 1, \"min\": 0.7057743530273437, \"max\": 0.7057743530273437}}}\u001b[0m\n",
      "\u001b[34m#metrics {\"StartTime\": 1652251236.4305732, \"EndTime\": 1652251236.430621, \"Dimensions\": {\"Algorithm\": \"Linear Learner\", \"Host\": \"algo-1\", \"Operation\": \"training\", \"epoch\": 13, \"model\": 9}, \"Metrics\": {\"train_multiclass_cross_entropy_objective\": {\"sum\": 0.994546630859375, \"count\": 1, \"min\": 0.994546630859375, \"max\": 0.994546630859375}}}\u001b[0m\n",
      "\u001b[34m#metrics {\"StartTime\": 1652251236.430932, \"EndTime\": 1652251236.4309893, \"Dimensions\": {\"Algorithm\": \"Linear Learner\", \"Host\": \"algo-1\", \"Operation\": \"training\", \"epoch\": 13, \"model\": 10}, \"Metrics\": {\"train_multiclass_cross_entropy_objective\": {\"sum\": 0.9672753295898437, \"count\": 1, \"min\": 0.9672753295898437, \"max\": 0.9672753295898437}}}\u001b[0m\n",
      "\u001b[34m#metrics {\"StartTime\": 1652251236.431119, \"EndTime\": 1652251236.431145, \"Dimensions\": {\"Algorithm\": \"Linear Learner\", \"Host\": \"algo-1\", \"Operation\": \"training\", \"epoch\": 13, \"model\": 11}, \"Metrics\": {\"train_multiclass_cross_entropy_objective\": {\"sum\": 0.7346845092773437, \"count\": 1, \"min\": 0.7346845092773437, \"max\": 0.7346845092773437}}}\u001b[0m\n",
      "\u001b[34m[05/11/2022 06:40:36 INFO 140711442868032] #quality_metric: host=algo-1, epoch=13, train multiclass_cross_entropy_objective <loss>=0.9170615234375\u001b[0m\n",
      "\u001b[34m[2022-05-11 06:40:36.479] [tensorio] [info] epoch_stats={\"data_pipeline\": \"/opt/ml/input/data/validation\", \"epoch\": 41, \"duration\": 35, \"num_examples\": 1, \"num_bytes\": 11544}\u001b[0m\n",
      "\u001b[34m#metrics {\"StartTime\": 1652251236.483154, \"EndTime\": 1652251236.4831944, \"Dimensions\": {\"Algorithm\": \"Linear Learner\", \"Host\": \"algo-1\", \"Operation\": \"training\", \"epoch\": 13, \"model\": 0}, \"Metrics\": {\"validation_multiclass_cross_entropy_objective\": {\"sum\": 0.9007824734524563, \"count\": 1, \"min\": 0.9007824734524563, \"max\": 0.9007824734524563}}}\u001b[0m\n",
      "\u001b[34m#metrics {\"StartTime\": 1652251236.4832692, \"EndTime\": 1652251236.4832842, \"Dimensions\": {\"Algorithm\": \"Linear Learner\", \"Host\": \"algo-1\", \"Operation\": \"training\", \"epoch\": 13, \"model\": 1}, \"Metrics\": {\"validation_multiclass_cross_entropy_objective\": {\"sum\": 0.8710235045836853, \"count\": 1, \"min\": 0.8710235045836853, \"max\": 0.8710235045836853}}}\u001b[0m\n",
      "\u001b[34m#metrics {\"StartTime\": 1652251236.4833448, \"EndTime\": 1652251236.4833608, \"Dimensions\": {\"Algorithm\": \"Linear Learner\", \"Host\": \"algo-1\", \"Operation\": \"training\", \"epoch\": 13, \"model\": 2}, \"Metrics\": {\"validation_multiclass_cross_entropy_objective\": {\"sum\": 0.7801455935916385, \"count\": 1, \"min\": 0.7801455935916385, \"max\": 0.7801455935916385}}}\u001b[0m\n",
      "\u001b[34m#metrics {\"StartTime\": 1652251236.4833968, \"EndTime\": 1652251236.4834106, \"Dimensions\": {\"Algorithm\": \"Linear Learner\", \"Host\": \"algo-1\", \"Operation\": \"training\", \"epoch\": 13, \"model\": 3}, \"Metrics\": {\"validation_multiclass_cross_entropy_objective\": {\"sum\": 0.8227114978137317, \"count\": 1, \"min\": 0.8227114978137317, \"max\": 0.8227114978137317}}}\u001b[0m\n",
      "\u001b[34m#metrics {\"StartTime\": 1652251236.4834654, \"EndTime\": 1652251236.4834828, \"Dimensions\": {\"Algorithm\": \"Linear Learner\", \"Host\": \"algo-1\", \"Operation\": \"training\", \"epoch\": 13, \"model\": 4}, \"Metrics\": {\"validation_multiclass_cross_entropy_objective\": {\"sum\": 0.8925252003712697, \"count\": 1, \"min\": 0.8925252003712697, \"max\": 0.8925252003712697}}}\u001b[0m\n",
      "\u001b[34m#metrics {\"StartTime\": 1652251236.48354, \"EndTime\": 1652251236.4835567, \"Dimensions\": {\"Algorithm\": \"Linear Learner\", \"Host\": \"algo-1\", \"Operation\": \"training\", \"epoch\": 13, \"model\": 5}, \"Metrics\": {\"validation_multiclass_cross_entropy_objective\": {\"sum\": 0.8877381333359727, \"count\": 1, \"min\": 0.8877381333359727, \"max\": 0.8877381333359727}}}\u001b[0m\n",
      "\u001b[34m#metrics {\"StartTime\": 1652251236.4836133, \"EndTime\": 1652251236.4836304, \"Dimensions\": {\"Algorithm\": \"Linear Learner\", \"Host\": \"algo-1\", \"Operation\": \"training\", \"epoch\": 13, \"model\": 6}, \"Metrics\": {\"validation_multiclass_cross_entropy_objective\": {\"sum\": 0.8262692013302365, \"count\": 1, \"min\": 0.8262692013302365, \"max\": 0.8262692013302365}}}\u001b[0m\n",
      "\u001b[34m#metrics {\"StartTime\": 1652251236.4836876, \"EndTime\": 1652251236.4837048, \"Dimensions\": {\"Algorithm\": \"Linear Learner\", \"Host\": \"algo-1\", \"Operation\": \"training\", \"epoch\": 13, \"model\": 7}, \"Metrics\": {\"validation_multiclass_cross_entropy_objective\": {\"sum\": 0.937435734379399, \"count\": 1, \"min\": 0.937435734379399, \"max\": 0.937435734379399}}}\u001b[0m\n",
      "\u001b[34m#metrics {\"StartTime\": 1652251236.483759, \"EndTime\": 1652251236.483777, \"Dimensions\": {\"Algorithm\": \"Linear Learner\", \"Host\": \"algo-1\", \"Operation\": \"training\", \"epoch\": 13, \"model\": 8}, \"Metrics\": {\"validation_multiclass_cross_entropy_objective\": {\"sum\": 0.6832418355855856, \"count\": 1, \"min\": 0.6832418355855856, \"max\": 0.6832418355855856}}}\u001b[0m\n",
      "\u001b[34m#metrics {\"StartTime\": 1652251236.4838316, \"EndTime\": 1652251236.483848, \"Dimensions\": {\"Algorithm\": \"Linear Learner\", \"Host\": \"algo-1\", \"Operation\": \"training\", \"epoch\": 13, \"model\": 9}, \"Metrics\": {\"validation_multiclass_cross_entropy_objective\": {\"sum\": 0.7841880042273719, \"count\": 1, \"min\": 0.7841880042273719, \"max\": 0.7841880042273719}}}\u001b[0m\n",
      "\u001b[34m#metrics {\"StartTime\": 1652251236.4839048, \"EndTime\": 1652251236.483922, \"Dimensions\": {\"Algorithm\": \"Linear Learner\", \"Host\": \"algo-1\", \"Operation\": \"training\", \"epoch\": 13, \"model\": 10}, \"Metrics\": {\"validation_multiclass_cross_entropy_objective\": {\"sum\": 0.9531310485289978, \"count\": 1, \"min\": 0.9531310485289978, \"max\": 0.9531310485289978}}}\u001b[0m\n",
      "\u001b[34m#metrics {\"StartTime\": 1652251236.4839776, \"EndTime\": 1652251236.4839947, \"Dimensions\": {\"Algorithm\": \"Linear Learner\", \"Host\": \"algo-1\", \"Operation\": \"training\", \"epoch\": 13, \"model\": 11}, \"Metrics\": {\"validation_multiclass_cross_entropy_objective\": {\"sum\": 0.7147295840151675, \"count\": 1, \"min\": 0.7147295840151675, \"max\": 0.7147295840151675}}}\u001b[0m\n",
      "\u001b[34m[05/11/2022 06:40:36 INFO 140711442868032] #quality_metric: host=algo-1, epoch=13, validation multiclass_cross_entropy_objective <loss>=0.9007824734524563\u001b[0m\n",
      "\u001b[34m[05/11/2022 06:40:36 INFO 140711442868032] #early_stopping_criteria_metric: host=algo-1, epoch=13, criteria=multiclass_cross_entropy_objective, value=0.6832418355855856\u001b[0m\n",
      "\u001b[34m[05/11/2022 06:40:36 INFO 140711442868032] Epoch 13: Loss improved. Updating best model\u001b[0m\n",
      "\u001b[34m[05/11/2022 06:40:36 INFO 140711442868032] Saving model for epoch: 13\u001b[0m\n",
      "\u001b[34m[05/11/2022 06:40:36 INFO 140711442868032] Saved checkpoint to \"/tmp/tmppxkkzb6c/mx-mod-0000.params\"\u001b[0m\n",
      "\u001b[34m[05/11/2022 06:40:36 INFO 140711442868032] #progress_metric: host=algo-1, completed 93.33333333333333 % of epochs\u001b[0m\n",
      "\u001b[34m#metrics {\"StartTime\": 1652251236.3867397, \"EndTime\": 1652251236.4961793, \"Dimensions\": {\"Algorithm\": \"Linear Learner\", \"Host\": \"algo-1\", \"Operation\": \"training\", \"epoch\": 13, \"Meta\": \"training_data_iter\"}, \"Metrics\": {\"Total Records Seen\": {\"sum\": 27640.0, \"count\": 1, \"min\": 27640, \"max\": 27640}, \"Total Batches Seen\": {\"sum\": 31.0, \"count\": 1, \"min\": 31, \"max\": 31}, \"Max Records Seen Between Resets\": {\"sum\": 1776.0, \"count\": 1, \"min\": 1776, \"max\": 1776}, \"Max Batches Seen Between Resets\": {\"sum\": 2.0, \"count\": 1, \"min\": 2, \"max\": 2}, \"Reset Count\": {\"sum\": 16.0, \"count\": 1, \"min\": 16, \"max\": 16}, \"Number of Records Since Last Reset\": {\"sum\": 1776.0, \"count\": 1, \"min\": 1776, \"max\": 1776}, \"Number of Batches Since Last Reset\": {\"sum\": 2.0, \"count\": 1, \"min\": 2, \"max\": 2}}}\u001b[0m\n",
      "\u001b[34m[05/11/2022 06:40:36 INFO 140711442868032] #throughput_metric: host=algo-1, train throughput=16207.648566262622 records/second\u001b[0m\n",
      "\u001b[34m[2022-05-11 06:40:36.533] [tensorio] [info] epoch_stats={\"data_pipeline\": \"/opt/ml/input/data/train\", \"epoch\": 32, \"duration\": 37, \"num_examples\": 2, \"num_bytes\": 92352}\u001b[0m\n",
      "\u001b[34m#metrics {\"StartTime\": 1652251236.533723, \"EndTime\": 1652251236.5337844, \"Dimensions\": {\"Algorithm\": \"Linear Learner\", \"Host\": \"algo-1\", \"Operation\": \"training\", \"epoch\": 14, \"model\": 0}, \"Metrics\": {\"train_multiclass_cross_entropy_objective\": {\"sum\": 0.9072907104492187, \"count\": 1, \"min\": 0.9072907104492187, \"max\": 0.9072907104492187}}}\u001b[0m\n",
      "\u001b[34m#metrics {\"StartTime\": 1652251236.533872, \"EndTime\": 1652251236.5338943, \"Dimensions\": {\"Algorithm\": \"Linear Learner\", \"Host\": \"algo-1\", \"Operation\": \"training\", \"epoch\": 14, \"model\": 1}, \"Metrics\": {\"train_multiclass_cross_entropy_objective\": {\"sum\": 0.8793280029296875, \"count\": 1, \"min\": 0.8793280029296875, \"max\": 0.8793280029296875}}}\u001b[0m\n",
      "\u001b[34m#metrics {\"StartTime\": 1652251236.5339599, \"EndTime\": 1652251236.533979, \"Dimensions\": {\"Algorithm\": \"Linear Learner\", \"Host\": \"algo-1\", \"Operation\": \"training\", \"epoch\": 14, \"model\": 2}, \"Metrics\": {\"train_multiclass_cross_entropy_objective\": {\"sum\": 0.7944518432617188, \"count\": 1, \"min\": 0.7944518432617188, \"max\": 0.7944518432617188}}}\u001b[0m\n",
      "\u001b[34m#metrics {\"StartTime\": 1652251236.5340407, \"EndTime\": 1652251236.5340571, \"Dimensions\": {\"Algorithm\": \"Linear Learner\", \"Host\": \"algo-1\", \"Operation\": \"training\", \"epoch\": 14, \"model\": 3}, \"Metrics\": {\"train_multiclass_cross_entropy_objective\": {\"sum\": 0.8320138549804688, \"count\": 1, \"min\": 0.8320138549804688, \"max\": 0.8320138549804688}}}\u001b[0m\n",
      "\u001b[34m#metrics {\"StartTime\": 1652251236.5341148, \"EndTime\": 1652251236.5341332, \"Dimensions\": {\"Algorithm\": \"Linear Learner\", \"Host\": \"algo-1\", \"Operation\": \"training\", \"epoch\": 14, \"model\": 4}, \"Metrics\": {\"train_multiclass_cross_entropy_objective\": {\"sum\": 0.8999974975585937, \"count\": 1, \"min\": 0.8999974975585937, \"max\": 0.8999974975585937}}}\u001b[0m\n",
      "\u001b[34m#metrics {\"StartTime\": 1652251236.5342329, \"EndTime\": 1652251236.5342572, \"Dimensions\": {\"Algorithm\": \"Linear Learner\", \"Host\": \"algo-1\", \"Operation\": \"training\", \"epoch\": 14, \"model\": 5}, \"Metrics\": {\"train_multiclass_cross_entropy_objective\": {\"sum\": 0.8945975341796875, \"count\": 1, \"min\": 0.8945975341796875, \"max\": 0.8945975341796875}}}\u001b[0m\n",
      "\u001b[34m#metrics {\"StartTime\": 1652251236.5343165, \"EndTime\": 1652251236.5343328, \"Dimensions\": {\"Algorithm\": \"Linear Learner\", \"Host\": \"algo-1\", \"Operation\": \"training\", \"epoch\": 14, \"model\": 6}, \"Metrics\": {\"train_multiclass_cross_entropy_objective\": {\"sum\": 0.8393883666992188, \"count\": 1, \"min\": 0.8393883666992188, \"max\": 0.8393883666992188}}}\u001b[0m\n",
      "\u001b[34m#metrics {\"StartTime\": 1652251236.5343957, \"EndTime\": 1652251236.5344152, \"Dimensions\": {\"Algorithm\": \"Linear Learner\", \"Host\": \"algo-1\", \"Operation\": \"training\", \"epoch\": 14, \"model\": 7}, \"Metrics\": {\"train_multiclass_cross_entropy_objective\": {\"sum\": 0.9432586059570313, \"count\": 1, \"min\": 0.9432586059570313, \"max\": 0.9432586059570313}}}\u001b[0m\n",
      "\u001b[34m#metrics {\"StartTime\": 1652251236.5344746, \"EndTime\": 1652251236.5344908, \"Dimensions\": {\"Algorithm\": \"Linear Learner\", \"Host\": \"algo-1\", \"Operation\": \"training\", \"epoch\": 14, \"model\": 8}, \"Metrics\": {\"train_multiclass_cross_entropy_objective\": {\"sum\": 0.702761474609375, \"count\": 1, \"min\": 0.702761474609375, \"max\": 0.702761474609375}}}\u001b[0m\n",
      "\u001b[34m#metrics {\"StartTime\": 1652251236.5345895, \"EndTime\": 1652251236.5346088, \"Dimensions\": {\"Algorithm\": \"Linear Learner\", \"Host\": \"algo-1\", \"Operation\": \"training\", \"epoch\": 14, \"model\": 9}, \"Metrics\": {\"train_multiclass_cross_entropy_objective\": {\"sum\": 0.8147272338867187, \"count\": 1, \"min\": 0.8147272338867187, \"max\": 0.8147272338867187}}}\u001b[0m\n",
      "\u001b[34m#metrics {\"StartTime\": 1652251236.5346694, \"EndTime\": 1652251236.5346866, \"Dimensions\": {\"Algorithm\": \"Linear Learner\", \"Host\": \"algo-1\", \"Operation\": \"training\", \"epoch\": 14, \"model\": 10}, \"Metrics\": {\"train_multiclass_cross_entropy_objective\": {\"sum\": 0.9598355102539062, \"count\": 1, \"min\": 0.9598355102539062, \"max\": 0.9598355102539062}}}\u001b[0m\n",
      "\u001b[34m#metrics {\"StartTime\": 1652251236.534823, \"EndTime\": 1652251236.5348463, \"Dimensions\": {\"Algorithm\": \"Linear Learner\", \"Host\": \"algo-1\", \"Operation\": \"training\", \"epoch\": 14, \"model\": 11}, \"Metrics\": {\"train_multiclass_cross_entropy_objective\": {\"sum\": 0.7322227783203125, \"count\": 1, \"min\": 0.7322227783203125, \"max\": 0.7322227783203125}}}\u001b[0m\n",
      "\u001b[34m[05/11/2022 06:40:36 INFO 140711442868032] #quality_metric: host=algo-1, epoch=14, train multiclass_cross_entropy_objective <loss>=0.9072907104492187\u001b[0m\n",
      "\u001b[34m[2022-05-11 06:40:36.566] [tensorio] [info] epoch_stats={\"data_pipeline\": \"/opt/ml/input/data/validation\", \"epoch\": 44, \"duration\": 15, \"num_examples\": 1, \"num_bytes\": 11544}\u001b[0m\n",
      "\u001b[34m#metrics {\"StartTime\": 1652251236.5706394, \"EndTime\": 1652251236.570678, \"Dimensions\": {\"Algorithm\": \"Linear Learner\", \"Host\": \"algo-1\", \"Operation\": \"training\", \"epoch\": 14, \"model\": 0}, \"Metrics\": {\"validation_multiclass_cross_entropy_objective\": {\"sum\": 0.8905522801854588, \"count\": 1, \"min\": 0.8905522801854588, \"max\": 0.8905522801854588}}}\u001b[0m\n",
      "\u001b[34m#metrics {\"StartTime\": 1652251236.57075, \"EndTime\": 1652251236.5707707, \"Dimensions\": {\"Algorithm\": \"Linear Learner\", \"Host\": \"algo-1\", \"Operation\": \"training\", \"epoch\": 14, \"model\": 1}, \"Metrics\": {\"validation_multiclass_cross_entropy_objective\": {\"sum\": 0.8593943140528224, \"count\": 1, \"min\": 0.8593943140528224, \"max\": 0.8593943140528224}}}\u001b[0m\n",
      "\u001b[34m#metrics {\"StartTime\": 1652251236.5708652, \"EndTime\": 1652251236.5709093, \"Dimensions\": {\"Algorithm\": \"Linear Learner\", \"Host\": \"algo-1\", \"Operation\": \"training\", \"epoch\": 14, \"model\": 2}, \"Metrics\": {\"validation_multiclass_cross_entropy_objective\": {\"sum\": 0.7685393599776534, \"count\": 1, \"min\": 0.7685393599776534, \"max\": 0.7685393599776534}}}\u001b[0m\n",
      "\u001b[34m#metrics {\"StartTime\": 1652251236.5709789, \"EndTime\": 1652251236.5709994, \"Dimensions\": {\"Algorithm\": \"Linear Learner\", \"Host\": \"algo-1\", \"Operation\": \"training\", \"epoch\": 14, \"model\": 3}, \"Metrics\": {\"validation_multiclass_cross_entropy_objective\": {\"sum\": 0.8112817025399423, \"count\": 1, \"min\": 0.8112817025399423, \"max\": 0.8112817025399423}}}\u001b[0m\n",
      "\u001b[34m#metrics {\"StartTime\": 1652251236.5710592, \"EndTime\": 1652251236.5710778, \"Dimensions\": {\"Algorithm\": \"Linear Learner\", \"Host\": \"algo-1\", \"Operation\": \"training\", \"epoch\": 14, \"model\": 4}, \"Metrics\": {\"validation_multiclass_cross_entropy_objective\": {\"sum\": 0.8814151523349522, \"count\": 1, \"min\": 0.8814151523349522, \"max\": 0.8814151523349522}}}\u001b[0m\n",
      "\u001b[34m#metrics {\"StartTime\": 1652251236.5711358, \"EndTime\": 1652251236.5711546, \"Dimensions\": {\"Algorithm\": \"Linear Learner\", \"Host\": \"algo-1\", \"Operation\": \"training\", \"epoch\": 14, \"model\": 5}, \"Metrics\": {\"validation_multiclass_cross_entropy_objective\": {\"sum\": 0.880560522680884, \"count\": 1, \"min\": 0.880560522680884, \"max\": 0.880560522680884}}}\u001b[0m\n",
      "\u001b[34m#metrics {\"StartTime\": 1652251236.571212, \"EndTime\": 1652251236.57123, \"Dimensions\": {\"Algorithm\": \"Linear Learner\", \"Host\": \"algo-1\", \"Operation\": \"training\", \"epoch\": 14, \"model\": 6}, \"Metrics\": {\"validation_multiclass_cross_entropy_objective\": {\"sum\": 0.8240079450177716, \"count\": 1, \"min\": 0.8240079450177716, \"max\": 0.8240079450177716}}}\u001b[0m\n",
      "\u001b[34m#metrics {\"StartTime\": 1652251236.5712848, \"EndTime\": 1652251236.5713017, \"Dimensions\": {\"Algorithm\": \"Linear Learner\", \"Host\": \"algo-1\", \"Operation\": \"training\", \"epoch\": 14, \"model\": 7}, \"Metrics\": {\"validation_multiclass_cross_entropy_objective\": {\"sum\": 0.9287912179757883, \"count\": 1, \"min\": 0.9287912179757883, \"max\": 0.9287912179757883}}}\u001b[0m\n",
      "\u001b[34m#metrics {\"StartTime\": 1652251236.571357, \"EndTime\": 1652251236.5713747, \"Dimensions\": {\"Algorithm\": \"Linear Learner\", \"Host\": \"algo-1\", \"Operation\": \"training\", \"epoch\": 14, \"model\": 8}, \"Metrics\": {\"validation_multiclass_cross_entropy_objective\": {\"sum\": 0.679933771356806, \"count\": 1, \"min\": 0.679933771356806, \"max\": 0.679933771356806}}}\u001b[0m\n",
      "\u001b[34m#metrics {\"StartTime\": 1652251236.5714266, \"EndTime\": 1652251236.571443, \"Dimensions\": {\"Algorithm\": \"Linear Learner\", \"Host\": \"algo-1\", \"Operation\": \"training\", \"epoch\": 14, \"model\": 9}, \"Metrics\": {\"validation_multiclass_cross_entropy_objective\": {\"sum\": 0.8714913033150338, \"count\": 1, \"min\": 0.8714913033150338, \"max\": 0.8714913033150338}}}\u001b[0m\n",
      "\u001b[34m#metrics {\"StartTime\": 1652251236.5714972, \"EndTime\": 1652251236.5715137, \"Dimensions\": {\"Algorithm\": \"Linear Learner\", \"Host\": \"algo-1\", \"Operation\": \"training\", \"epoch\": 14, \"model\": 10}, \"Metrics\": {\"validation_multiclass_cross_entropy_objective\": {\"sum\": 0.9456884710638372, \"count\": 1, \"min\": 0.9456884710638372, \"max\": 0.9456884710638372}}}\u001b[0m\n",
      "\u001b[34m#metrics {\"StartTime\": 1652251236.5715702, \"EndTime\": 1652251236.5715866, \"Dimensions\": {\"Algorithm\": \"Linear Learner\", \"Host\": \"algo-1\", \"Operation\": \"training\", \"epoch\": 14, \"model\": 11}, \"Metrics\": {\"validation_multiclass_cross_entropy_objective\": {\"sum\": 0.7118841635214316, \"count\": 1, \"min\": 0.7118841635214316, \"max\": 0.7118841635214316}}}\u001b[0m\n",
      "\u001b[34m[05/11/2022 06:40:36 INFO 140711442868032] #quality_metric: host=algo-1, epoch=14, validation multiclass_cross_entropy_objective <loss>=0.8905522801854588\u001b[0m\n",
      "\u001b[34m[05/11/2022 06:40:36 INFO 140711442868032] #early_stopping_criteria_metric: host=algo-1, epoch=14, criteria=multiclass_cross_entropy_objective, value=0.679933771356806\u001b[0m\n",
      "\u001b[34m[05/11/2022 06:40:36 INFO 140711442868032] Epoch 14: Loss improved. Updating best model\u001b[0m\n",
      "\u001b[34m[05/11/2022 06:40:36 INFO 140711442868032] Saving model for epoch: 14\u001b[0m\n",
      "\u001b[34m[05/11/2022 06:40:36 INFO 140711442868032] Saved checkpoint to \"/tmp/tmpveh5tpsw/mx-mod-0000.params\"\u001b[0m\n",
      "\u001b[34m[05/11/2022 06:40:36 INFO 140711442868032] #progress_metric: host=algo-1, completed 100.0 % of epochs\u001b[0m\n",
      "\u001b[34m#metrics {\"StartTime\": 1652251236.4964783, \"EndTime\": 1652251236.5830288, \"Dimensions\": {\"Algorithm\": \"Linear Learner\", \"Host\": \"algo-1\", \"Operation\": \"training\", \"epoch\": 14, \"Meta\": \"training_data_iter\"}, \"Metrics\": {\"Total Records Seen\": {\"sum\": 29416.0, \"count\": 1, \"min\": 29416, \"max\": 29416}, \"Total Batches Seen\": {\"sum\": 33.0, \"count\": 1, \"min\": 33, \"max\": 33}, \"Max Records Seen Between Resets\": {\"sum\": 1776.0, \"count\": 1, \"min\": 1776, \"max\": 1776}, \"Max Batches Seen Between Resets\": {\"sum\": 2.0, \"count\": 1, \"min\": 2, \"max\": 2}, \"Reset Count\": {\"sum\": 17.0, \"count\": 1, \"min\": 17, \"max\": 17}, \"Number of Records Since Last Reset\": {\"sum\": 1776.0, \"count\": 1, \"min\": 1776, \"max\": 1776}, \"Number of Batches Since Last Reset\": {\"sum\": 2.0, \"count\": 1, \"min\": 2, \"max\": 2}}}\u001b[0m\n",
      "\u001b[34m[05/11/2022 06:40:36 INFO 140711442868032] #throughput_metric: host=algo-1, train throughput=20482.4665132355 records/second\u001b[0m\n",
      "\u001b[34m[05/11/2022 06:40:36 WARNING 140711442868032] wait_for_all_workers will not sync workers since the kv store is not running distributed\u001b[0m\n",
      "\u001b[34m[05/11/2022 06:40:36 WARNING 140711442868032] wait_for_all_workers will not sync workers since the kv store is not running distributed\u001b[0m\n",
      "\u001b[34m[2022-05-11 06:40:36.613] [tensorio] [info] epoch_stats={\"data_pipeline\": \"/opt/ml/input/data/validation\", \"epoch\": 47, \"duration\": 18, \"num_examples\": 1, \"num_bytes\": 11544}\u001b[0m\n",
      "\u001b[34m[05/11/2022 06:40:36 INFO 140711442868032] #early_stopping_criteria_metric: host=algo-1, epoch=14, criteria=multiclass_cross_entropy_objective, value=0.679933771356806\u001b[0m\n",
      "\u001b[34m[2022-05-11 06:40:36.649] [tensorio] [info] epoch_stats={\"data_pipeline\": \"/opt/ml/input/data/validation\", \"epoch\": 49, \"duration\": 25, \"num_examples\": 1, \"num_bytes\": 11544}\u001b[0m\n",
      "\u001b[34m[05/11/2022 06:40:36 INFO 140711442868032] #validation_score (algo-1) : ('multiclass_cross_entropy_objective', 0.679933771356806)\u001b[0m\n",
      "\u001b[34m[05/11/2022 06:40:36 INFO 140711442868032] #validation_score (algo-1) : ('multiclass_accuracy', 0.8018018018018018)\u001b[0m\n",
      "\u001b[34m[05/11/2022 06:40:36 INFO 140711442868032] #validation_score (algo-1) : ('multiclass_top_k_accuracy_3', 1.0)\u001b[0m\n",
      "\u001b[34m[05/11/2022 06:40:36 INFO 140711442868032] #validation_score (algo-1) : ('dcg', 0.916824821953301)\u001b[0m\n",
      "\u001b[34m[05/11/2022 06:40:36 INFO 140711442868032] #validation_score (algo-1) : ('macro_recall', 0.8032333)\u001b[0m\n",
      "\u001b[34m[05/11/2022 06:40:36 INFO 140711442868032] #validation_score (algo-1) : ('macro_precision', 0.80768627)\u001b[0m\n",
      "\u001b[34m[05/11/2022 06:40:36 INFO 140711442868032] #validation_score (algo-1) : ('macro_f_1.000', 0.8033984)\u001b[0m\n",
      "\u001b[34m[05/11/2022 06:40:36 INFO 140711442868032] #validation_score (algo-1) : ('multiclass_balanced_accuracy', 0.8032332856758865)\u001b[0m\n",
      "\u001b[34m[05/11/2022 06:40:36 INFO 140711442868032] #validation_score (algo-1) : ('multiclass_log_loss', 0.8713880263932385)\u001b[0m\n",
      "\u001b[34m[05/11/2022 06:40:36 INFO 140711442868032] #quality_metric: host=algo-1, validation multiclass_cross_entropy_objective <loss>=0.679933771356806\u001b[0m\n",
      "\u001b[34m[05/11/2022 06:40:36 INFO 140711442868032] #quality_metric: host=algo-1, validation multiclass_accuracy <score>=0.8018018018018018\u001b[0m\n",
      "\u001b[34m[05/11/2022 06:40:36 INFO 140711442868032] #quality_metric: host=algo-1, validation multiclass_top_k_accuracy_3 <score>=1.0\u001b[0m\n",
      "\u001b[34m[05/11/2022 06:40:36 INFO 140711442868032] #quality_metric: host=algo-1, validation dcg <score>=0.916824821953301\u001b[0m\n",
      "\u001b[34m[05/11/2022 06:40:36 INFO 140711442868032] #quality_metric: host=algo-1, validation macro_recall <score>=0.8032333254814148\u001b[0m\n",
      "\u001b[34m[05/11/2022 06:40:36 INFO 140711442868032] #quality_metric: host=algo-1, validation macro_precision <score>=0.8076862692832947\u001b[0m\n",
      "\u001b[34m[05/11/2022 06:40:36 INFO 140711442868032] #quality_metric: host=algo-1, validation macro_f_1.000 <score>=0.8033983707427979\u001b[0m\n",
      "\u001b[34m[05/11/2022 06:40:36 INFO 140711442868032] #quality_metric: host=algo-1, validation multiclass_balanced_accuracy <score>=0.8032332856758865\u001b[0m\n",
      "\u001b[34m[05/11/2022 06:40:36 INFO 140711442868032] #quality_metric: host=algo-1, validation multiclass_log_loss <score>=0.8713880263932385\u001b[0m\n",
      "\u001b[34m[05/11/2022 06:40:36 INFO 140711442868032] Best model found for hyperparameters: {\"optimizer\": \"adam\", \"learning_rate\": 0.10200995219090397, \"l1\": 0.10587917499153388, \"wd\": 0.011994309302164696, \"lr_scheduler_step\": 52, \"lr_scheduler_factor\": 0.9835865984378375, \"lr_scheduler_minimum_lr\": 2.597459914786608e-06}\u001b[0m\n",
      "\u001b[34m[05/11/2022 06:40:36 INFO 140711442868032] Saved checkpoint to \"/tmp/tmpxchf7sj5/mx-mod-0000.params\"\u001b[0m\n",
      "\u001b[34m[2022-05-11 06:40:36.699] [tensorio] [info] epoch_stats={\"data_pipeline\": \"/opt/ml/input/data/test\", \"epoch\": 0, \"duration\": 1519, \"num_examples\": 1, \"num_bytes\": 11544}\u001b[0m\n",
      "\u001b[34m[2022-05-11 06:40:36.713] [tensorio] [info] epoch_stats={\"data_pipeline\": \"/opt/ml/input/data/test\", \"epoch\": 1, \"duration\": 13, \"num_examples\": 1, \"num_bytes\": 11544}\u001b[0m\n",
      "\u001b[34m#metrics {\"StartTime\": 1652251236.698712, \"EndTime\": 1652251236.7563708, \"Dimensions\": {\"Algorithm\": \"Linear Learner\", \"Host\": \"algo-1\", \"Operation\": \"training\", \"Meta\": \"test_data_iter\"}, \"Metrics\": {\"Total Records Seen\": {\"sum\": 222.0, \"count\": 1, \"min\": 222, \"max\": 222}, \"Total Batches Seen\": {\"sum\": 1.0, \"count\": 1, \"min\": 1, \"max\": 1}, \"Max Records Seen Between Resets\": {\"sum\": 222.0, \"count\": 1, \"min\": 222, \"max\": 222}, \"Max Batches Seen Between Resets\": {\"sum\": 1.0, \"count\": 1, \"min\": 1, \"max\": 1}, \"Reset Count\": {\"sum\": 1.0, \"count\": 1, \"min\": 1, \"max\": 1}, \"Number of Records Since Last Reset\": {\"sum\": 222.0, \"count\": 1, \"min\": 222, \"max\": 222}, \"Number of Batches Since Last Reset\": {\"sum\": 1.0, \"count\": 1, \"min\": 1, \"max\": 1}}}\u001b[0m\n",
      "\u001b[34m[05/11/2022 06:40:36 INFO 140711442868032] #test_score (algo-1) : ('multiclass_cross_entropy_objective', 0.8117860673784135)\u001b[0m\n",
      "\u001b[34m[05/11/2022 06:40:36 INFO 140711442868032] #test_score (algo-1) : ('multiclass_accuracy', 0.7207207207207207)\u001b[0m\n",
      "\u001b[34m[05/11/2022 06:40:36 INFO 140711442868032] #test_score (algo-1) : ('multiclass_top_k_accuracy_3', 1.0)\u001b[0m\n",
      "\u001b[34m[05/11/2022 06:40:36 INFO 140711442868032] #test_score (algo-1) : ('dcg', 0.8821820095852688)\u001b[0m\n",
      "\u001b[34m[05/11/2022 06:40:36 INFO 140711442868032] #test_score (algo-1) : ('macro_recall', 0.7169678)\u001b[0m\n",
      "\u001b[34m[05/11/2022 06:40:36 INFO 140711442868032] #test_score (algo-1) : ('macro_precision', 0.7299402)\u001b[0m\n",
      "\u001b[34m[05/11/2022 06:40:36 INFO 140711442868032] #test_score (algo-1) : ('macro_f_1.000', 0.7183555)\u001b[0m\n",
      "\u001b[34m[05/11/2022 06:40:36 INFO 140711442868032] #test_score (algo-1) : ('multiclass_balanced_accuracy', 0.7169678147939017)\u001b[0m\n",
      "\u001b[34m[05/11/2022 06:40:36 INFO 140711442868032] #test_score (algo-1) : ('multiclass_log_loss', 0.9070928323188799)\u001b[0m\n",
      "\u001b[34m[05/11/2022 06:40:36 INFO 140711442868032] #quality_metric: host=algo-1, test multiclass_cross_entropy_objective <loss>=0.8117860673784135\u001b[0m\n",
      "\u001b[34m[05/11/2022 06:40:36 INFO 140711442868032] #quality_metric: host=algo-1, test multiclass_accuracy <score>=0.7207207207207207\u001b[0m\n",
      "\u001b[34m[05/11/2022 06:40:36 INFO 140711442868032] #quality_metric: host=algo-1, test multiclass_top_k_accuracy_3 <score>=1.0\u001b[0m\n",
      "\u001b[34m[05/11/2022 06:40:36 INFO 140711442868032] #quality_metric: host=algo-1, test dcg <score>=0.8821820095852688\u001b[0m\n",
      "\u001b[34m[05/11/2022 06:40:36 INFO 140711442868032] #quality_metric: host=algo-1, test macro_recall <score>=0.7169678211212158\u001b[0m\n",
      "\u001b[34m[05/11/2022 06:40:36 INFO 140711442868032] #quality_metric: host=algo-1, test macro_precision <score>=0.7299401760101318\u001b[0m\n",
      "\u001b[34m[05/11/2022 06:40:36 INFO 140711442868032] #quality_metric: host=algo-1, test macro_f_1.000 <score>=0.7183554768562317\u001b[0m\n",
      "\u001b[34m[05/11/2022 06:40:36 INFO 140711442868032] #quality_metric: host=algo-1, test multiclass_balanced_accuracy <score>=0.7169678147939017\u001b[0m\n",
      "\u001b[34m[05/11/2022 06:40:36 INFO 140711442868032] #quality_metric: host=algo-1, test multiclass_log_loss <score>=0.9070928323188799\u001b[0m\n",
      "\u001b[34m#metrics {\"StartTime\": 1652251235.1755438, \"EndTime\": 1652251236.765076, \"Dimensions\": {\"Algorithm\": \"Linear Learner\", \"Host\": \"algo-1\", \"Operation\": \"training\"}, \"Metrics\": {\"initialize.time\": {\"sum\": 166.748046875, \"count\": 1, \"min\": 166.748046875, \"max\": 166.748046875}, \"epochs\": {\"sum\": 15.0, \"count\": 1, \"min\": 15, \"max\": 15}, \"check_early_stopping.time\": {\"sum\": 18.637895584106445, \"count\": 16, \"min\": 0.2396106719970703, \"max\": 2.597332000732422}, \"update.time\": {\"sum\": 1155.3499698638916, \"count\": 15, \"min\": 56.356191635131836, \"max\": 105.14307022094727}, \"finalize.time\": {\"sum\": 110.47577857971191, \"count\": 1, \"min\": 110.47577857971191, \"max\": 110.47577857971191}, \"setuptime\": {\"sum\": 32.27066993713379, \"count\": 1, \"min\": 32.27066993713379, \"max\": 32.27066993713379}, \"totaltime\": {\"sum\": 1869.6932792663574, \"count\": 1, \"min\": 1869.6932792663574, \"max\": 1869.6932792663574}}}\u001b[0m\n",
      "\u001b[34m[05/11/2022 06:40:36 INFO 140711442868032 integration.py:636] worker closed\u001b[0m\n",
      "\n",
      "2022-05-11 06:40:56 Uploading - Uploading generated training model\n",
      "2022-05-11 06:40:56 Completed - Training job completed\n",
      "Training seconds: 102\n",
      "Billable seconds: 102\n"
     ]
    }
   ],
   "source": [
    "multiclass_estimator.fit([train_records, val_records, test_records])"
   ]
  },
  {
   "cell_type": "markdown",
   "id": "064f88de",
   "metadata": {
    "id": "cfcb1f00-4ba1-499b-a80f-67de7d34ead2"
   },
   "source": [
    "### Deploy a model hosting endpoint"
   ]
  },
  {
   "cell_type": "code",
   "execution_count": 25,
   "id": "09cf4098",
   "metadata": {
    "id": "bd9fac51-c7b2-4b0c-bf6b-c264a6e82c03"
   },
   "outputs": [
    {
     "name": "stderr",
     "output_type": "stream",
     "text": [
      "Defaulting to the only supported framework/algorithm version: 1. Ignoring framework/algorithm version: 1.\n"
     ]
    },
    {
     "name": "stdout",
     "output_type": "stream",
     "text": [
      "------!"
     ]
    }
   ],
   "source": [
    "multiclass_predictor = multiclass_estimator.deploy(initial_instance_count=1, instance_type='ml.m4.xlarge')"
   ]
  },
  {
   "cell_type": "markdown",
   "id": "eb7d5798",
   "metadata": {
    "id": "d5274955-f1a9-4a94-ba1f-b67b687c5286"
   },
   "source": [
    "### Evaluate a model on a test set using the given prediction endpoint. Display classification metrics"
   ]
  },
  {
   "cell_type": "code",
   "execution_count": 26,
   "id": "32950098",
   "metadata": {
    "id": "f4951683-c2b1-44a8-9d53-4576b17dc8a8"
   },
   "outputs": [],
   "source": [
    "def evaluate_metrics(predictor, test_features, test_labels):\n",
    "    # split the test dataset into 100 batches and evaluate using prediction endpoint\n",
    "    prediction_batches = [predictor.predict(batch) for batch in np.array_split(test_features, 100)]\n",
    "\n",
    "    # parse protobuf responses to extract predicted labels\n",
    "    extract_label = lambda x: x.label['predicted_label'].float32_tensor.values\n",
    "    test_preds = np.concatenate([np.array([extract_label(x) for x in batch]) for batch in prediction_batches])\n",
    "    test_preds = test_preds.reshape((-1,))\n",
    "    \n",
    "    # calculate accuracy\n",
    "    accuracy = (test_preds == test_labels).sum() / test_labels.shape[0]\n",
    "    \n",
    "    # calculate recall for each class\n",
    "    recall_per_class, classes = [], []\n",
    "    for target_label in np.unique(test_labels):\n",
    "        recall_numerator = np.logical_and(test_preds == target_label, test_labels == target_label).sum()\n",
    "        recall_denominator = (test_labels == target_label).sum()\n",
    "        recall_per_class.append(recall_numerator / recall_denominator)\n",
    "        classes.append(label_map[target_label])\n",
    "    recall = pd.DataFrame({'recall': recall_per_class, 'class_label': classes})\n",
    "    recall.sort_values('class_label', ascending=False, inplace=True)\n",
    "\n",
    "    # calculate confusion matrix\n",
    "    label_mapper = np.vectorize(lambda x: label_map[x])\n",
    "    confusion_matrix = pd.crosstab(label_mapper(test_labels), label_mapper(test_preds), \n",
    "                                   rownames=['Actuals'], colnames=['Predictions'], normalize='index')\n",
    "\n",
    "    # display results\n",
    "    sns.heatmap(confusion_matrix, annot=True, fmt='.2f', cmap=\"YlGnBu\").set_title('Confusion Matrix')  \n",
    "    ax = recall.plot(kind='barh', x='class_label', y='recall', color='steelblue', title='Recall', legend=False)\n",
    "    ax.set_ylabel('')\n",
    "    print('Accuracy: {:.3f}'.format(accuracy))"
   ]
  },
  {
   "cell_type": "markdown",
   "id": "1ddccb50",
   "metadata": {
    "id": "0c9ac589-ffe4-443f-999b-7d5eb4f6073a"
   },
   "source": [
    "### Evaluate metrics of the model trained with default hyperparameters"
   ]
  },
  {
   "cell_type": "code",
   "execution_count": 27,
   "id": "12a197b2",
   "metadata": {
    "id": "32f913fd-4528-4c54-9261-ea492d975565"
   },
   "outputs": [
    {
     "name": "stdout",
     "output_type": "stream",
     "text": [
      "Accuracy: 0.721\n"
     ]
    },
    {
     "data": {
      "image/png": "[encoded data removed]",
      "text/plain": [
       "<Figure size 432x288 with 2 Axes>"
      ]
     },
     "metadata": {},
     "output_type": "display_data"
    },
    {
     "data": {
      "image/png": "[encoded data removed]",
      "text/plain": [
       "<Figure size 432x288 with 1 Axes>"
      ]
     },
     "metadata": {},
     "output_type": "display_data"
    }
   ],
   "source": [
    "evaluate_metrics(multiclass_predictor, test_features, test_labels)"
   ]
  },
  {
   "cell_type": "markdown",
   "id": "c43a32fb",
   "metadata": {
    "id": "dbbd94f3-b547-452d-ad51-9e9e966f6bb6"
   },
   "source": [
    "### Instantiate the LinearLearner estimator object"
   ]
  },
  {
   "cell_type": "code",
   "execution_count": 30,
   "id": "acb89094",
   "metadata": {
    "id": "b43f7485-2b47-41c1-aece-55f49b7335d6"
   },
   "outputs": [
    {
     "name": "stderr",
     "output_type": "stream",
     "text": [
      "train_instance_count has been renamed in sagemaker>=2.\n",
      "See: https://sagemaker.readthedocs.io/en/stable/v2.html for details.\n",
      "train_instance_type has been renamed in sagemaker>=2.\n",
      "See: https://sagemaker.readthedocs.io/en/stable/v2.html for details.\n"
     ]
    }
   ],
   "source": [
    "balanced_multiclass_estimator = sagemaker.LinearLearner(role=role,\n",
    "                                                        train_instance_count=1,\n",
    "                                                        train_instance_type='ml.m4.xlarge',\n",
    "                                                        predictor_type='multiclass_classifier',\n",
    "                                                        num_classes=7,\n",
    "                                                        balance_multiclass_weights=True)"
   ]
  },
  {
   "cell_type": "markdown",
   "id": "6ef786d7",
   "metadata": {
    "id": "541f78b2-8e73-4d78-92fd-69d55e5c79e9"
   },
   "source": [
    "### Start a training job"
   ]
  },
  {
   "cell_type": "code",
   "execution_count": 31,
   "id": "1b87ce9b",
   "metadata": {
    "id": "0ed76f4f-6de1-4f4d-96af-290a6582b206"
   },
   "outputs": [
    {
     "name": "stderr",
     "output_type": "stream",
     "text": [
      "Defaulting to the only supported framework/algorithm version: 1. Ignoring framework/algorithm version: 1.\n",
      "Defaulting to the only supported framework/algorithm version: 1. Ignoring framework/algorithm version: 1.\n"
     ]
    },
    {
     "name": "stdout",
     "output_type": "stream",
     "text": [
      "2022-05-11 06:47:38 Starting - Starting the training job...\n",
      "2022-05-11 06:48:03 Starting - Preparing the instances for trainingProfilerReport-1652251658: InProgress\n",
      ".........\n",
      "2022-05-11 06:49:27 Downloading - Downloading input data...\n",
      "2022-05-11 06:50:02 Training - Downloading the training image...\n",
      "2022-05-11 06:50:38 Training - Training image download completed. Training in progress..\u001b[34mDocker entrypoint called with argument(s): train\u001b[0m\n",
      "\u001b[34mRunning default environment configuration script\u001b[0m\n",
      "\u001b[34m[05/11/2022 06:50:45 INFO 140222784067392 integration.py:636] worker started\u001b[0m\n",
      "\u001b[34m[05/11/2022 06:50:45 INFO 140222784067392] Reading default configuration from /opt/amazon/lib/python3.7/site-packages/algorithm/resources/default-input.json: {'mini_batch_size': '1000', 'epochs': '15', 'feature_dim': 'auto', 'use_bias': 'true', 'binary_classifier_model_selection_criteria': 'accuracy', 'f_beta': '1.0', 'target_recall': '0.8', 'target_precision': '0.8', 'num_models': 'auto', 'num_calibration_samples': '10000000', 'init_method': 'uniform', 'init_scale': '0.07', 'init_sigma': '0.01', 'init_bias': '0.0', 'optimizer': 'auto', 'loss': 'auto', 'margin': '1.0', 'quantile': '0.5', 'loss_insensitivity': '0.01', 'huber_delta': '1.0', 'num_classes': '1', 'accuracy_top_k': '3', 'wd': 'auto', 'l1': 'auto', 'momentum': 'auto', 'learning_rate': 'auto', 'beta_1': 'auto', 'beta_2': 'auto', 'bias_lr_mult': 'auto', 'bias_wd_mult': 'auto', 'use_lr_scheduler': 'true', 'lr_scheduler_step': 'auto', 'lr_scheduler_factor': 'auto', 'lr_scheduler_minimum_lr': 'auto', 'positive_example_weight_mult': '1.0', 'balance_multiclass_weights': 'false', 'normalize_data': 'true', 'normalize_label': 'auto', 'unbias_data': 'auto', 'unbias_label': 'auto', 'num_point_for_scaler': '10000', '_kvstore': 'auto', '_num_gpus': 'auto', '_num_kv_servers': 'auto', '_log_level': 'info', '_tuning_objective_metric': '', 'early_stopping_patience': '3', 'early_stopping_tolerance': '0.001', '_enable_profiler': 'false'}\u001b[0m\n",
      "\u001b[34m[05/11/2022 06:50:45 INFO 140222784067392] Merging with provided configuration from /opt/ml/input/config/hyperparameters.json: {'balance_multiclass_weights': 'True', 'feature_dim': '2', 'mini_batch_size': '1000', 'num_classes': '7', 'predictor_type': 'multiclass_classifier'}\u001b[0m\n",
      "\u001b[34m[05/11/2022 06:50:45 INFO 140222784067392] Final configuration: {'mini_batch_size': '1000', 'epochs': '15', 'feature_dim': '2', 'use_bias': 'true', 'binary_classifier_model_selection_criteria': 'accuracy', 'f_beta': '1.0', 'target_recall': '0.8', 'target_precision': '0.8', 'num_models': 'auto', 'num_calibration_samples': '10000000', 'init_method': 'uniform', 'init_scale': '0.07', 'init_sigma': '0.01', 'init_bias': '0.0', 'optimizer': 'auto', 'loss': 'auto', 'margin': '1.0', 'quantile': '0.5', 'loss_insensitivity': '0.01', 'huber_delta': '1.0', 'num_classes': '7', 'accuracy_top_k': '3', 'wd': 'auto', 'l1': 'auto', 'momentum': 'auto', 'learning_rate': 'auto', 'beta_1': 'auto', 'beta_2': 'auto', 'bias_lr_mult': 'auto', 'bias_wd_mult': 'auto', 'use_lr_scheduler': 'true', 'lr_scheduler_step': 'auto', 'lr_scheduler_factor': 'auto', 'lr_scheduler_minimum_lr': 'auto', 'positive_example_weight_mult': '1.0', 'balance_multiclass_weights': 'True', 'normalize_data': 'true', 'normalize_label': 'auto', 'unbias_data': 'auto', 'unbias_label': 'auto', 'num_point_for_scaler': '10000', '_kvstore': 'auto', '_num_gpus': 'auto', '_num_kv_servers': 'auto', '_log_level': 'info', '_tuning_objective_metric': '', 'early_stopping_patience': '3', 'early_stopping_tolerance': '0.001', '_enable_profiler': 'false', 'predictor_type': 'multiclass_classifier'}\u001b[0m\n",
      "\u001b[34m[05/11/2022 06:50:45 WARNING 140222784067392] Loggers have already been setup.\u001b[0m\n",
      "\u001b[34mProcess 1 is a worker.\u001b[0m\n",
      "\u001b[34m[05/11/2022 06:50:45 INFO 140222784067392] Using default worker.\u001b[0m\n",
      "\u001b[34m[05/11/2022 06:50:45 INFO 140222784067392] Checkpoint loading and saving are disabled.\u001b[0m\n",
      "\u001b[34m[2022-05-11 06:50:45.963] [tensorio] [warning] TensorIO is already initialized; ignoring the initialization routine.\u001b[0m\n",
      "\u001b[34m[2022-05-11 06:50:45.964] [tensorio] [warning] TensorIO is already initialized; ignoring the initialization routine.\u001b[0m\n",
      "\u001b[34m[2022-05-11 06:50:45.993] [tensorio] [info] epoch_stats={\"data_pipeline\": \"/opt/ml/input/data/train\", \"epoch\": 0, \"duration\": 33, \"num_examples\": 1, \"num_bytes\": 52000}\u001b[0m\n",
      "\u001b[34m[05/11/2022 06:50:45 INFO 140222784067392] Create Store: local\u001b[0m\n",
      "\u001b[34m[2022-05-11 06:50:46.024] [tensorio] [info] epoch_stats={\"data_pipeline\": \"/opt/ml/input/data/train\", \"epoch\": 1, \"duration\": 29, \"num_examples\": 2, \"num_bytes\": 92352}\u001b[0m\n",
      "\u001b[34m[05/11/2022 06:50:46 INFO 140222784067392] Scaler algorithm parameters\n",
      " <algorithm.scaler.ScalerAlgorithmStable object at 0x7f87d0664ed0>\u001b[0m\n",
      "\u001b[34m[05/11/2022 06:50:46 INFO 140222784067392] Scaling model computed with parameters:\n",
      " {'stdev_label': None, 'stdev_weight': \u001b[0m\n",
      "\u001b[34m[8.0769736e-01 4.2531353e+03]\u001b[0m\n",
      "\u001b[34m<NDArray 2 @cpu(0)>, 'mean_label': None, 'mean_weight': \u001b[0m\n",
      "\u001b[34m[9.750000e-01 2.589306e+03]\u001b[0m\n",
      "\u001b[34m<NDArray 2 @cpu(0)>}\u001b[0m\n",
      "\u001b[34m[05/11/2022 06:50:46 INFO 140222784067392] nvidia-smi: took 0.032 seconds to run.\u001b[0m\n",
      "\u001b[34m[05/11/2022 06:50:46 INFO 140222784067392] nvidia-smi identified 0 GPUs.\u001b[0m\n",
      "\u001b[34m[05/11/2022 06:50:46 INFO 140222784067392] Number of GPUs being used: 0\u001b[0m\n",
      "\u001b[34m#metrics {\"StartTime\": 1652251846.1568348, \"EndTime\": 1652251846.1569011, \"Dimensions\": {\"Algorithm\": \"Linear Learner\", \"Host\": \"algo-1\", \"Operation\": \"training\", \"Meta\": \"init_train_data_iter\"}, \"Metrics\": {\"Total Records Seen\": {\"sum\": 2776.0, \"count\": 1, \"min\": 2776, \"max\": 2776}, \"Total Batches Seen\": {\"sum\": 3.0, \"count\": 1, \"min\": 3, \"max\": 3}, \"Max Records Seen Between Resets\": {\"sum\": 1776.0, \"count\": 1, \"min\": 1776, \"max\": 1776}, \"Max Batches Seen Between Resets\": {\"sum\": 2.0, \"count\": 1, \"min\": 2, \"max\": 2}, \"Reset Count\": {\"sum\": 2.0, \"count\": 1, \"min\": 2, \"max\": 2}, \"Number of Records Since Last Reset\": {\"sum\": 0.0, \"count\": 1, \"min\": 0, \"max\": 0}, \"Number of Batches Since Last Reset\": {\"sum\": 0.0, \"count\": 1, \"min\": 0, \"max\": 0}}}\u001b[0m\n",
      "\u001b[34m[2022-05-11 06:50:46.223] [tensorio] [info] epoch_stats={\"data_pipeline\": \"/opt/ml/input/data/train\", \"epoch\": 4, \"duration\": 66, \"num_examples\": 2, \"num_bytes\": 92352}\u001b[0m\n",
      "\u001b[34m#metrics {\"StartTime\": 1652251846.223526, \"EndTime\": 1652251846.2235923, \"Dimensions\": {\"Algorithm\": \"Linear Learner\", \"Host\": \"algo-1\", \"Operation\": \"training\", \"epoch\": 0, \"model\": 0}, \"Metrics\": {\"train_weighted_softmax_loss_objective\": {\"sum\": 2.027668701171875, \"count\": 1, \"min\": 2.027668701171875, \"max\": 2.027668701171875}}}\u001b[0m\n",
      "\u001b[34m#metrics {\"StartTime\": 1652251846.223704, \"EndTime\": 1652251846.2237265, \"Dimensions\": {\"Algorithm\": \"Linear Learner\", \"Host\": \"algo-1\", \"Operation\": \"training\", \"epoch\": 0, \"model\": 1}, \"Metrics\": {\"train_weighted_softmax_loss_objective\": {\"sum\": 2.067786376953125, \"count\": 1, \"min\": 2.067786376953125, \"max\": 2.067786376953125}}}\u001b[0m\n",
      "\u001b[34m#metrics {\"StartTime\": 1652251846.2237809, \"EndTime\": 1652251846.2238016, \"Dimensions\": {\"Algorithm\": \"Linear Learner\", \"Host\": \"algo-1\", \"Operation\": \"training\", \"epoch\": 0, \"model\": 2}, \"Metrics\": {\"train_weighted_softmax_loss_objective\": {\"sum\": 2.0339365234375, \"count\": 1, \"min\": 2.0339365234375, \"max\": 2.0339365234375}}}\u001b[0m\n",
      "\u001b[34m#metrics {\"StartTime\": 1652251846.2238562, \"EndTime\": 1652251846.2238731, \"Dimensions\": {\"Algorithm\": \"Linear Learner\", \"Host\": \"algo-1\", \"Operation\": \"training\", \"epoch\": 0, \"model\": 3}, \"Metrics\": {\"train_weighted_softmax_loss_objective\": {\"sum\": 2.0304508056640627, \"count\": 1, \"min\": 2.0304508056640627, \"max\": 2.0304508056640627}}}\u001b[0m\n",
      "\u001b[34m#metrics {\"StartTime\": 1652251846.2239282, \"EndTime\": 1652251846.2239447, \"Dimensions\": {\"Algorithm\": \"Linear Learner\", \"Host\": \"algo-1\", \"Operation\": \"training\", \"epoch\": 0, \"model\": 4}, \"Metrics\": {\"train_weighted_softmax_loss_objective\": {\"sum\": 2.055211181640625, \"count\": 1, \"min\": 2.055211181640625, \"max\": 2.055211181640625}}}\u001b[0m\n",
      "\u001b[34m#metrics {\"StartTime\": 1652251846.2239976, \"EndTime\": 1652251846.2240143, \"Dimensions\": {\"Algorithm\": \"Linear Learner\", \"Host\": \"algo-1\", \"Operation\": \"training\", \"epoch\": 0, \"model\": 5}, \"Metrics\": {\"train_weighted_softmax_loss_objective\": {\"sum\": 2.055789794921875, \"count\": 1, \"min\": 2.055789794921875, \"max\": 2.055789794921875}}}\u001b[0m\n",
      "\u001b[34m#metrics {\"StartTime\": 1652251846.2240684, \"EndTime\": 1652251846.2240858, \"Dimensions\": {\"Algorithm\": \"Linear Learner\", \"Host\": \"algo-1\", \"Operation\": \"training\", \"epoch\": 0, \"model\": 6}, \"Metrics\": {\"train_weighted_softmax_loss_objective\": {\"sum\": 2.052038818359375, \"count\": 1, \"min\": 2.052038818359375, \"max\": 2.052038818359375}}}\u001b[0m\n",
      "\u001b[34m#metrics {\"StartTime\": 1652251846.2241411, \"EndTime\": 1652251846.2241573, \"Dimensions\": {\"Algorithm\": \"Linear Learner\", \"Host\": \"algo-1\", \"Operation\": \"training\", \"epoch\": 0, \"model\": 7}, \"Metrics\": {\"train_weighted_softmax_loss_objective\": {\"sum\": 2.0334083251953126, \"count\": 1, \"min\": 2.0334083251953126, \"max\": 2.0334083251953126}}}\u001b[0m\n",
      "\u001b[34m#metrics {\"StartTime\": 1652251846.224209, \"EndTime\": 1652251846.2242258, \"Dimensions\": {\"Algorithm\": \"Linear Learner\", \"Host\": \"algo-1\", \"Operation\": \"training\", \"epoch\": 0, \"model\": 8}, \"Metrics\": {\"train_weighted_softmax_loss_objective\": {\"sum\": 2.03584716796875, \"count\": 1, \"min\": 2.03584716796875, \"max\": 2.03584716796875}}}\u001b[0m\n",
      "\u001b[34m#metrics {\"StartTime\": 1652251846.2242773, \"EndTime\": 1652251846.2242932, \"Dimensions\": {\"Algorithm\": \"Linear Learner\", \"Host\": \"algo-1\", \"Operation\": \"training\", \"epoch\": 0, \"model\": 9}, \"Metrics\": {\"train_weighted_softmax_loss_objective\": {\"sum\": 1.9891097412109375, \"count\": 1, \"min\": 1.9891097412109375, \"max\": 1.9891097412109375}}}\u001b[0m\n",
      "\u001b[34m[05/11/2022 06:50:46 INFO 140222784067392] #quality_metric: host=algo-1, epoch=0, train weighted_softmax_loss_objective <loss>=2.027668701171875\u001b[0m\n",
      "\u001b[34m[2022-05-11 06:50:46.235] [tensorio] [info] epoch_stats={\"data_pipeline\": \"/opt/ml/input/data/validation\", \"epoch\": 0, \"duration\": 271, \"num_examples\": 1, \"num_bytes\": 11544}\u001b[0m\n",
      "\u001b[34m[2022-05-11 06:50:46.248] [tensorio] [info] epoch_stats={\"data_pipeline\": \"/opt/ml/input/data/validation\", \"epoch\": 2, \"duration\": 13, \"num_examples\": 1, \"num_bytes\": 11544}\u001b[0m\n",
      "\u001b[34m#metrics {\"StartTime\": 1652251846.2530453, \"EndTime\": 1652251846.2530878, \"Dimensions\": {\"Algorithm\": \"Linear Learner\", \"Host\": \"algo-1\", \"Operation\": \"training\", \"epoch\": 0, \"model\": 0}, \"Metrics\": {\"validation_weighted_softmax_loss_objective\": {\"sum\": 1.7897661913622607, \"count\": 1, \"min\": 1.7897661913622607, \"max\": 1.7897661913622607}}}\u001b[0m\n",
      "\u001b[34m#metrics {\"StartTime\": 1652251846.253233, \"EndTime\": 1652251846.253259, \"Dimensions\": {\"Algorithm\": \"Linear Learner\", \"Host\": \"algo-1\", \"Operation\": \"training\", \"epoch\": 0, \"model\": 1}, \"Metrics\": {\"validation_weighted_softmax_loss_objective\": {\"sum\": 1.7861101305162586, \"count\": 1, \"min\": 1.7861101305162586, \"max\": 1.7861101305162586}}}\u001b[0m\n",
      "\u001b[34m#metrics {\"StartTime\": 1652251846.2533221, \"EndTime\": 1652251846.2533405, \"Dimensions\": {\"Algorithm\": \"Linear Learner\", \"Host\": \"algo-1\", \"Operation\": \"training\", \"epoch\": 0, \"model\": 2}, \"Metrics\": {\"validation_weighted_softmax_loss_objective\": {\"sum\": 1.526893409522804, \"count\": 1, \"min\": 1.526893409522804, \"max\": 1.526893409522804}}}\u001b[0m\n",
      "\u001b[34m#metrics {\"StartTime\": 1652251846.2533991, \"EndTime\": 1652251846.253417, \"Dimensions\": {\"Algorithm\": \"Linear Learner\", \"Host\": \"algo-1\", \"Operation\": \"training\", \"epoch\": 0, \"model\": 3}, \"Metrics\": {\"validation_weighted_softmax_loss_objective\": {\"sum\": 1.6820119222005208, \"count\": 1, \"min\": 1.6820119222005208, \"max\": 1.6820119222005208}}}\u001b[0m\n",
      "\u001b[34m#metrics {\"StartTime\": 1652251846.2534704, \"EndTime\": 1652251846.2534878, \"Dimensions\": {\"Algorithm\": \"Linear Learner\", \"Host\": \"algo-1\", \"Operation\": \"training\", \"epoch\": 0, \"model\": 4}, \"Metrics\": {\"validation_weighted_softmax_loss_objective\": {\"sum\": 1.7760174725506757, \"count\": 1, \"min\": 1.7760174725506757, \"max\": 1.7760174725506757}}}\u001b[0m\n",
      "\u001b[34m#metrics {\"StartTime\": 1652251846.2535415, \"EndTime\": 1652251846.253558, \"Dimensions\": {\"Algorithm\": \"Linear Learner\", \"Host\": \"algo-1\", \"Operation\": \"training\", \"epoch\": 0, \"model\": 5}, \"Metrics\": {\"validation_weighted_softmax_loss_objective\": {\"sum\": 1.957434439444327, \"count\": 1, \"min\": 1.957434439444327, \"max\": 1.957434439444327}}}\u001b[0m\n",
      "\u001b[34m#metrics {\"StartTime\": 1652251846.2536092, \"EndTime\": 1652251846.2536263, \"Dimensions\": {\"Algorithm\": \"Linear Learner\", \"Host\": \"algo-1\", \"Operation\": \"training\", \"epoch\": 0, \"model\": 6}, \"Metrics\": {\"validation_weighted_softmax_loss_objective\": {\"sum\": 1.6488566355662302, \"count\": 1, \"min\": 1.6488566355662302, \"max\": 1.6488566355662302}}}\u001b[0m\n",
      "\u001b[34m#metrics {\"StartTime\": 1652251846.253678, \"EndTime\": 1652251846.2536945, \"Dimensions\": {\"Algorithm\": \"Linear Learner\", \"Host\": \"algo-1\", \"Operation\": \"training\", \"epoch\": 0, \"model\": 7}, \"Metrics\": {\"validation_weighted_softmax_loss_objective\": {\"sum\": 1.5249819368929476, \"count\": 1, \"min\": 1.5249819368929476, \"max\": 1.5249819368929476}}}\u001b[0m\n",
      "\u001b[34m#metrics {\"StartTime\": 1652251846.2537463, \"EndTime\": 1652251846.253762, \"Dimensions\": {\"Algorithm\": \"Linear Learner\", \"Host\": \"algo-1\", \"Operation\": \"training\", \"epoch\": 0, \"model\": 8}, \"Metrics\": {\"validation_weighted_softmax_loss_objective\": {\"sum\": 1.2239961366395693, \"count\": 1, \"min\": 1.2239961366395693, \"max\": 1.2239961366395693}}}\u001b[0m\n",
      "\u001b[34m#metrics {\"StartTime\": 1652251846.2538178, \"EndTime\": 1652251846.2538347, \"Dimensions\": {\"Algorithm\": \"Linear Learner\", \"Host\": \"algo-1\", \"Operation\": \"training\", \"epoch\": 0, \"model\": 9}, \"Metrics\": {\"validation_weighted_softmax_loss_objective\": {\"sum\": 0.871379955394848, \"count\": 1, \"min\": 0.871379955394848, \"max\": 0.871379955394848}}}\u001b[0m\n",
      "\u001b[34m[05/11/2022 06:50:46 INFO 140222784067392] #quality_metric: host=algo-1, epoch=0, validation weighted_softmax_loss_objective <loss>=1.7897661913622607\u001b[0m\n",
      "\u001b[34m[05/11/2022 06:50:46 INFO 140222784067392] #early_stopping_criteria_metric: host=algo-1, epoch=0, criteria=weighted_softmax_loss_objective, value=0.871379955394848\u001b[0m\n",
      "\u001b[34m[05/11/2022 06:50:46 INFO 140222784067392] Epoch 0: Loss improved. Updating best model\u001b[0m\n",
      "\u001b[34m[05/11/2022 06:50:46 INFO 140222784067392] Saving model for epoch: 0\u001b[0m\n",
      "\u001b[34m[05/11/2022 06:50:46 INFO 140222784067392] Saved checkpoint to \"/tmp/tmp47ocqc02/mx-mod-0000.params\"\u001b[0m\n",
      "\u001b[34m[05/11/2022 06:50:46 INFO 140222784067392] #progress_metric: host=algo-1, completed 6.666666666666667 % of epochs\u001b[0m\n",
      "\u001b[34m#metrics {\"StartTime\": 1652251846.1573045, \"EndTime\": 1652251846.2666535, \"Dimensions\": {\"Algorithm\": \"Linear Learner\", \"Host\": \"algo-1\", \"Operation\": \"training\", \"epoch\": 0, \"Meta\": \"training_data_iter\"}, \"Metrics\": {\"Total Records Seen\": {\"sum\": 4552.0, \"count\": 1, \"min\": 4552, \"max\": 4552}, \"Total Batches Seen\": {\"sum\": 5.0, \"count\": 1, \"min\": 5, \"max\": 5}, \"Max Records Seen Between Resets\": {\"sum\": 1776.0, \"count\": 1, \"min\": 1776, \"max\": 1776}, \"Max Batches Seen Between Resets\": {\"sum\": 2.0, \"count\": 1, \"min\": 2, \"max\": 2}, \"Reset Count\": {\"sum\": 3.0, \"count\": 1, \"min\": 3, \"max\": 3}, \"Number of Records Since Last Reset\": {\"sum\": 1776.0, \"count\": 1, \"min\": 1776, \"max\": 1776}, \"Number of Batches Since Last Reset\": {\"sum\": 2.0, \"count\": 1, \"min\": 2, \"max\": 2}}}\u001b[0m\n",
      "\u001b[34m[05/11/2022 06:50:46 INFO 140222784067392] #throughput_metric: host=algo-1, train throughput=16213.045824355208 records/second\u001b[0m\n",
      "\u001b[34m[2022-05-11 06:50:46.310] [tensorio] [info] epoch_stats={\"data_pipeline\": \"/opt/ml/input/data/train\", \"epoch\": 6, \"duration\": 42, \"num_examples\": 2, \"num_bytes\": 92352}\u001b[0m\n",
      "\u001b[34m#metrics {\"StartTime\": 1652251846.3102415, \"EndTime\": 1652251846.3103135, \"Dimensions\": {\"Algorithm\": \"Linear Learner\", \"Host\": \"algo-1\", \"Operation\": \"training\", \"epoch\": 1, \"model\": 0}, \"Metrics\": {\"train_weighted_softmax_loss_objective\": {\"sum\": 1.7908480224609375, \"count\": 1, \"min\": 1.7908480224609375, \"max\": 1.7908480224609375}}}\u001b[0m\n",
      "\u001b[34m#metrics {\"StartTime\": 1652251846.3104196, \"EndTime\": 1652251846.3104415, \"Dimensions\": {\"Algorithm\": \"Linear Learner\", \"Host\": \"algo-1\", \"Operation\": \"training\", \"epoch\": 1, \"model\": 1}, \"Metrics\": {\"train_weighted_softmax_loss_objective\": {\"sum\": 1.7834603271484375, \"count\": 1, \"min\": 1.7834603271484375, \"max\": 1.7834603271484375}}}\u001b[0m\n",
      "\u001b[34m#metrics {\"StartTime\": 1652251846.3104954, \"EndTime\": 1652251846.3105133, \"Dimensions\": {\"Algorithm\": \"Linear Learner\", \"Host\": \"algo-1\", \"Operation\": \"training\", \"epoch\": 1, \"model\": 2}, \"Metrics\": {\"train_weighted_softmax_loss_objective\": {\"sum\": 1.5265972900390625, \"count\": 1, \"min\": 1.5265972900390625, \"max\": 1.5265972900390625}}}\u001b[0m\n",
      "\u001b[34m#metrics {\"StartTime\": 1652251846.3105628, \"EndTime\": 1652251846.3105779, \"Dimensions\": {\"Algorithm\": \"Linear Learner\", \"Host\": \"algo-1\", \"Operation\": \"training\", \"epoch\": 1, \"model\": 3}, \"Metrics\": {\"train_weighted_softmax_loss_objective\": {\"sum\": 1.6843116455078124, \"count\": 1, \"min\": 1.6843116455078124, \"max\": 1.6843116455078124}}}\u001b[0m\n",
      "\u001b[34m#metrics {\"StartTime\": 1652251846.3106234, \"EndTime\": 1652251846.3106391, \"Dimensions\": {\"Algorithm\": \"Linear Learner\", \"Host\": \"algo-1\", \"Operation\": \"training\", \"epoch\": 1, \"model\": 4}, \"Metrics\": {\"train_weighted_softmax_loss_objective\": {\"sum\": 1.774414306640625, \"count\": 1, \"min\": 1.774414306640625, \"max\": 1.774414306640625}}}\u001b[0m\n",
      "\u001b[34m#metrics {\"StartTime\": 1652251846.310693, \"EndTime\": 1652251846.3107107, \"Dimensions\": {\"Algorithm\": \"Linear Learner\", \"Host\": \"algo-1\", \"Operation\": \"training\", \"epoch\": 1, \"model\": 5}, \"Metrics\": {\"train_weighted_softmax_loss_objective\": {\"sum\": 1.95706982421875, \"count\": 1, \"min\": 1.95706982421875, \"max\": 1.95706982421875}}}\u001b[0m\n",
      "\u001b[34m#metrics {\"StartTime\": 1652251846.3107593, \"EndTime\": 1652251846.3107743, \"Dimensions\": {\"Algorithm\": \"Linear Learner\", \"Host\": \"algo-1\", \"Operation\": \"training\", \"epoch\": 1, \"model\": 6}, \"Metrics\": {\"train_weighted_softmax_loss_objective\": {\"sum\": 1.6483350830078125, \"count\": 1, \"min\": 1.6483350830078125, \"max\": 1.6483350830078125}}}\u001b[0m\n",
      "\u001b[34m#metrics {\"StartTime\": 1652251846.3108249, \"EndTime\": 1652251846.310841, \"Dimensions\": {\"Algorithm\": \"Linear Learner\", \"Host\": \"algo-1\", \"Operation\": \"training\", \"epoch\": 1, \"model\": 7}, \"Metrics\": {\"train_weighted_softmax_loss_objective\": {\"sum\": 1.5287398681640625, \"count\": 1, \"min\": 1.5287398681640625, \"max\": 1.5287398681640625}}}\u001b[0m\n",
      "\u001b[34m#metrics {\"StartTime\": 1652251846.3108916, \"EndTime\": 1652251846.310908, \"Dimensions\": {\"Algorithm\": \"Linear Learner\", \"Host\": \"algo-1\", \"Operation\": \"training\", \"epoch\": 1, \"model\": 8}, \"Metrics\": {\"train_weighted_softmax_loss_objective\": {\"sum\": 1.2301221923828125, \"count\": 1, \"min\": 1.2301221923828125, \"max\": 1.2301221923828125}}}\u001b[0m\n",
      "\u001b[34m#metrics {\"StartTime\": 1652251846.3109612, \"EndTime\": 1652251846.3109763, \"Dimensions\": {\"Algorithm\": \"Linear Learner\", \"Host\": \"algo-1\", \"Operation\": \"training\", \"epoch\": 1, \"model\": 9}, \"Metrics\": {\"train_weighted_softmax_loss_objective\": {\"sum\": 0.8819341430664063, \"count\": 1, \"min\": 0.8819341430664063, \"max\": 0.8819341430664063}}}\u001b[0m\n",
      "\u001b[34m[05/11/2022 06:50:46 INFO 140222784067392] #quality_metric: host=algo-1, epoch=1, train weighted_softmax_loss_objective <loss>=1.7908480224609375\u001b[0m\n",
      "\u001b[34m[2022-05-11 06:50:46.334] [tensorio] [info] epoch_stats={\"data_pipeline\": \"/opt/ml/input/data/validation\", \"epoch\": 5, \"duration\": 11, \"num_examples\": 1, \"num_bytes\": 11544}\u001b[0m\n",
      "\u001b[34m#metrics {\"StartTime\": 1652251846.3390377, \"EndTime\": 1652251846.3390796, \"Dimensions\": {\"Algorithm\": \"Linear Learner\", \"Host\": \"algo-1\", \"Operation\": \"training\", \"epoch\": 1, \"model\": 0}, \"Metrics\": {\"validation_weighted_softmax_loss_objective\": {\"sum\": 1.595420906135628, \"count\": 1, \"min\": 1.595420906135628, \"max\": 1.595420906135628}}}\u001b[0m\n",
      "\u001b[34m#metrics {\"StartTime\": 1652251846.339163, \"EndTime\": 1652251846.3391802, \"Dimensions\": {\"Algorithm\": \"Linear Learner\", \"Host\": \"algo-1\", \"Operation\": \"training\", \"epoch\": 1, \"model\": 1}, \"Metrics\": {\"validation_weighted_softmax_loss_objective\": {\"sum\": 1.5644414403417088, \"count\": 1, \"min\": 1.5644414403417088, \"max\": 1.5644414403417088}}}\u001b[0m\n",
      "\u001b[34m#metrics {\"StartTime\": 1652251846.3392415, \"EndTime\": 1652251846.3392599, \"Dimensions\": {\"Algorithm\": \"Linear Learner\", \"Host\": \"algo-1\", \"Operation\": \"training\", \"epoch\": 1, \"model\": 2}, \"Metrics\": {\"validation_weighted_softmax_loss_objective\": {\"sum\": 1.2448553136877112, \"count\": 1, \"min\": 1.2448553136877112, \"max\": 1.2448553136877112}}}\u001b[0m\n",
      "\u001b[34m#metrics {\"StartTime\": 1652251846.3393111, \"EndTime\": 1652251846.3393292, \"Dimensions\": {\"Algorithm\": \"Linear Learner\", \"Host\": \"algo-1\", \"Operation\": \"training\", \"epoch\": 1, \"model\": 3}, \"Metrics\": {\"validation_weighted_softmax_loss_objective\": {\"sum\": 1.4341499397346564, \"count\": 1, \"min\": 1.4341499397346564, \"max\": 1.4341499397346564}}}\u001b[0m\n",
      "\u001b[34m#metrics {\"StartTime\": 1652251846.3393717, \"EndTime\": 1652251846.3393872, \"Dimensions\": {\"Algorithm\": \"Linear Learner\", \"Host\": \"algo-1\", \"Operation\": \"training\", \"epoch\": 1, \"model\": 4}, \"Metrics\": {\"validation_weighted_softmax_loss_objective\": {\"sum\": 1.5564201286247186, \"count\": 1, \"min\": 1.5564201286247186, \"max\": 1.5564201286247186}}}\u001b[0m\n",
      "\u001b[34m#metrics {\"StartTime\": 1652251846.3394384, \"EndTime\": 1652251846.3394547, \"Dimensions\": {\"Algorithm\": \"Linear Learner\", \"Host\": \"algo-1\", \"Operation\": \"training\", \"epoch\": 1, \"model\": 5}, \"Metrics\": {\"validation_weighted_softmax_loss_objective\": {\"sum\": 1.8879955394847974, \"count\": 1, \"min\": 1.8879955394847974, \"max\": 1.8879955394847974}}}\u001b[0m\n",
      "\u001b[34m#metrics {\"StartTime\": 1652251846.33951, \"EndTime\": 1652251846.3395271, \"Dimensions\": {\"Algorithm\": \"Linear Learner\", \"Host\": \"algo-1\", \"Operation\": \"training\", \"epoch\": 1, \"model\": 6}, \"Metrics\": {\"validation_weighted_softmax_loss_objective\": {\"sum\": 1.3817776516751126, \"count\": 1, \"min\": 1.3817776516751126, \"max\": 1.3817776516751126}}}\u001b[0m\n",
      "\u001b[34m#metrics {\"StartTime\": 1652251846.339588, \"EndTime\": 1652251846.339605, \"Dimensions\": {\"Algorithm\": \"Linear Learner\", \"Host\": \"algo-1\", \"Operation\": \"training\", \"epoch\": 1, \"model\": 7}, \"Metrics\": {\"validation_weighted_softmax_loss_objective\": {\"sum\": 1.3454067470791105, \"count\": 1, \"min\": 1.3454067470791105, \"max\": 1.3454067470791105}}}\u001b[0m\n",
      "\u001b[34m#metrics {\"StartTime\": 1652251846.3396583, \"EndTime\": 1652251846.339675, \"Dimensions\": {\"Algorithm\": \"Linear Learner\", \"Host\": \"algo-1\", \"Operation\": \"training\", \"epoch\": 1, \"model\": 8}, \"Metrics\": {\"validation_weighted_softmax_loss_objective\": {\"sum\": 1.016974234366202, \"count\": 1, \"min\": 1.016974234366202, \"max\": 1.016974234366202}}}\u001b[0m\n",
      "\u001b[34m#metrics {\"StartTime\": 1652251846.3397274, \"EndTime\": 1652251846.3397458, \"Dimensions\": {\"Algorithm\": \"Linear Learner\", \"Host\": \"algo-1\", \"Operation\": \"training\", \"epoch\": 1, \"model\": 9}, \"Metrics\": {\"validation_weighted_softmax_loss_objective\": {\"sum\": 0.8196464744774071, \"count\": 1, \"min\": 0.8196464744774071, \"max\": 0.8196464744774071}}}\u001b[0m\n",
      "\u001b[34m[05/11/2022 06:50:46 INFO 140222784067392] #quality_metric: host=algo-1, epoch=1, validation weighted_softmax_loss_objective <loss>=1.595420906135628\u001b[0m\n",
      "\u001b[34m[05/11/2022 06:50:46 INFO 140222784067392] #early_stopping_criteria_metric: host=algo-1, epoch=1, criteria=weighted_softmax_loss_objective, value=0.8196464744774071\u001b[0m\n",
      "\u001b[34m[05/11/2022 06:50:46 INFO 140222784067392] Epoch 1: Loss improved. Updating best model\u001b[0m\n",
      "\u001b[34m[05/11/2022 06:50:46 INFO 140222784067392] Saving model for epoch: 1\u001b[0m\n",
      "\u001b[34m[05/11/2022 06:50:46 INFO 140222784067392] Saved checkpoint to \"/tmp/tmpivqfnw_b/mx-mod-0000.params\"\u001b[0m\n",
      "\u001b[34m[05/11/2022 06:50:46 INFO 140222784067392] #progress_metric: host=algo-1, completed 13.333333333333334 % of epochs\u001b[0m\n",
      "\u001b[34m#metrics {\"StartTime\": 1652251846.2671075, \"EndTime\": 1652251846.3512995, \"Dimensions\": {\"Algorithm\": \"Linear Learner\", \"Host\": \"algo-1\", \"Operation\": \"training\", \"epoch\": 1, \"Meta\": \"training_data_iter\"}, \"Metrics\": {\"Total Records Seen\": {\"sum\": 6328.0, \"count\": 1, \"min\": 6328, \"max\": 6328}, \"Total Batches Seen\": {\"sum\": 7.0, \"count\": 1, \"min\": 7, \"max\": 7}, \"Max Records Seen Between Resets\": {\"sum\": 1776.0, \"count\": 1, \"min\": 1776, \"max\": 1776}, \"Max Batches Seen Between Resets\": {\"sum\": 2.0, \"count\": 1, \"min\": 2, \"max\": 2}, \"Reset Count\": {\"sum\": 4.0, \"count\": 1, \"min\": 4, \"max\": 4}, \"Number of Records Since Last Reset\": {\"sum\": 1776.0, \"count\": 1, \"min\": 1776, \"max\": 1776}, \"Number of Batches Since Last Reset\": {\"sum\": 2.0, \"count\": 1, \"min\": 2, \"max\": 2}}}\u001b[0m\n",
      "\u001b[34m[05/11/2022 06:50:46 INFO 140222784067392] #throughput_metric: host=algo-1, train throughput=21051.29206961063 records/second\u001b[0m\n",
      "\u001b[34m[2022-05-11 06:50:46.378] [tensorio] [info] epoch_stats={\"data_pipeline\": \"/opt/ml/input/data/train\", \"epoch\": 8, \"duration\": 26, \"num_examples\": 2, \"num_bytes\": 92352}\u001b[0m\n",
      "\u001b[34m#metrics {\"StartTime\": 1652251846.3784807, \"EndTime\": 1652251846.3785675, \"Dimensions\": {\"Algorithm\": \"Linear Learner\", \"Host\": \"algo-1\", \"Operation\": \"training\", \"epoch\": 2, \"model\": 0}, \"Metrics\": {\"train_weighted_softmax_loss_objective\": {\"sum\": 1.5978084716796874, \"count\": 1, \"min\": 1.5978084716796874, \"max\": 1.5978084716796874}}}\u001b[0m\n",
      "\u001b[34m#metrics {\"StartTime\": 1652251846.3786871, \"EndTime\": 1652251846.378711, \"Dimensions\": {\"Algorithm\": \"Linear Learner\", \"Host\": \"algo-1\", \"Operation\": \"training\", \"epoch\": 2, \"model\": 1}, \"Metrics\": {\"train_weighted_softmax_loss_objective\": {\"sum\": 1.563816162109375, \"count\": 1, \"min\": 1.563816162109375, \"max\": 1.563816162109375}}}\u001b[0m\n",
      "\u001b[34m#metrics {\"StartTime\": 1652251846.3787649, \"EndTime\": 1652251846.378782, \"Dimensions\": {\"Algorithm\": \"Linear Learner\", \"Host\": \"algo-1\", \"Operation\": \"training\", \"epoch\": 2, \"model\": 2}, \"Metrics\": {\"train_weighted_softmax_loss_objective\": {\"sum\": 1.2484361572265625, \"count\": 1, \"min\": 1.2484361572265625, \"max\": 1.2484361572265625}}}\u001b[0m\n",
      "\u001b[34m#metrics {\"StartTime\": 1652251846.3788304, \"EndTime\": 1652251846.3788471, \"Dimensions\": {\"Algorithm\": \"Linear Learner\", \"Host\": \"algo-1\", \"Operation\": \"training\", \"epoch\": 2, \"model\": 3}, \"Metrics\": {\"train_weighted_softmax_loss_objective\": {\"sum\": 1.43797900390625, \"count\": 1, \"min\": 1.43797900390625, \"max\": 1.43797900390625}}}\u001b[0m\n",
      "\u001b[34m#metrics {\"StartTime\": 1652251846.3789036, \"EndTime\": 1652251846.3789196, \"Dimensions\": {\"Algorithm\": \"Linear Learner\", \"Host\": \"algo-1\", \"Operation\": \"training\", \"epoch\": 2, \"model\": 4}, \"Metrics\": {\"train_weighted_softmax_loss_objective\": {\"sum\": 1.5563548583984375, \"count\": 1, \"min\": 1.5563548583984375, \"max\": 1.5563548583984375}}}\u001b[0m\n",
      "\u001b[34m#metrics {\"StartTime\": 1652251846.3789725, \"EndTime\": 1652251846.378989, \"Dimensions\": {\"Algorithm\": \"Linear Learner\", \"Host\": \"algo-1\", \"Operation\": \"training\", \"epoch\": 2, \"model\": 5}, \"Metrics\": {\"train_weighted_softmax_loss_objective\": {\"sum\": 1.889740478515625, \"count\": 1, \"min\": 1.889740478515625, \"max\": 1.889740478515625}}}\u001b[0m\n",
      "\u001b[34m#metrics {\"StartTime\": 1652251846.379043, \"EndTime\": 1652251846.3790593, \"Dimensions\": {\"Algorithm\": \"Linear Learner\", \"Host\": \"algo-1\", \"Operation\": \"training\", \"epoch\": 2, \"model\": 6}, \"Metrics\": {\"train_weighted_softmax_loss_objective\": {\"sum\": 1.3839354248046876, \"count\": 1, \"min\": 1.3839354248046876, \"max\": 1.3839354248046876}}}\u001b[0m\n",
      "\u001b[34m#metrics {\"StartTime\": 1652251846.3791108, \"EndTime\": 1652251846.3791268, \"Dimensions\": {\"Algorithm\": \"Linear Learner\", \"Host\": \"algo-1\", \"Operation\": \"training\", \"epoch\": 2, \"model\": 7}, \"Metrics\": {\"train_weighted_softmax_loss_objective\": {\"sum\": 1.3497686767578125, \"count\": 1, \"min\": 1.3497686767578125, \"max\": 1.3497686767578125}}}\u001b[0m\n",
      "\u001b[34m#metrics {\"StartTime\": 1652251846.3791854, \"EndTime\": 1652251846.3792026, \"Dimensions\": {\"Algorithm\": \"Linear Learner\", \"Host\": \"algo-1\", \"Operation\": \"training\", \"epoch\": 2, \"model\": 8}, \"Metrics\": {\"train_weighted_softmax_loss_objective\": {\"sum\": 1.0237388305664064, \"count\": 1, \"min\": 1.0237388305664064, \"max\": 1.0237388305664064}}}\u001b[0m\n",
      "\u001b[34m#metrics {\"StartTime\": 1652251846.3792584, \"EndTime\": 1652251846.379274, \"Dimensions\": {\"Algorithm\": \"Linear Learner\", \"Host\": \"algo-1\", \"Operation\": \"training\", \"epoch\": 2, \"model\": 9}, \"Metrics\": {\"train_weighted_softmax_loss_objective\": {\"sum\": 0.8388816528320312, \"count\": 1, \"min\": 0.8388816528320312, \"max\": 0.8388816528320312}}}\u001b[0m\n",
      "\u001b[34m[05/11/2022 06:50:46 INFO 140222784067392] #quality_metric: host=algo-1, epoch=2, train weighted_softmax_loss_objective <loss>=1.5978084716796874\u001b[0m\n",
      "\u001b[34m[2022-05-11 06:50:46.420] [tensorio] [info] epoch_stats={\"data_pipeline\": \"/opt/ml/input/data/validation\", \"epoch\": 8, \"duration\": 28, \"num_examples\": 1, \"num_bytes\": 11544}\u001b[0m\n",
      "\u001b[34m#metrics {\"StartTime\": 1652251846.4259603, \"EndTime\": 1652251846.4260314, \"Dimensions\": {\"Algorithm\": \"Linear Learner\", \"Host\": \"algo-1\", \"Operation\": \"training\", \"epoch\": 2, \"model\": 0}, \"Metrics\": {\"validation_weighted_softmax_loss_objective\": {\"sum\": 1.4426967861416105, \"count\": 1, \"min\": 1.4426967861416105, \"max\": 1.4426967861416105}}}\u001b[0m\n",
      "\u001b[34m#metrics {\"StartTime\": 1652251846.4261644, \"EndTime\": 1652251846.426192, \"Dimensions\": {\"Algorithm\": \"Linear Learner\", \"Host\": \"algo-1\", \"Operation\": \"training\", \"epoch\": 2, \"model\": 1}, \"Metrics\": {\"validation_weighted_softmax_loss_objective\": {\"sum\": 1.4014852712820243, \"count\": 1, \"min\": 1.4014852712820243, \"max\": 1.4014852712820243}}}\u001b[0m\n",
      "\u001b[34m#metrics {\"StartTime\": 1652251846.4262583, \"EndTime\": 1652251846.4262779, \"Dimensions\": {\"Algorithm\": \"Linear Learner\", \"Host\": \"algo-1\", \"Operation\": \"training\", \"epoch\": 2, \"model\": 2}, \"Metrics\": {\"validation_weighted_softmax_loss_objective\": {\"sum\": 1.1026258039044905, \"count\": 1, \"min\": 1.1026258039044905, \"max\": 1.1026258039044905}}}\u001b[0m\n",
      "\u001b[34m#metrics {\"StartTime\": 1652251846.4263377, \"EndTime\": 1652251846.426357, \"Dimensions\": {\"Algorithm\": \"Linear Learner\", \"Host\": \"algo-1\", \"Operation\": \"training\", \"epoch\": 2, \"model\": 3}, \"Metrics\": {\"validation_weighted_softmax_loss_objective\": {\"sum\": 1.2696959349486205, \"count\": 1, \"min\": 1.2696959349486205, \"max\": 1.2696959349486205}}}\u001b[0m\n",
      "\u001b[34m#metrics {\"StartTime\": 1652251846.4264228, \"EndTime\": 1652251846.4264414, \"Dimensions\": {\"Algorithm\": \"Linear Learner\", \"Host\": \"algo-1\", \"Operation\": \"training\", \"epoch\": 2, \"model\": 4}, \"Metrics\": {\"validation_weighted_softmax_loss_objective\": {\"sum\": 1.3938287958368525, \"count\": 1, \"min\": 1.3938287958368525, \"max\": 1.3938287958368525}}}\u001b[0m\n",
      "\u001b[34m#metrics {\"StartTime\": 1652251846.4265063, \"EndTime\": 1652251846.426526, \"Dimensions\": {\"Algorithm\": \"Linear Learner\", \"Host\": \"algo-1\", \"Operation\": \"training\", \"epoch\": 2, \"model\": 5}, \"Metrics\": {\"validation_weighted_softmax_loss_objective\": {\"sum\": 1.832692189259572, \"count\": 1, \"min\": 1.832692189259572, \"max\": 1.832692189259572}}}\u001b[0m\n",
      "\u001b[34m#metrics {\"StartTime\": 1652251846.426599, \"EndTime\": 1652251846.4266193, \"Dimensions\": {\"Algorithm\": \"Linear Learner\", \"Host\": \"algo-1\", \"Operation\": \"training\", \"epoch\": 2, \"model\": 6}, \"Metrics\": {\"validation_weighted_softmax_loss_objective\": {\"sum\": 1.2213159509607263, \"count\": 1, \"min\": 1.2213159509607263, \"max\": 1.2213159509607263}}}\u001b[0m\n",
      "\u001b[34m#metrics {\"StartTime\": 1652251846.4266825, \"EndTime\": 1652251846.426701, \"Dimensions\": {\"Algorithm\": \"Linear Learner\", \"Host\": \"algo-1\", \"Operation\": \"training\", \"epoch\": 2, \"model\": 7}, \"Metrics\": {\"validation_weighted_softmax_loss_objective\": {\"sum\": 1.249350882865287, \"count\": 1, \"min\": 1.249350882865287, \"max\": 1.249350882865287}}}\u001b[0m\n",
      "\u001b[34m#metrics {\"StartTime\": 1652251846.4267592, \"EndTime\": 1652251846.4267771, \"Dimensions\": {\"Algorithm\": \"Linear Learner\", \"Host\": \"algo-1\", \"Operation\": \"training\", \"epoch\": 2, \"model\": 8}, \"Metrics\": {\"validation_weighted_softmax_loss_objective\": {\"sum\": 0.9355672200520834, \"count\": 1, \"min\": 0.9355672200520834, \"max\": 0.9355672200520834}}}\u001b[0m\n",
      "\u001b[34m#metrics {\"StartTime\": 1652251846.4268296, \"EndTime\": 1652251846.4268446, \"Dimensions\": {\"Algorithm\": \"Linear Learner\", \"Host\": \"algo-1\", \"Operation\": \"training\", \"epoch\": 2, \"model\": 9}, \"Metrics\": {\"validation_weighted_softmax_loss_objective\": {\"sum\": 1.4444478352864583, \"count\": 1, \"min\": 1.4444478352864583, \"max\": 1.4444478352864583}}}\u001b[0m\n",
      "\u001b[34m[05/11/2022 06:50:46 INFO 140222784067392] #quality_metric: host=algo-1, epoch=2, validation weighted_softmax_loss_objective <loss>=1.4426967861416105\u001b[0m\n",
      "\u001b[34m[05/11/2022 06:50:46 INFO 140222784067392] #early_stopping_criteria_metric: host=algo-1, epoch=2, criteria=weighted_softmax_loss_objective, value=0.9355672200520834\u001b[0m\n",
      "\u001b[34m[05/11/2022 06:50:46 INFO 140222784067392] Saving model for epoch: 2\u001b[0m\n",
      "\u001b[34m[05/11/2022 06:50:46 INFO 140222784067392] Saved checkpoint to \"/tmp/tmpn7z06ig8/mx-mod-0000.params\"\u001b[0m\n",
      "\u001b[34m[05/11/2022 06:50:46 INFO 140222784067392] #progress_metric: host=algo-1, completed 20.0 % of epochs\u001b[0m\n",
      "\u001b[34m#metrics {\"StartTime\": 1652251846.3516283, \"EndTime\": 1652251846.437413, \"Dimensions\": {\"Algorithm\": \"Linear Learner\", \"Host\": \"algo-1\", \"Operation\": \"training\", \"epoch\": 2, \"Meta\": \"training_data_iter\"}, \"Metrics\": {\"Total Records Seen\": {\"sum\": 8104.0, \"count\": 1, \"min\": 8104, \"max\": 8104}, \"Total Batches Seen\": {\"sum\": 9.0, \"count\": 1, \"min\": 9, \"max\": 9}, \"Max Records Seen Between Resets\": {\"sum\": 1776.0, \"count\": 1, \"min\": 1776, \"max\": 1776}, \"Max Batches Seen Between Resets\": {\"sum\": 2.0, \"count\": 1, \"min\": 2, \"max\": 2}, \"Reset Count\": {\"sum\": 5.0, \"count\": 1, \"min\": 5, \"max\": 5}, \"Number of Records Since Last Reset\": {\"sum\": 1776.0, \"count\": 1, \"min\": 1776, \"max\": 1776}, \"Number of Batches Since Last Reset\": {\"sum\": 2.0, \"count\": 1, \"min\": 2, \"max\": 2}}}\u001b[0m\n",
      "\u001b[34m[05/11/2022 06:50:46 INFO 140222784067392] #throughput_metric: host=algo-1, train throughput=20663.086207566117 records/second\u001b[0m\n",
      "\u001b[34m[2022-05-11 06:50:46.464] [tensorio] [info] epoch_stats={\"data_pipeline\": \"/opt/ml/input/data/train\", \"epoch\": 10, \"duration\": 26, \"num_examples\": 2, \"num_bytes\": 92352}\u001b[0m\n",
      "\u001b[34m#metrics {\"StartTime\": 1652251846.4642165, \"EndTime\": 1652251846.4643447, \"Dimensions\": {\"Algorithm\": \"Linear Learner\", \"Host\": \"algo-1\", \"Operation\": \"training\", \"epoch\": 3, \"model\": 0}, \"Metrics\": {\"train_weighted_softmax_loss_objective\": {\"sum\": 1.4461737060546875, \"count\": 1, \"min\": 1.4461737060546875, \"max\": 1.4461737060546875}}}\u001b[0m\n",
      "\u001b[34m#metrics {\"StartTime\": 1652251846.4644377, \"EndTime\": 1652251846.4644847, \"Dimensions\": {\"Algorithm\": \"Linear Learner\", \"Host\": \"algo-1\", \"Operation\": \"training\", \"epoch\": 3, \"model\": 1}, \"Metrics\": {\"train_weighted_softmax_loss_objective\": {\"sum\": 1.4024635009765625, \"count\": 1, \"min\": 1.4024635009765625, \"max\": 1.4024635009765625}}}\u001b[0m\n",
      "\u001b[34m#metrics {\"StartTime\": 1652251846.464545, \"EndTime\": 1652251846.4645586, \"Dimensions\": {\"Algorithm\": \"Linear Learner\", \"Host\": \"algo-1\", \"Operation\": \"training\", \"epoch\": 3, \"model\": 2}, \"Metrics\": {\"train_weighted_softmax_loss_objective\": {\"sum\": 1.1083917236328125, \"count\": 1, \"min\": 1.1083917236328125, \"max\": 1.1083917236328125}}}\u001b[0m\n",
      "\u001b[34m#metrics {\"StartTime\": 1652251846.4646015, \"EndTime\": 1652251846.464613, \"Dimensions\": {\"Algorithm\": \"Linear Learner\", \"Host\": \"algo-1\", \"Operation\": \"training\", \"epoch\": 3, \"model\": 3}, \"Metrics\": {\"train_weighted_softmax_loss_objective\": {\"sum\": 1.2744779052734374, \"count\": 1, \"min\": 1.2744779052734374, \"max\": 1.2744779052734374}}}\u001b[0m\n",
      "\u001b[34m#metrics {\"StartTime\": 1652251846.4646516, \"EndTime\": 1652251846.4646626, \"Dimensions\": {\"Algorithm\": \"Linear Learner\", \"Host\": \"algo-1\", \"Operation\": \"training\", \"epoch\": 3, \"model\": 4}, \"Metrics\": {\"train_weighted_softmax_loss_objective\": {\"sum\": 1.39513427734375, \"count\": 1, \"min\": 1.39513427734375, \"max\": 1.39513427734375}}}\u001b[0m\n",
      "\u001b[34m#metrics {\"StartTime\": 1652251846.4647002, \"EndTime\": 1652251846.464711, \"Dimensions\": {\"Algorithm\": \"Linear Learner\", \"Host\": \"algo-1\", \"Operation\": \"training\", \"epoch\": 3, \"model\": 5}, \"Metrics\": {\"train_weighted_softmax_loss_objective\": {\"sum\": 1.836098876953125, \"count\": 1, \"min\": 1.836098876953125, \"max\": 1.836098876953125}}}\u001b[0m\n",
      "\u001b[34m#metrics {\"StartTime\": 1652251846.464749, \"EndTime\": 1652251846.4647596, \"Dimensions\": {\"Algorithm\": \"Linear Learner\", \"Host\": \"algo-1\", \"Operation\": \"training\", \"epoch\": 3, \"model\": 6}, \"Metrics\": {\"train_weighted_softmax_loss_objective\": {\"sum\": 1.224393310546875, \"count\": 1, \"min\": 1.224393310546875, \"max\": 1.224393310546875}}}\u001b[0m\n",
      "\u001b[34m#metrics {\"StartTime\": 1652251846.4647968, \"EndTime\": 1652251846.4648073, \"Dimensions\": {\"Algorithm\": \"Linear Learner\", \"Host\": \"algo-1\", \"Operation\": \"training\", \"epoch\": 3, \"model\": 7}, \"Metrics\": {\"train_weighted_softmax_loss_objective\": {\"sum\": 1.2540926513671875, \"count\": 1, \"min\": 1.2540926513671875, \"max\": 1.2540926513671875}}}\u001b[0m\n",
      "\u001b[34m#metrics {\"StartTime\": 1652251846.4648519, \"EndTime\": 1652251846.4648635, \"Dimensions\": {\"Algorithm\": \"Linear Learner\", \"Host\": \"algo-1\", \"Operation\": \"training\", \"epoch\": 3, \"model\": 8}, \"Metrics\": {\"train_weighted_softmax_loss_objective\": {\"sum\": 0.942637451171875, \"count\": 1, \"min\": 0.942637451171875, \"max\": 0.942637451171875}}}\u001b[0m\n",
      "\u001b[34m#metrics {\"StartTime\": 1652251846.46491, \"EndTime\": 1652251846.4649212, \"Dimensions\": {\"Algorithm\": \"Linear Learner\", \"Host\": \"algo-1\", \"Operation\": \"training\", \"epoch\": 3, \"model\": 9}, \"Metrics\": {\"train_weighted_softmax_loss_objective\": {\"sum\": 1.4529228515625, \"count\": 1, \"min\": 1.4529228515625, \"max\": 1.4529228515625}}}\u001b[0m\n",
      "\u001b[34m[05/11/2022 06:50:46 INFO 140222784067392] #quality_metric: host=algo-1, epoch=3, train weighted_softmax_loss_objective <loss>=1.4461737060546875\u001b[0m\n",
      "\u001b[34m[2022-05-11 06:50:46.490] [tensorio] [info] epoch_stats={\"data_pipeline\": \"/opt/ml/input/data/validation\", \"epoch\": 11, \"duration\": 14, \"num_examples\": 1, \"num_bytes\": 11544}\u001b[0m\n",
      "\u001b[34m#metrics {\"StartTime\": 1652251846.495403, \"EndTime\": 1652251846.4978142, \"Dimensions\": {\"Algorithm\": \"Linear Learner\", \"Host\": \"algo-1\", \"Operation\": \"training\", \"epoch\": 3, \"model\": 0}, \"Metrics\": {\"validation_weighted_softmax_loss_objective\": {\"sum\": 1.3260234111064189, \"count\": 1, \"min\": 1.3260234111064189, \"max\": 1.3260234111064189}}}\u001b[0m\n",
      "\u001b[34m#metrics {\"StartTime\": 1652251846.4979472, \"EndTime\": 1652251846.497974, \"Dimensions\": {\"Algorithm\": \"Linear Learner\", \"Host\": \"algo-1\", \"Operation\": \"training\", \"epoch\": 3, \"model\": 1}, \"Metrics\": {\"validation_weighted_softmax_loss_objective\": {\"sum\": 1.2853515899933137, \"count\": 1, \"min\": 1.2853515899933137, \"max\": 1.2853515899933137}}}\u001b[0m\n",
      "\u001b[34m#metrics {\"StartTime\": 1652251846.4980366, \"EndTime\": 1652251846.4980545, \"Dimensions\": {\"Algorithm\": \"Linear Learner\", \"Host\": \"algo-1\", \"Operation\": \"training\", \"epoch\": 3, \"model\": 2}, \"Metrics\": {\"validation_weighted_softmax_loss_objective\": {\"sum\": 1.0252511651666314, \"count\": 1, \"min\": 1.0252511651666314, \"max\": 1.0252511651666314}}}\u001b[0m\n",
      "\u001b[34m#metrics {\"StartTime\": 1652251846.4982355, \"EndTime\": 1652251846.498344, \"Dimensions\": {\"Algorithm\": \"Linear Learner\", \"Host\": \"algo-1\", \"Operation\": \"training\", \"epoch\": 3, \"model\": 3}, \"Metrics\": {\"validation_weighted_softmax_loss_objective\": {\"sum\": 1.1634620460304055, \"count\": 1, \"min\": 1.1634620460304055, \"max\": 1.1634620460304055}}}\u001b[0m\n",
      "\u001b[34m#metrics {\"StartTime\": 1652251846.498528, \"EndTime\": 1652251846.4985526, \"Dimensions\": {\"Algorithm\": \"Linear Learner\", \"Host\": \"algo-1\", \"Operation\": \"training\", \"epoch\": 3, \"model\": 4}, \"Metrics\": {\"validation_weighted_softmax_loss_objective\": {\"sum\": 1.2772486231348537, \"count\": 1, \"min\": 1.2772486231348537, \"max\": 1.2772486231348537}}}\u001b[0m\n",
      "\u001b[34m#metrics {\"StartTime\": 1652251846.4987051, \"EndTime\": 1652251846.4987295, \"Dimensions\": {\"Algorithm\": \"Linear Learner\", \"Host\": \"algo-1\", \"Operation\": \"training\", \"epoch\": 3, \"model\": 5}, \"Metrics\": {\"validation_weighted_softmax_loss_objective\": {\"sum\": 1.7858925209389076, \"count\": 1, \"min\": 1.7858925209389076, \"max\": 1.7858925209389076}}}\u001b[0m\n",
      "\u001b[34m#metrics {\"StartTime\": 1652251846.4988883, \"EndTime\": 1652251846.4989123, \"Dimensions\": {\"Algorithm\": \"Linear Learner\", \"Host\": \"algo-1\", \"Operation\": \"training\", \"epoch\": 3, \"model\": 6}, \"Metrics\": {\"validation_weighted_softmax_loss_objective\": {\"sum\": 1.1253705411343962, \"count\": 1, \"min\": 1.1253705411343962, \"max\": 1.1253705411343962}}}\u001b[0m\n",
      "\u001b[34m#metrics {\"StartTime\": 1652251846.4989717, \"EndTime\": 1652251846.4990788, \"Dimensions\": {\"Algorithm\": \"Linear Learner\", \"Host\": \"algo-1\", \"Operation\": \"training\", \"epoch\": 3, \"model\": 7}, \"Metrics\": {\"validation_weighted_softmax_loss_objective\": {\"sum\": 1.1869049072265625, \"count\": 1, \"min\": 1.1869049072265625, \"max\": 1.1869049072265625}}}\u001b[0m\n",
      "\u001b[34m#metrics {\"StartTime\": 1652251846.4992402, \"EndTime\": 1652251846.4992647, \"Dimensions\": {\"Algorithm\": \"Linear Learner\", \"Host\": \"algo-1\", \"Operation\": \"training\", \"epoch\": 3, \"model\": 8}, \"Metrics\": {\"validation_weighted_softmax_loss_objective\": {\"sum\": 0.8826968218829181, \"count\": 1, \"min\": 0.8826968218829181, \"max\": 0.8826968218829181}}}\u001b[0m\n",
      "\u001b[34m#metrics {\"StartTime\": 1652251846.4993255, \"EndTime\": 1652251846.4994338, \"Dimensions\": {\"Algorithm\": \"Linear Learner\", \"Host\": \"algo-1\", \"Operation\": \"training\", \"epoch\": 3, \"model\": 9}, \"Metrics\": {\"validation_weighted_softmax_loss_objective\": {\"sum\": 1.6864138766452, \"count\": 1, \"min\": 1.6864138766452, \"max\": 1.6864138766452}}}\u001b[0m\n",
      "\u001b[34m[05/11/2022 06:50:46 INFO 140222784067392] #quality_metric: host=algo-1, epoch=3, validation weighted_softmax_loss_objective <loss>=1.3260234111064189\u001b[0m\n",
      "\u001b[34m[05/11/2022 06:50:46 INFO 140222784067392] #early_stopping_criteria_metric: host=algo-1, epoch=3, criteria=weighted_softmax_loss_objective, value=0.8826968218829181\u001b[0m\n",
      "\u001b[34m[05/11/2022 06:50:46 INFO 140222784067392] Saving model for epoch: 3\u001b[0m\n",
      "\u001b[34m[05/11/2022 06:50:46 INFO 140222784067392] Saved checkpoint to \"/tmp/tmpfgyx5fl5/mx-mod-0000.params\"\u001b[0m\n",
      "\u001b[34m[05/11/2022 06:50:46 INFO 140222784067392] #progress_metric: host=algo-1, completed 26.666666666666668 % of epochs\u001b[0m\n",
      "\u001b[34m#metrics {\"StartTime\": 1652251846.4377627, \"EndTime\": 1652251846.520858, \"Dimensions\": {\"Algorithm\": \"Linear Learner\", \"Host\": \"algo-1\", \"Operation\": \"training\", \"epoch\": 3, \"Meta\": \"training_data_iter\"}, \"Metrics\": {\"Total Records Seen\": {\"sum\": 9880.0, \"count\": 1, \"min\": 9880, \"max\": 9880}, \"Total Batches Seen\": {\"sum\": 11.0, \"count\": 1, \"min\": 11, \"max\": 11}, \"Max Records Seen Between Resets\": {\"sum\": 1776.0, \"count\": 1, \"min\": 1776, \"max\": 1776}, \"Max Batches Seen Between Resets\": {\"sum\": 2.0, \"count\": 1, \"min\": 2, \"max\": 2}, \"Reset Count\": {\"sum\": 6.0, \"count\": 1, \"min\": 6, \"max\": 6}, \"Number of Records Since Last Reset\": {\"sum\": 1776.0, \"count\": 1, \"min\": 1776, \"max\": 1776}, \"Number of Batches Since Last Reset\": {\"sum\": 2.0, \"count\": 1, \"min\": 2, \"max\": 2}}}\u001b[0m\n",
      "\u001b[34m[05/11/2022 06:50:46 INFO 140222784067392] #throughput_metric: host=algo-1, train throughput=21325.992579359627 records/second\u001b[0m\n",
      "\u001b[34m[2022-05-11 06:50:46.557] [tensorio] [info] epoch_stats={\"data_pipeline\": \"/opt/ml/input/data/train\", \"epoch\": 12, \"duration\": 36, \"num_examples\": 2, \"num_bytes\": 92352}\u001b[0m\n",
      "\u001b[34m#metrics {\"StartTime\": 1652251846.5576868, \"EndTime\": 1652251846.557765, \"Dimensions\": {\"Algorithm\": \"Linear Learner\", \"Host\": \"algo-1\", \"Operation\": \"training\", \"epoch\": 4, \"model\": 0}, \"Metrics\": {\"train_weighted_softmax_loss_objective\": {\"sum\": 1.3303797607421874, \"count\": 1, \"min\": 1.3303797607421874, \"max\": 1.3303797607421874}}}\u001b[0m\n",
      "\u001b[34m#metrics {\"StartTime\": 1652251846.55791, \"EndTime\": 1652251846.5579338, \"Dimensions\": {\"Algorithm\": \"Linear Learner\", \"Host\": \"algo-1\", \"Operation\": \"training\", \"epoch\": 4, \"model\": 1}, \"Metrics\": {\"train_weighted_softmax_loss_objective\": {\"sum\": 1.2874578857421874, \"count\": 1, \"min\": 1.2874578857421874, \"max\": 1.2874578857421874}}}\u001b[0m\n",
      "\u001b[34m#metrics {\"StartTime\": 1652251846.5580153, \"EndTime\": 1652251846.5580337, \"Dimensions\": {\"Algorithm\": \"Linear Learner\", \"Host\": \"algo-1\", \"Operation\": \"training\", \"epoch\": 4, \"model\": 2}, \"Metrics\": {\"train_weighted_softmax_loss_objective\": {\"sum\": 1.0322532958984374, \"count\": 1, \"min\": 1.0322532958984374, \"max\": 1.0322532958984374}}}\u001b[0m\n",
      "\u001b[34m#metrics {\"StartTime\": 1652251846.5580866, \"EndTime\": 1652251846.5581038, \"Dimensions\": {\"Algorithm\": \"Linear Learner\", \"Host\": \"algo-1\", \"Operation\": \"training\", \"epoch\": 4, \"model\": 3}, \"Metrics\": {\"train_weighted_softmax_loss_objective\": {\"sum\": 1.1688656005859375, \"count\": 1, \"min\": 1.1688656005859375, \"max\": 1.1688656005859375}}}\u001b[0m\n",
      "\u001b[34m#metrics {\"StartTime\": 1652251846.5581558, \"EndTime\": 1652251846.55819, \"Dimensions\": {\"Algorithm\": \"Linear Learner\", \"Host\": \"algo-1\", \"Operation\": \"training\", \"epoch\": 4, \"model\": 4}, \"Metrics\": {\"train_weighted_softmax_loss_objective\": {\"sum\": 1.2796356201171875, \"count\": 1, \"min\": 1.2796356201171875, \"max\": 1.2796356201171875}}}\u001b[0m\n",
      "\u001b[34m#metrics {\"StartTime\": 1652251846.558244, \"EndTime\": 1652251846.5582614, \"Dimensions\": {\"Algorithm\": \"Linear Learner\", \"Host\": \"algo-1\", \"Operation\": \"training\", \"epoch\": 4, \"model\": 5}, \"Metrics\": {\"train_weighted_softmax_loss_objective\": {\"sum\": 1.7903358154296876, \"count\": 1, \"min\": 1.7903358154296876, \"max\": 1.7903358154296876}}}\u001b[0m\n",
      "\u001b[34m#metrics {\"StartTime\": 1652251846.5583134, \"EndTime\": 1652251846.558363, \"Dimensions\": {\"Algorithm\": \"Linear Learner\", \"Host\": \"algo-1\", \"Operation\": \"training\", \"epoch\": 4, \"model\": 6}, \"Metrics\": {\"train_weighted_softmax_loss_objective\": {\"sum\": 1.128591064453125, \"count\": 1, \"min\": 1.128591064453125, \"max\": 1.128591064453125}}}\u001b[0m\n",
      "\u001b[34m#metrics {\"StartTime\": 1652251846.5584428, \"EndTime\": 1652251846.558462, \"Dimensions\": {\"Algorithm\": \"Linear Learner\", \"Host\": \"algo-1\", \"Operation\": \"training\", \"epoch\": 4, \"model\": 7}, \"Metrics\": {\"train_weighted_softmax_loss_objective\": {\"sum\": 1.192079833984375, \"count\": 1, \"min\": 1.192079833984375, \"max\": 1.192079833984375}}}\u001b[0m\n",
      "\u001b[34m#metrics {\"StartTime\": 1652251846.5585175, \"EndTime\": 1652251846.558534, \"Dimensions\": {\"Algorithm\": \"Linear Learner\", \"Host\": \"algo-1\", \"Operation\": \"training\", \"epoch\": 4, \"model\": 8}, \"Metrics\": {\"train_weighted_softmax_loss_objective\": {\"sum\": 0.8906417236328125, \"count\": 1, \"min\": 0.8906417236328125, \"max\": 0.8906417236328125}}}\u001b[0m\n",
      "\u001b[34m#metrics {\"StartTime\": 1652251846.5586271, \"EndTime\": 1652251846.558646, \"Dimensions\": {\"Algorithm\": \"Linear Learner\", \"Host\": \"algo-1\", \"Operation\": \"training\", \"epoch\": 4, \"model\": 9}, \"Metrics\": {\"train_weighted_softmax_loss_objective\": {\"sum\": 1.763347900390625, \"count\": 1, \"min\": 1.763347900390625, \"max\": 1.763347900390625}}}\u001b[0m\n",
      "\u001b[34m[05/11/2022 06:50:46 INFO 140222784067392] #quality_metric: host=algo-1, epoch=4, train weighted_softmax_loss_objective <loss>=1.3303797607421874\u001b[0m\n",
      "\u001b[34m[2022-05-11 06:50:46.583] [tensorio] [info] epoch_stats={\"data_pipeline\": \"/opt/ml/input/data/validation\", \"epoch\": 14, \"duration\": 11, \"num_examples\": 1, \"num_bytes\": 11544}\u001b[0m\n",
      "\u001b[34m#metrics {\"StartTime\": 1652251846.5874116, \"EndTime\": 1652251846.587456, \"Dimensions\": {\"Algorithm\": \"Linear Learner\", \"Host\": \"algo-1\", \"Operation\": \"training\", \"epoch\": 4, \"model\": 0}, \"Metrics\": {\"validation_weighted_softmax_loss_objective\": {\"sum\": 1.2382856489301801, \"count\": 1, \"min\": 1.2382856489301801, \"max\": 1.2382856489301801}}}\u001b[0m\n",
      "\u001b[34m#metrics {\"StartTime\": 1652251846.5875447, \"EndTime\": 1652251846.5875607, \"Dimensions\": {\"Algorithm\": \"Linear Learner\", \"Host\": \"algo-1\", \"Operation\": \"training\", \"epoch\": 4, \"model\": 1}, \"Metrics\": {\"validation_weighted_softmax_loss_objective\": {\"sum\": 1.20296100238422, \"count\": 1, \"min\": 1.20296100238422, \"max\": 1.20296100238422}}}\u001b[0m\n",
      "\u001b[34m#metrics {\"StartTime\": 1652251846.587621, \"EndTime\": 1652251846.5876389, \"Dimensions\": {\"Algorithm\": \"Linear Learner\", \"Host\": \"algo-1\", \"Operation\": \"training\", \"epoch\": 4, \"model\": 2}, \"Metrics\": {\"validation_weighted_softmax_loss_objective\": {\"sum\": 0.9761193077843469, \"count\": 1, \"min\": 0.9761193077843469, \"max\": 0.9761193077843469}}}\u001b[0m\n",
      "\u001b[34m#metrics {\"StartTime\": 1652251846.5876944, \"EndTime\": 1652251846.5877101, \"Dimensions\": {\"Algorithm\": \"Linear Learner\", \"Host\": \"algo-1\", \"Operation\": \"training\", \"epoch\": 4, \"model\": 3}, \"Metrics\": {\"validation_weighted_softmax_loss_objective\": {\"sum\": 1.0935998177743174, \"count\": 1, \"min\": 1.0935998177743174, \"max\": 1.0935998177743174}}}\u001b[0m\n",
      "\u001b[34m#metrics {\"StartTime\": 1652251846.5877626, \"EndTime\": 1652251846.5877802, \"Dimensions\": {\"Algorithm\": \"Linear Learner\", \"Host\": \"algo-1\", \"Operation\": \"training\", \"epoch\": 4, \"model\": 4}, \"Metrics\": {\"validation_weighted_softmax_loss_objective\": {\"sum\": 1.1943532582875844, \"count\": 1, \"min\": 1.1943532582875844, \"max\": 1.1943532582875844}}}\u001b[0m\n",
      "\u001b[34m#metrics {\"StartTime\": 1652251846.5878353, \"EndTime\": 1652251846.587853, \"Dimensions\": {\"Algorithm\": \"Linear Learner\", \"Host\": \"algo-1\", \"Operation\": \"training\", \"epoch\": 4, \"model\": 5}, \"Metrics\": {\"validation_weighted_softmax_loss_objective\": {\"sum\": 1.7445850544147663, \"count\": 1, \"min\": 1.7445850544147663, \"max\": 1.7445850544147663}}}\u001b[0m\n",
      "\u001b[34m#metrics {\"StartTime\": 1652251846.587898, \"EndTime\": 1652251846.5879138, \"Dimensions\": {\"Algorithm\": \"Linear Learner\", \"Host\": \"algo-1\", \"Operation\": \"training\", \"epoch\": 4, \"model\": 6}, \"Metrics\": {\"validation_weighted_softmax_loss_objective\": {\"sum\": 1.0643863849811726, \"count\": 1, \"min\": 1.0643863849811726, \"max\": 1.0643863849811726}}}\u001b[0m\n",
      "\u001b[34m#metrics {\"StartTime\": 1652251846.5879557, \"EndTime\": 1652251846.5879712, \"Dimensions\": {\"Algorithm\": \"Linear Learner\", \"Host\": \"algo-1\", \"Operation\": \"training\", \"epoch\": 4, \"model\": 7}, \"Metrics\": {\"validation_weighted_softmax_loss_objective\": {\"sum\": 1.141681499309368, \"count\": 1, \"min\": 1.141681499309368, \"max\": 1.141681499309368}}}\u001b[0m\n",
      "\u001b[34m#metrics {\"StartTime\": 1652251846.5880291, \"EndTime\": 1652251846.5880466, \"Dimensions\": {\"Algorithm\": \"Linear Learner\", \"Host\": \"algo-1\", \"Operation\": \"training\", \"epoch\": 4, \"model\": 8}, \"Metrics\": {\"validation_weighted_softmax_loss_objective\": {\"sum\": 0.8423751281188415, \"count\": 1, \"min\": 0.8423751281188415, \"max\": 0.8423751281188415}}}\u001b[0m\n",
      "\u001b[34m#metrics {\"StartTime\": 1652251846.5881014, \"EndTime\": 1652251846.5881178, \"Dimensions\": {\"Algorithm\": \"Linear Learner\", \"Host\": \"algo-1\", \"Operation\": \"training\", \"epoch\": 4, \"model\": 9}, \"Metrics\": {\"validation_weighted_softmax_loss_objective\": {\"sum\": 1.0243757093274914, \"count\": 1, \"min\": 1.0243757093274914, \"max\": 1.0243757093274914}}}\u001b[0m\n",
      "\u001b[34m[05/11/2022 06:50:46 INFO 140222784067392] #quality_metric: host=algo-1, epoch=4, validation weighted_softmax_loss_objective <loss>=1.2382856489301801\u001b[0m\n",
      "\u001b[34m[05/11/2022 06:50:46 INFO 140222784067392] #early_stopping_criteria_metric: host=algo-1, epoch=4, criteria=weighted_softmax_loss_objective, value=0.8423751281188415\u001b[0m\n",
      "\u001b[34m[05/11/2022 06:50:46 INFO 140222784067392] Saving model for epoch: 4\u001b[0m\n",
      "\u001b[34m[05/11/2022 06:50:46 INFO 140222784067392] Saved checkpoint to \"/tmp/tmpzh7kipo3/mx-mod-0000.params\"\u001b[0m\n",
      "\u001b[34m[05/11/2022 06:50:46 INFO 140222784067392] #progress_metric: host=algo-1, completed 33.333333333333336 % of epochs\u001b[0m\n",
      "\u001b[34m#metrics {\"StartTime\": 1652251846.521225, \"EndTime\": 1652251846.5980246, \"Dimensions\": {\"Algorithm\": \"Linear Learner\", \"Host\": \"algo-1\", \"Operation\": \"training\", \"epoch\": 4, \"Meta\": \"training_data_iter\"}, \"Metrics\": {\"Total Records Seen\": {\"sum\": 11656.0, \"count\": 1, \"min\": 11656, \"max\": 11656}, \"Total Batches Seen\": {\"sum\": 13.0, \"count\": 1, \"min\": 13, \"max\": 13}, \"Max Records Seen Between Resets\": {\"sum\": 1776.0, \"count\": 1, \"min\": 1776, \"max\": 1776}, \"Max Batches Seen Between Resets\": {\"sum\": 2.0, \"count\": 1, \"min\": 2, \"max\": 2}, \"Reset Count\": {\"sum\": 7.0, \"count\": 1, \"min\": 7, \"max\": 7}, \"Number of Records Since Last Reset\": {\"sum\": 1776.0, \"count\": 1, \"min\": 1776, \"max\": 1776}, \"Number of Batches Since Last Reset\": {\"sum\": 2.0, \"count\": 1, \"min\": 2, \"max\": 2}}}\u001b[0m\n",
      "\u001b[34m[05/11/2022 06:50:46 INFO 140222784067392] #throughput_metric: host=algo-1, train throughput=23072.608374063817 records/second\u001b[0m\n",
      "\u001b[34m[2022-05-11 06:50:46.652] [tensorio] [info] epoch_stats={\"data_pipeline\": \"/opt/ml/input/data/train\", \"epoch\": 14, \"duration\": 51, \"num_examples\": 2, \"num_bytes\": 92352}\u001b[0m\n",
      "\u001b[34m#metrics {\"StartTime\": 1652251846.652616, \"EndTime\": 1652251846.6526804, \"Dimensions\": {\"Algorithm\": \"Linear Learner\", \"Host\": \"algo-1\", \"Operation\": \"training\", \"epoch\": 5, \"model\": 0}, \"Metrics\": {\"train_weighted_softmax_loss_objective\": {\"sum\": 1.2433046875, \"count\": 1, \"min\": 1.2433046875, \"max\": 1.2433046875}}}\u001b[0m\n",
      "\u001b[34m#metrics {\"StartTime\": 1652251846.6528296, \"EndTime\": 1652251846.6528509, \"Dimensions\": {\"Algorithm\": \"Linear Learner\", \"Host\": \"algo-1\", \"Operation\": \"training\", \"epoch\": 5, \"model\": 1}, \"Metrics\": {\"train_weighted_softmax_loss_objective\": {\"sum\": 1.20584130859375, \"count\": 1, \"min\": 1.20584130859375, \"max\": 1.20584130859375}}}\u001b[0m\n",
      "\u001b[34m#metrics {\"StartTime\": 1652251846.6529336, \"EndTime\": 1652251846.6529503, \"Dimensions\": {\"Algorithm\": \"Linear Learner\", \"Host\": \"algo-1\", \"Operation\": \"training\", \"epoch\": 5, \"model\": 2}, \"Metrics\": {\"train_weighted_softmax_loss_objective\": {\"sum\": 0.9840094604492188, \"count\": 1, \"min\": 0.9840094604492188, \"max\": 0.9840094604492188}}}\u001b[0m\n",
      "\u001b[34m#metrics {\"StartTime\": 1652251846.653043, \"EndTime\": 1652251846.6530585, \"Dimensions\": {\"Algorithm\": \"Linear Learner\", \"Host\": \"algo-1\", \"Operation\": \"training\", \"epoch\": 5, \"model\": 3}, \"Metrics\": {\"train_weighted_softmax_loss_objective\": {\"sum\": 1.099475341796875, \"count\": 1, \"min\": 1.099475341796875, \"max\": 1.099475341796875}}}\u001b[0m\n",
      "\u001b[34m#metrics {\"StartTime\": 1652251846.6531034, \"EndTime\": 1652251846.6531146, \"Dimensions\": {\"Algorithm\": \"Linear Learner\", \"Host\": \"algo-1\", \"Operation\": \"training\", \"epoch\": 5, \"model\": 4}, \"Metrics\": {\"train_weighted_softmax_loss_objective\": {\"sum\": 1.1975167236328126, \"count\": 1, \"min\": 1.1975167236328126, \"max\": 1.1975167236328126}}}\u001b[0m\n",
      "\u001b[34m#metrics {\"StartTime\": 1652251846.6532004, \"EndTime\": 1652251846.6532168, \"Dimensions\": {\"Algorithm\": \"Linear Learner\", \"Host\": \"algo-1\", \"Operation\": \"training\", \"epoch\": 5, \"model\": 5}, \"Metrics\": {\"train_weighted_softmax_loss_objective\": {\"sum\": 1.7498388671875, \"count\": 1, \"min\": 1.7498388671875, \"max\": 1.7498388671875}}}\u001b[0m\n",
      "\u001b[34m#metrics {\"StartTime\": 1652251846.6532602, \"EndTime\": 1652251846.6532714, \"Dimensions\": {\"Algorithm\": \"Linear Learner\", \"Host\": \"algo-1\", \"Operation\": \"training\", \"epoch\": 5, \"model\": 6}, \"Metrics\": {\"train_weighted_softmax_loss_objective\": {\"sum\": 1.0675692138671875, \"count\": 1, \"min\": 1.0675692138671875, \"max\": 1.0675692138671875}}}\u001b[0m\n",
      "\u001b[34m#metrics {\"StartTime\": 1652251846.6533494, \"EndTime\": 1652251846.6533785, \"Dimensions\": {\"Algorithm\": \"Linear Learner\", \"Host\": \"algo-1\", \"Operation\": \"training\", \"epoch\": 5, \"model\": 7}, \"Metrics\": {\"train_weighted_softmax_loss_objective\": {\"sum\": 1.1473009033203125, \"count\": 1, \"min\": 1.1473009033203125, \"max\": 1.1473009033203125}}}\u001b[0m\n",
      "\u001b[34m#metrics {\"StartTime\": 1652251846.653425, \"EndTime\": 1652251846.6534367, \"Dimensions\": {\"Algorithm\": \"Linear Learner\", \"Host\": \"algo-1\", \"Operation\": \"training\", \"epoch\": 5, \"model\": 8}, \"Metrics\": {\"train_weighted_softmax_loss_objective\": {\"sum\": 0.8516596069335938, \"count\": 1, \"min\": 0.8516596069335938, \"max\": 0.8516596069335938}}}\u001b[0m\n",
      "\u001b[34m#metrics {\"StartTime\": 1652251846.6534758, \"EndTime\": 1652251846.6535225, \"Dimensions\": {\"Algorithm\": \"Linear Learner\", \"Host\": \"algo-1\", \"Operation\": \"training\", \"epoch\": 5, \"model\": 9}, \"Metrics\": {\"train_weighted_softmax_loss_objective\": {\"sum\": 1.0465501708984375, \"count\": 1, \"min\": 1.0465501708984375, \"max\": 1.0465501708984375}}}\u001b[0m\n",
      "\u001b[34m[05/11/2022 06:50:46 INFO 140222784067392] #quality_metric: host=algo-1, epoch=5, train weighted_softmax_loss_objective <loss>=1.2433046875\u001b[0m\n",
      "\u001b[34m[2022-05-11 06:50:46.680] [tensorio] [info] epoch_stats={\"data_pipeline\": \"/opt/ml/input/data/validation\", \"epoch\": 17, \"duration\": 12, \"num_examples\": 1, \"num_bytes\": 11544}\u001b[0m\n",
      "\u001b[34m#metrics {\"StartTime\": 1652251846.6857622, \"EndTime\": 1652251846.6858232, \"Dimensions\": {\"Algorithm\": \"Linear Learner\", \"Host\": \"algo-1\", \"Operation\": \"training\", \"epoch\": 5, \"model\": 0}, \"Metrics\": {\"validation_weighted_softmax_loss_objective\": {\"sum\": 1.172408507750915, \"count\": 1, \"min\": 1.172408507750915, \"max\": 1.172408507750915}}}\u001b[0m\n",
      "\u001b[34m#metrics {\"StartTime\": 1652251846.6859467, \"EndTime\": 1652251846.685969, \"Dimensions\": {\"Algorithm\": \"Linear Learner\", \"Host\": \"algo-1\", \"Operation\": \"training\", \"epoch\": 5, \"model\": 1}, \"Metrics\": {\"validation_weighted_softmax_loss_objective\": {\"sum\": 1.1434176333315738, \"count\": 1, \"min\": 1.1434176333315738, \"max\": 1.1434176333315738}}}\u001b[0m\n",
      "\u001b[34m#metrics {\"StartTime\": 1652251846.6860263, \"EndTime\": 1652251846.686038, \"Dimensions\": {\"Algorithm\": \"Linear Learner\", \"Host\": \"algo-1\", \"Operation\": \"training\", \"epoch\": 5, \"model\": 2}, \"Metrics\": {\"validation_weighted_softmax_loss_objective\": {\"sum\": 0.9403520188890062, \"count\": 1, \"min\": 0.9403520188890062, \"max\": 0.9403520188890062}}}\u001b[0m\n",
      "\u001b[34m#metrics {\"StartTime\": 1652251846.6860797, \"EndTime\": 1652251846.6860971, \"Dimensions\": {\"Algorithm\": \"Linear Learner\", \"Host\": \"algo-1\", \"Operation\": \"training\", \"epoch\": 5, \"model\": 3}, \"Metrics\": {\"validation_weighted_softmax_loss_objective\": {\"sum\": 1.045403832787866, \"count\": 1, \"min\": 1.045403832787866, \"max\": 1.045403832787866}}}\u001b[0m\n",
      "\u001b[34m#metrics {\"StartTime\": 1652251846.686151, \"EndTime\": 1652251846.6861675, \"Dimensions\": {\"Algorithm\": \"Linear Learner\", \"Host\": \"algo-1\", \"Operation\": \"training\", \"epoch\": 5, \"model\": 4}, \"Metrics\": {\"validation_weighted_softmax_loss_objective\": {\"sum\": 1.1345303509686444, \"count\": 1, \"min\": 1.1345303509686444, \"max\": 1.1345303509686444}}}\u001b[0m\n",
      "\u001b[34m#metrics {\"StartTime\": 1652251846.6862245, \"EndTime\": 1652251846.6862414, \"Dimensions\": {\"Algorithm\": \"Linear Learner\", \"Host\": \"algo-1\", \"Operation\": \"training\", \"epoch\": 5, \"model\": 5}, \"Metrics\": {\"validation_weighted_softmax_loss_objective\": {\"sum\": 1.7073569082999014, \"count\": 1, \"min\": 1.7073569082999014, \"max\": 1.7073569082999014}}}\u001b[0m\n",
      "\u001b[34m#metrics {\"StartTime\": 1652251846.686293, \"EndTime\": 1652251846.6863084, \"Dimensions\": {\"Algorithm\": \"Linear Learner\", \"Host\": \"algo-1\", \"Operation\": \"training\", \"epoch\": 5, \"model\": 6}, \"Metrics\": {\"validation_weighted_softmax_loss_objective\": {\"sum\": 1.0218672193922438, \"count\": 1, \"min\": 1.0218672193922438, \"max\": 1.0218672193922438}}}\u001b[0m\n",
      "\u001b[34m#metrics {\"StartTime\": 1652251846.6863601, \"EndTime\": 1652251846.6863718, \"Dimensions\": {\"Algorithm\": \"Linear Learner\", \"Host\": \"algo-1\", \"Operation\": \"training\", \"epoch\": 5, \"model\": 7}, \"Metrics\": {\"validation_weighted_softmax_loss_objective\": {\"sum\": 1.106618864042265, \"count\": 1, \"min\": 1.106618864042265, \"max\": 1.106618864042265}}}\u001b[0m\n",
      "\u001b[34m#metrics {\"StartTime\": 1652251846.6864197, \"EndTime\": 1652251846.6864352, \"Dimensions\": {\"Algorithm\": \"Linear Learner\", \"Host\": \"algo-1\", \"Operation\": \"training\", \"epoch\": 5, \"model\": 8}, \"Metrics\": {\"validation_weighted_softmax_loss_objective\": {\"sum\": 0.8108075803464597, \"count\": 1, \"min\": 0.8108075803464597, \"max\": 0.8108075803464597}}}\u001b[0m\n",
      "\u001b[34m#metrics {\"StartTime\": 1652251846.6864963, \"EndTime\": 1652251846.686513, \"Dimensions\": {\"Algorithm\": \"Linear Learner\", \"Host\": \"algo-1\", \"Operation\": \"training\", \"epoch\": 5, \"model\": 9}, \"Metrics\": {\"validation_weighted_softmax_loss_objective\": {\"sum\": 1.3836674045872044, \"count\": 1, \"min\": 1.3836674045872044, \"max\": 1.3836674045872044}}}\u001b[0m\n",
      "\u001b[34m[05/11/2022 06:50:46 INFO 140222784067392] #quality_metric: host=algo-1, epoch=5, validation weighted_softmax_loss_objective <loss>=1.172408507750915\u001b[0m\n",
      "\u001b[34m[05/11/2022 06:50:46 INFO 140222784067392] #early_stopping_criteria_metric: host=algo-1, epoch=5, criteria=weighted_softmax_loss_objective, value=0.8108075803464597\u001b[0m\n",
      "\u001b[34m[05/11/2022 06:50:46 INFO 140222784067392] Epoch 5: Loss improved. Updating best model\u001b[0m\n",
      "\u001b[34m[05/11/2022 06:50:46 INFO 140222784067392] Saving model for epoch: 5\u001b[0m\n",
      "\u001b[34m[05/11/2022 06:50:46 INFO 140222784067392] Saved checkpoint to \"/tmp/tmpxdkwsqzx/mx-mod-0000.params\"\u001b[0m\n",
      "\u001b[34m[05/11/2022 06:50:46 INFO 140222784067392] #progress_metric: host=algo-1, completed 40.0 % of epochs\u001b[0m\n",
      "\u001b[34m#metrics {\"StartTime\": 1652251846.5983448, \"EndTime\": 1652251846.6995945, \"Dimensions\": {\"Algorithm\": \"Linear Learner\", \"Host\": \"algo-1\", \"Operation\": \"training\", \"epoch\": 5, \"Meta\": \"training_data_iter\"}, \"Metrics\": {\"Total Records Seen\": {\"sum\": 13432.0, \"count\": 1, \"min\": 13432, \"max\": 13432}, \"Total Batches Seen\": {\"sum\": 15.0, \"count\": 1, \"min\": 15, \"max\": 15}, \"Max Records Seen Between Resets\": {\"sum\": 1776.0, \"count\": 1, \"min\": 1776, \"max\": 1776}, \"Max Batches Seen Between Resets\": {\"sum\": 2.0, \"count\": 1, \"min\": 2, \"max\": 2}, \"Reset Count\": {\"sum\": 8.0, \"count\": 1, \"min\": 8, \"max\": 8}, \"Number of Records Since Last Reset\": {\"sum\": 1776.0, \"count\": 1, \"min\": 1776, \"max\": 1776}, \"Number of Batches Since Last Reset\": {\"sum\": 2.0, \"count\": 1, \"min\": 2, \"max\": 2}}}\u001b[0m\n",
      "\u001b[34m[05/11/2022 06:50:46 INFO 140222784067392] #throughput_metric: host=algo-1, train throughput=17514.357435582737 records/second\u001b[0m\n",
      "\u001b[34m[2022-05-11 06:50:46.758] [tensorio] [info] epoch_stats={\"data_pipeline\": \"/opt/ml/input/data/train\", \"epoch\": 16, \"duration\": 58, \"num_examples\": 2, \"num_bytes\": 92352}\u001b[0m\n",
      "\u001b[34m#metrics {\"StartTime\": 1652251846.758341, \"EndTime\": 1652251846.7584102, \"Dimensions\": {\"Algorithm\": \"Linear Learner\", \"Host\": \"algo-1\", \"Operation\": \"training\", \"epoch\": 6, \"model\": 0}, \"Metrics\": {\"train_weighted_softmax_loss_objective\": {\"sum\": 1.1778983154296876, \"count\": 1, \"min\": 1.1778983154296876, \"max\": 1.1778983154296876}}}\u001b[0m\n",
      "\u001b[34m#metrics {\"StartTime\": 1652251846.7585177, \"EndTime\": 1652251846.7585392, \"Dimensions\": {\"Algorithm\": \"Linear Learner\", \"Host\": \"algo-1\", \"Operation\": \"training\", \"epoch\": 6, \"model\": 1}, \"Metrics\": {\"train_weighted_softmax_loss_objective\": {\"sum\": 1.14687060546875, \"count\": 1, \"min\": 1.14687060546875, \"max\": 1.14687060546875}}}\u001b[0m\n",
      "\u001b[34m#metrics {\"StartTime\": 1652251846.7585912, \"EndTime\": 1652251846.7586079, \"Dimensions\": {\"Algorithm\": \"Linear Learner\", \"Host\": \"algo-1\", \"Operation\": \"training\", \"epoch\": 6, \"model\": 2}, \"Metrics\": {\"train_weighted_softmax_loss_objective\": {\"sum\": 0.9490297241210938, \"count\": 1, \"min\": 0.9490297241210938, \"max\": 0.9490297241210938}}}\u001b[0m\n",
      "\u001b[34m#metrics {\"StartTime\": 1652251846.7588766, \"EndTime\": 1652251846.7589004, \"Dimensions\": {\"Algorithm\": \"Linear Learner\", \"Host\": \"algo-1\", \"Operation\": \"training\", \"epoch\": 6, \"model\": 3}, \"Metrics\": {\"train_weighted_softmax_loss_objective\": {\"sum\": 1.0516971435546876, \"count\": 1, \"min\": 1.0516971435546876, \"max\": 1.0516971435546876}}}\u001b[0m\n",
      "\u001b[34m#metrics {\"StartTime\": 1652251846.758965, \"EndTime\": 1652251846.7589824, \"Dimensions\": {\"Algorithm\": \"Linear Learner\", \"Host\": \"algo-1\", \"Operation\": \"training\", \"epoch\": 6, \"model\": 4}, \"Metrics\": {\"train_weighted_softmax_loss_objective\": {\"sum\": 1.1382564697265625, \"count\": 1, \"min\": 1.1382564697265625, \"max\": 1.1382564697265625}}}\u001b[0m\n",
      "\u001b[34m#metrics {\"StartTime\": 1652251846.7591007, \"EndTime\": 1652251846.759175, \"Dimensions\": {\"Algorithm\": \"Linear Learner\", \"Host\": \"algo-1\", \"Operation\": \"training\", \"epoch\": 6, \"model\": 5}, \"Metrics\": {\"train_weighted_softmax_loss_objective\": {\"sum\": 1.7131844482421874, \"count\": 1, \"min\": 1.7131844482421874, \"max\": 1.7131844482421874}}}\u001b[0m\n",
      "\u001b[34m#metrics {\"StartTime\": 1652251846.7593012, \"EndTime\": 1652251846.7593248, \"Dimensions\": {\"Algorithm\": \"Linear Learner\", \"Host\": \"algo-1\", \"Operation\": \"training\", \"epoch\": 6, \"model\": 6}, \"Metrics\": {\"train_weighted_softmax_loss_objective\": {\"sum\": 1.0251204833984375, \"count\": 1, \"min\": 1.0251204833984375, \"max\": 1.0251204833984375}}}\u001b[0m\n",
      "\u001b[34m#metrics {\"StartTime\": 1652251846.7593849, \"EndTime\": 1652251846.7594028, \"Dimensions\": {\"Algorithm\": \"Linear Learner\", \"Host\": \"algo-1\", \"Operation\": \"training\", \"epoch\": 6, \"model\": 7}, \"Metrics\": {\"train_weighted_softmax_loss_objective\": {\"sum\": 1.1126763916015625, \"count\": 1, \"min\": 1.1126763916015625, \"max\": 1.1126763916015625}}}\u001b[0m\n",
      "\u001b[34m#metrics {\"StartTime\": 1652251846.7595217, \"EndTime\": 1652251846.7596362, \"Dimensions\": {\"Algorithm\": \"Linear Learner\", \"Host\": \"algo-1\", \"Operation\": \"training\", \"epoch\": 6, \"model\": 8}, \"Metrics\": {\"train_weighted_softmax_loss_objective\": {\"sum\": 0.8217568969726563, \"count\": 1, \"min\": 0.8217568969726563, \"max\": 0.8217568969726563}}}\u001b[0m\n",
      "\u001b[34m#metrics {\"StartTime\": 1652251846.7597148, \"EndTime\": 1652251846.7597368, \"Dimensions\": {\"Algorithm\": \"Linear Learner\", \"Host\": \"algo-1\", \"Operation\": \"training\", \"epoch\": 6, \"model\": 9}, \"Metrics\": {\"train_weighted_softmax_loss_objective\": {\"sum\": 1.3943175048828125, \"count\": 1, \"min\": 1.3943175048828125, \"max\": 1.3943175048828125}}}\u001b[0m\n",
      "\u001b[34m[05/11/2022 06:50:46 INFO 140222784067392] #quality_metric: host=algo-1, epoch=6, train weighted_softmax_loss_objective <loss>=1.1778983154296876\u001b[0m\n",
      "\u001b[34m[2022-05-11 06:50:46.783] [tensorio] [info] epoch_stats={\"data_pipeline\": \"/opt/ml/input/data/validation\", \"epoch\": 20, \"duration\": 13, \"num_examples\": 1, \"num_bytes\": 11544}\u001b[0m\n",
      "\u001b[34m#metrics {\"StartTime\": 1652251846.7889645, \"EndTime\": 1652251846.7890382, \"Dimensions\": {\"Algorithm\": \"Linear Learner\", \"Host\": \"algo-1\", \"Operation\": \"training\", \"epoch\": 6, \"model\": 0}, \"Metrics\": {\"validation_weighted_softmax_loss_objective\": {\"sum\": 1.122367240287162, \"count\": 1, \"min\": 1.122367240287162, \"max\": 1.122367240287162}}}\u001b[0m\n",
      "\u001b[34m#metrics {\"StartTime\": 1652251846.789131, \"EndTime\": 1652251846.789148, \"Dimensions\": {\"Algorithm\": \"Linear Learner\", \"Host\": \"algo-1\", \"Operation\": \"training\", \"epoch\": 6, \"model\": 1}, \"Metrics\": {\"validation_weighted_softmax_loss_objective\": {\"sum\": 1.0989257537566863, \"count\": 1, \"min\": 1.0989257537566863, \"max\": 1.0989257537566863}}}\u001b[0m\n",
      "\u001b[34m#metrics {\"StartTime\": 1652251846.7892506, \"EndTime\": 1652251846.78927, \"Dimensions\": {\"Algorithm\": \"Linear Learner\", \"Host\": \"algo-1\", \"Operation\": \"training\", \"epoch\": 6, \"model\": 2}, \"Metrics\": {\"validation_weighted_softmax_loss_objective\": {\"sum\": 0.9120007764111768, \"count\": 1, \"min\": 0.9120007764111768, \"max\": 0.9120007764111768}}}\u001b[0m\n",
      "\u001b[34m#metrics {\"StartTime\": 1652251846.7893844, \"EndTime\": 1652251846.789405, \"Dimensions\": {\"Algorithm\": \"Linear Learner\", \"Host\": \"algo-1\", \"Operation\": \"training\", \"epoch\": 6, \"model\": 3}, \"Metrics\": {\"validation_weighted_softmax_loss_objective\": {\"sum\": 1.0101441391953476, \"count\": 1, \"min\": 1.0101441391953476, \"max\": 1.0101441391953476}}}\u001b[0m\n",
      "\u001b[34m#metrics {\"StartTime\": 1652251846.7894793, \"EndTime\": 1652251846.7894974, \"Dimensions\": {\"Algorithm\": \"Linear Learner\", \"Host\": \"algo-1\", \"Operation\": \"training\", \"epoch\": 6, \"model\": 4}, \"Metrics\": {\"validation_weighted_softmax_loss_objective\": {\"sum\": 1.0899827974336642, \"count\": 1, \"min\": 1.0899827974336642, \"max\": 1.0899827974336642}}}\u001b[0m\n",
      "\u001b[34m#metrics {\"StartTime\": 1652251846.7896304, \"EndTime\": 1652251846.789651, \"Dimensions\": {\"Algorithm\": \"Linear Learner\", \"Host\": \"algo-1\", \"Operation\": \"training\", \"epoch\": 6, \"model\": 5}, \"Metrics\": {\"validation_weighted_softmax_loss_objective\": {\"sum\": 1.673192617055532, \"count\": 1, \"min\": 1.673192617055532, \"max\": 1.673192617055532}}}\u001b[0m\n",
      "\u001b[34m#metrics {\"StartTime\": 1652251846.7897053, \"EndTime\": 1652251846.7897158, \"Dimensions\": {\"Algorithm\": \"Linear Learner\", \"Host\": \"algo-1\", \"Operation\": \"training\", \"epoch\": 6, \"model\": 6}, \"Metrics\": {\"validation_weighted_softmax_loss_objective\": {\"sum\": 0.9893419420396959, \"count\": 1, \"min\": 0.9893419420396959, \"max\": 0.9893419420396959}}}\u001b[0m\n",
      "\u001b[34m#metrics {\"StartTime\": 1652251846.789749, \"EndTime\": 1652251846.7897637, \"Dimensions\": {\"Algorithm\": \"Linear Learner\", \"Host\": \"algo-1\", \"Operation\": \"training\", \"epoch\": 6, \"model\": 7}, \"Metrics\": {\"validation_weighted_softmax_loss_objective\": {\"sum\": 1.0781453450520833, \"count\": 1, \"min\": 1.0781453450520833, \"max\": 1.0781453450520833}}}\u001b[0m\n",
      "\u001b[34m#metrics {\"StartTime\": 1652251846.789815, \"EndTime\": 1652251846.7898324, \"Dimensions\": {\"Algorithm\": \"Linear Learner\", \"Host\": \"algo-1\", \"Operation\": \"training\", \"epoch\": 6, \"model\": 8}, \"Metrics\": {\"validation_weighted_softmax_loss_objective\": {\"sum\": 0.7862265646994651, \"count\": 1, \"min\": 0.7862265646994651, \"max\": 0.7862265646994651}}}\u001b[0m\n",
      "\u001b[34m#metrics {\"StartTime\": 1652251846.7899418, \"EndTime\": 1652251846.7899618, \"Dimensions\": {\"Algorithm\": \"Linear Learner\", \"Host\": \"algo-1\", \"Operation\": \"training\", \"epoch\": 6, \"model\": 9}, \"Metrics\": {\"validation_weighted_softmax_loss_objective\": {\"sum\": 1.235293826541385, \"count\": 1, \"min\": 1.235293826541385, \"max\": 1.235293826541385}}}\u001b[0m\n",
      "\u001b[34m[05/11/2022 06:50:46 INFO 140222784067392] #quality_metric: host=algo-1, epoch=6, validation weighted_softmax_loss_objective <loss>=1.122367240287162\u001b[0m\n",
      "\u001b[34m[05/11/2022 06:50:46 INFO 140222784067392] #early_stopping_criteria_metric: host=algo-1, epoch=6, criteria=weighted_softmax_loss_objective, value=0.7862265646994651\u001b[0m\n",
      "\u001b[34m[05/11/2022 06:50:46 INFO 140222784067392] Epoch 6: Loss improved. Updating best model\u001b[0m\n",
      "\u001b[34m[05/11/2022 06:50:46 INFO 140222784067392] Saving model for epoch: 6\u001b[0m\n",
      "\u001b[34m[05/11/2022 06:50:46 INFO 140222784067392] Saved checkpoint to \"/tmp/tmpc81of73k/mx-mod-0000.params\"\u001b[0m\n",
      "\u001b[34m[05/11/2022 06:50:46 INFO 140222784067392] #progress_metric: host=algo-1, completed 46.666666666666664 % of epochs\u001b[0m\n",
      "\u001b[34m#metrics {\"StartTime\": 1652251846.6998694, \"EndTime\": 1652251846.802451, \"Dimensions\": {\"Algorithm\": \"Linear Learner\", \"Host\": \"algo-1\", \"Operation\": \"training\", \"epoch\": 6, \"Meta\": \"training_data_iter\"}, \"Metrics\": {\"Total Records Seen\": {\"sum\": 15208.0, \"count\": 1, \"min\": 15208, \"max\": 15208}, \"Total Batches Seen\": {\"sum\": 17.0, \"count\": 1, \"min\": 17, \"max\": 17}, \"Max Records Seen Between Resets\": {\"sum\": 1776.0, \"count\": 1, \"min\": 1776, \"max\": 1776}, \"Max Batches Seen Between Resets\": {\"sum\": 2.0, \"count\": 1, \"min\": 2, \"max\": 2}, \"Reset Count\": {\"sum\": 9.0, \"count\": 1, \"min\": 9, \"max\": 9}, \"Number of Records Since Last Reset\": {\"sum\": 1776.0, \"count\": 1, \"min\": 1776, \"max\": 1776}, \"Number of Batches Since Last Reset\": {\"sum\": 2.0, \"count\": 1, \"min\": 2, \"max\": 2}}}\u001b[0m\n",
      "\u001b[34m[05/11/2022 06:50:46 INFO 140222784067392] #throughput_metric: host=algo-1, train throughput=17285.3828985931 records/second\u001b[0m\n",
      "\u001b[34m[2022-05-11 06:50:46.834] [tensorio] [info] epoch_stats={\"data_pipeline\": \"/opt/ml/input/data/train\", \"epoch\": 18, \"duration\": 31, \"num_examples\": 2, \"num_bytes\": 92352}\u001b[0m\n",
      "\u001b[34m#metrics {\"StartTime\": 1652251846.8341665, \"EndTime\": 1652251846.8345144, \"Dimensions\": {\"Algorithm\": \"Linear Learner\", \"Host\": \"algo-1\", \"Operation\": \"training\", \"epoch\": 7, \"model\": 0}, \"Metrics\": {\"train_weighted_softmax_loss_objective\": {\"sum\": 1.128192626953125, \"count\": 1, \"min\": 1.128192626953125, \"max\": 1.128192626953125}}}\u001b[0m\n",
      "\u001b[34m#metrics {\"StartTime\": 1652251846.834863, \"EndTime\": 1652251846.834889, \"Dimensions\": {\"Algorithm\": \"Linear Learner\", \"Host\": \"algo-1\", \"Operation\": \"training\", \"epoch\": 7, \"model\": 1}, \"Metrics\": {\"train_weighted_softmax_loss_objective\": {\"sum\": 1.1028497314453125, \"count\": 1, \"min\": 1.1028497314453125, \"max\": 1.1028497314453125}}}\u001b[0m\n",
      "\u001b[34m#metrics {\"StartTime\": 1652251846.8349552, \"EndTime\": 1652251846.8349693, \"Dimensions\": {\"Algorithm\": \"Linear Learner\", \"Host\": \"algo-1\", \"Operation\": \"training\", \"epoch\": 7, \"model\": 2}, \"Metrics\": {\"train_weighted_softmax_loss_objective\": {\"sum\": 0.9214407348632813, \"count\": 1, \"min\": 0.9214407348632813, \"max\": 0.9214407348632813}}}\u001b[0m\n",
      "\u001b[34m#metrics {\"StartTime\": 1652251846.8350143, \"EndTime\": 1652251846.8350496, \"Dimensions\": {\"Algorithm\": \"Linear Learner\", \"Host\": \"algo-1\", \"Operation\": \"training\", \"epoch\": 7, \"model\": 3}, \"Metrics\": {\"train_weighted_softmax_loss_objective\": {\"sum\": 1.0168543090820312, \"count\": 1, \"min\": 1.0168543090820312, \"max\": 1.0168543090820312}}}\u001b[0m\n",
      "\u001b[34m#metrics {\"StartTime\": 1652251846.8350973, \"EndTime\": 1652251846.83511, \"Dimensions\": {\"Algorithm\": \"Linear Learner\", \"Host\": \"algo-1\", \"Operation\": \"training\", \"epoch\": 7, \"model\": 4}, \"Metrics\": {\"train_weighted_softmax_loss_objective\": {\"sum\": 1.09415576171875, \"count\": 1, \"min\": 1.09415576171875, \"max\": 1.09415576171875}}}\u001b[0m\n",
      "\u001b[34m#metrics {\"StartTime\": 1652251846.835299, \"EndTime\": 1652251846.8353162, \"Dimensions\": {\"Algorithm\": \"Linear Learner\", \"Host\": \"algo-1\", \"Operation\": \"training\", \"epoch\": 7, \"model\": 5}, \"Metrics\": {\"train_weighted_softmax_loss_objective\": {\"sum\": 1.6794837646484375, \"count\": 1, \"min\": 1.6794837646484375, \"max\": 1.6794837646484375}}}\u001b[0m\n",
      "\u001b[34m#metrics {\"StartTime\": 1652251846.835367, \"EndTime\": 1652251846.835379, \"Dimensions\": {\"Algorithm\": \"Linear Learner\", \"Host\": \"algo-1\", \"Operation\": \"training\", \"epoch\": 7, \"model\": 6}, \"Metrics\": {\"train_weighted_softmax_loss_objective\": {\"sum\": 0.992921142578125, \"count\": 1, \"min\": 0.992921142578125, \"max\": 0.992921142578125}}}\u001b[0m\n",
      "\u001b[34m#metrics {\"StartTime\": 1652251846.8354173, \"EndTime\": 1652251846.8354287, \"Dimensions\": {\"Algorithm\": \"Linear Learner\", \"Host\": \"algo-1\", \"Operation\": \"training\", \"epoch\": 7, \"model\": 7}, \"Metrics\": {\"train_weighted_softmax_loss_objective\": {\"sum\": 1.0846231689453125, \"count\": 1, \"min\": 1.0846231689453125, \"max\": 1.0846231689453125}}}\u001b[0m\n",
      "\u001b[34m#metrics {\"StartTime\": 1652251846.8354714, \"EndTime\": 1652251846.835487, \"Dimensions\": {\"Algorithm\": \"Linear Learner\", \"Host\": \"algo-1\", \"Operation\": \"training\", \"epoch\": 7, \"model\": 8}, \"Metrics\": {\"train_weighted_softmax_loss_objective\": {\"sum\": 0.7989959716796875, \"count\": 1, \"min\": 0.7989959716796875, \"max\": 0.7989959716796875}}}\u001b[0m\n",
      "\u001b[34m#metrics {\"StartTime\": 1652251846.835549, \"EndTime\": 1652251846.8355668, \"Dimensions\": {\"Algorithm\": \"Linear Learner\", \"Host\": \"algo-1\", \"Operation\": \"training\", \"epoch\": 7, \"model\": 9}, \"Metrics\": {\"train_weighted_softmax_loss_objective\": {\"sum\": 1.2675286865234374, \"count\": 1, \"min\": 1.2675286865234374, \"max\": 1.2675286865234374}}}\u001b[0m\n",
      "\u001b[34m[05/11/2022 06:50:46 INFO 140222784067392] #quality_metric: host=algo-1, epoch=7, train weighted_softmax_loss_objective <loss>=1.128192626953125\u001b[0m\n",
      "\u001b[34m[2022-05-11 06:50:46.859] [tensorio] [info] epoch_stats={\"data_pipeline\": \"/opt/ml/input/data/validation\", \"epoch\": 23, \"duration\": 13, \"num_examples\": 1, \"num_bytes\": 11544}\u001b[0m\n",
      "\u001b[34m#metrics {\"StartTime\": 1652251846.8648033, \"EndTime\": 1652251846.8648472, \"Dimensions\": {\"Algorithm\": \"Linear Learner\", \"Host\": \"algo-1\", \"Operation\": \"training\", \"epoch\": 7, \"model\": 0}, \"Metrics\": {\"validation_weighted_softmax_loss_objective\": {\"sum\": 1.0835321099908501, \"count\": 1, \"min\": 1.0835321099908501, \"max\": 1.0835321099908501}}}\u001b[0m\n",
      "\u001b[34m#metrics {\"StartTime\": 1652251846.8649294, \"EndTime\": 1652251846.864946, \"Dimensions\": {\"Algorithm\": \"Linear Learner\", \"Host\": \"algo-1\", \"Operation\": \"training\", \"epoch\": 7, \"model\": 1}, \"Metrics\": {\"validation_weighted_softmax_loss_objective\": {\"sum\": 1.0643365533502251, \"count\": 1, \"min\": 1.0643365533502251, \"max\": 1.0643365533502251}}}\u001b[0m\n",
      "\u001b[34m#metrics {\"StartTime\": 1652251846.865003, \"EndTime\": 1652251846.8650184, \"Dimensions\": {\"Algorithm\": \"Linear Learner\", \"Host\": \"algo-1\", \"Operation\": \"training\", \"epoch\": 7, \"model\": 2}, \"Metrics\": {\"validation_weighted_softmax_loss_objective\": {\"sum\": 0.8885168127111487, \"count\": 1, \"min\": 0.8885168127111487, \"max\": 0.8885168127111487}}}\u001b[0m\n",
      "\u001b[34m#metrics {\"StartTime\": 1652251846.8650525, \"EndTime\": 1652251846.865061, \"Dimensions\": {\"Algorithm\": \"Linear Learner\", \"Host\": \"algo-1\", \"Operation\": \"training\", \"epoch\": 7, \"model\": 3}, \"Metrics\": {\"validation_weighted_softmax_loss_objective\": {\"sum\": 0.9828829378695101, \"count\": 1, \"min\": 0.9828829378695101, \"max\": 0.9828829378695101}}}\u001b[0m\n",
      "\u001b[34m#metrics {\"StartTime\": 1652251846.865095, \"EndTime\": 1652251846.8651092, \"Dimensions\": {\"Algorithm\": \"Linear Learner\", \"Host\": \"algo-1\", \"Operation\": \"training\", \"epoch\": 7, \"model\": 4}, \"Metrics\": {\"validation_weighted_softmax_loss_objective\": {\"sum\": 1.0554821942303632, \"count\": 1, \"min\": 1.0554821942303632, \"max\": 1.0554821942303632}}}\u001b[0m\n",
      "\u001b[34m#metrics {\"StartTime\": 1652251846.865162, \"EndTime\": 1652251846.8652678, \"Dimensions\": {\"Algorithm\": \"Linear Learner\", \"Host\": \"algo-1\", \"Operation\": \"training\", \"epoch\": 7, \"model\": 5}, \"Metrics\": {\"validation_weighted_softmax_loss_objective\": {\"sum\": 1.641498462573902, \"count\": 1, \"min\": 1.641498462573902, \"max\": 1.641498462573902}}}\u001b[0m\n",
      "\u001b[34m#metrics {\"StartTime\": 1652251846.865326, \"EndTime\": 1652251846.8653426, \"Dimensions\": {\"Algorithm\": \"Linear Learner\", \"Host\": \"algo-1\", \"Operation\": \"training\", \"epoch\": 7, \"model\": 6}, \"Metrics\": {\"validation_weighted_softmax_loss_objective\": {\"sum\": 0.9626051756712768, \"count\": 1, \"min\": 0.9626051756712768, \"max\": 0.9626051756712768}}}\u001b[0m\n",
      "\u001b[34m#metrics {\"StartTime\": 1652251846.8653905, \"EndTime\": 1652251846.8654008, \"Dimensions\": {\"Algorithm\": \"Linear Learner\", \"Host\": \"algo-1\", \"Operation\": \"training\", \"epoch\": 7, \"model\": 7}, \"Metrics\": {\"validation_weighted_softmax_loss_objective\": {\"sum\": 1.0542427269188133, \"count\": 1, \"min\": 1.0542427269188133, \"max\": 1.0542427269188133}}}\u001b[0m\n",
      "\u001b[34m#metrics {\"StartTime\": 1652251846.8654287, \"EndTime\": 1652251846.8654363, \"Dimensions\": {\"Algorithm\": \"Linear Learner\", \"Host\": \"algo-1\", \"Operation\": \"training\", \"epoch\": 7, \"model\": 8}, \"Metrics\": {\"validation_weighted_softmax_loss_objective\": {\"sum\": 0.767209783330694, \"count\": 1, \"min\": 0.767209783330694, \"max\": 0.767209783330694}}}\u001b[0m\n",
      "\u001b[34m#metrics {\"StartTime\": 1652251846.865472, \"EndTime\": 1652251846.8654864, \"Dimensions\": {\"Algorithm\": \"Linear Learner\", \"Host\": \"algo-1\", \"Operation\": \"training\", \"epoch\": 7, \"model\": 9}, \"Metrics\": {\"validation_weighted_softmax_loss_objective\": {\"sum\": 0.8048280595659135, \"count\": 1, \"min\": 0.8048280595659135, \"max\": 0.8048280595659135}}}\u001b[0m\n",
      "\u001b[34m[05/11/2022 06:50:46 INFO 140222784067392] #quality_metric: host=algo-1, epoch=7, validation weighted_softmax_loss_objective <loss>=1.0835321099908501\u001b[0m\n",
      "\u001b[34m[05/11/2022 06:50:46 INFO 140222784067392] #early_stopping_criteria_metric: host=algo-1, epoch=7, criteria=weighted_softmax_loss_objective, value=0.767209783330694\u001b[0m\n",
      "\u001b[34m[05/11/2022 06:50:46 INFO 140222784067392] Epoch 7: Loss improved. Updating best model\u001b[0m\n",
      "\u001b[34m[05/11/2022 06:50:46 INFO 140222784067392] Saving model for epoch: 7\u001b[0m\n",
      "\u001b[34m[05/11/2022 06:50:46 INFO 140222784067392] Saved checkpoint to \"/tmp/tmpzm5an811/mx-mod-0000.params\"\u001b[0m\n",
      "\u001b[34m[05/11/2022 06:50:46 INFO 140222784067392] #progress_metric: host=algo-1, completed 53.333333333333336 % of epochs\u001b[0m\n",
      "\u001b[34m#metrics {\"StartTime\": 1652251846.8028154, \"EndTime\": 1652251846.8765135, \"Dimensions\": {\"Algorithm\": \"Linear Learner\", \"Host\": \"algo-1\", \"Operation\": \"training\", \"epoch\": 7, \"Meta\": \"training_data_iter\"}, \"Metrics\": {\"Total Records Seen\": {\"sum\": 16984.0, \"count\": 1, \"min\": 16984, \"max\": 16984}, \"Total Batches Seen\": {\"sum\": 19.0, \"count\": 1, \"min\": 19, \"max\": 19}, \"Max Records Seen Between Resets\": {\"sum\": 1776.0, \"count\": 1, \"min\": 1776, \"max\": 1776}, \"Max Batches Seen Between Resets\": {\"sum\": 2.0, \"count\": 1, \"min\": 2, \"max\": 2}, \"Reset Count\": {\"sum\": 10.0, \"count\": 1, \"min\": 10, \"max\": 10}, \"Number of Records Since Last Reset\": {\"sum\": 1776.0, \"count\": 1, \"min\": 1776, \"max\": 1776}, \"Number of Batches Since Last Reset\": {\"sum\": 2.0, \"count\": 1, \"min\": 2, \"max\": 2}}}\u001b[0m\n",
      "\u001b[34m[05/11/2022 06:50:46 INFO 140222784067392] #throughput_metric: host=algo-1, train throughput=24038.763332666404 records/second\u001b[0m\n",
      "\u001b[34m[2022-05-11 06:50:46.915] [tensorio] [info] epoch_stats={\"data_pipeline\": \"/opt/ml/input/data/train\", \"epoch\": 20, \"duration\": 38, \"num_examples\": 2, \"num_bytes\": 92352}\u001b[0m\n",
      "\u001b[34m#metrics {\"StartTime\": 1652251846.915754, \"EndTime\": 1652251846.9158392, \"Dimensions\": {\"Algorithm\": \"Linear Learner\", \"Host\": \"algo-1\", \"Operation\": \"training\", \"epoch\": 8, \"model\": 0}, \"Metrics\": {\"train_weighted_softmax_loss_objective\": {\"sum\": 1.0896153564453126, \"count\": 1, \"min\": 1.0896153564453126, \"max\": 1.0896153564453126}}}\u001b[0m\n",
      "\u001b[34m#metrics {\"StartTime\": 1652251846.915973, \"EndTime\": 1652251846.915999, \"Dimensions\": {\"Algorithm\": \"Linear Learner\", \"Host\": \"algo-1\", \"Operation\": \"training\", \"epoch\": 8, \"model\": 1}, \"Metrics\": {\"train_weighted_softmax_loss_objective\": {\"sum\": 1.0686837158203124, \"count\": 1, \"min\": 1.0686837158203124, \"max\": 1.0686837158203124}}}\u001b[0m\n",
      "\u001b[34m#metrics {\"StartTime\": 1652251846.9160657, \"EndTime\": 1652251846.9160895, \"Dimensions\": {\"Algorithm\": \"Linear Learner\", \"Host\": \"algo-1\", \"Operation\": \"training\", \"epoch\": 8, \"model\": 2}, \"Metrics\": {\"train_weighted_softmax_loss_objective\": {\"sum\": 0.8987279663085938, \"count\": 1, \"min\": 0.8987279663085938, \"max\": 0.8987279663085938}}}\u001b[0m\n",
      "\u001b[34m#metrics {\"StartTime\": 1652251846.9161534, \"EndTime\": 1652251846.9161713, \"Dimensions\": {\"Algorithm\": \"Linear Learner\", \"Host\": \"algo-1\", \"Operation\": \"training\", \"epoch\": 8, \"model\": 3}, \"Metrics\": {\"train_weighted_softmax_loss_objective\": {\"sum\": 0.9900488891601562, \"count\": 1, \"min\": 0.9900488891601562, \"max\": 0.9900488891601562}}}\u001b[0m\n",
      "\u001b[34m#metrics {\"StartTime\": 1652251846.916263, \"EndTime\": 1652251846.9162838, \"Dimensions\": {\"Algorithm\": \"Linear Learner\", \"Host\": \"algo-1\", \"Operation\": \"training\", \"epoch\": 8, \"model\": 4}, \"Metrics\": {\"train_weighted_softmax_loss_objective\": {\"sum\": 1.0600509033203125, \"count\": 1, \"min\": 1.0600509033203125, \"max\": 1.0600509033203125}}}\u001b[0m\n",
      "\u001b[34m#metrics {\"StartTime\": 1652251846.9163492, \"EndTime\": 1652251846.9163644, \"Dimensions\": {\"Algorithm\": \"Linear Learner\", \"Host\": \"algo-1\", \"Operation\": \"training\", \"epoch\": 8, \"model\": 5}, \"Metrics\": {\"train_weighted_softmax_loss_objective\": {\"sum\": 1.6481474609375, \"count\": 1, \"min\": 1.6481474609375, \"max\": 1.6481474609375}}}\u001b[0m\n",
      "\u001b[34m#metrics {\"StartTime\": 1652251846.9164155, \"EndTime\": 1652251846.9164302, \"Dimensions\": {\"Algorithm\": \"Linear Learner\", \"Host\": \"algo-1\", \"Operation\": \"training\", \"epoch\": 8, \"model\": 6}, \"Metrics\": {\"train_weighted_softmax_loss_objective\": {\"sum\": 0.9667898559570313, \"count\": 1, \"min\": 0.9667898559570313, \"max\": 0.9667898559570313}}}\u001b[0m\n",
      "\u001b[34m#metrics {\"StartTime\": 1652251846.9164793, \"EndTime\": 1652251846.9164948, \"Dimensions\": {\"Algorithm\": \"Linear Learner\", \"Host\": \"algo-1\", \"Operation\": \"training\", \"epoch\": 8, \"model\": 7}, \"Metrics\": {\"train_weighted_softmax_loss_objective\": {\"sum\": 1.061116943359375, \"count\": 1, \"min\": 1.061116943359375, \"max\": 1.061116943359375}}}\u001b[0m\n",
      "\u001b[34m#metrics {\"StartTime\": 1652251846.9165583, \"EndTime\": 1652251846.9165757, \"Dimensions\": {\"Algorithm\": \"Linear Learner\", \"Host\": \"algo-1\", \"Operation\": \"training\", \"epoch\": 8, \"model\": 8}, \"Metrics\": {\"train_weighted_softmax_loss_objective\": {\"sum\": 0.78183251953125, \"count\": 1, \"min\": 0.78183251953125, \"max\": 0.78183251953125}}}\u001b[0m\n",
      "\u001b[34m#metrics {\"StartTime\": 1652251846.9166222, \"EndTime\": 1652251846.9166322, \"Dimensions\": {\"Algorithm\": \"Linear Learner\", \"Host\": \"algo-1\", \"Operation\": \"training\", \"epoch\": 8, \"model\": 9}, \"Metrics\": {\"train_weighted_softmax_loss_objective\": {\"sum\": 0.831040771484375, \"count\": 1, \"min\": 0.831040771484375, \"max\": 0.831040771484375}}}\u001b[0m\n",
      "\u001b[34m[05/11/2022 06:50:46 INFO 140222784067392] #quality_metric: host=algo-1, epoch=8, train weighted_softmax_loss_objective <loss>=1.0896153564453126\u001b[0m\n",
      "\u001b[34m[2022-05-11 06:50:46.949] [tensorio] [info] epoch_stats={\"data_pipeline\": \"/opt/ml/input/data/validation\", \"epoch\": 26, \"duration\": 19, \"num_examples\": 1, \"num_bytes\": 11544}\u001b[0m\n",
      "\u001b[34m#metrics {\"StartTime\": 1652251846.9537044, \"EndTime\": 1652251846.9537752, \"Dimensions\": {\"Algorithm\": \"Linear Learner\", \"Host\": \"algo-1\", \"Operation\": \"training\", \"epoch\": 8, \"model\": 0}, \"Metrics\": {\"validation_weighted_softmax_loss_objective\": {\"sum\": 1.0525682466524142, \"count\": 1, \"min\": 1.0525682466524142, \"max\": 1.0525682466524142}}}\u001b[0m\n",
      "\u001b[34m#metrics {\"StartTime\": 1652251846.9539187, \"EndTime\": 1652251846.9539466, \"Dimensions\": {\"Algorithm\": \"Linear Learner\", \"Host\": \"algo-1\", \"Operation\": \"training\", \"epoch\": 8, \"model\": 1}, \"Metrics\": {\"validation_weighted_softmax_loss_objective\": {\"sum\": 1.036368567664344, \"count\": 1, \"min\": 1.036368567664344, \"max\": 1.036368567664344}}}\u001b[0m\n",
      "\u001b[34m#metrics {\"StartTime\": 1652251846.9540088, \"EndTime\": 1652251846.954027, \"Dimensions\": {\"Algorithm\": \"Linear Learner\", \"Host\": \"algo-1\", \"Operation\": \"training\", \"epoch\": 8, \"model\": 2}, \"Metrics\": {\"validation_weighted_softmax_loss_objective\": {\"sum\": 0.8686639596750071, \"count\": 1, \"min\": 0.8686639596750071, \"max\": 0.8686639596750071}}}\u001b[0m\n",
      "\u001b[34m#metrics {\"StartTime\": 1652251846.9540823, \"EndTime\": 1652251846.9541001, \"Dimensions\": {\"Algorithm\": \"Linear Learner\", \"Host\": \"algo-1\", \"Operation\": \"training\", \"epoch\": 8, \"model\": 3}, \"Metrics\": {\"validation_weighted_softmax_loss_objective\": {\"sum\": 0.9608280766117681, \"count\": 1, \"min\": 0.9608280766117681, \"max\": 0.9608280766117681}}}\u001b[0m\n",
      "\u001b[34m#metrics {\"StartTime\": 1652251846.9541557, \"EndTime\": 1652251846.9541724, \"Dimensions\": {\"Algorithm\": \"Linear Learner\", \"Host\": \"algo-1\", \"Operation\": \"training\", \"epoch\": 8, \"model\": 4}, \"Metrics\": {\"validation_weighted_softmax_loss_objective\": {\"sum\": 1.0276810929581925, \"count\": 1, \"min\": 1.0276810929581925, \"max\": 1.0276810929581925}}}\u001b[0m\n",
      "\u001b[34m#metrics {\"StartTime\": 1652251846.9542272, \"EndTime\": 1652251846.9542437, \"Dimensions\": {\"Algorithm\": \"Linear Learner\", \"Host\": \"algo-1\", \"Operation\": \"training\", \"epoch\": 8, \"model\": 5}, \"Metrics\": {\"validation_weighted_softmax_loss_objective\": {\"sum\": 1.6118021097269144, \"count\": 1, \"min\": 1.6118021097269144, \"max\": 1.6118021097269144}}}\u001b[0m\n",
      "\u001b[34m#metrics {\"StartTime\": 1652251846.954294, \"EndTime\": 1652251846.9543083, \"Dimensions\": {\"Algorithm\": \"Linear Learner\", \"Host\": \"algo-1\", \"Operation\": \"training\", \"epoch\": 8, \"model\": 6}, \"Metrics\": {\"validation_weighted_softmax_loss_objective\": {\"sum\": 0.9396341684702281, \"count\": 1, \"min\": 0.9396341684702281, \"max\": 0.9396341684702281}}}\u001b[0m\n",
      "\u001b[34m#metrics {\"StartTime\": 1652251846.95435, \"EndTime\": 1652251846.954362, \"Dimensions\": {\"Algorithm\": \"Linear Learner\", \"Host\": \"algo-1\", \"Operation\": \"training\", \"epoch\": 8, \"model\": 7}, \"Metrics\": {\"validation_weighted_softmax_loss_objective\": {\"sum\": 1.0336753226615287, \"count\": 1, \"min\": 1.0336753226615287, \"max\": 1.0336753226615287}}}\u001b[0m\n",
      "\u001b[34m#metrics {\"StartTime\": 1652251846.9544015, \"EndTime\": 1652251846.9544134, \"Dimensions\": {\"Algorithm\": \"Linear Learner\", \"Host\": \"algo-1\", \"Operation\": \"training\", \"epoch\": 8, \"model\": 8}, \"Metrics\": {\"validation_weighted_softmax_loss_objective\": {\"sum\": 0.7525422379777238, \"count\": 1, \"min\": 0.7525422379777238, \"max\": 0.7525422379777238}}}\u001b[0m\n",
      "\u001b[34m#metrics {\"StartTime\": 1652251846.9544573, \"EndTime\": 1652251846.95447, \"Dimensions\": {\"Algorithm\": \"Linear Learner\", \"Host\": \"algo-1\", \"Operation\": \"training\", \"epoch\": 8, \"model\": 9}, \"Metrics\": {\"validation_weighted_softmax_loss_objective\": {\"sum\": 0.7812653275223466, \"count\": 1, \"min\": 0.7812653275223466, \"max\": 0.7812653275223466}}}\u001b[0m\n",
      "\u001b[34m[05/11/2022 06:50:46 INFO 140222784067392] #quality_metric: host=algo-1, epoch=8, validation weighted_softmax_loss_objective <loss>=1.0525682466524142\u001b[0m\n",
      "\u001b[34m[05/11/2022 06:50:46 INFO 140222784067392] #early_stopping_criteria_metric: host=algo-1, epoch=8, criteria=weighted_softmax_loss_objective, value=0.7525422379777238\u001b[0m\n",
      "\u001b[34m[05/11/2022 06:50:46 INFO 140222784067392] Epoch 8: Loss improved. Updating best model\u001b[0m\n",
      "\u001b[34m[05/11/2022 06:50:46 INFO 140222784067392] Saving model for epoch: 8\u001b[0m\n",
      "\u001b[34m[05/11/2022 06:50:46 INFO 140222784067392] Saved checkpoint to \"/tmp/tmpms0yd7m0/mx-mod-0000.params\"\u001b[0m\n",
      "\u001b[34m[05/11/2022 06:50:46 INFO 140222784067392] #progress_metric: host=algo-1, completed 60.0 % of epochs\u001b[0m\n",
      "\u001b[34m#metrics {\"StartTime\": 1652251846.8768795, \"EndTime\": 1652251846.9754484, \"Dimensions\": {\"Algorithm\": \"Linear Learner\", \"Host\": \"algo-1\", \"Operation\": \"training\", \"epoch\": 8, \"Meta\": \"training_data_iter\"}, \"Metrics\": {\"Total Records Seen\": {\"sum\": 18760.0, \"count\": 1, \"min\": 18760, \"max\": 18760}, \"Total Batches Seen\": {\"sum\": 21.0, \"count\": 1, \"min\": 21, \"max\": 21}, \"Max Records Seen Between Resets\": {\"sum\": 1776.0, \"count\": 1, \"min\": 1776, \"max\": 1776}, \"Max Batches Seen Between Resets\": {\"sum\": 2.0, \"count\": 1, \"min\": 2, \"max\": 2}, \"Reset Count\": {\"sum\": 11.0, \"count\": 1, \"min\": 11, \"max\": 11}, \"Number of Records Since Last Reset\": {\"sum\": 1776.0, \"count\": 1, \"min\": 1776, \"max\": 1776}, \"Number of Batches Since Last Reset\": {\"sum\": 2.0, \"count\": 1, \"min\": 2, \"max\": 2}}}\u001b[0m\n",
      "\u001b[34m[05/11/2022 06:50:46 INFO 140222784067392] #throughput_metric: host=algo-1, train throughput=17927.568299198574 records/second\u001b[0m\n",
      "\u001b[34m[2022-05-11 06:50:47.020] [tensorio] [info] epoch_stats={\"data_pipeline\": \"/opt/ml/input/data/train\", \"epoch\": 22, \"duration\": 43, \"num_examples\": 2, \"num_bytes\": 92352}\u001b[0m\n",
      "\u001b[34m#metrics {\"StartTime\": 1652251847.0205963, \"EndTime\": 1652251847.0206652, \"Dimensions\": {\"Algorithm\": \"Linear Learner\", \"Host\": \"algo-1\", \"Operation\": \"training\", \"epoch\": 9, \"model\": 0}, \"Metrics\": {\"train_weighted_softmax_loss_objective\": {\"sum\": 1.0588736572265625, \"count\": 1, \"min\": 1.0588736572265625, \"max\": 1.0588736572265625}}}\u001b[0m\n",
      "\u001b[34m#metrics {\"StartTime\": 1652251847.0209868, \"EndTime\": 1652251847.0210135, \"Dimensions\": {\"Algorithm\": \"Linear Learner\", \"Host\": \"algo-1\", \"Operation\": \"training\", \"epoch\": 9, \"model\": 1}, \"Metrics\": {\"train_weighted_softmax_loss_objective\": {\"sum\": 1.041122314453125, \"count\": 1, \"min\": 1.041122314453125, \"max\": 1.041122314453125}}}\u001b[0m\n",
      "\u001b[34m#metrics {\"StartTime\": 1652251847.0215104, \"EndTime\": 1652251847.0215406, \"Dimensions\": {\"Algorithm\": \"Linear Learner\", \"Host\": \"algo-1\", \"Operation\": \"training\", \"epoch\": 9, \"model\": 2}, \"Metrics\": {\"train_weighted_softmax_loss_objective\": {\"sum\": 0.87968603515625, \"count\": 1, \"min\": 0.87968603515625, \"max\": 0.87968603515625}}}\u001b[0m\n",
      "\u001b[34m#metrics {\"StartTime\": 1652251847.0218747, \"EndTime\": 1652251847.021902, \"Dimensions\": {\"Algorithm\": \"Linear Learner\", \"Host\": \"algo-1\", \"Operation\": \"training\", \"epoch\": 9, \"model\": 3}, \"Metrics\": {\"train_weighted_softmax_loss_objective\": {\"sum\": 0.9685260009765625, \"count\": 1, \"min\": 0.9685260009765625, \"max\": 0.9685260009765625}}}\u001b[0m\n",
      "\u001b[34m#metrics {\"StartTime\": 1652251847.0222213, \"EndTime\": 1652251847.0222483, \"Dimensions\": {\"Algorithm\": \"Linear Learner\", \"Host\": \"algo-1\", \"Operation\": \"training\", \"epoch\": 9, \"model\": 4}, \"Metrics\": {\"train_weighted_softmax_loss_objective\": {\"sum\": 1.032631591796875, \"count\": 1, \"min\": 1.032631591796875, \"max\": 1.032631591796875}}}\u001b[0m\n",
      "\u001b[34m#metrics {\"StartTime\": 1652251847.0226219, \"EndTime\": 1652251847.0226498, \"Dimensions\": {\"Algorithm\": \"Linear Learner\", \"Host\": \"algo-1\", \"Operation\": \"training\", \"epoch\": 9, \"model\": 5}, \"Metrics\": {\"train_weighted_softmax_loss_objective\": {\"sum\": 1.6187589111328125, \"count\": 1, \"min\": 1.6187589111328125, \"max\": 1.6187589111328125}}}\u001b[0m\n",
      "\u001b[34m#metrics {\"StartTime\": 1652251847.0231967, \"EndTime\": 1652251847.0232258, \"Dimensions\": {\"Algorithm\": \"Linear Learner\", \"Host\": \"algo-1\", \"Operation\": \"training\", \"epoch\": 9, \"model\": 6}, \"Metrics\": {\"train_weighted_softmax_loss_objective\": {\"sum\": 0.9446290283203125, \"count\": 1, \"min\": 0.9446290283203125, \"max\": 0.9446290283203125}}}\u001b[0m\n",
      "\u001b[34m#metrics {\"StartTime\": 1652251847.023307, \"EndTime\": 1652251847.0233278, \"Dimensions\": {\"Algorithm\": \"Linear Learner\", \"Host\": \"algo-1\", \"Operation\": \"training\", \"epoch\": 9, \"model\": 7}, \"Metrics\": {\"train_weighted_softmax_loss_objective\": {\"sum\": 1.0409195556640625, \"count\": 1, \"min\": 1.0409195556640625, \"max\": 1.0409195556640625}}}\u001b[0m\n",
      "\u001b[34m#metrics {\"StartTime\": 1652251847.0233874, \"EndTime\": 1652251847.0234053, \"Dimensions\": {\"Algorithm\": \"Linear Learner\", \"Host\": \"algo-1\", \"Operation\": \"training\", \"epoch\": 9, \"model\": 8}, \"Metrics\": {\"train_weighted_softmax_loss_objective\": {\"sum\": 0.7690145874023437, \"count\": 1, \"min\": 0.7690145874023437, \"max\": 0.7690145874023437}}}\u001b[0m\n",
      "\u001b[34m#metrics {\"StartTime\": 1652251847.0235074, \"EndTime\": 1652251847.023529, \"Dimensions\": {\"Algorithm\": \"Linear Learner\", \"Host\": \"algo-1\", \"Operation\": \"training\", \"epoch\": 9, \"model\": 9}, \"Metrics\": {\"train_weighted_softmax_loss_objective\": {\"sum\": 0.8125834350585938, \"count\": 1, \"min\": 0.8125834350585938, \"max\": 0.8125834350585938}}}\u001b[0m\n",
      "\u001b[34m[05/11/2022 06:50:47 INFO 140222784067392] #quality_metric: host=algo-1, epoch=9, train weighted_softmax_loss_objective <loss>=1.0588736572265625\u001b[0m\n",
      "\u001b[34m[2022-05-11 06:50:47.054] [tensorio] [info] epoch_stats={\"data_pipeline\": \"/opt/ml/input/data/validation\", \"epoch\": 29, \"duration\": 19, \"num_examples\": 1, \"num_bytes\": 11544}\u001b[0m\n",
      "\u001b[34m#metrics {\"StartTime\": 1652251847.0601528, \"EndTime\": 1652251847.0602183, \"Dimensions\": {\"Algorithm\": \"Linear Learner\", \"Host\": \"algo-1\", \"Operation\": \"training\", \"epoch\": 9, \"model\": 0}, \"Metrics\": {\"validation_weighted_softmax_loss_objective\": {\"sum\": 1.0271632563960444, \"count\": 1, \"min\": 1.0271632563960444, \"max\": 1.0271632563960444}}}\u001b[0m\n",
      "\u001b[34m#metrics {\"StartTime\": 1652251847.06034, \"EndTime\": 1652251847.060364, \"Dimensions\": {\"Algorithm\": \"Linear Learner\", \"Host\": \"algo-1\", \"Operation\": \"training\", \"epoch\": 9, \"model\": 1}, \"Metrics\": {\"validation_weighted_softmax_loss_objective\": {\"sum\": 1.0129441269883164, \"count\": 1, \"min\": 1.0129441269883164, \"max\": 1.0129441269883164}}}\u001b[0m\n",
      "\u001b[34m#metrics {\"StartTime\": 1652251847.0604215, \"EndTime\": 1652251847.0604372, \"Dimensions\": {\"Algorithm\": \"Linear Learner\", \"Host\": \"algo-1\", \"Operation\": \"training\", \"epoch\": 9, \"model\": 2}, \"Metrics\": {\"validation_weighted_softmax_loss_objective\": {\"sum\": 0.8517267725489162, \"count\": 1, \"min\": 0.8517267725489162, \"max\": 0.8517267725489162}}}\u001b[0m\n",
      "\u001b[34m#metrics {\"StartTime\": 1652251847.06049, \"EndTime\": 1652251847.0605056, \"Dimensions\": {\"Algorithm\": \"Linear Learner\", \"Host\": \"algo-1\", \"Operation\": \"training\", \"epoch\": 9, \"model\": 3}, \"Metrics\": {\"validation_weighted_softmax_loss_objective\": {\"sum\": 0.9423654229791315, \"count\": 1, \"min\": 0.9423654229791315, \"max\": 0.9423654229791315}}}\u001b[0m\n",
      "\u001b[34m#metrics {\"StartTime\": 1652251847.0605571, \"EndTime\": 1652251847.0605721, \"Dimensions\": {\"Algorithm\": \"Linear Learner\", \"Host\": \"algo-1\", \"Operation\": \"training\", \"epoch\": 9, \"model\": 4}, \"Metrics\": {\"validation_weighted_softmax_loss_objective\": {\"sum\": 1.0044686944635064, \"count\": 1, \"min\": 1.0044686944635064, \"max\": 1.0044686944635064}}}\u001b[0m\n",
      "\u001b[34m#metrics {\"StartTime\": 1652251847.0606213, \"EndTime\": 1652251847.060635, \"Dimensions\": {\"Algorithm\": \"Linear Learner\", \"Host\": \"algo-1\", \"Operation\": \"training\", \"epoch\": 9, \"model\": 5}, \"Metrics\": {\"validation_weighted_softmax_loss_objective\": {\"sum\": 1.5838004447318412, \"count\": 1, \"min\": 1.5838004447318412, \"max\": 1.5838004447318412}}}\u001b[0m\n",
      "\u001b[34m#metrics {\"StartTime\": 1652251847.0606818, \"EndTime\": 1652251847.060695, \"Dimensions\": {\"Algorithm\": \"Linear Learner\", \"Host\": \"algo-1\", \"Operation\": \"training\", \"epoch\": 9, \"model\": 6}, \"Metrics\": {\"validation_weighted_softmax_loss_objective\": {\"sum\": 0.9194486463392103, \"count\": 1, \"min\": 0.9194486463392103, \"max\": 0.9194486463392103}}}\u001b[0m\n",
      "\u001b[34m#metrics {\"StartTime\": 1652251847.0607526, \"EndTime\": 1652251847.0607674, \"Dimensions\": {\"Algorithm\": \"Linear Learner\", \"Host\": \"algo-1\", \"Operation\": \"training\", \"epoch\": 9, \"model\": 7}, \"Metrics\": {\"validation_weighted_softmax_loss_objective\": {\"sum\": 1.0156379218574043, \"count\": 1, \"min\": 1.0156379218574043, \"max\": 1.0156379218574043}}}\u001b[0m\n",
      "\u001b[34m#metrics {\"StartTime\": 1652251847.0608156, \"EndTime\": 1652251847.0608308, \"Dimensions\": {\"Algorithm\": \"Linear Learner\", \"Host\": \"algo-1\", \"Operation\": \"training\", \"epoch\": 9, \"model\": 8}, \"Metrics\": {\"validation_weighted_softmax_loss_objective\": {\"sum\": 0.7412349941494228, \"count\": 1, \"min\": 0.7412349941494228, \"max\": 0.7412349941494228}}}\u001b[0m\n",
      "\u001b[34m#metrics {\"StartTime\": 1652251847.0608788, \"EndTime\": 1652251847.0608928, \"Dimensions\": {\"Algorithm\": \"Linear Learner\", \"Host\": \"algo-1\", \"Operation\": \"training\", \"epoch\": 9, \"model\": 9}, \"Metrics\": {\"validation_weighted_softmax_loss_objective\": {\"sum\": 0.7905573114618525, \"count\": 1, \"min\": 0.7905573114618525, \"max\": 0.7905573114618525}}}\u001b[0m\n",
      "\u001b[34m[05/11/2022 06:50:47 INFO 140222784067392] #quality_metric: host=algo-1, epoch=9, validation weighted_softmax_loss_objective <loss>=1.0271632563960444\u001b[0m\n",
      "\u001b[34m[05/11/2022 06:50:47 INFO 140222784067392] #early_stopping_criteria_metric: host=algo-1, epoch=9, criteria=weighted_softmax_loss_objective, value=0.7412349941494228\u001b[0m\n",
      "\u001b[34m[05/11/2022 06:50:47 INFO 140222784067392] Epoch 9: Loss improved. Updating best model\u001b[0m\n",
      "\u001b[34m[05/11/2022 06:50:47 INFO 140222784067392] Saving model for epoch: 9\u001b[0m\n",
      "\u001b[34m[05/11/2022 06:50:47 INFO 140222784067392] Saved checkpoint to \"/tmp/tmpxsgt_rgm/mx-mod-0000.params\"\u001b[0m\n",
      "\u001b[34m[05/11/2022 06:50:47 INFO 140222784067392] #progress_metric: host=algo-1, completed 66.66666666666667 % of epochs\u001b[0m\n",
      "\u001b[34m#metrics {\"StartTime\": 1652251846.9763174, \"EndTime\": 1652251847.0758004, \"Dimensions\": {\"Algorithm\": \"Linear Learner\", \"Host\": \"algo-1\", \"Operation\": \"training\", \"epoch\": 9, \"Meta\": \"training_data_iter\"}, \"Metrics\": {\"Total Records Seen\": {\"sum\": 20536.0, \"count\": 1, \"min\": 20536, \"max\": 20536}, \"Total Batches Seen\": {\"sum\": 23.0, \"count\": 1, \"min\": 23, \"max\": 23}, \"Max Records Seen Between Resets\": {\"sum\": 1776.0, \"count\": 1, \"min\": 1776, \"max\": 1776}, \"Max Batches Seen Between Resets\": {\"sum\": 2.0, \"count\": 1, \"min\": 2, \"max\": 2}, \"Reset Count\": {\"sum\": 12.0, \"count\": 1, \"min\": 12, \"max\": 12}, \"Number of Records Since Last Reset\": {\"sum\": 1776.0, \"count\": 1, \"min\": 1776, \"max\": 1776}, \"Number of Batches Since Last Reset\": {\"sum\": 2.0, \"count\": 1, \"min\": 2, \"max\": 2}}}\u001b[0m\n",
      "\u001b[34m[05/11/2022 06:50:47 INFO 140222784067392] #throughput_metric: host=algo-1, train throughput=17783.71838585149 records/second\u001b[0m\n",
      "\u001b[34m[2022-05-11 06:50:47.104] [tensorio] [info] epoch_stats={\"data_pipeline\": \"/opt/ml/input/data/train\", \"epoch\": 24, \"duration\": 27, \"num_examples\": 2, \"num_bytes\": 92352}\u001b[0m\n",
      "\u001b[34m#metrics {\"StartTime\": 1652251847.1047587, \"EndTime\": 1652251847.1048222, \"Dimensions\": {\"Algorithm\": \"Linear Learner\", \"Host\": \"algo-1\", \"Operation\": \"training\", \"epoch\": 10, \"model\": 0}, \"Metrics\": {\"train_weighted_softmax_loss_objective\": {\"sum\": 1.0336806640625, \"count\": 1, \"min\": 1.0336806640625, \"max\": 1.0336806640625}}}\u001b[0m\n",
      "\u001b[34m#metrics {\"StartTime\": 1652251847.1049185, \"EndTime\": 1652251847.104943, \"Dimensions\": {\"Algorithm\": \"Linear Learner\", \"Host\": \"algo-1\", \"Operation\": \"training\", \"epoch\": 10, \"model\": 1}, \"Metrics\": {\"train_weighted_softmax_loss_objective\": {\"sum\": 1.0181106567382812, \"count\": 1, \"min\": 1.0181106567382812, \"max\": 1.0181106567382812}}}\u001b[0m\n",
      "\u001b[34m#metrics {\"StartTime\": 1652251847.1050007, \"EndTime\": 1652251847.1050708, \"Dimensions\": {\"Algorithm\": \"Linear Learner\", \"Host\": \"algo-1\", \"Operation\": \"training\", \"epoch\": 10, \"model\": 2}, \"Metrics\": {\"train_weighted_softmax_loss_objective\": {\"sum\": 0.8636295776367188, \"count\": 1, \"min\": 0.8636295776367188, \"max\": 0.8636295776367188}}}\u001b[0m\n",
      "\u001b[34m#metrics {\"StartTime\": 1652251847.105142, \"EndTime\": 1652251847.1051621, \"Dimensions\": {\"Algorithm\": \"Linear Learner\", \"Host\": \"algo-1\", \"Operation\": \"training\", \"epoch\": 10, \"model\": 3}, \"Metrics\": {\"train_weighted_softmax_loss_objective\": {\"sum\": 0.9506975708007812, \"count\": 1, \"min\": 0.9506975708007812, \"max\": 0.9506975708007812}}}\u001b[0m\n",
      "\u001b[34m#metrics {\"StartTime\": 1652251847.1052752, \"EndTime\": 1652251847.1052933, \"Dimensions\": {\"Algorithm\": \"Linear Learner\", \"Host\": \"algo-1\", \"Operation\": \"training\", \"epoch\": 10, \"model\": 4}, \"Metrics\": {\"train_weighted_softmax_loss_objective\": {\"sum\": 1.009809814453125, \"count\": 1, \"min\": 1.009809814453125, \"max\": 1.009809814453125}}}\u001b[0m\n",
      "\u001b[34m#metrics {\"StartTime\": 1652251847.1053488, \"EndTime\": 1652251847.105367, \"Dimensions\": {\"Algorithm\": \"Linear Learner\", \"Host\": \"algo-1\", \"Operation\": \"training\", \"epoch\": 10, \"model\": 5}, \"Metrics\": {\"train_weighted_softmax_loss_objective\": {\"sum\": 1.59101513671875, \"count\": 1, \"min\": 1.59101513671875, \"max\": 1.59101513671875}}}\u001b[0m\n",
      "\u001b[34m#metrics {\"StartTime\": 1652251847.1054199, \"EndTime\": 1652251847.1054366, \"Dimensions\": {\"Algorithm\": \"Linear Learner\", \"Host\": \"algo-1\", \"Operation\": \"training\", \"epoch\": 10, \"model\": 6}, \"Metrics\": {\"train_weighted_softmax_loss_objective\": {\"sum\": 0.9253531494140625, \"count\": 1, \"min\": 0.9253531494140625, \"max\": 0.9253531494140625}}}\u001b[0m\n",
      "\u001b[34m#metrics {\"StartTime\": 1652251847.10549, \"EndTime\": 1652251847.1055057, \"Dimensions\": {\"Algorithm\": \"Linear Learner\", \"Host\": \"algo-1\", \"Operation\": \"training\", \"epoch\": 10, \"model\": 7}, \"Metrics\": {\"train_weighted_softmax_loss_objective\": {\"sum\": 1.0232259521484375, \"count\": 1, \"min\": 1.0232259521484375, \"max\": 1.0232259521484375}}}\u001b[0m\n",
      "\u001b[34m#metrics {\"StartTime\": 1652251847.1055593, \"EndTime\": 1652251847.1055765, \"Dimensions\": {\"Algorithm\": \"Linear Learner\", \"Host\": \"algo-1\", \"Operation\": \"training\", \"epoch\": 10, \"model\": 8}, \"Metrics\": {\"train_weighted_softmax_loss_objective\": {\"sum\": 0.7595535278320312, \"count\": 1, \"min\": 0.7595535278320312, \"max\": 0.7595535278320312}}}\u001b[0m\n",
      "\u001b[34m#metrics {\"StartTime\": 1652251847.1056337, \"EndTime\": 1652251847.1056511, \"Dimensions\": {\"Algorithm\": \"Linear Learner\", \"Host\": \"algo-1\", \"Operation\": \"training\", \"epoch\": 10, \"model\": 9}, \"Metrics\": {\"train_weighted_softmax_loss_objective\": {\"sum\": 0.8195045776367188, \"count\": 1, \"min\": 0.8195045776367188, \"max\": 0.8195045776367188}}}\u001b[0m\n",
      "\u001b[34m[05/11/2022 06:50:47 INFO 140222784067392] #quality_metric: host=algo-1, epoch=10, train weighted_softmax_loss_objective <loss>=1.0336806640625\u001b[0m\n",
      "\u001b[34m[2022-05-11 06:50:47.139] [tensorio] [info] epoch_stats={\"data_pipeline\": \"/opt/ml/input/data/validation\", \"epoch\": 32, \"duration\": 19, \"num_examples\": 1, \"num_bytes\": 11544}\u001b[0m\n",
      "\u001b[34m#metrics {\"StartTime\": 1652251847.1464834, \"EndTime\": 1652251847.146564, \"Dimensions\": {\"Algorithm\": \"Linear Learner\", \"Host\": \"algo-1\", \"Operation\": \"training\", \"epoch\": 10, \"model\": 0}, \"Metrics\": {\"validation_weighted_softmax_loss_objective\": {\"sum\": 1.0061466113941089, \"count\": 1, \"min\": 1.0061466113941089, \"max\": 1.0061466113941089}}}\u001b[0m\n",
      "\u001b[34m#metrics {\"StartTime\": 1652251847.1467202, \"EndTime\": 1652251847.1467447, \"Dimensions\": {\"Algorithm\": \"Linear Learner\", \"Host\": \"algo-1\", \"Operation\": \"training\", \"epoch\": 10, \"model\": 1}, \"Metrics\": {\"validation_weighted_softmax_loss_objective\": {\"sum\": 0.9927341358081715, \"count\": 1, \"min\": 0.9927341358081715, \"max\": 0.9927341358081715}}}\u001b[0m\n",
      "\u001b[34m#metrics {\"StartTime\": 1652251847.1476593, \"EndTime\": 1652251847.147687, \"Dimensions\": {\"Algorithm\": \"Linear Learner\", \"Host\": \"algo-1\", \"Operation\": \"training\", \"epoch\": 10, \"model\": 2}, \"Metrics\": {\"validation_weighted_softmax_loss_objective\": {\"sum\": 0.8372217814127604, \"count\": 1, \"min\": 0.8372217814127604, \"max\": 0.8372217814127604}}}\u001b[0m\n",
      "\u001b[34m#metrics {\"StartTime\": 1652251847.147768, \"EndTime\": 1652251847.147788, \"Dimensions\": {\"Algorithm\": \"Linear Learner\", \"Host\": \"algo-1\", \"Operation\": \"training\", \"epoch\": 10, \"model\": 3}, \"Metrics\": {\"validation_weighted_softmax_loss_objective\": {\"sum\": 0.9265475573840442, \"count\": 1, \"min\": 0.9265475573840442, \"max\": 0.9265475573840442}}}\u001b[0m\n",
      "\u001b[34m#metrics {\"StartTime\": 1652251847.1480112, \"EndTime\": 1652251847.1480358, \"Dimensions\": {\"Algorithm\": \"Linear Learner\", \"Host\": \"algo-1\", \"Operation\": \"training\", \"epoch\": 10, \"model\": 4}, \"Metrics\": {\"validation_weighted_softmax_loss_objective\": {\"sum\": 0.9845068991721213, \"count\": 1, \"min\": 0.9845068991721213, \"max\": 0.9845068991721213}}}\u001b[0m\n",
      "\u001b[34m#metrics {\"StartTime\": 1652251847.1485066, \"EndTime\": 1652251847.1485333, \"Dimensions\": {\"Algorithm\": \"Linear Learner\", \"Host\": \"algo-1\", \"Operation\": \"training\", \"epoch\": 10, \"model\": 5}, \"Metrics\": {\"validation_weighted_softmax_loss_objective\": {\"sum\": 1.5572339307080518, \"count\": 1, \"min\": 1.5572339307080518, \"max\": 1.5572339307080518}}}\u001b[0m\n",
      "\u001b[34m#metrics {\"StartTime\": 1652251847.148822, \"EndTime\": 1652251847.1488473, \"Dimensions\": {\"Algorithm\": \"Linear Learner\", \"Host\": \"algo-1\", \"Operation\": \"training\", \"epoch\": 10, \"model\": 6}, \"Metrics\": {\"validation_weighted_softmax_loss_objective\": {\"sum\": 0.9015291918505419, \"count\": 1, \"min\": 0.9015291918505419, \"max\": 0.9015291918505419}}}\u001b[0m\n",
      "\u001b[34m#metrics {\"StartTime\": 1652251847.1489255, \"EndTime\": 1652251847.1489441, \"Dimensions\": {\"Algorithm\": \"Linear Learner\", \"Host\": \"algo-1\", \"Operation\": \"training\", \"epoch\": 10, \"model\": 7}, \"Metrics\": {\"validation_weighted_softmax_loss_objective\": {\"sum\": 0.9995801771009291, \"count\": 1, \"min\": 0.9995801771009291, \"max\": 0.9995801771009291}}}\u001b[0m\n",
      "\u001b[34m#metrics {\"StartTime\": 1652251847.149027, \"EndTime\": 1652251847.1490476, \"Dimensions\": {\"Algorithm\": \"Linear Learner\", \"Host\": \"algo-1\", \"Operation\": \"training\", \"epoch\": 10, \"model\": 8}, \"Metrics\": {\"validation_weighted_softmax_loss_objective\": {\"sum\": 0.7323542414484797, \"count\": 1, \"min\": 0.7323542414484797, \"max\": 0.7323542414484797}}}\u001b[0m\n",
      "\u001b[34m#metrics {\"StartTime\": 1652251847.1491046, \"EndTime\": 1652251847.1491208, \"Dimensions\": {\"Algorithm\": \"Linear Learner\", \"Host\": \"algo-1\", \"Operation\": \"training\", \"epoch\": 10, \"model\": 9}, \"Metrics\": {\"validation_weighted_softmax_loss_objective\": {\"sum\": 0.8655761856216568, \"count\": 1, \"min\": 0.8655761856216568, \"max\": 0.8655761856216568}}}\u001b[0m\n",
      "\u001b[34m[05/11/2022 06:50:47 INFO 140222784067392] #quality_metric: host=algo-1, epoch=10, validation weighted_softmax_loss_objective <loss>=1.0061466113941089\u001b[0m\n",
      "\u001b[34m[05/11/2022 06:50:47 INFO 140222784067392] #early_stopping_criteria_metric: host=algo-1, epoch=10, criteria=weighted_softmax_loss_objective, value=0.7323542414484797\u001b[0m\n",
      "\u001b[34m[05/11/2022 06:50:47 INFO 140222784067392] Epoch 10: Loss improved. Updating best model\u001b[0m\n",
      "\u001b[34m[05/11/2022 06:50:47 INFO 140222784067392] Saving model for epoch: 10\u001b[0m\n",
      "\u001b[34m[05/11/2022 06:50:47 INFO 140222784067392] Saved checkpoint to \"/tmp/tmp6tjo4gon/mx-mod-0000.params\"\u001b[0m\n",
      "\u001b[34m[05/11/2022 06:50:47 INFO 140222784067392] #progress_metric: host=algo-1, completed 73.33333333333333 % of epochs\u001b[0m\n",
      "\u001b[34m#metrics {\"StartTime\": 1652251847.0765579, \"EndTime\": 1652251847.1777356, \"Dimensions\": {\"Algorithm\": \"Linear Learner\", \"Host\": \"algo-1\", \"Operation\": \"training\", \"epoch\": 10, \"Meta\": \"training_data_iter\"}, \"Metrics\": {\"Total Records Seen\": {\"sum\": 22312.0, \"count\": 1, \"min\": 22312, \"max\": 22312}, \"Total Batches Seen\": {\"sum\": 25.0, \"count\": 1, \"min\": 25, \"max\": 25}, \"Max Records Seen Between Resets\": {\"sum\": 1776.0, \"count\": 1, \"min\": 1776, \"max\": 1776}, \"Max Batches Seen Between Resets\": {\"sum\": 2.0, \"count\": 1, \"min\": 2, \"max\": 2}, \"Reset Count\": {\"sum\": 13.0, \"count\": 1, \"min\": 13, \"max\": 13}, \"Number of Records Since Last Reset\": {\"sum\": 1776.0, \"count\": 1, \"min\": 1776, \"max\": 1776}, \"Number of Batches Since Last Reset\": {\"sum\": 2.0, \"count\": 1, \"min\": 2, \"max\": 2}}}\u001b[0m\n",
      "\u001b[34m[05/11/2022 06:50:47 INFO 140222784067392] #throughput_metric: host=algo-1, train throughput=17470.89718578421 records/second\u001b[0m\n",
      "\u001b[34m[2022-05-11 06:50:47.231] [tensorio] [info] epoch_stats={\"data_pipeline\": \"/opt/ml/input/data/train\", \"epoch\": 26, \"duration\": 52, \"num_examples\": 2, \"num_bytes\": 92352}\u001b[0m\n",
      "\u001b[34m#metrics {\"StartTime\": 1652251847.2320633, \"EndTime\": 1652251847.2321355, \"Dimensions\": {\"Algorithm\": \"Linear Learner\", \"Host\": \"algo-1\", \"Operation\": \"training\", \"epoch\": 11, \"model\": 0}, \"Metrics\": {\"train_weighted_softmax_loss_objective\": {\"sum\": 1.012875, \"count\": 1, \"min\": 1.012875, \"max\": 1.012875}}}\u001b[0m\n",
      "\u001b[34m#metrics {\"StartTime\": 1652251847.2325046, \"EndTime\": 1652251847.2325358, \"Dimensions\": {\"Algorithm\": \"Linear Learner\", \"Host\": \"algo-1\", \"Operation\": \"training\", \"epoch\": 11, \"model\": 1}, \"Metrics\": {\"train_weighted_softmax_loss_objective\": {\"sum\": 0.9983360595703125, \"count\": 1, \"min\": 0.9983360595703125, \"max\": 0.9983360595703125}}}\u001b[0m\n",
      "\u001b[34m#metrics {\"StartTime\": 1652251847.2326229, \"EndTime\": 1652251847.2326436, \"Dimensions\": {\"Algorithm\": \"Linear Learner\", \"Host\": \"algo-1\", \"Operation\": \"training\", \"epoch\": 11, \"model\": 2}, \"Metrics\": {\"train_weighted_softmax_loss_objective\": {\"sum\": 0.8500843505859375, \"count\": 1, \"min\": 0.8500843505859375, \"max\": 0.8500843505859375}}}\u001b[0m\n",
      "\u001b[34m#metrics {\"StartTime\": 1652251847.2327049, \"EndTime\": 1652251847.2327218, \"Dimensions\": {\"Algorithm\": \"Linear Learner\", \"Host\": \"algo-1\", \"Operation\": \"training\", \"epoch\": 11, \"model\": 3}, \"Metrics\": {\"train_weighted_softmax_loss_objective\": {\"sum\": 0.9356135864257813, \"count\": 1, \"min\": 0.9356135864257813, \"max\": 0.9356135864257813}}}\u001b[0m\n",
      "\u001b[34m#metrics {\"StartTime\": 1652251847.2327764, \"EndTime\": 1652251847.2327929, \"Dimensions\": {\"Algorithm\": \"Linear Learner\", \"Host\": \"algo-1\", \"Operation\": \"training\", \"epoch\": 11, \"model\": 4}, \"Metrics\": {\"train_weighted_softmax_loss_objective\": {\"sum\": 0.9902642822265625, \"count\": 1, \"min\": 0.9902642822265625, \"max\": 0.9902642822265625}}}\u001b[0m\n",
      "\u001b[34m#metrics {\"StartTime\": 1652251847.2328513, \"EndTime\": 1652251847.2328682, \"Dimensions\": {\"Algorithm\": \"Linear Learner\", \"Host\": \"algo-1\", \"Operation\": \"training\", \"epoch\": 11, \"model\": 5}, \"Metrics\": {\"train_weighted_softmax_loss_objective\": {\"sum\": 1.5646866455078126, \"count\": 1, \"min\": 1.5646866455078126, \"max\": 1.5646866455078126}}}\u001b[0m\n",
      "\u001b[34m#metrics {\"StartTime\": 1652251847.2329242, \"EndTime\": 1652251847.23294, \"Dimensions\": {\"Algorithm\": \"Linear Learner\", \"Host\": \"algo-1\", \"Operation\": \"training\", \"epoch\": 11, \"model\": 6}, \"Metrics\": {\"train_weighted_softmax_loss_objective\": {\"sum\": 0.9083497924804688, \"count\": 1, \"min\": 0.9083497924804688, \"max\": 0.9083497924804688}}}\u001b[0m\n",
      "\u001b[34m#metrics {\"StartTime\": 1652251847.2329922, \"EndTime\": 1652251847.2330086, \"Dimensions\": {\"Algorithm\": \"Linear Learner\", \"Host\": \"algo-1\", \"Operation\": \"training\", \"epoch\": 11, \"model\": 7}, \"Metrics\": {\"train_weighted_softmax_loss_objective\": {\"sum\": 1.0074868774414063, \"count\": 1, \"min\": 1.0074868774414063, \"max\": 1.0074868774414063}}}\u001b[0m\n",
      "\u001b[34m#metrics {\"StartTime\": 1652251847.2330596, \"EndTime\": 1652251847.2330751, \"Dimensions\": {\"Algorithm\": \"Linear Learner\", \"Host\": \"algo-1\", \"Operation\": \"training\", \"epoch\": 11, \"model\": 8}, \"Metrics\": {\"train_weighted_softmax_loss_objective\": {\"sum\": 0.7525021362304688, \"count\": 1, \"min\": 0.7525021362304688, \"max\": 0.7525021362304688}}}\u001b[0m\n",
      "\u001b[34m#metrics {\"StartTime\": 1652251847.2331228, \"EndTime\": 1652251847.2331402, \"Dimensions\": {\"Algorithm\": \"Linear Learner\", \"Host\": \"algo-1\", \"Operation\": \"training\", \"epoch\": 11, \"model\": 9}, \"Metrics\": {\"train_weighted_softmax_loss_objective\": {\"sum\": 0.8945858154296875, \"count\": 1, \"min\": 0.8945858154296875, \"max\": 0.8945858154296875}}}\u001b[0m\n",
      "\u001b[34m[05/11/2022 06:50:47 INFO 140222784067392] #quality_metric: host=algo-1, epoch=11, train weighted_softmax_loss_objective <loss>=1.012875\u001b[0m\n",
      "\u001b[34m[2022-05-11 06:50:47.288] [tensorio] [info] epoch_stats={\"data_pipeline\": \"/opt/ml/input/data/validation\", \"epoch\": 35, \"duration\": 15, \"num_examples\": 1, \"num_bytes\": 11544}\u001b[0m\n",
      "\u001b[34m#metrics {\"StartTime\": 1652251847.293952, \"EndTime\": 1652251847.2940211, \"Dimensions\": {\"Algorithm\": \"Linear Learner\", \"Host\": \"algo-1\", \"Operation\": \"training\", \"epoch\": 11, \"model\": 0}, \"Metrics\": {\"validation_weighted_softmax_loss_objective\": {\"sum\": 0.9879560040998029, \"count\": 1, \"min\": 0.9879560040998029, \"max\": 0.9879560040998029}}}\u001b[0m\n",
      "\u001b[34m#metrics {\"StartTime\": 1652251847.294486, \"EndTime\": 1652251847.2945182, \"Dimensions\": {\"Algorithm\": \"Linear Learner\", \"Host\": \"algo-1\", \"Operation\": \"training\", \"epoch\": 11, \"model\": 1}, \"Metrics\": {\"validation_weighted_softmax_loss_objective\": {\"sum\": 0.9748761976087416, \"count\": 1, \"min\": 0.9748761976087416, \"max\": 0.9748761976087416}}}\u001b[0m\n",
      "\u001b[34m#metrics {\"StartTime\": 1652251847.2948375, \"EndTime\": 1652251847.2948935, \"Dimensions\": {\"Algorithm\": \"Linear Learner\", \"Host\": \"algo-1\", \"Operation\": \"training\", \"epoch\": 11, \"model\": 2}, \"Metrics\": {\"validation_weighted_softmax_loss_objective\": {\"sum\": 0.824787105525936, \"count\": 1, \"min\": 0.824787105525936, \"max\": 0.824787105525936}}}\u001b[0m\n",
      "\u001b[34m#metrics {\"StartTime\": 1652251847.2952325, \"EndTime\": 1652251847.2952993, \"Dimensions\": {\"Algorithm\": \"Linear Learner\", \"Host\": \"algo-1\", \"Operation\": \"training\", \"epoch\": 11, \"model\": 3}, \"Metrics\": {\"validation_weighted_softmax_loss_objective\": {\"sum\": 0.9128125852292722, \"count\": 1, \"min\": 0.9128125852292722, \"max\": 0.9128125852292722}}}\u001b[0m\n",
      "\u001b[34m#metrics {\"StartTime\": 1652251847.295753, \"EndTime\": 1652251847.295781, \"Dimensions\": {\"Algorithm\": \"Linear Learner\", \"Host\": \"algo-1\", \"Operation\": \"training\", \"epoch\": 11, \"model\": 4}, \"Metrics\": {\"validation_weighted_softmax_loss_objective\": {\"sum\": 0.9669342041015625, \"count\": 1, \"min\": 0.9669342041015625, \"max\": 0.9669342041015625}}}\u001b[0m\n",
      "\u001b[34m#metrics {\"StartTime\": 1652251847.2990723, \"EndTime\": 1652251847.2991142, \"Dimensions\": {\"Algorithm\": \"Linear Learner\", \"Host\": \"algo-1\", \"Operation\": \"training\", \"epoch\": 11, \"model\": 5}, \"Metrics\": {\"validation_weighted_softmax_loss_objective\": {\"sum\": 1.5319304595122467, \"count\": 1, \"min\": 1.5319304595122467, \"max\": 1.5319304595122467}}}\u001b[0m\n",
      "\u001b[34m#metrics {\"StartTime\": 1652251847.2995222, \"EndTime\": 1652251847.2995508, \"Dimensions\": {\"Algorithm\": \"Linear Learner\", \"Host\": \"algo-1\", \"Operation\": \"training\", \"epoch\": 11, \"model\": 6}, \"Metrics\": {\"validation_weighted_softmax_loss_objective\": {\"sum\": 0.8855459539739935, \"count\": 1, \"min\": 0.8855459539739935, \"max\": 0.8855459539739935}}}\u001b[0m\n",
      "\u001b[34m#metrics {\"StartTime\": 1652251847.2998397, \"EndTime\": 1652251847.2998683, \"Dimensions\": {\"Algorithm\": \"Linear Learner\", \"Host\": \"algo-1\", \"Operation\": \"training\", \"epoch\": 11, \"model\": 7}, \"Metrics\": {\"validation_weighted_softmax_loss_objective\": {\"sum\": 0.9851110647390554, \"count\": 1, \"min\": 0.9851110647390554, \"max\": 0.9851110647390554}}}\u001b[0m\n",
      "\u001b[34m#metrics {\"StartTime\": 1652251847.3001976, \"EndTime\": 1652251847.300226, \"Dimensions\": {\"Algorithm\": \"Linear Learner\", \"Host\": \"algo-1\", \"Operation\": \"training\", \"epoch\": 11, \"model\": 8}, \"Metrics\": {\"validation_weighted_softmax_loss_objective\": {\"sum\": 0.7252256376249296, \"count\": 1, \"min\": 0.7252256376249296, \"max\": 0.7252256376249296}}}\u001b[0m\n",
      "\u001b[34m#metrics {\"StartTime\": 1652251847.3005397, \"EndTime\": 1652251847.3005672, \"Dimensions\": {\"Algorithm\": \"Linear Learner\", \"Host\": \"algo-1\", \"Operation\": \"training\", \"epoch\": 11, \"model\": 9}, \"Metrics\": {\"validation_weighted_softmax_loss_objective\": {\"sum\": 0.8660026069159981, \"count\": 1, \"min\": 0.8660026069159981, \"max\": 0.8660026069159981}}}\u001b[0m\n",
      "\u001b[34m[05/11/2022 06:50:47 INFO 140222784067392] #quality_metric: host=algo-1, epoch=11, validation weighted_softmax_loss_objective <loss>=0.9879560040998029\u001b[0m\n",
      "\u001b[34m[05/11/2022 06:50:47 INFO 140222784067392] #early_stopping_criteria_metric: host=algo-1, epoch=11, criteria=weighted_softmax_loss_objective, value=0.7252256376249296\u001b[0m\n",
      "\u001b[34m[05/11/2022 06:50:47 INFO 140222784067392] Epoch 11: Loss improved. Updating best model\u001b[0m\n",
      "\u001b[34m[05/11/2022 06:50:47 INFO 140222784067392] Saving model for epoch: 11\u001b[0m\n",
      "\u001b[34m[05/11/2022 06:50:47 INFO 140222784067392] Saved checkpoint to \"/tmp/tmpvc_rorqa/mx-mod-0000.params\"\u001b[0m\n",
      "\u001b[34m[05/11/2022 06:50:47 INFO 140222784067392] #progress_metric: host=algo-1, completed 80.0 % of epochs\u001b[0m\n",
      "\u001b[34m#metrics {\"StartTime\": 1652251847.1786098, \"EndTime\": 1652251847.324085, \"Dimensions\": {\"Algorithm\": \"Linear Learner\", \"Host\": \"algo-1\", \"Operation\": \"training\", \"epoch\": 11, \"Meta\": \"training_data_iter\"}, \"Metrics\": {\"Total Records Seen\": {\"sum\": 24088.0, \"count\": 1, \"min\": 24088, \"max\": 24088}, \"Total Batches Seen\": {\"sum\": 27.0, \"count\": 1, \"min\": 27, \"max\": 27}, \"Max Records Seen Between Resets\": {\"sum\": 1776.0, \"count\": 1, \"min\": 1776, \"max\": 1776}, \"Max Batches Seen Between Resets\": {\"sum\": 2.0, \"count\": 1, \"min\": 2, \"max\": 2}, \"Reset Count\": {\"sum\": 14.0, \"count\": 1, \"min\": 14, \"max\": 14}, \"Number of Records Since Last Reset\": {\"sum\": 1776.0, \"count\": 1, \"min\": 1776, \"max\": 1776}, \"Number of Batches Since Last Reset\": {\"sum\": 2.0, \"count\": 1, \"min\": 2, \"max\": 2}}}\u001b[0m\n",
      "\u001b[34m[05/11/2022 06:50:47 INFO 140222784067392] #throughput_metric: host=algo-1, train throughput=12192.08563333808 records/second\u001b[0m\n",
      "\u001b[34m[2022-05-11 06:50:47.373] [tensorio] [info] epoch_stats={\"data_pipeline\": \"/opt/ml/input/data/train\", \"epoch\": 28, \"duration\": 49, \"num_examples\": 2, \"num_bytes\": 92352}\u001b[0m\n",
      "\u001b[34m#metrics {\"StartTime\": 1652251847.374209, \"EndTime\": 1652251847.3742898, \"Dimensions\": {\"Algorithm\": \"Linear Learner\", \"Host\": \"algo-1\", \"Operation\": \"training\", \"epoch\": 12, \"model\": 0}, \"Metrics\": {\"train_weighted_softmax_loss_objective\": {\"sum\": 0.994905517578125, \"count\": 1, \"min\": 0.994905517578125, \"max\": 0.994905517578125}}}\u001b[0m\n",
      "\u001b[34m#metrics {\"StartTime\": 1652251847.3747463, \"EndTime\": 1652251847.374778, \"Dimensions\": {\"Algorithm\": \"Linear Learner\", \"Host\": \"algo-1\", \"Operation\": \"training\", \"epoch\": 12, \"model\": 1}, \"Metrics\": {\"train_weighted_softmax_loss_objective\": {\"sum\": 0.9809442138671876, \"count\": 1, \"min\": 0.9809442138671876, \"max\": 0.9809442138671876}}}\u001b[0m\n",
      "\u001b[34m#metrics {\"StartTime\": 1652251847.3752427, \"EndTime\": 1652251847.375297, \"Dimensions\": {\"Algorithm\": \"Linear Learner\", \"Host\": \"algo-1\", \"Operation\": \"training\", \"epoch\": 12, \"model\": 2}, \"Metrics\": {\"train_weighted_softmax_loss_objective\": {\"sum\": 0.8386712036132813, \"count\": 1, \"min\": 0.8386712036132813, \"max\": 0.8386712036132813}}}\u001b[0m\n",
      "\u001b[34m#metrics {\"StartTime\": 1652251847.3757367, \"EndTime\": 1652251847.3757644, \"Dimensions\": {\"Algorithm\": \"Linear Learner\", \"Host\": \"algo-1\", \"Operation\": \"training\", \"epoch\": 12, \"model\": 3}, \"Metrics\": {\"train_weighted_softmax_loss_objective\": {\"sum\": 0.9226820678710937, \"count\": 1, \"min\": 0.9226820678710937, \"max\": 0.9226820678710937}}}\u001b[0m\n",
      "\u001b[34m#metrics {\"StartTime\": 1652251847.3762102, \"EndTime\": 1652251847.3762376, \"Dimensions\": {\"Algorithm\": \"Linear Learner\", \"Host\": \"algo-1\", \"Operation\": \"training\", \"epoch\": 12, \"model\": 4}, \"Metrics\": {\"train_weighted_softmax_loss_objective\": {\"sum\": 0.9731463012695313, \"count\": 1, \"min\": 0.9731463012695313, \"max\": 0.9731463012695313}}}\u001b[0m\n",
      "\u001b[34m#metrics {\"StartTime\": 1652251847.3766727, \"EndTime\": 1652251847.3766992, \"Dimensions\": {\"Algorithm\": \"Linear Learner\", \"Host\": \"algo-1\", \"Operation\": \"training\", \"epoch\": 12, \"model\": 5}, \"Metrics\": {\"train_weighted_softmax_loss_objective\": {\"sum\": 1.5395972900390624, \"count\": 1, \"min\": 1.5395972900390624, \"max\": 1.5395972900390624}}}\u001b[0m\n",
      "\u001b[34m#metrics {\"StartTime\": 1652251847.3768177, \"EndTime\": 1652251847.37684, \"Dimensions\": {\"Algorithm\": \"Linear Learner\", \"Host\": \"algo-1\", \"Operation\": \"training\", \"epoch\": 12, \"model\": 6}, \"Metrics\": {\"train_weighted_softmax_loss_objective\": {\"sum\": 0.893228759765625, \"count\": 1, \"min\": 0.893228759765625, \"max\": 0.893228759765625}}}\u001b[0m\n",
      "\u001b[34m#metrics {\"StartTime\": 1652251847.3769336, \"EndTime\": 1652251847.376956, \"Dimensions\": {\"Algorithm\": \"Linear Learner\", \"Host\": \"algo-1\", \"Operation\": \"training\", \"epoch\": 12, \"model\": 7}, \"Metrics\": {\"train_weighted_softmax_loss_objective\": {\"sum\": 0.993313232421875, \"count\": 1, \"min\": 0.993313232421875, \"max\": 0.993313232421875}}}\u001b[0m\n",
      "\u001b[34m#metrics {\"StartTime\": 1652251847.3771262, \"EndTime\": 1652251847.377196, \"Dimensions\": {\"Algorithm\": \"Linear Learner\", \"Host\": \"algo-1\", \"Operation\": \"training\", \"epoch\": 12, \"model\": 8}, \"Metrics\": {\"train_weighted_softmax_loss_objective\": {\"sum\": 0.7471419677734376, \"count\": 1, \"min\": 0.7471419677734376, \"max\": 0.7471419677734376}}}\u001b[0m\n",
      "\u001b[34m#metrics {\"StartTime\": 1652251847.3774116, \"EndTime\": 1652251847.3774374, \"Dimensions\": {\"Algorithm\": \"Linear Learner\", \"Host\": \"algo-1\", \"Operation\": \"training\", \"epoch\": 12, \"model\": 9}, \"Metrics\": {\"train_weighted_softmax_loss_objective\": {\"sum\": 0.8953426513671875, \"count\": 1, \"min\": 0.8953426513671875, \"max\": 0.8953426513671875}}}\u001b[0m\n",
      "\u001b[34m[05/11/2022 06:50:47 INFO 140222784067392] #quality_metric: host=algo-1, epoch=12, train weighted_softmax_loss_objective <loss>=0.994905517578125\u001b[0m\n",
      "\u001b[34m[2022-05-11 06:50:47.405] [tensorio] [info] epoch_stats={\"data_pipeline\": \"/opt/ml/input/data/validation\", \"epoch\": 38, \"duration\": 14, \"num_examples\": 1, \"num_bytes\": 11544}\u001b[0m\n",
      "\u001b[34m#metrics {\"StartTime\": 1652251847.4113595, \"EndTime\": 1652251847.4114225, \"Dimensions\": {\"Algorithm\": \"Linear Learner\", \"Host\": \"algo-1\", \"Operation\": \"training\", \"epoch\": 12, \"model\": 0}, \"Metrics\": {\"validation_weighted_softmax_loss_objective\": {\"sum\": 0.9718977782103393, \"count\": 1, \"min\": 0.9718977782103393, \"max\": 0.9718977782103393}}}\u001b[0m\n",
      "\u001b[34m#metrics {\"StartTime\": 1652251847.411524, \"EndTime\": 1652251847.4115422, \"Dimensions\": {\"Algorithm\": \"Linear Learner\", \"Host\": \"algo-1\", \"Operation\": \"training\", \"epoch\": 12, \"model\": 1}, \"Metrics\": {\"validation_weighted_softmax_loss_objective\": {\"sum\": 0.9588097924584741, \"count\": 1, \"min\": 0.9588097924584741, \"max\": 0.9588097924584741}}}\u001b[0m\n",
      "\u001b[34m#metrics {\"StartTime\": 1652251847.411599, \"EndTime\": 1652251847.4116144, \"Dimensions\": {\"Algorithm\": \"Linear Learner\", \"Host\": \"algo-1\", \"Operation\": \"training\", \"epoch\": 12, \"model\": 2}, \"Metrics\": {\"validation_weighted_softmax_loss_objective\": {\"sum\": 0.8141398386912303, \"count\": 1, \"min\": 0.8141398386912303, \"max\": 0.8141398386912303}}}\u001b[0m\n",
      "\u001b[34m#metrics {\"StartTime\": 1652251847.411666, \"EndTime\": 1652251847.4116776, \"Dimensions\": {\"Algorithm\": \"Linear Learner\", \"Host\": \"algo-1\", \"Operation\": \"training\", \"epoch\": 12, \"model\": 3}, \"Metrics\": {\"validation_weighted_softmax_loss_objective\": {\"sum\": 0.9008169088277731, \"count\": 1, \"min\": 0.9008169088277731, \"max\": 0.9008169088277731}}}\u001b[0m\n",
      "\u001b[34m#metrics {\"StartTime\": 1652251847.4117243, \"EndTime\": 1652251847.4117367, \"Dimensions\": {\"Algorithm\": \"Linear Learner\", \"Host\": \"algo-1\", \"Operation\": \"training\", \"epoch\": 12, \"model\": 4}, \"Metrics\": {\"validation_weighted_softmax_loss_objective\": {\"sum\": 0.9511874774554828, \"count\": 1, \"min\": 0.9511874774554828, \"max\": 0.9511874774554828}}}\u001b[0m\n",
      "\u001b[34m#metrics {\"StartTime\": 1652251847.4118104, \"EndTime\": 1652251847.4118264, \"Dimensions\": {\"Algorithm\": \"Linear Learner\", \"Host\": \"algo-1\", \"Operation\": \"training\", \"epoch\": 12, \"model\": 5}, \"Metrics\": {\"validation_weighted_softmax_loss_objective\": {\"sum\": 1.5077309823250986, \"count\": 1, \"min\": 1.5077309823250986, \"max\": 1.5077309823250986}}}\u001b[0m\n",
      "\u001b[34m#metrics {\"StartTime\": 1652251847.4118786, \"EndTime\": 1652251847.411894, \"Dimensions\": {\"Algorithm\": \"Linear Learner\", \"Host\": \"algo-1\", \"Operation\": \"training\", \"epoch\": 12, \"model\": 6}, \"Metrics\": {\"validation_weighted_softmax_loss_objective\": {\"sum\": 0.871248468622431, \"count\": 1, \"min\": 0.871248468622431, \"max\": 0.871248468622431}}}\u001b[0m\n",
      "\u001b[34m#metrics {\"StartTime\": 1652251847.4119506, \"EndTime\": 1652251847.4119668, \"Dimensions\": {\"Algorithm\": \"Linear Learner\", \"Host\": \"algo-1\", \"Operation\": \"training\", \"epoch\": 12, \"model\": 7}, \"Metrics\": {\"validation_weighted_softmax_loss_objective\": {\"sum\": 0.9719439669772312, \"count\": 1, \"min\": 0.9719439669772312, \"max\": 0.9719439669772312}}}\u001b[0m\n",
      "\u001b[34m#metrics {\"StartTime\": 1652251847.412024, \"EndTime\": 1652251847.4120402, \"Dimensions\": {\"Algorithm\": \"Linear Learner\", \"Host\": \"algo-1\", \"Operation\": \"training\", \"epoch\": 12, \"model\": 8}, \"Metrics\": {\"validation_weighted_softmax_loss_objective\": {\"sum\": 0.7195052413253097, \"count\": 1, \"min\": 0.7195052413253097, \"max\": 0.7195052413253097}}}\u001b[0m\n",
      "\u001b[34m#metrics {\"StartTime\": 1652251847.412092, \"EndTime\": 1652251847.4121072, \"Dimensions\": {\"Algorithm\": \"Linear Learner\", \"Host\": \"algo-1\", \"Operation\": \"training\", \"epoch\": 12, \"model\": 9}, \"Metrics\": {\"validation_weighted_softmax_loss_objective\": {\"sum\": 0.977199176410297, \"count\": 1, \"min\": 0.977199176410297, \"max\": 0.977199176410297}}}\u001b[0m\n",
      "\u001b[34m[05/11/2022 06:50:47 INFO 140222784067392] #quality_metric: host=algo-1, epoch=12, validation weighted_softmax_loss_objective <loss>=0.9718977782103393\u001b[0m\n",
      "\u001b[34m[05/11/2022 06:50:47 INFO 140222784067392] #early_stopping_criteria_metric: host=algo-1, epoch=12, criteria=weighted_softmax_loss_objective, value=0.7195052413253097\u001b[0m\n",
      "\u001b[34m[05/11/2022 06:50:47 INFO 140222784067392] Epoch 12: Loss improved. Updating best model\u001b[0m\n",
      "\u001b[34m[05/11/2022 06:50:47 INFO 140222784067392] Saving model for epoch: 12\u001b[0m\n",
      "\u001b[34m[05/11/2022 06:50:47 INFO 140222784067392] Saved checkpoint to \"/tmp/tmpq6t_67r8/mx-mod-0000.params\"\u001b[0m\n",
      "\u001b[34m[05/11/2022 06:50:47 INFO 140222784067392] #progress_metric: host=algo-1, completed 86.66666666666667 % of epochs\u001b[0m\n",
      "\u001b[34m#metrics {\"StartTime\": 1652251847.3244643, \"EndTime\": 1652251847.4250386, \"Dimensions\": {\"Algorithm\": \"Linear Learner\", \"Host\": \"algo-1\", \"Operation\": \"training\", \"epoch\": 12, \"Meta\": \"training_data_iter\"}, \"Metrics\": {\"Total Records Seen\": {\"sum\": 25864.0, \"count\": 1, \"min\": 25864, \"max\": 25864}, \"Total Batches Seen\": {\"sum\": 29.0, \"count\": 1, \"min\": 29, \"max\": 29}, \"Max Records Seen Between Resets\": {\"sum\": 1776.0, \"count\": 1, \"min\": 1776, \"max\": 1776}, \"Max Batches Seen Between Resets\": {\"sum\": 2.0, \"count\": 1, \"min\": 2, \"max\": 2}, \"Reset Count\": {\"sum\": 15.0, \"count\": 1, \"min\": 15, \"max\": 15}, \"Number of Records Since Last Reset\": {\"sum\": 1776.0, \"count\": 1, \"min\": 1776, \"max\": 1776}, \"Number of Batches Since Last Reset\": {\"sum\": 2.0, \"count\": 1, \"min\": 2, \"max\": 2}}}\u001b[0m\n",
      "\u001b[34m[05/11/2022 06:50:47 INFO 140222784067392] #throughput_metric: host=algo-1, train throughput=17621.875349523794 records/second\u001b[0m\n",
      "\u001b[34m[2022-05-11 06:50:47.464] [tensorio] [info] epoch_stats={\"data_pipeline\": \"/opt/ml/input/data/train\", \"epoch\": 30, \"duration\": 38, \"num_examples\": 2, \"num_bytes\": 92352}\u001b[0m\n",
      "\u001b[34m#metrics {\"StartTime\": 1652251847.464607, \"EndTime\": 1652251847.464674, \"Dimensions\": {\"Algorithm\": \"Linear Learner\", \"Host\": \"algo-1\", \"Operation\": \"training\", \"epoch\": 13, \"model\": 0}, \"Metrics\": {\"train_weighted_softmax_loss_objective\": {\"sum\": 0.979081298828125, \"count\": 1, \"min\": 0.979081298828125, \"max\": 0.979081298828125}}}\u001b[0m\n",
      "\u001b[34m#metrics {\"StartTime\": 1652251847.464779, \"EndTime\": 1652251847.4647975, \"Dimensions\": {\"Algorithm\": \"Linear Learner\", \"Host\": \"algo-1\", \"Operation\": \"training\", \"epoch\": 13, \"model\": 1}, \"Metrics\": {\"train_weighted_softmax_loss_objective\": {\"sum\": 0.9653712158203125, \"count\": 1, \"min\": 0.9653712158203125, \"max\": 0.9653712158203125}}}\u001b[0m\n",
      "\u001b[34m#metrics {\"StartTime\": 1652251847.465127, \"EndTime\": 1652251847.465148, \"Dimensions\": {\"Algorithm\": \"Linear Learner\", \"Host\": \"algo-1\", \"Operation\": \"training\", \"epoch\": 13, \"model\": 2}, \"Metrics\": {\"train_weighted_softmax_loss_objective\": {\"sum\": 0.8290733642578125, \"count\": 1, \"min\": 0.8290733642578125, \"max\": 0.8290733642578125}}}\u001b[0m\n",
      "\u001b[34m#metrics {\"StartTime\": 1652251847.4652238, \"EndTime\": 1652251847.4653184, \"Dimensions\": {\"Algorithm\": \"Linear Learner\", \"Host\": \"algo-1\", \"Operation\": \"training\", \"epoch\": 13, \"model\": 3}, \"Metrics\": {\"train_weighted_softmax_loss_objective\": {\"sum\": 0.9115170288085938, \"count\": 1, \"min\": 0.9115170288085938, \"max\": 0.9115170288085938}}}\u001b[0m\n",
      "\u001b[34m#metrics {\"StartTime\": 1652251847.4654531, \"EndTime\": 1652251847.4654732, \"Dimensions\": {\"Algorithm\": \"Linear Learner\", \"Host\": \"algo-1\", \"Operation\": \"training\", \"epoch\": 13, \"model\": 4}, \"Metrics\": {\"train_weighted_softmax_loss_objective\": {\"sum\": 0.9578997802734375, \"count\": 1, \"min\": 0.9578997802734375, \"max\": 0.9578997802734375}}}\u001b[0m\n",
      "\u001b[34m#metrics {\"StartTime\": 1652251847.4656322, \"EndTime\": 1652251847.4657335, \"Dimensions\": {\"Algorithm\": \"Linear Learner\", \"Host\": \"algo-1\", \"Operation\": \"training\", \"epoch\": 13, \"model\": 5}, \"Metrics\": {\"train_weighted_softmax_loss_objective\": {\"sum\": 1.515607421875, \"count\": 1, \"min\": 1.515607421875, \"max\": 1.515607421875}}}\u001b[0m\n",
      "\u001b[34m#metrics {\"StartTime\": 1652251847.4658442, \"EndTime\": 1652251847.4658628, \"Dimensions\": {\"Algorithm\": \"Linear Learner\", \"Host\": \"algo-1\", \"Operation\": \"training\", \"epoch\": 13, \"model\": 6}, \"Metrics\": {\"train_weighted_softmax_loss_objective\": {\"sum\": 0.8797197875976562, \"count\": 1, \"min\": 0.8797197875976562, \"max\": 0.8797197875976562}}}\u001b[0m\n",
      "\u001b[34m#metrics {\"StartTime\": 1652251847.4660559, \"EndTime\": 1652251847.466078, \"Dimensions\": {\"Algorithm\": \"Linear Learner\", \"Host\": \"algo-1\", \"Operation\": \"training\", \"epoch\": 13, \"model\": 7}, \"Metrics\": {\"train_weighted_softmax_loss_objective\": {\"sum\": 0.9804205322265624, \"count\": 1, \"min\": 0.9804205322265624, \"max\": 0.9804205322265624}}}\u001b[0m\n",
      "\u001b[34m#metrics {\"StartTime\": 1652251847.466332, \"EndTime\": 1652251847.466358, \"Dimensions\": {\"Algorithm\": \"Linear Learner\", \"Host\": \"algo-1\", \"Operation\": \"training\", \"epoch\": 13, \"model\": 8}, \"Metrics\": {\"train_weighted_softmax_loss_objective\": {\"sum\": 0.7430972900390626, \"count\": 1, \"min\": 0.7430972900390626, \"max\": 0.7430972900390626}}}\u001b[0m\n",
      "\u001b[34m#metrics {\"StartTime\": 1652251847.466569, \"EndTime\": 1652251847.4665911, \"Dimensions\": {\"Algorithm\": \"Linear Learner\", \"Host\": \"algo-1\", \"Operation\": \"training\", \"epoch\": 13, \"model\": 9}, \"Metrics\": {\"train_weighted_softmax_loss_objective\": {\"sum\": 1.0075034790039064, \"count\": 1, \"min\": 1.0075034790039064, \"max\": 1.0075034790039064}}}\u001b[0m\n",
      "\u001b[34m[05/11/2022 06:50:47 INFO 140222784067392] #quality_metric: host=algo-1, epoch=13, train weighted_softmax_loss_objective <loss>=0.979081298828125\u001b[0m\n",
      "\u001b[34m[2022-05-11 06:50:47.505] [tensorio] [info] epoch_stats={\"data_pipeline\": \"/opt/ml/input/data/validation\", \"epoch\": 41, \"duration\": 23, \"num_examples\": 1, \"num_bytes\": 11544}\u001b[0m\n",
      "\u001b[34m#metrics {\"StartTime\": 1652251847.5109756, \"EndTime\": 1652251847.5110471, \"Dimensions\": {\"Algorithm\": \"Linear Learner\", \"Host\": \"algo-1\", \"Operation\": \"training\", \"epoch\": 13, \"model\": 0}, \"Metrics\": {\"validation_weighted_softmax_loss_objective\": {\"sum\": 0.9574932751354871, \"count\": 1, \"min\": 0.9574932751354871, \"max\": 0.9574932751354871}}}\u001b[0m\n",
      "\u001b[34m#metrics {\"StartTime\": 1652251847.5111547, \"EndTime\": 1652251847.5111787, \"Dimensions\": {\"Algorithm\": \"Linear Learner\", \"Host\": \"algo-1\", \"Operation\": \"training\", \"epoch\": 13, \"model\": 1}, \"Metrics\": {\"validation_weighted_softmax_loss_objective\": {\"sum\": 0.944174964148719, \"count\": 1, \"min\": 0.944174964148719, \"max\": 0.944174964148719}}}\u001b[0m\n",
      "\u001b[34m#metrics {\"StartTime\": 1652251847.5112402, \"EndTime\": 1652251847.5112562, \"Dimensions\": {\"Algorithm\": \"Linear Learner\", \"Host\": \"algo-1\", \"Operation\": \"training\", \"epoch\": 13, \"model\": 2}, \"Metrics\": {\"validation_weighted_softmax_loss_objective\": {\"sum\": 0.805062096398156, \"count\": 1, \"min\": 0.805062096398156, \"max\": 0.805062096398156}}}\u001b[0m\n",
      "\u001b[34m#metrics {\"StartTime\": 1652251847.511307, \"EndTime\": 1652251847.5113208, \"Dimensions\": {\"Algorithm\": \"Linear Learner\", \"Host\": \"algo-1\", \"Operation\": \"training\", \"epoch\": 13, \"model\": 3}, \"Metrics\": {\"validation_weighted_softmax_loss_objective\": {\"sum\": 0.8903390008050043, \"count\": 1, \"min\": 0.8903390008050043, \"max\": 0.8903390008050043}}}\u001b[0m\n",
      "\u001b[34m#metrics {\"StartTime\": 1652251847.5115578, \"EndTime\": 1652251847.5115821, \"Dimensions\": {\"Algorithm\": \"Linear Learner\", \"Host\": \"algo-1\", \"Operation\": \"training\", \"epoch\": 13, \"model\": 4}, \"Metrics\": {\"validation_weighted_softmax_loss_objective\": {\"sum\": 0.9368961093662022, \"count\": 1, \"min\": 0.9368961093662022, \"max\": 0.9368961093662022}}}\u001b[0m\n",
      "\u001b[34m#metrics {\"StartTime\": 1652251847.5116942, \"EndTime\": 1652251847.5117376, \"Dimensions\": {\"Algorithm\": \"Linear Learner\", \"Host\": \"algo-1\", \"Operation\": \"training\", \"epoch\": 13, \"model\": 5}, \"Metrics\": {\"validation_weighted_softmax_loss_objective\": {\"sum\": 1.4845328116202139, \"count\": 1, \"min\": 1.4845328116202139, \"max\": 1.4845328116202139}}}\u001b[0m\n",
      "\u001b[34m#metrics {\"StartTime\": 1652251847.512027, \"EndTime\": 1652251847.5120533, \"Dimensions\": {\"Algorithm\": \"Linear Learner\", \"Host\": \"algo-1\", \"Operation\": \"training\", \"epoch\": 13, \"model\": 6}, \"Metrics\": {\"validation_weighted_softmax_loss_objective\": {\"sum\": 0.8584311545432151, \"count\": 1, \"min\": 0.8584311545432151, \"max\": 0.8584311545432151}}}\u001b[0m\n",
      "\u001b[34m#metrics {\"StartTime\": 1652251847.5123928, \"EndTime\": 1652251847.5124192, \"Dimensions\": {\"Algorithm\": \"Linear Learner\", \"Host\": \"algo-1\", \"Operation\": \"training\", \"epoch\": 13, \"model\": 7}, \"Metrics\": {\"validation_weighted_softmax_loss_objective\": {\"sum\": 0.9598629925702069, \"count\": 1, \"min\": 0.9598629925702069, \"max\": 0.9598629925702069}}}\u001b[0m\n",
      "\u001b[34m#metrics {\"StartTime\": 1652251847.5128086, \"EndTime\": 1652251847.512838, \"Dimensions\": {\"Algorithm\": \"Linear Learner\", \"Host\": \"algo-1\", \"Operation\": \"training\", \"epoch\": 13, \"model\": 8}, \"Metrics\": {\"validation_weighted_softmax_loss_objective\": {\"sum\": 0.715037371661212, \"count\": 1, \"min\": 0.715037371661212, \"max\": 0.715037371661212}}}\u001b[0m\n",
      "\u001b[34m#metrics {\"StartTime\": 1652251847.5132394, \"EndTime\": 1652251847.5132725, \"Dimensions\": {\"Algorithm\": \"Linear Learner\", \"Host\": \"algo-1\", \"Operation\": \"training\", \"epoch\": 13, \"model\": 9}, \"Metrics\": {\"validation_weighted_softmax_loss_objective\": {\"sum\": 0.8241357201928491, \"count\": 1, \"min\": 0.8241357201928491, \"max\": 0.8241357201928491}}}\u001b[0m\n",
      "\u001b[34m[05/11/2022 06:50:47 INFO 140222784067392] #quality_metric: host=algo-1, epoch=13, validation weighted_softmax_loss_objective <loss>=0.9574932751354871\u001b[0m\n",
      "\u001b[34m[05/11/2022 06:50:47 INFO 140222784067392] #early_stopping_criteria_metric: host=algo-1, epoch=13, criteria=weighted_softmax_loss_objective, value=0.715037371661212\u001b[0m\n",
      "\u001b[34m[05/11/2022 06:50:47 INFO 140222784067392] Epoch 13: Loss improved. Updating best model\u001b[0m\n",
      "\u001b[34m[05/11/2022 06:50:47 INFO 140222784067392] Saving model for epoch: 13\u001b[0m\n",
      "\u001b[34m[05/11/2022 06:50:47 INFO 140222784067392] Saved checkpoint to \"/tmp/tmp7zjh8xgd/mx-mod-0000.params\"\u001b[0m\n",
      "\u001b[34m[05/11/2022 06:50:47 INFO 140222784067392] #progress_metric: host=algo-1, completed 93.33333333333333 % of epochs\u001b[0m\n",
      "\u001b[34m#metrics {\"StartTime\": 1652251847.425441, \"EndTime\": 1652251847.5285213, \"Dimensions\": {\"Algorithm\": \"Linear Learner\", \"Host\": \"algo-1\", \"Operation\": \"training\", \"epoch\": 13, \"Meta\": \"training_data_iter\"}, \"Metrics\": {\"Total Records Seen\": {\"sum\": 27640.0, \"count\": 1, \"min\": 27640, \"max\": 27640}, \"Total Batches Seen\": {\"sum\": 31.0, \"count\": 1, \"min\": 31, \"max\": 31}, \"Max Records Seen Between Resets\": {\"sum\": 1776.0, \"count\": 1, \"min\": 1776, \"max\": 1776}, \"Max Batches Seen Between Resets\": {\"sum\": 2.0, \"count\": 1, \"min\": 2, \"max\": 2}, \"Reset Count\": {\"sum\": 16.0, \"count\": 1, \"min\": 16, \"max\": 16}, \"Number of Records Since Last Reset\": {\"sum\": 1776.0, \"count\": 1, \"min\": 1776, \"max\": 1776}, \"Number of Batches Since Last Reset\": {\"sum\": 2.0, \"count\": 1, \"min\": 2, \"max\": 2}}}\u001b[0m\n",
      "\u001b[34m[05/11/2022 06:50:47 INFO 140222784067392] #throughput_metric: host=algo-1, train throughput=17199.216598246156 records/second\u001b[0m\n",
      "\u001b[34m[2022-05-11 06:50:47.572] [tensorio] [info] epoch_stats={\"data_pipeline\": \"/opt/ml/input/data/train\", \"epoch\": 32, \"duration\": 43, \"num_examples\": 2, \"num_bytes\": 92352}\u001b[0m\n",
      "\u001b[34m#metrics {\"StartTime\": 1652251847.572926, \"EndTime\": 1652251847.5729964, \"Dimensions\": {\"Algorithm\": \"Linear Learner\", \"Host\": \"algo-1\", \"Operation\": \"training\", \"epoch\": 14, \"model\": 0}, \"Metrics\": {\"train_weighted_softmax_loss_objective\": {\"sum\": 0.9649254150390625, \"count\": 1, \"min\": 0.9649254150390625, \"max\": 0.9649254150390625}}}\u001b[0m\n",
      "\u001b[34m#metrics {\"StartTime\": 1652251847.5737298, \"EndTime\": 1652251847.5737627, \"Dimensions\": {\"Algorithm\": \"Linear Learner\", \"Host\": \"algo-1\", \"Operation\": \"training\", \"epoch\": 14, \"model\": 1}, \"Metrics\": {\"train_weighted_softmax_loss_objective\": {\"sum\": 0.9512439575195313, \"count\": 1, \"min\": 0.9512439575195313, \"max\": 0.9512439575195313}}}\u001b[0m\n",
      "\u001b[34m#metrics {\"StartTime\": 1652251847.5742624, \"EndTime\": 1652251847.5742912, \"Dimensions\": {\"Algorithm\": \"Linear Learner\", \"Host\": \"algo-1\", \"Operation\": \"training\", \"epoch\": 14, \"model\": 2}, \"Metrics\": {\"train_weighted_softmax_loss_objective\": {\"sum\": 0.821040283203125, \"count\": 1, \"min\": 0.821040283203125, \"max\": 0.821040283203125}}}\u001b[0m\n",
      "\u001b[34m#metrics {\"StartTime\": 1652251847.5748434, \"EndTime\": 1652251847.5752583, \"Dimensions\": {\"Algorithm\": \"Linear Learner\", \"Host\": \"algo-1\", \"Operation\": \"training\", \"epoch\": 14, \"model\": 3}, \"Metrics\": {\"train_weighted_softmax_loss_objective\": {\"sum\": 0.901857421875, \"count\": 1, \"min\": 0.901857421875, \"max\": 0.901857421875}}}\u001b[0m\n",
      "\u001b[34m#metrics {\"StartTime\": 1652251847.5755706, \"EndTime\": 1652251847.5756, \"Dimensions\": {\"Algorithm\": \"Linear Learner\", \"Host\": \"algo-1\", \"Operation\": \"training\", \"epoch\": 14, \"model\": 4}, \"Metrics\": {\"train_weighted_softmax_loss_objective\": {\"sum\": 0.944153076171875, \"count\": 1, \"min\": 0.944153076171875, \"max\": 0.944153076171875}}}\u001b[0m\n",
      "\u001b[34m#metrics {\"StartTime\": 1652251847.575672, \"EndTime\": 1652251847.5756922, \"Dimensions\": {\"Algorithm\": \"Linear Learner\", \"Host\": \"algo-1\", \"Operation\": \"training\", \"epoch\": 14, \"model\": 5}, \"Metrics\": {\"train_weighted_softmax_loss_objective\": {\"sum\": 1.492606201171875, \"count\": 1, \"min\": 1.492606201171875, \"max\": 1.492606201171875}}}\u001b[0m\n",
      "\u001b[34m#metrics {\"StartTime\": 1652251847.5757499, \"EndTime\": 1652251847.575767, \"Dimensions\": {\"Algorithm\": \"Linear Learner\", \"Host\": \"algo-1\", \"Operation\": \"training\", \"epoch\": 14, \"model\": 6}, \"Metrics\": {\"train_weighted_softmax_loss_objective\": {\"sum\": 0.8676288452148437, \"count\": 1, \"min\": 0.8676288452148437, \"max\": 0.8676288452148437}}}\u001b[0m\n",
      "\u001b[34m#metrics {\"StartTime\": 1652251847.5758824, \"EndTime\": 1652251847.5759044, \"Dimensions\": {\"Algorithm\": \"Linear Learner\", \"Host\": \"algo-1\", \"Operation\": \"training\", \"epoch\": 14, \"model\": 7}, \"Metrics\": {\"train_weighted_softmax_loss_objective\": {\"sum\": 0.9685950317382812, \"count\": 1, \"min\": 0.9685950317382812, \"max\": 0.9685950317382812}}}\u001b[0m\n",
      "\u001b[34m#metrics {\"StartTime\": 1652251847.5759602, \"EndTime\": 1652251847.576049, \"Dimensions\": {\"Algorithm\": \"Linear Learner\", \"Host\": \"algo-1\", \"Operation\": \"training\", \"epoch\": 14, \"model\": 8}, \"Metrics\": {\"train_weighted_softmax_loss_objective\": {\"sum\": 0.7401829223632812, \"count\": 1, \"min\": 0.7401829223632812, \"max\": 0.7401829223632812}}}\u001b[0m\n",
      "\u001b[34m#metrics {\"StartTime\": 1652251847.5761108, \"EndTime\": 1652251847.5761294, \"Dimensions\": {\"Algorithm\": \"Linear Learner\", \"Host\": \"algo-1\", \"Operation\": \"training\", \"epoch\": 14, \"model\": 9}, \"Metrics\": {\"train_weighted_softmax_loss_objective\": {\"sum\": 0.8545825805664062, \"count\": 1, \"min\": 0.8545825805664062, \"max\": 0.8545825805664062}}}\u001b[0m\n",
      "\u001b[34m[05/11/2022 06:50:47 INFO 140222784067392] #quality_metric: host=algo-1, epoch=14, train weighted_softmax_loss_objective <loss>=0.9649254150390625\u001b[0m\n",
      "\u001b[34m[2022-05-11 06:50:47.613] [tensorio] [info] epoch_stats={\"data_pipeline\": \"/opt/ml/input/data/validation\", \"epoch\": 44, \"duration\": 21, \"num_examples\": 1, \"num_bytes\": 11544}\u001b[0m\n",
      "\u001b[34m#metrics {\"StartTime\": 1652251847.618641, \"EndTime\": 1652251847.6187055, \"Dimensions\": {\"Algorithm\": \"Linear Learner\", \"Host\": \"algo-1\", \"Operation\": \"training\", \"epoch\": 14, \"model\": 0}, \"Metrics\": {\"validation_weighted_softmax_loss_objective\": {\"sum\": 0.944407557581996, \"count\": 1, \"min\": 0.944407557581996, \"max\": 0.944407557581996}}}\u001b[0m\n",
      "\u001b[34m#metrics {\"StartTime\": 1652251847.6213963, \"EndTime\": 1652251847.6214278, \"Dimensions\": {\"Algorithm\": \"Linear Learner\", \"Host\": \"algo-1\", \"Operation\": \"training\", \"epoch\": 14, \"model\": 1}, \"Metrics\": {\"validation_weighted_softmax_loss_objective\": {\"sum\": 0.9307422809772663, \"count\": 1, \"min\": 0.9307422809772663, \"max\": 0.9307422809772663}}}\u001b[0m\n",
      "\u001b[34m#metrics {\"StartTime\": 1652251847.6218545, \"EndTime\": 1652251847.6218803, \"Dimensions\": {\"Algorithm\": \"Linear Learner\", \"Host\": \"algo-1\", \"Operation\": \"training\", \"epoch\": 14, \"model\": 2}, \"Metrics\": {\"validation_weighted_softmax_loss_objective\": {\"sum\": 0.7973937300948409, \"count\": 1, \"min\": 0.7973937300948409, \"max\": 0.7973937300948409}}}\u001b[0m\n",
      "\u001b[34m#metrics {\"StartTime\": 1652251847.6219563, \"EndTime\": 1652251847.6219723, \"Dimensions\": {\"Algorithm\": \"Linear Learner\", \"Host\": \"algo-1\", \"Operation\": \"training\", \"epoch\": 14, \"model\": 3}, \"Metrics\": {\"validation_weighted_softmax_loss_objective\": {\"sum\": 0.8812281978022944, \"count\": 1, \"min\": 0.8812281978022944, \"max\": 0.8812281978022944}}}\u001b[0m\n",
      "\u001b[34m#metrics {\"StartTime\": 1652251847.6220784, \"EndTime\": 1652251847.6220953, \"Dimensions\": {\"Algorithm\": \"Linear Learner\", \"Host\": \"algo-1\", \"Operation\": \"training\", \"epoch\": 14, \"model\": 4}, \"Metrics\": {\"validation_weighted_softmax_loss_objective\": {\"sum\": 0.9238160966752885, \"count\": 1, \"min\": 0.9238160966752885, \"max\": 0.9238160966752885}}}\u001b[0m\n",
      "\u001b[34m#metrics {\"StartTime\": 1652251847.6221497, \"EndTime\": 1652251847.622167, \"Dimensions\": {\"Algorithm\": \"Linear Learner\", \"Host\": \"algo-1\", \"Operation\": \"training\", \"epoch\": 14, \"model\": 5}, \"Metrics\": {\"validation_weighted_softmax_loss_objective\": {\"sum\": 1.4622283110747467, \"count\": 1, \"min\": 1.4622283110747467, \"max\": 1.4622283110747467}}}\u001b[0m\n",
      "\u001b[34m#metrics {\"StartTime\": 1652251847.6222582, \"EndTime\": 1652251847.6222773, \"Dimensions\": {\"Algorithm\": \"Linear Learner\", \"Host\": \"algo-1\", \"Operation\": \"training\", \"epoch\": 14, \"model\": 6}, \"Metrics\": {\"validation_weighted_softmax_loss_objective\": {\"sum\": 0.846919704127956, \"count\": 1, \"min\": 0.846919704127956, \"max\": 0.846919704127956}}}\u001b[0m\n",
      "\u001b[34m#metrics {\"StartTime\": 1652251847.6223326, \"EndTime\": 1652251847.6223493, \"Dimensions\": {\"Algorithm\": \"Linear Learner\", \"Host\": \"algo-1\", \"Operation\": \"training\", \"epoch\": 14, \"model\": 7}, \"Metrics\": {\"validation_weighted_softmax_loss_objective\": {\"sum\": 0.9487019444371129, \"count\": 1, \"min\": 0.9487019444371129, \"max\": 0.9487019444371129}}}\u001b[0m\n",
      "\u001b[34m#metrics {\"StartTime\": 1652251847.6224422, \"EndTime\": 1652251847.622462, \"Dimensions\": {\"Algorithm\": \"Linear Learner\", \"Host\": \"algo-1\", \"Operation\": \"training\", \"epoch\": 14, \"model\": 8}, \"Metrics\": {\"validation_weighted_softmax_loss_objective\": {\"sum\": 0.7115734203441723, \"count\": 1, \"min\": 0.7115734203441723, \"max\": 0.7115734203441723}}}\u001b[0m\n",
      "\u001b[34m#metrics {\"StartTime\": 1652251847.6225176, \"EndTime\": 1652251847.6225686, \"Dimensions\": {\"Algorithm\": \"Linear Learner\", \"Host\": \"algo-1\", \"Operation\": \"training\", \"epoch\": 14, \"model\": 9}, \"Metrics\": {\"validation_weighted_softmax_loss_objective\": {\"sum\": 0.8956928425007038, \"count\": 1, \"min\": 0.8956928425007038, \"max\": 0.8956928425007038}}}\u001b[0m\n",
      "\u001b[34m[05/11/2022 06:50:47 INFO 140222784067392] #quality_metric: host=algo-1, epoch=14, validation weighted_softmax_loss_objective <loss>=0.944407557581996\u001b[0m\n",
      "\u001b[34m[05/11/2022 06:50:47 INFO 140222784067392] #early_stopping_criteria_metric: host=algo-1, epoch=14, criteria=weighted_softmax_loss_objective, value=0.7115734203441723\u001b[0m\n",
      "\u001b[34m[05/11/2022 06:50:47 INFO 140222784067392] Epoch 14: Loss improved. Updating best model\u001b[0m\n",
      "\u001b[34m[05/11/2022 06:50:47 INFO 140222784067392] Saving model for epoch: 14\u001b[0m\n",
      "\u001b[34m[05/11/2022 06:50:47 INFO 140222784067392] Saved checkpoint to \"/tmp/tmp5chx2vz6/mx-mod-0000.params\"\u001b[0m\n",
      "\u001b[34m[05/11/2022 06:50:47 INFO 140222784067392] #progress_metric: host=algo-1, completed 100.0 % of epochs\u001b[0m\n",
      "\u001b[34m#metrics {\"StartTime\": 1652251847.5289102, \"EndTime\": 1652251847.6489697, \"Dimensions\": {\"Algorithm\": \"Linear Learner\", \"Host\": \"algo-1\", \"Operation\": \"training\", \"epoch\": 14, \"Meta\": \"training_data_iter\"}, \"Metrics\": {\"Total Records Seen\": {\"sum\": 29416.0, \"count\": 1, \"min\": 29416, \"max\": 29416}, \"Total Batches Seen\": {\"sum\": 33.0, \"count\": 1, \"min\": 33, \"max\": 33}, \"Max Records Seen Between Resets\": {\"sum\": 1776.0, \"count\": 1, \"min\": 1776, \"max\": 1776}, \"Max Batches Seen Between Resets\": {\"sum\": 2.0, \"count\": 1, \"min\": 2, \"max\": 2}, \"Reset Count\": {\"sum\": 17.0, \"count\": 1, \"min\": 17, \"max\": 17}, \"Number of Records Since Last Reset\": {\"sum\": 1776.0, \"count\": 1, \"min\": 1776, \"max\": 1776}, \"Number of Batches Since Last Reset\": {\"sum\": 2.0, \"count\": 1, \"min\": 2, \"max\": 2}}}\u001b[0m\n",
      "\u001b[34m[05/11/2022 06:50:47 INFO 140222784067392] #throughput_metric: host=algo-1, train throughput=14767.504924428655 records/second\u001b[0m\n",
      "\u001b[34m[05/11/2022 06:50:47 WARNING 140222784067392] wait_for_all_workers will not sync workers since the kv store is not running distributed\u001b[0m\n",
      "\u001b[34m[05/11/2022 06:50:47 WARNING 140222784067392] wait_for_all_workers will not sync workers since the kv store is not running distributed\u001b[0m\n",
      "\u001b[34m[2022-05-11 06:50:47.709] [tensorio] [info] epoch_stats={\"data_pipeline\": \"/opt/ml/input/data/validation\", \"epoch\": 47, \"duration\": 19, \"num_examples\": 1, \"num_bytes\": 11544}\u001b[0m\n",
      "\u001b[34m[05/11/2022 06:50:47 INFO 140222784067392] #early_stopping_criteria_metric: host=algo-1, epoch=14, criteria=weighted_softmax_loss_objective, value=0.7115734203441723\u001b[0m\n",
      "\u001b[34m[2022-05-11 06:50:47.736] [tensorio] [info] epoch_stats={\"data_pipeline\": \"/opt/ml/input/data/validation\", \"epoch\": 49, \"duration\": 16, \"num_examples\": 1, \"num_bytes\": 11544}\u001b[0m\n",
      "\u001b[34m[05/11/2022 06:50:47 WARNING 140222784067392] Unable to compute multiclass log loss metric. y_true and y_pred contain different number of classes 3, 7. Please provide the true labels explicitly through the labels argument. Classes found in y_true: [0. 1. 2.]\u001b[0m\n",
      "\u001b[34m[05/11/2022 06:50:47 INFO 140222784067392] #validation_score (algo-1) : ('weighted_softmax_loss_objective', 0.7115734203441723)\u001b[0m\n",
      "\u001b[34m[05/11/2022 06:50:47 INFO 140222784067392] #validation_score (algo-1) : ('multiclass_accuracy', 0.8243243243243243)\u001b[0m\n",
      "\u001b[34m[05/11/2022 06:50:47 INFO 140222784067392] #validation_score (algo-1) : ('multiclass_top_k_accuracy_3', 1.0)\u001b[0m\n",
      "\u001b[34m[05/11/2022 06:50:47 INFO 140222784067392] #validation_score (algo-1) : ('dcg', 0.9257269507055884)\u001b[0m\n",
      "\u001b[34m[05/11/2022 06:50:47 INFO 140222784067392] #validation_score (algo-1) : ('macro_recall', nan)\u001b[0m\n",
      "\u001b[34m[05/11/2022 06:50:47 INFO 140222784067392] #validation_score (algo-1) : ('macro_precision', nan)\u001b[0m\n",
      "\u001b[34m[05/11/2022 06:50:47 INFO 140222784067392] #validation_score (algo-1) : ('macro_f_1.000', nan)\u001b[0m\n",
      "\u001b[34m[05/11/2022 06:50:47 INFO 140222784067392] #validation_score (algo-1) : ('multiclass_balanced_accuracy', 0.8248935128155658)\u001b[0m\n",
      "\u001b[34m[05/11/2022 06:50:47 INFO 140222784067392] #validation_score (algo-1) : ('multiclass_log_loss', nan)\u001b[0m\n",
      "\u001b[34m[05/11/2022 06:50:47 INFO 140222784067392] #quality_metric: host=algo-1, validation weighted_softmax_loss_objective <loss>=0.7115734203441723\u001b[0m\n",
      "\u001b[34m[05/11/2022 06:50:47 INFO 140222784067392] #quality_metric: host=algo-1, validation multiclass_accuracy <score>=0.8243243243243243\u001b[0m\n",
      "\u001b[34m[05/11/2022 06:50:47 INFO 140222784067392] #quality_metric: host=algo-1, validation multiclass_top_k_accuracy_3 <score>=1.0\u001b[0m\n",
      "\u001b[34m[05/11/2022 06:50:47 INFO 140222784067392] #quality_metric: host=algo-1, validation dcg <score>=0.9257269507055884\u001b[0m\n",
      "\u001b[34m[05/11/2022 06:50:47 INFO 140222784067392] #quality_metric: host=algo-1, validation macro_recall <score>=nan\u001b[0m\n",
      "\u001b[34m[05/11/2022 06:50:47 INFO 140222784067392] #quality_metric: host=algo-1, validation macro_precision <score>=nan\u001b[0m\n",
      "\u001b[34m[05/11/2022 06:50:47 INFO 140222784067392] #quality_metric: host=algo-1, validation macro_f_1.000 <score>=nan\u001b[0m\n",
      "\u001b[34m[05/11/2022 06:50:47 INFO 140222784067392] #quality_metric: host=algo-1, validation multiclass_balanced_accuracy <score>=0.8248935128155658\u001b[0m\n",
      "\u001b[34m[05/11/2022 06:50:47 INFO 140222784067392] #quality_metric: host=algo-1, validation multiclass_log_loss <score>=nan\u001b[0m\n",
      "\u001b[34m[05/11/2022 06:50:47 INFO 140222784067392] Best model found for hyperparameters: {\"optimizer\": \"adam\", \"learning_rate\": 0.10200995219090397, \"l1\": 0.0011287804605356671, \"wd\": 0.04625012248286039, \"lr_scheduler_step\": 11, \"lr_scheduler_factor\": 0.9951443028979682, \"lr_scheduler_minimum_lr\": 2.0236454843648914e-06}\u001b[0m\n",
      "\u001b[34m[05/11/2022 06:50:47 INFO 140222784067392] Saved checkpoint to \"/tmp/tmp3uku15bk/mx-mod-0000.params\"\u001b[0m\n",
      "\u001b[34m[2022-05-11 06:50:47.808] [tensorio] [info] epoch_stats={\"data_pipeline\": \"/opt/ml/input/data/test\", \"epoch\": 0, \"duration\": 1843, \"num_examples\": 1, \"num_bytes\": 11544}\u001b[0m\n",
      "\u001b[34m[2022-05-11 06:50:47.859] [tensorio] [info] epoch_stats={\"data_pipeline\": \"/opt/ml/input/data/test\", \"epoch\": 1, \"duration\": 48, \"num_examples\": 1, \"num_bytes\": 11544}\u001b[0m\n",
      "\u001b[34m[05/11/2022 06:50:47 WARNING 140222784067392] Unable to compute multiclass log loss metric. y_true and y_pred contain different number of classes 3, 7. Please provide the true labels explicitly through the labels argument. Classes found in y_true: [0. 1. 2.]\u001b[0m\n",
      "\u001b[34m#metrics {\"StartTime\": 1652251847.808202, \"EndTime\": 1652251847.9188557, \"Dimensions\": {\"Algorithm\": \"Linear Learner\", \"Host\": \"algo-1\", \"Operation\": \"training\", \"Meta\": \"test_data_iter\"}, \"Metrics\": {\"Total Records Seen\": {\"sum\": 222.0, \"count\": 1, \"min\": 222, \"max\": 222}, \"Total Batches Seen\": {\"sum\": 1.0, \"count\": 1, \"min\": 1, \"max\": 1}, \"Max Records Seen Between Resets\": {\"sum\": 222.0, \"count\": 1, \"min\": 222, \"max\": 222}, \"Max Batches Seen Between Resets\": {\"sum\": 1.0, \"count\": 1, \"min\": 1, \"max\": 1}, \"Reset Count\": {\"sum\": 1.0, \"count\": 1, \"min\": 1, \"max\": 1}, \"Number of Records Since Last Reset\": {\"sum\": 222.0, \"count\": 1, \"min\": 222, \"max\": 222}, \"Number of Batches Since Last Reset\": {\"sum\": 1.0, \"count\": 1, \"min\": 1, \"max\": 1}}}\u001b[0m\n",
      "\u001b[34m[05/11/2022 06:50:47 INFO 140222784067392] #test_score (algo-1) : ('weighted_softmax_loss_objective', 0.8448113106392525)\u001b[0m\n",
      "\u001b[34m[05/11/2022 06:50:47 INFO 140222784067392] #test_score (algo-1) : ('multiclass_accuracy', 0.7477477477477478)\u001b[0m\n",
      "\u001b[34m[05/11/2022 06:50:47 INFO 140222784067392] #test_score (algo-1) : ('multiclass_top_k_accuracy_3', 1.0)\u001b[0m\n",
      "\u001b[34m[05/11/2022 06:50:47 INFO 140222784067392] #test_score (algo-1) : ('dcg', 0.8927466590125281)\u001b[0m\n",
      "\u001b[34m[05/11/2022 06:50:47 INFO 140222784067392] #test_score (algo-1) : ('macro_recall', nan)\u001b[0m\n",
      "\u001b[34m[05/11/2022 06:50:47 INFO 140222784067392] #test_score (algo-1) : ('macro_precision', nan)\u001b[0m\n",
      "\u001b[34m[05/11/2022 06:50:47 INFO 140222784067392] #test_score (algo-1) : ('macro_f_1.000', nan)\u001b[0m\n",
      "\u001b[34m[05/11/2022 06:50:47 INFO 140222784067392] #test_score (algo-1) : ('multiclass_balanced_accuracy', 0.7459533220402785)\u001b[0m\n",
      "\u001b[34m[05/11/2022 06:50:47 INFO 140222784067392] #test_score (algo-1) : ('multiclass_log_loss', nan)\u001b[0m\n",
      "\u001b[34m[05/11/2022 06:50:47 INFO 140222784067392] #quality_metric: host=algo-1, test weighted_softmax_loss_objective <loss>=0.8448113106392525\u001b[0m\n",
      "\u001b[34m[05/11/2022 06:50:47 INFO 140222784067392] #quality_metric: host=algo-1, test multiclass_accuracy <score>=0.7477477477477478\u001b[0m\n",
      "\u001b[34m[05/11/2022 06:50:47 INFO 140222784067392] #quality_metric: host=algo-1, test multiclass_top_k_accuracy_3 <score>=1.0\u001b[0m\n",
      "\u001b[34m[05/11/2022 06:50:47 INFO 140222784067392] #quality_metric: host=algo-1, test dcg <score>=0.8927466590125281\u001b[0m\n",
      "\u001b[34m[05/11/2022 06:50:47 INFO 140222784067392] #quality_metric: host=algo-1, test macro_recall <score>=nan\u001b[0m\n",
      "\u001b[34m[05/11/2022 06:50:47 INFO 140222784067392] #quality_metric: host=algo-1, test macro_precision <score>=nan\u001b[0m\n",
      "\u001b[34m[05/11/2022 06:50:47 INFO 140222784067392] #quality_metric: host=algo-1, test macro_f_1.000 <score>=nan\u001b[0m\n",
      "\u001b[34m[05/11/2022 06:50:47 INFO 140222784067392] #quality_metric: host=algo-1, test multiclass_balanced_accuracy <score>=0.7459533220402785\u001b[0m\n",
      "\u001b[34m[05/11/2022 06:50:47 INFO 140222784067392] #quality_metric: host=algo-1, test multiclass_log_loss <score>=nan\u001b[0m\n",
      "\u001b[34m#metrics {\"StartTime\": 1652251845.9595623, \"EndTime\": 1652251847.927752, \"Dimensions\": {\"Algorithm\": \"Linear Learner\", \"Host\": \"algo-1\", \"Operation\": \"training\"}, \"Metrics\": {\"initialize.time\": {\"sum\": 190.934419631958, \"count\": 1, \"min\": 190.934419631958, \"max\": 190.934419631958}, \"epochs\": {\"sum\": 15.0, \"count\": 1, \"min\": 15, \"max\": 15}, \"check_early_stopping.time\": {\"sum\": 19.545793533325195, \"count\": 16, \"min\": 0.2627372741699219, \"max\": 4.1370391845703125}, \"update.time\": {\"sum\": 1401.4623165130615, \"count\": 15, \"min\": 69.66161727905273, \"max\": 135.71977615356445}, \"finalize.time\": {\"sum\": 153.21874618530273, \"count\": 1, \"min\": 153.21874618530273, \"max\": 153.21874618530273}, \"setuptime\": {\"sum\": 34.81459617614746, \"count\": 1, \"min\": 34.81459617614746, \"max\": 34.81459617614746}, \"totaltime\": {\"sum\": 2242.6822185516357, \"count\": 1, \"min\": 2242.6822185516357, \"max\": 2242.6822185516357}}}\u001b[0m\n",
      "\u001b[34m[05/11/2022 06:50:47 INFO 140222784067392 integration.py:636] worker closed\u001b[0m\n",
      "\n",
      "2022-05-11 06:51:04 Uploading - Uploading generated training model\n",
      "2022-05-11 06:51:04 Completed - Training job completed\n",
      "Training seconds: 97\n",
      "Billable seconds: 97\n"
     ]
    }
   ],
   "source": [
    "balanced_multiclass_estimator.fit([train_records, val_records, test_records])"
   ]
  },
  {
   "cell_type": "markdown",
   "id": "2994d6fa",
   "metadata": {
    "id": "fef99fea-9f8c-46af-b01f-ed220d903b96"
   },
   "source": [
    "### Deploy a model hosting endpoint"
   ]
  },
  {
   "cell_type": "code",
   "execution_count": 32,
   "id": "b22cfbcb",
   "metadata": {
    "id": "e9e057b9-5622-442f-9c32-92032c99f97b"
   },
   "outputs": [
    {
     "name": "stderr",
     "output_type": "stream",
     "text": [
      "Defaulting to the only supported framework/algorithm version: 1. Ignoring framework/algorithm version: 1.\n"
     ]
    },
    {
     "name": "stdout",
     "output_type": "stream",
     "text": [
      "------!"
     ]
    }
   ],
   "source": [
    "balanced_multiclass_predictor = balanced_multiclass_estimator.deploy(initial_instance_count=1, \n",
    "                                                                     instance_type='ml.m4.xlarge')"
   ]
  },
  {
   "cell_type": "markdown",
   "id": "1d3bfc78",
   "metadata": {
    "id": "54ea5618-9776-4416-8df4-d3e8ec0e3be1"
   },
   "source": [
    "### Evaluate metrics of the model trained with balanced class weights"
   ]
  },
  {
   "cell_type": "code",
   "execution_count": 33,
   "id": "202b063b",
   "metadata": {
    "id": "76853505-0513-4e65-a86d-bc0c4148a872"
   },
   "outputs": [
    {
     "name": "stdout",
     "output_type": "stream",
     "text": [
      "Accuracy: 0.748\n"
     ]
    },
    {
     "data": {
      "image/png": "[encoded data removed]",
      "text/plain": [
       "<Figure size 432x288 with 2 Axes>"
      ]
     },
     "metadata": {},
     "output_type": "display_data"
    },
    {
     "data": {
      "image/png": "[encoded data removed]",
      "text/plain": [
       "<Figure size 432x288 with 1 Axes>"
      ]
     },
     "metadata": {},
     "output_type": "display_data"
    }
   ],
   "source": [
    "evaluate_metrics(balanced_multiclass_predictor, test_features, test_labels)"
   ]
  },
  {
   "cell_type": "markdown",
   "id": "cfedb051",
   "metadata": {
    "id": "33d8d9b6d51b45c7b95dbeca3034b2d2"
   },
   "source": [
    "### Print the deployed endpoints"
   ]
  },
  {
   "cell_type": "code",
   "execution_count": 34,
   "id": "9f6a4cac",
   "metadata": {
    "id": "391621a4-a3ee-485c-9085-385150b3226e"
   },
   "outputs": [
    {
     "name": "stdout",
     "output_type": "stream",
     "text": [
      "{'Endpoints': [{'EndpointName': 'linear-learner-2022-05-11-06-51-21-254', 'EndpointArn': 'arn:aws:sagemaker:us-east-2:481118440516:endpoint/linear-learner-2022-05-11-06-51-21-254', 'CreationTime': datetime.datetime(2022, 5, 11, 6, 51, 21, 839000, tzinfo=tzlocal()), 'LastModifiedTime': datetime.datetime(2022, 5, 11, 6, 54, 13, 205000, tzinfo=tzlocal()), 'EndpointStatus': 'InService'}, {'EndpointName': 'linear-learner-2022-05-11-06-41-20-054', 'EndpointArn': 'arn:aws:sagemaker:us-east-2:481118440516:endpoint/linear-learner-2022-05-11-06-41-20-054', 'CreationTime': datetime.datetime(2022, 5, 11, 6, 41, 20, 657000, tzinfo=tzlocal()), 'LastModifiedTime': datetime.datetime(2022, 5, 11, 6, 44, 6, 463000, tzinfo=tzlocal()), 'EndpointStatus': 'InService'}], 'ResponseMetadata': {'RequestId': 'c140dac7-ce82-40dd-93e5-f582b2339a9d', 'HTTPStatusCode': 200, 'HTTPHeaders': {'x-amzn-requestid': 'c140dac7-ce82-40dd-93e5-f582b2339a9d', 'content-type': 'application/x-amz-json-1.1', 'content-length': '535', 'date': 'Wed, 11 May 2022 06:54:39 GMT'}, 'RetryAttempts': 0}}\n"
     ]
    }
   ],
   "source": [
    "client = boto3.client('sagemaker')\n",
    "response = client.list_endpoints(\n",
    "    StatusEquals = 'InService'\n",
    ")\n",
    "print(response)"
   ]
  },
  {
   "cell_type": "code",
   "execution_count": null,
   "id": "4ca7b38b",
   "metadata": {
    "id": "e9a58879-f14b-4627-baa8-79740f843f0c"
   },
   "outputs": [],
   "source": [
    "#ARN\n",
    "arn:aws:sagemaker:"
   ]
  },
  {
   "cell_type": "code",
   "execution_count": null,
   "id": "7fcd4583",
   "metadata": {
    "id": "9fe3e82c-835f-4b8c-a099-790f4f0fa8fc"
   },
   "outputs": [],
   "source": [
    "#ARN\n",
    "arn:aws:sagemaker:"
   ]
  },
  {
   "cell_type": "markdown",
   "id": "aee2d4c1",
   "metadata": {
    "id": "f12e0b85-0141-4ae4-b93c-82590878488c"
   },
   "source": [
    "### Delete endpoints"
   ]
  },
  {
   "cell_type": "code",
   "execution_count": null,
   "id": "0fc91b82",
   "metadata": {
    "id": "57f036e4-6487-4154-87d6-8e8b581a336c"
   },
   "outputs": [],
   "source": [
    "multiclass_predictor.delete_endpoint()\n",
    "balanced_multiclass_predictor.delete_endpoint()"
   ]
  },
  {
   "cell_type": "markdown",
   "id": "6bf6f6ea",
   "metadata": {
    "id": "e485b237-d951-402c-8f98-d85ae75836e6"
   },
   "source": [
    "### In this Notebook, we have learnt how to predict Risk Index using multiclass classifier SageMaker Models. How to build, run and evaluate them in Watson Studio platform. These models are deployed on SageMaker Platform."
   ]
  },
  {
   "cell_type": "code",
   "execution_count": null,
   "id": "82be302d",
   "metadata": {
    "id": "38ea7e63-42f7-4cdf-9316-d49b051bf563"
   },
   "outputs": [],
   "source": [
    "print(\"> The Notebook ran in : \", time.time() - st) "
   ]
  }
 ],
 "metadata": {
  "kernelspec": {
   "display_name": "Python 3 (ipykernel)",
   "language": "python",
   "name": "python3"
  },
  "language_info": {
   "codemirror_mode": {
    "name": "ipython",
    "version": 3
   },
   "file_extension": ".py",
   "mimetype": "text/x-python",
   "name": "python",
   "nbconvert_exporter": "python",
   "pygments_lexer": "ipython3",
   "version": "3.8.9"
  }
 },
 "nbformat": 4,
 "nbformat_minor": 5
}
