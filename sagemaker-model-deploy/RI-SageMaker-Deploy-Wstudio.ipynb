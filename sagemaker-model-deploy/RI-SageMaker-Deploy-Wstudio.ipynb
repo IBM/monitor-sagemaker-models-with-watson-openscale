{
 "cells": [
  {
   "cell_type": "markdown",
   "id": "46e331c8",
   "metadata": {
    "id": "1c2a3654-8b51-4150-b16f-9a3773e26390"
   },
   "source": [
    "# Build multiclass classifiers with Amazon SageMaker linear learner to predict Risk Index per Region"
   ]
  },
  {
   "cell_type": "code",
   "execution_count": 1,
   "id": "0f4475b7",
   "metadata": {
    "id": "0efeaf67-910c-4372-a0b0-6b37b9d24070"
   },
   "outputs": [],
   "source": [
    "import time\n",
    "st = time.time()"
   ]
  },
  {
   "cell_type": "code",
   "execution_count": 2,
   "id": "5918ea44",
   "metadata": {
    "id": "016491122aff46b785a056cdabb1488b"
   },
   "outputs": [
    {
     "name": "stdout",
     "output_type": "stream",
     "text": [
      "zsh:1: command not found: pip\r\n"
     ]
    }
   ],
   "source": [
    "!pip install sagemaker"
   ]
  },
  {
   "cell_type": "markdown",
   "id": "54afae21",
   "metadata": {
    "id": "9be6fde4-27a3-4df0-ac29-80e694481bda"
   },
   "source": [
    "### Import the libraries into the notebook"
   ]
  },
  {
   "cell_type": "code",
   "execution_count": 3,
   "id": "bd4565b7",
   "metadata": {
    "id": "ab4e3b14-063c-41db-81d5-173baf52d73c"
   },
   "outputs": [],
   "source": [
    "%matplotlib inline\n",
    "import numpy as np \n",
    "import pandas as pd \n",
    "import matplotlib.pyplot as plt\n",
    "import ipaddress\n",
    "from sklearn import preprocessing\n",
    "import warnings\n",
    "warnings.filterwarnings(\"ignore\")\n",
    "import time\n",
    "import boto3\n",
    "from sklearn.linear_model import LogisticRegression\n",
    "from sklearn.model_selection import train_test_split\n",
    "from sklearn import preprocessing\n",
    "from sklearn.model_selection import train_test_split\n",
    "from sklearn.ensemble import RandomForestClassifier\n",
    "from sklearn.metrics import accuracy_score\n",
    "from sklearn.metrics import confusion_matrix\n",
    "from sklearn import metrics\n",
    "import seaborn as sns\n",
    "sns.set(style=\"white\")\n",
    "sns.set(style=\"whitegrid\", color_codes=True)"
   ]
  },
  {
   "cell_type": "markdown",
   "id": "1eba3698",
   "metadata": {
    "id": "60c6ad98-95b7-48bb-8f4b-80b37104f116"
   },
   "source": [
    "### Update the credentials for S3 Bucket\n",
    "We will ingest the data files which were pre-processed in the earlier steps using the Data pre-processing Notebook"
   ]
  },
  {
   "cell_type": "code",
   "execution_count": 4,
   "id": "83fda6c8",
   "metadata": {
    "id": "8d3c2e2e-92dc-488e-af20-1d7d38c22766"
   },
   "outputs": [],
   "source": [
    "BUCKET_TYPE=\"s3\"\n",
    "BUCKET_NAME=\"\"\n",
    "BUCKET_REGION=\"\"\n",
    "AWS_ACCESS_KEY_ID=\"\"\n",
    "AWS_SECRET_ACCESS_KEY=\"\""
   ]
  },
  {
   "cell_type": "markdown",
   "id": "6accaed1",
   "metadata": {
    "id": "9b768f46-7e6e-4058-8786-6efda5222ba7"
   },
   "source": [
    "### Create an instance with S3 Credentials "
   ]
  },
  {
   "cell_type": "code",
   "execution_count": 5,
   "id": "4f29bdd9",
   "metadata": {
    "id": "26595209-14cc-468c-abe7-c512a007d172"
   },
   "outputs": [],
   "source": [
    "s3 = boto3.resource(\n",
    "    service_name = BUCKET_TYPE,\n",
    "    region_name = BUCKET_REGION,\n",
    "    aws_access_key_id = AWS_ACCESS_KEY_ID,\n",
    "    aws_secret_access_key = AWS_SECRET_ACCESS_KEY\n",
    ")"
   ]
  },
  {
   "cell_type": "markdown",
   "id": "a8ffee58",
   "metadata": {
    "id": "c3a2becd-c232-4286-ab41-2b91f9ac1766"
   },
   "source": [
    "### Read and display the available datasets in S3 Bucket"
   ]
  },
  {
   "cell_type": "code",
   "execution_count": 6,
   "id": "8aff4a88",
   "metadata": {
    "id": "d081116b-6859-4c9b-b6e7-604be022d2f8"
   },
   "outputs": [
    {
     "data": {
      "text/plain": [
       "['15-day-pred.csv',\n",
       " 'Belgium-country-output.csv',\n",
       " 'Belgium-ts.csv',\n",
       " 'Data-region-RI-SM.csv',\n",
       " 'Risk-Index-Output/',\n",
       " 'Risk-Index_data/',\n",
       " 'Risk-Index_data/Data-region-RI-SM-Scoring.csv',\n",
       " 'Risk-Index_data/Data-region-RI-SM.csv',\n",
       " 'Risk-Index_data/Data-region-RI.csv',\n",
       " 'Risk-Index_data/RI_data.csv',\n",
       " 'Risk-Index_data/test.csv',\n",
       " 'Risk-Index_data/train.csv',\n",
       " 'Risk-Index_data/ts-data-region-RI.csv',\n",
       " 'Risk_Index/Risk_index_training_recoded.csv',\n",
       " 'flanders-output.csv',\n",
       " 'my_pred_model_Belgium.h5',\n",
       " 'my_pred_model_Flanders.h5',\n",
       " 'pred-data-15.csv',\n",
       " 'pred-data.csv',\n",
       " 'pred-models/',\n",
       " 'raw-data/',\n",
       " 'raw-data/COVID19BE_CASES_AGESEX.csv',\n",
       " 'raw-data/COVID19BE_HOSP.csv',\n",
       " 'test-data.csv',\n",
       " 'test-y-data.csv',\n",
       " 'time-series-data/',\n",
       " 'time-series-data/formatted/',\n",
       " 'time-series-data/formatted/Belgium-ts.csv',\n",
       " 'time-series-data/formatted/forecast-data-15.csv',\n",
       " 'time-series-data/formatted/results/',\n",
       " 'time-series-data/formatted/ts-Brussels-grouped.csv',\n",
       " 'time-series-data/formatted/ts-Brussels-grouped.xlsx',\n",
       " 'time-series-data/formatted/ts-Flanders-grouped.csv',\n",
       " 'time-series-data/formatted/ts-Flanders-grouped.xlsx',\n",
       " 'time-series-data/formatted/ts-Wallonia-grouped.csv',\n",
       " 'time-series-data/formatted/ts-Wallonia-grouped.xlsx',\n",
       " 'time-series-data/formatted/ts-data-region.csv',\n",
       " 'time-series-data/formatted/ts-data-region.xlsx',\n",
       " 'time-series-data/ts-Brussels-grouped.csv',\n",
       " 'time-series-data/ts-Flanders-grouped.csv',\n",
       " 'time-series-data/ts-Wallonia-grouped.csv',\n",
       " 'time-series-data/ts-data-region.csv',\n",
       " 'ts-Brussels.csv',\n",
       " 'ts-Flanders.csv',\n",
       " 'ts-Wallonia.csv',\n",
       " 'ts-data-region-RI.csv',\n",
       " 'ts-data-region.csv']"
      ]
     },
     "execution_count": 6,
     "metadata": {},
     "output_type": "execute_result"
    }
   ],
   "source": [
    "datasets = []\n",
    "for obj in s3.Bucket(BUCKET_NAME).objects.all():\n",
    "    datasets.append(obj.key)\n",
    "datasets"
   ]
  },
  {
   "cell_type": "markdown",
   "id": "9c4948fd",
   "metadata": {
    "id": "4551c425-aea9-4002-8745-dc0e39fcb12c"
   },
   "source": [
    "### Read the Risk Index per Region data as dataframe and display five records"
   ]
  },
  {
   "cell_type": "code",
   "execution_count": 7,
   "id": "a6e98033",
   "metadata": {
    "id": "aa5f1912-8e3b-4d52-a493-8c674b33bf56"
   },
   "outputs": [
    {
     "data": {
      "text/html": [
       "<div>\n",
       "<style scoped>\n",
       "    .dataframe tbody tr th:only-of-type {\n",
       "        vertical-align: middle;\n",
       "    }\n",
       "\n",
       "    .dataframe tbody tr th {\n",
       "        vertical-align: top;\n",
       "    }\n",
       "\n",
       "    .dataframe thead th {\n",
       "        text-align: right;\n",
       "    }\n",
       "</style>\n",
       "<table border=\"1\" class=\"dataframe\">\n",
       "  <thead>\n",
       "    <tr style=\"text-align: right;\">\n",
       "      <th></th>\n",
       "      <th>DATE</th>\n",
       "      <th>REGION</th>\n",
       "      <th>Total_cases</th>\n",
       "      <th>Risk_Index</th>\n",
       "    </tr>\n",
       "  </thead>\n",
       "  <tbody>\n",
       "    <tr>\n",
       "      <th>0</th>\n",
       "      <td>2020-03-15</td>\n",
       "      <td>Brussels</td>\n",
       "      <td>119</td>\n",
       "      <td>0</td>\n",
       "    </tr>\n",
       "    <tr>\n",
       "      <th>1</th>\n",
       "      <td>2020-03-15</td>\n",
       "      <td>Flanders</td>\n",
       "      <td>461</td>\n",
       "      <td>2</td>\n",
       "    </tr>\n",
       "    <tr>\n",
       "      <th>2</th>\n",
       "      <td>2020-03-15</td>\n",
       "      <td>Wallonia</td>\n",
       "      <td>383</td>\n",
       "      <td>1</td>\n",
       "    </tr>\n",
       "    <tr>\n",
       "      <th>3</th>\n",
       "      <td>2020-03-16</td>\n",
       "      <td>Brussels</td>\n",
       "      <td>238</td>\n",
       "      <td>0</td>\n",
       "    </tr>\n",
       "    <tr>\n",
       "      <th>4</th>\n",
       "      <td>2020-03-16</td>\n",
       "      <td>Flanders</td>\n",
       "      <td>794</td>\n",
       "      <td>2</td>\n",
       "    </tr>\n",
       "  </tbody>\n",
       "</table>\n",
       "</div>"
      ],
      "text/plain": [
       "         DATE    REGION  Total_cases  Risk_Index\n",
       "0  2020-03-15  Brussels          119           0\n",
       "1  2020-03-15  Flanders          461           2\n",
       "2  2020-03-15  Wallonia          383           1\n",
       "3  2020-03-16  Brussels          238           0\n",
       "4  2020-03-16  Flanders          794           2"
      ]
     },
     "execution_count": 7,
     "metadata": {},
     "output_type": "execute_result"
    }
   ],
   "source": [
    "obj = s3.Bucket(BUCKET_NAME).Object('ts-data-region-RI.csv').get()\n",
    "data = pd.read_csv(obj['Body'])\n",
    "data.head()"
   ]
  },
  {
   "cell_type": "markdown",
   "id": "3338b239",
   "metadata": {
    "id": "ef4d9779-5116-4a99-98a4-443103323635"
   },
   "source": [
    "### Identify the Data Types"
   ]
  },
  {
   "cell_type": "code",
   "execution_count": 8,
   "id": "499f1383",
   "metadata": {
    "id": "258f3b6d-316f-4659-8999-445f78fd9e37"
   },
   "outputs": [
    {
     "data": {
      "text/plain": [
       "DATE           object\n",
       "REGION         object\n",
       "Total_cases     int64\n",
       "Risk_Index      int64\n",
       "dtype: object"
      ]
     },
     "execution_count": 8,
     "metadata": {},
     "output_type": "execute_result"
    }
   ],
   "source": [
    "data.dtypes"
   ]
  },
  {
   "cell_type": "markdown",
   "id": "3723f66e",
   "metadata": {
    "id": "e3247dcf-e02b-4cee-9ca0-e3f1f108ee86"
   },
   "source": [
    "### Drop the Date attribute as we will not be using it"
   ]
  },
  {
   "cell_type": "code",
   "execution_count": 9,
   "id": "05f441db",
   "metadata": {
    "id": "72514323-cd42-4d89-b442-703a3044f87b"
   },
   "outputs": [
    {
     "data": {
      "text/html": [
       "<div>\n",
       "<style scoped>\n",
       "    .dataframe tbody tr th:only-of-type {\n",
       "        vertical-align: middle;\n",
       "    }\n",
       "\n",
       "    .dataframe tbody tr th {\n",
       "        vertical-align: top;\n",
       "    }\n",
       "\n",
       "    .dataframe thead th {\n",
       "        text-align: right;\n",
       "    }\n",
       "</style>\n",
       "<table border=\"1\" class=\"dataframe\">\n",
       "  <thead>\n",
       "    <tr style=\"text-align: right;\">\n",
       "      <th></th>\n",
       "      <th>REGION</th>\n",
       "      <th>Total_cases</th>\n",
       "      <th>Risk_Index</th>\n",
       "    </tr>\n",
       "  </thead>\n",
       "  <tbody>\n",
       "    <tr>\n",
       "      <th>0</th>\n",
       "      <td>Brussels</td>\n",
       "      <td>119</td>\n",
       "      <td>0</td>\n",
       "    </tr>\n",
       "    <tr>\n",
       "      <th>1</th>\n",
       "      <td>Flanders</td>\n",
       "      <td>461</td>\n",
       "      <td>2</td>\n",
       "    </tr>\n",
       "    <tr>\n",
       "      <th>2</th>\n",
       "      <td>Wallonia</td>\n",
       "      <td>383</td>\n",
       "      <td>1</td>\n",
       "    </tr>\n",
       "    <tr>\n",
       "      <th>3</th>\n",
       "      <td>Brussels</td>\n",
       "      <td>238</td>\n",
       "      <td>0</td>\n",
       "    </tr>\n",
       "    <tr>\n",
       "      <th>4</th>\n",
       "      <td>Flanders</td>\n",
       "      <td>794</td>\n",
       "      <td>2</td>\n",
       "    </tr>\n",
       "    <tr>\n",
       "      <th>...</th>\n",
       "      <td>...</td>\n",
       "      <td>...</td>\n",
       "      <td>...</td>\n",
       "    </tr>\n",
       "    <tr>\n",
       "      <th>2215</th>\n",
       "      <td>Brussels</td>\n",
       "      <td>677</td>\n",
       "      <td>0</td>\n",
       "    </tr>\n",
       "    <tr>\n",
       "      <th>2216</th>\n",
       "      <td>Flanders</td>\n",
       "      <td>7909</td>\n",
       "      <td>2</td>\n",
       "    </tr>\n",
       "    <tr>\n",
       "      <th>2217</th>\n",
       "      <td>Wallonia</td>\n",
       "      <td>1371</td>\n",
       "      <td>1</td>\n",
       "    </tr>\n",
       "    <tr>\n",
       "      <th>2218</th>\n",
       "      <td>Flanders</td>\n",
       "      <td>295</td>\n",
       "      <td>2</td>\n",
       "    </tr>\n",
       "    <tr>\n",
       "      <th>2219</th>\n",
       "      <td>Wallonia</td>\n",
       "      <td>33</td>\n",
       "      <td>0</td>\n",
       "    </tr>\n",
       "  </tbody>\n",
       "</table>\n",
       "<p>2220 rows × 3 columns</p>\n",
       "</div>"
      ],
      "text/plain": [
       "        REGION  Total_cases  Risk_Index\n",
       "0     Brussels          119           0\n",
       "1     Flanders          461           2\n",
       "2     Wallonia          383           1\n",
       "3     Brussels          238           0\n",
       "4     Flanders          794           2\n",
       "...        ...          ...         ...\n",
       "2215  Brussels          677           0\n",
       "2216  Flanders         7909           2\n",
       "2217  Wallonia         1371           1\n",
       "2218  Flanders          295           2\n",
       "2219  Wallonia           33           0\n",
       "\n",
       "[2220 rows x 3 columns]"
      ]
     },
     "execution_count": 9,
     "metadata": {},
     "output_type": "execute_result"
    }
   ],
   "source": [
    "data.drop('DATE', axis=1, inplace=True)\n",
    "data"
   ]
  },
  {
   "cell_type": "markdown",
   "id": "4fd42470",
   "metadata": {
    "id": "bf5b3552-d60c-4a83-9e26-8e0c47f13912"
   },
   "source": [
    "### Encode the Region data into integers\n",
    "\n",
    "Brussels is encoded as 0 ::: Flanders is encoded as 1 ::: Wallonia is encoded as 2"
   ]
  },
  {
   "cell_type": "code",
   "execution_count": 10,
   "id": "bd0f192c",
   "metadata": {
    "id": "e1414fef-af09-41da-a021-434dea08e174"
   },
   "outputs": [
    {
     "data": {
      "text/html": [
       "<div>\n",
       "<style scoped>\n",
       "    .dataframe tbody tr th:only-of-type {\n",
       "        vertical-align: middle;\n",
       "    }\n",
       "\n",
       "    .dataframe tbody tr th {\n",
       "        vertical-align: top;\n",
       "    }\n",
       "\n",
       "    .dataframe thead th {\n",
       "        text-align: right;\n",
       "    }\n",
       "</style>\n",
       "<table border=\"1\" class=\"dataframe\">\n",
       "  <thead>\n",
       "    <tr style=\"text-align: right;\">\n",
       "      <th></th>\n",
       "      <th>REGION</th>\n",
       "      <th>Total_cases</th>\n",
       "      <th>Risk_Index</th>\n",
       "    </tr>\n",
       "  </thead>\n",
       "  <tbody>\n",
       "    <tr>\n",
       "      <th>0</th>\n",
       "      <td>0</td>\n",
       "      <td>119</td>\n",
       "      <td>0</td>\n",
       "    </tr>\n",
       "    <tr>\n",
       "      <th>1</th>\n",
       "      <td>1</td>\n",
       "      <td>461</td>\n",
       "      <td>2</td>\n",
       "    </tr>\n",
       "    <tr>\n",
       "      <th>2</th>\n",
       "      <td>2</td>\n",
       "      <td>383</td>\n",
       "      <td>1</td>\n",
       "    </tr>\n",
       "    <tr>\n",
       "      <th>3</th>\n",
       "      <td>0</td>\n",
       "      <td>238</td>\n",
       "      <td>0</td>\n",
       "    </tr>\n",
       "    <tr>\n",
       "      <th>4</th>\n",
       "      <td>1</td>\n",
       "      <td>794</td>\n",
       "      <td>2</td>\n",
       "    </tr>\n",
       "    <tr>\n",
       "      <th>...</th>\n",
       "      <td>...</td>\n",
       "      <td>...</td>\n",
       "      <td>...</td>\n",
       "    </tr>\n",
       "    <tr>\n",
       "      <th>2215</th>\n",
       "      <td>0</td>\n",
       "      <td>677</td>\n",
       "      <td>0</td>\n",
       "    </tr>\n",
       "    <tr>\n",
       "      <th>2216</th>\n",
       "      <td>1</td>\n",
       "      <td>7909</td>\n",
       "      <td>2</td>\n",
       "    </tr>\n",
       "    <tr>\n",
       "      <th>2217</th>\n",
       "      <td>2</td>\n",
       "      <td>1371</td>\n",
       "      <td>1</td>\n",
       "    </tr>\n",
       "    <tr>\n",
       "      <th>2218</th>\n",
       "      <td>1</td>\n",
       "      <td>295</td>\n",
       "      <td>2</td>\n",
       "    </tr>\n",
       "    <tr>\n",
       "      <th>2219</th>\n",
       "      <td>2</td>\n",
       "      <td>33</td>\n",
       "      <td>0</td>\n",
       "    </tr>\n",
       "  </tbody>\n",
       "</table>\n",
       "<p>2220 rows × 3 columns</p>\n",
       "</div>"
      ],
      "text/plain": [
       "      REGION  Total_cases  Risk_Index\n",
       "0          0          119           0\n",
       "1          1          461           2\n",
       "2          2          383           1\n",
       "3          0          238           0\n",
       "4          1          794           2\n",
       "...      ...          ...         ...\n",
       "2215       0          677           0\n",
       "2216       1         7909           2\n",
       "2217       2         1371           1\n",
       "2218       1          295           2\n",
       "2219       2           33           0\n",
       "\n",
       "[2220 rows x 3 columns]"
      ]
     },
     "execution_count": 10,
     "metadata": {},
     "output_type": "execute_result"
    }
   ],
   "source": [
    "label_encoder = preprocessing.LabelEncoder()\n",
    "\n",
    "data['REGION']= label_encoder.fit_transform(data['REGION'])\n",
    "\n",
    "data"
   ]
  },
  {
   "cell_type": "markdown",
   "id": "c9330971",
   "metadata": {
    "id": "186346b6-2e4e-4af6-a8e8-e9ba49759229"
   },
   "source": [
    "### Convert dataframe to numpy array"
   ]
  },
  {
   "cell_type": "code",
   "execution_count": 11,
   "id": "e95de8cb",
   "metadata": {
    "id": "e3ed04af-ec6a-42be-9e4c-0111103a77fc"
   },
   "outputs": [],
   "source": [
    "data = data.to_numpy(dtype ='float32')"
   ]
  },
  {
   "cell_type": "markdown",
   "id": "b1c32dcc",
   "metadata": {
    "id": "c1efc710-5fa9-4d76-8ec5-d9ec7ccfc349"
   },
   "source": [
    "### Generate Data features (input) & Data Labels (target)"
   ]
  },
  {
   "cell_type": "code",
   "execution_count": 12,
   "id": "a39accd2",
   "metadata": {
    "id": "b2e64e76-8459-4484-8c9c-adac194265d5"
   },
   "outputs": [],
   "source": [
    "data_features, data_labels = data[:, :2], data[:, 2]"
   ]
  },
  {
   "cell_type": "code",
   "execution_count": 13,
   "id": "2e0dd037",
   "metadata": {
    "id": "abeae90a-4761-44a1-9077-7cf0a651ab6b"
   },
   "outputs": [
    {
     "data": {
      "text/plain": [
       "array([0., 2., 1., ..., 1., 2., 0.], dtype=float32)"
      ]
     },
     "execution_count": 13,
     "metadata": {},
     "output_type": "execute_result"
    }
   ],
   "source": [
    "data_labels"
   ]
  },
  {
   "cell_type": "markdown",
   "id": "cbcc49e0",
   "metadata": {
    "id": "855745ae-ecfd-4b09-b85a-2e567b6bc031"
   },
   "source": [
    "### Split the data into training & testing data with 80:20 ratio"
   ]
  },
  {
   "cell_type": "code",
   "execution_count": 14,
   "id": "00647c4c",
   "metadata": {
    "id": "3bf179b4-13fe-449e-945e-4fe0536ba0bd"
   },
   "outputs": [],
   "source": [
    "np.random.seed(0)\n",
    "train_features, test_features, train_labels, test_labels = train_test_split(\n",
    "    data_features, data_labels, test_size=0.2)"
   ]
  },
  {
   "cell_type": "markdown",
   "id": "93518cde",
   "metadata": {
    "id": "18a8c08c-c106-4849-a94e-36e568f596db"
   },
   "source": [
    "### Further split the test set into validation and test sets"
   ]
  },
  {
   "cell_type": "code",
   "execution_count": 15,
   "id": "55b426d4",
   "metadata": {
    "id": "1ba02e8a-e268-4a6b-a37a-8ebb7198b44f"
   },
   "outputs": [],
   "source": [
    "val_features, test_features, val_labels, test_labels = train_test_split(\n",
    "    test_features, test_labels, test_size=0.5)"
   ]
  },
  {
   "cell_type": "markdown",
   "id": "7cd3fda1",
   "metadata": {
    "id": "c2d3b26b-a345-4406-829f-5fb824231786"
   },
   "source": [
    "### Check the count of observations in features & labels"
   ]
  },
  {
   "cell_type": "code",
   "execution_count": 16,
   "id": "5d8aaf5b",
   "metadata": {
    "id": "d761ae3e-27ad-4fc7-ab43-fedc27f8c288"
   },
   "outputs": [
    {
     "data": {
      "text/plain": [
       "1776"
      ]
     },
     "execution_count": 16,
     "metadata": {},
     "output_type": "execute_result"
    }
   ],
   "source": [
    "len(train_features)\n",
    "len(train_labels)"
   ]
  },
  {
   "cell_type": "markdown",
   "id": "32aab3c1",
   "metadata": {
    "id": "eb647f2c-d49d-43db-b6e4-a378fc398e1a"
   },
   "source": [
    "### Assign label names and count label frequencies"
   ]
  },
  {
   "cell_type": "code",
   "execution_count": 17,
   "id": "f1595761",
   "metadata": {
    "id": "69196dd1-84cc-46be-8065-320542fb1722"
   },
   "outputs": [
    {
     "data": {
      "text/plain": [
       "<AxesSubplot:title={'center':'Label Counts'}>"
      ]
     },
     "execution_count": 17,
     "metadata": {},
     "output_type": "execute_result"
    },
    {
     "data": {
      "image/png": "[encoded data removed]",
      "text/plain": [
       "<Figure size 432x288 with 1 Axes>"
      ]
     },
     "metadata": {},
     "output_type": "display_data"
    }
   ],
   "source": [
    "label_map = {0:'Low Risk', 1:'Moderate Risk', 2:'High Risk'}\n",
    "label_counts = pd.DataFrame(data=train_labels)[0].map(label_map).value_counts(sort=False).sort_index(ascending=False)\n",
    "label_counts.plot(kind='barh', color='tomato', title='Label Counts')"
   ]
  },
  {
   "cell_type": "code",
   "execution_count": 18,
   "id": "75feb837",
   "metadata": {
    "id": "1d301b8c161246e68c81cbf1b0dc33fb"
   },
   "outputs": [],
   "source": [
    "import sagemaker\n",
    "session = boto3.session.Session(\n",
    "    aws_access_key_id = AWS_ACCESS_KEY_ID,\n",
    "    aws_secret_access_key = AWS_SECRET_ACCESS_KEY,\n",
    "    region_name = BUCKET_REGION\n",
    ")\n",
    "region = session.region_name\n",
    "sagemaker_session = sagemaker.Session(session)"
   ]
  },
  {
   "cell_type": "code",
   "execution_count": 19,
   "id": "5f665002",
   "metadata": {
    "id": "fb4b383a869b40aba899bd153b95f498"
   },
   "outputs": [],
   "source": [
    "import os\n",
    "os.environ['AWS_DEFAULT_REGION'] = BUCKET_REGION\n",
    "os.environ['AWS_ACCESS_KEY_ID'] = AWS_ACCESS_KEY_ID\n",
    "os.environ['AWS_SECRET_ACCESS_KEY'] = AWS_SECRET_ACCESS_KEY"
   ]
  },
  {
   "cell_type": "markdown",
   "id": "bde5fe53",
   "metadata": {
    "id": "2dc3700a-46cb-4bdd-9a33-9656bc760fbc"
   },
   "source": [
    "## Model Building Process"
   ]
  },
  {
   "cell_type": "markdown",
   "id": "90aaa43d",
   "metadata": {
    "id": "5049d185-ffdd-4f8b-aa6d-907139f9e8a0"
   },
   "source": [
    "### Instantiate the LinearLearner estimator object"
   ]
  },
  {
   "cell_type": "markdown",
   "id": "efe728d9",
   "metadata": {},
   "source": [
    "### Update the SageMaker Full Access role in the below cell"
   ]
  },
  {
   "cell_type": "code",
   "execution_count": 20,
   "id": "c755ffd2",
   "metadata": {
    "id": "f12eeb19048140658c40a249bf132a46"
   },
   "outputs": [],
   "source": [
    "role=''"
   ]
  },
  {
   "cell_type": "code",
   "execution_count": 21,
   "id": "89927cbe",
   "metadata": {
    "id": "26377032-d715-4842-8b15-5108892009d2"
   },
   "outputs": [
    {
     "name": "stderr",
     "output_type": "stream",
     "text": [
      "train_instance_count has been renamed in sagemaker>=2.\n",
      "See: https://sagemaker.readthedocs.io/en/stable/v2.html for details.\n",
      "train_instance_type has been renamed in sagemaker>=2.\n",
      "See: https://sagemaker.readthedocs.io/en/stable/v2.html for details.\n"
     ]
    }
   ],
   "source": [
    "import sagemaker\n",
    "from sagemaker.amazon.amazon_estimator import RecordSet\n",
    "import boto3\n",
    "\n",
    "multiclass_estimator = sagemaker.LinearLearner(role=role,\n",
    "                                               train_instance_count=1,\n",
    "                                               train_instance_type='ml.m4.xlarge',\n",
    "                                               predictor_type='multiclass_classifier',\n",
    "                                               num_classes=3)"
   ]
  },
  {
   "cell_type": "markdown",
   "id": "feb4185e",
   "metadata": {
    "id": "43b38ee9-8135-49fb-8596-dac4fa2a48b8"
   },
   "source": [
    "### Wrap data in RecordSet objects"
   ]
  },
  {
   "cell_type": "code",
   "execution_count": 22,
   "id": "4d961262",
   "metadata": {
    "id": "c5b32e30-b3e9-4a83-8151-c4a4b205cb9e"
   },
   "outputs": [],
   "source": [
    "train_records = multiclass_estimator.record_set(train_features, train_labels, channel='train')\n",
    "val_records = multiclass_estimator.record_set(val_features, val_labels, channel='validation')\n",
    "test_records = multiclass_estimator.record_set(test_features, test_labels, channel='test')"
   ]
  },
  {
   "cell_type": "markdown",
   "id": "5a290e01",
   "metadata": {
    "id": "9493026f-9070-4c2d-b15c-66c410752088"
   },
   "source": [
    "### Start a training job"
   ]
  },
  {
   "cell_type": "code",
   "execution_count": 23,
   "id": "bcd8e6f1",
   "metadata": {
    "id": "1a23e459-b776-45bf-9e5a-78b8ea9d0c15"
   },
   "outputs": [
    {
     "name": "stderr",
     "output_type": "stream",
     "text": [
      "Defaulting to the only supported framework/algorithm version: 1. Ignoring framework/algorithm version: 1.\n",
      "Defaulting to the only supported framework/algorithm version: 1. Ignoring framework/algorithm version: 1.\n"
     ]
    },
    {
     "name": "stdout",
     "output_type": "stream",
     "text": [
      "2022-07-27 08:37:19 Starting - Starting the training job...ProfilerReport-1658911038: InProgress\n",
      "...\n",
      "2022-07-27 08:38:22 Starting - Preparing the instances for training......\n",
      "2022-07-27 08:39:22 Downloading - Downloading input data...\n",
      "2022-07-27 08:40:03 Training - Downloading the training image...\n",
      "2022-07-27 08:40:43 Training - Training image download completed. Training in progress.\u001b[34mDocker entrypoint called with argument(s): train\u001b[0m\n",
      "\u001b[34mRunning default environment configuration script\u001b[0m\n",
      "\u001b[34m[07/27/2022 08:40:44 INFO 140094935398208] Reading default configuration from /opt/amazon/lib/python3.7/site-packages/algorithm/resources/default-input.json: {'mini_batch_size': '1000', 'epochs': '15', 'feature_dim': 'auto', 'use_bias': 'true', 'binary_classifier_model_selection_criteria': 'accuracy', 'f_beta': '1.0', 'target_recall': '0.8', 'target_precision': '0.8', 'num_models': 'auto', 'num_calibration_samples': '10000000', 'init_method': 'uniform', 'init_scale': '0.07', 'init_sigma': '0.01', 'init_bias': '0.0', 'optimizer': 'auto', 'loss': 'auto', 'margin': '1.0', 'quantile': '0.5', 'loss_insensitivity': '0.01', 'huber_delta': '1.0', 'num_classes': '1', 'accuracy_top_k': '3', 'wd': 'auto', 'l1': 'auto', 'momentum': 'auto', 'learning_rate': 'auto', 'beta_1': 'auto', 'beta_2': 'auto', 'bias_lr_mult': 'auto', 'bias_wd_mult': 'auto', 'use_lr_scheduler': 'true', 'lr_scheduler_step': 'auto', 'lr_scheduler_factor': 'auto', 'lr_scheduler_minimum_lr': 'auto', 'positive_example_weight_mult': '1.0', 'balance_multiclass_weights': 'false', 'normalize_data': 'true', 'normalize_label': 'auto', 'unbias_data': 'auto', 'unbias_label': 'auto', 'num_point_for_scaler': '10000', '_kvstore': 'auto', '_num_gpus': 'auto', '_num_kv_servers': 'auto', '_log_level': 'info', '_tuning_objective_metric': '', 'early_stopping_patience': '3', 'early_stopping_tolerance': '0.001', '_enable_profiler': 'false'}\u001b[0m\n",
      "\u001b[34m[07/27/2022 08:40:44 INFO 140094935398208] Merging with provided configuration from /opt/ml/input/config/hyperparameters.json: {'feature_dim': '2', 'mini_batch_size': '1000', 'num_classes': '3', 'predictor_type': 'multiclass_classifier'}\u001b[0m\n",
      "\u001b[34m[07/27/2022 08:40:45 INFO 140094935398208] Final configuration: {'mini_batch_size': '1000', 'epochs': '15', 'feature_dim': '2', 'use_bias': 'true', 'binary_classifier_model_selection_criteria': 'accuracy', 'f_beta': '1.0', 'target_recall': '0.8', 'target_precision': '0.8', 'num_models': 'auto', 'num_calibration_samples': '10000000', 'init_method': 'uniform', 'init_scale': '0.07', 'init_sigma': '0.01', 'init_bias': '0.0', 'optimizer': 'auto', 'loss': 'auto', 'margin': '1.0', 'quantile': '0.5', 'loss_insensitivity': '0.01', 'huber_delta': '1.0', 'num_classes': '3', 'accuracy_top_k': '3', 'wd': 'auto', 'l1': 'auto', 'momentum': 'auto', 'learning_rate': 'auto', 'beta_1': 'auto', 'beta_2': 'auto', 'bias_lr_mult': 'auto', 'bias_wd_mult': 'auto', 'use_lr_scheduler': 'true', 'lr_scheduler_step': 'auto', 'lr_scheduler_factor': 'auto', 'lr_scheduler_minimum_lr': 'auto', 'positive_example_weight_mult': '1.0', 'balance_multiclass_weights': 'false', 'normalize_data': 'true', 'normalize_label': 'auto', 'unbias_data': 'auto', 'unbias_label': 'auto', 'num_point_for_scaler': '10000', '_kvstore': 'auto', '_num_gpus': 'auto', '_num_kv_servers': 'auto', '_log_level': 'info', '_tuning_objective_metric': '', 'early_stopping_patience': '3', 'early_stopping_tolerance': '0.001', '_enable_profiler': 'false', 'predictor_type': 'multiclass_classifier'}\u001b[0m\n",
      "\u001b[34m[07/27/2022 08:40:45 WARNING 140094935398208] Loggers have already been setup.\u001b[0m\n",
      "\u001b[34mProcess 1 is a worker.\u001b[0m\n",
      "\u001b[34m[07/27/2022 08:40:45 INFO 140094935398208] Using default worker.\u001b[0m\n",
      "\u001b[34m[07/27/2022 08:40:45 INFO 140094935398208] Checkpoint loading and saving are disabled.\u001b[0m\n",
      "\u001b[34m[2022-07-27 08:40:45.317] [tensorio] [warning] TensorIO is already initialized; ignoring the initialization routine.\u001b[0m\n",
      "\u001b[34m[2022-07-27 08:40:45.319] [tensorio] [warning] TensorIO is already initialized; ignoring the initialization routine.\u001b[0m\n",
      "\u001b[34m[2022-07-27 08:40:45.349] [tensorio] [info] epoch_stats={\"data_pipeline\": \"/opt/ml/input/data/train\", \"epoch\": 0, \"duration\": 33, \"num_examples\": 1, \"num_bytes\": 52000}\u001b[0m\n",
      "\u001b[34m[07/27/2022 08:40:45 INFO 140094935398208] Create Store: local\u001b[0m\n",
      "\u001b[34m[2022-07-27 08:40:45.385] [tensorio] [info] epoch_stats={\"data_pipeline\": \"/opt/ml/input/data/train\", \"epoch\": 1, \"duration\": 34, \"num_examples\": 2, \"num_bytes\": 92352}\u001b[0m\n",
      "\u001b[34m[07/27/2022 08:40:45 INFO 140094935398208] Scaler algorithm parameters\n",
      " <algorithm.scaler.ScalerAlgorithmStable object at 0x7f69ecbd5fd0>\u001b[0m\n",
      "\u001b[34m[07/27/2022 08:40:45 INFO 140094935398208] Scaling model computed with parameters:\n",
      " {'stdev_label': None, 'stdev_weight': \u001b[0m\n",
      "\u001b[34m[8.0769736e-01 4.2531353e+03]\u001b[0m\n",
      "\u001b[34m<NDArray 2 @cpu(0)>, 'mean_label': None, 'mean_weight': \u001b[0m\n",
      "\u001b[34m[9.750000e-01 2.589306e+03]\u001b[0m\n",
      "\u001b[34m<NDArray 2 @cpu(0)>}\u001b[0m\n",
      "\u001b[34m[07/27/2022 08:40:45 INFO 140094935398208] nvidia-smi: took 0.038 seconds to run.\u001b[0m\n",
      "\u001b[34m[07/27/2022 08:40:45 INFO 140094935398208] nvidia-smi identified 0 GPUs.\u001b[0m\n",
      "\u001b[34m[07/27/2022 08:40:45 INFO 140094935398208] Number of GPUs being used: 0\u001b[0m\n",
      "\u001b[34m#metrics {\"StartTime\": 1658911245.5215101, \"EndTime\": 1658911245.5215495, \"Dimensions\": {\"Algorithm\": \"Linear Learner\", \"Host\": \"algo-1\", \"Operation\": \"training\", \"Meta\": \"init_train_data_iter\"}, \"Metrics\": {\"Total Records Seen\": {\"sum\": 2776.0, \"count\": 1, \"min\": 2776, \"max\": 2776}, \"Total Batches Seen\": {\"sum\": 3.0, \"count\": 1, \"min\": 3, \"max\": 3}, \"Max Records Seen Between Resets\": {\"sum\": 1776.0, \"count\": 1, \"min\": 1776, \"max\": 1776}, \"Max Batches Seen Between Resets\": {\"sum\": 2.0, \"count\": 1, \"min\": 2, \"max\": 2}, \"Reset Count\": {\"sum\": 2.0, \"count\": 1, \"min\": 2, \"max\": 2}, \"Number of Records Since Last Reset\": {\"sum\": 0.0, \"count\": 1, \"min\": 0, \"max\": 0}, \"Number of Batches Since Last Reset\": {\"sum\": 0.0, \"count\": 1, \"min\": 0, \"max\": 0}}}\u001b[0m\n",
      "\u001b[34m[2022-07-27 08:40:45.622] [tensorio] [info] epoch_stats={\"data_pipeline\": \"/opt/ml/input/data/train\", \"epoch\": 4, \"duration\": 100, \"num_examples\": 2, \"num_bytes\": 92352}\u001b[0m\n",
      "\u001b[34m#metrics {\"StartTime\": 1658911245.622331, \"EndTime\": 1658911245.6224189, \"Dimensions\": {\"Algorithm\": \"Linear Learner\", \"Host\": \"algo-1\", \"Operation\": \"training\", \"epoch\": 0, \"model\": 0}, \"Metrics\": {\"train_multiclass_cross_entropy_objective\": {\"sum\": 1.0954010009765625, \"count\": 1, \"min\": 1.0954010009765625, \"max\": 1.0954010009765625}}}\u001b[0m\n",
      "\u001b[34m#metrics {\"StartTime\": 1658911245.6225529, \"EndTime\": 1658911245.6225765, \"Dimensions\": {\"Algorithm\": \"Linear Learner\", \"Host\": \"algo-1\", \"Operation\": \"training\", \"epoch\": 0, \"model\": 1}, \"Metrics\": {\"train_multiclass_cross_entropy_objective\": {\"sum\": 1.0995819091796875, \"count\": 1, \"min\": 1.0995819091796875, \"max\": 1.0995819091796875}}}\u001b[0m\n",
      "\u001b[34m#metrics {\"StartTime\": 1658911245.6226442, \"EndTime\": 1658911245.6226625, \"Dimensions\": {\"Algorithm\": \"Linear Learner\", \"Host\": \"algo-1\", \"Operation\": \"training\", \"epoch\": 0, \"model\": 2}, \"Metrics\": {\"train_multiclass_cross_entropy_objective\": {\"sum\": 1.1139429931640625, \"count\": 1, \"min\": 1.1139429931640625, \"max\": 1.1139429931640625}}}\u001b[0m\n",
      "\u001b[34m#metrics {\"StartTime\": 1658911245.6227198, \"EndTime\": 1658911245.622736, \"Dimensions\": {\"Algorithm\": \"Linear Learner\", \"Host\": \"algo-1\", \"Operation\": \"training\", \"epoch\": 0, \"model\": 3}, \"Metrics\": {\"train_multiclass_cross_entropy_objective\": {\"sum\": 1.06709375, \"count\": 1, \"min\": 1.06709375, \"max\": 1.06709375}}}\u001b[0m\n",
      "\u001b[34m#metrics {\"StartTime\": 1658911245.6228662, \"EndTime\": 1658911245.622886, \"Dimensions\": {\"Algorithm\": \"Linear Learner\", \"Host\": \"algo-1\", \"Operation\": \"training\", \"epoch\": 0, \"model\": 4}, \"Metrics\": {\"train_multiclass_cross_entropy_objective\": {\"sum\": 1.1328526611328125, \"count\": 1, \"min\": 1.1328526611328125, \"max\": 1.1328526611328125}}}\u001b[0m\n",
      "\u001b[34m#metrics {\"StartTime\": 1658911245.622946, \"EndTime\": 1658911245.6229634, \"Dimensions\": {\"Algorithm\": \"Linear Learner\", \"Host\": \"algo-1\", \"Operation\": \"training\", \"epoch\": 0, \"model\": 5}, \"Metrics\": {\"train_multiclass_cross_entropy_objective\": {\"sum\": 1.0979373779296875, \"count\": 1, \"min\": 1.0979373779296875, \"max\": 1.0979373779296875}}}\u001b[0m\n",
      "\u001b[34m#metrics {\"StartTime\": 1658911245.6230183, \"EndTime\": 1658911245.6230328, \"Dimensions\": {\"Algorithm\": \"Linear Learner\", \"Host\": \"algo-1\", \"Operation\": \"training\", \"epoch\": 0, \"model\": 6}, \"Metrics\": {\"train_multiclass_cross_entropy_objective\": {\"sum\": 1.0733134765625, \"count\": 1, \"min\": 1.0733134765625, \"max\": 1.0733134765625}}}\u001b[0m\n",
      "\u001b[34m#metrics {\"StartTime\": 1658911245.6231103, \"EndTime\": 1658911245.6231303, \"Dimensions\": {\"Algorithm\": \"Linear Learner\", \"Host\": \"algo-1\", \"Operation\": \"training\", \"epoch\": 0, \"model\": 7}, \"Metrics\": {\"train_multiclass_cross_entropy_objective\": {\"sum\": 1.101536376953125, \"count\": 1, \"min\": 1.101536376953125, \"max\": 1.101536376953125}}}\u001b[0m\n",
      "\u001b[34m#metrics {\"StartTime\": 1658911245.6231859, \"EndTime\": 1658911245.6232018, \"Dimensions\": {\"Algorithm\": \"Linear Learner\", \"Host\": \"algo-1\", \"Operation\": \"training\", \"epoch\": 0, \"model\": 8}, \"Metrics\": {\"train_multiclass_cross_entropy_objective\": {\"sum\": 1.1102474365234376, \"count\": 1, \"min\": 1.1102474365234376, \"max\": 1.1102474365234376}}}\u001b[0m\n",
      "\u001b[34m#metrics {\"StartTime\": 1658911245.6232555, \"EndTime\": 1658911245.6232705, \"Dimensions\": {\"Algorithm\": \"Linear Learner\", \"Host\": \"algo-1\", \"Operation\": \"training\", \"epoch\": 0, \"model\": 9}, \"Metrics\": {\"train_multiclass_cross_entropy_objective\": {\"sum\": 1.123679443359375, \"count\": 1, \"min\": 1.123679443359375, \"max\": 1.123679443359375}}}\u001b[0m\n",
      "\u001b[34m#metrics {\"StartTime\": 1658911245.6233215, \"EndTime\": 1658911245.6233382, \"Dimensions\": {\"Algorithm\": \"Linear Learner\", \"Host\": \"algo-1\", \"Operation\": \"training\", \"epoch\": 0, \"model\": 10}, \"Metrics\": {\"train_multiclass_cross_entropy_objective\": {\"sum\": 1.0930557861328125, \"count\": 1, \"min\": 1.0930557861328125, \"max\": 1.0930557861328125}}}\u001b[0m\n",
      "\u001b[34m#metrics {\"StartTime\": 1658911245.6234014, \"EndTime\": 1658911245.6234198, \"Dimensions\": {\"Algorithm\": \"Linear Learner\", \"Host\": \"algo-1\", \"Operation\": \"training\", \"epoch\": 0, \"model\": 11}, \"Metrics\": {\"train_multiclass_cross_entropy_objective\": {\"sum\": 1.100878662109375, \"count\": 1, \"min\": 1.100878662109375, \"max\": 1.100878662109375}}}\u001b[0m\n",
      "\u001b[34m[07/27/2022 08:40:45 INFO 140094935398208] #quality_metric: host=algo-1, epoch=0, train multiclass_cross_entropy_objective <loss>=1.0954010009765625\u001b[0m\n",
      "\u001b[34m[2022-07-27 08:40:45.632] [tensorio] [info] epoch_stats={\"data_pipeline\": \"/opt/ml/input/data/validation\", \"epoch\": 0, \"duration\": 314, \"num_examples\": 1, \"num_bytes\": 11544}\u001b[0m\n",
      "\u001b[34m[2022-07-27 08:40:45.659] [tensorio] [info] epoch_stats={\"data_pipeline\": \"/opt/ml/input/data/validation\", \"epoch\": 2, \"duration\": 18, \"num_examples\": 1, \"num_bytes\": 11544}\u001b[0m\n",
      "\u001b[34m#metrics {\"StartTime\": 1658911245.6628113, \"EndTime\": 1658911245.662864, \"Dimensions\": {\"Algorithm\": \"Linear Learner\", \"Host\": \"algo-1\", \"Operation\": \"training\", \"epoch\": 0, \"model\": 0}, \"Metrics\": {\"validation_multiclass_cross_entropy_objective\": {\"sum\": 1.0870965493691933, \"count\": 1, \"min\": 1.0870965493691933, \"max\": 1.0870965493691933}}}\u001b[0m\n",
      "\u001b[34m#metrics {\"StartTime\": 1658911245.6629958, \"EndTime\": 1658911245.6630447, \"Dimensions\": {\"Algorithm\": \"Linear Learner\", \"Host\": \"algo-1\", \"Operation\": \"training\", \"epoch\": 0, \"model\": 1}, \"Metrics\": {\"validation_multiclass_cross_entropy_objective\": {\"sum\": 1.0952040526244018, \"count\": 1, \"min\": 1.0952040526244018, \"max\": 1.0952040526244018}}}\u001b[0m\n",
      "\u001b[34m#metrics {\"StartTime\": 1658911245.6631618, \"EndTime\": 1658911245.6632164, \"Dimensions\": {\"Algorithm\": \"Linear Learner\", \"Host\": \"algo-1\", \"Operation\": \"training\", \"epoch\": 0, \"model\": 2}, \"Metrics\": {\"validation_multiclass_cross_entropy_objective\": {\"sum\": 1.1503361882390202, \"count\": 1, \"min\": 1.1503361882390202, \"max\": 1.1503361882390202}}}\u001b[0m\n",
      "\u001b[34m#metrics {\"StartTime\": 1658911245.663283, \"EndTime\": 1658911245.6633375, \"Dimensions\": {\"Algorithm\": \"Linear Learner\", \"Host\": \"algo-1\", \"Operation\": \"training\", \"epoch\": 0, \"model\": 3}, \"Metrics\": {\"validation_multiclass_cross_entropy_objective\": {\"sum\": 1.0671759940482475, \"count\": 1, \"min\": 1.0671759940482475, \"max\": 1.0671759940482475}}}\u001b[0m\n",
      "\u001b[34m#metrics {\"StartTime\": 1658911245.6633887, \"EndTime\": 1658911245.6634004, \"Dimensions\": {\"Algorithm\": \"Linear Learner\", \"Host\": \"algo-1\", \"Operation\": \"training\", \"epoch\": 0, \"model\": 4}, \"Metrics\": {\"validation_multiclass_cross_entropy_objective\": {\"sum\": 1.111834276903857, \"count\": 1, \"min\": 1.111834276903857, \"max\": 1.111834276903857}}}\u001b[0m\n",
      "\u001b[34m#metrics {\"StartTime\": 1658911245.663429, \"EndTime\": 1658911245.6634371, \"Dimensions\": {\"Algorithm\": \"Linear Learner\", \"Host\": \"algo-1\", \"Operation\": \"training\", \"epoch\": 0, \"model\": 5}, \"Metrics\": {\"validation_multiclass_cross_entropy_objective\": {\"sum\": 1.053416277911212, \"count\": 1, \"min\": 1.053416277911212, \"max\": 1.053416277911212}}}\u001b[0m\n",
      "\u001b[34m#metrics {\"StartTime\": 1658911245.6634622, \"EndTime\": 1658911245.6634715, \"Dimensions\": {\"Algorithm\": \"Linear Learner\", \"Host\": \"algo-1\", \"Operation\": \"training\", \"epoch\": 0, \"model\": 6}, \"Metrics\": {\"validation_multiclass_cross_entropy_objective\": {\"sum\": 0.9854361731726844, \"count\": 1, \"min\": 0.9854361731726844, \"max\": 0.9854361731726844}}}\u001b[0m\n",
      "\u001b[34m#metrics {\"StartTime\": 1658911245.663557, \"EndTime\": 1658911245.663577, \"Dimensions\": {\"Algorithm\": \"Linear Learner\", \"Host\": \"algo-1\", \"Operation\": \"training\", \"epoch\": 0, \"model\": 7}, \"Metrics\": {\"validation_multiclass_cross_entropy_objective\": {\"sum\": 1.092049332352372, \"count\": 1, \"min\": 1.092049332352372, \"max\": 1.092049332352372}}}\u001b[0m\n",
      "\u001b[34m#metrics {\"StartTime\": 1658911245.6636684, \"EndTime\": 1658911245.6636884, \"Dimensions\": {\"Algorithm\": \"Linear Learner\", \"Host\": \"algo-1\", \"Operation\": \"training\", \"epoch\": 0, \"model\": 8}, \"Metrics\": {\"validation_multiclass_cross_entropy_objective\": {\"sum\": 1.0225276775188274, \"count\": 1, \"min\": 1.0225276775188274, \"max\": 1.0225276775188274}}}\u001b[0m\n",
      "\u001b[34m#metrics {\"StartTime\": 1658911245.6637452, \"EndTime\": 1658911245.6637616, \"Dimensions\": {\"Algorithm\": \"Linear Learner\", \"Host\": \"algo-1\", \"Operation\": \"training\", \"epoch\": 0, \"model\": 9}, \"Metrics\": {\"validation_multiclass_cross_entropy_objective\": {\"sum\": 3.2381616540857263, \"count\": 1, \"min\": 3.2381616540857263, \"max\": 3.2381616540857263}}}\u001b[0m\n",
      "\u001b[34m#metrics {\"StartTime\": 1658911245.6637948, \"EndTime\": 1658911245.663803, \"Dimensions\": {\"Algorithm\": \"Linear Learner\", \"Host\": \"algo-1\", \"Operation\": \"training\", \"epoch\": 0, \"model\": 10}, \"Metrics\": {\"validation_multiclass_cross_entropy_objective\": {\"sum\": 1.0837469702368383, \"count\": 1, \"min\": 1.0837469702368383, \"max\": 1.0837469702368383}}}\u001b[0m\n",
      "\u001b[34m#metrics {\"StartTime\": 1658911245.6638288, \"EndTime\": 1658911245.6638362, \"Dimensions\": {\"Algorithm\": \"Linear Learner\", \"Host\": \"algo-1\", \"Operation\": \"training\", \"epoch\": 0, \"model\": 11}, \"Metrics\": {\"validation_multiclass_cross_entropy_objective\": {\"sum\": 1.9163554423564189, \"count\": 1, \"min\": 1.9163554423564189, \"max\": 1.9163554423564189}}}\u001b[0m\n",
      "\u001b[34m[07/27/2022 08:40:45 INFO 140094935398208] #quality_metric: host=algo-1, epoch=0, validation multiclass_cross_entropy_objective <loss>=1.0870965493691933\u001b[0m\n",
      "\u001b[34m[07/27/2022 08:40:45 INFO 140094935398208] #early_stopping_criteria_metric: host=algo-1, epoch=0, criteria=multiclass_cross_entropy_objective, value=0.9854361731726844\u001b[0m\n",
      "\u001b[34m[07/27/2022 08:40:45 INFO 140094935398208] Epoch 0: Loss improved. Updating best model\u001b[0m\n",
      "\u001b[34m[07/27/2022 08:40:45 INFO 140094935398208] Saving model for epoch: 0\u001b[0m\n",
      "\u001b[34m[07/27/2022 08:40:45 INFO 140094935398208] Saved checkpoint to \"/tmp/tmphantzl8j/mx-mod-0000.params\"\u001b[0m\n",
      "\u001b[34m[07/27/2022 08:40:45 INFO 140094935398208] #progress_metric: host=algo-1, completed 6.666666666666667 % of epochs\u001b[0m\n",
      "\u001b[34m#metrics {\"StartTime\": 1658911245.5218694, \"EndTime\": 1658911245.675697, \"Dimensions\": {\"Algorithm\": \"Linear Learner\", \"Host\": \"algo-1\", \"Operation\": \"training\", \"epoch\": 0, \"Meta\": \"training_data_iter\"}, \"Metrics\": {\"Total Records Seen\": {\"sum\": 4552.0, \"count\": 1, \"min\": 4552, \"max\": 4552}, \"Total Batches Seen\": {\"sum\": 5.0, \"count\": 1, \"min\": 5, \"max\": 5}, \"Max Records Seen Between Resets\": {\"sum\": 1776.0, \"count\": 1, \"min\": 1776, \"max\": 1776}, \"Max Batches Seen Between Resets\": {\"sum\": 2.0, \"count\": 1, \"min\": 2, \"max\": 2}, \"Reset Count\": {\"sum\": 3.0, \"count\": 1, \"min\": 3, \"max\": 3}, \"Number of Records Since Last Reset\": {\"sum\": 1776.0, \"count\": 1, \"min\": 1776, \"max\": 1776}, \"Number of Batches Since Last Reset\": {\"sum\": 2.0, \"count\": 1, \"min\": 2, \"max\": 2}}}\u001b[0m\n",
      "\u001b[34m[07/27/2022 08:40:45 INFO 140094935398208] #throughput_metric: host=algo-1, train throughput=11535.214455943224 records/second\u001b[0m\n",
      "\u001b[34m[2022-07-27 08:40:45.699] [tensorio] [info] epoch_stats={\"data_pipeline\": \"/opt/ml/input/data/train\", \"epoch\": 6, \"duration\": 23, \"num_examples\": 2, \"num_bytes\": 92352}\u001b[0m\n",
      "\u001b[34m#metrics {\"StartTime\": 1658911245.69976, \"EndTime\": 1658911245.699849, \"Dimensions\": {\"Algorithm\": \"Linear Learner\", \"Host\": \"algo-1\", \"Operation\": \"training\", \"epoch\": 1, \"model\": 0}, \"Metrics\": {\"train_multiclass_cross_entropy_objective\": {\"sum\": 1.086185791015625, \"count\": 1, \"min\": 1.086185791015625, \"max\": 1.086185791015625}}}\u001b[0m\n",
      "\u001b[34m#metrics {\"StartTime\": 1658911245.6999404, \"EndTime\": 1658911245.6999636, \"Dimensions\": {\"Algorithm\": \"Linear Learner\", \"Host\": \"algo-1\", \"Operation\": \"training\", \"epoch\": 1, \"model\": 1}, \"Metrics\": {\"train_multiclass_cross_entropy_objective\": {\"sum\": 1.09255615234375, \"count\": 1, \"min\": 1.09255615234375, \"max\": 1.09255615234375}}}\u001b[0m\n",
      "\u001b[34m#metrics {\"StartTime\": 1658911245.7000275, \"EndTime\": 1658911245.7000458, \"Dimensions\": {\"Algorithm\": \"Linear Learner\", \"Host\": \"algo-1\", \"Operation\": \"training\", \"epoch\": 1, \"model\": 2}, \"Metrics\": {\"train_multiclass_cross_entropy_objective\": {\"sum\": 1.1436983642578125, \"count\": 1, \"min\": 1.1436983642578125, \"max\": 1.1436983642578125}}}\u001b[0m\n",
      "\u001b[34m#metrics {\"StartTime\": 1658911245.7001061, \"EndTime\": 1658911245.7001247, \"Dimensions\": {\"Algorithm\": \"Linear Learner\", \"Host\": \"algo-1\", \"Operation\": \"training\", \"epoch\": 1, \"model\": 3}, \"Metrics\": {\"train_multiclass_cross_entropy_objective\": {\"sum\": 1.06668115234375, \"count\": 1, \"min\": 1.06668115234375, \"max\": 1.06668115234375}}}\u001b[0m\n",
      "\u001b[34m#metrics {\"StartTime\": 1658911245.7001812, \"EndTime\": 1658911245.7001984, \"Dimensions\": {\"Algorithm\": \"Linear Learner\", \"Host\": \"algo-1\", \"Operation\": \"training\", \"epoch\": 1, \"model\": 4}, \"Metrics\": {\"train_multiclass_cross_entropy_objective\": {\"sum\": 1.109125, \"count\": 1, \"min\": 1.109125, \"max\": 1.109125}}}\u001b[0m\n",
      "\u001b[34m#metrics {\"StartTime\": 1658911245.7002537, \"EndTime\": 1658911245.7002673, \"Dimensions\": {\"Algorithm\": \"Linear Learner\", \"Host\": \"algo-1\", \"Operation\": \"training\", \"epoch\": 1, \"model\": 5}, \"Metrics\": {\"train_multiclass_cross_entropy_objective\": {\"sum\": 1.0555576171875, \"count\": 1, \"min\": 1.0555576171875, \"max\": 1.0555576171875}}}\u001b[0m\n",
      "\u001b[34m#metrics {\"StartTime\": 1658911245.7003238, \"EndTime\": 1658911245.7003398, \"Dimensions\": {\"Algorithm\": \"Linear Learner\", \"Host\": \"algo-1\", \"Operation\": \"training\", \"epoch\": 1, \"model\": 6}, \"Metrics\": {\"train_multiclass_cross_entropy_objective\": {\"sum\": 0.9857898559570313, \"count\": 1, \"min\": 0.9857898559570313, \"max\": 0.9857898559570313}}}\u001b[0m\n",
      "\u001b[34m#metrics {\"StartTime\": 1658911245.7003934, \"EndTime\": 1658911245.7004097, \"Dimensions\": {\"Algorithm\": \"Linear Learner\", \"Host\": \"algo-1\", \"Operation\": \"training\", \"epoch\": 1, \"model\": 7}, \"Metrics\": {\"train_multiclass_cross_entropy_objective\": {\"sum\": 1.091218017578125, \"count\": 1, \"min\": 1.091218017578125, \"max\": 1.091218017578125}}}\u001b[0m\n",
      "\u001b[34m#metrics {\"StartTime\": 1658911245.700463, \"EndTime\": 1658911245.7004786, \"Dimensions\": {\"Algorithm\": \"Linear Learner\", \"Host\": \"algo-1\", \"Operation\": \"training\", \"epoch\": 1, \"model\": 8}, \"Metrics\": {\"train_multiclass_cross_entropy_objective\": {\"sum\": 1.0247166748046874, \"count\": 1, \"min\": 1.0247166748046874, \"max\": 1.0247166748046874}}}\u001b[0m\n",
      "\u001b[34m#metrics {\"StartTime\": 1658911245.7005317, \"EndTime\": 1658911245.7005482, \"Dimensions\": {\"Algorithm\": \"Linear Learner\", \"Host\": \"algo-1\", \"Operation\": \"training\", \"epoch\": 1, \"model\": 9}, \"Metrics\": {\"train_multiclass_cross_entropy_objective\": {\"sum\": 3.1880087890625, \"count\": 1, \"min\": 3.1880087890625, \"max\": 3.1880087890625}}}\u001b[0m\n",
      "\u001b[34m#metrics {\"StartTime\": 1658911245.700602, \"EndTime\": 1658911245.7006197, \"Dimensions\": {\"Algorithm\": \"Linear Learner\", \"Host\": \"algo-1\", \"Operation\": \"training\", \"epoch\": 1, \"model\": 10}, \"Metrics\": {\"train_multiclass_cross_entropy_objective\": {\"sum\": 1.0830186767578125, \"count\": 1, \"min\": 1.0830186767578125, \"max\": 1.0830186767578125}}}\u001b[0m\n",
      "\u001b[34m#metrics {\"StartTime\": 1658911245.7006733, \"EndTime\": 1658911245.7006893, \"Dimensions\": {\"Algorithm\": \"Linear Learner\", \"Host\": \"algo-1\", \"Operation\": \"training\", \"epoch\": 1, \"model\": 11}, \"Metrics\": {\"train_multiclass_cross_entropy_objective\": {\"sum\": 1.89115087890625, \"count\": 1, \"min\": 1.89115087890625, \"max\": 1.89115087890625}}}\u001b[0m\n",
      "\u001b[34m[07/27/2022 08:40:45 INFO 140094935398208] #quality_metric: host=algo-1, epoch=1, train multiclass_cross_entropy_objective <loss>=1.086185791015625\u001b[0m\n",
      "\u001b[34m[2022-07-27 08:40:45.733] [tensorio] [info] epoch_stats={\"data_pipeline\": \"/opt/ml/input/data/validation\", \"epoch\": 5, \"duration\": 16, \"num_examples\": 1, \"num_bytes\": 11544}\u001b[0m\n",
      "\u001b[34m#metrics {\"StartTime\": 1658911245.7388518, \"EndTime\": 1658911245.7389247, \"Dimensions\": {\"Algorithm\": \"Linear Learner\", \"Host\": \"algo-1\", \"Operation\": \"training\", \"epoch\": 1, \"model\": 0}, \"Metrics\": {\"validation_multiclass_cross_entropy_objective\": {\"sum\": 1.0596500431095157, \"count\": 1, \"min\": 1.0596500431095157, \"max\": 1.0596500431095157}}}\u001b[0m\n",
      "\u001b[34m#metrics {\"StartTime\": 1658911245.7390428, \"EndTime\": 1658911245.739097, \"Dimensions\": {\"Algorithm\": \"Linear Learner\", \"Host\": \"algo-1\", \"Operation\": \"training\", \"epoch\": 1, \"model\": 1}, \"Metrics\": {\"validation_multiclass_cross_entropy_objective\": {\"sum\": 1.0570338481181376, \"count\": 1, \"min\": 1.0570338481181376, \"max\": 1.0570338481181376}}}\u001b[0m\n",
      "\u001b[34m#metrics {\"StartTime\": 1658911245.7391572, \"EndTime\": 1658911245.7391703, \"Dimensions\": {\"Algorithm\": \"Linear Learner\", \"Host\": \"algo-1\", \"Operation\": \"training\", \"epoch\": 1, \"model\": 2}, \"Metrics\": {\"validation_multiclass_cross_entropy_objective\": {\"sum\": 1.0374676128765483, \"count\": 1, \"min\": 1.0374676128765483, \"max\": 1.0374676128765483}}}\u001b[0m\n",
      "\u001b[34m#metrics {\"StartTime\": 1658911245.739211, \"EndTime\": 1658911245.7392266, \"Dimensions\": {\"Algorithm\": \"Linear Learner\", \"Host\": \"algo-1\", \"Operation\": \"training\", \"epoch\": 1, \"model\": 3}, \"Metrics\": {\"validation_multiclass_cross_entropy_objective\": {\"sum\": 1.0151929425763655, \"count\": 1, \"min\": 1.0151929425763655, \"max\": 1.0151929425763655}}}\u001b[0m\n",
      "\u001b[34m#metrics {\"StartTime\": 1658911245.7392793, \"EndTime\": 1658911245.7392967, \"Dimensions\": {\"Algorithm\": \"Linear Learner\", \"Host\": \"algo-1\", \"Operation\": \"training\", \"epoch\": 1, \"model\": 4}, \"Metrics\": {\"validation_multiclass_cross_entropy_objective\": {\"sum\": 1.0885723217113599, \"count\": 1, \"min\": 1.0885723217113599, \"max\": 1.0885723217113599}}}\u001b[0m\n",
      "\u001b[34m#metrics {\"StartTime\": 1658911245.7393477, \"EndTime\": 1658911245.7393584, \"Dimensions\": {\"Algorithm\": \"Linear Learner\", \"Host\": \"algo-1\", \"Operation\": \"training\", \"epoch\": 1, \"model\": 5}, \"Metrics\": {\"validation_multiclass_cross_entropy_objective\": {\"sum\": 1.0263055337441933, \"count\": 1, \"min\": 1.0263055337441933, \"max\": 1.0263055337441933}}}\u001b[0m\n",
      "\u001b[34m#metrics {\"StartTime\": 1658911245.739404, \"EndTime\": 1658911245.7394214, \"Dimensions\": {\"Algorithm\": \"Linear Learner\", \"Host\": \"algo-1\", \"Operation\": \"training\", \"epoch\": 1, \"model\": 6}, \"Metrics\": {\"validation_multiclass_cross_entropy_objective\": {\"sum\": 0.9337130709811374, \"count\": 1, \"min\": 0.9337130709811374, \"max\": 0.9337130709811374}}}\u001b[0m\n",
      "\u001b[34m#metrics {\"StartTime\": 1658911245.7394733, \"EndTime\": 1658911245.7394898, \"Dimensions\": {\"Algorithm\": \"Linear Learner\", \"Host\": \"algo-1\", \"Operation\": \"training\", \"epoch\": 1, \"model\": 7}, \"Metrics\": {\"validation_multiclass_cross_entropy_objective\": {\"sum\": 1.0735106597075592, \"count\": 1, \"min\": 1.0735106597075592, \"max\": 1.0735106597075592}}}\u001b[0m\n",
      "\u001b[34m#metrics {\"StartTime\": 1658911245.7395413, \"EndTime\": 1658911245.7395573, \"Dimensions\": {\"Algorithm\": \"Linear Learner\", \"Host\": \"algo-1\", \"Operation\": \"training\", \"epoch\": 1, \"model\": 8}, \"Metrics\": {\"validation_multiclass_cross_entropy_objective\": {\"sum\": 0.9513241879574887, \"count\": 1, \"min\": 0.9513241879574887, \"max\": 0.9513241879574887}}}\u001b[0m\n",
      "\u001b[34m#metrics {\"StartTime\": 1658911245.7396104, \"EndTime\": 1658911245.739626, \"Dimensions\": {\"Algorithm\": \"Linear Learner\", \"Host\": \"algo-1\", \"Operation\": \"training\", \"epoch\": 1, \"model\": 9}, \"Metrics\": {\"validation_multiclass_cross_entropy_objective\": {\"sum\": 0.7848566416147593, \"count\": 1, \"min\": 0.7848566416147593, \"max\": 0.7848566416147593}}}\u001b[0m\n",
      "\u001b[34m#metrics {\"StartTime\": 1658911245.7396843, \"EndTime\": 1658911245.7396994, \"Dimensions\": {\"Algorithm\": \"Linear Learner\", \"Host\": \"algo-1\", \"Operation\": \"training\", \"epoch\": 1, \"model\": 10}, \"Metrics\": {\"validation_multiclass_cross_entropy_objective\": {\"sum\": 1.0707135587125212, \"count\": 1, \"min\": 1.0707135587125212, \"max\": 1.0707135587125212}}}\u001b[0m\n",
      "\u001b[34m#metrics {\"StartTime\": 1658911245.7397506, \"EndTime\": 1658911245.739768, \"Dimensions\": {\"Algorithm\": \"Linear Learner\", \"Host\": \"algo-1\", \"Operation\": \"training\", \"epoch\": 1, \"model\": 11}, \"Metrics\": {\"validation_multiclass_cross_entropy_objective\": {\"sum\": 0.8712932139903575, \"count\": 1, \"min\": 0.8712932139903575, \"max\": 0.8712932139903575}}}\u001b[0m\n",
      "\u001b[34m[07/27/2022 08:40:45 INFO 140094935398208] #quality_metric: host=algo-1, epoch=1, validation multiclass_cross_entropy_objective <loss>=1.0596500431095157\u001b[0m\n",
      "\u001b[34m[07/27/2022 08:40:45 INFO 140094935398208] #early_stopping_criteria_metric: host=algo-1, epoch=1, criteria=multiclass_cross_entropy_objective, value=0.7848566416147593\u001b[0m\n",
      "\u001b[34m[07/27/2022 08:40:45 INFO 140094935398208] Epoch 1: Loss improved. Updating best model\u001b[0m\n",
      "\u001b[34m[07/27/2022 08:40:45 INFO 140094935398208] Saving model for epoch: 1\u001b[0m\n",
      "\u001b[34m[07/27/2022 08:40:45 INFO 140094935398208] Saved checkpoint to \"/tmp/tmptfwgwujs/mx-mod-0000.params\"\u001b[0m\n",
      "\u001b[34m[07/27/2022 08:40:45 INFO 140094935398208] #progress_metric: host=algo-1, completed 13.333333333333334 % of epochs\u001b[0m\n",
      "\u001b[34m#metrics {\"StartTime\": 1658911245.676029, \"EndTime\": 1658911245.7520473, \"Dimensions\": {\"Algorithm\": \"Linear Learner\", \"Host\": \"algo-1\", \"Operation\": \"training\", \"epoch\": 1, \"Meta\": \"training_data_iter\"}, \"Metrics\": {\"Total Records Seen\": {\"sum\": 6328.0, \"count\": 1, \"min\": 6328, \"max\": 6328}, \"Total Batches Seen\": {\"sum\": 7.0, \"count\": 1, \"min\": 7, \"max\": 7}, \"Max Records Seen Between Resets\": {\"sum\": 1776.0, \"count\": 1, \"min\": 1776, \"max\": 1776}, \"Max Batches Seen Between Resets\": {\"sum\": 2.0, \"count\": 1, \"min\": 2, \"max\": 2}, \"Reset Count\": {\"sum\": 4.0, \"count\": 1, \"min\": 4, \"max\": 4}, \"Number of Records Since Last Reset\": {\"sum\": 1776.0, \"count\": 1, \"min\": 1776, \"max\": 1776}, \"Number of Batches Since Last Reset\": {\"sum\": 2.0, \"count\": 1, \"min\": 2, \"max\": 2}}}\u001b[0m\n",
      "\u001b[34m[07/27/2022 08:40:45 INFO 140094935398208] #throughput_metric: host=algo-1, train throughput=23314.816600938968 records/second\u001b[0m\n",
      "\u001b[34m[2022-07-27 08:40:45.779] [tensorio] [info] epoch_stats={\"data_pipeline\": \"/opt/ml/input/data/train\", \"epoch\": 8, \"duration\": 26, \"num_examples\": 2, \"num_bytes\": 92352}\u001b[0m\n",
      "\u001b[34m#metrics {\"StartTime\": 1658911245.7796082, \"EndTime\": 1658911245.7796762, \"Dimensions\": {\"Algorithm\": \"Linear Learner\", \"Host\": \"algo-1\", \"Operation\": \"training\", \"epoch\": 2, \"model\": 0}, \"Metrics\": {\"train_multiclass_cross_entropy_objective\": {\"sum\": 1.0606181640625, \"count\": 1, \"min\": 1.0606181640625, \"max\": 1.0606181640625}}}\u001b[0m\n",
      "\u001b[34m#metrics {\"StartTime\": 1658911245.7797678, \"EndTime\": 1658911245.7797897, \"Dimensions\": {\"Algorithm\": \"Linear Learner\", \"Host\": \"algo-1\", \"Operation\": \"training\", \"epoch\": 2, \"model\": 1}, \"Metrics\": {\"train_multiclass_cross_entropy_objective\": {\"sum\": 1.0572132568359376, \"count\": 1, \"min\": 1.0572132568359376, \"max\": 1.0572132568359376}}}\u001b[0m\n",
      "\u001b[34m#metrics {\"StartTime\": 1658911245.77985, \"EndTime\": 1658911245.7798681, \"Dimensions\": {\"Algorithm\": \"Linear Learner\", \"Host\": \"algo-1\", \"Operation\": \"training\", \"epoch\": 2, \"model\": 2}, \"Metrics\": {\"train_multiclass_cross_entropy_objective\": {\"sum\": 1.0368223876953124, \"count\": 1, \"min\": 1.0368223876953124, \"max\": 1.0368223876953124}}}\u001b[0m\n",
      "\u001b[34m#metrics {\"StartTime\": 1658911245.779921, \"EndTime\": 1658911245.7799373, \"Dimensions\": {\"Algorithm\": \"Linear Learner\", \"Host\": \"algo-1\", \"Operation\": \"training\", \"epoch\": 2, \"model\": 3}, \"Metrics\": {\"train_multiclass_cross_entropy_objective\": {\"sum\": 1.01776220703125, \"count\": 1, \"min\": 1.01776220703125, \"max\": 1.01776220703125}}}\u001b[0m\n",
      "\u001b[34m#metrics {\"StartTime\": 1658911245.7799888, \"EndTime\": 1658911245.7800071, \"Dimensions\": {\"Algorithm\": \"Linear Learner\", \"Host\": \"algo-1\", \"Operation\": \"training\", \"epoch\": 2, \"model\": 4}, \"Metrics\": {\"train_multiclass_cross_entropy_objective\": {\"sum\": 1.087057373046875, \"count\": 1, \"min\": 1.087057373046875, \"max\": 1.087057373046875}}}\u001b[0m\n",
      "\u001b[34m#metrics {\"StartTime\": 1658911245.7800586, \"EndTime\": 1658911245.7800744, \"Dimensions\": {\"Algorithm\": \"Linear Learner\", \"Host\": \"algo-1\", \"Operation\": \"training\", \"epoch\": 2, \"model\": 5}, \"Metrics\": {\"train_multiclass_cross_entropy_objective\": {\"sum\": 1.0293048095703126, \"count\": 1, \"min\": 1.0293048095703126, \"max\": 1.0293048095703126}}}\u001b[0m\n",
      "\u001b[34m#metrics {\"StartTime\": 1658911245.7801278, \"EndTime\": 1658911245.7801461, \"Dimensions\": {\"Algorithm\": \"Linear Learner\", \"Host\": \"algo-1\", \"Operation\": \"training\", \"epoch\": 2, \"model\": 6}, \"Metrics\": {\"train_multiclass_cross_entropy_objective\": {\"sum\": 0.9412068481445313, \"count\": 1, \"min\": 0.9412068481445313, \"max\": 0.9412068481445313}}}\u001b[0m\n",
      "\u001b[34m#metrics {\"StartTime\": 1658911245.7801998, \"EndTime\": 1658911245.7802162, \"Dimensions\": {\"Algorithm\": \"Linear Learner\", \"Host\": \"algo-1\", \"Operation\": \"training\", \"epoch\": 2, \"model\": 7}, \"Metrics\": {\"train_multiclass_cross_entropy_objective\": {\"sum\": 1.07357568359375, \"count\": 1, \"min\": 1.07357568359375, \"max\": 1.07357568359375}}}\u001b[0m\n",
      "\u001b[34m#metrics {\"StartTime\": 1658911245.7803304, \"EndTime\": 1658911245.780351, \"Dimensions\": {\"Algorithm\": \"Linear Learner\", \"Host\": \"algo-1\", \"Operation\": \"training\", \"epoch\": 2, \"model\": 8}, \"Metrics\": {\"train_multiclass_cross_entropy_objective\": {\"sum\": 0.9560392456054687, \"count\": 1, \"min\": 0.9560392456054687, \"max\": 0.9560392456054687}}}\u001b[0m\n",
      "\u001b[34m#metrics {\"StartTime\": 1658911245.7804067, \"EndTime\": 1658911245.780423, \"Dimensions\": {\"Algorithm\": \"Linear Learner\", \"Host\": \"algo-1\", \"Operation\": \"training\", \"epoch\": 2, \"model\": 9}, \"Metrics\": {\"train_multiclass_cross_entropy_objective\": {\"sum\": 0.8069232788085937, \"count\": 1, \"min\": 0.8069232788085937, \"max\": 0.8069232788085937}}}\u001b[0m\n",
      "\u001b[34m#metrics {\"StartTime\": 1658911245.7804792, \"EndTime\": 1658911245.7805033, \"Dimensions\": {\"Algorithm\": \"Linear Learner\", \"Host\": \"algo-1\", \"Operation\": \"training\", \"epoch\": 2, \"model\": 10}, \"Metrics\": {\"train_multiclass_cross_entropy_objective\": {\"sum\": 1.070302490234375, \"count\": 1, \"min\": 1.070302490234375, \"max\": 1.070302490234375}}}\u001b[0m\n",
      "\u001b[34m#metrics {\"StartTime\": 1658911245.7805579, \"EndTime\": 1658911245.7805765, \"Dimensions\": {\"Algorithm\": \"Linear Learner\", \"Host\": \"algo-1\", \"Operation\": \"training\", \"epoch\": 2, \"model\": 11}, \"Metrics\": {\"train_multiclass_cross_entropy_objective\": {\"sum\": 0.8821119995117187, \"count\": 1, \"min\": 0.8821119995117187, \"max\": 0.8821119995117187}}}\u001b[0m\n",
      "\u001b[34m[07/27/2022 08:40:45 INFO 140094935398208] #quality_metric: host=algo-1, epoch=2, train multiclass_cross_entropy_objective <loss>=1.0606181640625\u001b[0m\n",
      "\u001b[34m[2022-07-27 08:40:45.806] [tensorio] [info] epoch_stats={\"data_pipeline\": \"/opt/ml/input/data/validation\", \"epoch\": 8, \"duration\": 12, \"num_examples\": 1, \"num_bytes\": 11544}\u001b[0m\n",
      "\u001b[34m#metrics {\"StartTime\": 1658911245.8109646, \"EndTime\": 1658911245.8110282, \"Dimensions\": {\"Algorithm\": \"Linear Learner\", \"Host\": \"algo-1\", \"Operation\": \"training\", \"epoch\": 2, \"model\": 0}, \"Metrics\": {\"validation_multiclass_cross_entropy_objective\": {\"sum\": 1.0409196733354449, \"count\": 1, \"min\": 1.0409196733354449, \"max\": 1.0409196733354449}}}\u001b[0m\n",
      "\u001b[34m#metrics {\"StartTime\": 1658911245.8111906, \"EndTime\": 1658911245.8112204, \"Dimensions\": {\"Algorithm\": \"Linear Learner\", \"Host\": \"algo-1\", \"Operation\": \"training\", \"epoch\": 2, \"model\": 1}, \"Metrics\": {\"validation_multiclass_cross_entropy_objective\": {\"sum\": 1.0350620166675464, \"count\": 1, \"min\": 1.0350620166675464, \"max\": 1.0350620166675464}}}\u001b[0m\n",
      "\u001b[34m#metrics {\"StartTime\": 1658911245.8112812, \"EndTime\": 1658911245.8112998, \"Dimensions\": {\"Algorithm\": \"Linear Learner\", \"Host\": \"algo-1\", \"Operation\": \"training\", \"epoch\": 2, \"model\": 2}, \"Metrics\": {\"validation_multiclass_cross_entropy_objective\": {\"sum\": 1.0066045812658362, \"count\": 1, \"min\": 1.0066045812658362, \"max\": 1.0066045812658362}}}\u001b[0m\n",
      "\u001b[34m#metrics {\"StartTime\": 1658911245.8113592, \"EndTime\": 1658911245.8113742, \"Dimensions\": {\"Algorithm\": \"Linear Learner\", \"Host\": \"algo-1\", \"Operation\": \"training\", \"epoch\": 2, \"model\": 3}, \"Metrics\": {\"validation_multiclass_cross_entropy_objective\": {\"sum\": 0.9919012258718679, \"count\": 1, \"min\": 0.9919012258718679, \"max\": 0.9919012258718679}}}\u001b[0m\n",
      "\u001b[34m#metrics {\"StartTime\": 1658911245.8114376, \"EndTime\": 1658911245.81146, \"Dimensions\": {\"Algorithm\": \"Linear Learner\", \"Host\": \"algo-1\", \"Operation\": \"training\", \"epoch\": 2, \"model\": 4}, \"Metrics\": {\"validation_multiclass_cross_entropy_objective\": {\"sum\": 1.0670623091964033, \"count\": 1, \"min\": 1.0670623091964033, \"max\": 1.0670623091964033}}}\u001b[0m\n",
      "\u001b[34m#metrics {\"StartTime\": 1658911245.8115156, \"EndTime\": 1658911245.8115335, \"Dimensions\": {\"Algorithm\": \"Linear Learner\", \"Host\": \"algo-1\", \"Operation\": \"training\", \"epoch\": 2, \"model\": 5}, \"Metrics\": {\"validation_multiclass_cross_entropy_objective\": {\"sum\": 1.0052759668848537, \"count\": 1, \"min\": 1.0052759668848537, \"max\": 1.0052759668848537}}}\u001b[0m\n",
      "\u001b[34m#metrics {\"StartTime\": 1658911245.8115978, \"EndTime\": 1658911245.8116167, \"Dimensions\": {\"Algorithm\": \"Linear Learner\", \"Host\": \"algo-1\", \"Operation\": \"training\", \"epoch\": 2, \"model\": 6}, \"Metrics\": {\"validation_multiclass_cross_entropy_objective\": {\"sum\": 0.9063583236556869, \"count\": 1, \"min\": 0.9063583236556869, \"max\": 0.9063583236556869}}}\u001b[0m\n",
      "\u001b[34m#metrics {\"StartTime\": 1658911245.8116717, \"EndTime\": 1658911245.811693, \"Dimensions\": {\"Algorithm\": \"Linear Learner\", \"Host\": \"algo-1\", \"Operation\": \"training\", \"epoch\": 2, \"model\": 7}, \"Metrics\": {\"validation_multiclass_cross_entropy_objective\": {\"sum\": 1.05790545489337, \"count\": 1, \"min\": 1.05790545489337, \"max\": 1.05790545489337}}}\u001b[0m\n",
      "\u001b[34m#metrics {\"StartTime\": 1658911245.811737, \"EndTime\": 1658911245.8117537, \"Dimensions\": {\"Algorithm\": \"Linear Learner\", \"Host\": \"algo-1\", \"Operation\": \"training\", \"epoch\": 2, \"model\": 8}, \"Metrics\": {\"validation_multiclass_cross_entropy_objective\": {\"sum\": 0.8919179418065526, \"count\": 1, \"min\": 0.8919179418065526, \"max\": 0.8919179418065526}}}\u001b[0m\n",
      "\u001b[34m#metrics {\"StartTime\": 1658911245.811808, \"EndTime\": 1658911245.811823, \"Dimensions\": {\"Algorithm\": \"Linear Learner\", \"Host\": \"algo-1\", \"Operation\": \"training\", \"epoch\": 2, \"model\": 9}, \"Metrics\": {\"validation_multiclass_cross_entropy_objective\": {\"sum\": 0.9264925020235079, \"count\": 1, \"min\": 0.9264925020235079, \"max\": 0.9264925020235079}}}\u001b[0m\n",
      "\u001b[34m#metrics {\"StartTime\": 1658911245.8118691, \"EndTime\": 1658911245.8118818, \"Dimensions\": {\"Algorithm\": \"Linear Learner\", \"Host\": \"algo-1\", \"Operation\": \"training\", \"epoch\": 2, \"model\": 10}, \"Metrics\": {\"validation_multiclass_cross_entropy_objective\": {\"sum\": 1.0575632318720087, \"count\": 1, \"min\": 1.0575632318720087, \"max\": 1.0575632318720087}}}\u001b[0m\n",
      "\u001b[34m#metrics {\"StartTime\": 1658911245.8119297, \"EndTime\": 1658911245.8119435, \"Dimensions\": {\"Algorithm\": \"Linear Learner\", \"Host\": \"algo-1\", \"Operation\": \"training\", \"epoch\": 2, \"model\": 11}, \"Metrics\": {\"validation_multiclass_cross_entropy_objective\": {\"sum\": 0.8339095931869369, \"count\": 1, \"min\": 0.8339095931869369, \"max\": 0.8339095931869369}}}\u001b[0m\n",
      "\u001b[34m[07/27/2022 08:40:45 INFO 140094935398208] #quality_metric: host=algo-1, epoch=2, validation multiclass_cross_entropy_objective <loss>=1.0409196733354449\u001b[0m\n",
      "\u001b[34m[07/27/2022 08:40:45 INFO 140094935398208] #early_stopping_criteria_metric: host=algo-1, epoch=2, criteria=multiclass_cross_entropy_objective, value=0.8339095931869369\u001b[0m\n",
      "\u001b[34m[07/27/2022 08:40:45 INFO 140094935398208] Saving model for epoch: 2\u001b[0m\n",
      "\u001b[34m[07/27/2022 08:40:45 INFO 140094935398208] Saved checkpoint to \"/tmp/tmp8qd7_o8c/mx-mod-0000.params\"\u001b[0m\n",
      "\u001b[34m[07/27/2022 08:40:45 INFO 140094935398208] #progress_metric: host=algo-1, completed 20.0 % of epochs\u001b[0m\n",
      "\u001b[34m#metrics {\"StartTime\": 1658911245.7523758, \"EndTime\": 1658911245.8217392, \"Dimensions\": {\"Algorithm\": \"Linear Learner\", \"Host\": \"algo-1\", \"Operation\": \"training\", \"epoch\": 2, \"Meta\": \"training_data_iter\"}, \"Metrics\": {\"Total Records Seen\": {\"sum\": 8104.0, \"count\": 1, \"min\": 8104, \"max\": 8104}, \"Total Batches Seen\": {\"sum\": 9.0, \"count\": 1, \"min\": 9, \"max\": 9}, \"Max Records Seen Between Resets\": {\"sum\": 1776.0, \"count\": 1, \"min\": 1776, \"max\": 1776}, \"Max Batches Seen Between Resets\": {\"sum\": 2.0, \"count\": 1, \"min\": 2, \"max\": 2}, \"Reset Count\": {\"sum\": 5.0, \"count\": 1, \"min\": 5, \"max\": 5}, \"Number of Records Since Last Reset\": {\"sum\": 1776.0, \"count\": 1, \"min\": 1776, \"max\": 1776}, \"Number of Batches Since Last Reset\": {\"sum\": 2.0, \"count\": 1, \"min\": 2, \"max\": 2}}}\u001b[0m\n",
      "\u001b[34m[07/27/2022 08:40:45 INFO 140094935398208] #throughput_metric: host=algo-1, train throughput=25546.168474551858 records/second\u001b[0m\n",
      "\u001b[34m[2022-07-27 08:40:45.853] [tensorio] [info] epoch_stats={\"data_pipeline\": \"/opt/ml/input/data/train\", \"epoch\": 10, \"duration\": 31, \"num_examples\": 2, \"num_bytes\": 92352}\u001b[0m\n",
      "\u001b[34m#metrics {\"StartTime\": 1658911245.8539038, \"EndTime\": 1658911245.8539789, \"Dimensions\": {\"Algorithm\": \"Linear Learner\", \"Host\": \"algo-1\", \"Operation\": \"training\", \"epoch\": 3, \"model\": 0}, \"Metrics\": {\"train_multiclass_cross_entropy_objective\": {\"sum\": 1.0444185791015625, \"count\": 1, \"min\": 1.0444185791015625, \"max\": 1.0444185791015625}}}\u001b[0m\n",
      "\u001b[34m#metrics {\"StartTime\": 1658911245.8540995, \"EndTime\": 1658911245.8541272, \"Dimensions\": {\"Algorithm\": \"Linear Learner\", \"Host\": \"algo-1\", \"Operation\": \"training\", \"epoch\": 3, \"model\": 1}, \"Metrics\": {\"train_multiclass_cross_entropy_objective\": {\"sum\": 1.0386099853515625, \"count\": 1, \"min\": 1.0386099853515625, \"max\": 1.0386099853515625}}}\u001b[0m\n",
      "\u001b[34m#metrics {\"StartTime\": 1658911245.8541963, \"EndTime\": 1658911245.8542178, \"Dimensions\": {\"Algorithm\": \"Linear Learner\", \"Host\": \"algo-1\", \"Operation\": \"training\", \"epoch\": 3, \"model\": 2}, \"Metrics\": {\"train_multiclass_cross_entropy_objective\": {\"sum\": 1.0124017333984374, \"count\": 1, \"min\": 1.0124017333984374, \"max\": 1.0124017333984374}}}\u001b[0m\n",
      "\u001b[34m#metrics {\"StartTime\": 1658911245.854277, \"EndTime\": 1658911245.8542953, \"Dimensions\": {\"Algorithm\": \"Linear Learner\", \"Host\": \"algo-1\", \"Operation\": \"training\", \"epoch\": 3, \"model\": 3}, \"Metrics\": {\"train_multiclass_cross_entropy_objective\": {\"sum\": 0.997985595703125, \"count\": 1, \"min\": 0.997985595703125, \"max\": 0.997985595703125}}}\u001b[0m\n",
      "\u001b[34m#metrics {\"StartTime\": 1658911245.8543441, \"EndTime\": 1658911245.854364, \"Dimensions\": {\"Algorithm\": \"Linear Learner\", \"Host\": \"algo-1\", \"Operation\": \"training\", \"epoch\": 3, \"model\": 4}, \"Metrics\": {\"train_multiclass_cross_entropy_objective\": {\"sum\": 1.06651123046875, \"count\": 1, \"min\": 1.06651123046875, \"max\": 1.06651123046875}}}\u001b[0m\n",
      "\u001b[34m#metrics {\"StartTime\": 1658911245.8544095, \"EndTime\": 1658911245.8544207, \"Dimensions\": {\"Algorithm\": \"Linear Learner\", \"Host\": \"algo-1\", \"Operation\": \"training\", \"epoch\": 3, \"model\": 5}, \"Metrics\": {\"train_multiclass_cross_entropy_objective\": {\"sum\": 1.0092876586914064, \"count\": 1, \"min\": 1.0092876586914064, \"max\": 1.0092876586914064}}}\u001b[0m\n",
      "\u001b[34m#metrics {\"StartTime\": 1658911245.854474, \"EndTime\": 1658911245.8544834, \"Dimensions\": {\"Algorithm\": \"Linear Learner\", \"Host\": \"algo-1\", \"Operation\": \"training\", \"epoch\": 3, \"model\": 6}, \"Metrics\": {\"train_multiclass_cross_entropy_objective\": {\"sum\": 0.91410498046875, \"count\": 1, \"min\": 0.91410498046875, \"max\": 0.91410498046875}}}\u001b[0m\n",
      "\u001b[34m#metrics {\"StartTime\": 1658911245.854537, \"EndTime\": 1658911245.8545454, \"Dimensions\": {\"Algorithm\": \"Linear Learner\", \"Host\": \"algo-1\", \"Operation\": \"training\", \"epoch\": 3, \"model\": 7}, \"Metrics\": {\"train_multiclass_cross_entropy_objective\": {\"sum\": 1.05976513671875, \"count\": 1, \"min\": 1.05976513671875, \"max\": 1.05976513671875}}}\u001b[0m\n",
      "\u001b[34m#metrics {\"StartTime\": 1658911245.854575, \"EndTime\": 1658911245.85459, \"Dimensions\": {\"Algorithm\": \"Linear Learner\", \"Host\": \"algo-1\", \"Operation\": \"training\", \"epoch\": 3, \"model\": 8}, \"Metrics\": {\"train_multiclass_cross_entropy_objective\": {\"sum\": 0.8989544677734375, \"count\": 1, \"min\": 0.8989544677734375, \"max\": 0.8989544677734375}}}\u001b[0m\n",
      "\u001b[34m#metrics {\"StartTime\": 1658911245.8546374, \"EndTime\": 1658911245.854648, \"Dimensions\": {\"Algorithm\": \"Linear Learner\", \"Host\": \"algo-1\", \"Operation\": \"training\", \"epoch\": 3, \"model\": 9}, \"Metrics\": {\"train_multiclass_cross_entropy_objective\": {\"sum\": 0.9466784057617188, \"count\": 1, \"min\": 0.9466784057617188, \"max\": 0.9466784057617188}}}\u001b[0m\n",
      "\u001b[34m#metrics {\"StartTime\": 1658911245.8546894, \"EndTime\": 1658911245.854705, \"Dimensions\": {\"Algorithm\": \"Linear Learner\", \"Host\": \"algo-1\", \"Operation\": \"training\", \"epoch\": 3, \"model\": 10}, \"Metrics\": {\"train_multiclass_cross_entropy_objective\": {\"sum\": 1.0585916748046875, \"count\": 1, \"min\": 1.0585916748046875, \"max\": 1.0585916748046875}}}\u001b[0m\n",
      "\u001b[34m#metrics {\"StartTime\": 1658911245.854757, \"EndTime\": 1658911245.854773, \"Dimensions\": {\"Algorithm\": \"Linear Learner\", \"Host\": \"algo-1\", \"Operation\": \"training\", \"epoch\": 3, \"model\": 11}, \"Metrics\": {\"train_multiclass_cross_entropy_objective\": {\"sum\": 0.8438983764648438, \"count\": 1, \"min\": 0.8438983764648438, \"max\": 0.8438983764648438}}}\u001b[0m\n",
      "\u001b[34m[07/27/2022 08:40:45 INFO 140094935398208] #quality_metric: host=algo-1, epoch=3, train multiclass_cross_entropy_objective <loss>=1.0444185791015625\u001b[0m\n",
      "\u001b[34m[2022-07-27 08:40:45.887] [tensorio] [info] epoch_stats={\"data_pipeline\": \"/opt/ml/input/data/validation\", \"epoch\": 11, \"duration\": 14, \"num_examples\": 1, \"num_bytes\": 11544}\u001b[0m\n",
      "\u001b[34m#metrics {\"StartTime\": 1658911245.892806, \"EndTime\": 1658911245.892854, \"Dimensions\": {\"Algorithm\": \"Linear Learner\", \"Host\": \"algo-1\", \"Operation\": \"training\", \"epoch\": 3, \"model\": 0}, \"Metrics\": {\"validation_multiclass_cross_entropy_objective\": {\"sum\": 1.0270592629372537, \"count\": 1, \"min\": 1.0270592629372537, \"max\": 1.0270592629372537}}}\u001b[0m\n",
      "\u001b[34m#metrics {\"StartTime\": 1658911245.8929868, \"EndTime\": 1658911245.8930056, \"Dimensions\": {\"Algorithm\": \"Linear Learner\", \"Host\": \"algo-1\", \"Operation\": \"training\", \"epoch\": 3, \"model\": 1}, \"Metrics\": {\"validation_multiclass_cross_entropy_objective\": {\"sum\": 1.019809963466885, \"count\": 1, \"min\": 1.019809963466885, \"max\": 1.019809963466885}}}\u001b[0m\n",
      "\u001b[34m#metrics {\"StartTime\": 1658911245.8930688, \"EndTime\": 1658911245.893082, \"Dimensions\": {\"Algorithm\": \"Linear Learner\", \"Host\": \"algo-1\", \"Operation\": \"training\", \"epoch\": 3, \"model\": 2}, \"Metrics\": {\"validation_multiclass_cross_entropy_objective\": {\"sum\": 0.9941092138891822, \"count\": 1, \"min\": 0.9941092138891822, \"max\": 0.9941092138891822}}}\u001b[0m\n",
      "\u001b[34m#metrics {\"StartTime\": 1658911245.893144, \"EndTime\": 1658911245.8931596, \"Dimensions\": {\"Algorithm\": \"Linear Learner\", \"Host\": \"algo-1\", \"Operation\": \"training\", \"epoch\": 3, \"model\": 3}, \"Metrics\": {\"validation_multiclass_cross_entropy_objective\": {\"sum\": 0.9777897327869862, \"count\": 1, \"min\": 0.9777897327869862, \"max\": 0.9777897327869862}}}\u001b[0m\n",
      "\u001b[34m#metrics {\"StartTime\": 1658911245.8932202, \"EndTime\": 1658911245.8932412, \"Dimensions\": {\"Algorithm\": \"Linear Learner\", \"Host\": \"algo-1\", \"Operation\": \"training\", \"epoch\": 3, \"model\": 4}, \"Metrics\": {\"validation_multiclass_cross_entropy_objective\": {\"sum\": 1.046907510843363, \"count\": 1, \"min\": 1.046907510843363, \"max\": 1.046907510843363}}}\u001b[0m\n",
      "\u001b[34m#metrics {\"StartTime\": 1658911245.8932981, \"EndTime\": 1658911245.8933132, \"Dimensions\": {\"Algorithm\": \"Linear Learner\", \"Host\": \"algo-1\", \"Operation\": \"training\", \"epoch\": 3, \"model\": 5}, \"Metrics\": {\"validation_multiclass_cross_entropy_objective\": {\"sum\": 0.9883912232545045, \"count\": 1, \"min\": 0.9883912232545045, \"max\": 0.9883912232545045}}}\u001b[0m\n",
      "\u001b[34m#metrics {\"StartTime\": 1658911245.8933697, \"EndTime\": 1658911245.8933856, \"Dimensions\": {\"Algorithm\": \"Linear Learner\", \"Host\": \"algo-1\", \"Operation\": \"training\", \"epoch\": 3, \"model\": 6}, \"Metrics\": {\"validation_multiclass_cross_entropy_objective\": {\"sum\": 0.886699779613598, \"count\": 1, \"min\": 0.886699779613598, \"max\": 0.886699779613598}}}\u001b[0m\n",
      "\u001b[34m#metrics {\"StartTime\": 1658911245.8934374, \"EndTime\": 1658911245.8934531, \"Dimensions\": {\"Algorithm\": \"Linear Learner\", \"Host\": \"algo-1\", \"Operation\": \"training\", \"epoch\": 3, \"model\": 7}, \"Metrics\": {\"validation_multiclass_cross_entropy_objective\": {\"sum\": 1.0451556368991062, \"count\": 1, \"min\": 1.0451556368991062, \"max\": 1.0451556368991062}}}\u001b[0m\n",
      "\u001b[34m#metrics {\"StartTime\": 1658911245.893505, \"EndTime\": 1658911245.8935206, \"Dimensions\": {\"Algorithm\": \"Linear Learner\", \"Host\": \"algo-1\", \"Operation\": \"training\", \"epoch\": 3, \"model\": 8}, \"Metrics\": {\"validation_multiclass_cross_entropy_objective\": {\"sum\": 0.8441734657631265, \"count\": 1, \"min\": 0.8441734657631265, \"max\": 0.8441734657631265}}}\u001b[0m\n",
      "\u001b[34m#metrics {\"StartTime\": 1658911245.893569, \"EndTime\": 1658911245.8935862, \"Dimensions\": {\"Algorithm\": \"Linear Learner\", \"Host\": \"algo-1\", \"Operation\": \"training\", \"epoch\": 3, \"model\": 9}, \"Metrics\": {\"validation_multiclass_cross_entropy_objective\": {\"sum\": 2.0304856858811937, \"count\": 1, \"min\": 2.0304856858811937, \"max\": 2.0304856858811937}}}\u001b[0m\n",
      "\u001b[34m#metrics {\"StartTime\": 1658911245.893636, \"EndTime\": 1658911245.893651, \"Dimensions\": {\"Algorithm\": \"Linear Learner\", \"Host\": \"algo-1\", \"Operation\": \"training\", \"epoch\": 3, \"model\": 10}, \"Metrics\": {\"validation_multiclass_cross_entropy_objective\": {\"sum\": 1.045929917344102, \"count\": 1, \"min\": 1.045929917344102, \"max\": 1.045929917344102}}}\u001b[0m\n",
      "\u001b[34m#metrics {\"StartTime\": 1658911245.8937054, \"EndTime\": 1658911245.8937218, \"Dimensions\": {\"Algorithm\": \"Linear Learner\", \"Host\": \"algo-1\", \"Operation\": \"training\", \"epoch\": 3, \"model\": 11}, \"Metrics\": {\"validation_multiclass_cross_entropy_objective\": {\"sum\": 0.8418076661255982, \"count\": 1, \"min\": 0.8418076661255982, \"max\": 0.8418076661255982}}}\u001b[0m\n",
      "\u001b[34m[07/27/2022 08:40:45 INFO 140094935398208] #quality_metric: host=algo-1, epoch=3, validation multiclass_cross_entropy_objective <loss>=1.0270592629372537\u001b[0m\n",
      "\u001b[34m[07/27/2022 08:40:45 INFO 140094935398208] #early_stopping_criteria_metric: host=algo-1, epoch=3, criteria=multiclass_cross_entropy_objective, value=0.8418076661255982\u001b[0m\n",
      "\u001b[34m[07/27/2022 08:40:45 INFO 140094935398208] Saving model for epoch: 3\u001b[0m\n",
      "\u001b[34m[07/27/2022 08:40:45 INFO 140094935398208] Saved checkpoint to \"/tmp/tmpd5oavo6_/mx-mod-0000.params\"\u001b[0m\n",
      "\u001b[34m[07/27/2022 08:40:45 INFO 140094935398208] #progress_metric: host=algo-1, completed 26.666666666666668 % of epochs\u001b[0m\n",
      "\u001b[34m#metrics {\"StartTime\": 1658911245.822081, \"EndTime\": 1658911245.9049332, \"Dimensions\": {\"Algorithm\": \"Linear Learner\", \"Host\": \"algo-1\", \"Operation\": \"training\", \"epoch\": 3, \"Meta\": \"training_data_iter\"}, \"Metrics\": {\"Total Records Seen\": {\"sum\": 9880.0, \"count\": 1, \"min\": 9880, \"max\": 9880}, \"Total Batches Seen\": {\"sum\": 11.0, \"count\": 1, \"min\": 11, \"max\": 11}, \"Max Records Seen Between Resets\": {\"sum\": 1776.0, \"count\": 1, \"min\": 1776, \"max\": 1776}, \"Max Batches Seen Between Resets\": {\"sum\": 2.0, \"count\": 1, \"min\": 2, \"max\": 2}, \"Reset Count\": {\"sum\": 6.0, \"count\": 1, \"min\": 6, \"max\": 6}, \"Number of Records Since Last Reset\": {\"sum\": 1776.0, \"count\": 1, \"min\": 1776, \"max\": 1776}, \"Number of Batches Since Last Reset\": {\"sum\": 2.0, \"count\": 1, \"min\": 2, \"max\": 2}}}\u001b[0m\n",
      "\u001b[34m[07/27/2022 08:40:45 INFO 140094935398208] #throughput_metric: host=algo-1, train throughput=21395.45356471987 records/second\u001b[0m\n",
      "\u001b[34m[2022-07-27 08:40:45.930] [tensorio] [info] epoch_stats={\"data_pipeline\": \"/opt/ml/input/data/train\", \"epoch\": 12, \"duration\": 25, \"num_examples\": 2, \"num_bytes\": 92352}\u001b[0m\n",
      "\u001b[34m#metrics {\"StartTime\": 1658911245.9306693, \"EndTime\": 1658911245.9307415, \"Dimensions\": {\"Algorithm\": \"Linear Learner\", \"Host\": \"algo-1\", \"Operation\": \"training\", \"epoch\": 4, \"model\": 0}, \"Metrics\": {\"train_multiclass_cross_entropy_objective\": {\"sum\": 1.03218310546875, \"count\": 1, \"min\": 1.03218310546875, \"max\": 1.03218310546875}}}\u001b[0m\n",
      "\u001b[34m#metrics {\"StartTime\": 1658911245.9308329, \"EndTime\": 1658911245.930858, \"Dimensions\": {\"Algorithm\": \"Linear Learner\", \"Host\": \"algo-1\", \"Operation\": \"training\", \"epoch\": 4, \"model\": 1}, \"Metrics\": {\"train_multiclass_cross_entropy_objective\": {\"sum\": 1.0253536376953125, \"count\": 1, \"min\": 1.0253536376953125, \"max\": 1.0253536376953125}}}\u001b[0m\n",
      "\u001b[34m#metrics {\"StartTime\": 1658911245.9309154, \"EndTime\": 1658911245.9309332, \"Dimensions\": {\"Algorithm\": \"Linear Learner\", \"Host\": \"algo-1\", \"Operation\": \"training\", \"epoch\": 4, \"model\": 2}, \"Metrics\": {\"train_multiclass_cross_entropy_objective\": {\"sum\": 1.00282861328125, \"count\": 1, \"min\": 1.00282861328125, \"max\": 1.00282861328125}}}\u001b[0m\n",
      "\u001b[34m#metrics {\"StartTime\": 1658911245.93099, \"EndTime\": 1658911245.9310067, \"Dimensions\": {\"Algorithm\": \"Linear Learner\", \"Host\": \"algo-1\", \"Operation\": \"training\", \"epoch\": 4, \"model\": 3}, \"Metrics\": {\"train_multiclass_cross_entropy_objective\": {\"sum\": 0.9858480224609375, \"count\": 1, \"min\": 0.9858480224609375, \"max\": 0.9858480224609375}}}\u001b[0m\n",
      "\u001b[34m#metrics {\"StartTime\": 1658911245.9310615, \"EndTime\": 1658911245.931113, \"Dimensions\": {\"Algorithm\": \"Linear Learner\", \"Host\": \"algo-1\", \"Operation\": \"training\", \"epoch\": 4, \"model\": 4}, \"Metrics\": {\"train_multiclass_cross_entropy_objective\": {\"sum\": 1.047233154296875, \"count\": 1, \"min\": 1.047233154296875, \"max\": 1.047233154296875}}}\u001b[0m\n",
      "\u001b[34m#metrics {\"StartTime\": 1658911245.9311702, \"EndTime\": 1658911245.9311852, \"Dimensions\": {\"Algorithm\": \"Linear Learner\", \"Host\": \"algo-1\", \"Operation\": \"training\", \"epoch\": 4, \"model\": 5}, \"Metrics\": {\"train_multiclass_cross_entropy_objective\": {\"sum\": 0.9927888793945312, \"count\": 1, \"min\": 0.9927888793945312, \"max\": 0.9927888793945312}}}\u001b[0m\n",
      "\u001b[34m#metrics {\"StartTime\": 1658911245.931239, \"EndTime\": 1658911245.931255, \"Dimensions\": {\"Algorithm\": \"Linear Learner\", \"Host\": \"algo-1\", \"Operation\": \"training\", \"epoch\": 4, \"model\": 6}, \"Metrics\": {\"train_multiclass_cross_entropy_objective\": {\"sum\": 0.8956713256835938, \"count\": 1, \"min\": 0.8956713256835938, \"max\": 0.8956713256835938}}}\u001b[0m\n",
      "\u001b[34m#metrics {\"StartTime\": 1658911245.9313068, \"EndTime\": 1658911245.9313233, \"Dimensions\": {\"Algorithm\": \"Linear Learner\", \"Host\": \"algo-1\", \"Operation\": \"training\", \"epoch\": 4, \"model\": 7}, \"Metrics\": {\"train_multiclass_cross_entropy_objective\": {\"sum\": 1.0487437744140624, \"count\": 1, \"min\": 1.0487437744140624, \"max\": 1.0487437744140624}}}\u001b[0m\n",
      "\u001b[34m#metrics {\"StartTime\": 1658911245.9313822, \"EndTime\": 1658911245.9313955, \"Dimensions\": {\"Algorithm\": \"Linear Learner\", \"Host\": \"algo-1\", \"Operation\": \"training\", \"epoch\": 4, \"model\": 8}, \"Metrics\": {\"train_multiclass_cross_entropy_objective\": {\"sum\": 0.8530120849609375, \"count\": 1, \"min\": 0.8530120849609375, \"max\": 0.8530120849609375}}}\u001b[0m\n",
      "\u001b[34m#metrics {\"StartTime\": 1658911245.931447, \"EndTime\": 1658911245.9314632, \"Dimensions\": {\"Algorithm\": \"Linear Learner\", \"Host\": \"algo-1\", \"Operation\": \"training\", \"epoch\": 4, \"model\": 9}, \"Metrics\": {\"train_multiclass_cross_entropy_objective\": {\"sum\": 2.03142626953125, \"count\": 1, \"min\": 2.03142626953125, \"max\": 2.03142626953125}}}\u001b[0m\n",
      "\u001b[34m#metrics {\"StartTime\": 1658911245.9315157, \"EndTime\": 1658911245.9315321, \"Dimensions\": {\"Algorithm\": \"Linear Learner\", \"Host\": \"algo-1\", \"Operation\": \"training\", \"epoch\": 4, \"model\": 10}, \"Metrics\": {\"train_multiclass_cross_entropy_objective\": {\"sum\": 1.0487557373046874, \"count\": 1, \"min\": 1.0487557373046874, \"max\": 1.0487557373046874}}}\u001b[0m\n",
      "\u001b[34m#metrics {\"StartTime\": 1658911245.93159, \"EndTime\": 1658911245.931604, \"Dimensions\": {\"Algorithm\": \"Linear Learner\", \"Host\": \"algo-1\", \"Operation\": \"training\", \"epoch\": 4, \"model\": 11}, \"Metrics\": {\"train_multiclass_cross_entropy_objective\": {\"sum\": 0.8513424072265625, \"count\": 1, \"min\": 0.8513424072265625, \"max\": 0.8513424072265625}}}\u001b[0m\n",
      "\u001b[34m[07/27/2022 08:40:45 INFO 140094935398208] #quality_metric: host=algo-1, epoch=4, train multiclass_cross_entropy_objective <loss>=1.03218310546875\u001b[0m\n",
      "\u001b[34m[2022-07-27 08:40:45.953] [tensorio] [info] epoch_stats={\"data_pipeline\": \"/opt/ml/input/data/validation\", \"epoch\": 14, \"duration\": 13, \"num_examples\": 1, \"num_bytes\": 11544}\u001b[0m\n",
      "\u001b[34m#metrics {\"StartTime\": 1658911245.9570835, \"EndTime\": 1658911245.9571426, \"Dimensions\": {\"Algorithm\": \"Linear Learner\", \"Host\": \"algo-1\", \"Operation\": \"training\", \"epoch\": 4, \"model\": 0}, \"Metrics\": {\"validation_multiclass_cross_entropy_objective\": {\"sum\": 1.0100545109929264, \"count\": 1, \"min\": 1.0100545109929264, \"max\": 1.0100545109929264}}}\u001b[0m\n",
      "\u001b[34m#metrics {\"StartTime\": 1658911245.9572535, \"EndTime\": 1658911245.9572787, \"Dimensions\": {\"Algorithm\": \"Linear Learner\", \"Host\": \"algo-1\", \"Operation\": \"training\", \"epoch\": 4, \"model\": 1}, \"Metrics\": {\"validation_multiclass_cross_entropy_objective\": {\"sum\": 0.9982991261525197, \"count\": 1, \"min\": 0.9982991261525197, \"max\": 0.9982991261525197}}}\u001b[0m\n",
      "\u001b[34m#metrics {\"StartTime\": 1658911245.9573503, \"EndTime\": 1658911245.9573653, \"Dimensions\": {\"Algorithm\": \"Linear Learner\", \"Host\": \"algo-1\", \"Operation\": \"training\", \"epoch\": 4, \"model\": 2}, \"Metrics\": {\"validation_multiclass_cross_entropy_objective\": {\"sum\": 0.9440632725621129, \"count\": 1, \"min\": 0.9440632725621129, \"max\": 0.9440632725621129}}}\u001b[0m\n",
      "\u001b[34m#metrics {\"StartTime\": 1658911245.9574256, \"EndTime\": 1658911245.9574397, \"Dimensions\": {\"Algorithm\": \"Linear Learner\", \"Host\": \"algo-1\", \"Operation\": \"training\", \"epoch\": 4, \"model\": 3}, \"Metrics\": {\"validation_multiclass_cross_entropy_objective\": {\"sum\": 0.9517125310124578, \"count\": 1, \"min\": 0.9517125310124578, \"max\": 0.9517125310124578}}}\u001b[0m\n",
      "\u001b[34m#metrics {\"StartTime\": 1658911245.9575112, \"EndTime\": 1658911245.9575267, \"Dimensions\": {\"Algorithm\": \"Linear Learner\", \"Host\": \"algo-1\", \"Operation\": \"training\", \"epoch\": 4, \"model\": 4}, \"Metrics\": {\"validation_multiclass_cross_entropy_objective\": {\"sum\": 1.0277523006404843, \"count\": 1, \"min\": 1.0277523006404843, \"max\": 1.0277523006404843}}}\u001b[0m\n",
      "\u001b[34m#metrics {\"StartTime\": 1658911245.957585, \"EndTime\": 1658911245.957601, \"Dimensions\": {\"Algorithm\": \"Linear Learner\", \"Host\": \"algo-1\", \"Operation\": \"training\", \"epoch\": 4, \"model\": 5}, \"Metrics\": {\"validation_multiclass_cross_entropy_objective\": {\"sum\": 0.9736388610289978, \"count\": 1, \"min\": 0.9736388610289978, \"max\": 0.9736388610289978}}}\u001b[0m\n",
      "\u001b[34m#metrics {\"StartTime\": 1658911245.957657, \"EndTime\": 1658911245.9576683, \"Dimensions\": {\"Algorithm\": \"Linear Learner\", \"Host\": \"algo-1\", \"Operation\": \"training\", \"epoch\": 4, \"model\": 6}, \"Metrics\": {\"validation_multiclass_cross_entropy_objective\": {\"sum\": 0.8720021978154913, \"count\": 1, \"min\": 0.8720021978154913, \"max\": 0.8720021978154913}}}\u001b[0m\n",
      "\u001b[34m#metrics {\"StartTime\": 1658911245.9577188, \"EndTime\": 1658911245.957735, \"Dimensions\": {\"Algorithm\": \"Linear Learner\", \"Host\": \"algo-1\", \"Operation\": \"training\", \"epoch\": 4, \"model\": 7}, \"Metrics\": {\"validation_multiclass_cross_entropy_objective\": {\"sum\": 1.0315409479914486, \"count\": 1, \"min\": 1.0315409479914486, \"max\": 1.0315409479914486}}}\u001b[0m\n",
      "\u001b[34m#metrics {\"StartTime\": 1658911245.9577947, \"EndTime\": 1658911245.9578137, \"Dimensions\": {\"Algorithm\": \"Linear Learner\", \"Host\": \"algo-1\", \"Operation\": \"training\", \"epoch\": 4, \"model\": 8}, \"Metrics\": {\"validation_multiclass_cross_entropy_objective\": {\"sum\": 0.8065404806051168, \"count\": 1, \"min\": 0.8065404806051168, \"max\": 0.8065404806051168}}}\u001b[0m\n",
      "\u001b[34m#metrics {\"StartTime\": 1658911245.9578724, \"EndTime\": 1658911245.9578898, \"Dimensions\": {\"Algorithm\": \"Linear Learner\", \"Host\": \"algo-1\", \"Operation\": \"training\", \"epoch\": 4, \"model\": 9}, \"Metrics\": {\"validation_multiclass_cross_entropy_objective\": {\"sum\": 0.8620898272540118, \"count\": 1, \"min\": 0.8620898272540118, \"max\": 0.8620898272540118}}}\u001b[0m\n",
      "\u001b[34m#metrics {\"StartTime\": 1658911245.9579406, \"EndTime\": 1658911245.9579558, \"Dimensions\": {\"Algorithm\": \"Linear Learner\", \"Host\": \"algo-1\", \"Operation\": \"training\", \"epoch\": 4, \"model\": 10}, \"Metrics\": {\"validation_multiclass_cross_entropy_objective\": {\"sum\": 1.0346797908748593, \"count\": 1, \"min\": 1.0346797908748593, \"max\": 1.0346797908748593}}}\u001b[0m\n",
      "\u001b[34m#metrics {\"StartTime\": 1658911245.9580095, \"EndTime\": 1658911245.9580307, \"Dimensions\": {\"Algorithm\": \"Linear Learner\", \"Host\": \"algo-1\", \"Operation\": \"training\", \"epoch\": 4, \"model\": 11}, \"Metrics\": {\"validation_multiclass_cross_entropy_objective\": {\"sum\": 0.9936064299162444, \"count\": 1, \"min\": 0.9936064299162444, \"max\": 0.9936064299162444}}}\u001b[0m\n",
      "\u001b[34m[07/27/2022 08:40:45 INFO 140094935398208] #quality_metric: host=algo-1, epoch=4, validation multiclass_cross_entropy_objective <loss>=1.0100545109929264\u001b[0m\n",
      "\u001b[34m[07/27/2022 08:40:45 INFO 140094935398208] #early_stopping_criteria_metric: host=algo-1, epoch=4, criteria=multiclass_cross_entropy_objective, value=0.8065404806051168\u001b[0m\n",
      "\u001b[34m[07/27/2022 08:40:45 INFO 140094935398208] Saving model for epoch: 4\u001b[0m\n",
      "\u001b[34m[07/27/2022 08:40:45 INFO 140094935398208] Saved checkpoint to \"/tmp/tmpo3uwzpj1/mx-mod-0000.params\"\u001b[0m\n",
      "\u001b[34m[07/27/2022 08:40:45 INFO 140094935398208] #progress_metric: host=algo-1, completed 33.333333333333336 % of epochs\u001b[0m\n",
      "\u001b[34m#metrics {\"StartTime\": 1658911245.9052627, \"EndTime\": 1658911245.9667077, \"Dimensions\": {\"Algorithm\": \"Linear Learner\", \"Host\": \"algo-1\", \"Operation\": \"training\", \"epoch\": 4, \"Meta\": \"training_data_iter\"}, \"Metrics\": {\"Total Records Seen\": {\"sum\": 11656.0, \"count\": 1, \"min\": 11656, \"max\": 11656}, \"Total Batches Seen\": {\"sum\": 13.0, \"count\": 1, \"min\": 13, \"max\": 13}, \"Max Records Seen Between Resets\": {\"sum\": 1776.0, \"count\": 1, \"min\": 1776, \"max\": 1776}, \"Max Batches Seen Between Resets\": {\"sum\": 2.0, \"count\": 1, \"min\": 2, \"max\": 2}, \"Reset Count\": {\"sum\": 7.0, \"count\": 1, \"min\": 7, \"max\": 7}, \"Number of Records Since Last Reset\": {\"sum\": 1776.0, \"count\": 1, \"min\": 1776, \"max\": 1776}, \"Number of Batches Since Last Reset\": {\"sum\": 2.0, \"count\": 1, \"min\": 2, \"max\": 2}}}\u001b[0m\n",
      "\u001b[34m[07/27/2022 08:40:45 INFO 140094935398208] #throughput_metric: host=algo-1, train throughput=28852.400481836245 records/second\u001b[0m\n",
      "\u001b[34m[2022-07-27 08:40:45.996] [tensorio] [info] epoch_stats={\"data_pipeline\": \"/opt/ml/input/data/train\", \"epoch\": 14, \"duration\": 29, \"num_examples\": 2, \"num_bytes\": 92352}\u001b[0m\n",
      "\u001b[34m#metrics {\"StartTime\": 1658911245.9969242, \"EndTime\": 1658911245.9969995, \"Dimensions\": {\"Algorithm\": \"Linear Learner\", \"Host\": \"algo-1\", \"Operation\": \"training\", \"epoch\": 5, \"model\": 0}, \"Metrics\": {\"train_multiclass_cross_entropy_objective\": {\"sum\": 1.0152379760742187, \"count\": 1, \"min\": 1.0152379760742187, \"max\": 1.0152379760742187}}}\u001b[0m\n",
      "\u001b[34m#metrics {\"StartTime\": 1658911245.9974997, \"EndTime\": 1658911245.9975367, \"Dimensions\": {\"Algorithm\": \"Linear Learner\", \"Host\": \"algo-1\", \"Operation\": \"training\", \"epoch\": 5, \"model\": 1}, \"Metrics\": {\"train_multiclass_cross_entropy_objective\": {\"sum\": 1.0039544067382813, \"count\": 1, \"min\": 1.0039544067382813, \"max\": 1.0039544067382813}}}\u001b[0m\n",
      "\u001b[34m#metrics {\"StartTime\": 1658911245.9980772, \"EndTime\": 1658911245.9981067, \"Dimensions\": {\"Algorithm\": \"Linear Learner\", \"Host\": \"algo-1\", \"Operation\": \"training\", \"epoch\": 5, \"model\": 2}, \"Metrics\": {\"train_multiclass_cross_entropy_objective\": {\"sum\": 0.9525301513671875, \"count\": 1, \"min\": 0.9525301513671875, \"max\": 0.9525301513671875}}}\u001b[0m\n",
      "\u001b[34m#metrics {\"StartTime\": 1658911245.9985688, \"EndTime\": 1658911245.998603, \"Dimensions\": {\"Algorithm\": \"Linear Learner\", \"Host\": \"algo-1\", \"Operation\": \"training\", \"epoch\": 5, \"model\": 3}, \"Metrics\": {\"train_multiclass_cross_entropy_objective\": {\"sum\": 0.959768310546875, \"count\": 1, \"min\": 0.959768310546875, \"max\": 0.959768310546875}}}\u001b[0m\n",
      "\u001b[34m#metrics {\"StartTime\": 1658911245.998705, \"EndTime\": 1658911245.998729, \"Dimensions\": {\"Algorithm\": \"Linear Learner\", \"Host\": \"algo-1\", \"Operation\": \"training\", \"epoch\": 5, \"model\": 4}, \"Metrics\": {\"train_multiclass_cross_entropy_objective\": {\"sum\": 1.0289783935546875, \"count\": 1, \"min\": 1.0289783935546875, \"max\": 1.0289783935546875}}}\u001b[0m\n",
      "\u001b[34m#metrics {\"StartTime\": 1658911245.9988015, \"EndTime\": 1658911245.9988196, \"Dimensions\": {\"Algorithm\": \"Linear Learner\", \"Host\": \"algo-1\", \"Operation\": \"training\", \"epoch\": 5, \"model\": 5}, \"Metrics\": {\"train_multiclass_cross_entropy_objective\": {\"sum\": 0.9785779418945313, \"count\": 1, \"min\": 0.9785779418945313, \"max\": 0.9785779418945313}}}\u001b[0m\n",
      "\u001b[34m#metrics {\"StartTime\": 1658911245.9989514, \"EndTime\": 1658911245.9989698, \"Dimensions\": {\"Algorithm\": \"Linear Learner\", \"Host\": \"algo-1\", \"Operation\": \"training\", \"epoch\": 5, \"model\": 6}, \"Metrics\": {\"train_multiclass_cross_entropy_objective\": {\"sum\": 0.8819891967773438, \"count\": 1, \"min\": 0.8819891967773438, \"max\": 0.8819891967773438}}}\u001b[0m\n",
      "\u001b[34m#metrics {\"StartTime\": 1658911245.999021, \"EndTime\": 1658911245.9990368, \"Dimensions\": {\"Algorithm\": \"Linear Learner\", \"Host\": \"algo-1\", \"Operation\": \"training\", \"epoch\": 5, \"model\": 7}, \"Metrics\": {\"train_multiclass_cross_entropy_objective\": {\"sum\": 1.035796875, \"count\": 1, \"min\": 1.035796875, \"max\": 1.035796875}}}\u001b[0m\n",
      "\u001b[34m#metrics {\"StartTime\": 1658911245.9992585, \"EndTime\": 1658911245.999279, \"Dimensions\": {\"Algorithm\": \"Linear Learner\", \"Host\": \"algo-1\", \"Operation\": \"training\", \"epoch\": 5, \"model\": 8}, \"Metrics\": {\"train_multiclass_cross_entropy_objective\": {\"sum\": 0.816642578125, \"count\": 1, \"min\": 0.816642578125, \"max\": 0.816642578125}}}\u001b[0m\n",
      "\u001b[34m#metrics {\"StartTime\": 1658911245.9993327, \"EndTime\": 1658911245.9993472, \"Dimensions\": {\"Algorithm\": \"Linear Learner\", \"Host\": \"algo-1\", \"Operation\": \"training\", \"epoch\": 5, \"model\": 9}, \"Metrics\": {\"train_multiclass_cross_entropy_objective\": {\"sum\": 0.8850859985351562, \"count\": 1, \"min\": 0.8850859985351562, \"max\": 0.8850859985351562}}}\u001b[0m\n",
      "\u001b[34m#metrics {\"StartTime\": 1658911245.9993947, \"EndTime\": 1658911245.9994085, \"Dimensions\": {\"Algorithm\": \"Linear Learner\", \"Host\": \"algo-1\", \"Operation\": \"training\", \"epoch\": 5, \"model\": 10}, \"Metrics\": {\"train_multiclass_cross_entropy_objective\": {\"sum\": 1.0386148681640626, \"count\": 1, \"min\": 1.0386148681640626, \"max\": 1.0386148681640626}}}\u001b[0m\n",
      "\u001b[34m#metrics {\"StartTime\": 1658911245.9994538, \"EndTime\": 1658911245.9994667, \"Dimensions\": {\"Algorithm\": \"Linear Learner\", \"Host\": \"algo-1\", \"Operation\": \"training\", \"epoch\": 5, \"model\": 11}, \"Metrics\": {\"train_multiclass_cross_entropy_objective\": {\"sum\": 1.0105449829101563, \"count\": 1, \"min\": 1.0105449829101563, \"max\": 1.0105449829101563}}}\u001b[0m\n",
      "\u001b[34m[07/27/2022 08:40:45 INFO 140094935398208] #quality_metric: host=algo-1, epoch=5, train multiclass_cross_entropy_objective <loss>=1.0152379760742187\u001b[0m\n",
      "\u001b[34m[2022-07-27 08:40:46.032] [tensorio] [info] epoch_stats={\"data_pipeline\": \"/opt/ml/input/data/validation\", \"epoch\": 17, \"duration\": 10, \"num_examples\": 1, \"num_bytes\": 11544}\u001b[0m\n",
      "\u001b[34m#metrics {\"StartTime\": 1658911246.036133, \"EndTime\": 1658911246.036202, \"Dimensions\": {\"Algorithm\": \"Linear Learner\", \"Host\": \"algo-1\", \"Operation\": \"training\", \"epoch\": 5, \"model\": 0}, \"Metrics\": {\"validation_multiclass_cross_entropy_objective\": {\"sum\": 0.9939004021721918, \"count\": 1, \"min\": 0.9939004021721918, \"max\": 0.9939004021721918}}}\u001b[0m\n",
      "\u001b[34m#metrics {\"StartTime\": 1658911246.0363173, \"EndTime\": 1658911246.0363345, \"Dimensions\": {\"Algorithm\": \"Linear Learner\", \"Host\": \"algo-1\", \"Operation\": \"training\", \"epoch\": 5, \"model\": 1}, \"Metrics\": {\"validation_multiclass_cross_entropy_objective\": {\"sum\": 0.9781173843521256, \"count\": 1, \"min\": 0.9781173843521256, \"max\": 0.9781173843521256}}}\u001b[0m\n",
      "\u001b[34m#metrics {\"StartTime\": 1658911246.0363944, \"EndTime\": 1658911246.036413, \"Dimensions\": {\"Algorithm\": \"Linear Learner\", \"Host\": \"algo-1\", \"Operation\": \"training\", \"epoch\": 5, \"model\": 2}, \"Metrics\": {\"validation_multiclass_cross_entropy_objective\": {\"sum\": 0.9010299132750915, \"count\": 1, \"min\": 0.9010299132750915, \"max\": 0.9010299132750915}}}\u001b[0m\n",
      "\u001b[34m#metrics {\"StartTime\": 1658911246.036454, \"EndTime\": 1658911246.036461, \"Dimensions\": {\"Algorithm\": \"Linear Learner\", \"Host\": \"algo-1\", \"Operation\": \"training\", \"epoch\": 5, \"model\": 3}, \"Metrics\": {\"validation_multiclass_cross_entropy_objective\": {\"sum\": 0.9276772576409418, \"count\": 1, \"min\": 0.9276772576409418, \"max\": 0.9276772576409418}}}\u001b[0m\n",
      "\u001b[34m#metrics {\"StartTime\": 1658911246.0365124, \"EndTime\": 1658911246.0365286, \"Dimensions\": {\"Algorithm\": \"Linear Learner\", \"Host\": \"algo-1\", \"Operation\": \"training\", \"epoch\": 5, \"model\": 4}, \"Metrics\": {\"validation_multiclass_cross_entropy_objective\": {\"sum\": 1.0094401728999507, \"count\": 1, \"min\": 1.0094401728999507, \"max\": 1.0094401728999507}}}\u001b[0m\n",
      "\u001b[34m#metrics {\"StartTime\": 1658911246.0365958, \"EndTime\": 1658911246.0366156, \"Dimensions\": {\"Algorithm\": \"Linear Learner\", \"Host\": \"algo-1\", \"Operation\": \"training\", \"epoch\": 5, \"model\": 5}, \"Metrics\": {\"validation_multiclass_cross_entropy_objective\": {\"sum\": 0.9608209283502253, \"count\": 1, \"min\": 0.9608209283502253, \"max\": 0.9608209283502253}}}\u001b[0m\n",
      "\u001b[34m#metrics {\"StartTime\": 1658911246.0366733, \"EndTime\": 1658911246.0366857, \"Dimensions\": {\"Algorithm\": \"Linear Learner\", \"Host\": \"algo-1\", \"Operation\": \"training\", \"epoch\": 5, \"model\": 6}, \"Metrics\": {\"validation_multiclass_cross_entropy_objective\": {\"sum\": 0.8611121650214668, \"count\": 1, \"min\": 0.8611121650214668, \"max\": 0.8611121650214668}}}\u001b[0m\n",
      "\u001b[34m#metrics {\"StartTime\": 1658911246.0367408, \"EndTime\": 1658911246.0367594, \"Dimensions\": {\"Algorithm\": \"Linear Learner\", \"Host\": \"algo-1\", \"Operation\": \"training\", \"epoch\": 5, \"model\": 7}, \"Metrics\": {\"validation_multiclass_cross_entropy_objective\": {\"sum\": 1.018416877265449, \"count\": 1, \"min\": 1.018416877265449, \"max\": 1.018416877265449}}}\u001b[0m\n",
      "\u001b[34m#metrics {\"StartTime\": 1658911246.0368187, \"EndTime\": 1658911246.036836, \"Dimensions\": {\"Algorithm\": \"Linear Learner\", \"Host\": \"algo-1\", \"Operation\": \"training\", \"epoch\": 5, \"model\": 8}, \"Metrics\": {\"validation_multiclass_cross_entropy_objective\": {\"sum\": 0.776808111517279, \"count\": 1, \"min\": 0.776808111517279, \"max\": 0.776808111517279}}}\u001b[0m\n",
      "\u001b[34m#metrics {\"StartTime\": 1658911246.0368757, \"EndTime\": 1658911246.0368805, \"Dimensions\": {\"Algorithm\": \"Linear Learner\", \"Host\": \"algo-1\", \"Operation\": \"training\", \"epoch\": 5, \"model\": 9}, \"Metrics\": {\"validation_multiclass_cross_entropy_objective\": {\"sum\": 1.0299277778144356, \"count\": 1, \"min\": 1.0299277778144356, \"max\": 1.0299277778144356}}}\u001b[0m\n",
      "\u001b[34m#metrics {\"StartTime\": 1658911246.036941, \"EndTime\": 1658911246.0369618, \"Dimensions\": {\"Algorithm\": \"Linear Learner\", \"Host\": \"algo-1\", \"Operation\": \"training\", \"epoch\": 5, \"model\": 10}, \"Metrics\": {\"validation_multiclass_cross_entropy_objective\": {\"sum\": 1.0237428819811023, \"count\": 1, \"min\": 1.0237428819811023, \"max\": 1.0237428819811023}}}\u001b[0m\n",
      "\u001b[34m#metrics {\"StartTime\": 1658911246.0370162, \"EndTime\": 1658911246.0370297, \"Dimensions\": {\"Algorithm\": \"Linear Learner\", \"Host\": \"algo-1\", \"Operation\": \"training\", \"epoch\": 5, \"model\": 11}, \"Metrics\": {\"validation_multiclass_cross_entropy_objective\": {\"sum\": 1.0481382490278364, \"count\": 1, \"min\": 1.0481382490278364, \"max\": 1.0481382490278364}}}\u001b[0m\n",
      "\u001b[34m[07/27/2022 08:40:46 INFO 140094935398208] #quality_metric: host=algo-1, epoch=5, validation multiclass_cross_entropy_objective <loss>=0.9939004021721918\u001b[0m\n",
      "\u001b[34m[07/27/2022 08:40:46 INFO 140094935398208] #early_stopping_criteria_metric: host=algo-1, epoch=5, criteria=multiclass_cross_entropy_objective, value=0.776808111517279\u001b[0m\n",
      "\u001b[34m[07/27/2022 08:40:46 INFO 140094935398208] Epoch 5: Loss improved. Updating best model\u001b[0m\n",
      "\u001b[34m[07/27/2022 08:40:46 INFO 140094935398208] Saving model for epoch: 5\u001b[0m\n",
      "\u001b[34m[07/27/2022 08:40:46 INFO 140094935398208] Saved checkpoint to \"/tmp/tmpmdu4vlvd/mx-mod-0000.params\"\u001b[0m\n",
      "\u001b[34m[07/27/2022 08:40:46 INFO 140094935398208] #progress_metric: host=algo-1, completed 40.0 % of epochs\u001b[0m\n",
      "\u001b[34m#metrics {\"StartTime\": 1658911245.9669538, \"EndTime\": 1658911246.0489826, \"Dimensions\": {\"Algorithm\": \"Linear Learner\", \"Host\": \"algo-1\", \"Operation\": \"training\", \"epoch\": 5, \"Meta\": \"training_data_iter\"}, \"Metrics\": {\"Total Records Seen\": {\"sum\": 13432.0, \"count\": 1, \"min\": 13432, \"max\": 13432}, \"Total Batches Seen\": {\"sum\": 15.0, \"count\": 1, \"min\": 15, \"max\": 15}, \"Max Records Seen Between Resets\": {\"sum\": 1776.0, \"count\": 1, \"min\": 1776, \"max\": 1776}, \"Max Batches Seen Between Resets\": {\"sum\": 2.0, \"count\": 1, \"min\": 2, \"max\": 2}, \"Reset Count\": {\"sum\": 8.0, \"count\": 1, \"min\": 8, \"max\": 8}, \"Number of Records Since Last Reset\": {\"sum\": 1776.0, \"count\": 1, \"min\": 1776, \"max\": 1776}, \"Number of Batches Since Last Reset\": {\"sum\": 2.0, \"count\": 1, \"min\": 2, \"max\": 2}}}\u001b[0m\n",
      "\u001b[34m[07/27/2022 08:40:46 INFO 140094935398208] #throughput_metric: host=algo-1, train throughput=21612.596337302417 records/second\u001b[0m\n",
      "\u001b[34m[2022-07-27 08:40:46.073] [tensorio] [info] epoch_stats={\"data_pipeline\": \"/opt/ml/input/data/train\", \"epoch\": 16, \"duration\": 23, \"num_examples\": 2, \"num_bytes\": 92352}\u001b[0m\n",
      "\u001b[34m#metrics {\"StartTime\": 1658911246.0730462, \"EndTime\": 1658911246.0731125, \"Dimensions\": {\"Algorithm\": \"Linear Learner\", \"Host\": \"algo-1\", \"Operation\": \"training\", \"epoch\": 6, \"model\": 0}, \"Metrics\": {\"train_multiclass_cross_entropy_objective\": {\"sum\": 0.9983641967773438, \"count\": 1, \"min\": 0.9983641967773438, \"max\": 0.9983641967773438}}}\u001b[0m\n",
      "\u001b[34m#metrics {\"StartTime\": 1658911246.073271, \"EndTime\": 1658911246.0732977, \"Dimensions\": {\"Algorithm\": \"Linear Learner\", \"Host\": \"algo-1\", \"Operation\": \"training\", \"epoch\": 6, \"model\": 1}, \"Metrics\": {\"train_multiclass_cross_entropy_objective\": {\"sum\": 0.9830233154296875, \"count\": 1, \"min\": 0.9830233154296875, \"max\": 0.9830233154296875}}}\u001b[0m\n",
      "\u001b[34m#metrics {\"StartTime\": 1658911246.0734246, \"EndTime\": 1658911246.073449, \"Dimensions\": {\"Algorithm\": \"Linear Learner\", \"Host\": \"algo-1\", \"Operation\": \"training\", \"epoch\": 6, \"model\": 2}, \"Metrics\": {\"train_multiclass_cross_entropy_objective\": {\"sum\": 0.90822900390625, \"count\": 1, \"min\": 0.90822900390625, \"max\": 0.90822900390625}}}\u001b[0m\n",
      "\u001b[34m#metrics {\"StartTime\": 1658911246.0735765, \"EndTime\": 1658911246.073598, \"Dimensions\": {\"Algorithm\": \"Linear Learner\", \"Host\": \"algo-1\", \"Operation\": \"training\", \"epoch\": 6, \"model\": 3}, \"Metrics\": {\"train_multiclass_cross_entropy_objective\": {\"sum\": 0.9347615966796875, \"count\": 1, \"min\": 0.9347615966796875, \"max\": 0.9347615966796875}}}\u001b[0m\n",
      "\u001b[34m#metrics {\"StartTime\": 1658911246.0736485, \"EndTime\": 1658911246.073666, \"Dimensions\": {\"Algorithm\": \"Linear Learner\", \"Host\": \"algo-1\", \"Operation\": \"training\", \"epoch\": 6, \"model\": 4}, \"Metrics\": {\"train_multiclass_cross_entropy_objective\": {\"sum\": 1.01159619140625, \"count\": 1, \"min\": 1.01159619140625, \"max\": 1.01159619140625}}}\u001b[0m\n",
      "\u001b[34m#metrics {\"StartTime\": 1658911246.0737634, \"EndTime\": 1658911246.073783, \"Dimensions\": {\"Algorithm\": \"Linear Learner\", \"Host\": \"algo-1\", \"Operation\": \"training\", \"epoch\": 6, \"model\": 5}, \"Metrics\": {\"train_multiclass_cross_entropy_objective\": {\"sum\": 0.9659964599609375, \"count\": 1, \"min\": 0.9659964599609375, \"max\": 0.9659964599609375}}}\u001b[0m\n",
      "\u001b[34m#metrics {\"StartTime\": 1658911246.07384, \"EndTime\": 1658911246.0738568, \"Dimensions\": {\"Algorithm\": \"Linear Learner\", \"Host\": \"algo-1\", \"Operation\": \"training\", \"epoch\": 6, \"model\": 6}, \"Metrics\": {\"train_multiclass_cross_entropy_objective\": {\"sum\": 0.8716508178710938, \"count\": 1, \"min\": 0.8716508178710938, \"max\": 0.8716508178710938}}}\u001b[0m\n",
      "\u001b[34m#metrics {\"StartTime\": 1658911246.0739098, \"EndTime\": 1658911246.0739274, \"Dimensions\": {\"Algorithm\": \"Linear Learner\", \"Host\": \"algo-1\", \"Operation\": \"training\", \"epoch\": 6, \"model\": 7}, \"Metrics\": {\"train_multiclass_cross_entropy_objective\": {\"sum\": 1.022560546875, \"count\": 1, \"min\": 1.022560546875, \"max\": 1.022560546875}}}\u001b[0m\n",
      "\u001b[34m#metrics {\"StartTime\": 1658911246.0739803, \"EndTime\": 1658911246.0739977, \"Dimensions\": {\"Algorithm\": \"Linear Learner\", \"Host\": \"algo-1\", \"Operation\": \"training\", \"epoch\": 6, \"model\": 8}, \"Metrics\": {\"train_multiclass_cross_entropy_objective\": {\"sum\": 0.7877861938476562, \"count\": 1, \"min\": 0.7877861938476562, \"max\": 0.7877861938476562}}}\u001b[0m\n",
      "\u001b[34m#metrics {\"StartTime\": 1658911246.0740528, \"EndTime\": 1658911246.0740697, \"Dimensions\": {\"Algorithm\": \"Linear Learner\", \"Host\": \"algo-1\", \"Operation\": \"training\", \"epoch\": 6, \"model\": 9}, \"Metrics\": {\"train_multiclass_cross_entropy_objective\": {\"sum\": 1.042639892578125, \"count\": 1, \"min\": 1.042639892578125, \"max\": 1.042639892578125}}}\u001b[0m\n",
      "\u001b[34m#metrics {\"StartTime\": 1658911246.074123, \"EndTime\": 1658911246.074139, \"Dimensions\": {\"Algorithm\": \"Linear Learner\", \"Host\": \"algo-1\", \"Operation\": \"training\", \"epoch\": 6, \"model\": 10}, \"Metrics\": {\"train_multiclass_cross_entropy_objective\": {\"sum\": 1.0279864501953124, \"count\": 1, \"min\": 1.0279864501953124, \"max\": 1.0279864501953124}}}\u001b[0m\n",
      "\u001b[34m#metrics {\"StartTime\": 1658911246.0741947, \"EndTime\": 1658911246.0742116, \"Dimensions\": {\"Algorithm\": \"Linear Learner\", \"Host\": \"algo-1\", \"Operation\": \"training\", \"epoch\": 6, \"model\": 11}, \"Metrics\": {\"train_multiclass_cross_entropy_objective\": {\"sum\": 1.056670166015625, \"count\": 1, \"min\": 1.056670166015625, \"max\": 1.056670166015625}}}\u001b[0m\n",
      "\u001b[34m[07/27/2022 08:40:46 INFO 140094935398208] #quality_metric: host=algo-1, epoch=6, train multiclass_cross_entropy_objective <loss>=0.9983641967773438\u001b[0m\n",
      "\u001b[34m[2022-07-27 08:40:46.097] [tensorio] [info] epoch_stats={\"data_pipeline\": \"/opt/ml/input/data/validation\", \"epoch\": 20, \"duration\": 11, \"num_examples\": 1, \"num_bytes\": 11544}\u001b[0m\n",
      "\u001b[34m#metrics {\"StartTime\": 1658911246.1016724, \"EndTime\": 1658911246.1017365, \"Dimensions\": {\"Algorithm\": \"Linear Learner\", \"Host\": \"algo-1\", \"Operation\": \"training\", \"epoch\": 6, \"model\": 0}, \"Metrics\": {\"validation_multiclass_cross_entropy_objective\": {\"sum\": 0.9816924086562148, \"count\": 1, \"min\": 0.9816924086562148, \"max\": 0.9816924086562148}}}\u001b[0m\n",
      "\u001b[34m#metrics {\"StartTime\": 1658911246.1018512, \"EndTime\": 1658911246.1018753, \"Dimensions\": {\"Algorithm\": \"Linear Learner\", \"Host\": \"algo-1\", \"Operation\": \"training\", \"epoch\": 6, \"model\": 1}, \"Metrics\": {\"validation_multiclass_cross_entropy_objective\": {\"sum\": 0.9640626649598818, \"count\": 1, \"min\": 0.9640626649598818, \"max\": 0.9640626649598818}}}\u001b[0m\n",
      "\u001b[34m#metrics {\"StartTime\": 1658911246.1019433, \"EndTime\": 1658911246.101962, \"Dimensions\": {\"Algorithm\": \"Linear Learner\", \"Host\": \"algo-1\", \"Operation\": \"training\", \"epoch\": 6, \"model\": 2}, \"Metrics\": {\"validation_multiclass_cross_entropy_objective\": {\"sum\": 0.8840011734146256, \"count\": 1, \"min\": 0.8840011734146256, \"max\": 0.8840011734146256}}}\u001b[0m\n",
      "\u001b[34m#metrics {\"StartTime\": 1658911246.1020246, \"EndTime\": 1658911246.1020448, \"Dimensions\": {\"Algorithm\": \"Linear Learner\", \"Host\": \"algo-1\", \"Operation\": \"training\", \"epoch\": 6, \"model\": 3}, \"Metrics\": {\"validation_multiclass_cross_entropy_objective\": {\"sum\": 0.913693058598149, \"count\": 1, \"min\": 0.913693058598149, \"max\": 0.913693058598149}}}\u001b[0m\n",
      "\u001b[34m#metrics {\"StartTime\": 1658911246.1021106, \"EndTime\": 1658911246.1021297, \"Dimensions\": {\"Algorithm\": \"Linear Learner\", \"Host\": \"algo-1\", \"Operation\": \"training\", \"epoch\": 6, \"model\": 4}, \"Metrics\": {\"validation_multiclass_cross_entropy_objective\": {\"sum\": 0.9919377919789907, \"count\": 1, \"min\": 0.9919377919789907, \"max\": 0.9919377919789907}}}\u001b[0m\n",
      "\u001b[34m#metrics {\"StartTime\": 1658911246.1021888, \"EndTime\": 1658911246.1022062, \"Dimensions\": {\"Algorithm\": \"Linear Learner\", \"Host\": \"algo-1\", \"Operation\": \"training\", \"epoch\": 6, \"model\": 5}, \"Metrics\": {\"validation_multiclass_cross_entropy_objective\": {\"sum\": 0.9490948238888303, \"count\": 1, \"min\": 0.9490948238888303, \"max\": 0.9490948238888303}}}\u001b[0m\n",
      "\u001b[34m#metrics {\"StartTime\": 1658911246.1022713, \"EndTime\": 1658911246.102295, \"Dimensions\": {\"Algorithm\": \"Linear Learner\", \"Host\": \"algo-1\", \"Operation\": \"training\", \"epoch\": 6, \"model\": 6}, \"Metrics\": {\"validation_multiclass_cross_entropy_objective\": {\"sum\": 0.8521690024985923, \"count\": 1, \"min\": 0.8521690024985923, \"max\": 0.8521690024985923}}}\u001b[0m\n",
      "\u001b[34m#metrics {\"StartTime\": 1658911246.1023579, \"EndTime\": 1658911246.1023755, \"Dimensions\": {\"Algorithm\": \"Linear Learner\", \"Host\": \"algo-1\", \"Operation\": \"training\", \"epoch\": 6, \"model\": 7}, \"Metrics\": {\"validation_multiclass_cross_entropy_objective\": {\"sum\": 1.007544096525725, \"count\": 1, \"min\": 1.007544096525725, \"max\": 1.007544096525725}}}\u001b[0m\n",
      "\u001b[34m#metrics {\"StartTime\": 1658911246.102442, \"EndTime\": 1658911246.1024625, \"Dimensions\": {\"Algorithm\": \"Linear Learner\", \"Host\": \"algo-1\", \"Operation\": \"training\", \"epoch\": 6, \"model\": 8}, \"Metrics\": {\"validation_multiclass_cross_entropy_objective\": {\"sum\": 0.7531444790127041, \"count\": 1, \"min\": 0.7531444790127041, \"max\": 0.7531444790127041}}}\u001b[0m\n",
      "\u001b[34m#metrics {\"StartTime\": 1658911246.102522, \"EndTime\": 1658911246.1025789, \"Dimensions\": {\"Algorithm\": \"Linear Learner\", \"Host\": \"algo-1\", \"Operation\": \"training\", \"epoch\": 6, \"model\": 9}, \"Metrics\": {\"validation_multiclass_cross_entropy_objective\": {\"sum\": 0.9661099545590512, \"count\": 1, \"min\": 0.9661099545590512, \"max\": 0.9661099545590512}}}\u001b[0m\n",
      "\u001b[34m#metrics {\"StartTime\": 1658911246.1026394, \"EndTime\": 1658911246.102656, \"Dimensions\": {\"Algorithm\": \"Linear Learner\", \"Host\": \"algo-1\", \"Operation\": \"training\", \"epoch\": 6, \"model\": 10}, \"Metrics\": {\"validation_multiclass_cross_entropy_objective\": {\"sum\": 1.0140147166209177, \"count\": 1, \"min\": 1.0140147166209177, \"max\": 1.0140147166209177}}}\u001b[0m\n",
      "\u001b[34m#metrics {\"StartTime\": 1658911246.1027071, \"EndTime\": 1658911246.102725, \"Dimensions\": {\"Algorithm\": \"Linear Learner\", \"Host\": \"algo-1\", \"Operation\": \"training\", \"epoch\": 6, \"model\": 11}, \"Metrics\": {\"validation_multiclass_cross_entropy_objective\": {\"sum\": 0.7726690618841497, \"count\": 1, \"min\": 0.7726690618841497, \"max\": 0.7726690618841497}}}\u001b[0m\n",
      "\u001b[34m[07/27/2022 08:40:46 INFO 140094935398208] #quality_metric: host=algo-1, epoch=6, validation multiclass_cross_entropy_objective <loss>=0.9816924086562148\u001b[0m\n",
      "\u001b[34m[07/27/2022 08:40:46 INFO 140094935398208] #early_stopping_criteria_metric: host=algo-1, epoch=6, criteria=multiclass_cross_entropy_objective, value=0.7531444790127041\u001b[0m\n",
      "\u001b[34m[07/27/2022 08:40:46 INFO 140094935398208] Epoch 6: Loss improved. Updating best model\u001b[0m\n",
      "\u001b[34m[07/27/2022 08:40:46 INFO 140094935398208] Saving model for epoch: 6\u001b[0m\n",
      "\u001b[34m[07/27/2022 08:40:46 INFO 140094935398208] Saved checkpoint to \"/tmp/tmpjiwid1ip/mx-mod-0000.params\"\u001b[0m\n",
      "\u001b[34m[07/27/2022 08:40:46 INFO 140094935398208] #progress_metric: host=algo-1, completed 46.666666666666664 % of epochs\u001b[0m\n",
      "\u001b[34m#metrics {\"StartTime\": 1658911246.0493124, \"EndTime\": 1658911246.1145563, \"Dimensions\": {\"Algorithm\": \"Linear Learner\", \"Host\": \"algo-1\", \"Operation\": \"training\", \"epoch\": 6, \"Meta\": \"training_data_iter\"}, \"Metrics\": {\"Total Records Seen\": {\"sum\": 15208.0, \"count\": 1, \"min\": 15208, \"max\": 15208}, \"Total Batches Seen\": {\"sum\": 17.0, \"count\": 1, \"min\": 17, \"max\": 17}, \"Max Records Seen Between Resets\": {\"sum\": 1776.0, \"count\": 1, \"min\": 1776, \"max\": 1776}, \"Max Batches Seen Between Resets\": {\"sum\": 2.0, \"count\": 1, \"min\": 2, \"max\": 2}, \"Reset Count\": {\"sum\": 9.0, \"count\": 1, \"min\": 9, \"max\": 9}, \"Number of Records Since Last Reset\": {\"sum\": 1776.0, \"count\": 1, \"min\": 1776, \"max\": 1776}, \"Number of Batches Since Last Reset\": {\"sum\": 2.0, \"count\": 1, \"min\": 2, \"max\": 2}}}\u001b[0m\n",
      "\u001b[34m[07/27/2022 08:40:46 INFO 140094935398208] #throughput_metric: host=algo-1, train throughput=27154.922039384946 records/second\u001b[0m\n",
      "\u001b[34m[2022-07-27 08:40:46.137] [tensorio] [info] epoch_stats={\"data_pipeline\": \"/opt/ml/input/data/train\", \"epoch\": 18, \"duration\": 22, \"num_examples\": 2, \"num_bytes\": 92352}\u001b[0m\n",
      "\u001b[34m#metrics {\"StartTime\": 1658911246.138034, \"EndTime\": 1658911246.1381035, \"Dimensions\": {\"Algorithm\": \"Linear Learner\", \"Host\": \"algo-1\", \"Operation\": \"training\", \"epoch\": 7, \"model\": 0}, \"Metrics\": {\"train_multiclass_cross_entropy_objective\": {\"sum\": 0.9853231811523437, \"count\": 1, \"min\": 0.9853231811523437, \"max\": 0.9853231811523437}}}\u001b[0m\n",
      "\u001b[34m#metrics {\"StartTime\": 1658911246.1381912, \"EndTime\": 1658911246.1382134, \"Dimensions\": {\"Algorithm\": \"Linear Learner\", \"Host\": \"algo-1\", \"Operation\": \"training\", \"epoch\": 7, \"model\": 1}, \"Metrics\": {\"train_multiclass_cross_entropy_objective\": {\"sum\": 0.9681892700195313, \"count\": 1, \"min\": 0.9681892700195313, \"max\": 0.9681892700195313}}}\u001b[0m\n",
      "\u001b[34m#metrics {\"StartTime\": 1658911246.1382766, \"EndTime\": 1658911246.1382954, \"Dimensions\": {\"Algorithm\": \"Linear Learner\", \"Host\": \"algo-1\", \"Operation\": \"training\", \"epoch\": 7, \"model\": 2}, \"Metrics\": {\"train_multiclass_cross_entropy_objective\": {\"sum\": 0.890293212890625, \"count\": 1, \"min\": 0.890293212890625, \"max\": 0.890293212890625}}}\u001b[0m\n",
      "\u001b[34m#metrics {\"StartTime\": 1658911246.1383545, \"EndTime\": 1658911246.1383727, \"Dimensions\": {\"Algorithm\": \"Linear Learner\", \"Host\": \"algo-1\", \"Operation\": \"training\", \"epoch\": 7, \"model\": 3}, \"Metrics\": {\"train_multiclass_cross_entropy_objective\": {\"sum\": 0.9197091064453125, \"count\": 1, \"min\": 0.9197091064453125, \"max\": 0.9197091064453125}}}\u001b[0m\n",
      "\u001b[34m#metrics {\"StartTime\": 1658911246.1384268, \"EndTime\": 1658911246.1384442, \"Dimensions\": {\"Algorithm\": \"Linear Learner\", \"Host\": \"algo-1\", \"Operation\": \"training\", \"epoch\": 7, \"model\": 4}, \"Metrics\": {\"train_multiclass_cross_entropy_objective\": {\"sum\": 0.9950196533203125, \"count\": 1, \"min\": 0.9950196533203125, \"max\": 0.9950196533203125}}}\u001b[0m\n",
      "\u001b[34m#metrics {\"StartTime\": 1658911246.1384993, \"EndTime\": 1658911246.1385155, \"Dimensions\": {\"Algorithm\": \"Linear Learner\", \"Host\": \"algo-1\", \"Operation\": \"training\", \"epoch\": 7, \"model\": 5}, \"Metrics\": {\"train_multiclass_cross_entropy_objective\": {\"sum\": 0.9546382446289062, \"count\": 1, \"min\": 0.9546382446289062, \"max\": 0.9546382446289062}}}\u001b[0m\n",
      "\u001b[34m#metrics {\"StartTime\": 1658911246.1385689, \"EndTime\": 1658911246.1385863, \"Dimensions\": {\"Algorithm\": \"Linear Learner\", \"Host\": \"algo-1\", \"Operation\": \"training\", \"epoch\": 7, \"model\": 6}, \"Metrics\": {\"train_multiclass_cross_entropy_objective\": {\"sum\": 0.8637085571289063, \"count\": 1, \"min\": 0.8637085571289063, \"max\": 0.8637085571289063}}}\u001b[0m\n",
      "\u001b[34m#metrics {\"StartTime\": 1658911246.1386406, \"EndTime\": 1658911246.1386573, \"Dimensions\": {\"Algorithm\": \"Linear Learner\", \"Host\": \"algo-1\", \"Operation\": \"training\", \"epoch\": 7, \"model\": 7}, \"Metrics\": {\"train_multiclass_cross_entropy_objective\": {\"sum\": 1.0112341918945313, \"count\": 1, \"min\": 1.0112341918945313, \"max\": 1.0112341918945313}}}\u001b[0m\n",
      "\u001b[34m#metrics {\"StartTime\": 1658911246.1387103, \"EndTime\": 1658911246.1387277, \"Dimensions\": {\"Algorithm\": \"Linear Learner\", \"Host\": \"algo-1\", \"Operation\": \"training\", \"epoch\": 7, \"model\": 8}, \"Metrics\": {\"train_multiclass_cross_entropy_objective\": {\"sum\": 0.764803955078125, \"count\": 1, \"min\": 0.764803955078125, \"max\": 0.764803955078125}}}\u001b[0m\n",
      "\u001b[34m#metrics {\"StartTime\": 1658911246.1387808, \"EndTime\": 1658911246.1387985, \"Dimensions\": {\"Algorithm\": \"Linear Learner\", \"Host\": \"algo-1\", \"Operation\": \"training\", \"epoch\": 7, \"model\": 9}, \"Metrics\": {\"train_multiclass_cross_entropy_objective\": {\"sum\": 1.0003087158203126, \"count\": 1, \"min\": 1.0003087158203126, \"max\": 1.0003087158203126}}}\u001b[0m\n",
      "\u001b[34m#metrics {\"StartTime\": 1658911246.138852, \"EndTime\": 1658911246.1388679, \"Dimensions\": {\"Algorithm\": \"Linear Learner\", \"Host\": \"algo-1\", \"Operation\": \"training\", \"epoch\": 7, \"model\": 10}, \"Metrics\": {\"train_multiclass_cross_entropy_objective\": {\"sum\": 1.0180759887695312, \"count\": 1, \"min\": 1.0180759887695312, \"max\": 1.0180759887695312}}}\u001b[0m\n",
      "\u001b[34m#metrics {\"StartTime\": 1658911246.1389215, \"EndTime\": 1658911246.1389382, \"Dimensions\": {\"Algorithm\": \"Linear Learner\", \"Host\": \"algo-1\", \"Operation\": \"training\", \"epoch\": 7, \"model\": 11}, \"Metrics\": {\"train_multiclass_cross_entropy_objective\": {\"sum\": 0.7881486206054688, \"count\": 1, \"min\": 0.7881486206054688, \"max\": 0.7881486206054688}}}\u001b[0m\n",
      "\u001b[34m[07/27/2022 08:40:46 INFO 140094935398208] #quality_metric: host=algo-1, epoch=7, train multiclass_cross_entropy_objective <loss>=0.9853231811523437\u001b[0m\n",
      "\u001b[34m[2022-07-27 08:40:46.174] [tensorio] [info] epoch_stats={\"data_pipeline\": \"/opt/ml/input/data/validation\", \"epoch\": 23, \"duration\": 24, \"num_examples\": 1, \"num_bytes\": 11544}\u001b[0m\n",
      "\u001b[34m#metrics {\"StartTime\": 1658911246.1807547, \"EndTime\": 1658911246.1808243, \"Dimensions\": {\"Algorithm\": \"Linear Learner\", \"Host\": \"algo-1\", \"Operation\": \"training\", \"epoch\": 7, \"model\": 0}, \"Metrics\": {\"validation_multiclass_cross_entropy_objective\": {\"sum\": 0.9710025959186726, \"count\": 1, \"min\": 0.9710025959186726, \"max\": 0.9710025959186726}}}\u001b[0m\n",
      "\u001b[34m#metrics {\"StartTime\": 1658911246.1809502, \"EndTime\": 1658911246.1809745, \"Dimensions\": {\"Algorithm\": \"Linear Learner\", \"Host\": \"algo-1\", \"Operation\": \"training\", \"epoch\": 7, \"model\": 1}, \"Metrics\": {\"validation_multiclass_cross_entropy_objective\": {\"sum\": 0.9522011559288781, \"count\": 1, \"min\": 0.9522011559288781, \"max\": 0.9522011559288781}}}\u001b[0m\n",
      "\u001b[34m#metrics {\"StartTime\": 1658911246.1810791, \"EndTime\": 1658911246.1811054, \"Dimensions\": {\"Algorithm\": \"Linear Learner\", \"Host\": \"algo-1\", \"Operation\": \"training\", \"epoch\": 7, \"model\": 2}, \"Metrics\": {\"validation_multiclass_cross_entropy_objective\": {\"sum\": 0.8751449584960938, \"count\": 1, \"min\": 0.8751449584960938, \"max\": 0.8751449584960938}}}\u001b[0m\n",
      "\u001b[34m#metrics {\"StartTime\": 1658911246.1815555, \"EndTime\": 1658911246.181829, \"Dimensions\": {\"Algorithm\": \"Linear Learner\", \"Host\": \"algo-1\", \"Operation\": \"training\", \"epoch\": 7, \"model\": 3}, \"Metrics\": {\"validation_multiclass_cross_entropy_objective\": {\"sum\": 0.9035690582550324, \"count\": 1, \"min\": 0.9035690582550324, \"max\": 0.9035690582550324}}}\u001b[0m\n",
      "\u001b[34m#metrics {\"StartTime\": 1658911246.1819823, \"EndTime\": 1658911246.1820157, \"Dimensions\": {\"Algorithm\": \"Linear Learner\", \"Host\": \"algo-1\", \"Operation\": \"training\", \"epoch\": 7, \"model\": 4}, \"Metrics\": {\"validation_multiclass_cross_entropy_objective\": {\"sum\": 0.9752499692074887, \"count\": 1, \"min\": 0.9752499692074887, \"max\": 0.9752499692074887}}}\u001b[0m\n",
      "\u001b[34m#metrics {\"StartTime\": 1658911246.1823332, \"EndTime\": 1658911246.1825645, \"Dimensions\": {\"Algorithm\": \"Linear Learner\", \"Host\": \"algo-1\", \"Operation\": \"training\", \"epoch\": 7, \"model\": 5}, \"Metrics\": {\"validation_multiclass_cross_entropy_objective\": {\"sum\": 0.9385290747290259, \"count\": 1, \"min\": 0.9385290747290259, \"max\": 0.9385290747290259}}}\u001b[0m\n",
      "\u001b[34m#metrics {\"StartTime\": 1658911246.1826713, \"EndTime\": 1658911246.1828957, \"Dimensions\": {\"Algorithm\": \"Linear Learner\", \"Host\": \"algo-1\", \"Operation\": \"training\", \"epoch\": 7, \"model\": 6}, \"Metrics\": {\"validation_multiclass_cross_entropy_objective\": {\"sum\": 0.8457017503343187, \"count\": 1, \"min\": 0.8457017503343187, \"max\": 0.8457017503343187}}}\u001b[0m\n",
      "\u001b[34m#metrics {\"StartTime\": 1658911246.1829886, \"EndTime\": 1658911246.183008, \"Dimensions\": {\"Algorithm\": \"Linear Learner\", \"Host\": \"algo-1\", \"Operation\": \"training\", \"epoch\": 7, \"model\": 7}, \"Metrics\": {\"validation_multiclass_cross_entropy_objective\": {\"sum\": 0.9978819151182432, \"count\": 1, \"min\": 0.9978819151182432, \"max\": 0.9978819151182432}}}\u001b[0m\n",
      "\u001b[34m#metrics {\"StartTime\": 1658911246.1830926, \"EndTime\": 1658911246.183114, \"Dimensions\": {\"Algorithm\": \"Linear Learner\", \"Host\": \"algo-1\", \"Operation\": \"training\", \"epoch\": 7, \"model\": 8}, \"Metrics\": {\"validation_multiclass_cross_entropy_objective\": {\"sum\": 0.7345062805725647, \"count\": 1, \"min\": 0.7345062805725647, \"max\": 0.7345062805725647}}}\u001b[0m\n",
      "\u001b[34m#metrics {\"StartTime\": 1658911246.1832726, \"EndTime\": 1658911246.183294, \"Dimensions\": {\"Algorithm\": \"Linear Learner\", \"Host\": \"algo-1\", \"Operation\": \"training\", \"epoch\": 7, \"model\": 9}, \"Metrics\": {\"validation_multiclass_cross_entropy_objective\": {\"sum\": 0.8614959029464034, \"count\": 1, \"min\": 0.8614959029464034, \"max\": 0.8614959029464034}}}\u001b[0m\n",
      "\u001b[34m#metrics {\"StartTime\": 1658911246.1834497, \"EndTime\": 1658911246.1835577, \"Dimensions\": {\"Algorithm\": \"Linear Learner\", \"Host\": \"algo-1\", \"Operation\": \"training\", \"epoch\": 7, \"model\": 10}, \"Metrics\": {\"validation_multiclass_cross_entropy_objective\": {\"sum\": 1.0053842905405406, \"count\": 1, \"min\": 1.0053842905405406, \"max\": 1.0053842905405406}}}\u001b[0m\n",
      "\u001b[34m#metrics {\"StartTime\": 1658911246.183711, \"EndTime\": 1658911246.1837351, \"Dimensions\": {\"Algorithm\": \"Linear Learner\", \"Host\": \"algo-1\", \"Operation\": \"training\", \"epoch\": 7, \"model\": 11}, \"Metrics\": {\"validation_multiclass_cross_entropy_objective\": {\"sum\": 0.7539334683804899, \"count\": 1, \"min\": 0.7539334683804899, \"max\": 0.7539334683804899}}}\u001b[0m\n",
      "\u001b[34m[07/27/2022 08:40:46 INFO 140094935398208] #quality_metric: host=algo-1, epoch=7, validation multiclass_cross_entropy_objective <loss>=0.9710025959186726\u001b[0m\n",
      "\u001b[34m[07/27/2022 08:40:46 INFO 140094935398208] #early_stopping_criteria_metric: host=algo-1, epoch=7, criteria=multiclass_cross_entropy_objective, value=0.7345062805725647\u001b[0m\n",
      "\u001b[34m[07/27/2022 08:40:46 INFO 140094935398208] Epoch 7: Loss improved. Updating best model\u001b[0m\n",
      "\u001b[34m[07/27/2022 08:40:46 INFO 140094935398208] Saving model for epoch: 7\u001b[0m\n",
      "\u001b[34m[07/27/2022 08:40:46 INFO 140094935398208] Saved checkpoint to \"/tmp/tmprp2fkn2l/mx-mod-0000.params\"\u001b[0m\n",
      "\u001b[34m[07/27/2022 08:40:46 INFO 140094935398208] #progress_metric: host=algo-1, completed 53.333333333333336 % of epochs\u001b[0m\n",
      "\u001b[34m#metrics {\"StartTime\": 1658911246.1149206, \"EndTime\": 1658911246.1972303, \"Dimensions\": {\"Algorithm\": \"Linear Learner\", \"Host\": \"algo-1\", \"Operation\": \"training\", \"epoch\": 7, \"Meta\": \"training_data_iter\"}, \"Metrics\": {\"Total Records Seen\": {\"sum\": 16984.0, \"count\": 1, \"min\": 16984, \"max\": 16984}, \"Total Batches Seen\": {\"sum\": 19.0, \"count\": 1, \"min\": 19, \"max\": 19}, \"Max Records Seen Between Resets\": {\"sum\": 1776.0, \"count\": 1, \"min\": 1776, \"max\": 1776}, \"Max Batches Seen Between Resets\": {\"sum\": 2.0, \"count\": 1, \"min\": 2, \"max\": 2}, \"Reset Count\": {\"sum\": 10.0, \"count\": 1, \"min\": 10, \"max\": 10}, \"Number of Records Since Last Reset\": {\"sum\": 1776.0, \"count\": 1, \"min\": 1776, \"max\": 1776}, \"Number of Batches Since Last Reset\": {\"sum\": 2.0, \"count\": 1, \"min\": 2, \"max\": 2}}}\u001b[0m\n",
      "\u001b[34m[07/27/2022 08:40:46 INFO 140094935398208] #throughput_metric: host=algo-1, train throughput=21514.15893553912 records/second\u001b[0m\n",
      "\u001b[34m[2022-07-27 08:40:46.228] [tensorio] [info] epoch_stats={\"data_pipeline\": \"/opt/ml/input/data/train\", \"epoch\": 20, \"duration\": 30, \"num_examples\": 2, \"num_bytes\": 92352}\u001b[0m\n",
      "\u001b[34m#metrics {\"StartTime\": 1658911246.228057, \"EndTime\": 1658911246.2281303, \"Dimensions\": {\"Algorithm\": \"Linear Learner\", \"Host\": \"algo-1\", \"Operation\": \"training\", \"epoch\": 8, \"model\": 0}, \"Metrics\": {\"train_multiclass_cross_entropy_objective\": {\"sum\": 0.9742128295898438, \"count\": 1, \"min\": 0.9742128295898438, \"max\": 0.9742128295898438}}}\u001b[0m\n",
      "\u001b[34m#metrics {\"StartTime\": 1658911246.2282822, \"EndTime\": 1658911246.2283063, \"Dimensions\": {\"Algorithm\": \"Linear Learner\", \"Host\": \"algo-1\", \"Operation\": \"training\", \"epoch\": 8, \"model\": 1}, \"Metrics\": {\"train_multiclass_cross_entropy_objective\": {\"sum\": 0.9560975952148437, \"count\": 1, \"min\": 0.9560975952148437, \"max\": 0.9560975952148437}}}\u001b[0m\n",
      "\u001b[34m#metrics {\"StartTime\": 1658911246.228365, \"EndTime\": 1658911246.2283838, \"Dimensions\": {\"Algorithm\": \"Linear Learner\", \"Host\": \"algo-1\", \"Operation\": \"training\", \"epoch\": 8, \"model\": 2}, \"Metrics\": {\"train_multiclass_cross_entropy_objective\": {\"sum\": 0.88151708984375, \"count\": 1, \"min\": 0.88151708984375, \"max\": 0.88151708984375}}}\u001b[0m\n",
      "\u001b[34m#metrics {\"StartTime\": 1658911246.228439, \"EndTime\": 1658911246.2284572, \"Dimensions\": {\"Algorithm\": \"Linear Learner\", \"Host\": \"algo-1\", \"Operation\": \"training\", \"epoch\": 8, \"model\": 3}, \"Metrics\": {\"train_multiclass_cross_entropy_objective\": {\"sum\": 0.9090670166015625, \"count\": 1, \"min\": 0.9090670166015625, \"max\": 0.9090670166015625}}}\u001b[0m\n",
      "\u001b[34m#metrics {\"StartTime\": 1658911246.2285168, \"EndTime\": 1658911246.2285345, \"Dimensions\": {\"Algorithm\": \"Linear Learner\", \"Host\": \"algo-1\", \"Operation\": \"training\", \"epoch\": 8, \"model\": 4}, \"Metrics\": {\"train_multiclass_cross_entropy_objective\": {\"sum\": 0.979219482421875, \"count\": 1, \"min\": 0.979219482421875, \"max\": 0.979219482421875}}}\u001b[0m\n",
      "\u001b[34m#metrics {\"StartTime\": 1658911246.2285922, \"EndTime\": 1658911246.2286112, \"Dimensions\": {\"Algorithm\": \"Linear Learner\", \"Host\": \"algo-1\", \"Operation\": \"training\", \"epoch\": 8, \"model\": 5}, \"Metrics\": {\"train_multiclass_cross_entropy_objective\": {\"sum\": 0.9442431030273437, \"count\": 1, \"min\": 0.9442431030273437, \"max\": 0.9442431030273437}}}\u001b[0m\n",
      "\u001b[34m#metrics {\"StartTime\": 1658911246.2286708, \"EndTime\": 1658911246.228689, \"Dimensions\": {\"Algorithm\": \"Linear Learner\", \"Host\": \"algo-1\", \"Operation\": \"training\", \"epoch\": 8, \"model\": 6}, \"Metrics\": {\"train_multiclass_cross_entropy_objective\": {\"sum\": 0.857370361328125, \"count\": 1, \"min\": 0.857370361328125, \"max\": 0.857370361328125}}}\u001b[0m\n",
      "\u001b[34m#metrics {\"StartTime\": 1658911246.2287443, \"EndTime\": 1658911246.228762, \"Dimensions\": {\"Algorithm\": \"Linear Learner\", \"Host\": \"algo-1\", \"Operation\": \"training\", \"epoch\": 8, \"model\": 7}, \"Metrics\": {\"train_multiclass_cross_entropy_objective\": {\"sum\": 1.0012473754882814, \"count\": 1, \"min\": 1.0012473754882814, \"max\": 1.0012473754882814}}}\u001b[0m\n",
      "\u001b[34m#metrics {\"StartTime\": 1658911246.2288175, \"EndTime\": 1658911246.2288349, \"Dimensions\": {\"Algorithm\": \"Linear Learner\", \"Host\": \"algo-1\", \"Operation\": \"training\", \"epoch\": 8, \"model\": 8}, \"Metrics\": {\"train_multiclass_cross_entropy_objective\": {\"sum\": 0.7468468017578125, \"count\": 1, \"min\": 0.7468468017578125, \"max\": 0.7468468017578125}}}\u001b[0m\n",
      "\u001b[34m#metrics {\"StartTime\": 1658911246.2288926, \"EndTime\": 1658911246.2289112, \"Dimensions\": {\"Algorithm\": \"Linear Learner\", \"Host\": \"algo-1\", \"Operation\": \"training\", \"epoch\": 8, \"model\": 9}, \"Metrics\": {\"train_multiclass_cross_entropy_objective\": {\"sum\": 0.8839507446289062, \"count\": 1, \"min\": 0.8839507446289062, \"max\": 0.8839507446289062}}}\u001b[0m\n",
      "\u001b[34m#metrics {\"StartTime\": 1658911246.22897, \"EndTime\": 1658911246.228989, \"Dimensions\": {\"Algorithm\": \"Linear Learner\", \"Host\": \"algo-1\", \"Operation\": \"training\", \"epoch\": 8, \"model\": 10}, \"Metrics\": {\"train_multiclass_cross_entropy_objective\": {\"sum\": 1.009175048828125, \"count\": 1, \"min\": 1.009175048828125, \"max\": 1.009175048828125}}}\u001b[0m\n",
      "\u001b[34m#metrics {\"StartTime\": 1658911246.229045, \"EndTime\": 1658911246.229064, \"Dimensions\": {\"Algorithm\": \"Linear Learner\", \"Host\": \"algo-1\", \"Operation\": \"training\", \"epoch\": 8, \"model\": 11}, \"Metrics\": {\"train_multiclass_cross_entropy_objective\": {\"sum\": 0.7669869384765625, \"count\": 1, \"min\": 0.7669869384765625, \"max\": 0.7669869384765625}}}\u001b[0m\n",
      "\u001b[34m[07/27/2022 08:40:46 INFO 140094935398208] #quality_metric: host=algo-1, epoch=8, train multiclass_cross_entropy_objective <loss>=0.9742128295898438\u001b[0m\n",
      "\u001b[34m[2022-07-27 08:40:46.258] [tensorio] [info] epoch_stats={\"data_pipeline\": \"/opt/ml/input/data/validation\", \"epoch\": 26, \"duration\": 16, \"num_examples\": 1, \"num_bytes\": 11544}\u001b[0m\n",
      "\u001b[34m#metrics {\"StartTime\": 1658911246.264535, \"EndTime\": 1658911246.2646089, \"Dimensions\": {\"Algorithm\": \"Linear Learner\", \"Host\": \"algo-1\", \"Operation\": \"training\", \"epoch\": 8, \"model\": 0}, \"Metrics\": {\"validation_multiclass_cross_entropy_objective\": {\"sum\": 0.9585014549461571, \"count\": 1, \"min\": 0.9585014549461571, \"max\": 0.9585014549461571}}}\u001b[0m\n",
      "\u001b[34m#metrics {\"StartTime\": 1658911246.2647288, \"EndTime\": 1658911246.2647545, \"Dimensions\": {\"Algorithm\": \"Linear Learner\", \"Host\": \"algo-1\", \"Operation\": \"training\", \"epoch\": 8, \"model\": 1}, \"Metrics\": {\"validation_multiclass_cross_entropy_objective\": {\"sum\": 0.9375753316793356, \"count\": 1, \"min\": 0.9375753316793356, \"max\": 0.9375753316793356}}}\u001b[0m\n",
      "\u001b[34m#metrics {\"StartTime\": 1658911246.264816, \"EndTime\": 1658911246.2648332, \"Dimensions\": {\"Algorithm\": \"Linear Learner\", \"Host\": \"algo-1\", \"Operation\": \"training\", \"epoch\": 8, \"model\": 2}, \"Metrics\": {\"validation_multiclass_cross_entropy_objective\": {\"sum\": 0.8565547358882319, \"count\": 1, \"min\": 0.8565547358882319, \"max\": 0.8565547358882319}}}\u001b[0m\n",
      "\u001b[34m#metrics {\"StartTime\": 1658911246.2648892, \"EndTime\": 1658911246.2649057, \"Dimensions\": {\"Algorithm\": \"Linear Learner\", \"Host\": \"algo-1\", \"Operation\": \"training\", \"epoch\": 8, \"model\": 3}, \"Metrics\": {\"validation_multiclass_cross_entropy_objective\": {\"sum\": 0.8892968667520059, \"count\": 1, \"min\": 0.8892968667520059, \"max\": 0.8892968667520059}}}\u001b[0m\n",
      "\u001b[34m#metrics {\"StartTime\": 1658911246.2649608, \"EndTime\": 1658911246.2649794, \"Dimensions\": {\"Algorithm\": \"Linear Learner\", \"Host\": \"algo-1\", \"Operation\": \"training\", \"epoch\": 8, \"model\": 4}, \"Metrics\": {\"validation_multiclass_cross_entropy_objective\": {\"sum\": 0.9593923757742117, \"count\": 1, \"min\": 0.9593923757742117, \"max\": 0.9593923757742117}}}\u001b[0m\n",
      "\u001b[34m#metrics {\"StartTime\": 1658911246.2650383, \"EndTime\": 1658911246.265056, \"Dimensions\": {\"Algorithm\": \"Linear Learner\", \"Host\": \"algo-1\", \"Operation\": \"training\", \"epoch\": 8, \"model\": 5}, \"Metrics\": {\"validation_multiclass_cross_entropy_objective\": {\"sum\": 0.9286073564409135, \"count\": 1, \"min\": 0.9286073564409135, \"max\": 0.9286073564409135}}}\u001b[0m\n",
      "\u001b[34m#metrics {\"StartTime\": 1658911246.265112, \"EndTime\": 1658911246.2651289, \"Dimensions\": {\"Algorithm\": \"Linear Learner\", \"Host\": \"algo-1\", \"Operation\": \"training\", \"epoch\": 8, \"model\": 6}, \"Metrics\": {\"validation_multiclass_cross_entropy_objective\": {\"sum\": 0.839864782384924, \"count\": 1, \"min\": 0.839864782384924, \"max\": 0.839864782384924}}}\u001b[0m\n",
      "\u001b[34m#metrics {\"StartTime\": 1658911246.2651825, \"EndTime\": 1658911246.2651992, \"Dimensions\": {\"Algorithm\": \"Linear Learner\", \"Host\": \"algo-1\", \"Operation\": \"training\", \"epoch\": 8, \"model\": 7}, \"Metrics\": {\"validation_multiclass_cross_entropy_objective\": {\"sum\": 0.9874037321623381, \"count\": 1, \"min\": 0.9874037321623381, \"max\": 0.9874037321623381}}}\u001b[0m\n",
      "\u001b[34m#metrics {\"StartTime\": 1658911246.2652528, \"EndTime\": 1658911246.2652998, \"Dimensions\": {\"Algorithm\": \"Linear Learner\", \"Host\": \"algo-1\", \"Operation\": \"training\", \"epoch\": 8, \"model\": 8}, \"Metrics\": {\"validation_multiclass_cross_entropy_objective\": {\"sum\": 0.7201382748715512, \"count\": 1, \"min\": 0.7201382748715512, \"max\": 0.7201382748715512}}}\u001b[0m\n",
      "\u001b[34m#metrics {\"StartTime\": 1658911246.2653883, \"EndTime\": 1658911246.2654095, \"Dimensions\": {\"Algorithm\": \"Linear Learner\", \"Host\": \"algo-1\", \"Operation\": \"training\", \"epoch\": 8, \"model\": 9}, \"Metrics\": {\"validation_multiclass_cross_entropy_objective\": {\"sum\": 0.7733155671540681, \"count\": 1, \"min\": 0.7733155671540681, \"max\": 0.7733155671540681}}}\u001b[0m\n",
      "\u001b[34m#metrics {\"StartTime\": 1658911246.2654696, \"EndTime\": 1658911246.2654893, \"Dimensions\": {\"Algorithm\": \"Linear Learner\", \"Host\": \"algo-1\", \"Operation\": \"training\", \"epoch\": 8, \"model\": 10}, \"Metrics\": {\"validation_multiclass_cross_entropy_objective\": {\"sum\": 0.9966917295713682, \"count\": 1, \"min\": 0.9966917295713682, \"max\": 0.9966917295713682}}}\u001b[0m\n",
      "\u001b[34m#metrics {\"StartTime\": 1658911246.2655509, \"EndTime\": 1658911246.2655706, \"Dimensions\": {\"Algorithm\": \"Linear Learner\", \"Host\": \"algo-1\", \"Operation\": \"training\", \"epoch\": 8, \"model\": 11}, \"Metrics\": {\"validation_multiclass_cross_entropy_objective\": {\"sum\": 0.7390858418232685, \"count\": 1, \"min\": 0.7390858418232685, \"max\": 0.7390858418232685}}}\u001b[0m\n",
      "\u001b[34m[07/27/2022 08:40:46 INFO 140094935398208] #quality_metric: host=algo-1, epoch=8, validation multiclass_cross_entropy_objective <loss>=0.9585014549461571\u001b[0m\n",
      "\u001b[34m[07/27/2022 08:40:46 INFO 140094935398208] #early_stopping_criteria_metric: host=algo-1, epoch=8, criteria=multiclass_cross_entropy_objective, value=0.7201382748715512\u001b[0m\n",
      "\u001b[34m[07/27/2022 08:40:46 INFO 140094935398208] Epoch 8: Loss improved. Updating best model\u001b[0m\n",
      "\u001b[34m[07/27/2022 08:40:46 INFO 140094935398208] Saving model for epoch: 8\u001b[0m\n",
      "\u001b[34m[07/27/2022 08:40:46 INFO 140094935398208] Saved checkpoint to \"/tmp/tmp8muhej9f/mx-mod-0000.params\"\u001b[0m\n",
      "\u001b[34m[07/27/2022 08:40:46 INFO 140094935398208] #progress_metric: host=algo-1, completed 60.0 % of epochs\u001b[0m\n",
      "\u001b[34m#metrics {\"StartTime\": 1658911246.1977322, \"EndTime\": 1658911246.2794464, \"Dimensions\": {\"Algorithm\": \"Linear Learner\", \"Host\": \"algo-1\", \"Operation\": \"training\", \"epoch\": 8, \"Meta\": \"training_data_iter\"}, \"Metrics\": {\"Total Records Seen\": {\"sum\": 18760.0, \"count\": 1, \"min\": 18760, \"max\": 18760}, \"Total Batches Seen\": {\"sum\": 21.0, \"count\": 1, \"min\": 21, \"max\": 21}, \"Max Records Seen Between Resets\": {\"sum\": 1776.0, \"count\": 1, \"min\": 1776, \"max\": 1776}, \"Max Batches Seen Between Resets\": {\"sum\": 2.0, \"count\": 1, \"min\": 2, \"max\": 2}, \"Reset Count\": {\"sum\": 11.0, \"count\": 1, \"min\": 11, \"max\": 11}, \"Number of Records Since Last Reset\": {\"sum\": 1776.0, \"count\": 1, \"min\": 1776, \"max\": 1776}, \"Number of Batches Since Last Reset\": {\"sum\": 2.0, \"count\": 1, \"min\": 2, \"max\": 2}}}\u001b[0m\n",
      "\u001b[34m[07/27/2022 08:40:46 INFO 140094935398208] #throughput_metric: host=algo-1, train throughput=21690.948677854165 records/second\u001b[0m\n",
      "\u001b[34m[2022-07-27 08:40:46.307] [tensorio] [info] epoch_stats={\"data_pipeline\": \"/opt/ml/input/data/train\", \"epoch\": 22, \"duration\": 27, \"num_examples\": 2, \"num_bytes\": 92352}\u001b[0m\n",
      "\u001b[34m#metrics {\"StartTime\": 1658911246.3076963, \"EndTime\": 1658911246.30777, \"Dimensions\": {\"Algorithm\": \"Linear Learner\", \"Host\": \"algo-1\", \"Operation\": \"training\", \"epoch\": 9, \"model\": 0}, \"Metrics\": {\"train_multiclass_cross_entropy_objective\": {\"sum\": 0.9618958129882812, \"count\": 1, \"min\": 0.9618958129882812, \"max\": 0.9618958129882812}}}\u001b[0m\n",
      "\u001b[34m#metrics {\"StartTime\": 1658911246.3082836, \"EndTime\": 1658911246.3083553, \"Dimensions\": {\"Algorithm\": \"Linear Learner\", \"Host\": \"algo-1\", \"Operation\": \"training\", \"epoch\": 9, \"model\": 1}, \"Metrics\": {\"train_multiclass_cross_entropy_objective\": {\"sum\": 0.941915771484375, \"count\": 1, \"min\": 0.941915771484375, \"max\": 0.941915771484375}}}\u001b[0m\n",
      "\u001b[34m#metrics {\"StartTime\": 1658911246.3088477, \"EndTime\": 1658911246.3089201, \"Dimensions\": {\"Algorithm\": \"Linear Learner\", \"Host\": \"algo-1\", \"Operation\": \"training\", \"epoch\": 9, \"model\": 2}, \"Metrics\": {\"train_multiclass_cross_entropy_objective\": {\"sum\": 0.8639841918945312, \"count\": 1, \"min\": 0.8639841918945312, \"max\": 0.8639841918945312}}}\u001b[0m\n",
      "\u001b[34m#metrics {\"StartTime\": 1658911246.309387, \"EndTime\": 1658911246.3094587, \"Dimensions\": {\"Algorithm\": \"Linear Learner\", \"Host\": \"algo-1\", \"Operation\": \"training\", \"epoch\": 9, \"model\": 3}, \"Metrics\": {\"train_multiclass_cross_entropy_objective\": {\"sum\": 0.8950126953125, \"count\": 1, \"min\": 0.8950126953125, \"max\": 0.8950126953125}}}\u001b[0m\n",
      "\u001b[34m#metrics {\"StartTime\": 1658911246.3098538, \"EndTime\": 1658911246.3099115, \"Dimensions\": {\"Algorithm\": \"Linear Learner\", \"Host\": \"algo-1\", \"Operation\": \"training\", \"epoch\": 9, \"model\": 4}, \"Metrics\": {\"train_multiclass_cross_entropy_objective\": {\"sum\": 0.964184814453125, \"count\": 1, \"min\": 0.964184814453125, \"max\": 0.964184814453125}}}\u001b[0m\n",
      "\u001b[34m#metrics {\"StartTime\": 1658911246.309986, \"EndTime\": 1658911246.310068, \"Dimensions\": {\"Algorithm\": \"Linear Learner\", \"Host\": \"algo-1\", \"Operation\": \"training\", \"epoch\": 9, \"model\": 5}, \"Metrics\": {\"train_multiclass_cross_entropy_objective\": {\"sum\": 0.9346255493164063, \"count\": 1, \"min\": 0.9346255493164063, \"max\": 0.9346255493164063}}}\u001b[0m\n",
      "\u001b[34m#metrics {\"StartTime\": 1658911246.3101373, \"EndTime\": 1658911246.310193, \"Dimensions\": {\"Algorithm\": \"Linear Learner\", \"Host\": \"algo-1\", \"Operation\": \"training\", \"epoch\": 9, \"model\": 6}, \"Metrics\": {\"train_multiclass_cross_entropy_objective\": {\"sum\": 0.8526281127929688, \"count\": 1, \"min\": 0.8526281127929688, \"max\": 0.8526281127929688}}}\u001b[0m\n",
      "\u001b[34m#metrics {\"StartTime\": 1658911246.3102918, \"EndTime\": 1658911246.3103132, \"Dimensions\": {\"Algorithm\": \"Linear Learner\", \"Host\": \"algo-1\", \"Operation\": \"training\", \"epoch\": 9, \"model\": 7}, \"Metrics\": {\"train_multiclass_cross_entropy_objective\": {\"sum\": 0.990891357421875, \"count\": 1, \"min\": 0.990891357421875, \"max\": 0.990891357421875}}}\u001b[0m\n",
      "\u001b[34m#metrics {\"StartTime\": 1658911246.3104312, \"EndTime\": 1658911246.3104522, \"Dimensions\": {\"Algorithm\": \"Linear Learner\", \"Host\": \"algo-1\", \"Operation\": \"training\", \"epoch\": 9, \"model\": 8}, \"Metrics\": {\"train_multiclass_cross_entropy_objective\": {\"sum\": 0.733297607421875, \"count\": 1, \"min\": 0.733297607421875, \"max\": 0.733297607421875}}}\u001b[0m\n",
      "\u001b[34m#metrics {\"StartTime\": 1658911246.310545, \"EndTime\": 1658911246.3105638, \"Dimensions\": {\"Algorithm\": \"Linear Learner\", \"Host\": \"algo-1\", \"Operation\": \"training\", \"epoch\": 9, \"model\": 9}, \"Metrics\": {\"train_multiclass_cross_entropy_objective\": {\"sum\": 0.8032108764648438, \"count\": 1, \"min\": 0.8032108764648438, \"max\": 0.8032108764648438}}}\u001b[0m\n",
      "\u001b[34m#metrics {\"StartTime\": 1658911246.310618, \"EndTime\": 1658911246.3106618, \"Dimensions\": {\"Algorithm\": \"Linear Learner\", \"Host\": \"algo-1\", \"Operation\": \"training\", \"epoch\": 9, \"model\": 10}, \"Metrics\": {\"train_multiclass_cross_entropy_objective\": {\"sum\": 1.0005331420898438, \"count\": 1, \"min\": 1.0005331420898438, \"max\": 1.0005331420898438}}}\u001b[0m\n",
      "\u001b[34m#metrics {\"StartTime\": 1658911246.310715, \"EndTime\": 1658911246.3107295, \"Dimensions\": {\"Algorithm\": \"Linear Learner\", \"Host\": \"algo-1\", \"Operation\": \"training\", \"epoch\": 9, \"model\": 11}, \"Metrics\": {\"train_multiclass_cross_entropy_objective\": {\"sum\": 0.755513671875, \"count\": 1, \"min\": 0.755513671875, \"max\": 0.755513671875}}}\u001b[0m\n",
      "\u001b[34m[07/27/2022 08:40:46 INFO 140094935398208] #quality_metric: host=algo-1, epoch=9, train multiclass_cross_entropy_objective <loss>=0.9618958129882812\u001b[0m\n",
      "\u001b[34m[2022-07-27 08:40:46.339] [tensorio] [info] epoch_stats={\"data_pipeline\": \"/opt/ml/input/data/validation\", \"epoch\": 29, \"duration\": 13, \"num_examples\": 1, \"num_bytes\": 11544}\u001b[0m\n",
      "\u001b[34m#metrics {\"StartTime\": 1658911246.343356, \"EndTime\": 1658911246.343422, \"Dimensions\": {\"Algorithm\": \"Linear Learner\", \"Host\": \"algo-1\", \"Operation\": \"training\", \"epoch\": 9, \"model\": 0}, \"Metrics\": {\"validation_multiclass_cross_entropy_objective\": {\"sum\": 0.9445367761560388, \"count\": 1, \"min\": 0.9445367761560388, \"max\": 0.9445367761560388}}}\u001b[0m\n",
      "\u001b[34m#metrics {\"StartTime\": 1658911246.3435462, \"EndTime\": 1658911246.3438287, \"Dimensions\": {\"Algorithm\": \"Linear Learner\", \"Host\": \"algo-1\", \"Operation\": \"training\", \"epoch\": 9, \"model\": 1}, \"Metrics\": {\"validation_multiclass_cross_entropy_objective\": {\"sum\": 0.9207396636138091, \"count\": 1, \"min\": 0.9207396636138091, \"max\": 0.9207396636138091}}}\u001b[0m\n",
      "\u001b[34m#metrics {\"StartTime\": 1658911246.3439214, \"EndTime\": 1658911246.3439748, \"Dimensions\": {\"Algorithm\": \"Linear Learner\", \"Host\": \"algo-1\", \"Operation\": \"training\", \"epoch\": 9, \"model\": 2}, \"Metrics\": {\"validation_multiclass_cross_entropy_objective\": {\"sum\": 0.8297453184385557, \"count\": 1, \"min\": 0.8297453184385557, \"max\": 0.8297453184385557}}}\u001b[0m\n",
      "\u001b[34m#metrics {\"StartTime\": 1658911246.3440409, \"EndTime\": 1658911246.3440928, \"Dimensions\": {\"Algorithm\": \"Linear Learner\", \"Host\": \"algo-1\", \"Operation\": \"training\", \"epoch\": 9, \"model\": 3}, \"Metrics\": {\"validation_multiclass_cross_entropy_objective\": {\"sum\": 0.8711527231577281, \"count\": 1, \"min\": 0.8711527231577281, \"max\": 0.8711527231577281}}}\u001b[0m\n",
      "\u001b[34m#metrics {\"StartTime\": 1658911246.3441827, \"EndTime\": 1658911246.344202, \"Dimensions\": {\"Algorithm\": \"Linear Learner\", \"Host\": \"algo-1\", \"Operation\": \"training\", \"epoch\": 9, \"model\": 4}, \"Metrics\": {\"validation_multiclass_cross_entropy_objective\": {\"sum\": 0.9443805454013584, \"count\": 1, \"min\": 0.9443805454013584, \"max\": 0.9443805454013584}}}\u001b[0m\n",
      "\u001b[34m#metrics {\"StartTime\": 1658911246.3457427, \"EndTime\": 1658911246.3458102, \"Dimensions\": {\"Algorithm\": \"Linear Learner\", \"Host\": \"algo-1\", \"Operation\": \"training\", \"epoch\": 9, \"model\": 5}, \"Metrics\": {\"validation_multiclass_cross_entropy_objective\": {\"sum\": 0.919510368828301, \"count\": 1, \"min\": 0.919510368828301, \"max\": 0.919510368828301}}}\u001b[0m\n",
      "\u001b[34m#metrics {\"StartTime\": 1658911246.3461754, \"EndTime\": 1658911246.3462558, \"Dimensions\": {\"Algorithm\": \"Linear Learner\", \"Host\": \"algo-1\", \"Operation\": \"training\", \"epoch\": 9, \"model\": 6}, \"Metrics\": {\"validation_multiclass_cross_entropy_objective\": {\"sum\": 0.8361467241166948, \"count\": 1, \"min\": 0.8361467241166948, \"max\": 0.8361467241166948}}}\u001b[0m\n",
      "\u001b[34m#metrics {\"StartTime\": 1658911246.3465443, \"EndTime\": 1658911246.3465712, \"Dimensions\": {\"Algorithm\": \"Linear Learner\", \"Host\": \"algo-1\", \"Operation\": \"training\", \"epoch\": 9, \"model\": 7}, \"Metrics\": {\"validation_multiclass_cross_entropy_objective\": {\"sum\": 0.9760390273085585, \"count\": 1, \"min\": 0.9760390273085585, \"max\": 0.9760390273085585}}}\u001b[0m\n",
      "\u001b[34m#metrics {\"StartTime\": 1658911246.3466723, \"EndTime\": 1658911246.3466923, \"Dimensions\": {\"Algorithm\": \"Linear Learner\", \"Host\": \"algo-1\", \"Operation\": \"training\", \"epoch\": 9, \"model\": 8}, \"Metrics\": {\"validation_multiclass_cross_entropy_objective\": {\"sum\": 0.7090885746586431, \"count\": 1, \"min\": 0.7090885746586431, \"max\": 0.7090885746586431}}}\u001b[0m\n",
      "\u001b[34m#metrics {\"StartTime\": 1658911246.3467503, \"EndTime\": 1658911246.3467667, \"Dimensions\": {\"Algorithm\": \"Linear Learner\", \"Host\": \"algo-1\", \"Operation\": \"training\", \"epoch\": 9, \"model\": 9}, \"Metrics\": {\"validation_multiclass_cross_entropy_objective\": {\"sum\": 0.8904751614407376, \"count\": 1, \"min\": 0.8904751614407376, \"max\": 0.8904751614407376}}}\u001b[0m\n",
      "\u001b[34m#metrics {\"StartTime\": 1658911246.3468215, \"EndTime\": 1658911246.346837, \"Dimensions\": {\"Algorithm\": \"Linear Learner\", \"Host\": \"algo-1\", \"Operation\": \"training\", \"epoch\": 9, \"model\": 10}, \"Metrics\": {\"validation_multiclass_cross_entropy_objective\": {\"sum\": 0.9873264072177647, \"count\": 1, \"min\": 0.9873264072177647, \"max\": 0.9873264072177647}}}\u001b[0m\n",
      "\u001b[34m#metrics {\"StartTime\": 1658911246.3468888, \"EndTime\": 1658911246.346904, \"Dimensions\": {\"Algorithm\": \"Linear Learner\", \"Host\": \"algo-1\", \"Operation\": \"training\", \"epoch\": 9, \"model\": 11}, \"Metrics\": {\"validation_multiclass_cross_entropy_objective\": {\"sum\": 0.732469232232721, \"count\": 1, \"min\": 0.732469232232721, \"max\": 0.732469232232721}}}\u001b[0m\n",
      "\u001b[34m[07/27/2022 08:40:46 INFO 140094935398208] #quality_metric: host=algo-1, epoch=9, validation multiclass_cross_entropy_objective <loss>=0.9445367761560388\u001b[0m\n",
      "\u001b[34m[07/27/2022 08:40:46 INFO 140094935398208] #early_stopping_criteria_metric: host=algo-1, epoch=9, criteria=multiclass_cross_entropy_objective, value=0.7090885746586431\u001b[0m\n",
      "\u001b[34m[07/27/2022 08:40:46 INFO 140094935398208] Epoch 9: Loss improved. Updating best model\u001b[0m\n",
      "\u001b[34m[07/27/2022 08:40:46 INFO 140094935398208] Saving model for epoch: 9\u001b[0m\n",
      "\u001b[34m[07/27/2022 08:40:46 INFO 140094935398208] Saved checkpoint to \"/tmp/tmp84kik0ye/mx-mod-0000.params\"\u001b[0m\n",
      "\u001b[34m[07/27/2022 08:40:46 INFO 140094935398208] #progress_metric: host=algo-1, completed 66.66666666666667 % of epochs\u001b[0m\n",
      "\u001b[34m#metrics {\"StartTime\": 1658911246.2797916, \"EndTime\": 1658911246.3653622, \"Dimensions\": {\"Algorithm\": \"Linear Learner\", \"Host\": \"algo-1\", \"Operation\": \"training\", \"epoch\": 9, \"Meta\": \"training_data_iter\"}, \"Metrics\": {\"Total Records Seen\": {\"sum\": 20536.0, \"count\": 1, \"min\": 20536, \"max\": 20536}, \"Total Batches Seen\": {\"sum\": 23.0, \"count\": 1, \"min\": 23, \"max\": 23}, \"Max Records Seen Between Resets\": {\"sum\": 1776.0, \"count\": 1, \"min\": 1776, \"max\": 1776}, \"Max Batches Seen Between Resets\": {\"sum\": 2.0, \"count\": 1, \"min\": 2, \"max\": 2}, \"Reset Count\": {\"sum\": 12.0, \"count\": 1, \"min\": 12, \"max\": 12}, \"Number of Records Since Last Reset\": {\"sum\": 1776.0, \"count\": 1, \"min\": 1776, \"max\": 1776}, \"Number of Batches Since Last Reset\": {\"sum\": 2.0, \"count\": 1, \"min\": 2, \"max\": 2}}}\u001b[0m\n",
      "\u001b[34m[07/27/2022 08:40:46 INFO 140094935398208] #throughput_metric: host=algo-1, train throughput=20717.566496270378 records/second\u001b[0m\n",
      "\u001b[34m[2022-07-27 08:40:46.489] [tensorio] [info] epoch_stats={\"data_pipeline\": \"/opt/ml/input/data/train\", \"epoch\": 24, \"duration\": 123, \"num_examples\": 2, \"num_bytes\": 92352}\u001b[0m\n",
      "\u001b[34m#metrics {\"StartTime\": 1658911246.489168, \"EndTime\": 1658911246.4892485, \"Dimensions\": {\"Algorithm\": \"Linear Learner\", \"Host\": \"algo-1\", \"Operation\": \"training\", \"epoch\": 10, \"model\": 0}, \"Metrics\": {\"train_multiclass_cross_entropy_objective\": {\"sum\": 0.9485713500976563, \"count\": 1, \"min\": 0.9485713500976563, \"max\": 0.9485713500976563}}}\u001b[0m\n",
      "\u001b[34m#metrics {\"StartTime\": 1658911246.4893548, \"EndTime\": 1658911246.4893782, \"Dimensions\": {\"Algorithm\": \"Linear Learner\", \"Host\": \"algo-1\", \"Operation\": \"training\", \"epoch\": 10, \"model\": 1}, \"Metrics\": {\"train_multiclass_cross_entropy_objective\": {\"sum\": 0.925982177734375, \"count\": 1, \"min\": 0.925982177734375, \"max\": 0.925982177734375}}}\u001b[0m\n",
      "\u001b[34m#metrics {\"StartTime\": 1658911246.4894357, \"EndTime\": 1658911246.4894526, \"Dimensions\": {\"Algorithm\": \"Linear Learner\", \"Host\": \"algo-1\", \"Operation\": \"training\", \"epoch\": 10, \"model\": 2}, \"Metrics\": {\"train_multiclass_cross_entropy_objective\": {\"sum\": 0.8388611450195312, \"count\": 1, \"min\": 0.8388611450195312, \"max\": 0.8388611450195312}}}\u001b[0m\n",
      "\u001b[34m#metrics {\"StartTime\": 1658911246.4895046, \"EndTime\": 1658911246.48952, \"Dimensions\": {\"Algorithm\": \"Linear Learner\", \"Host\": \"algo-1\", \"Operation\": \"training\", \"epoch\": 10, \"model\": 3}, \"Metrics\": {\"train_multiclass_cross_entropy_objective\": {\"sum\": 0.8776348876953125, \"count\": 1, \"min\": 0.8776348876953125, \"max\": 0.8776348876953125}}}\u001b[0m\n",
      "\u001b[34m#metrics {\"StartTime\": 1658911246.4895706, \"EndTime\": 1658911246.4895854, \"Dimensions\": {\"Algorithm\": \"Linear Learner\", \"Host\": \"algo-1\", \"Operation\": \"training\", \"epoch\": 10, \"model\": 4}, \"Metrics\": {\"train_multiclass_cross_entropy_objective\": {\"sum\": 0.949911376953125, \"count\": 1, \"min\": 0.949911376953125, \"max\": 0.949911376953125}}}\u001b[0m\n",
      "\u001b[34m#metrics {\"StartTime\": 1658911246.489638, \"EndTime\": 1658911246.4896574, \"Dimensions\": {\"Algorithm\": \"Linear Learner\", \"Host\": \"algo-1\", \"Operation\": \"training\", \"epoch\": 10, \"model\": 5}, \"Metrics\": {\"train_multiclass_cross_entropy_objective\": {\"sum\": 0.9256568603515625, \"count\": 1, \"min\": 0.9256568603515625, \"max\": 0.9256568603515625}}}\u001b[0m\n",
      "\u001b[34m#metrics {\"StartTime\": 1658911246.489706, \"EndTime\": 1658911246.4897215, \"Dimensions\": {\"Algorithm\": \"Linear Learner\", \"Host\": \"algo-1\", \"Operation\": \"training\", \"epoch\": 10, \"model\": 6}, \"Metrics\": {\"train_multiclass_cross_entropy_objective\": {\"sum\": 0.8485236206054687, \"count\": 1, \"min\": 0.8485236206054687, \"max\": 0.8485236206054687}}}\u001b[0m\n",
      "\u001b[34m#metrics {\"StartTime\": 1658911246.489772, \"EndTime\": 1658911246.4897914, \"Dimensions\": {\"Algorithm\": \"Linear Learner\", \"Host\": \"algo-1\", \"Operation\": \"training\", \"epoch\": 10, \"model\": 7}, \"Metrics\": {\"train_multiclass_cross_entropy_objective\": {\"sum\": 0.9800468139648437, \"count\": 1, \"min\": 0.9800468139648437, \"max\": 0.9800468139648437}}}\u001b[0m\n",
      "\u001b[34m#metrics {\"StartTime\": 1658911246.489841, \"EndTime\": 1658911246.4898565, \"Dimensions\": {\"Algorithm\": \"Linear Learner\", \"Host\": \"algo-1\", \"Operation\": \"training\", \"epoch\": 10, \"model\": 8}, \"Metrics\": {\"train_multiclass_cross_entropy_objective\": {\"sum\": 0.7232676391601562, \"count\": 1, \"min\": 0.7232676391601562, \"max\": 0.7232676391601562}}}\u001b[0m\n",
      "\u001b[34m#metrics {\"StartTime\": 1658911246.4899049, \"EndTime\": 1658911246.4899228, \"Dimensions\": {\"Algorithm\": \"Linear Learner\", \"Host\": \"algo-1\", \"Operation\": \"training\", \"epoch\": 10, \"model\": 9}, \"Metrics\": {\"train_multiclass_cross_entropy_objective\": {\"sum\": 0.9164950561523437, \"count\": 1, \"min\": 0.9164950561523437, \"max\": 0.9164950561523437}}}\u001b[0m\n",
      "\u001b[34m#metrics {\"StartTime\": 1658911246.4902048, \"EndTime\": 1658911246.490228, \"Dimensions\": {\"Algorithm\": \"Linear Learner\", \"Host\": \"algo-1\", \"Operation\": \"training\", \"epoch\": 10, \"model\": 10}, \"Metrics\": {\"train_multiclass_cross_entropy_objective\": {\"sum\": 0.9916439819335937, \"count\": 1, \"min\": 0.9916439819335937, \"max\": 0.9916439819335937}}}\u001b[0m\n",
      "\u001b[34m#metrics {\"StartTime\": 1658911246.490288, \"EndTime\": 1658911246.4903064, \"Dimensions\": {\"Algorithm\": \"Linear Learner\", \"Host\": \"algo-1\", \"Operation\": \"training\", \"epoch\": 10, \"model\": 11}, \"Metrics\": {\"train_multiclass_cross_entropy_objective\": {\"sum\": 0.747091552734375, \"count\": 1, \"min\": 0.747091552734375, \"max\": 0.747091552734375}}}\u001b[0m\n",
      "\u001b[34m[07/27/2022 08:40:46 INFO 140094935398208] #quality_metric: host=algo-1, epoch=10, train multiclass_cross_entropy_objective <loss>=0.9485713500976563\u001b[0m\n",
      "\u001b[34m[2022-07-27 08:40:46.523] [tensorio] [info] epoch_stats={\"data_pipeline\": \"/opt/ml/input/data/validation\", \"epoch\": 32, \"duration\": 14, \"num_examples\": 1, \"num_bytes\": 11544}\u001b[0m\n",
      "\u001b[34m#metrics {\"StartTime\": 1658911246.5280468, \"EndTime\": 1658911246.5280921, \"Dimensions\": {\"Algorithm\": \"Linear Learner\", \"Host\": \"algo-1\", \"Operation\": \"training\", \"epoch\": 10, \"model\": 0}, \"Metrics\": {\"validation_multiclass_cross_entropy_objective\": {\"sum\": 0.9316181492161106, \"count\": 1, \"min\": 0.9316181492161106, \"max\": 0.9316181492161106}}}\u001b[0m\n",
      "\u001b[34m#metrics {\"StartTime\": 1658911246.5281801, \"EndTime\": 1658911246.5282037, \"Dimensions\": {\"Algorithm\": \"Linear Learner\", \"Host\": \"algo-1\", \"Operation\": \"training\", \"epoch\": 10, \"model\": 1}, \"Metrics\": {\"validation_multiclass_cross_entropy_objective\": {\"sum\": 0.9051046285543356, \"count\": 1, \"min\": 0.9051046285543356, \"max\": 0.9051046285543356}}}\u001b[0m\n",
      "\u001b[34m#metrics {\"StartTime\": 1658911246.5282667, \"EndTime\": 1658911246.528286, \"Dimensions\": {\"Algorithm\": \"Linear Learner\", \"Host\": \"algo-1\", \"Operation\": \"training\", \"epoch\": 10, \"model\": 2}, \"Metrics\": {\"validation_multiclass_cross_entropy_objective\": {\"sum\": 0.8061451267551731, \"count\": 1, \"min\": 0.8061451267551731, \"max\": 0.8061451267551731}}}\u001b[0m\n",
      "\u001b[34m#metrics {\"StartTime\": 1658911246.5283456, \"EndTime\": 1658911246.528364, \"Dimensions\": {\"Algorithm\": \"Linear Learner\", \"Host\": \"algo-1\", \"Operation\": \"training\", \"epoch\": 10, \"model\": 3}, \"Metrics\": {\"validation_multiclass_cross_entropy_objective\": {\"sum\": 0.8541580062728744, \"count\": 1, \"min\": 0.8541580062728744, \"max\": 0.8541580062728744}}}\u001b[0m\n",
      "\u001b[34m#metrics {\"StartTime\": 1658911246.5284202, \"EndTime\": 1658911246.5284383, \"Dimensions\": {\"Algorithm\": \"Linear Learner\", \"Host\": \"algo-1\", \"Operation\": \"training\", \"epoch\": 10, \"model\": 4}, \"Metrics\": {\"validation_multiclass_cross_entropy_objective\": {\"sum\": 0.9302162651543144, \"count\": 1, \"min\": 0.9302162651543144, \"max\": 0.9302162651543144}}}\u001b[0m\n",
      "\u001b[34m#metrics {\"StartTime\": 1658911246.528492, \"EndTime\": 1658911246.528509, \"Dimensions\": {\"Algorithm\": \"Linear Learner\", \"Host\": \"algo-1\", \"Operation\": \"training\", \"epoch\": 10, \"model\": 5}, \"Metrics\": {\"validation_multiclass_cross_entropy_objective\": {\"sum\": 0.9107974628070453, \"count\": 1, \"min\": 0.9107974628070453, \"max\": 0.9107974628070453}}}\u001b[0m\n",
      "\u001b[34m#metrics {\"StartTime\": 1658911246.5286136, \"EndTime\": 1658911246.5286362, \"Dimensions\": {\"Algorithm\": \"Linear Learner\", \"Host\": \"algo-1\", \"Operation\": \"training\", \"epoch\": 10, \"model\": 6}, \"Metrics\": {\"validation_multiclass_cross_entropy_objective\": {\"sum\": 0.8320942784214879, \"count\": 1, \"min\": 0.8320942784214879, \"max\": 0.8320942784214879}}}\u001b[0m\n",
      "\u001b[34m#metrics {\"StartTime\": 1658911246.5286899, \"EndTime\": 1658911246.5287063, \"Dimensions\": {\"Algorithm\": \"Linear Learner\", \"Host\": \"algo-1\", \"Operation\": \"training\", \"epoch\": 10, \"model\": 7}, \"Metrics\": {\"validation_multiclass_cross_entropy_objective\": {\"sum\": 0.965047887853674, \"count\": 1, \"min\": 0.965047887853674, \"max\": 0.965047887853674}}}\u001b[0m\n",
      "\u001b[34m#metrics {\"StartTime\": 1658911246.5287588, \"EndTime\": 1658911246.5287745, \"Dimensions\": {\"Algorithm\": \"Linear Learner\", \"Host\": \"algo-1\", \"Operation\": \"training\", \"epoch\": 10, \"model\": 8}, \"Metrics\": {\"validation_multiclass_cross_entropy_objective\": {\"sum\": 0.700357385583826, \"count\": 1, \"min\": 0.700357385583826, \"max\": 0.700357385583826}}}\u001b[0m\n",
      "\u001b[34m#metrics {\"StartTime\": 1658911246.528822, \"EndTime\": 1658911246.5288389, \"Dimensions\": {\"Algorithm\": \"Linear Learner\", \"Host\": \"algo-1\", \"Operation\": \"training\", \"epoch\": 10, \"model\": 9}, \"Metrics\": {\"validation_multiclass_cross_entropy_objective\": {\"sum\": 1.1265192117776957, \"count\": 1, \"min\": 1.1265192117776957, \"max\": 1.1265192117776957}}}\u001b[0m\n",
      "\u001b[34m#metrics {\"StartTime\": 1658911246.5288928, \"EndTime\": 1658911246.528909, \"Dimensions\": {\"Algorithm\": \"Linear Learner\", \"Host\": \"algo-1\", \"Operation\": \"training\", \"epoch\": 10, \"model\": 10}, \"Metrics\": {\"validation_multiclass_cross_entropy_objective\": {\"sum\": 0.9778387396185247, \"count\": 1, \"min\": 0.9778387396185247, \"max\": 0.9778387396185247}}}\u001b[0m\n",
      "\u001b[34m#metrics {\"StartTime\": 1658911246.528961, \"EndTime\": 1658911246.528977, \"Dimensions\": {\"Algorithm\": \"Linear Learner\", \"Host\": \"algo-1\", \"Operation\": \"training\", \"epoch\": 10, \"model\": 11}, \"Metrics\": {\"validation_multiclass_cross_entropy_objective\": {\"sum\": 0.7242622719154702, \"count\": 1, \"min\": 0.7242622719154702, \"max\": 0.7242622719154702}}}\u001b[0m\n",
      "\u001b[34m[07/27/2022 08:40:46 INFO 140094935398208] #quality_metric: host=algo-1, epoch=10, validation multiclass_cross_entropy_objective <loss>=0.9316181492161106\u001b[0m\n",
      "\u001b[34m[07/27/2022 08:40:46 INFO 140094935398208] #early_stopping_criteria_metric: host=algo-1, epoch=10, criteria=multiclass_cross_entropy_objective, value=0.700357385583826\u001b[0m\n",
      "\u001b[34m[07/27/2022 08:40:46 INFO 140094935398208] Epoch 10: Loss improved. Updating best model\u001b[0m\n",
      "\u001b[34m[07/27/2022 08:40:46 INFO 140094935398208] Saving model for epoch: 10\u001b[0m\n",
      "\u001b[34m[07/27/2022 08:40:46 INFO 140094935398208] Saved checkpoint to \"/tmp/tmpfrb4btj9/mx-mod-0000.params\"\u001b[0m\n",
      "\u001b[34m[07/27/2022 08:40:46 INFO 140094935398208] #progress_metric: host=algo-1, completed 73.33333333333333 % of epochs\u001b[0m\n",
      "\u001b[34m#metrics {\"StartTime\": 1658911246.3656876, \"EndTime\": 1658911246.543064, \"Dimensions\": {\"Algorithm\": \"Linear Learner\", \"Host\": \"algo-1\", \"Operation\": \"training\", \"epoch\": 10, \"Meta\": \"training_data_iter\"}, \"Metrics\": {\"Total Records Seen\": {\"sum\": 22312.0, \"count\": 1, \"min\": 22312, \"max\": 22312}, \"Total Batches Seen\": {\"sum\": 25.0, \"count\": 1, \"min\": 25, \"max\": 25}, \"Max Records Seen Between Resets\": {\"sum\": 1776.0, \"count\": 1, \"min\": 1776, \"max\": 1776}, \"Max Batches Seen Between Resets\": {\"sum\": 2.0, \"count\": 1, \"min\": 2, \"max\": 2}, \"Reset Count\": {\"sum\": 13.0, \"count\": 1, \"min\": 13, \"max\": 13}, \"Number of Records Since Last Reset\": {\"sum\": 1776.0, \"count\": 1, \"min\": 1776, \"max\": 1776}, \"Number of Batches Since Last Reset\": {\"sum\": 2.0, \"count\": 1, \"min\": 2, \"max\": 2}}}\u001b[0m\n",
      "\u001b[34m[07/27/2022 08:40:46 INFO 140094935398208] #throughput_metric: host=algo-1, train throughput=9993.713119669645 records/second\u001b[0m\n",
      "\u001b[34m[2022-07-27 08:40:46.575] [tensorio] [info] epoch_stats={\"data_pipeline\": \"/opt/ml/input/data/train\", \"epoch\": 26, \"duration\": 31, \"num_examples\": 2, \"num_bytes\": 92352}\u001b[0m\n",
      "\u001b[34m#metrics {\"StartTime\": 1658911246.5754497, \"EndTime\": 1658911246.5755267, \"Dimensions\": {\"Algorithm\": \"Linear Learner\", \"Host\": \"algo-1\", \"Operation\": \"training\", \"epoch\": 11, \"model\": 0}, \"Metrics\": {\"train_multiclass_cross_entropy_objective\": {\"sum\": 0.936486328125, \"count\": 1, \"min\": 0.936486328125, \"max\": 0.936486328125}}}\u001b[0m\n",
      "\u001b[34m#metrics {\"StartTime\": 1658911246.5756397, \"EndTime\": 1658911246.575665, \"Dimensions\": {\"Algorithm\": \"Linear Learner\", \"Host\": \"algo-1\", \"Operation\": \"training\", \"epoch\": 11, \"model\": 1}, \"Metrics\": {\"train_multiclass_cross_entropy_objective\": {\"sum\": 0.9114187622070312, \"count\": 1, \"min\": 0.9114187622070312, \"max\": 0.9114187622070312}}}\u001b[0m\n",
      "\u001b[34m#metrics {\"StartTime\": 1658911246.5757294, \"EndTime\": 1658911246.5757475, \"Dimensions\": {\"Algorithm\": \"Linear Learner\", \"Host\": \"algo-1\", \"Operation\": \"training\", \"epoch\": 11, \"model\": 2}, \"Metrics\": {\"train_multiclass_cross_entropy_objective\": {\"sum\": 0.8171005859375, \"count\": 1, \"min\": 0.8171005859375, \"max\": 0.8171005859375}}}\u001b[0m\n",
      "\u001b[34m#metrics {\"StartTime\": 1658911246.5758047, \"EndTime\": 1658911246.575822, \"Dimensions\": {\"Algorithm\": \"Linear Learner\", \"Host\": \"algo-1\", \"Operation\": \"training\", \"epoch\": 11, \"model\": 3}, \"Metrics\": {\"train_multiclass_cross_entropy_objective\": {\"sum\": 0.8616476440429688, \"count\": 1, \"min\": 0.8616476440429688, \"max\": 0.8616476440429688}}}\u001b[0m\n",
      "\u001b[34m#metrics {\"StartTime\": 1658911246.5758755, \"EndTime\": 1658911246.5758917, \"Dimensions\": {\"Algorithm\": \"Linear Learner\", \"Host\": \"algo-1\", \"Operation\": \"training\", \"epoch\": 11, \"model\": 4}, \"Metrics\": {\"train_multiclass_cross_entropy_objective\": {\"sum\": 0.9363878784179688, \"count\": 1, \"min\": 0.9363878784179688, \"max\": 0.9363878784179688}}}\u001b[0m\n",
      "\u001b[34m#metrics {\"StartTime\": 1658911246.575947, \"EndTime\": 1658911246.5759628, \"Dimensions\": {\"Algorithm\": \"Linear Learner\", \"Host\": \"algo-1\", \"Operation\": \"training\", \"epoch\": 11, \"model\": 5}, \"Metrics\": {\"train_multiclass_cross_entropy_objective\": {\"sum\": 0.9172357177734375, \"count\": 1, \"min\": 0.9172357177734375, \"max\": 0.9172357177734375}}}\u001b[0m\n",
      "\u001b[34m#metrics {\"StartTime\": 1658911246.5760171, \"EndTime\": 1658911246.5760334, \"Dimensions\": {\"Algorithm\": \"Linear Learner\", \"Host\": \"algo-1\", \"Operation\": \"training\", \"epoch\": 11, \"model\": 6}, \"Metrics\": {\"train_multiclass_cross_entropy_objective\": {\"sum\": 0.8457938842773437, \"count\": 1, \"min\": 0.8457938842773437, \"max\": 0.8457938842773437}}}\u001b[0m\n",
      "\u001b[34m#metrics {\"StartTime\": 1658911246.5760899, \"EndTime\": 1658911246.5761058, \"Dimensions\": {\"Algorithm\": \"Linear Learner\", \"Host\": \"algo-1\", \"Operation\": \"training\", \"epoch\": 11, \"model\": 7}, \"Metrics\": {\"train_multiclass_cross_entropy_objective\": {\"sum\": 0.9697664184570313, \"count\": 1, \"min\": 0.9697664184570313, \"max\": 0.9697664184570313}}}\u001b[0m\n",
      "\u001b[34m#metrics {\"StartTime\": 1658911246.5761564, \"EndTime\": 1658911246.5761726, \"Dimensions\": {\"Algorithm\": \"Linear Learner\", \"Host\": \"algo-1\", \"Operation\": \"training\", \"epoch\": 11, \"model\": 8}, \"Metrics\": {\"train_multiclass_cross_entropy_objective\": {\"sum\": 0.7157525024414062, \"count\": 1, \"min\": 0.7157525024414062, \"max\": 0.7157525024414062}}}\u001b[0m\n",
      "\u001b[34m#metrics {\"StartTime\": 1658911246.576225, \"EndTime\": 1658911246.5762405, \"Dimensions\": {\"Algorithm\": \"Linear Learner\", \"Host\": \"algo-1\", \"Operation\": \"training\", \"epoch\": 11, \"model\": 9}, \"Metrics\": {\"train_multiclass_cross_entropy_objective\": {\"sum\": 1.1543360595703125, \"count\": 1, \"min\": 1.1543360595703125, \"max\": 1.1543360595703125}}}\u001b[0m\n",
      "\u001b[34m#metrics {\"StartTime\": 1658911246.5762985, \"EndTime\": 1658911246.5763185, \"Dimensions\": {\"Algorithm\": \"Linear Learner\", \"Host\": \"algo-1\", \"Operation\": \"training\", \"epoch\": 11, \"model\": 10}, \"Metrics\": {\"train_multiclass_cross_entropy_objective\": {\"sum\": 0.982904296875, \"count\": 1, \"min\": 0.982904296875, \"max\": 0.982904296875}}}\u001b[0m\n",
      "\u001b[34m#metrics {\"StartTime\": 1658911246.5763695, \"EndTime\": 1658911246.5763862, \"Dimensions\": {\"Algorithm\": \"Linear Learner\", \"Host\": \"algo-1\", \"Operation\": \"training\", \"epoch\": 11, \"model\": 11}, \"Metrics\": {\"train_multiclass_cross_entropy_objective\": {\"sum\": 0.7418512573242187, \"count\": 1, \"min\": 0.7418512573242187, \"max\": 0.7418512573242187}}}\u001b[0m\n",
      "\u001b[34m[07/27/2022 08:40:46 INFO 140094935398208] #quality_metric: host=algo-1, epoch=11, train multiclass_cross_entropy_objective <loss>=0.936486328125\u001b[0m\n",
      "\u001b[34m[2022-07-27 08:40:46.605] [tensorio] [info] epoch_stats={\"data_pipeline\": \"/opt/ml/input/data/validation\", \"epoch\": 35, \"duration\": 16, \"num_examples\": 1, \"num_bytes\": 11544}\u001b[0m\n",
      "\u001b[34m#metrics {\"StartTime\": 1658911246.6111214, \"EndTime\": 1658911246.6111965, \"Dimensions\": {\"Algorithm\": \"Linear Learner\", \"Host\": \"algo-1\", \"Operation\": \"training\", \"epoch\": 11, \"model\": 0}, \"Metrics\": {\"validation_multiclass_cross_entropy_objective\": {\"sum\": 0.9206571149396466, \"count\": 1, \"min\": 0.9206571149396466, \"max\": 0.9206571149396466}}}\u001b[0m\n",
      "\u001b[34m#metrics {\"StartTime\": 1658911246.6113226, \"EndTime\": 1658911246.6113472, \"Dimensions\": {\"Algorithm\": \"Linear Learner\", \"Host\": \"algo-1\", \"Operation\": \"training\", \"epoch\": 11, \"model\": 1}, \"Metrics\": {\"validation_multiclass_cross_entropy_objective\": {\"sum\": 0.8926412221547719, \"count\": 1, \"min\": 0.8926412221547719, \"max\": 0.8926412221547719}}}\u001b[0m\n",
      "\u001b[34m#metrics {\"StartTime\": 1658911246.6114137, \"EndTime\": 1658911246.6114337, \"Dimensions\": {\"Algorithm\": \"Linear Learner\", \"Host\": \"algo-1\", \"Operation\": \"training\", \"epoch\": 11, \"model\": 2}, \"Metrics\": {\"validation_multiclass_cross_entropy_objective\": {\"sum\": 0.79347174017279, \"count\": 1, \"min\": 0.79347174017279, \"max\": 0.79347174017279}}}\u001b[0m\n",
      "\u001b[34m#metrics {\"StartTime\": 1658911246.6114938, \"EndTime\": 1658911246.6115124, \"Dimensions\": {\"Algorithm\": \"Linear Learner\", \"Host\": \"algo-1\", \"Operation\": \"training\", \"epoch\": 11, \"model\": 3}, \"Metrics\": {\"validation_multiclass_cross_entropy_objective\": {\"sum\": 0.8417616148252745, \"count\": 1, \"min\": 0.8417616148252745, \"max\": 0.8417616148252745}}}\u001b[0m\n",
      "\u001b[34m#metrics {\"StartTime\": 1658911246.6115706, \"EndTime\": 1658911246.6115866, \"Dimensions\": {\"Algorithm\": \"Linear Learner\", \"Host\": \"algo-1\", \"Operation\": \"training\", \"epoch\": 11, \"model\": 4}, \"Metrics\": {\"validation_multiclass_cross_entropy_objective\": {\"sum\": 0.9168795336474169, \"count\": 1, \"min\": 0.9168795336474169, \"max\": 0.9168795336474169}}}\u001b[0m\n",
      "\u001b[34m#metrics {\"StartTime\": 1658911246.611638, \"EndTime\": 1658911246.6116533, \"Dimensions\": {\"Algorithm\": \"Linear Learner\", \"Host\": \"algo-1\", \"Operation\": \"training\", \"epoch\": 11, \"model\": 5}, \"Metrics\": {\"validation_multiclass_cross_entropy_objective\": {\"sum\": 0.9027696214280687, \"count\": 1, \"min\": 0.9027696214280687, \"max\": 0.9027696214280687}}}\u001b[0m\n",
      "\u001b[34m#metrics {\"StartTime\": 1658911246.611706, \"EndTime\": 1658911246.6117222, \"Dimensions\": {\"Algorithm\": \"Linear Learner\", \"Host\": \"algo-1\", \"Operation\": \"training\", \"epoch\": 11, \"model\": 6}, \"Metrics\": {\"validation_multiclass_cross_entropy_objective\": {\"sum\": 0.8300546182168497, \"count\": 1, \"min\": 0.8300546182168497, \"max\": 0.8300546182168497}}}\u001b[0m\n",
      "\u001b[34m#metrics {\"StartTime\": 1658911246.6117723, \"EndTime\": 1658911246.611787, \"Dimensions\": {\"Algorithm\": \"Linear Learner\", \"Host\": \"algo-1\", \"Operation\": \"training\", \"epoch\": 11, \"model\": 7}, \"Metrics\": {\"validation_multiclass_cross_entropy_objective\": {\"sum\": 0.9552351118208052, \"count\": 1, \"min\": 0.9552351118208052, \"max\": 0.9552351118208052}}}\u001b[0m\n",
      "\u001b[34m#metrics {\"StartTime\": 1658911246.61184, \"EndTime\": 1658911246.6118553, \"Dimensions\": {\"Algorithm\": \"Linear Learner\", \"Host\": \"algo-1\", \"Operation\": \"training\", \"epoch\": 11, \"model\": 8}, \"Metrics\": {\"validation_multiclass_cross_entropy_objective\": {\"sum\": 0.6932918101817638, \"count\": 1, \"min\": 0.6932918101817638, \"max\": 0.6932918101817638}}}\u001b[0m\n",
      "\u001b[34m#metrics {\"StartTime\": 1658911246.611908, \"EndTime\": 1658911246.6119254, \"Dimensions\": {\"Algorithm\": \"Linear Learner\", \"Host\": \"algo-1\", \"Operation\": \"training\", \"epoch\": 11, \"model\": 9}, \"Metrics\": {\"validation_multiclass_cross_entropy_objective\": {\"sum\": 0.8486811319986979, \"count\": 1, \"min\": 0.8486811319986979, \"max\": 0.8486811319986979}}}\u001b[0m\n",
      "\u001b[34m#metrics {\"StartTime\": 1658911246.611977, \"EndTime\": 1658911246.6119945, \"Dimensions\": {\"Algorithm\": \"Linear Learner\", \"Host\": \"algo-1\", \"Operation\": \"training\", \"epoch\": 11, \"model\": 10}, \"Metrics\": {\"validation_multiclass_cross_entropy_objective\": {\"sum\": 0.9689559936523438, \"count\": 1, \"min\": 0.9689559936523438, \"max\": 0.9689559936523438}}}\u001b[0m\n",
      "\u001b[34m#metrics {\"StartTime\": 1658911246.6126547, \"EndTime\": 1658911246.6126828, \"Dimensions\": {\"Algorithm\": \"Linear Learner\", \"Host\": \"algo-1\", \"Operation\": \"training\", \"epoch\": 11, \"model\": 11}, \"Metrics\": {\"validation_multiclass_cross_entropy_objective\": {\"sum\": 0.7209465095588753, \"count\": 1, \"min\": 0.7209465095588753, \"max\": 0.7209465095588753}}}\u001b[0m\n",
      "\u001b[34m[07/27/2022 08:40:46 INFO 140094935398208] #quality_metric: host=algo-1, epoch=11, validation multiclass_cross_entropy_objective <loss>=0.9206571149396466\u001b[0m\n",
      "\u001b[34m[07/27/2022 08:40:46 INFO 140094935398208] #early_stopping_criteria_metric: host=algo-1, epoch=11, criteria=multiclass_cross_entropy_objective, value=0.6932918101817638\u001b[0m\n",
      "\u001b[34m[07/27/2022 08:40:46 INFO 140094935398208] Epoch 11: Loss improved. Updating best model\u001b[0m\n",
      "\u001b[34m[07/27/2022 08:40:46 INFO 140094935398208] Saving model for epoch: 11\u001b[0m\n",
      "\u001b[34m[07/27/2022 08:40:46 INFO 140094935398208] Saved checkpoint to \"/tmp/tmp24ppn_dr/mx-mod-0000.params\"\u001b[0m\n",
      "\u001b[34m[07/27/2022 08:40:46 INFO 140094935398208] #progress_metric: host=algo-1, completed 80.0 % of epochs\u001b[0m\n",
      "\u001b[34m#metrics {\"StartTime\": 1658911246.5435917, \"EndTime\": 1658911246.628043, \"Dimensions\": {\"Algorithm\": \"Linear Learner\", \"Host\": \"algo-1\", \"Operation\": \"training\", \"epoch\": 11, \"Meta\": \"training_data_iter\"}, \"Metrics\": {\"Total Records Seen\": {\"sum\": 24088.0, \"count\": 1, \"min\": 24088, \"max\": 24088}, \"Total Batches Seen\": {\"sum\": 27.0, \"count\": 1, \"min\": 27, \"max\": 27}, \"Max Records Seen Between Resets\": {\"sum\": 1776.0, \"count\": 1, \"min\": 1776, \"max\": 1776}, \"Max Batches Seen Between Resets\": {\"sum\": 2.0, \"count\": 1, \"min\": 2, \"max\": 2}, \"Reset Count\": {\"sum\": 14.0, \"count\": 1, \"min\": 14, \"max\": 14}, \"Number of Records Since Last Reset\": {\"sum\": 1776.0, \"count\": 1, \"min\": 1776, \"max\": 1776}, \"Number of Batches Since Last Reset\": {\"sum\": 2.0, \"count\": 1, \"min\": 2, \"max\": 2}}}\u001b[0m\n",
      "\u001b[34m[07/27/2022 08:40:46 INFO 140094935398208] #throughput_metric: host=algo-1, train throughput=20937.449488163966 records/second\u001b[0m\n",
      "\u001b[34m[2022-07-27 08:40:46.657] [tensorio] [info] epoch_stats={\"data_pipeline\": \"/opt/ml/input/data/train\", \"epoch\": 28, \"duration\": 26, \"num_examples\": 2, \"num_bytes\": 92352}\u001b[0m\n",
      "\u001b[34m#metrics {\"StartTime\": 1658911246.6574361, \"EndTime\": 1658911246.6575756, \"Dimensions\": {\"Algorithm\": \"Linear Learner\", \"Host\": \"algo-1\", \"Operation\": \"training\", \"epoch\": 12, \"model\": 0}, \"Metrics\": {\"train_multiclass_cross_entropy_objective\": {\"sum\": 0.9263245849609375, \"count\": 1, \"min\": 0.9263245849609375, \"max\": 0.9263245849609375}}}\u001b[0m\n",
      "\u001b[34m#metrics {\"StartTime\": 1658911246.657747, \"EndTime\": 1658911246.6577752, \"Dimensions\": {\"Algorithm\": \"Linear Learner\", \"Host\": \"algo-1\", \"Operation\": \"training\", \"epoch\": 12, \"model\": 1}, \"Metrics\": {\"train_multiclass_cross_entropy_objective\": {\"sum\": 0.8999277954101562, \"count\": 1, \"min\": 0.8999277954101562, \"max\": 0.8999277954101562}}}\u001b[0m\n",
      "\u001b[34m#metrics {\"StartTime\": 1658911246.6578705, \"EndTime\": 1658911246.6578918, \"Dimensions\": {\"Algorithm\": \"Linear Learner\", \"Host\": \"algo-1\", \"Operation\": \"training\", \"epoch\": 12, \"model\": 2}, \"Metrics\": {\"train_multiclass_cross_entropy_objective\": {\"sum\": 0.8059401245117187, \"count\": 1, \"min\": 0.8059401245117187, \"max\": 0.8059401245117187}}}\u001b[0m\n",
      "\u001b[34m#metrics {\"StartTime\": 1658911246.6579933, \"EndTime\": 1658911246.658016, \"Dimensions\": {\"Algorithm\": \"Linear Learner\", \"Host\": \"algo-1\", \"Operation\": \"training\", \"epoch\": 12, \"model\": 3}, \"Metrics\": {\"train_multiclass_cross_entropy_objective\": {\"sum\": 0.8501904296875, \"count\": 1, \"min\": 0.8501904296875, \"max\": 0.8501904296875}}}\u001b[0m\n",
      "\u001b[34m#metrics {\"StartTime\": 1658911246.6580756, \"EndTime\": 1658911246.6580951, \"Dimensions\": {\"Algorithm\": \"Linear Learner\", \"Host\": \"algo-1\", \"Operation\": \"training\", \"epoch\": 12, \"model\": 4}, \"Metrics\": {\"train_multiclass_cross_entropy_objective\": {\"sum\": 0.9235873413085938, \"count\": 1, \"min\": 0.9235873413085938, \"max\": 0.9235873413085938}}}\u001b[0m\n",
      "\u001b[34m#metrics {\"StartTime\": 1658911246.658183, \"EndTime\": 1658911246.6582103, \"Dimensions\": {\"Algorithm\": \"Linear Learner\", \"Host\": \"algo-1\", \"Operation\": \"training\", \"epoch\": 12, \"model\": 5}, \"Metrics\": {\"train_multiclass_cross_entropy_objective\": {\"sum\": 0.9092908325195312, \"count\": 1, \"min\": 0.9092908325195312, \"max\": 0.9092908325195312}}}\u001b[0m\n",
      "\u001b[34m#metrics {\"StartTime\": 1658911246.6583102, \"EndTime\": 1658911246.6583323, \"Dimensions\": {\"Algorithm\": \"Linear Learner\", \"Host\": \"algo-1\", \"Operation\": \"training\", \"epoch\": 12, \"model\": 6}, \"Metrics\": {\"train_multiclass_cross_entropy_objective\": {\"sum\": 0.8428941040039063, \"count\": 1, \"min\": 0.8428941040039063, \"max\": 0.8428941040039063}}}\u001b[0m\n",
      "\u001b[34m#metrics {\"StartTime\": 1658911246.6584504, \"EndTime\": 1658911246.6584709, \"Dimensions\": {\"Algorithm\": \"Linear Learner\", \"Host\": \"algo-1\", \"Operation\": \"training\", \"epoch\": 12, \"model\": 7}, \"Metrics\": {\"train_multiclass_cross_entropy_objective\": {\"sum\": 0.9606159057617187, \"count\": 1, \"min\": 0.9606159057617187, \"max\": 0.9606159057617187}}}\u001b[0m\n",
      "\u001b[34m#metrics {\"StartTime\": 1658911246.6585782, \"EndTime\": 1658911246.6585994, \"Dimensions\": {\"Algorithm\": \"Linear Learner\", \"Host\": \"algo-1\", \"Operation\": \"training\", \"epoch\": 12, \"model\": 8}, \"Metrics\": {\"train_multiclass_cross_entropy_objective\": {\"sum\": 0.7100371704101562, \"count\": 1, \"min\": 0.7100371704101562, \"max\": 0.7100371704101562}}}\u001b[0m\n",
      "\u001b[34m#metrics {\"StartTime\": 1658911246.6587021, \"EndTime\": 1658911246.6587222, \"Dimensions\": {\"Algorithm\": \"Linear Learner\", \"Host\": \"algo-1\", \"Operation\": \"training\", \"epoch\": 12, \"model\": 9}, \"Metrics\": {\"train_multiclass_cross_entropy_objective\": {\"sum\": 0.8775864868164063, \"count\": 1, \"min\": 0.8775864868164063, \"max\": 0.8775864868164063}}}\u001b[0m\n",
      "\u001b[34m#metrics {\"StartTime\": 1658911246.658816, \"EndTime\": 1658911246.6588373, \"Dimensions\": {\"Algorithm\": \"Linear Learner\", \"Host\": \"algo-1\", \"Operation\": \"training\", \"epoch\": 12, \"model\": 10}, \"Metrics\": {\"train_multiclass_cross_entropy_objective\": {\"sum\": 0.9748095703125, \"count\": 1, \"min\": 0.9748095703125, \"max\": 0.9748095703125}}}\u001b[0m\n",
      "\u001b[34m#metrics {\"StartTime\": 1658911246.6589391, \"EndTime\": 1658911246.6589587, \"Dimensions\": {\"Algorithm\": \"Linear Learner\", \"Host\": \"algo-1\", \"Operation\": \"training\", \"epoch\": 12, \"model\": 11}, \"Metrics\": {\"train_multiclass_cross_entropy_objective\": {\"sum\": 0.7370922241210938, \"count\": 1, \"min\": 0.7370922241210938, \"max\": 0.7370922241210938}}}\u001b[0m\n",
      "\u001b[34m[07/27/2022 08:40:46 INFO 140094935398208] #quality_metric: host=algo-1, epoch=12, train multiclass_cross_entropy_objective <loss>=0.9263245849609375\u001b[0m\n",
      "\u001b[34m[2022-07-27 08:40:46.690] [tensorio] [info] epoch_stats={\"data_pipeline\": \"/opt/ml/input/data/validation\", \"epoch\": 38, \"duration\": 17, \"num_examples\": 1, \"num_bytes\": 11544}\u001b[0m\n",
      "\u001b[34m#metrics {\"StartTime\": 1658911246.6955104, \"EndTime\": 1658911246.6955884, \"Dimensions\": {\"Algorithm\": \"Linear Learner\", \"Host\": \"algo-1\", \"Operation\": \"training\", \"epoch\": 12, \"model\": 0}, \"Metrics\": {\"validation_multiclass_cross_entropy_objective\": {\"sum\": 0.9108252310538077, \"count\": 1, \"min\": 0.9108252310538077, \"max\": 0.9108252310538077}}}\u001b[0m\n",
      "\u001b[34m#metrics {\"StartTime\": 1658911246.6960025, \"EndTime\": 1658911246.6960335, \"Dimensions\": {\"Algorithm\": \"Linear Learner\", \"Host\": \"algo-1\", \"Operation\": \"training\", \"epoch\": 12, \"model\": 1}, \"Metrics\": {\"validation_multiclass_cross_entropy_objective\": {\"sum\": 0.8820520349451013, \"count\": 1, \"min\": 0.8820520349451013, \"max\": 0.8820520349451013}}}\u001b[0m\n",
      "\u001b[34m#metrics {\"StartTime\": 1658911246.6963565, \"EndTime\": 1658911246.6963842, \"Dimensions\": {\"Algorithm\": \"Linear Learner\", \"Host\": \"algo-1\", \"Operation\": \"training\", \"epoch\": 12, \"model\": 2}, \"Metrics\": {\"validation_multiclass_cross_entropy_objective\": {\"sum\": 0.7874741425385346, \"count\": 1, \"min\": 0.7874741425385346, \"max\": 0.7874741425385346}}}\u001b[0m\n",
      "\u001b[34m#metrics {\"StartTime\": 1658911246.6965075, \"EndTime\": 1658911246.6965322, \"Dimensions\": {\"Algorithm\": \"Linear Learner\", \"Host\": \"algo-1\", \"Operation\": \"training\", \"epoch\": 12, \"model\": 3}, \"Metrics\": {\"validation_multiclass_cross_entropy_objective\": {\"sum\": 0.8325396701022312, \"count\": 1, \"min\": 0.8325396701022312, \"max\": 0.8325396701022312}}}\u001b[0m\n",
      "\u001b[34m#metrics {\"StartTime\": 1658911246.696595, \"EndTime\": 1658911246.6966136, \"Dimensions\": {\"Algorithm\": \"Linear Learner\", \"Host\": \"algo-1\", \"Operation\": \"training\", \"epoch\": 12, \"model\": 4}, \"Metrics\": {\"validation_multiclass_cross_entropy_objective\": {\"sum\": 0.904331585308453, \"count\": 1, \"min\": 0.904331585308453, \"max\": 0.904331585308453}}}\u001b[0m\n",
      "\u001b[34m#metrics {\"StartTime\": 1658911246.696671, \"EndTime\": 1658911246.6966887, \"Dimensions\": {\"Algorithm\": \"Linear Learner\", \"Host\": \"algo-1\", \"Operation\": \"training\", \"epoch\": 12, \"model\": 5}, \"Metrics\": {\"validation_multiclass_cross_entropy_objective\": {\"sum\": 0.8949262601835234, \"count\": 1, \"min\": 0.8949262601835234, \"max\": 0.8949262601835234}}}\u001b[0m\n",
      "\u001b[34m#metrics {\"StartTime\": 1658911246.6967435, \"EndTime\": 1658911246.6967616, \"Dimensions\": {\"Algorithm\": \"Linear Learner\", \"Host\": \"algo-1\", \"Operation\": \"training\", \"epoch\": 12, \"model\": 6}, \"Metrics\": {\"validation_multiclass_cross_entropy_objective\": {\"sum\": 0.8271030047992328, \"count\": 1, \"min\": 0.8271030047992328, \"max\": 0.8271030047992328}}}\u001b[0m\n",
      "\u001b[34m#metrics {\"StartTime\": 1658911246.6968157, \"EndTime\": 1658911246.6968331, \"Dimensions\": {\"Algorithm\": \"Linear Learner\", \"Host\": \"algo-1\", \"Operation\": \"training\", \"epoch\": 12, \"model\": 7}, \"Metrics\": {\"validation_multiclass_cross_entropy_objective\": {\"sum\": 0.9462568953230575, \"count\": 1, \"min\": 0.9462568953230575, \"max\": 0.9462568953230575}}}\u001b[0m\n",
      "\u001b[34m#metrics {\"StartTime\": 1658911246.6968853, \"EndTime\": 1658911246.6969035, \"Dimensions\": {\"Algorithm\": \"Linear Learner\", \"Host\": \"algo-1\", \"Operation\": \"training\", \"epoch\": 12, \"model\": 8}, \"Metrics\": {\"validation_multiclass_cross_entropy_objective\": {\"sum\": 0.6876294935071791, \"count\": 1, \"min\": 0.6876294935071791, \"max\": 0.6876294935071791}}}\u001b[0m\n",
      "\u001b[34m#metrics {\"StartTime\": 1658911246.6969633, \"EndTime\": 1658911246.696983, \"Dimensions\": {\"Algorithm\": \"Linear Learner\", \"Host\": \"algo-1\", \"Operation\": \"training\", \"epoch\": 12, \"model\": 9}, \"Metrics\": {\"validation_multiclass_cross_entropy_objective\": {\"sum\": 0.9615854486688837, \"count\": 1, \"min\": 0.9615854486688837, \"max\": 0.9615854486688837}}}\u001b[0m\n",
      "\u001b[34m#metrics {\"StartTime\": 1658911246.6970394, \"EndTime\": 1658911246.6970565, \"Dimensions\": {\"Algorithm\": \"Linear Learner\", \"Host\": \"algo-1\", \"Operation\": \"training\", \"epoch\": 12, \"model\": 10}, \"Metrics\": {\"validation_multiclass_cross_entropy_objective\": {\"sum\": 0.9608302760768581, \"count\": 1, \"min\": 0.9608302760768581, \"max\": 0.9608302760768581}}}\u001b[0m\n",
      "\u001b[34m#metrics {\"StartTime\": 1658911246.6971114, \"EndTime\": 1658911246.6971288, \"Dimensions\": {\"Algorithm\": \"Linear Learner\", \"Host\": \"algo-1\", \"Operation\": \"training\", \"epoch\": 12, \"model\": 11}, \"Metrics\": {\"validation_multiclass_cross_entropy_objective\": {\"sum\": 0.715646692224451, \"count\": 1, \"min\": 0.715646692224451, \"max\": 0.715646692224451}}}\u001b[0m\n",
      "\u001b[34m[07/27/2022 08:40:46 INFO 140094935398208] #quality_metric: host=algo-1, epoch=12, validation multiclass_cross_entropy_objective <loss>=0.9108252310538077\u001b[0m\n",
      "\u001b[34m[07/27/2022 08:40:46 INFO 140094935398208] #early_stopping_criteria_metric: host=algo-1, epoch=12, criteria=multiclass_cross_entropy_objective, value=0.6876294935071791\u001b[0m\n",
      "\u001b[34m[07/27/2022 08:40:46 INFO 140094935398208] Epoch 12: Loss improved. Updating best model\u001b[0m\n",
      "\u001b[34m[07/27/2022 08:40:46 INFO 140094935398208] Saving model for epoch: 12\u001b[0m\n",
      "\u001b[34m[07/27/2022 08:40:46 INFO 140094935398208] Saved checkpoint to \"/tmp/tmpxqu2a5zu/mx-mod-0000.params\"\u001b[0m\n",
      "\u001b[34m[07/27/2022 08:40:46 INFO 140094935398208] #progress_metric: host=algo-1, completed 86.66666666666667 % of epochs\u001b[0m\n",
      "\u001b[34m#metrics {\"StartTime\": 1658911246.6287613, \"EndTime\": 1658911246.70924, \"Dimensions\": {\"Algorithm\": \"Linear Learner\", \"Host\": \"algo-1\", \"Operation\": \"training\", \"epoch\": 12, \"Meta\": \"training_data_iter\"}, \"Metrics\": {\"Total Records Seen\": {\"sum\": 25864.0, \"count\": 1, \"min\": 25864, \"max\": 25864}, \"Total Batches Seen\": {\"sum\": 29.0, \"count\": 1, \"min\": 29, \"max\": 29}, \"Max Records Seen Between Resets\": {\"sum\": 1776.0, \"count\": 1, \"min\": 1776, \"max\": 1776}, \"Max Batches Seen Between Resets\": {\"sum\": 2.0, \"count\": 1, \"min\": 2, \"max\": 2}, \"Reset Count\": {\"sum\": 15.0, \"count\": 1, \"min\": 15, \"max\": 15}, \"Number of Records Since Last Reset\": {\"sum\": 1776.0, \"count\": 1, \"min\": 1776, \"max\": 1776}, \"Number of Batches Since Last Reset\": {\"sum\": 2.0, \"count\": 1, \"min\": 2, \"max\": 2}}}\u001b[0m\n",
      "\u001b[34m[07/27/2022 08:40:46 INFO 140094935398208] #throughput_metric: host=algo-1, train throughput=22023.658103485486 records/second\u001b[0m\n",
      "\u001b[34m[2022-07-27 08:40:46.745] [tensorio] [info] epoch_stats={\"data_pipeline\": \"/opt/ml/input/data/train\", \"epoch\": 30, \"duration\": 34, \"num_examples\": 2, \"num_bytes\": 92352}\u001b[0m\n",
      "\u001b[34m#metrics {\"StartTime\": 1658911246.745851, \"EndTime\": 1658911246.7459288, \"Dimensions\": {\"Algorithm\": \"Linear Learner\", \"Host\": \"algo-1\", \"Operation\": \"training\", \"epoch\": 13, \"model\": 0}, \"Metrics\": {\"train_multiclass_cross_entropy_objective\": {\"sum\": 0.9170615234375, \"count\": 1, \"min\": 0.9170615234375, \"max\": 0.9170615234375}}}\u001b[0m\n",
      "\u001b[34m#metrics {\"StartTime\": 1658911246.746274, \"EndTime\": 1658911246.7463038, \"Dimensions\": {\"Algorithm\": \"Linear Learner\", \"Host\": \"algo-1\", \"Operation\": \"training\", \"epoch\": 13, \"model\": 1}, \"Metrics\": {\"train_multiclass_cross_entropy_objective\": {\"sum\": 0.890017822265625, \"count\": 1, \"min\": 0.890017822265625, \"max\": 0.890017822265625}}}\u001b[0m\n",
      "\u001b[34m#metrics {\"StartTime\": 1658911246.7465754, \"EndTime\": 1658911246.7466016, \"Dimensions\": {\"Algorithm\": \"Linear Learner\", \"Host\": \"algo-1\", \"Operation\": \"training\", \"epoch\": 13, \"model\": 2}, \"Metrics\": {\"train_multiclass_cross_entropy_objective\": {\"sum\": 0.8010418090820313, \"count\": 1, \"min\": 0.8010418090820313, \"max\": 0.8010418090820313}}}\u001b[0m\n",
      "\u001b[34m#metrics {\"StartTime\": 1658911246.7469192, \"EndTime\": 1658911246.7469466, \"Dimensions\": {\"Algorithm\": \"Linear Learner\", \"Host\": \"algo-1\", \"Operation\": \"training\", \"epoch\": 13, \"model\": 3}, \"Metrics\": {\"train_multiclass_cross_entropy_objective\": {\"sum\": 0.8416005249023437, \"count\": 1, \"min\": 0.8416005249023437, \"max\": 0.8416005249023437}}}\u001b[0m\n",
      "\u001b[34m#metrics {\"StartTime\": 1658911246.747354, \"EndTime\": 1658911246.747381, \"Dimensions\": {\"Algorithm\": \"Linear Learner\", \"Host\": \"algo-1\", \"Operation\": \"training\", \"epoch\": 13, \"model\": 4}, \"Metrics\": {\"train_multiclass_cross_entropy_objective\": {\"sum\": 0.911470703125, \"count\": 1, \"min\": 0.911470703125, \"max\": 0.911470703125}}}\u001b[0m\n",
      "\u001b[34m#metrics {\"StartTime\": 1658911246.7476728, \"EndTime\": 1658911246.7476995, \"Dimensions\": {\"Algorithm\": \"Linear Learner\", \"Host\": \"algo-1\", \"Operation\": \"training\", \"epoch\": 13, \"model\": 5}, \"Metrics\": {\"train_multiclass_cross_entropy_objective\": {\"sum\": 0.901758544921875, \"count\": 1, \"min\": 0.901758544921875, \"max\": 0.901758544921875}}}\u001b[0m\n",
      "\u001b[34m#metrics {\"StartTime\": 1658911246.747994, \"EndTime\": 1658911246.7480204, \"Dimensions\": {\"Algorithm\": \"Linear Learner\", \"Host\": \"algo-1\", \"Operation\": \"training\", \"epoch\": 13, \"model\": 6}, \"Metrics\": {\"train_multiclass_cross_entropy_objective\": {\"sum\": 0.8414108276367187, \"count\": 1, \"min\": 0.8414108276367187, \"max\": 0.8414108276367187}}}\u001b[0m\n",
      "\u001b[34m#metrics {\"StartTime\": 1658911246.7482803, \"EndTime\": 1658911246.748306, \"Dimensions\": {\"Algorithm\": \"Linear Learner\", \"Host\": \"algo-1\", \"Operation\": \"training\", \"epoch\": 13, \"model\": 7}, \"Metrics\": {\"train_multiclass_cross_entropy_objective\": {\"sum\": 0.9520338134765625, \"count\": 1, \"min\": 0.9520338134765625, \"max\": 0.9520338134765625}}}\u001b[0m\n",
      "\u001b[34m#metrics {\"StartTime\": 1658911246.7485883, \"EndTime\": 1658911246.7486145, \"Dimensions\": {\"Algorithm\": \"Linear Learner\", \"Host\": \"algo-1\", \"Operation\": \"training\", \"epoch\": 13, \"model\": 8}, \"Metrics\": {\"train_multiclass_cross_entropy_objective\": {\"sum\": 0.7057743530273437, \"count\": 1, \"min\": 0.7057743530273437, \"max\": 0.7057743530273437}}}\u001b[0m\n",
      "\u001b[34m#metrics {\"StartTime\": 1658911246.7489085, \"EndTime\": 1658911246.7489367, \"Dimensions\": {\"Algorithm\": \"Linear Learner\", \"Host\": \"algo-1\", \"Operation\": \"training\", \"epoch\": 13, \"model\": 9}, \"Metrics\": {\"train_multiclass_cross_entropy_objective\": {\"sum\": 0.994546630859375, \"count\": 1, \"min\": 0.994546630859375, \"max\": 0.994546630859375}}}\u001b[0m\n",
      "\u001b[34m#metrics {\"StartTime\": 1658911246.749223, \"EndTime\": 1658911246.7492485, \"Dimensions\": {\"Algorithm\": \"Linear Learner\", \"Host\": \"algo-1\", \"Operation\": \"training\", \"epoch\": 13, \"model\": 10}, \"Metrics\": {\"train_multiclass_cross_entropy_objective\": {\"sum\": 0.9672753295898437, \"count\": 1, \"min\": 0.9672753295898437, \"max\": 0.9672753295898437}}}\u001b[0m\n",
      "\u001b[34m#metrics {\"StartTime\": 1658911246.749508, \"EndTime\": 1658911246.7495332, \"Dimensions\": {\"Algorithm\": \"Linear Learner\", \"Host\": \"algo-1\", \"Operation\": \"training\", \"epoch\": 13, \"model\": 11}, \"Metrics\": {\"train_multiclass_cross_entropy_objective\": {\"sum\": 0.7346845092773437, \"count\": 1, \"min\": 0.7346845092773437, \"max\": 0.7346845092773437}}}\u001b[0m\n",
      "\u001b[34m[07/27/2022 08:40:46 INFO 140094935398208] #quality_metric: host=algo-1, epoch=13, train multiclass_cross_entropy_objective <loss>=0.9170615234375\u001b[0m\n",
      "\u001b[34m[2022-07-27 08:40:46.781] [tensorio] [info] epoch_stats={\"data_pipeline\": \"/opt/ml/input/data/validation\", \"epoch\": 41, \"duration\": 17, \"num_examples\": 1, \"num_bytes\": 11544}\u001b[0m\n",
      "\u001b[34m#metrics {\"StartTime\": 1658911246.7869368, \"EndTime\": 1658911246.7870495, \"Dimensions\": {\"Algorithm\": \"Linear Learner\", \"Host\": \"algo-1\", \"Operation\": \"training\", \"epoch\": 13, \"model\": 0}, \"Metrics\": {\"validation_multiclass_cross_entropy_objective\": {\"sum\": 0.9007824734524563, \"count\": 1, \"min\": 0.9007824734524563, \"max\": 0.9007824734524563}}}\u001b[0m\n",
      "\u001b[34m#metrics {\"StartTime\": 1658911246.7874317, \"EndTime\": 1658911246.7874606, \"Dimensions\": {\"Algorithm\": \"Linear Learner\", \"Host\": \"algo-1\", \"Operation\": \"training\", \"epoch\": 13, \"model\": 1}, \"Metrics\": {\"validation_multiclass_cross_entropy_objective\": {\"sum\": 0.8710235045836853, \"count\": 1, \"min\": 0.8710235045836853, \"max\": 0.8710235045836853}}}\u001b[0m\n",
      "\u001b[34m#metrics {\"StartTime\": 1658911246.7877648, \"EndTime\": 1658911246.7877898, \"Dimensions\": {\"Algorithm\": \"Linear Learner\", \"Host\": \"algo-1\", \"Operation\": \"training\", \"epoch\": 13, \"model\": 2}, \"Metrics\": {\"validation_multiclass_cross_entropy_objective\": {\"sum\": 0.7801455935916385, \"count\": 1, \"min\": 0.7801455935916385, \"max\": 0.7801455935916385}}}\u001b[0m\n",
      "\u001b[34m#metrics {\"StartTime\": 1658911246.7880733, \"EndTime\": 1658911246.7880979, \"Dimensions\": {\"Algorithm\": \"Linear Learner\", \"Host\": \"algo-1\", \"Operation\": \"training\", \"epoch\": 13, \"model\": 3}, \"Metrics\": {\"validation_multiclass_cross_entropy_objective\": {\"sum\": 0.8227114978137317, \"count\": 1, \"min\": 0.8227114978137317, \"max\": 0.8227114978137317}}}\u001b[0m\n",
      "\u001b[34m#metrics {\"StartTime\": 1658911246.7884295, \"EndTime\": 1658911246.7884557, \"Dimensions\": {\"Algorithm\": \"Linear Learner\", \"Host\": \"algo-1\", \"Operation\": \"training\", \"epoch\": 13, \"model\": 4}, \"Metrics\": {\"validation_multiclass_cross_entropy_objective\": {\"sum\": 0.8925252003712697, \"count\": 1, \"min\": 0.8925252003712697, \"max\": 0.8925252003712697}}}\u001b[0m\n",
      "\u001b[34m#metrics {\"StartTime\": 1658911246.788727, \"EndTime\": 1658911246.7887516, \"Dimensions\": {\"Algorithm\": \"Linear Learner\", \"Host\": \"algo-1\", \"Operation\": \"training\", \"epoch\": 13, \"model\": 5}, \"Metrics\": {\"validation_multiclass_cross_entropy_objective\": {\"sum\": 0.8877381333359727, \"count\": 1, \"min\": 0.8877381333359727, \"max\": 0.8877381333359727}}}\u001b[0m\n",
      "\u001b[34m#metrics {\"StartTime\": 1658911246.789049, \"EndTime\": 1658911246.7890732, \"Dimensions\": {\"Algorithm\": \"Linear Learner\", \"Host\": \"algo-1\", \"Operation\": \"training\", \"epoch\": 13, \"model\": 6}, \"Metrics\": {\"validation_multiclass_cross_entropy_objective\": {\"sum\": 0.8262692013302365, \"count\": 1, \"min\": 0.8262692013302365, \"max\": 0.8262692013302365}}}\u001b[0m\n",
      "\u001b[34m#metrics {\"StartTime\": 1658911246.7893546, \"EndTime\": 1658911246.7893794, \"Dimensions\": {\"Algorithm\": \"Linear Learner\", \"Host\": \"algo-1\", \"Operation\": \"training\", \"epoch\": 13, \"model\": 7}, \"Metrics\": {\"validation_multiclass_cross_entropy_objective\": {\"sum\": 0.937435734379399, \"count\": 1, \"min\": 0.937435734379399, \"max\": 0.937435734379399}}}\u001b[0m\n",
      "\u001b[34m#metrics {\"StartTime\": 1658911246.7896657, \"EndTime\": 1658911246.7896907, \"Dimensions\": {\"Algorithm\": \"Linear Learner\", \"Host\": \"algo-1\", \"Operation\": \"training\", \"epoch\": 13, \"model\": 8}, \"Metrics\": {\"validation_multiclass_cross_entropy_objective\": {\"sum\": 0.6832418355855856, \"count\": 1, \"min\": 0.6832418355855856, \"max\": 0.6832418355855856}}}\u001b[0m\n",
      "\u001b[34m#metrics {\"StartTime\": 1658911246.7899728, \"EndTime\": 1658911246.7899973, \"Dimensions\": {\"Algorithm\": \"Linear Learner\", \"Host\": \"algo-1\", \"Operation\": \"training\", \"epoch\": 13, \"model\": 9}, \"Metrics\": {\"validation_multiclass_cross_entropy_objective\": {\"sum\": 0.7841880042273719, \"count\": 1, \"min\": 0.7841880042273719, \"max\": 0.7841880042273719}}}\u001b[0m\n",
      "\u001b[34m#metrics {\"StartTime\": 1658911246.7902799, \"EndTime\": 1658911246.7903047, \"Dimensions\": {\"Algorithm\": \"Linear Learner\", \"Host\": \"algo-1\", \"Operation\": \"training\", \"epoch\": 13, \"model\": 10}, \"Metrics\": {\"validation_multiclass_cross_entropy_objective\": {\"sum\": 0.9531310485289978, \"count\": 1, \"min\": 0.9531310485289978, \"max\": 0.9531310485289978}}}\u001b[0m\n",
      "\u001b[34m#metrics {\"StartTime\": 1658911246.7905903, \"EndTime\": 1658911246.790615, \"Dimensions\": {\"Algorithm\": \"Linear Learner\", \"Host\": \"algo-1\", \"Operation\": \"training\", \"epoch\": 13, \"model\": 11}, \"Metrics\": {\"validation_multiclass_cross_entropy_objective\": {\"sum\": 0.7147295840151675, \"count\": 1, \"min\": 0.7147295840151675, \"max\": 0.7147295840151675}}}\u001b[0m\n",
      "\u001b[34m[07/27/2022 08:40:46 INFO 140094935398208] #quality_metric: host=algo-1, epoch=13, validation multiclass_cross_entropy_objective <loss>=0.9007824734524563\u001b[0m\n",
      "\u001b[34m[07/27/2022 08:40:46 INFO 140094935398208] #early_stopping_criteria_metric: host=algo-1, epoch=13, criteria=multiclass_cross_entropy_objective, value=0.6832418355855856\u001b[0m\n",
      "\u001b[34m[07/27/2022 08:40:46 INFO 140094935398208] Epoch 13: Loss improved. Updating best model\u001b[0m\n",
      "\u001b[34m[07/27/2022 08:40:46 INFO 140094935398208] Saving model for epoch: 13\u001b[0m\n",
      "\u001b[34m[07/27/2022 08:40:46 INFO 140094935398208] Saved checkpoint to \"/tmp/tmpkris7f6m/mx-mod-0000.params\"\u001b[0m\n",
      "\u001b[34m[07/27/2022 08:40:46 INFO 140094935398208] #progress_metric: host=algo-1, completed 93.33333333333333 % of epochs\u001b[0m\n",
      "\u001b[34m#metrics {\"StartTime\": 1658911246.7095993, \"EndTime\": 1658911246.806603, \"Dimensions\": {\"Algorithm\": \"Linear Learner\", \"Host\": \"algo-1\", \"Operation\": \"training\", \"epoch\": 13, \"Meta\": \"training_data_iter\"}, \"Metrics\": {\"Total Records Seen\": {\"sum\": 27640.0, \"count\": 1, \"min\": 27640, \"max\": 27640}, \"Total Batches Seen\": {\"sum\": 31.0, \"count\": 1, \"min\": 31, \"max\": 31}, \"Max Records Seen Between Resets\": {\"sum\": 1776.0, \"count\": 1, \"min\": 1776, \"max\": 1776}, \"Max Batches Seen Between Resets\": {\"sum\": 2.0, \"count\": 1, \"min\": 2, \"max\": 2}, \"Reset Count\": {\"sum\": 16.0, \"count\": 1, \"min\": 16, \"max\": 16}, \"Number of Records Since Last Reset\": {\"sum\": 1776.0, \"count\": 1, \"min\": 1776, \"max\": 1776}, \"Number of Batches Since Last Reset\": {\"sum\": 2.0, \"count\": 1, \"min\": 2, \"max\": 2}}}\u001b[0m\n",
      "\u001b[34m[07/27/2022 08:40:46 INFO 140094935398208] #throughput_metric: host=algo-1, train throughput=18225.30694212692 records/second\u001b[0m\n",
      "\u001b[34m[2022-07-27 08:40:46.847] [tensorio] [info] epoch_stats={\"data_pipeline\": \"/opt/ml/input/data/train\", \"epoch\": 32, \"duration\": 40, \"num_examples\": 2, \"num_bytes\": 92352}\u001b[0m\n",
      "\u001b[34m#metrics {\"StartTime\": 1658911246.8481088, \"EndTime\": 1658911246.8481896, \"Dimensions\": {\"Algorithm\": \"Linear Learner\", \"Host\": \"algo-1\", \"Operation\": \"training\", \"epoch\": 14, \"model\": 0}, \"Metrics\": {\"train_multiclass_cross_entropy_objective\": {\"sum\": 0.9072907104492187, \"count\": 1, \"min\": 0.9072907104492187, \"max\": 0.9072907104492187}}}\u001b[0m\n",
      "\u001b[34m#metrics {\"StartTime\": 1658911246.84867, \"EndTime\": 1658911246.8486993, \"Dimensions\": {\"Algorithm\": \"Linear Learner\", \"Host\": \"algo-1\", \"Operation\": \"training\", \"epoch\": 14, \"model\": 1}, \"Metrics\": {\"train_multiclass_cross_entropy_objective\": {\"sum\": 0.8793280029296875, \"count\": 1, \"min\": 0.8793280029296875, \"max\": 0.8793280029296875}}}\u001b[0m\n",
      "\u001b[34m#metrics {\"StartTime\": 1658911246.8491983, \"EndTime\": 1658911246.849225, \"Dimensions\": {\"Algorithm\": \"Linear Learner\", \"Host\": \"algo-1\", \"Operation\": \"training\", \"epoch\": 14, \"model\": 2}, \"Metrics\": {\"train_multiclass_cross_entropy_objective\": {\"sum\": 0.7944518432617188, \"count\": 1, \"min\": 0.7944518432617188, \"max\": 0.7944518432617188}}}\u001b[0m\n",
      "\u001b[34m#metrics {\"StartTime\": 1658911246.849686, \"EndTime\": 1658911246.8497193, \"Dimensions\": {\"Algorithm\": \"Linear Learner\", \"Host\": \"algo-1\", \"Operation\": \"training\", \"epoch\": 14, \"model\": 3}, \"Metrics\": {\"train_multiclass_cross_entropy_objective\": {\"sum\": 0.8320138549804688, \"count\": 1, \"min\": 0.8320138549804688, \"max\": 0.8320138549804688}}}\u001b[0m\n",
      "\u001b[34m#metrics {\"StartTime\": 1658911246.8498247, \"EndTime\": 1658911246.8498447, \"Dimensions\": {\"Algorithm\": \"Linear Learner\", \"Host\": \"algo-1\", \"Operation\": \"training\", \"epoch\": 14, \"model\": 4}, \"Metrics\": {\"train_multiclass_cross_entropy_objective\": {\"sum\": 0.8999974975585937, \"count\": 1, \"min\": 0.8999974975585937, \"max\": 0.8999974975585937}}}\u001b[0m\n",
      "\u001b[34m#metrics {\"StartTime\": 1658911246.849907, \"EndTime\": 1658911246.8499255, \"Dimensions\": {\"Algorithm\": \"Linear Learner\", \"Host\": \"algo-1\", \"Operation\": \"training\", \"epoch\": 14, \"model\": 5}, \"Metrics\": {\"train_multiclass_cross_entropy_objective\": {\"sum\": 0.8945975341796875, \"count\": 1, \"min\": 0.8945975341796875, \"max\": 0.8945975341796875}}}\u001b[0m\n",
      "\u001b[34m#metrics {\"StartTime\": 1658911246.849981, \"EndTime\": 1658911246.8499978, \"Dimensions\": {\"Algorithm\": \"Linear Learner\", \"Host\": \"algo-1\", \"Operation\": \"training\", \"epoch\": 14, \"model\": 6}, \"Metrics\": {\"train_multiclass_cross_entropy_objective\": {\"sum\": 0.8393883666992188, \"count\": 1, \"min\": 0.8393883666992188, \"max\": 0.8393883666992188}}}\u001b[0m\n",
      "\u001b[34m#metrics {\"StartTime\": 1658911246.8500504, \"EndTime\": 1658911246.8500688, \"Dimensions\": {\"Algorithm\": \"Linear Learner\", \"Host\": \"algo-1\", \"Operation\": \"training\", \"epoch\": 14, \"model\": 7}, \"Metrics\": {\"train_multiclass_cross_entropy_objective\": {\"sum\": 0.9432586059570313, \"count\": 1, \"min\": 0.9432586059570313, \"max\": 0.9432586059570313}}}\u001b[0m\n",
      "\u001b[34m#metrics {\"StartTime\": 1658911246.850121, \"EndTime\": 1658911246.8501384, \"Dimensions\": {\"Algorithm\": \"Linear Learner\", \"Host\": \"algo-1\", \"Operation\": \"training\", \"epoch\": 14, \"model\": 8}, \"Metrics\": {\"train_multiclass_cross_entropy_objective\": {\"sum\": 0.702761474609375, \"count\": 1, \"min\": 0.702761474609375, \"max\": 0.702761474609375}}}\u001b[0m\n",
      "\u001b[34m#metrics {\"StartTime\": 1658911246.8501909, \"EndTime\": 1658911246.850208, \"Dimensions\": {\"Algorithm\": \"Linear Learner\", \"Host\": \"algo-1\", \"Operation\": \"training\", \"epoch\": 14, \"model\": 9}, \"Metrics\": {\"train_multiclass_cross_entropy_objective\": {\"sum\": 0.8147272338867187, \"count\": 1, \"min\": 0.8147272338867187, \"max\": 0.8147272338867187}}}\u001b[0m\n",
      "\u001b[34m#metrics {\"StartTime\": 1658911246.8502626, \"EndTime\": 1658911246.8502784, \"Dimensions\": {\"Algorithm\": \"Linear Learner\", \"Host\": \"algo-1\", \"Operation\": \"training\", \"epoch\": 14, \"model\": 10}, \"Metrics\": {\"train_multiclass_cross_entropy_objective\": {\"sum\": 0.9598355102539062, \"count\": 1, \"min\": 0.9598355102539062, \"max\": 0.9598355102539062}}}\u001b[0m\n",
      "\u001b[34m#metrics {\"StartTime\": 1658911246.8503296, \"EndTime\": 1658911246.850346, \"Dimensions\": {\"Algorithm\": \"Linear Learner\", \"Host\": \"algo-1\", \"Operation\": \"training\", \"epoch\": 14, \"model\": 11}, \"Metrics\": {\"train_multiclass_cross_entropy_objective\": {\"sum\": 0.7322227783203125, \"count\": 1, \"min\": 0.7322227783203125, \"max\": 0.7322227783203125}}}\u001b[0m\n",
      "\u001b[34m[07/27/2022 08:40:46 INFO 140094935398208] #quality_metric: host=algo-1, epoch=14, train multiclass_cross_entropy_objective <loss>=0.9072907104492187\u001b[0m\n",
      "\u001b[34m[2022-07-27 08:40:46.888] [tensorio] [info] epoch_stats={\"data_pipeline\": \"/opt/ml/input/data/validation\", \"epoch\": 44, \"duration\": 27, \"num_examples\": 1, \"num_bytes\": 11544}\u001b[0m\n",
      "\u001b[34m#metrics {\"StartTime\": 1658911246.8921635, \"EndTime\": 1658911246.8922281, \"Dimensions\": {\"Algorithm\": \"Linear Learner\", \"Host\": \"algo-1\", \"Operation\": \"training\", \"epoch\": 14, \"model\": 0}, \"Metrics\": {\"validation_multiclass_cross_entropy_objective\": {\"sum\": 0.8905522801854588, \"count\": 1, \"min\": 0.8905522801854588, \"max\": 0.8905522801854588}}}\u001b[0m\n",
      "\u001b[34m#metrics {\"StartTime\": 1658911246.8923478, \"EndTime\": 1658911246.8923724, \"Dimensions\": {\"Algorithm\": \"Linear Learner\", \"Host\": \"algo-1\", \"Operation\": \"training\", \"epoch\": 14, \"model\": 1}, \"Metrics\": {\"validation_multiclass_cross_entropy_objective\": {\"sum\": 0.8593943140528224, \"count\": 1, \"min\": 0.8593943140528224, \"max\": 0.8593943140528224}}}\u001b[0m\n",
      "\u001b[34m#metrics {\"StartTime\": 1658911246.8924353, \"EndTime\": 1658911246.8924544, \"Dimensions\": {\"Algorithm\": \"Linear Learner\", \"Host\": \"algo-1\", \"Operation\": \"training\", \"epoch\": 14, \"model\": 2}, \"Metrics\": {\"validation_multiclass_cross_entropy_objective\": {\"sum\": 0.7685393599776534, \"count\": 1, \"min\": 0.7685393599776534, \"max\": 0.7685393599776534}}}\u001b[0m\n",
      "\u001b[34m#metrics {\"StartTime\": 1658911246.8925111, \"EndTime\": 1658911246.8925297, \"Dimensions\": {\"Algorithm\": \"Linear Learner\", \"Host\": \"algo-1\", \"Operation\": \"training\", \"epoch\": 14, \"model\": 3}, \"Metrics\": {\"validation_multiclass_cross_entropy_objective\": {\"sum\": 0.8112817025399423, \"count\": 1, \"min\": 0.8112817025399423, \"max\": 0.8112817025399423}}}\u001b[0m\n",
      "\u001b[34m#metrics {\"StartTime\": 1658911246.8925846, \"EndTime\": 1658911246.8926022, \"Dimensions\": {\"Algorithm\": \"Linear Learner\", \"Host\": \"algo-1\", \"Operation\": \"training\", \"epoch\": 14, \"model\": 4}, \"Metrics\": {\"validation_multiclass_cross_entropy_objective\": {\"sum\": 0.8814151523349522, \"count\": 1, \"min\": 0.8814151523349522, \"max\": 0.8814151523349522}}}\u001b[0m\n",
      "\u001b[34m#metrics {\"StartTime\": 1658911246.892655, \"EndTime\": 1658911246.8926709, \"Dimensions\": {\"Algorithm\": \"Linear Learner\", \"Host\": \"algo-1\", \"Operation\": \"training\", \"epoch\": 14, \"model\": 5}, \"Metrics\": {\"validation_multiclass_cross_entropy_objective\": {\"sum\": 0.880560522680884, \"count\": 1, \"min\": 0.880560522680884, \"max\": 0.880560522680884}}}\u001b[0m\n",
      "\u001b[34m#metrics {\"StartTime\": 1658911246.8927357, \"EndTime\": 1658911246.8927534, \"Dimensions\": {\"Algorithm\": \"Linear Learner\", \"Host\": \"algo-1\", \"Operation\": \"training\", \"epoch\": 14, \"model\": 6}, \"Metrics\": {\"validation_multiclass_cross_entropy_objective\": {\"sum\": 0.8240079450177716, \"count\": 1, \"min\": 0.8240079450177716, \"max\": 0.8240079450177716}}}\u001b[0m\n",
      "\u001b[34m#metrics {\"StartTime\": 1658911246.892805, \"EndTime\": 1658911246.8928206, \"Dimensions\": {\"Algorithm\": \"Linear Learner\", \"Host\": \"algo-1\", \"Operation\": \"training\", \"epoch\": 14, \"model\": 7}, \"Metrics\": {\"validation_multiclass_cross_entropy_objective\": {\"sum\": 0.9287912179757883, \"count\": 1, \"min\": 0.9287912179757883, \"max\": 0.9287912179757883}}}\u001b[0m\n",
      "\u001b[34m#metrics {\"StartTime\": 1658911246.8928838, \"EndTime\": 1658911246.8929012, \"Dimensions\": {\"Algorithm\": \"Linear Learner\", \"Host\": \"algo-1\", \"Operation\": \"training\", \"epoch\": 14, \"model\": 8}, \"Metrics\": {\"validation_multiclass_cross_entropy_objective\": {\"sum\": 0.679933771356806, \"count\": 1, \"min\": 0.679933771356806, \"max\": 0.679933771356806}}}\u001b[0m\n",
      "\u001b[34m#metrics {\"StartTime\": 1658911246.8929608, \"EndTime\": 1658911246.8929772, \"Dimensions\": {\"Algorithm\": \"Linear Learner\", \"Host\": \"algo-1\", \"Operation\": \"training\", \"epoch\": 14, \"model\": 9}, \"Metrics\": {\"validation_multiclass_cross_entropy_objective\": {\"sum\": 0.8714913033150338, \"count\": 1, \"min\": 0.8714913033150338, \"max\": 0.8714913033150338}}}\u001b[0m\n",
      "\u001b[34m#metrics {\"StartTime\": 1658911246.8930283, \"EndTime\": 1658911246.8930445, \"Dimensions\": {\"Algorithm\": \"Linear Learner\", \"Host\": \"algo-1\", \"Operation\": \"training\", \"epoch\": 14, \"model\": 10}, \"Metrics\": {\"validation_multiclass_cross_entropy_objective\": {\"sum\": 0.9456884710638372, \"count\": 1, \"min\": 0.9456884710638372, \"max\": 0.9456884710638372}}}\u001b[0m\n",
      "\u001b[34m#metrics {\"StartTime\": 1658911246.8930984, \"EndTime\": 1658911246.8931146, \"Dimensions\": {\"Algorithm\": \"Linear Learner\", \"Host\": \"algo-1\", \"Operation\": \"training\", \"epoch\": 14, \"model\": 11}, \"Metrics\": {\"validation_multiclass_cross_entropy_objective\": {\"sum\": 0.7118841635214316, \"count\": 1, \"min\": 0.7118841635214316, \"max\": 0.7118841635214316}}}\u001b[0m\n",
      "\u001b[34m[07/27/2022 08:40:46 INFO 140094935398208] #quality_metric: host=algo-1, epoch=14, validation multiclass_cross_entropy_objective <loss>=0.8905522801854588\u001b[0m\n",
      "\u001b[34m[07/27/2022 08:40:46 INFO 140094935398208] #early_stopping_criteria_metric: host=algo-1, epoch=14, criteria=multiclass_cross_entropy_objective, value=0.679933771356806\u001b[0m\n",
      "\u001b[34m[07/27/2022 08:40:46 INFO 140094935398208] Epoch 14: Loss improved. Updating best model\u001b[0m\n",
      "\u001b[34m[07/27/2022 08:40:46 INFO 140094935398208] Saving model for epoch: 14\u001b[0m\n",
      "\u001b[34m[07/27/2022 08:40:46 INFO 140094935398208] Saved checkpoint to \"/tmp/tmpo152b1tt/mx-mod-0000.params\"\u001b[0m\n",
      "\u001b[34m[07/27/2022 08:40:46 INFO 140094935398208] #progress_metric: host=algo-1, completed 100.0 % of epochs\u001b[0m\n",
      "\u001b[34m#metrics {\"StartTime\": 1658911246.8074324, \"EndTime\": 1658911246.904742, \"Dimensions\": {\"Algorithm\": \"Linear Learner\", \"Host\": \"algo-1\", \"Operation\": \"training\", \"epoch\": 14, \"Meta\": \"training_data_iter\"}, \"Metrics\": {\"Total Records Seen\": {\"sum\": 29416.0, \"count\": 1, \"min\": 29416, \"max\": 29416}, \"Total Batches Seen\": {\"sum\": 33.0, \"count\": 1, \"min\": 33, \"max\": 33}, \"Max Records Seen Between Resets\": {\"sum\": 1776.0, \"count\": 1, \"min\": 1776, \"max\": 1776}, \"Max Batches Seen Between Resets\": {\"sum\": 2.0, \"count\": 1, \"min\": 2, \"max\": 2}, \"Reset Count\": {\"sum\": 17.0, \"count\": 1, \"min\": 17, \"max\": 17}, \"Number of Records Since Last Reset\": {\"sum\": 1776.0, \"count\": 1, \"min\": 1776, \"max\": 1776}, \"Number of Batches Since Last Reset\": {\"sum\": 2.0, \"count\": 1, \"min\": 2, \"max\": 2}}}\u001b[0m\n",
      "\u001b[34m[07/27/2022 08:40:46 INFO 140094935398208] #throughput_metric: host=algo-1, train throughput=18220.5815257272 records/second\u001b[0m\n",
      "\u001b[34m[07/27/2022 08:40:46 WARNING 140094935398208] wait_for_all_workers will not sync workers since the kv store is not running distributed\u001b[0m\n",
      "\u001b[34m[07/27/2022 08:40:46 WARNING 140094935398208] wait_for_all_workers will not sync workers since the kv store is not running distributed\u001b[0m\n",
      "\u001b[34m[2022-07-27 08:40:46.937] [tensorio] [info] epoch_stats={\"data_pipeline\": \"/opt/ml/input/data/validation\", \"epoch\": 47, \"duration\": 18, \"num_examples\": 1, \"num_bytes\": 11544}\u001b[0m\n",
      "\u001b[34m[07/27/2022 08:40:46 INFO 140094935398208] #early_stopping_criteria_metric: host=algo-1, epoch=14, criteria=multiclass_cross_entropy_objective, value=0.679933771356806\u001b[0m\n",
      "\u001b[34m[2022-07-27 08:40:46.978] [tensorio] [info] epoch_stats={\"data_pipeline\": \"/opt/ml/input/data/validation\", \"epoch\": 49, \"duration\": 30, \"num_examples\": 1, \"num_bytes\": 11544}\u001b[0m\n",
      "\u001b[34m[07/27/2022 08:40:47 INFO 140094935398208] #validation_score (algo-1) : ('multiclass_cross_entropy_objective', 0.679933771356806)\u001b[0m\n",
      "\u001b[34m[07/27/2022 08:40:47 INFO 140094935398208] #validation_score (algo-1) : ('multiclass_accuracy', 0.8018018018018018)\u001b[0m\n",
      "\u001b[34m[07/27/2022 08:40:47 INFO 140094935398208] #validation_score (algo-1) : ('multiclass_top_k_accuracy_3', 1.0)\u001b[0m\n",
      "\u001b[34m[07/27/2022 08:40:47 INFO 140094935398208] #validation_score (algo-1) : ('dcg', 0.916824821953301)\u001b[0m\n",
      "\u001b[34m[07/27/2022 08:40:47 INFO 140094935398208] #validation_score (algo-1) : ('macro_recall', 0.8032333)\u001b[0m\n",
      "\u001b[34m[07/27/2022 08:40:47 INFO 140094935398208] #validation_score (algo-1) : ('macro_precision', 0.80768627)\u001b[0m\n",
      "\u001b[34m[07/27/2022 08:40:47 INFO 140094935398208] #validation_score (algo-1) : ('macro_f_1.000', 0.8033984)\u001b[0m\n",
      "\u001b[34m[07/27/2022 08:40:47 INFO 140094935398208] #validation_score (algo-1) : ('multiclass_balanced_accuracy', 0.8032332856758865)\u001b[0m\n",
      "\u001b[34m[07/27/2022 08:40:47 INFO 140094935398208] #validation_score (algo-1) : ('multiclass_log_loss', 0.8713880263932385)\u001b[0m\n",
      "\u001b[34m[07/27/2022 08:40:47 INFO 140094935398208] #quality_metric: host=algo-1, validation multiclass_cross_entropy_objective <loss>=0.679933771356806\u001b[0m\n",
      "\u001b[34m[07/27/2022 08:40:47 INFO 140094935398208] #quality_metric: host=algo-1, validation multiclass_accuracy <score>=0.8018018018018018\u001b[0m\n",
      "\u001b[34m[07/27/2022 08:40:47 INFO 140094935398208] #quality_metric: host=algo-1, validation multiclass_top_k_accuracy_3 <score>=1.0\u001b[0m\n",
      "\u001b[34m[07/27/2022 08:40:47 INFO 140094935398208] #quality_metric: host=algo-1, validation dcg <score>=0.916824821953301\u001b[0m\n",
      "\u001b[34m[07/27/2022 08:40:47 INFO 140094935398208] #quality_metric: host=algo-1, validation macro_recall <score>=0.8032333254814148\u001b[0m\n",
      "\u001b[34m[07/27/2022 08:40:47 INFO 140094935398208] #quality_metric: host=algo-1, validation macro_precision <score>=0.8076862692832947\u001b[0m\n",
      "\u001b[34m[07/27/2022 08:40:47 INFO 140094935398208] #quality_metric: host=algo-1, validation macro_f_1.000 <score>=0.8033983707427979\u001b[0m\n",
      "\u001b[34m[07/27/2022 08:40:47 INFO 140094935398208] #quality_metric: host=algo-1, validation multiclass_balanced_accuracy <score>=0.8032332856758865\u001b[0m\n",
      "\u001b[34m[07/27/2022 08:40:47 INFO 140094935398208] #quality_metric: host=algo-1, validation multiclass_log_loss <score>=0.8713880263932385\u001b[0m\n",
      "\u001b[34m[07/27/2022 08:40:47 INFO 140094935398208] Best model found for hyperparameters: {\"optimizer\": \"adam\", \"learning_rate\": 0.10200995219090397, \"l1\": 0.10587917499153388, \"wd\": 0.011994309302164696, \"lr_scheduler_step\": 52, \"lr_scheduler_factor\": 0.9835865984378375, \"lr_scheduler_minimum_lr\": 2.597459914786608e-06}\u001b[0m\n",
      "\u001b[34m[07/27/2022 08:40:47 INFO 140094935398208] Saved checkpoint to \"/tmp/tmphbt6a9y0/mx-mod-0000.params\"\u001b[0m\n",
      "\u001b[34m[2022-07-27 08:40:47.032] [tensorio] [info] epoch_stats={\"data_pipeline\": \"/opt/ml/input/data/test\", \"epoch\": 0, \"duration\": 1712, \"num_examples\": 1, \"num_bytes\": 11544}\u001b[0m\n",
      "\u001b[34m[2022-07-27 08:40:47.045] [tensorio] [info] epoch_stats={\"data_pipeline\": \"/opt/ml/input/data/test\", \"epoch\": 1, \"duration\": 13, \"num_examples\": 1, \"num_bytes\": 11544}\u001b[0m\n",
      "\u001b[34m#metrics {\"StartTime\": 1658911247.03152, \"EndTime\": 1658911247.0838375, \"Dimensions\": {\"Algorithm\": \"Linear Learner\", \"Host\": \"algo-1\", \"Operation\": \"training\", \"Meta\": \"test_data_iter\"}, \"Metrics\": {\"Total Records Seen\": {\"sum\": 222.0, \"count\": 1, \"min\": 222, \"max\": 222}, \"Total Batches Seen\": {\"sum\": 1.0, \"count\": 1, \"min\": 1, \"max\": 1}, \"Max Records Seen Between Resets\": {\"sum\": 222.0, \"count\": 1, \"min\": 222, \"max\": 222}, \"Max Batches Seen Between Resets\": {\"sum\": 1.0, \"count\": 1, \"min\": 1, \"max\": 1}, \"Reset Count\": {\"sum\": 1.0, \"count\": 1, \"min\": 1, \"max\": 1}, \"Number of Records Since Last Reset\": {\"sum\": 222.0, \"count\": 1, \"min\": 222, \"max\": 222}, \"Number of Batches Since Last Reset\": {\"sum\": 1.0, \"count\": 1, \"min\": 1, \"max\": 1}}}\u001b[0m\n",
      "\u001b[34m[07/27/2022 08:40:47 INFO 140094935398208] #test_score (algo-1) : ('multiclass_cross_entropy_objective', 0.8117860673784135)\u001b[0m\n",
      "\u001b[34m[07/27/2022 08:40:47 INFO 140094935398208] #test_score (algo-1) : ('multiclass_accuracy', 0.7207207207207207)\u001b[0m\n",
      "\u001b[34m[07/27/2022 08:40:47 INFO 140094935398208] #test_score (algo-1) : ('multiclass_top_k_accuracy_3', 1.0)\u001b[0m\n",
      "\u001b[34m[07/27/2022 08:40:47 INFO 140094935398208] #test_score (algo-1) : ('dcg', 0.8821820095852688)\u001b[0m\n",
      "\u001b[34m[07/27/2022 08:40:47 INFO 140094935398208] #test_score (algo-1) : ('macro_recall', 0.7169678)\u001b[0m\n",
      "\u001b[34m[07/27/2022 08:40:47 INFO 140094935398208] #test_score (algo-1) : ('macro_precision', 0.7299402)\u001b[0m\n",
      "\u001b[34m[07/27/2022 08:40:47 INFO 140094935398208] #test_score (algo-1) : ('macro_f_1.000', 0.7183555)\u001b[0m\n",
      "\u001b[34m[07/27/2022 08:40:47 INFO 140094935398208] #test_score (algo-1) : ('multiclass_balanced_accuracy', 0.7169678147939017)\u001b[0m\n",
      "\u001b[34m[07/27/2022 08:40:47 INFO 140094935398208] #test_score (algo-1) : ('multiclass_log_loss', 0.9070928323188799)\u001b[0m\n",
      "\u001b[34m[07/27/2022 08:40:47 INFO 140094935398208] #quality_metric: host=algo-1, test multiclass_cross_entropy_objective <loss>=0.8117860673784135\u001b[0m\n",
      "\u001b[34m[07/27/2022 08:40:47 INFO 140094935398208] #quality_metric: host=algo-1, test multiclass_accuracy <score>=0.7207207207207207\u001b[0m\n",
      "\u001b[34m[07/27/2022 08:40:47 INFO 140094935398208] #quality_metric: host=algo-1, test multiclass_top_k_accuracy_3 <score>=1.0\u001b[0m\n",
      "\u001b[34m[07/27/2022 08:40:47 INFO 140094935398208] #quality_metric: host=algo-1, test dcg <score>=0.8821820095852688\u001b[0m\n",
      "\u001b[34m[07/27/2022 08:40:47 INFO 140094935398208] #quality_metric: host=algo-1, test macro_recall <score>=0.7169678211212158\u001b[0m\n",
      "\u001b[34m[07/27/2022 08:40:47 INFO 140094935398208] #quality_metric: host=algo-1, test macro_precision <score>=0.7299401760101318\u001b[0m\n",
      "\u001b[34m[07/27/2022 08:40:47 INFO 140094935398208] #quality_metric: host=algo-1, test macro_f_1.000 <score>=0.7183554768562317\u001b[0m\n",
      "\u001b[34m[07/27/2022 08:40:47 INFO 140094935398208] #quality_metric: host=algo-1, test multiclass_balanced_accuracy <score>=0.7169678147939017\u001b[0m\n",
      "\u001b[34m[07/27/2022 08:40:47 INFO 140094935398208] #quality_metric: host=algo-1, test multiclass_log_loss <score>=0.9070928323188799\u001b[0m\n",
      "\u001b[34m#metrics {\"StartTime\": 1658911245.3152995, \"EndTime\": 1658911247.0910213, \"Dimensions\": {\"Algorithm\": \"Linear Learner\", \"Host\": \"algo-1\", \"Operation\": \"training\"}, \"Metrics\": {\"initialize.time\": {\"sum\": 201.4446258544922, \"count\": 1, \"min\": 201.4446258544922, \"max\": 201.4446258544922}, \"epochs\": {\"sum\": 15.0, \"count\": 1, \"min\": 15, \"max\": 15}, \"check_early_stopping.time\": {\"sum\": 20.22528648376465, \"count\": 16, \"min\": 0.2040863037109375, \"max\": 3.4248828887939453}, \"update.time\": {\"sum\": 1301.0036945343018, \"count\": 15, \"min\": 57.90853500366211, \"max\": 172.89280891418457}, \"finalize.time\": {\"sum\": 116.29271507263184, \"count\": 1, \"min\": 116.29271507263184, \"max\": 116.29271507263184}, \"setuptime\": {\"sum\": 46.59104347229004, \"count\": 1, \"min\": 46.59104347229004, \"max\": 46.59104347229004}, \"totaltime\": {\"sum\": 2101.2790203094482, \"count\": 1, \"min\": 2101.2790203094482, \"max\": 2101.2790203094482}}}\u001b[0m\n"
     ]
    },
    {
     "name": "stdout",
     "output_type": "stream",
     "text": [
      "\n",
      "2022-07-27 08:41:12 Uploading - Uploading generated training model\n",
      "2022-07-27 08:41:43 Completed - Training job completed\n",
      "ProfilerReport-1658911038: NoIssuesFound\n",
      "Training seconds: 132\n",
      "Billable seconds: 132\n"
     ]
    }
   ],
   "source": [
    "multiclass_estimator.fit([train_records, val_records, test_records])"
   ]
  },
  {
   "cell_type": "markdown",
   "id": "064f88de",
   "metadata": {
    "id": "cfcb1f00-4ba1-499b-a80f-67de7d34ead2"
   },
   "source": [
    "### Deploy a model hosting endpoint"
   ]
  },
  {
   "cell_type": "code",
   "execution_count": 24,
   "id": "09cf4098",
   "metadata": {
    "id": "bd9fac51-c7b2-4b0c-bf6b-c264a6e82c03"
   },
   "outputs": [
    {
     "name": "stderr",
     "output_type": "stream",
     "text": [
      "Defaulting to the only supported framework/algorithm version: 1. Ignoring framework/algorithm version: 1.\n"
     ]
    },
    {
     "name": "stdout",
     "output_type": "stream",
     "text": [
      "--"
     ]
    },
    {
     "ename": "KeyboardInterrupt",
     "evalue": "",
     "output_type": "error",
     "traceback": [
      "\u001b[0;31m---------------------------------------------------------------------------\u001b[0m",
      "\u001b[0;31mKeyboardInterrupt\u001b[0m                         Traceback (most recent call last)",
      "Input \u001b[0;32mIn [24]\u001b[0m, in \u001b[0;36m<cell line: 1>\u001b[0;34m()\u001b[0m\n\u001b[0;32m----> 1\u001b[0m multiclass_predictor \u001b[38;5;241m=\u001b[39m \u001b[43mmulticlass_estimator\u001b[49m\u001b[38;5;241;43m.\u001b[39;49m\u001b[43mdeploy\u001b[49m\u001b[43m(\u001b[49m\u001b[43minitial_instance_count\u001b[49m\u001b[38;5;241;43m=\u001b[39;49m\u001b[38;5;241;43m1\u001b[39;49m\u001b[43m,\u001b[49m\u001b[43m \u001b[49m\u001b[43minstance_type\u001b[49m\u001b[38;5;241;43m=\u001b[39;49m\u001b[38;5;124;43m'\u001b[39;49m\u001b[38;5;124;43mml.m4.xlarge\u001b[39;49m\u001b[38;5;124;43m'\u001b[39;49m\u001b[43m)\u001b[49m\n",
      "File \u001b[0;32m~/Library/Python/3.8/lib/python/site-packages/sagemaker/estimator.py:1270\u001b[0m, in \u001b[0;36mEstimatorBase.deploy\u001b[0;34m(self, initial_instance_count, instance_type, serializer, deserializer, accelerator_type, endpoint_name, use_compiled_model, wait, model_name, kms_key, data_capture_config, tags, serverless_inference_config, async_inference_config, **kwargs)\u001b[0m\n\u001b[1;32m   1264\u001b[0m model\u001b[38;5;241m.\u001b[39mname \u001b[38;5;241m=\u001b[39m model_name\n\u001b[1;32m   1266\u001b[0m tags \u001b[38;5;241m=\u001b[39m update_inference_tags_with_jumpstart_training_tags(\n\u001b[1;32m   1267\u001b[0m     inference_tags\u001b[38;5;241m=\u001b[39mtags, training_tags\u001b[38;5;241m=\u001b[39m\u001b[38;5;28mself\u001b[39m\u001b[38;5;241m.\u001b[39mtags\n\u001b[1;32m   1268\u001b[0m )\n\u001b[0;32m-> 1270\u001b[0m \u001b[38;5;28;01mreturn\u001b[39;00m \u001b[43mmodel\u001b[49m\u001b[38;5;241;43m.\u001b[39;49m\u001b[43mdeploy\u001b[49m\u001b[43m(\u001b[49m\n\u001b[1;32m   1271\u001b[0m \u001b[43m    \u001b[49m\u001b[43minstance_type\u001b[49m\u001b[38;5;241;43m=\u001b[39;49m\u001b[43minstance_type\u001b[49m\u001b[43m,\u001b[49m\n\u001b[1;32m   1272\u001b[0m \u001b[43m    \u001b[49m\u001b[43minitial_instance_count\u001b[49m\u001b[38;5;241;43m=\u001b[39;49m\u001b[43minitial_instance_count\u001b[49m\u001b[43m,\u001b[49m\n\u001b[1;32m   1273\u001b[0m \u001b[43m    \u001b[49m\u001b[43mserializer\u001b[49m\u001b[38;5;241;43m=\u001b[39;49m\u001b[43mserializer\u001b[49m\u001b[43m,\u001b[49m\n\u001b[1;32m   1274\u001b[0m \u001b[43m    \u001b[49m\u001b[43mdeserializer\u001b[49m\u001b[38;5;241;43m=\u001b[39;49m\u001b[43mdeserializer\u001b[49m\u001b[43m,\u001b[49m\n\u001b[1;32m   1275\u001b[0m \u001b[43m    \u001b[49m\u001b[43maccelerator_type\u001b[49m\u001b[38;5;241;43m=\u001b[39;49m\u001b[43maccelerator_type\u001b[49m\u001b[43m,\u001b[49m\n\u001b[1;32m   1276\u001b[0m \u001b[43m    \u001b[49m\u001b[43mendpoint_name\u001b[49m\u001b[38;5;241;43m=\u001b[39;49m\u001b[43mendpoint_name\u001b[49m\u001b[43m,\u001b[49m\n\u001b[1;32m   1277\u001b[0m \u001b[43m    \u001b[49m\u001b[43mtags\u001b[49m\u001b[38;5;241;43m=\u001b[39;49m\u001b[43mtags\u001b[49m\u001b[43m \u001b[49m\u001b[38;5;129;43;01mor\u001b[39;49;00m\u001b[43m \u001b[49m\u001b[38;5;28;43mself\u001b[39;49m\u001b[38;5;241;43m.\u001b[39;49m\u001b[43mtags\u001b[49m\u001b[43m,\u001b[49m\n\u001b[1;32m   1278\u001b[0m \u001b[43m    \u001b[49m\u001b[43mwait\u001b[49m\u001b[38;5;241;43m=\u001b[39;49m\u001b[43mwait\u001b[49m\u001b[43m,\u001b[49m\n\u001b[1;32m   1279\u001b[0m \u001b[43m    \u001b[49m\u001b[43mkms_key\u001b[49m\u001b[38;5;241;43m=\u001b[39;49m\u001b[43mkms_key\u001b[49m\u001b[43m,\u001b[49m\n\u001b[1;32m   1280\u001b[0m \u001b[43m    \u001b[49m\u001b[43mdata_capture_config\u001b[49m\u001b[38;5;241;43m=\u001b[39;49m\u001b[43mdata_capture_config\u001b[49m\u001b[43m,\u001b[49m\n\u001b[1;32m   1281\u001b[0m \u001b[43m    \u001b[49m\u001b[43mserverless_inference_config\u001b[49m\u001b[38;5;241;43m=\u001b[39;49m\u001b[43mserverless_inference_config\u001b[49m\u001b[43m,\u001b[49m\n\u001b[1;32m   1282\u001b[0m \u001b[43m    \u001b[49m\u001b[43masync_inference_config\u001b[49m\u001b[38;5;241;43m=\u001b[39;49m\u001b[43masync_inference_config\u001b[49m\u001b[43m,\u001b[49m\n\u001b[1;32m   1283\u001b[0m \u001b[43m\u001b[49m\u001b[43m)\u001b[49m\n",
      "File \u001b[0;32m~/Library/Python/3.8/lib/python/site-packages/sagemaker/model.py:1121\u001b[0m, in \u001b[0;36mModel.deploy\u001b[0;34m(self, initial_instance_count, instance_type, serializer, deserializer, accelerator_type, endpoint_name, tags, kms_key, wait, data_capture_config, async_inference_config, serverless_inference_config, **kwargs)\u001b[0m\n\u001b[1;32m   1116\u001b[0m         async_inference_config \u001b[38;5;241m=\u001b[39m \u001b[38;5;28mself\u001b[39m\u001b[38;5;241m.\u001b[39m_build_default_async_inference_config(\n\u001b[1;32m   1117\u001b[0m             async_inference_config\n\u001b[1;32m   1118\u001b[0m         )\n\u001b[1;32m   1119\u001b[0m     async_inference_config_dict \u001b[38;5;241m=\u001b[39m async_inference_config\u001b[38;5;241m.\u001b[39m_to_request_dict()\n\u001b[0;32m-> 1121\u001b[0m \u001b[38;5;28;43mself\u001b[39;49m\u001b[38;5;241;43m.\u001b[39;49m\u001b[43msagemaker_session\u001b[49m\u001b[38;5;241;43m.\u001b[39;49m\u001b[43mendpoint_from_production_variants\u001b[49m\u001b[43m(\u001b[49m\n\u001b[1;32m   1122\u001b[0m \u001b[43m    \u001b[49m\u001b[43mname\u001b[49m\u001b[38;5;241;43m=\u001b[39;49m\u001b[38;5;28;43mself\u001b[39;49m\u001b[38;5;241;43m.\u001b[39;49m\u001b[43mendpoint_name\u001b[49m\u001b[43m,\u001b[49m\n\u001b[1;32m   1123\u001b[0m \u001b[43m    \u001b[49m\u001b[43mproduction_variants\u001b[49m\u001b[38;5;241;43m=\u001b[39;49m\u001b[43m[\u001b[49m\u001b[43mproduction_variant\u001b[49m\u001b[43m]\u001b[49m\u001b[43m,\u001b[49m\n\u001b[1;32m   1124\u001b[0m \u001b[43m    \u001b[49m\u001b[43mtags\u001b[49m\u001b[38;5;241;43m=\u001b[39;49m\u001b[43mtags\u001b[49m\u001b[43m,\u001b[49m\n\u001b[1;32m   1125\u001b[0m \u001b[43m    \u001b[49m\u001b[43mkms_key\u001b[49m\u001b[38;5;241;43m=\u001b[39;49m\u001b[43mkms_key\u001b[49m\u001b[43m,\u001b[49m\n\u001b[1;32m   1126\u001b[0m \u001b[43m    \u001b[49m\u001b[43mwait\u001b[49m\u001b[38;5;241;43m=\u001b[39;49m\u001b[43mwait\u001b[49m\u001b[43m,\u001b[49m\n\u001b[1;32m   1127\u001b[0m \u001b[43m    \u001b[49m\u001b[43mdata_capture_config_dict\u001b[49m\u001b[38;5;241;43m=\u001b[39;49m\u001b[43mdata_capture_config_dict\u001b[49m\u001b[43m,\u001b[49m\n\u001b[1;32m   1128\u001b[0m \u001b[43m    \u001b[49m\u001b[43masync_inference_config_dict\u001b[49m\u001b[38;5;241;43m=\u001b[39;49m\u001b[43masync_inference_config_dict\u001b[49m\u001b[43m,\u001b[49m\n\u001b[1;32m   1129\u001b[0m \u001b[43m\u001b[49m\u001b[43m)\u001b[49m\n\u001b[1;32m   1131\u001b[0m \u001b[38;5;28;01mif\u001b[39;00m \u001b[38;5;28mself\u001b[39m\u001b[38;5;241m.\u001b[39mpredictor_cls:\n\u001b[1;32m   1132\u001b[0m     predictor \u001b[38;5;241m=\u001b[39m \u001b[38;5;28mself\u001b[39m\u001b[38;5;241m.\u001b[39mpredictor_cls(\u001b[38;5;28mself\u001b[39m\u001b[38;5;241m.\u001b[39mendpoint_name, \u001b[38;5;28mself\u001b[39m\u001b[38;5;241m.\u001b[39msagemaker_session)\n",
      "File \u001b[0;32m~/Library/Python/3.8/lib/python/site-packages/sagemaker/session.py:3632\u001b[0m, in \u001b[0;36mSession.endpoint_from_production_variants\u001b[0;34m(self, name, production_variants, tags, kms_key, wait, data_capture_config_dict, async_inference_config_dict)\u001b[0m\n\u001b[1;32m   3629\u001b[0m LOGGER\u001b[38;5;241m.\u001b[39minfo(\u001b[38;5;124m\"\u001b[39m\u001b[38;5;124mCreating endpoint-config with name \u001b[39m\u001b[38;5;132;01m%s\u001b[39;00m\u001b[38;5;124m\"\u001b[39m, name)\n\u001b[1;32m   3630\u001b[0m \u001b[38;5;28mself\u001b[39m\u001b[38;5;241m.\u001b[39msagemaker_client\u001b[38;5;241m.\u001b[39mcreate_endpoint_config(\u001b[38;5;241m*\u001b[39m\u001b[38;5;241m*\u001b[39mconfig_options)\n\u001b[0;32m-> 3632\u001b[0m \u001b[38;5;28;01mreturn\u001b[39;00m \u001b[38;5;28;43mself\u001b[39;49m\u001b[38;5;241;43m.\u001b[39;49m\u001b[43mcreate_endpoint\u001b[49m\u001b[43m(\u001b[49m\u001b[43mendpoint_name\u001b[49m\u001b[38;5;241;43m=\u001b[39;49m\u001b[43mname\u001b[49m\u001b[43m,\u001b[49m\u001b[43m \u001b[49m\u001b[43mconfig_name\u001b[49m\u001b[38;5;241;43m=\u001b[39;49m\u001b[43mname\u001b[49m\u001b[43m,\u001b[49m\u001b[43m \u001b[49m\u001b[43mtags\u001b[49m\u001b[38;5;241;43m=\u001b[39;49m\u001b[43mtags\u001b[49m\u001b[43m,\u001b[49m\u001b[43m \u001b[49m\u001b[43mwait\u001b[49m\u001b[38;5;241;43m=\u001b[39;49m\u001b[43mwait\u001b[49m\u001b[43m)\u001b[49m\n",
      "File \u001b[0;32m~/Library/Python/3.8/lib/python/site-packages/sagemaker/session.py:3106\u001b[0m, in \u001b[0;36mSession.create_endpoint\u001b[0;34m(self, endpoint_name, config_name, tags, wait)\u001b[0m\n\u001b[1;32m   3102\u001b[0m \u001b[38;5;28mself\u001b[39m\u001b[38;5;241m.\u001b[39msagemaker_client\u001b[38;5;241m.\u001b[39mcreate_endpoint(\n\u001b[1;32m   3103\u001b[0m     EndpointName\u001b[38;5;241m=\u001b[39mendpoint_name, EndpointConfigName\u001b[38;5;241m=\u001b[39mconfig_name, Tags\u001b[38;5;241m=\u001b[39mtags\n\u001b[1;32m   3104\u001b[0m )\n\u001b[1;32m   3105\u001b[0m \u001b[38;5;28;01mif\u001b[39;00m wait:\n\u001b[0;32m-> 3106\u001b[0m     \u001b[38;5;28;43mself\u001b[39;49m\u001b[38;5;241;43m.\u001b[39;49m\u001b[43mwait_for_endpoint\u001b[49m\u001b[43m(\u001b[49m\u001b[43mendpoint_name\u001b[49m\u001b[43m)\u001b[49m\n\u001b[1;32m   3107\u001b[0m \u001b[38;5;28;01mreturn\u001b[39;00m endpoint_name\n",
      "File \u001b[0;32m~/Library/Python/3.8/lib/python/site-packages/sagemaker/session.py:3400\u001b[0m, in \u001b[0;36mSession.wait_for_endpoint\u001b[0;34m(self, endpoint, poll)\u001b[0m\n\u001b[1;32m   3386\u001b[0m \u001b[38;5;28;01mdef\u001b[39;00m \u001b[38;5;21mwait_for_endpoint\u001b[39m(\u001b[38;5;28mself\u001b[39m, endpoint, poll\u001b[38;5;241m=\u001b[39m\u001b[38;5;241m30\u001b[39m):\n\u001b[1;32m   3387\u001b[0m     \u001b[38;5;124;03m\"\"\"Wait for an Amazon SageMaker endpoint deployment to complete.\u001b[39;00m\n\u001b[1;32m   3388\u001b[0m \n\u001b[1;32m   3389\u001b[0m \u001b[38;5;124;03m    Args:\u001b[39;00m\n\u001b[0;32m   (...)\u001b[0m\n\u001b[1;32m   3398\u001b[0m \u001b[38;5;124;03m        dict: Return value from the ``DescribeEndpoint`` API.\u001b[39;00m\n\u001b[1;32m   3399\u001b[0m \u001b[38;5;124;03m    \"\"\"\u001b[39;00m\n\u001b[0;32m-> 3400\u001b[0m     desc \u001b[38;5;241m=\u001b[39m \u001b[43m_wait_until\u001b[49m\u001b[43m(\u001b[49m\u001b[38;5;28;43;01mlambda\u001b[39;49;00m\u001b[43m:\u001b[49m\u001b[43m \u001b[49m\u001b[43m_deploy_done\u001b[49m\u001b[43m(\u001b[49m\u001b[38;5;28;43mself\u001b[39;49m\u001b[38;5;241;43m.\u001b[39;49m\u001b[43msagemaker_client\u001b[49m\u001b[43m,\u001b[49m\u001b[43m \u001b[49m\u001b[43mendpoint\u001b[49m\u001b[43m)\u001b[49m\u001b[43m,\u001b[49m\u001b[43m \u001b[49m\u001b[43mpoll\u001b[49m\u001b[43m)\u001b[49m\n\u001b[1;32m   3401\u001b[0m     status \u001b[38;5;241m=\u001b[39m desc[\u001b[38;5;124m\"\u001b[39m\u001b[38;5;124mEndpointStatus\u001b[39m\u001b[38;5;124m\"\u001b[39m]\n\u001b[1;32m   3403\u001b[0m     \u001b[38;5;28;01mif\u001b[39;00m status \u001b[38;5;241m!=\u001b[39m \u001b[38;5;124m\"\u001b[39m\u001b[38;5;124mInService\u001b[39m\u001b[38;5;124m\"\u001b[39m:\n",
      "File \u001b[0;32m~/Library/Python/3.8/lib/python/site-packages/sagemaker/session.py:4808\u001b[0m, in \u001b[0;36m_wait_until\u001b[0;34m(callable_fn, poll)\u001b[0m\n\u001b[1;32m   4806\u001b[0m result \u001b[38;5;241m=\u001b[39m callable_fn()\n\u001b[1;32m   4807\u001b[0m \u001b[38;5;28;01mwhile\u001b[39;00m result \u001b[38;5;129;01mis\u001b[39;00m \u001b[38;5;28;01mNone\u001b[39;00m:\n\u001b[0;32m-> 4808\u001b[0m     \u001b[43mtime\u001b[49m\u001b[38;5;241;43m.\u001b[39;49m\u001b[43msleep\u001b[49m\u001b[43m(\u001b[49m\u001b[43mpoll\u001b[49m\u001b[43m)\u001b[49m\n\u001b[1;32m   4809\u001b[0m     result \u001b[38;5;241m=\u001b[39m callable_fn()\n\u001b[1;32m   4810\u001b[0m \u001b[38;5;28;01mreturn\u001b[39;00m result\n",
      "\u001b[0;31mKeyboardInterrupt\u001b[0m: "
     ]
    }
   ],
   "source": [
    "multiclass_predictor = multiclass_estimator.deploy(initial_instance_count=1, instance_type='ml.m4.xlarge')"
   ]
  },
  {
   "cell_type": "markdown",
   "id": "eb7d5798",
   "metadata": {
    "id": "d5274955-f1a9-4a94-ba1f-b67b687c5286"
   },
   "source": [
    "### Evaluate a model on a test set using the given prediction endpoint. Display classification metrics"
   ]
  },
  {
   "cell_type": "code",
   "execution_count": null,
   "id": "32950098",
   "metadata": {
    "id": "f4951683-c2b1-44a8-9d53-4576b17dc8a8"
   },
   "outputs": [],
   "source": [
    "def evaluate_metrics(predictor, test_features, test_labels):\n",
    "    # split the test dataset into 100 batches and evaluate using prediction endpoint\n",
    "    prediction_batches = [predictor.predict(batch) for batch in np.array_split(test_features, 100)]\n",
    "\n",
    "    # parse protobuf responses to extract predicted labels\n",
    "    extract_label = lambda x: x.label['predicted_label'].float32_tensor.values\n",
    "    test_preds = np.concatenate([np.array([extract_label(x) for x in batch]) for batch in prediction_batches])\n",
    "    test_preds = test_preds.reshape((-1,))\n",
    "    \n",
    "    # calculate accuracy\n",
    "    accuracy = (test_preds == test_labels).sum() / test_labels.shape[0]\n",
    "    \n",
    "    # calculate recall for each class\n",
    "    recall_per_class, classes = [], []\n",
    "    for target_label in np.unique(test_labels):\n",
    "        recall_numerator = np.logical_and(test_preds == target_label, test_labels == target_label).sum()\n",
    "        recall_denominator = (test_labels == target_label).sum()\n",
    "        recall_per_class.append(recall_numerator / recall_denominator)\n",
    "        classes.append(label_map[target_label])\n",
    "    recall = pd.DataFrame({'recall': recall_per_class, 'class_label': classes})\n",
    "    recall.sort_values('class_label', ascending=False, inplace=True)\n",
    "\n",
    "    # calculate confusion matrix\n",
    "    label_mapper = np.vectorize(lambda x: label_map[x])\n",
    "    confusion_matrix = pd.crosstab(label_mapper(test_labels), label_mapper(test_preds), \n",
    "                                   rownames=['Actuals'], colnames=['Predictions'], normalize='index')\n",
    "\n",
    "    # display results\n",
    "    sns.heatmap(confusion_matrix, annot=True, fmt='.2f', cmap=\"YlGnBu\").set_title('Confusion Matrix')  \n",
    "    ax = recall.plot(kind='barh', x='class_label', y='recall', color='steelblue', title='Recall', legend=False)\n",
    "    ax.set_ylabel('')\n",
    "    print('Accuracy: {:.3f}'.format(accuracy))"
   ]
  },
  {
   "cell_type": "markdown",
   "id": "1ddccb50",
   "metadata": {
    "id": "0c9ac589-ffe4-443f-999b-7d5eb4f6073a"
   },
   "source": [
    "### Evaluate metrics of the model trained with default hyperparameters"
   ]
  },
  {
   "cell_type": "code",
   "execution_count": null,
   "id": "12a197b2",
   "metadata": {
    "id": "32f913fd-4528-4c54-9261-ea492d975565"
   },
   "outputs": [],
   "source": [
    "evaluate_metrics(multiclass_predictor, test_features, test_labels)"
   ]
  },
  {
   "cell_type": "markdown",
   "id": "c43a32fb",
   "metadata": {
    "id": "dbbd94f3-b547-452d-ad51-9e9e966f6bb6"
   },
   "source": [
    "### Instantiate the LinearLearner estimator object"
   ]
  },
  {
   "cell_type": "code",
   "execution_count": null,
   "id": "acb89094",
   "metadata": {
    "id": "b43f7485-2b47-41c1-aece-55f49b7335d6"
   },
   "outputs": [],
   "source": [
    "balanced_multiclass_estimator = sagemaker.LinearLearner(role=role,\n",
    "                                                        train_instance_count=1,\n",
    "                                                        train_instance_type='ml.m4.xlarge',\n",
    "                                                        predictor_type='multiclass_classifier',\n",
    "                                                        num_classes=7,\n",
    "                                                        balance_multiclass_weights=True)"
   ]
  },
  {
   "cell_type": "markdown",
   "id": "6ef786d7",
   "metadata": {
    "id": "541f78b2-8e73-4d78-92fd-69d55e5c79e9"
   },
   "source": [
    "### Start a training job"
   ]
  },
  {
   "cell_type": "code",
   "execution_count": null,
   "id": "1b87ce9b",
   "metadata": {
    "id": "0ed76f4f-6de1-4f4d-96af-290a6582b206"
   },
   "outputs": [],
   "source": [
    "balanced_multiclass_estimator.fit([train_records, val_records, test_records])"
   ]
  },
  {
   "cell_type": "markdown",
   "id": "2994d6fa",
   "metadata": {
    "id": "fef99fea-9f8c-46af-b01f-ed220d903b96"
   },
   "source": [
    "### Deploy a model hosting endpoint"
   ]
  },
  {
   "cell_type": "code",
   "execution_count": null,
   "id": "b22cfbcb",
   "metadata": {
    "id": "e9e057b9-5622-442f-9c32-92032c99f97b"
   },
   "outputs": [],
   "source": [
    "balanced_multiclass_predictor = balanced_multiclass_estimator.deploy(initial_instance_count=1, \n",
    "                                                                     instance_type='ml.m4.xlarge')"
   ]
  },
  {
   "cell_type": "markdown",
   "id": "1d3bfc78",
   "metadata": {
    "id": "54ea5618-9776-4416-8df4-d3e8ec0e3be1"
   },
   "source": [
    "### Evaluate metrics of the model trained with balanced class weights"
   ]
  },
  {
   "cell_type": "code",
   "execution_count": null,
   "id": "202b063b",
   "metadata": {
    "id": "76853505-0513-4e65-a86d-bc0c4148a872"
   },
   "outputs": [],
   "source": [
    "evaluate_metrics(balanced_multiclass_predictor, test_features, test_labels)"
   ]
  },
  {
   "cell_type": "markdown",
   "id": "cfedb051",
   "metadata": {
    "id": "33d8d9b6d51b45c7b95dbeca3034b2d2"
   },
   "source": [
    "### Print the deployed endpoints"
   ]
  },
  {
   "cell_type": "code",
   "execution_count": null,
   "id": "9f6a4cac",
   "metadata": {
    "id": "391621a4-a3ee-485c-9085-385150b3226e"
   },
   "outputs": [],
   "source": [
    "client = boto3.client('sagemaker')\n",
    "response = client.list_endpoints(\n",
    "    StatusEquals = 'InService'\n",
    ")\n",
    "print(response)"
   ]
  },
  {
   "cell_type": "code",
   "execution_count": null,
   "id": "4ca7b38b",
   "metadata": {
    "id": "e9a58879-f14b-4627-baa8-79740f843f0c"
   },
   "outputs": [],
   "source": [
    "#ARN\n",
    "arn:aws:sagemaker:"
   ]
  },
  {
   "cell_type": "code",
   "execution_count": null,
   "id": "7fcd4583",
   "metadata": {
    "id": "9fe3e82c-835f-4b8c-a099-790f4f0fa8fc"
   },
   "outputs": [],
   "source": [
    "#ARN\n",
    "arn:aws:sagemaker:"
   ]
  },
  {
   "cell_type": "markdown",
   "id": "aee2d4c1",
   "metadata": {
    "id": "f12e0b85-0141-4ae4-b93c-82590878488c"
   },
   "source": [
    "### Delete endpoints"
   ]
  },
  {
   "cell_type": "code",
   "execution_count": null,
   "id": "0fc91b82",
   "metadata": {
    "id": "57f036e4-6487-4154-87d6-8e8b581a336c"
   },
   "outputs": [],
   "source": [
    "multiclass_predictor.delete_endpoint()\n",
    "balanced_multiclass_predictor.delete_endpoint()"
   ]
  },
  {
   "cell_type": "markdown",
   "id": "6bf6f6ea",
   "metadata": {
    "id": "e485b237-d951-402c-8f98-d85ae75836e6"
   },
   "source": [
    "### In this Notebook, we have learnt how to predict Risk Index using multiclass classifier SageMaker Models. How to build, run and evaluate them in Watson Studio platform. These models are deployed on SageMaker Platform."
   ]
  },
  {
   "cell_type": "code",
   "execution_count": null,
   "id": "82be302d",
   "metadata": {
    "id": "38ea7e63-42f7-4cdf-9316-d49b051bf563"
   },
   "outputs": [],
   "source": [
    "print(\"> The Notebook ran in : \", time.time() - st) "
   ]
  }
 ],
 "metadata": {
  "kernelspec": {
   "display_name": "Python 3 (ipykernel)",
   "language": "python",
   "name": "python3"
  },
  "language_info": {
   "codemirror_mode": {
    "name": "ipython",
    "version": 3
   },
   "file_extension": ".py",
   "mimetype": "text/x-python",
   "name": "python",
   "nbconvert_exporter": "python",
   "pygments_lexer": "ipython3",
   "version": "3.8.9"
  }
 },
 "nbformat": 4,
 "nbformat_minor": 5
}
