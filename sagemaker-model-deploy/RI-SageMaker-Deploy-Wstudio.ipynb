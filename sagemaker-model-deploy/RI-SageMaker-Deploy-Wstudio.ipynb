{
 "cells": [
  {
   "cell_type": "markdown",
   "id": "46e331c8",
   "metadata": {
    "id": "1c2a3654-8b51-4150-b16f-9a3773e26390"
   },
   "source": [
    "# Build multiclass classifiers with Amazon SageMaker linear learner to predict Risk Index per Region"
   ]
  },
  {
   "cell_type": "code",
   "execution_count": 1,
   "id": "0f4475b7",
   "metadata": {
    "id": "0efeaf67-910c-4372-a0b0-6b37b9d24070"
   },
   "outputs": [],
   "source": [
    "import time\n",
    "st = time.time()"
   ]
  },
  {
   "cell_type": "code",
   "execution_count": 2,
   "id": "5918ea44",
   "metadata": {
    "id": "016491122aff46b785a056cdabb1488b"
   },
   "outputs": [
    {
     "name": "stdout",
     "output_type": "stream",
     "text": [
      "Requirement already satisfied: sagemaker in /opt/conda/envs/Python-3.8-main/lib/python3.8/site-packages (2.101.1)\n",
      "Requirement already satisfied: boto3<2.0,>=1.20.21 in /opt/conda/envs/Python-3.8-main/lib/python3.8/site-packages (from sagemaker) (1.24.42)\n",
      "Requirement already satisfied: protobuf3-to-dict<1.0,>=0.1.5 in /opt/conda/envs/Python-3.8-main/lib/python3.8/site-packages (from sagemaker) (0.1.5)\n",
      "Requirement already satisfied: packaging>=20.0 in /opt/conda/envs/Python-3.8-main/lib/python3.8/site-packages (from sagemaker) (21.3)\n",
      "Requirement already satisfied: attrs<22,>=20.3.0 in /opt/conda/envs/Python-3.8-main/lib/python3.8/site-packages (from sagemaker) (21.2.0)\n",
      "Requirement already satisfied: google-pasta in /opt/conda/envs/Python-3.8-main/lib/python3.8/site-packages (from sagemaker) (0.2.0)\n",
      "Requirement already satisfied: smdebug-rulesconfig==1.0.1 in /opt/conda/envs/Python-3.8-main/lib/python3.8/site-packages (from sagemaker) (1.0.1)\n",
      "Requirement already satisfied: pathos in /opt/conda/envs/Python-3.8-main/lib/python3.8/site-packages (from sagemaker) (0.2.9)\n",
      "Requirement already satisfied: protobuf<4.0,>=3.1 in /opt/conda/envs/Python-3.8-main/lib/python3.8/site-packages (from sagemaker) (3.11.2)\n",
      "Requirement already satisfied: pandas in /opt/conda/envs/Python-3.8-main/lib/python3.8/site-packages (from sagemaker) (1.2.4)\n",
      "Requirement already satisfied: numpy<2.0,>=1.9.0 in /opt/conda/envs/Python-3.8-main/lib/python3.8/site-packages (from sagemaker) (1.19.2)\n",
      "Requirement already satisfied: importlib-metadata<5.0,>=1.4.0 in /opt/conda/envs/Python-3.8-main/lib/python3.8/site-packages (from sagemaker) (3.10.0)\n",
      "Requirement already satisfied: s3transfer<0.7.0,>=0.6.0 in /opt/conda/envs/Python-3.8-main/lib/python3.8/site-packages (from boto3<2.0,>=1.20.21->sagemaker) (0.6.0)\n",
      "Requirement already satisfied: botocore<1.28.0,>=1.27.42 in /opt/conda/envs/Python-3.8-main/lib/python3.8/site-packages (from boto3<2.0,>=1.20.21->sagemaker) (1.27.42)\n",
      "Requirement already satisfied: jmespath<2.0.0,>=0.7.1 in /opt/conda/envs/Python-3.8-main/lib/python3.8/site-packages (from boto3<2.0,>=1.20.21->sagemaker) (0.10.0)\n",
      "Requirement already satisfied: python-dateutil<3.0.0,>=2.1 in /opt/conda/envs/Python-3.8-main/lib/python3.8/site-packages (from botocore<1.28.0,>=1.27.42->boto3<2.0,>=1.20.21->sagemaker) (2.8.1)\n",
      "Requirement already satisfied: urllib3<1.27,>=1.25.4 in /opt/conda/envs/Python-3.8-main/lib/python3.8/site-packages (from botocore<1.28.0,>=1.27.42->boto3<2.0,>=1.20.21->sagemaker) (1.26.6)\n",
      "Requirement already satisfied: zipp>=0.5 in /opt/conda/envs/Python-3.8-main/lib/python3.8/site-packages (from importlib-metadata<5.0,>=1.4.0->sagemaker) (3.4.1)\n",
      "Requirement already satisfied: pyparsing!=3.0.5,>=2.0.2 in /opt/conda/envs/Python-3.8-main/lib/python3.8/site-packages (from packaging>=20.0->sagemaker) (2.4.7)\n",
      "Requirement already satisfied: six>=1.9 in /opt/conda/envs/Python-3.8-main/lib/python3.8/site-packages (from protobuf<4.0,>=3.1->sagemaker) (1.15.0)\n",
      "Requirement already satisfied: setuptools in /opt/conda/envs/Python-3.8-main/lib/python3.8/site-packages (from protobuf<4.0,>=3.1->sagemaker) (52.0.0.post20211006)\n",
      "Requirement already satisfied: pytz>=2017.3 in /opt/conda/envs/Python-3.8-main/lib/python3.8/site-packages (from pandas->sagemaker) (2021.1)\n",
      "Requirement already satisfied: dill>=0.3.5.1 in /opt/conda/envs/Python-3.8-main/lib/python3.8/site-packages (from pathos->sagemaker) (0.3.5.1)\n",
      "Requirement already satisfied: pox>=0.3.1 in /opt/conda/envs/Python-3.8-main/lib/python3.8/site-packages (from pathos->sagemaker) (0.3.1)\n",
      "Requirement already satisfied: multiprocess>=0.70.13 in /opt/conda/envs/Python-3.8-main/lib/python3.8/site-packages (from pathos->sagemaker) (0.70.13)\n",
      "Requirement already satisfied: ppft>=1.7.6.5 in /opt/conda/envs/Python-3.8-main/lib/python3.8/site-packages (from pathos->sagemaker) (1.7.6.5)\n"
     ]
    }
   ],
   "source": [
    "!pip install sagemaker"
   ]
  },
  {
   "cell_type": "markdown",
   "id": "54afae21",
   "metadata": {
    "id": "9be6fde4-27a3-4df0-ac29-80e694481bda"
   },
   "source": [
    "### Import the libraries into the notebook"
   ]
  },
  {
   "cell_type": "code",
   "execution_count": 3,
   "id": "bd4565b7",
   "metadata": {
    "id": "ab4e3b14-063c-41db-81d5-173baf52d73c"
   },
   "outputs": [],
   "source": [
    "%matplotlib inline\n",
    "import numpy as np \n",
    "import pandas as pd \n",
    "import matplotlib.pyplot as plt\n",
    "import ipaddress\n",
    "from sklearn import preprocessing\n",
    "import warnings\n",
    "warnings.filterwarnings(\"ignore\")\n",
    "import time\n",
    "import boto3\n",
    "from sklearn.linear_model import LogisticRegression\n",
    "from sklearn.model_selection import train_test_split\n",
    "from sklearn import preprocessing\n",
    "from sklearn.model_selection import train_test_split\n",
    "from sklearn.ensemble import RandomForestClassifier\n",
    "from sklearn.metrics import accuracy_score\n",
    "from sklearn.metrics import confusion_matrix\n",
    "from sklearn import metrics\n",
    "import seaborn as sns\n",
    "sns.set(style=\"white\")\n",
    "sns.set(style=\"whitegrid\", color_codes=True)"
   ]
  },
  {
   "cell_type": "markdown",
   "id": "1eba3698",
   "metadata": {
    "id": "60c6ad98-95b7-48bb-8f4b-80b37104f116"
   },
   "source": [
    "### Update the credentials for S3 Bucket\n",
    "We will ingest the data files which were pre-processed in the earlier steps using the Data pre-processing Notebook"
   ]
  },
  {
   "cell_type": "code",
   "execution_count": 4,
   "id": "83fda6c8",
   "metadata": {
    "id": "8d3c2e2e-92dc-488e-af20-1d7d38c22766"
   },
   "outputs": [],
   "source": [
    "BUCKET_TYPE=\"s3\"\n",
    "BUCKET_NAME=\"\"\n",
    "BUCKET_REGION=\"\"\n",
    "AWS_ACCESS_KEY_ID=\"\"\n",
    "AWS_SECRET_ACCESS_KEY=\"\""
   ]
  },
  {
   "cell_type": "markdown",
   "id": "6accaed1",
   "metadata": {
    "id": "9b768f46-7e6e-4058-8786-6efda5222ba7"
   },
   "source": [
    "### Create an instance with S3 Credentials "
   ]
  },
  {
   "cell_type": "code",
   "execution_count": 5,
   "id": "4f29bdd9",
   "metadata": {
    "id": "26595209-14cc-468c-abe7-c512a007d172"
   },
   "outputs": [],
   "source": [
    "s3 = boto3.resource(\n",
    "    service_name = BUCKET_TYPE,\n",
    "    region_name = BUCKET_REGION,\n",
    "    aws_access_key_id = AWS_ACCESS_KEY_ID,\n",
    "    aws_secret_access_key = AWS_SECRET_ACCESS_KEY\n",
    ")"
   ]
  },
  {
   "cell_type": "markdown",
   "id": "a8ffee58",
   "metadata": {
    "id": "c3a2becd-c232-4286-ab41-2b91f9ac1766"
   },
   "source": [
    "### Read and display the available datasets in S3 Bucket"
   ]
  },
  {
   "cell_type": "code",
   "execution_count": 6,
   "id": "8aff4a88",
   "metadata": {
    "id": "d081116b-6859-4c9b-b6e7-604be022d2f8"
   },
   "outputs": [
    {
     "data": {
      "text/plain": [
       "['15-day-pred.csv',\n",
       " 'Belgium-country-output.csv',\n",
       " 'Belgium-ts.csv',\n",
       " 'Data-region-RI-SM.csv',\n",
       " 'Risk-Index-Output/',\n",
       " 'Risk-Index_data/',\n",
       " 'Risk-Index_data/Data-region-RI-SM-Scoring.csv',\n",
       " 'Risk-Index_data/Data-region-RI-SM.csv',\n",
       " 'Risk-Index_data/Data-region-RI.csv',\n",
       " 'Risk-Index_data/RI_data.csv',\n",
       " 'Risk-Index_data/test.csv',\n",
       " 'Risk-Index_data/train.csv',\n",
       " 'Risk-Index_data/ts-data-region-RI.csv',\n",
       " 'Risk_Index/Risk_index_training_recoded.csv',\n",
       " 'flanders-output.csv',\n",
       " 'my_pred_model_Belgium.h5',\n",
       " 'my_pred_model_Flanders.h5',\n",
       " 'pred-data-15.csv',\n",
       " 'pred-data.csv',\n",
       " 'pred-models/',\n",
       " 'raw-data/',\n",
       " 'raw-data/COVID19BE_CASES_AGESEX.csv',\n",
       " 'raw-data/COVID19BE_HOSP.csv',\n",
       " 'test-data.csv',\n",
       " 'test-y-data.csv',\n",
       " 'time-series-data/',\n",
       " 'time-series-data/formatted/',\n",
       " 'time-series-data/formatted/Belgium-ts.csv',\n",
       " 'time-series-data/formatted/forecast-data-15.csv',\n",
       " 'time-series-data/formatted/results/',\n",
       " 'time-series-data/formatted/ts-Brussels-grouped.csv',\n",
       " 'time-series-data/formatted/ts-Brussels-grouped.xlsx',\n",
       " 'time-series-data/formatted/ts-Flanders-grouped.csv',\n",
       " 'time-series-data/formatted/ts-Flanders-grouped.xlsx',\n",
       " 'time-series-data/formatted/ts-Wallonia-grouped.csv',\n",
       " 'time-series-data/formatted/ts-Wallonia-grouped.xlsx',\n",
       " 'time-series-data/formatted/ts-data-region.csv',\n",
       " 'time-series-data/formatted/ts-data-region.xlsx',\n",
       " 'time-series-data/ts-Brussels-grouped.csv',\n",
       " 'time-series-data/ts-Flanders-grouped.csv',\n",
       " 'time-series-data/ts-Wallonia-grouped.csv',\n",
       " 'time-series-data/ts-data-region.csv',\n",
       " 'ts-Brussels.csv',\n",
       " 'ts-Flanders.csv',\n",
       " 'ts-Wallonia.csv',\n",
       " 'ts-data-region-RI.csv',\n",
       " 'ts-data-region.csv']"
      ]
     },
     "execution_count": 6,
     "metadata": {},
     "output_type": "execute_result"
    }
   ],
   "source": [
    "datasets = []\n",
    "for obj in s3.Bucket(BUCKET_NAME).objects.all():\n",
    "    datasets.append(obj.key)\n",
    "datasets"
   ]
  },
  {
   "cell_type": "markdown",
   "id": "9c4948fd",
   "metadata": {
    "id": "4551c425-aea9-4002-8745-dc0e39fcb12c"
   },
   "source": [
    "### Read the Risk Index per Region data as dataframe and display five records"
   ]
  },
  {
   "cell_type": "code",
   "execution_count": 7,
   "id": "a6e98033",
   "metadata": {
    "id": "aa5f1912-8e3b-4d52-a493-8c674b33bf56"
   },
   "outputs": [
    {
     "data": {
      "text/html": [
       "<div>\n",
       "<style scoped>\n",
       "    .dataframe tbody tr th:only-of-type {\n",
       "        vertical-align: middle;\n",
       "    }\n",
       "\n",
       "    .dataframe tbody tr th {\n",
       "        vertical-align: top;\n",
       "    }\n",
       "\n",
       "    .dataframe thead th {\n",
       "        text-align: right;\n",
       "    }\n",
       "</style>\n",
       "<table border=\"1\" class=\"dataframe\">\n",
       "  <thead>\n",
       "    <tr style=\"text-align: right;\">\n",
       "      <th></th>\n",
       "      <th>DATE</th>\n",
       "      <th>REGION</th>\n",
       "      <th>Total_cases</th>\n",
       "      <th>Risk_Index</th>\n",
       "    </tr>\n",
       "  </thead>\n",
       "  <tbody>\n",
       "    <tr>\n",
       "      <th>0</th>\n",
       "      <td>2020-03-15</td>\n",
       "      <td>Brussels</td>\n",
       "      <td>119</td>\n",
       "      <td>0</td>\n",
       "    </tr>\n",
       "    <tr>\n",
       "      <th>1</th>\n",
       "      <td>2020-03-15</td>\n",
       "      <td>Flanders</td>\n",
       "      <td>461</td>\n",
       "      <td>2</td>\n",
       "    </tr>\n",
       "    <tr>\n",
       "      <th>2</th>\n",
       "      <td>2020-03-15</td>\n",
       "      <td>Wallonia</td>\n",
       "      <td>383</td>\n",
       "      <td>1</td>\n",
       "    </tr>\n",
       "    <tr>\n",
       "      <th>3</th>\n",
       "      <td>2020-03-16</td>\n",
       "      <td>Brussels</td>\n",
       "      <td>238</td>\n",
       "      <td>0</td>\n",
       "    </tr>\n",
       "    <tr>\n",
       "      <th>4</th>\n",
       "      <td>2020-03-16</td>\n",
       "      <td>Flanders</td>\n",
       "      <td>794</td>\n",
       "      <td>2</td>\n",
       "    </tr>\n",
       "  </tbody>\n",
       "</table>\n",
       "</div>"
      ],
      "text/plain": [
       "         DATE    REGION  Total_cases  Risk_Index\n",
       "0  2020-03-15  Brussels          119           0\n",
       "1  2020-03-15  Flanders          461           2\n",
       "2  2020-03-15  Wallonia          383           1\n",
       "3  2020-03-16  Brussels          238           0\n",
       "4  2020-03-16  Flanders          794           2"
      ]
     },
     "execution_count": 7,
     "metadata": {},
     "output_type": "execute_result"
    }
   ],
   "source": [
    "obj = s3.Bucket(BUCKET_NAME).Object('ts-data-region-RI.csv').get()\n",
    "data = pd.read_csv(obj['Body'])\n",
    "data.head()"
   ]
  },
  {
   "cell_type": "markdown",
   "id": "3338b239",
   "metadata": {
    "id": "ef4d9779-5116-4a99-98a4-443103323635"
   },
   "source": [
    "### Identify the Data Types"
   ]
  },
  {
   "cell_type": "code",
   "execution_count": 8,
   "id": "499f1383",
   "metadata": {
    "id": "258f3b6d-316f-4659-8999-445f78fd9e37"
   },
   "outputs": [
    {
     "data": {
      "text/plain": [
       "DATE           object\n",
       "REGION         object\n",
       "Total_cases     int64\n",
       "Risk_Index      int64\n",
       "dtype: object"
      ]
     },
     "execution_count": 8,
     "metadata": {},
     "output_type": "execute_result"
    }
   ],
   "source": [
    "data.dtypes"
   ]
  },
  {
   "cell_type": "markdown",
   "id": "3723f66e",
   "metadata": {
    "id": "e3247dcf-e02b-4cee-9ca0-e3f1f108ee86"
   },
   "source": [
    "### Drop the Date attribute as we will not be using it"
   ]
  },
  {
   "cell_type": "code",
   "execution_count": 9,
   "id": "05f441db",
   "metadata": {
    "id": "72514323-cd42-4d89-b442-703a3044f87b"
   },
   "outputs": [
    {
     "data": {
      "text/html": [
       "<div>\n",
       "<style scoped>\n",
       "    .dataframe tbody tr th:only-of-type {\n",
       "        vertical-align: middle;\n",
       "    }\n",
       "\n",
       "    .dataframe tbody tr th {\n",
       "        vertical-align: top;\n",
       "    }\n",
       "\n",
       "    .dataframe thead th {\n",
       "        text-align: right;\n",
       "    }\n",
       "</style>\n",
       "<table border=\"1\" class=\"dataframe\">\n",
       "  <thead>\n",
       "    <tr style=\"text-align: right;\">\n",
       "      <th></th>\n",
       "      <th>REGION</th>\n",
       "      <th>Total_cases</th>\n",
       "      <th>Risk_Index</th>\n",
       "    </tr>\n",
       "  </thead>\n",
       "  <tbody>\n",
       "    <tr>\n",
       "      <th>0</th>\n",
       "      <td>Brussels</td>\n",
       "      <td>119</td>\n",
       "      <td>0</td>\n",
       "    </tr>\n",
       "    <tr>\n",
       "      <th>1</th>\n",
       "      <td>Flanders</td>\n",
       "      <td>461</td>\n",
       "      <td>2</td>\n",
       "    </tr>\n",
       "    <tr>\n",
       "      <th>2</th>\n",
       "      <td>Wallonia</td>\n",
       "      <td>383</td>\n",
       "      <td>1</td>\n",
       "    </tr>\n",
       "    <tr>\n",
       "      <th>3</th>\n",
       "      <td>Brussels</td>\n",
       "      <td>238</td>\n",
       "      <td>0</td>\n",
       "    </tr>\n",
       "    <tr>\n",
       "      <th>4</th>\n",
       "      <td>Flanders</td>\n",
       "      <td>794</td>\n",
       "      <td>2</td>\n",
       "    </tr>\n",
       "    <tr>\n",
       "      <th>...</th>\n",
       "      <td>...</td>\n",
       "      <td>...</td>\n",
       "      <td>...</td>\n",
       "    </tr>\n",
       "    <tr>\n",
       "      <th>2215</th>\n",
       "      <td>Brussels</td>\n",
       "      <td>677</td>\n",
       "      <td>0</td>\n",
       "    </tr>\n",
       "    <tr>\n",
       "      <th>2216</th>\n",
       "      <td>Flanders</td>\n",
       "      <td>7909</td>\n",
       "      <td>2</td>\n",
       "    </tr>\n",
       "    <tr>\n",
       "      <th>2217</th>\n",
       "      <td>Wallonia</td>\n",
       "      <td>1371</td>\n",
       "      <td>1</td>\n",
       "    </tr>\n",
       "    <tr>\n",
       "      <th>2218</th>\n",
       "      <td>Flanders</td>\n",
       "      <td>295</td>\n",
       "      <td>2</td>\n",
       "    </tr>\n",
       "    <tr>\n",
       "      <th>2219</th>\n",
       "      <td>Wallonia</td>\n",
       "      <td>33</td>\n",
       "      <td>0</td>\n",
       "    </tr>\n",
       "  </tbody>\n",
       "</table>\n",
       "<p>2220 rows × 3 columns</p>\n",
       "</div>"
      ],
      "text/plain": [
       "        REGION  Total_cases  Risk_Index\n",
       "0     Brussels          119           0\n",
       "1     Flanders          461           2\n",
       "2     Wallonia          383           1\n",
       "3     Brussels          238           0\n",
       "4     Flanders          794           2\n",
       "...        ...          ...         ...\n",
       "2215  Brussels          677           0\n",
       "2216  Flanders         7909           2\n",
       "2217  Wallonia         1371           1\n",
       "2218  Flanders          295           2\n",
       "2219  Wallonia           33           0\n",
       "\n",
       "[2220 rows x 3 columns]"
      ]
     },
     "execution_count": 9,
     "metadata": {},
     "output_type": "execute_result"
    }
   ],
   "source": [
    "data.drop('DATE', axis=1, inplace=True)\n",
    "data"
   ]
  },
  {
   "cell_type": "markdown",
   "id": "4fd42470",
   "metadata": {
    "id": "bf5b3552-d60c-4a83-9e26-8e0c47f13912"
   },
   "source": [
    "### Encode the Region data into integers\n",
    "\n",
    "Brussels is encoded as 0 ::: Flanders is encoded as 1 ::: Wallonia is encoded as 2"
   ]
  },
  {
   "cell_type": "code",
   "execution_count": 10,
   "id": "bd0f192c",
   "metadata": {
    "id": "e1414fef-af09-41da-a021-434dea08e174"
   },
   "outputs": [
    {
     "data": {
      "text/html": [
       "<div>\n",
       "<style scoped>\n",
       "    .dataframe tbody tr th:only-of-type {\n",
       "        vertical-align: middle;\n",
       "    }\n",
       "\n",
       "    .dataframe tbody tr th {\n",
       "        vertical-align: top;\n",
       "    }\n",
       "\n",
       "    .dataframe thead th {\n",
       "        text-align: right;\n",
       "    }\n",
       "</style>\n",
       "<table border=\"1\" class=\"dataframe\">\n",
       "  <thead>\n",
       "    <tr style=\"text-align: right;\">\n",
       "      <th></th>\n",
       "      <th>REGION</th>\n",
       "      <th>Total_cases</th>\n",
       "      <th>Risk_Index</th>\n",
       "    </tr>\n",
       "  </thead>\n",
       "  <tbody>\n",
       "    <tr>\n",
       "      <th>0</th>\n",
       "      <td>0</td>\n",
       "      <td>119</td>\n",
       "      <td>0</td>\n",
       "    </tr>\n",
       "    <tr>\n",
       "      <th>1</th>\n",
       "      <td>1</td>\n",
       "      <td>461</td>\n",
       "      <td>2</td>\n",
       "    </tr>\n",
       "    <tr>\n",
       "      <th>2</th>\n",
       "      <td>2</td>\n",
       "      <td>383</td>\n",
       "      <td>1</td>\n",
       "    </tr>\n",
       "    <tr>\n",
       "      <th>3</th>\n",
       "      <td>0</td>\n",
       "      <td>238</td>\n",
       "      <td>0</td>\n",
       "    </tr>\n",
       "    <tr>\n",
       "      <th>4</th>\n",
       "      <td>1</td>\n",
       "      <td>794</td>\n",
       "      <td>2</td>\n",
       "    </tr>\n",
       "    <tr>\n",
       "      <th>...</th>\n",
       "      <td>...</td>\n",
       "      <td>...</td>\n",
       "      <td>...</td>\n",
       "    </tr>\n",
       "    <tr>\n",
       "      <th>2215</th>\n",
       "      <td>0</td>\n",
       "      <td>677</td>\n",
       "      <td>0</td>\n",
       "    </tr>\n",
       "    <tr>\n",
       "      <th>2216</th>\n",
       "      <td>1</td>\n",
       "      <td>7909</td>\n",
       "      <td>2</td>\n",
       "    </tr>\n",
       "    <tr>\n",
       "      <th>2217</th>\n",
       "      <td>2</td>\n",
       "      <td>1371</td>\n",
       "      <td>1</td>\n",
       "    </tr>\n",
       "    <tr>\n",
       "      <th>2218</th>\n",
       "      <td>1</td>\n",
       "      <td>295</td>\n",
       "      <td>2</td>\n",
       "    </tr>\n",
       "    <tr>\n",
       "      <th>2219</th>\n",
       "      <td>2</td>\n",
       "      <td>33</td>\n",
       "      <td>0</td>\n",
       "    </tr>\n",
       "  </tbody>\n",
       "</table>\n",
       "<p>2220 rows × 3 columns</p>\n",
       "</div>"
      ],
      "text/plain": [
       "      REGION  Total_cases  Risk_Index\n",
       "0          0          119           0\n",
       "1          1          461           2\n",
       "2          2          383           1\n",
       "3          0          238           0\n",
       "4          1          794           2\n",
       "...      ...          ...         ...\n",
       "2215       0          677           0\n",
       "2216       1         7909           2\n",
       "2217       2         1371           1\n",
       "2218       1          295           2\n",
       "2219       2           33           0\n",
       "\n",
       "[2220 rows x 3 columns]"
      ]
     },
     "execution_count": 10,
     "metadata": {},
     "output_type": "execute_result"
    }
   ],
   "source": [
    "label_encoder = preprocessing.LabelEncoder()\n",
    "\n",
    "data['REGION']= label_encoder.fit_transform(data['REGION'])\n",
    "\n",
    "data"
   ]
  },
  {
   "cell_type": "markdown",
   "id": "c9330971",
   "metadata": {
    "id": "186346b6-2e4e-4af6-a8e8-e9ba49759229"
   },
   "source": [
    "### Convert dataframe to numpy array"
   ]
  },
  {
   "cell_type": "code",
   "execution_count": 11,
   "id": "e95de8cb",
   "metadata": {
    "id": "e3ed04af-ec6a-42be-9e4c-0111103a77fc"
   },
   "outputs": [],
   "source": [
    "data = data.to_numpy(dtype ='float32')"
   ]
  },
  {
   "cell_type": "markdown",
   "id": "b1c32dcc",
   "metadata": {
    "id": "c1efc710-5fa9-4d76-8ec5-d9ec7ccfc349"
   },
   "source": [
    "### Generate Data features (input) & Data Labels (target)"
   ]
  },
  {
   "cell_type": "code",
   "execution_count": 12,
   "id": "a39accd2",
   "metadata": {
    "id": "b2e64e76-8459-4484-8c9c-adac194265d5"
   },
   "outputs": [],
   "source": [
    "data_features, data_labels = data[:, :2], data[:, 2]"
   ]
  },
  {
   "cell_type": "code",
   "execution_count": 13,
   "id": "2e0dd037",
   "metadata": {
    "id": "abeae90a-4761-44a1-9077-7cf0a651ab6b"
   },
   "outputs": [
    {
     "data": {
      "text/plain": [
       "array([0., 2., 1., ..., 1., 2., 0.], dtype=float32)"
      ]
     },
     "execution_count": 13,
     "metadata": {},
     "output_type": "execute_result"
    }
   ],
   "source": [
    "data_labels"
   ]
  },
  {
   "cell_type": "markdown",
   "id": "cbcc49e0",
   "metadata": {
    "id": "855745ae-ecfd-4b09-b85a-2e567b6bc031"
   },
   "source": [
    "### Split the data into training & testing data with 80:20 ratio"
   ]
  },
  {
   "cell_type": "code",
   "execution_count": 14,
   "id": "00647c4c",
   "metadata": {
    "id": "3bf179b4-13fe-449e-945e-4fe0536ba0bd"
   },
   "outputs": [],
   "source": [
    "np.random.seed(0)\n",
    "train_features, test_features, train_labels, test_labels = train_test_split(\n",
    "    data_features, data_labels, test_size=0.2)"
   ]
  },
  {
   "cell_type": "markdown",
   "id": "93518cde",
   "metadata": {
    "id": "18a8c08c-c106-4849-a94e-36e568f596db"
   },
   "source": [
    "### Further split the test set into validation and test sets"
   ]
  },
  {
   "cell_type": "code",
   "execution_count": 15,
   "id": "55b426d4",
   "metadata": {
    "id": "1ba02e8a-e268-4a6b-a37a-8ebb7198b44f"
   },
   "outputs": [],
   "source": [
    "val_features, test_features, val_labels, test_labels = train_test_split(\n",
    "    test_features, test_labels, test_size=0.5)"
   ]
  },
  {
   "cell_type": "markdown",
   "id": "7cd3fda1",
   "metadata": {
    "id": "c2d3b26b-a345-4406-829f-5fb824231786"
   },
   "source": [
    "### Check the count of observations in features & labels"
   ]
  },
  {
   "cell_type": "code",
   "execution_count": 16,
   "id": "5d8aaf5b",
   "metadata": {
    "id": "d761ae3e-27ad-4fc7-ab43-fedc27f8c288"
   },
   "outputs": [
    {
     "data": {
      "text/plain": [
       "1776"
      ]
     },
     "execution_count": 16,
     "metadata": {},
     "output_type": "execute_result"
    }
   ],
   "source": [
    "len(train_features)\n",
    "len(train_labels)"
   ]
  },
  {
   "cell_type": "markdown",
   "id": "32aab3c1",
   "metadata": {
    "id": "eb647f2c-d49d-43db-b6e4-a378fc398e1a"
   },
   "source": [
    "### Assign label names and count label frequencies"
   ]
  },
  {
   "cell_type": "code",
   "execution_count": 17,
   "id": "f1595761",
   "metadata": {
    "id": "69196dd1-84cc-46be-8065-320542fb1722"
   },
   "outputs": [
    {
     "data": {
      "text/plain": [
       "<AxesSubplot:title={'center':'Label Counts'}>"
      ]
     },
     "execution_count": 17,
     "metadata": {},
     "output_type": "execute_result"
    },
    {
     "data": {
      "image/png": "[encoded data removed]",
      "text/plain": [
       "<Figure size 432x288 with 1 Axes>"
      ]
     },
     "metadata": {},
     "output_type": "display_data"
    }
   ],
   "source": [
    "label_map = {0:'Low Risk', 1:'Moderate Risk', 2:'High Risk'}\n",
    "label_counts = pd.DataFrame(data=train_labels)[0].map(label_map).value_counts(sort=False).sort_index(ascending=False)\n",
    "label_counts.plot(kind='barh', color='tomato', title='Label Counts')"
   ]
  },
  {
   "cell_type": "code",
   "execution_count": 18,
   "id": "75feb837",
   "metadata": {
    "id": "1d301b8c161246e68c81cbf1b0dc33fb"
   },
   "outputs": [],
   "source": [
    "import sagemaker\n",
    "session = boto3.session.Session(\n",
    "    aws_access_key_id = AWS_ACCESS_KEY_ID,\n",
    "    aws_secret_access_key = AWS_SECRET_ACCESS_KEY,\n",
    "    region_name = BUCKET_REGION\n",
    ")\n",
    "region = session.region_name\n",
    "sagemaker_session = sagemaker.Session(session)"
   ]
  },
  {
   "cell_type": "code",
   "execution_count": 19,
   "id": "5f665002",
   "metadata": {
    "id": "fb4b383a869b40aba899bd153b95f498"
   },
   "outputs": [],
   "source": [
    "import os\n",
    "os.environ['AWS_DEFAULT_REGION'] = BUCKET_REGION\n",
    "os.environ['AWS_ACCESS_KEY_ID'] = AWS_ACCESS_KEY_ID\n",
    "os.environ['AWS_SECRET_ACCESS_KEY'] = AWS_SECRET_ACCESS_KEY"
   ]
  },
  {
   "cell_type": "markdown",
   "id": "bde5fe53",
   "metadata": {
    "id": "2dc3700a-46cb-4bdd-9a33-9656bc760fbc"
   },
   "source": [
    "## Model Building Process"
   ]
  },
  {
   "cell_type": "markdown",
   "id": "90aaa43d",
   "metadata": {
    "id": "5049d185-ffdd-4f8b-aa6d-907139f9e8a0"
   },
   "source": [
    "### Instantiate the LinearLearner estimator object"
   ]
  },
  {
   "cell_type": "markdown",
   "id": "efe728d9",
   "metadata": {
    "id": "d6158c2b-09b0-4c55-8871-6a6e8125402e"
   },
   "source": [
    "### Update the SageMaker Full Access role in the below cell"
   ]
  },
  {
   "cell_type": "code",
   "execution_count": 20,
   "id": "c755ffd2",
   "metadata": {
    "id": "f12eeb19048140658c40a249bf132a46"
   },
   "outputs": [],
   "source": [
    "role=''"
   ]
  },
  {
   "cell_type": "code",
   "execution_count": 21,
   "id": "89927cbe",
   "metadata": {
    "id": "26377032-d715-4842-8b15-5108892009d2"
   },
   "outputs": [
    {
     "name": "stderr",
     "output_type": "stream",
     "text": [
      "train_instance_count has been renamed in sagemaker>=2.\n",
      "See: https://sagemaker.readthedocs.io/en/stable/v2.html for details.\n",
      "train_instance_type has been renamed in sagemaker>=2.\n",
      "See: https://sagemaker.readthedocs.io/en/stable/v2.html for details.\n"
     ]
    }
   ],
   "source": [
    "import sagemaker\n",
    "from sagemaker.amazon.amazon_estimator import RecordSet\n",
    "import boto3\n",
    "\n",
    "multiclass_estimator = sagemaker.LinearLearner(role=role,\n",
    "                                               train_instance_count=1,\n",
    "                                               train_instance_type='ml.m4.xlarge',\n",
    "                                               predictor_type='multiclass_classifier',\n",
    "                                               num_classes=3)"
   ]
  },
  {
   "cell_type": "markdown",
   "id": "feb4185e",
   "metadata": {
    "id": "43b38ee9-8135-49fb-8596-dac4fa2a48b8"
   },
   "source": [
    "### Wrap data in RecordSet objects"
   ]
  },
  {
   "cell_type": "code",
   "execution_count": 22,
   "id": "4d961262",
   "metadata": {
    "id": "c5b32e30-b3e9-4a83-8151-c4a4b205cb9e"
   },
   "outputs": [],
   "source": [
    "train_records = multiclass_estimator.record_set(train_features, train_labels, channel='train')\n",
    "val_records = multiclass_estimator.record_set(val_features, val_labels, channel='validation')\n",
    "test_records = multiclass_estimator.record_set(test_features, test_labels, channel='test')"
   ]
  },
  {
   "cell_type": "markdown",
   "id": "5a290e01",
   "metadata": {
    "id": "9493026f-9070-4c2d-b15c-66c410752088"
   },
   "source": [
    "### Start a training job"
   ]
  },
  {
   "cell_type": "code",
   "execution_count": 23,
   "id": "bcd8e6f1",
   "metadata": {
    "id": "1a23e459-b776-45bf-9e5a-78b8ea9d0c15"
   },
   "outputs": [
    {
     "name": "stderr",
     "output_type": "stream",
     "text": [
      "Defaulting to the only supported framework/algorithm version: 1. Ignoring framework/algorithm version: 1.\n",
      "Defaulting to the only supported framework/algorithm version: 1. Ignoring framework/algorithm version: 1.\n"
     ]
    },
    {
     "name": "stdout",
     "output_type": "stream",
     "text": [
      "2022-08-01 13:59:49 Starting - Starting the training job...ProfilerReport-1659362389: InProgress\n",
      "...\n",
      "2022-08-01 14:00:39 Starting - Preparing the instances for training......\n",
      "2022-08-01 14:01:47 Downloading - Downloading input data......\n",
      "2022-08-01 14:02:40 Training - Downloading the training image...\n",
      "2022-08-01 14:03:20 Training - Training image download completed. Training in progress..\u001b[34mDocker entrypoint called with argument(s): train\u001b[0m\n",
      "\u001b[34mRunning default environment configuration script\u001b[0m\n",
      "\u001b[34m[08/01/2022 14:03:22 INFO 139801523697472] Reading default configuration from /opt/amazon/lib/python3.7/site-packages/algorithm/resources/default-input.json: {'mini_batch_size': '1000', 'epochs': '15', 'feature_dim': 'auto', 'use_bias': 'true', 'binary_classifier_model_selection_criteria': 'accuracy', 'f_beta': '1.0', 'target_recall': '0.8', 'target_precision': '0.8', 'num_models': 'auto', 'num_calibration_samples': '10000000', 'init_method': 'uniform', 'init_scale': '0.07', 'init_sigma': '0.01', 'init_bias': '0.0', 'optimizer': 'auto', 'loss': 'auto', 'margin': '1.0', 'quantile': '0.5', 'loss_insensitivity': '0.01', 'huber_delta': '1.0', 'num_classes': '1', 'accuracy_top_k': '3', 'wd': 'auto', 'l1': 'auto', 'momentum': 'auto', 'learning_rate': 'auto', 'beta_1': 'auto', 'beta_2': 'auto', 'bias_lr_mult': 'auto', 'bias_wd_mult': 'auto', 'use_lr_scheduler': 'true', 'lr_scheduler_step': 'auto', 'lr_scheduler_factor': 'auto', 'lr_scheduler_minimum_lr': 'auto', 'positive_example_weight_mult': '1.0', 'balance_multiclass_weights': 'false', 'normalize_data': 'true', 'normalize_label': 'auto', 'unbias_data': 'auto', 'unbias_label': 'auto', 'num_point_for_scaler': '10000', '_kvstore': 'auto', '_num_gpus': 'auto', '_num_kv_servers': 'auto', '_log_level': 'info', '_tuning_objective_metric': '', 'early_stopping_patience': '3', 'early_stopping_tolerance': '0.001', '_enable_profiler': 'false'}\u001b[0m\n",
      "\u001b[34m[08/01/2022 14:03:22 INFO 139801523697472] Merging with provided configuration from /opt/ml/input/config/hyperparameters.json: {'feature_dim': '2', 'mini_batch_size': '1000', 'num_classes': '3', 'predictor_type': 'multiclass_classifier'}\u001b[0m\n",
      "\u001b[34m[08/01/2022 14:03:22 INFO 139801523697472] Final configuration: {'mini_batch_size': '1000', 'epochs': '15', 'feature_dim': '2', 'use_bias': 'true', 'binary_classifier_model_selection_criteria': 'accuracy', 'f_beta': '1.0', 'target_recall': '0.8', 'target_precision': '0.8', 'num_models': 'auto', 'num_calibration_samples': '10000000', 'init_method': 'uniform', 'init_scale': '0.07', 'init_sigma': '0.01', 'init_bias': '0.0', 'optimizer': 'auto', 'loss': 'auto', 'margin': '1.0', 'quantile': '0.5', 'loss_insensitivity': '0.01', 'huber_delta': '1.0', 'num_classes': '3', 'accuracy_top_k': '3', 'wd': 'auto', 'l1': 'auto', 'momentum': 'auto', 'learning_rate': 'auto', 'beta_1': 'auto', 'beta_2': 'auto', 'bias_lr_mult': 'auto', 'bias_wd_mult': 'auto', 'use_lr_scheduler': 'true', 'lr_scheduler_step': 'auto', 'lr_scheduler_factor': 'auto', 'lr_scheduler_minimum_lr': 'auto', 'positive_example_weight_mult': '1.0', 'balance_multiclass_weights': 'false', 'normalize_data': 'true', 'normalize_label': 'auto', 'unbias_data': 'auto', 'unbias_label': 'auto', 'num_point_for_scaler': '10000', '_kvstore': 'auto', '_num_gpus': 'auto', '_num_kv_servers': 'auto', '_log_level': 'info', '_tuning_objective_metric': '', 'early_stopping_patience': '3', 'early_stopping_tolerance': '0.001', '_enable_profiler': 'false', 'predictor_type': 'multiclass_classifier'}\u001b[0m\n",
      "\u001b[34m[08/01/2022 14:03:22 WARNING 139801523697472] Loggers have already been setup.\u001b[0m\n",
      "\u001b[34mProcess 1 is a worker.\u001b[0m\n",
      "\u001b[34m[08/01/2022 14:03:22 INFO 139801523697472] Using default worker.\u001b[0m\n",
      "\u001b[34m[08/01/2022 14:03:22 INFO 139801523697472] Checkpoint loading and saving are disabled.\u001b[0m\n",
      "\u001b[34m[2022-08-01 14:03:22.346] [tensorio] [warning] TensorIO is already initialized; ignoring the initialization routine.\u001b[0m\n",
      "\u001b[34m[2022-08-01 14:03:22.347] [tensorio] [warning] TensorIO is already initialized; ignoring the initialization routine.\u001b[0m\n",
      "\u001b[34m[2022-08-01 14:03:22.372] [tensorio] [info] epoch_stats={\"data_pipeline\": \"/opt/ml/input/data/train\", \"epoch\": 0, \"duration\": 28, \"num_examples\": 1, \"num_bytes\": 52000}\u001b[0m\n",
      "\u001b[34m[08/01/2022 14:03:22 INFO 139801523697472] Create Store: local\u001b[0m\n",
      "\u001b[34m[2022-08-01 14:03:22.404] [tensorio] [info] epoch_stats={\"data_pipeline\": \"/opt/ml/input/data/train\", \"epoch\": 1, \"duration\": 30, \"num_examples\": 2, \"num_bytes\": 92352}\u001b[0m\n",
      "\u001b[34m[08/01/2022 14:03:22 INFO 139801523697472] Scaler algorithm parameters\n",
      " <algorithm.scaler.ScalerAlgorithmStable object at 0x7f259c162e10>\u001b[0m\n",
      "\u001b[34m[08/01/2022 14:03:22 INFO 139801523697472] Scaling model computed with parameters:\n",
      " {'stdev_label': None, 'stdev_weight': \u001b[0m\n",
      "\u001b[34m[8.0769736e-01 4.2531353e+03]\u001b[0m\n",
      "\u001b[34m<NDArray 2 @cpu(0)>, 'mean_label': None, 'mean_weight': \u001b[0m\n",
      "\u001b[34m[9.750000e-01 2.589306e+03]\u001b[0m\n",
      "\u001b[34m<NDArray 2 @cpu(0)>}\u001b[0m\n",
      "\u001b[34m[08/01/2022 14:03:22 INFO 139801523697472] nvidia-smi: took 0.033 seconds to run.\u001b[0m\n",
      "\u001b[34m[08/01/2022 14:03:22 INFO 139801523697472] nvidia-smi identified 0 GPUs.\u001b[0m\n",
      "\u001b[34m[08/01/2022 14:03:22 INFO 139801523697472] Number of GPUs being used: 0\u001b[0m\n",
      "\u001b[34m#metrics {\"StartTime\": 1659362602.5310395, \"EndTime\": 1659362602.5310776, \"Dimensions\": {\"Algorithm\": \"Linear Learner\", \"Host\": \"algo-1\", \"Operation\": \"training\", \"Meta\": \"init_train_data_iter\"}, \"Metrics\": {\"Total Records Seen\": {\"sum\": 2776.0, \"count\": 1, \"min\": 2776, \"max\": 2776}, \"Total Batches Seen\": {\"sum\": 3.0, \"count\": 1, \"min\": 3, \"max\": 3}, \"Max Records Seen Between Resets\": {\"sum\": 1776.0, \"count\": 1, \"min\": 1776, \"max\": 1776}, \"Max Batches Seen Between Resets\": {\"sum\": 2.0, \"count\": 1, \"min\": 2, \"max\": 2}, \"Reset Count\": {\"sum\": 2.0, \"count\": 1, \"min\": 2, \"max\": 2}, \"Number of Records Since Last Reset\": {\"sum\": 0.0, \"count\": 1, \"min\": 0, \"max\": 0}, \"Number of Batches Since Last Reset\": {\"sum\": 0.0, \"count\": 1, \"min\": 0, \"max\": 0}}}\u001b[0m\n",
      "\u001b[34m[2022-08-01 14:03:22.606] [tensorio] [info] epoch_stats={\"data_pipeline\": \"/opt/ml/input/data/train\", \"epoch\": 4, \"duration\": 74, \"num_examples\": 2, \"num_bytes\": 92352}\u001b[0m\n",
      "\u001b[34m#metrics {\"StartTime\": 1659362602.6066005, \"EndTime\": 1659362602.6066806, \"Dimensions\": {\"Algorithm\": \"Linear Learner\", \"Host\": \"algo-1\", \"Operation\": \"training\", \"epoch\": 0, \"model\": 0}, \"Metrics\": {\"train_multiclass_cross_entropy_objective\": {\"sum\": 1.0954010009765625, \"count\": 1, \"min\": 1.0954010009765625, \"max\": 1.0954010009765625}}}\u001b[0m\n",
      "\u001b[34m#metrics {\"StartTime\": 1659362602.6069286, \"EndTime\": 1659362602.6069527, \"Dimensions\": {\"Algorithm\": \"Linear Learner\", \"Host\": \"algo-1\", \"Operation\": \"training\", \"epoch\": 0, \"model\": 1}, \"Metrics\": {\"train_multiclass_cross_entropy_objective\": {\"sum\": 1.0995819091796875, \"count\": 1, \"min\": 1.0995819091796875, \"max\": 1.0995819091796875}}}\u001b[0m\n",
      "\u001b[34m#metrics {\"StartTime\": 1659362602.60712, \"EndTime\": 1659362602.607141, \"Dimensions\": {\"Algorithm\": \"Linear Learner\", \"Host\": \"algo-1\", \"Operation\": \"training\", \"epoch\": 0, \"model\": 2}, \"Metrics\": {\"train_multiclass_cross_entropy_objective\": {\"sum\": 1.1139429931640625, \"count\": 1, \"min\": 1.1139429931640625, \"max\": 1.1139429931640625}}}\u001b[0m\n",
      "\u001b[34m#metrics {\"StartTime\": 1659362602.6071985, \"EndTime\": 1659362602.6072726, \"Dimensions\": {\"Algorithm\": \"Linear Learner\", \"Host\": \"algo-1\", \"Operation\": \"training\", \"epoch\": 0, \"model\": 3}, \"Metrics\": {\"train_multiclass_cross_entropy_objective\": {\"sum\": 1.06709375, \"count\": 1, \"min\": 1.06709375, \"max\": 1.06709375}}}\u001b[0m\n",
      "\u001b[34m#metrics {\"StartTime\": 1659362602.6073387, \"EndTime\": 1659362602.6074197, \"Dimensions\": {\"Algorithm\": \"Linear Learner\", \"Host\": \"algo-1\", \"Operation\": \"training\", \"epoch\": 0, \"model\": 4}, \"Metrics\": {\"train_multiclass_cross_entropy_objective\": {\"sum\": 1.1328526611328125, \"count\": 1, \"min\": 1.1328526611328125, \"max\": 1.1328526611328125}}}\u001b[0m\n",
      "\u001b[34m#metrics {\"StartTime\": 1659362602.6075385, \"EndTime\": 1659362602.6075568, \"Dimensions\": {\"Algorithm\": \"Linear Learner\", \"Host\": \"algo-1\", \"Operation\": \"training\", \"epoch\": 0, \"model\": 5}, \"Metrics\": {\"train_multiclass_cross_entropy_objective\": {\"sum\": 1.0979373779296875, \"count\": 1, \"min\": 1.0979373779296875, \"max\": 1.0979373779296875}}}\u001b[0m\n",
      "\u001b[34m#metrics {\"StartTime\": 1659362602.607606, \"EndTime\": 1659362602.6076176, \"Dimensions\": {\"Algorithm\": \"Linear Learner\", \"Host\": \"algo-1\", \"Operation\": \"training\", \"epoch\": 0, \"model\": 6}, \"Metrics\": {\"train_multiclass_cross_entropy_objective\": {\"sum\": 1.0733134765625, \"count\": 1, \"min\": 1.0733134765625, \"max\": 1.0733134765625}}}\u001b[0m\n",
      "\u001b[34m#metrics {\"StartTime\": 1659362602.607731, \"EndTime\": 1659362602.6077492, \"Dimensions\": {\"Algorithm\": \"Linear Learner\", \"Host\": \"algo-1\", \"Operation\": \"training\", \"epoch\": 0, \"model\": 7}, \"Metrics\": {\"train_multiclass_cross_entropy_objective\": {\"sum\": 1.101536376953125, \"count\": 1, \"min\": 1.101536376953125, \"max\": 1.101536376953125}}}\u001b[0m\n",
      "\u001b[34m#metrics {\"StartTime\": 1659362602.6077979, \"EndTime\": 1659362602.6078143, \"Dimensions\": {\"Algorithm\": \"Linear Learner\", \"Host\": \"algo-1\", \"Operation\": \"training\", \"epoch\": 0, \"model\": 8}, \"Metrics\": {\"train_multiclass_cross_entropy_objective\": {\"sum\": 1.1102474365234376, \"count\": 1, \"min\": 1.1102474365234376, \"max\": 1.1102474365234376}}}\u001b[0m\n",
      "\u001b[34m#metrics {\"StartTime\": 1659362602.607868, \"EndTime\": 1659362602.6078837, \"Dimensions\": {\"Algorithm\": \"Linear Learner\", \"Host\": \"algo-1\", \"Operation\": \"training\", \"epoch\": 0, \"model\": 9}, \"Metrics\": {\"train_multiclass_cross_entropy_objective\": {\"sum\": 1.123679443359375, \"count\": 1, \"min\": 1.123679443359375, \"max\": 1.123679443359375}}}\u001b[0m\n",
      "\u001b[34m#metrics {\"StartTime\": 1659362602.607923, \"EndTime\": 1659362602.6079383, \"Dimensions\": {\"Algorithm\": \"Linear Learner\", \"Host\": \"algo-1\", \"Operation\": \"training\", \"epoch\": 0, \"model\": 10}, \"Metrics\": {\"train_multiclass_cross_entropy_objective\": {\"sum\": 1.0930557861328125, \"count\": 1, \"min\": 1.0930557861328125, \"max\": 1.0930557861328125}}}\u001b[0m\n",
      "\u001b[34m#metrics {\"StartTime\": 1659362602.6080368, \"EndTime\": 1659362602.6080565, \"Dimensions\": {\"Algorithm\": \"Linear Learner\", \"Host\": \"algo-1\", \"Operation\": \"training\", \"epoch\": 0, \"model\": 11}, \"Metrics\": {\"train_multiclass_cross_entropy_objective\": {\"sum\": 1.100878662109375, \"count\": 1, \"min\": 1.100878662109375, \"max\": 1.100878662109375}}}\u001b[0m\n",
      "\u001b[34m[08/01/2022 14:03:22 INFO 139801523697472] #quality_metric: host=algo-1, epoch=0, train multiclass_cross_entropy_objective <loss>=1.0954010009765625\u001b[0m\n",
      "\u001b[34m[2022-08-01 14:03:22.617] [tensorio] [info] epoch_stats={\"data_pipeline\": \"/opt/ml/input/data/validation\", \"epoch\": 0, \"duration\": 271, \"num_examples\": 1, \"num_bytes\": 11544}\u001b[0m\n",
      "\u001b[34m[2022-08-01 14:03:22.632] [tensorio] [info] epoch_stats={\"data_pipeline\": \"/opt/ml/input/data/validation\", \"epoch\": 2, \"duration\": 13, \"num_examples\": 1, \"num_bytes\": 11544}\u001b[0m\n",
      "\u001b[34m#metrics {\"StartTime\": 1659362602.6362202, \"EndTime\": 1659362602.6362755, \"Dimensions\": {\"Algorithm\": \"Linear Learner\", \"Host\": \"algo-1\", \"Operation\": \"training\", \"epoch\": 0, \"model\": 0}, \"Metrics\": {\"validation_multiclass_cross_entropy_objective\": {\"sum\": 1.0870965493691933, \"count\": 1, \"min\": 1.0870965493691933, \"max\": 1.0870965493691933}}}\u001b[0m\n",
      "\u001b[34m#metrics {\"StartTime\": 1659362602.6363435, \"EndTime\": 1659362602.6363647, \"Dimensions\": {\"Algorithm\": \"Linear Learner\", \"Host\": \"algo-1\", \"Operation\": \"training\", \"epoch\": 0, \"model\": 1}, \"Metrics\": {\"validation_multiclass_cross_entropy_objective\": {\"sum\": 1.0952040526244018, \"count\": 1, \"min\": 1.0952040526244018, \"max\": 1.0952040526244018}}}\u001b[0m\n",
      "\u001b[34m#metrics {\"StartTime\": 1659362602.6364272, \"EndTime\": 1659362602.6364462, \"Dimensions\": {\"Algorithm\": \"Linear Learner\", \"Host\": \"algo-1\", \"Operation\": \"training\", \"epoch\": 0, \"model\": 2}, \"Metrics\": {\"validation_multiclass_cross_entropy_objective\": {\"sum\": 1.1503361882390202, \"count\": 1, \"min\": 1.1503361882390202, \"max\": 1.1503361882390202}}}\u001b[0m\n",
      "\u001b[34m#metrics {\"StartTime\": 1659362602.6365054, \"EndTime\": 1659362602.636525, \"Dimensions\": {\"Algorithm\": \"Linear Learner\", \"Host\": \"algo-1\", \"Operation\": \"training\", \"epoch\": 0, \"model\": 3}, \"Metrics\": {\"validation_multiclass_cross_entropy_objective\": {\"sum\": 1.0671759940482475, \"count\": 1, \"min\": 1.0671759940482475, \"max\": 1.0671759940482475}}}\u001b[0m\n",
      "\u001b[34m#metrics {\"StartTime\": 1659362602.6365826, \"EndTime\": 1659362602.6366007, \"Dimensions\": {\"Algorithm\": \"Linear Learner\", \"Host\": \"algo-1\", \"Operation\": \"training\", \"epoch\": 0, \"model\": 4}, \"Metrics\": {\"validation_multiclass_cross_entropy_objective\": {\"sum\": 1.111834276903857, \"count\": 1, \"min\": 1.111834276903857, \"max\": 1.111834276903857}}}\u001b[0m\n",
      "\u001b[34m#metrics {\"StartTime\": 1659362602.6366556, \"EndTime\": 1659362602.6366737, \"Dimensions\": {\"Algorithm\": \"Linear Learner\", \"Host\": \"algo-1\", \"Operation\": \"training\", \"epoch\": 0, \"model\": 5}, \"Metrics\": {\"validation_multiclass_cross_entropy_objective\": {\"sum\": 1.053416277911212, \"count\": 1, \"min\": 1.053416277911212, \"max\": 1.053416277911212}}}\u001b[0m\n",
      "\u001b[34m#metrics {\"StartTime\": 1659362602.6367292, \"EndTime\": 1659362602.6367462, \"Dimensions\": {\"Algorithm\": \"Linear Learner\", \"Host\": \"algo-1\", \"Operation\": \"training\", \"epoch\": 0, \"model\": 6}, \"Metrics\": {\"validation_multiclass_cross_entropy_objective\": {\"sum\": 0.9854361731726844, \"count\": 1, \"min\": 0.9854361731726844, \"max\": 0.9854361731726844}}}\u001b[0m\n",
      "\u001b[34m#metrics {\"StartTime\": 1659362602.6368003, \"EndTime\": 1659362602.6368175, \"Dimensions\": {\"Algorithm\": \"Linear Learner\", \"Host\": \"algo-1\", \"Operation\": \"training\", \"epoch\": 0, \"model\": 7}, \"Metrics\": {\"validation_multiclass_cross_entropy_objective\": {\"sum\": 1.092049332352372, \"count\": 1, \"min\": 1.092049332352372, \"max\": 1.092049332352372}}}\u001b[0m\n",
      "\u001b[34m#metrics {\"StartTime\": 1659362602.636872, \"EndTime\": 1659362602.636888, \"Dimensions\": {\"Algorithm\": \"Linear Learner\", \"Host\": \"algo-1\", \"Operation\": \"training\", \"epoch\": 0, \"model\": 8}, \"Metrics\": {\"validation_multiclass_cross_entropy_objective\": {\"sum\": 1.0225276775188274, \"count\": 1, \"min\": 1.0225276775188274, \"max\": 1.0225276775188274}}}\u001b[0m\n",
      "\u001b[34m#metrics {\"StartTime\": 1659362602.6369417, \"EndTime\": 1659362602.636957, \"Dimensions\": {\"Algorithm\": \"Linear Learner\", \"Host\": \"algo-1\", \"Operation\": \"training\", \"epoch\": 0, \"model\": 9}, \"Metrics\": {\"validation_multiclass_cross_entropy_objective\": {\"sum\": 3.2381616540857263, \"count\": 1, \"min\": 3.2381616540857263, \"max\": 3.2381616540857263}}}\u001b[0m\n",
      "\u001b[34m#metrics {\"StartTime\": 1659362602.637012, \"EndTime\": 1659362602.637029, \"Dimensions\": {\"Algorithm\": \"Linear Learner\", \"Host\": \"algo-1\", \"Operation\": \"training\", \"epoch\": 0, \"model\": 10}, \"Metrics\": {\"validation_multiclass_cross_entropy_objective\": {\"sum\": 1.0837469702368383, \"count\": 1, \"min\": 1.0837469702368383, \"max\": 1.0837469702368383}}}\u001b[0m\n",
      "\u001b[34m#metrics {\"StartTime\": 1659362602.637083, \"EndTime\": 1659362602.6370997, \"Dimensions\": {\"Algorithm\": \"Linear Learner\", \"Host\": \"algo-1\", \"Operation\": \"training\", \"epoch\": 0, \"model\": 11}, \"Metrics\": {\"validation_multiclass_cross_entropy_objective\": {\"sum\": 1.9163554423564189, \"count\": 1, \"min\": 1.9163554423564189, \"max\": 1.9163554423564189}}}\u001b[0m\n",
      "\u001b[34m[08/01/2022 14:03:22 INFO 139801523697472] #quality_metric: host=algo-1, epoch=0, validation multiclass_cross_entropy_objective <loss>=1.0870965493691933\u001b[0m\n",
      "\u001b[34m[08/01/2022 14:03:22 INFO 139801523697472] #early_stopping_criteria_metric: host=algo-1, epoch=0, criteria=multiclass_cross_entropy_objective, value=0.9854361731726844\u001b[0m\n",
      "\u001b[34m[08/01/2022 14:03:22 INFO 139801523697472] Epoch 0: Loss improved. Updating best model\u001b[0m\n",
      "\u001b[34m[08/01/2022 14:03:22 INFO 139801523697472] Saving model for epoch: 0\u001b[0m\n",
      "\u001b[34m[08/01/2022 14:03:22 INFO 139801523697472] Saved checkpoint to \"/tmp/tmp06qj0jor/mx-mod-0000.params\"\u001b[0m\n",
      "\u001b[34m[08/01/2022 14:03:22 INFO 139801523697472] #progress_metric: host=algo-1, completed 6.666666666666667 % of epochs\u001b[0m\n",
      "\u001b[34m#metrics {\"StartTime\": 1659362602.5314143, \"EndTime\": 1659362602.6476343, \"Dimensions\": {\"Algorithm\": \"Linear Learner\", \"Host\": \"algo-1\", \"Operation\": \"training\", \"epoch\": 0, \"Meta\": \"training_data_iter\"}, \"Metrics\": {\"Total Records Seen\": {\"sum\": 4552.0, \"count\": 1, \"min\": 4552, \"max\": 4552}, \"Total Batches Seen\": {\"sum\": 5.0, \"count\": 1, \"min\": 5, \"max\": 5}, \"Max Records Seen Between Resets\": {\"sum\": 1776.0, \"count\": 1, \"min\": 1776, \"max\": 1776}, \"Max Batches Seen Between Resets\": {\"sum\": 2.0, \"count\": 1, \"min\": 2, \"max\": 2}, \"Reset Count\": {\"sum\": 3.0, \"count\": 1, \"min\": 3, \"max\": 3}, \"Number of Records Since Last Reset\": {\"sum\": 1776.0, \"count\": 1, \"min\": 1776, \"max\": 1776}, \"Number of Batches Since Last Reset\": {\"sum\": 2.0, \"count\": 1, \"min\": 2, \"max\": 2}}}\u001b[0m\n",
      "\u001b[34m[08/01/2022 14:03:22 INFO 139801523697472] #throughput_metric: host=algo-1, train throughput=15264.70387750669 records/second\u001b[0m\n",
      "\u001b[34m[2022-08-01 14:03:22.668] [tensorio] [info] epoch_stats={\"data_pipeline\": \"/opt/ml/input/data/train\", \"epoch\": 6, \"duration\": 20, \"num_examples\": 2, \"num_bytes\": 92352}\u001b[0m\n",
      "\u001b[34m#metrics {\"StartTime\": 1659362602.6685731, \"EndTime\": 1659362602.6686294, \"Dimensions\": {\"Algorithm\": \"Linear Learner\", \"Host\": \"algo-1\", \"Operation\": \"training\", \"epoch\": 1, \"model\": 0}, \"Metrics\": {\"train_multiclass_cross_entropy_objective\": {\"sum\": 1.086185791015625, \"count\": 1, \"min\": 1.086185791015625, \"max\": 1.086185791015625}}}\u001b[0m\n",
      "\u001b[34m#metrics {\"StartTime\": 1659362602.6686962, \"EndTime\": 1659362602.6687176, \"Dimensions\": {\"Algorithm\": \"Linear Learner\", \"Host\": \"algo-1\", \"Operation\": \"training\", \"epoch\": 1, \"model\": 1}, \"Metrics\": {\"train_multiclass_cross_entropy_objective\": {\"sum\": 1.09255615234375, \"count\": 1, \"min\": 1.09255615234375, \"max\": 1.09255615234375}}}\u001b[0m\n",
      "\u001b[34m#metrics {\"StartTime\": 1659362602.6687787, \"EndTime\": 1659362602.6687973, \"Dimensions\": {\"Algorithm\": \"Linear Learner\", \"Host\": \"algo-1\", \"Operation\": \"training\", \"epoch\": 1, \"model\": 2}, \"Metrics\": {\"train_multiclass_cross_entropy_objective\": {\"sum\": 1.1436983642578125, \"count\": 1, \"min\": 1.1436983642578125, \"max\": 1.1436983642578125}}}\u001b[0m\n",
      "\u001b[34m#metrics {\"StartTime\": 1659362602.6688557, \"EndTime\": 1659362602.668872, \"Dimensions\": {\"Algorithm\": \"Linear Learner\", \"Host\": \"algo-1\", \"Operation\": \"training\", \"epoch\": 1, \"model\": 3}, \"Metrics\": {\"train_multiclass_cross_entropy_objective\": {\"sum\": 1.06668115234375, \"count\": 1, \"min\": 1.06668115234375, \"max\": 1.06668115234375}}}\u001b[0m\n",
      "\u001b[34m#metrics {\"StartTime\": 1659362602.6689272, \"EndTime\": 1659362602.6689446, \"Dimensions\": {\"Algorithm\": \"Linear Learner\", \"Host\": \"algo-1\", \"Operation\": \"training\", \"epoch\": 1, \"model\": 4}, \"Metrics\": {\"train_multiclass_cross_entropy_objective\": {\"sum\": 1.109125, \"count\": 1, \"min\": 1.109125, \"max\": 1.109125}}}\u001b[0m\n",
      "\u001b[34m#metrics {\"StartTime\": 1659362602.6689975, \"EndTime\": 1659362602.669014, \"Dimensions\": {\"Algorithm\": \"Linear Learner\", \"Host\": \"algo-1\", \"Operation\": \"training\", \"epoch\": 1, \"model\": 5}, \"Metrics\": {\"train_multiclass_cross_entropy_objective\": {\"sum\": 1.0555576171875, \"count\": 1, \"min\": 1.0555576171875, \"max\": 1.0555576171875}}}\u001b[0m\n",
      "\u001b[34m#metrics {\"StartTime\": 1659362602.669065, \"EndTime\": 1659362602.6690822, \"Dimensions\": {\"Algorithm\": \"Linear Learner\", \"Host\": \"algo-1\", \"Operation\": \"training\", \"epoch\": 1, \"model\": 6}, \"Metrics\": {\"train_multiclass_cross_entropy_objective\": {\"sum\": 0.9857898559570313, \"count\": 1, \"min\": 0.9857898559570313, \"max\": 0.9857898559570313}}}\u001b[0m\n",
      "\u001b[34m#metrics {\"StartTime\": 1659362602.6691346, \"EndTime\": 1659362602.6691504, \"Dimensions\": {\"Algorithm\": \"Linear Learner\", \"Host\": \"algo-1\", \"Operation\": \"training\", \"epoch\": 1, \"model\": 7}, \"Metrics\": {\"train_multiclass_cross_entropy_objective\": {\"sum\": 1.091218017578125, \"count\": 1, \"min\": 1.091218017578125, \"max\": 1.091218017578125}}}\u001b[0m\n",
      "\u001b[34m#metrics {\"StartTime\": 1659362602.6692047, \"EndTime\": 1659362602.6692207, \"Dimensions\": {\"Algorithm\": \"Linear Learner\", \"Host\": \"algo-1\", \"Operation\": \"training\", \"epoch\": 1, \"model\": 8}, \"Metrics\": {\"train_multiclass_cross_entropy_objective\": {\"sum\": 1.0247166748046874, \"count\": 1, \"min\": 1.0247166748046874, \"max\": 1.0247166748046874}}}\u001b[0m\n",
      "\u001b[34m#metrics {\"StartTime\": 1659362602.6692731, \"EndTime\": 1659362602.6692896, \"Dimensions\": {\"Algorithm\": \"Linear Learner\", \"Host\": \"algo-1\", \"Operation\": \"training\", \"epoch\": 1, \"model\": 9}, \"Metrics\": {\"train_multiclass_cross_entropy_objective\": {\"sum\": 3.1880087890625, \"count\": 1, \"min\": 3.1880087890625, \"max\": 3.1880087890625}}}\u001b[0m\n",
      "\u001b[34m#metrics {\"StartTime\": 1659362602.669341, \"EndTime\": 1659362602.6693556, \"Dimensions\": {\"Algorithm\": \"Linear Learner\", \"Host\": \"algo-1\", \"Operation\": \"training\", \"epoch\": 1, \"model\": 10}, \"Metrics\": {\"train_multiclass_cross_entropy_objective\": {\"sum\": 1.0830186767578125, \"count\": 1, \"min\": 1.0830186767578125, \"max\": 1.0830186767578125}}}\u001b[0m\n",
      "\u001b[34m#metrics {\"StartTime\": 1659362602.6694543, \"EndTime\": 1659362602.6694732, \"Dimensions\": {\"Algorithm\": \"Linear Learner\", \"Host\": \"algo-1\", \"Operation\": \"training\", \"epoch\": 1, \"model\": 11}, \"Metrics\": {\"train_multiclass_cross_entropy_objective\": {\"sum\": 1.89115087890625, \"count\": 1, \"min\": 1.89115087890625, \"max\": 1.89115087890625}}}\u001b[0m\n",
      "\u001b[34m[08/01/2022 14:03:22 INFO 139801523697472] #quality_metric: host=algo-1, epoch=1, train multiclass_cross_entropy_objective <loss>=1.086185791015625\u001b[0m\n",
      "\u001b[34m[2022-08-01 14:03:22.703] [tensorio] [info] epoch_stats={\"data_pipeline\": \"/opt/ml/input/data/validation\", \"epoch\": 5, \"duration\": 21, \"num_examples\": 1, \"num_bytes\": 11544}\u001b[0m\n",
      "\u001b[34m#metrics {\"StartTime\": 1659362602.7076828, \"EndTime\": 1659362602.707722, \"Dimensions\": {\"Algorithm\": \"Linear Learner\", \"Host\": \"algo-1\", \"Operation\": \"training\", \"epoch\": 1, \"model\": 0}, \"Metrics\": {\"validation_multiclass_cross_entropy_objective\": {\"sum\": 1.0596500431095157, \"count\": 1, \"min\": 1.0596500431095157, \"max\": 1.0596500431095157}}}\u001b[0m\n",
      "\u001b[34m#metrics {\"StartTime\": 1659362602.7077942, \"EndTime\": 1659362602.7078161, \"Dimensions\": {\"Algorithm\": \"Linear Learner\", \"Host\": \"algo-1\", \"Operation\": \"training\", \"epoch\": 1, \"model\": 1}, \"Metrics\": {\"validation_multiclass_cross_entropy_objective\": {\"sum\": 1.0570338481181376, \"count\": 1, \"min\": 1.0570338481181376, \"max\": 1.0570338481181376}}}\u001b[0m\n",
      "\u001b[34m#metrics {\"StartTime\": 1659362602.707881, \"EndTime\": 1659362602.7078996, \"Dimensions\": {\"Algorithm\": \"Linear Learner\", \"Host\": \"algo-1\", \"Operation\": \"training\", \"epoch\": 1, \"model\": 2}, \"Metrics\": {\"validation_multiclass_cross_entropy_objective\": {\"sum\": 1.0374676128765483, \"count\": 1, \"min\": 1.0374676128765483, \"max\": 1.0374676128765483}}}\u001b[0m\n",
      "\u001b[34m#metrics {\"StartTime\": 1659362602.7080057, \"EndTime\": 1659362602.7080271, \"Dimensions\": {\"Algorithm\": \"Linear Learner\", \"Host\": \"algo-1\", \"Operation\": \"training\", \"epoch\": 1, \"model\": 3}, \"Metrics\": {\"validation_multiclass_cross_entropy_objective\": {\"sum\": 1.0151929425763655, \"count\": 1, \"min\": 1.0151929425763655, \"max\": 1.0151929425763655}}}\u001b[0m\n",
      "\u001b[34m#metrics {\"StartTime\": 1659362602.708088, \"EndTime\": 1659362602.7081068, \"Dimensions\": {\"Algorithm\": \"Linear Learner\", \"Host\": \"algo-1\", \"Operation\": \"training\", \"epoch\": 1, \"model\": 4}, \"Metrics\": {\"validation_multiclass_cross_entropy_objective\": {\"sum\": 1.0885723217113599, \"count\": 1, \"min\": 1.0885723217113599, \"max\": 1.0885723217113599}}}\u001b[0m\n",
      "\u001b[34m#metrics {\"StartTime\": 1659362602.708163, \"EndTime\": 1659362602.7081807, \"Dimensions\": {\"Algorithm\": \"Linear Learner\", \"Host\": \"algo-1\", \"Operation\": \"training\", \"epoch\": 1, \"model\": 5}, \"Metrics\": {\"validation_multiclass_cross_entropy_objective\": {\"sum\": 1.0263055337441933, \"count\": 1, \"min\": 1.0263055337441933, \"max\": 1.0263055337441933}}}\u001b[0m\n",
      "\u001b[34m#metrics {\"StartTime\": 1659362602.7083325, \"EndTime\": 1659362602.708354, \"Dimensions\": {\"Algorithm\": \"Linear Learner\", \"Host\": \"algo-1\", \"Operation\": \"training\", \"epoch\": 1, \"model\": 6}, \"Metrics\": {\"validation_multiclass_cross_entropy_objective\": {\"sum\": 0.9337130709811374, \"count\": 1, \"min\": 0.9337130709811374, \"max\": 0.9337130709811374}}}\u001b[0m\n",
      "\u001b[34m#metrics {\"StartTime\": 1659362602.708413, \"EndTime\": 1659362602.7084296, \"Dimensions\": {\"Algorithm\": \"Linear Learner\", \"Host\": \"algo-1\", \"Operation\": \"training\", \"epoch\": 1, \"model\": 7}, \"Metrics\": {\"validation_multiclass_cross_entropy_objective\": {\"sum\": 1.0735106597075592, \"count\": 1, \"min\": 1.0735106597075592, \"max\": 1.0735106597075592}}}\u001b[0m\n",
      "\u001b[34m#metrics {\"StartTime\": 1659362602.7084842, \"EndTime\": 1659362602.708506, \"Dimensions\": {\"Algorithm\": \"Linear Learner\", \"Host\": \"algo-1\", \"Operation\": \"training\", \"epoch\": 1, \"model\": 8}, \"Metrics\": {\"validation_multiclass_cross_entropy_objective\": {\"sum\": 0.9513241879574887, \"count\": 1, \"min\": 0.9513241879574887, \"max\": 0.9513241879574887}}}\u001b[0m\n",
      "\u001b[34m#metrics {\"StartTime\": 1659362602.7085972, \"EndTime\": 1659362602.708618, \"Dimensions\": {\"Algorithm\": \"Linear Learner\", \"Host\": \"algo-1\", \"Operation\": \"training\", \"epoch\": 1, \"model\": 9}, \"Metrics\": {\"validation_multiclass_cross_entropy_objective\": {\"sum\": 0.7848566416147593, \"count\": 1, \"min\": 0.7848566416147593, \"max\": 0.7848566416147593}}}\u001b[0m\n",
      "\u001b[34m#metrics {\"StartTime\": 1659362602.7086759, \"EndTime\": 1659362602.708694, \"Dimensions\": {\"Algorithm\": \"Linear Learner\", \"Host\": \"algo-1\", \"Operation\": \"training\", \"epoch\": 1, \"model\": 10}, \"Metrics\": {\"validation_multiclass_cross_entropy_objective\": {\"sum\": 1.0707135587125212, \"count\": 1, \"min\": 1.0707135587125212, \"max\": 1.0707135587125212}}}\u001b[0m\n",
      "\u001b[34m#metrics {\"StartTime\": 1659362602.7087505, \"EndTime\": 1659362602.7087677, \"Dimensions\": {\"Algorithm\": \"Linear Learner\", \"Host\": \"algo-1\", \"Operation\": \"training\", \"epoch\": 1, \"model\": 11}, \"Metrics\": {\"validation_multiclass_cross_entropy_objective\": {\"sum\": 0.8712932139903575, \"count\": 1, \"min\": 0.8712932139903575, \"max\": 0.8712932139903575}}}\u001b[0m\n",
      "\u001b[34m[08/01/2022 14:03:22 INFO 139801523697472] #quality_metric: host=algo-1, epoch=1, validation multiclass_cross_entropy_objective <loss>=1.0596500431095157\u001b[0m\n",
      "\u001b[34m[08/01/2022 14:03:22 INFO 139801523697472] #early_stopping_criteria_metric: host=algo-1, epoch=1, criteria=multiclass_cross_entropy_objective, value=0.7848566416147593\u001b[0m\n",
      "\u001b[34m[08/01/2022 14:03:22 INFO 139801523697472] Epoch 1: Loss improved. Updating best model\u001b[0m\n",
      "\u001b[34m[08/01/2022 14:03:22 INFO 139801523697472] Saving model for epoch: 1\u001b[0m\n",
      "\u001b[34m[08/01/2022 14:03:22 INFO 139801523697472] Saved checkpoint to \"/tmp/tmpy_io3x4d/mx-mod-0000.params\"\u001b[0m\n",
      "\u001b[34m[08/01/2022 14:03:22 INFO 139801523697472] #progress_metric: host=algo-1, completed 13.333333333333334 % of epochs\u001b[0m\n",
      "\u001b[34m#metrics {\"StartTime\": 1659362602.6479354, \"EndTime\": 1659362602.7199237, \"Dimensions\": {\"Algorithm\": \"Linear Learner\", \"Host\": \"algo-1\", \"Operation\": \"training\", \"epoch\": 1, \"Meta\": \"training_data_iter\"}, \"Metrics\": {\"Total Records Seen\": {\"sum\": 6328.0, \"count\": 1, \"min\": 6328, \"max\": 6328}, \"Total Batches Seen\": {\"sum\": 7.0, \"count\": 1, \"min\": 7, \"max\": 7}, \"Max Records Seen Between Resets\": {\"sum\": 1776.0, \"count\": 1, \"min\": 1776, \"max\": 1776}, \"Max Batches Seen Between Resets\": {\"sum\": 2.0, \"count\": 1, \"min\": 2, \"max\": 2}, \"Reset Count\": {\"sum\": 4.0, \"count\": 1, \"min\": 4, \"max\": 4}, \"Number of Records Since Last Reset\": {\"sum\": 1776.0, \"count\": 1, \"min\": 1776, \"max\": 1776}, \"Number of Batches Since Last Reset\": {\"sum\": 2.0, \"count\": 1, \"min\": 2, \"max\": 2}}}\u001b[0m\n",
      "\u001b[34m[08/01/2022 14:03:22 INFO 139801523697472] #throughput_metric: host=algo-1, train throughput=24610.914396347223 records/second\u001b[0m\n",
      "\u001b[34m[2022-08-01 14:03:22.741] [tensorio] [info] epoch_stats={\"data_pipeline\": \"/opt/ml/input/data/train\", \"epoch\": 8, \"duration\": 20, \"num_examples\": 2, \"num_bytes\": 92352}\u001b[0m\n",
      "\u001b[34m#metrics {\"StartTime\": 1659362602.741333, \"EndTime\": 1659362602.7413857, \"Dimensions\": {\"Algorithm\": \"Linear Learner\", \"Host\": \"algo-1\", \"Operation\": \"training\", \"epoch\": 2, \"model\": 0}, \"Metrics\": {\"train_multiclass_cross_entropy_objective\": {\"sum\": 1.0606181640625, \"count\": 1, \"min\": 1.0606181640625, \"max\": 1.0606181640625}}}\u001b[0m\n",
      "\u001b[34m#metrics {\"StartTime\": 1659362602.7414484, \"EndTime\": 1659362602.7414684, \"Dimensions\": {\"Algorithm\": \"Linear Learner\", \"Host\": \"algo-1\", \"Operation\": \"training\", \"epoch\": 2, \"model\": 1}, \"Metrics\": {\"train_multiclass_cross_entropy_objective\": {\"sum\": 1.0572132568359376, \"count\": 1, \"min\": 1.0572132568359376, \"max\": 1.0572132568359376}}}\u001b[0m\n",
      "\u001b[34m#metrics {\"StartTime\": 1659362602.7415304, \"EndTime\": 1659362602.7415488, \"Dimensions\": {\"Algorithm\": \"Linear Learner\", \"Host\": \"algo-1\", \"Operation\": \"training\", \"epoch\": 2, \"model\": 2}, \"Metrics\": {\"train_multiclass_cross_entropy_objective\": {\"sum\": 1.0368223876953124, \"count\": 1, \"min\": 1.0368223876953124, \"max\": 1.0368223876953124}}}\u001b[0m\n",
      "\u001b[34m#metrics {\"StartTime\": 1659362602.7416034, \"EndTime\": 1659362602.741621, \"Dimensions\": {\"Algorithm\": \"Linear Learner\", \"Host\": \"algo-1\", \"Operation\": \"training\", \"epoch\": 2, \"model\": 3}, \"Metrics\": {\"train_multiclass_cross_entropy_objective\": {\"sum\": 1.01776220703125, \"count\": 1, \"min\": 1.01776220703125, \"max\": 1.01776220703125}}}\u001b[0m\n",
      "\u001b[34m#metrics {\"StartTime\": 1659362602.741726, \"EndTime\": 1659362602.7417436, \"Dimensions\": {\"Algorithm\": \"Linear Learner\", \"Host\": \"algo-1\", \"Operation\": \"training\", \"epoch\": 2, \"model\": 4}, \"Metrics\": {\"train_multiclass_cross_entropy_objective\": {\"sum\": 1.087057373046875, \"count\": 1, \"min\": 1.087057373046875, \"max\": 1.087057373046875}}}\u001b[0m\n",
      "\u001b[34m#metrics {\"StartTime\": 1659362602.741797, \"EndTime\": 1659362602.7418134, \"Dimensions\": {\"Algorithm\": \"Linear Learner\", \"Host\": \"algo-1\", \"Operation\": \"training\", \"epoch\": 2, \"model\": 5}, \"Metrics\": {\"train_multiclass_cross_entropy_objective\": {\"sum\": 1.0293048095703126, \"count\": 1, \"min\": 1.0293048095703126, \"max\": 1.0293048095703126}}}\u001b[0m\n",
      "\u001b[34m#metrics {\"StartTime\": 1659362602.7418616, \"EndTime\": 1659362602.7418768, \"Dimensions\": {\"Algorithm\": \"Linear Learner\", \"Host\": \"algo-1\", \"Operation\": \"training\", \"epoch\": 2, \"model\": 6}, \"Metrics\": {\"train_multiclass_cross_entropy_objective\": {\"sum\": 0.9412068481445313, \"count\": 1, \"min\": 0.9412068481445313, \"max\": 0.9412068481445313}}}\u001b[0m\n",
      "\u001b[34m#metrics {\"StartTime\": 1659362602.7419279, \"EndTime\": 1659362602.7419448, \"Dimensions\": {\"Algorithm\": \"Linear Learner\", \"Host\": \"algo-1\", \"Operation\": \"training\", \"epoch\": 2, \"model\": 7}, \"Metrics\": {\"train_multiclass_cross_entropy_objective\": {\"sum\": 1.07357568359375, \"count\": 1, \"min\": 1.07357568359375, \"max\": 1.07357568359375}}}\u001b[0m\n",
      "\u001b[34m#metrics {\"StartTime\": 1659362602.7419965, \"EndTime\": 1659362602.7420123, \"Dimensions\": {\"Algorithm\": \"Linear Learner\", \"Host\": \"algo-1\", \"Operation\": \"training\", \"epoch\": 2, \"model\": 8}, \"Metrics\": {\"train_multiclass_cross_entropy_objective\": {\"sum\": 0.9560392456054687, \"count\": 1, \"min\": 0.9560392456054687, \"max\": 0.9560392456054687}}}\u001b[0m\n",
      "\u001b[34m#metrics {\"StartTime\": 1659362602.7420638, \"EndTime\": 1659362602.7420795, \"Dimensions\": {\"Algorithm\": \"Linear Learner\", \"Host\": \"algo-1\", \"Operation\": \"training\", \"epoch\": 2, \"model\": 9}, \"Metrics\": {\"train_multiclass_cross_entropy_objective\": {\"sum\": 0.8069232788085937, \"count\": 1, \"min\": 0.8069232788085937, \"max\": 0.8069232788085937}}}\u001b[0m\n",
      "\u001b[34m#metrics {\"StartTime\": 1659362602.7421305, \"EndTime\": 1659362602.7421467, \"Dimensions\": {\"Algorithm\": \"Linear Learner\", \"Host\": \"algo-1\", \"Operation\": \"training\", \"epoch\": 2, \"model\": 10}, \"Metrics\": {\"train_multiclass_cross_entropy_objective\": {\"sum\": 1.070302490234375, \"count\": 1, \"min\": 1.070302490234375, \"max\": 1.070302490234375}}}\u001b[0m\n",
      "\u001b[34m#metrics {\"StartTime\": 1659362602.7422001, \"EndTime\": 1659362602.7422163, \"Dimensions\": {\"Algorithm\": \"Linear Learner\", \"Host\": \"algo-1\", \"Operation\": \"training\", \"epoch\": 2, \"model\": 11}, \"Metrics\": {\"train_multiclass_cross_entropy_objective\": {\"sum\": 0.8821119995117187, \"count\": 1, \"min\": 0.8821119995117187, \"max\": 0.8821119995117187}}}\u001b[0m\n",
      "\u001b[34m[08/01/2022 14:03:22 INFO 139801523697472] #quality_metric: host=algo-1, epoch=2, train multiclass_cross_entropy_objective <loss>=1.0606181640625\u001b[0m\n",
      "\u001b[34m[2022-08-01 14:03:22.763] [tensorio] [info] epoch_stats={\"data_pipeline\": \"/opt/ml/input/data/validation\", \"epoch\": 8, \"duration\": 11, \"num_examples\": 1, \"num_bytes\": 11544}\u001b[0m\n",
      "\u001b[34m#metrics {\"StartTime\": 1659362602.767229, \"EndTime\": 1659362602.7672675, \"Dimensions\": {\"Algorithm\": \"Linear Learner\", \"Host\": \"algo-1\", \"Operation\": \"training\", \"epoch\": 2, \"model\": 0}, \"Metrics\": {\"validation_multiclass_cross_entropy_objective\": {\"sum\": 1.0409196733354449, \"count\": 1, \"min\": 1.0409196733354449, \"max\": 1.0409196733354449}}}\u001b[0m\n",
      "\u001b[34m#metrics {\"StartTime\": 1659362602.767339, \"EndTime\": 1659362602.7673597, \"Dimensions\": {\"Algorithm\": \"Linear Learner\", \"Host\": \"algo-1\", \"Operation\": \"training\", \"epoch\": 2, \"model\": 1}, \"Metrics\": {\"validation_multiclass_cross_entropy_objective\": {\"sum\": 1.0350620166675464, \"count\": 1, \"min\": 1.0350620166675464, \"max\": 1.0350620166675464}}}\u001b[0m\n",
      "\u001b[34m#metrics {\"StartTime\": 1659362602.7674513, \"EndTime\": 1659362602.767473, \"Dimensions\": {\"Algorithm\": \"Linear Learner\", \"Host\": \"algo-1\", \"Operation\": \"training\", \"epoch\": 2, \"model\": 2}, \"Metrics\": {\"validation_multiclass_cross_entropy_objective\": {\"sum\": 1.0066045812658362, \"count\": 1, \"min\": 1.0066045812658362, \"max\": 1.0066045812658362}}}\u001b[0m\n",
      "\u001b[34m#metrics {\"StartTime\": 1659362602.7675347, \"EndTime\": 1659362602.7675529, \"Dimensions\": {\"Algorithm\": \"Linear Learner\", \"Host\": \"algo-1\", \"Operation\": \"training\", \"epoch\": 2, \"model\": 3}, \"Metrics\": {\"validation_multiclass_cross_entropy_objective\": {\"sum\": 0.9919012258718679, \"count\": 1, \"min\": 0.9919012258718679, \"max\": 0.9919012258718679}}}\u001b[0m\n",
      "\u001b[34m#metrics {\"StartTime\": 1659362602.7676334, \"EndTime\": 1659362602.7676523, \"Dimensions\": {\"Algorithm\": \"Linear Learner\", \"Host\": \"algo-1\", \"Operation\": \"training\", \"epoch\": 2, \"model\": 4}, \"Metrics\": {\"validation_multiclass_cross_entropy_objective\": {\"sum\": 1.0670623091964033, \"count\": 1, \"min\": 1.0670623091964033, \"max\": 1.0670623091964033}}}\u001b[0m\n",
      "\u001b[34m#metrics {\"StartTime\": 1659362602.7677171, \"EndTime\": 1659362602.767734, \"Dimensions\": {\"Algorithm\": \"Linear Learner\", \"Host\": \"algo-1\", \"Operation\": \"training\", \"epoch\": 2, \"model\": 5}, \"Metrics\": {\"validation_multiclass_cross_entropy_objective\": {\"sum\": 1.0052759668848537, \"count\": 1, \"min\": 1.0052759668848537, \"max\": 1.0052759668848537}}}\u001b[0m\n",
      "\u001b[34m#metrics {\"StartTime\": 1659362602.7677915, \"EndTime\": 1659362602.7678087, \"Dimensions\": {\"Algorithm\": \"Linear Learner\", \"Host\": \"algo-1\", \"Operation\": \"training\", \"epoch\": 2, \"model\": 6}, \"Metrics\": {\"validation_multiclass_cross_entropy_objective\": {\"sum\": 0.9063583236556869, \"count\": 1, \"min\": 0.9063583236556869, \"max\": 0.9063583236556869}}}\u001b[0m\n",
      "\u001b[34m#metrics {\"StartTime\": 1659362602.767864, \"EndTime\": 1659362602.7678812, \"Dimensions\": {\"Algorithm\": \"Linear Learner\", \"Host\": \"algo-1\", \"Operation\": \"training\", \"epoch\": 2, \"model\": 7}, \"Metrics\": {\"validation_multiclass_cross_entropy_objective\": {\"sum\": 1.05790545489337, \"count\": 1, \"min\": 1.05790545489337, \"max\": 1.05790545489337}}}\u001b[0m\n",
      "\u001b[34m#metrics {\"StartTime\": 1659362602.7679353, \"EndTime\": 1659362602.7679505, \"Dimensions\": {\"Algorithm\": \"Linear Learner\", \"Host\": \"algo-1\", \"Operation\": \"training\", \"epoch\": 2, \"model\": 8}, \"Metrics\": {\"validation_multiclass_cross_entropy_objective\": {\"sum\": 0.8919179418065526, \"count\": 1, \"min\": 0.8919179418065526, \"max\": 0.8919179418065526}}}\u001b[0m\n",
      "\u001b[34m#metrics {\"StartTime\": 1659362602.768005, \"EndTime\": 1659362602.7680206, \"Dimensions\": {\"Algorithm\": \"Linear Learner\", \"Host\": \"algo-1\", \"Operation\": \"training\", \"epoch\": 2, \"model\": 9}, \"Metrics\": {\"validation_multiclass_cross_entropy_objective\": {\"sum\": 0.9264925020235079, \"count\": 1, \"min\": 0.9264925020235079, \"max\": 0.9264925020235079}}}\u001b[0m\n",
      "\u001b[34m#metrics {\"StartTime\": 1659362602.7680748, \"EndTime\": 1659362602.7680898, \"Dimensions\": {\"Algorithm\": \"Linear Learner\", \"Host\": \"algo-1\", \"Operation\": \"training\", \"epoch\": 2, \"model\": 10}, \"Metrics\": {\"validation_multiclass_cross_entropy_objective\": {\"sum\": 1.0575632318720087, \"count\": 1, \"min\": 1.0575632318720087, \"max\": 1.0575632318720087}}}\u001b[0m\n",
      "\u001b[34m#metrics {\"StartTime\": 1659362602.7681446, \"EndTime\": 1659362602.7681618, \"Dimensions\": {\"Algorithm\": \"Linear Learner\", \"Host\": \"algo-1\", \"Operation\": \"training\", \"epoch\": 2, \"model\": 11}, \"Metrics\": {\"validation_multiclass_cross_entropy_objective\": {\"sum\": 0.8339095931869369, \"count\": 1, \"min\": 0.8339095931869369, \"max\": 0.8339095931869369}}}\u001b[0m\n",
      "\u001b[34m[08/01/2022 14:03:22 INFO 139801523697472] #quality_metric: host=algo-1, epoch=2, validation multiclass_cross_entropy_objective <loss>=1.0409196733354449\u001b[0m\n",
      "\u001b[34m[08/01/2022 14:03:22 INFO 139801523697472] #early_stopping_criteria_metric: host=algo-1, epoch=2, criteria=multiclass_cross_entropy_objective, value=0.8339095931869369\u001b[0m\n",
      "\u001b[34m[08/01/2022 14:03:22 INFO 139801523697472] Saving model for epoch: 2\u001b[0m\n",
      "\u001b[34m[08/01/2022 14:03:22 INFO 139801523697472] Saved checkpoint to \"/tmp/tmpaec57u94/mx-mod-0000.params\"\u001b[0m\n",
      "\u001b[34m[08/01/2022 14:03:22 INFO 139801523697472] #progress_metric: host=algo-1, completed 20.0 % of epochs\u001b[0m\n",
      "\u001b[34m#metrics {\"StartTime\": 1659362602.7202523, \"EndTime\": 1659362602.7761803, \"Dimensions\": {\"Algorithm\": \"Linear Learner\", \"Host\": \"algo-1\", \"Operation\": \"training\", \"epoch\": 2, \"Meta\": \"training_data_iter\"}, \"Metrics\": {\"Total Records Seen\": {\"sum\": 8104.0, \"count\": 1, \"min\": 8104, \"max\": 8104}, \"Total Batches Seen\": {\"sum\": 9.0, \"count\": 1, \"min\": 9, \"max\": 9}, \"Max Records Seen Between Resets\": {\"sum\": 1776.0, \"count\": 1, \"min\": 1776, \"max\": 1776}, \"Max Batches Seen Between Resets\": {\"sum\": 2.0, \"count\": 1, \"min\": 2, \"max\": 2}, \"Reset Count\": {\"sum\": 5.0, \"count\": 1, \"min\": 5, \"max\": 5}, \"Number of Records Since Last Reset\": {\"sum\": 1776.0, \"count\": 1, \"min\": 1776, \"max\": 1776}, \"Number of Batches Since Last Reset\": {\"sum\": 2.0, \"count\": 1, \"min\": 2, \"max\": 2}}}\u001b[0m\n",
      "\u001b[34m[08/01/2022 14:03:22 INFO 139801523697472] #throughput_metric: host=algo-1, train throughput=31675.71939940553 records/second\u001b[0m\n",
      "\u001b[34m[2022-08-01 14:03:22.806] [tensorio] [info] epoch_stats={\"data_pipeline\": \"/opt/ml/input/data/train\", \"epoch\": 10, \"duration\": 29, \"num_examples\": 2, \"num_bytes\": 92352}\u001b[0m\n",
      "\u001b[34m#metrics {\"StartTime\": 1659362602.8063629, \"EndTime\": 1659362602.8065329, \"Dimensions\": {\"Algorithm\": \"Linear Learner\", \"Host\": \"algo-1\", \"Operation\": \"training\", \"epoch\": 3, \"model\": 0}, \"Metrics\": {\"train_multiclass_cross_entropy_objective\": {\"sum\": 1.0444185791015625, \"count\": 1, \"min\": 1.0444185791015625, \"max\": 1.0444185791015625}}}\u001b[0m\n",
      "\u001b[34m#metrics {\"StartTime\": 1659362602.806632, \"EndTime\": 1659362602.8066576, \"Dimensions\": {\"Algorithm\": \"Linear Learner\", \"Host\": \"algo-1\", \"Operation\": \"training\", \"epoch\": 3, \"model\": 1}, \"Metrics\": {\"train_multiclass_cross_entropy_objective\": {\"sum\": 1.0386099853515625, \"count\": 1, \"min\": 1.0386099853515625, \"max\": 1.0386099853515625}}}\u001b[0m\n",
      "\u001b[34m#metrics {\"StartTime\": 1659362602.806721, \"EndTime\": 1659362602.8068347, \"Dimensions\": {\"Algorithm\": \"Linear Learner\", \"Host\": \"algo-1\", \"Operation\": \"training\", \"epoch\": 3, \"model\": 2}, \"Metrics\": {\"train_multiclass_cross_entropy_objective\": {\"sum\": 1.0124017333984374, \"count\": 1, \"min\": 1.0124017333984374, \"max\": 1.0124017333984374}}}\u001b[0m\n",
      "\u001b[34m#metrics {\"StartTime\": 1659362602.8070042, \"EndTime\": 1659362602.8070283, \"Dimensions\": {\"Algorithm\": \"Linear Learner\", \"Host\": \"algo-1\", \"Operation\": \"training\", \"epoch\": 3, \"model\": 3}, \"Metrics\": {\"train_multiclass_cross_entropy_objective\": {\"sum\": 0.997985595703125, \"count\": 1, \"min\": 0.997985595703125, \"max\": 0.997985595703125}}}\u001b[0m\n",
      "\u001b[34m#metrics {\"StartTime\": 1659362602.807092, \"EndTime\": 1659362602.8072855, \"Dimensions\": {\"Algorithm\": \"Linear Learner\", \"Host\": \"algo-1\", \"Operation\": \"training\", \"epoch\": 3, \"model\": 4}, \"Metrics\": {\"train_multiclass_cross_entropy_objective\": {\"sum\": 1.06651123046875, \"count\": 1, \"min\": 1.06651123046875, \"max\": 1.06651123046875}}}\u001b[0m\n",
      "\u001b[34m#metrics {\"StartTime\": 1659362602.8073606, \"EndTime\": 1659362602.8073826, \"Dimensions\": {\"Algorithm\": \"Linear Learner\", \"Host\": \"algo-1\", \"Operation\": \"training\", \"epoch\": 3, \"model\": 5}, \"Metrics\": {\"train_multiclass_cross_entropy_objective\": {\"sum\": 1.0092876586914064, \"count\": 1, \"min\": 1.0092876586914064, \"max\": 1.0092876586914064}}}\u001b[0m\n",
      "\u001b[34m#metrics {\"StartTime\": 1659362602.807925, \"EndTime\": 1659362602.8079503, \"Dimensions\": {\"Algorithm\": \"Linear Learner\", \"Host\": \"algo-1\", \"Operation\": \"training\", \"epoch\": 3, \"model\": 6}, \"Metrics\": {\"train_multiclass_cross_entropy_objective\": {\"sum\": 0.91410498046875, \"count\": 1, \"min\": 0.91410498046875, \"max\": 0.91410498046875}}}\u001b[0m\n",
      "\u001b[34m#metrics {\"StartTime\": 1659362602.8080242, \"EndTime\": 1659362602.8080423, \"Dimensions\": {\"Algorithm\": \"Linear Learner\", \"Host\": \"algo-1\", \"Operation\": \"training\", \"epoch\": 3, \"model\": 7}, \"Metrics\": {\"train_multiclass_cross_entropy_objective\": {\"sum\": 1.05976513671875, \"count\": 1, \"min\": 1.05976513671875, \"max\": 1.05976513671875}}}\u001b[0m\n",
      "\u001b[34m#metrics {\"StartTime\": 1659362602.8081012, \"EndTime\": 1659362602.8081179, \"Dimensions\": {\"Algorithm\": \"Linear Learner\", \"Host\": \"algo-1\", \"Operation\": \"training\", \"epoch\": 3, \"model\": 8}, \"Metrics\": {\"train_multiclass_cross_entropy_objective\": {\"sum\": 0.8989544677734375, \"count\": 1, \"min\": 0.8989544677734375, \"max\": 0.8989544677734375}}}\u001b[0m\n",
      "\u001b[34m#metrics {\"StartTime\": 1659362602.8083706, \"EndTime\": 1659362602.8083937, \"Dimensions\": {\"Algorithm\": \"Linear Learner\", \"Host\": \"algo-1\", \"Operation\": \"training\", \"epoch\": 3, \"model\": 9}, \"Metrics\": {\"train_multiclass_cross_entropy_objective\": {\"sum\": 0.9466784057617188, \"count\": 1, \"min\": 0.9466784057617188, \"max\": 0.9466784057617188}}}\u001b[0m\n",
      "\u001b[34m#metrics {\"StartTime\": 1659362602.808552, \"EndTime\": 1659362602.8086555, \"Dimensions\": {\"Algorithm\": \"Linear Learner\", \"Host\": \"algo-1\", \"Operation\": \"training\", \"epoch\": 3, \"model\": 10}, \"Metrics\": {\"train_multiclass_cross_entropy_objective\": {\"sum\": 1.0585916748046875, \"count\": 1, \"min\": 1.0585916748046875, \"max\": 1.0585916748046875}}}\u001b[0m\n",
      "\u001b[34m#metrics {\"StartTime\": 1659362602.8087227, \"EndTime\": 1659362602.8087413, \"Dimensions\": {\"Algorithm\": \"Linear Learner\", \"Host\": \"algo-1\", \"Operation\": \"training\", \"epoch\": 3, \"model\": 11}, \"Metrics\": {\"train_multiclass_cross_entropy_objective\": {\"sum\": 0.8438983764648438, \"count\": 1, \"min\": 0.8438983764648438, \"max\": 0.8438983764648438}}}\u001b[0m\n",
      "\u001b[34m[08/01/2022 14:03:22 INFO 139801523697472] #quality_metric: host=algo-1, epoch=3, train multiclass_cross_entropy_objective <loss>=1.0444185791015625\u001b[0m\n",
      "\u001b[34m[2022-08-01 14:03:22.838] [tensorio] [info] epoch_stats={\"data_pipeline\": \"/opt/ml/input/data/validation\", \"epoch\": 11, \"duration\": 15, \"num_examples\": 1, \"num_bytes\": 11544}\u001b[0m\n",
      "\u001b[34m#metrics {\"StartTime\": 1659362602.8422394, \"EndTime\": 1659362602.8423007, \"Dimensions\": {\"Algorithm\": \"Linear Learner\", \"Host\": \"algo-1\", \"Operation\": \"training\", \"epoch\": 3, \"model\": 0}, \"Metrics\": {\"validation_multiclass_cross_entropy_objective\": {\"sum\": 1.0270592629372537, \"count\": 1, \"min\": 1.0270592629372537, \"max\": 1.0270592629372537}}}\u001b[0m\n",
      "\u001b[34m#metrics {\"StartTime\": 1659362602.8424015, \"EndTime\": 1659362602.8424246, \"Dimensions\": {\"Algorithm\": \"Linear Learner\", \"Host\": \"algo-1\", \"Operation\": \"training\", \"epoch\": 3, \"model\": 1}, \"Metrics\": {\"validation_multiclass_cross_entropy_objective\": {\"sum\": 1.019809963466885, \"count\": 1, \"min\": 1.019809963466885, \"max\": 1.019809963466885}}}\u001b[0m\n",
      "\u001b[34m#metrics {\"StartTime\": 1659362602.8424895, \"EndTime\": 1659362602.8425102, \"Dimensions\": {\"Algorithm\": \"Linear Learner\", \"Host\": \"algo-1\", \"Operation\": \"training\", \"epoch\": 3, \"model\": 2}, \"Metrics\": {\"validation_multiclass_cross_entropy_objective\": {\"sum\": 0.9941092138891822, \"count\": 1, \"min\": 0.9941092138891822, \"max\": 0.9941092138891822}}}\u001b[0m\n",
      "\u001b[34m#metrics {\"StartTime\": 1659362602.8425696, \"EndTime\": 1659362602.8425865, \"Dimensions\": {\"Algorithm\": \"Linear Learner\", \"Host\": \"algo-1\", \"Operation\": \"training\", \"epoch\": 3, \"model\": 3}, \"Metrics\": {\"validation_multiclass_cross_entropy_objective\": {\"sum\": 0.9777897327869862, \"count\": 1, \"min\": 0.9777897327869862, \"max\": 0.9777897327869862}}}\u001b[0m\n",
      "\u001b[34m#metrics {\"StartTime\": 1659362602.8426487, \"EndTime\": 1659362602.8426664, \"Dimensions\": {\"Algorithm\": \"Linear Learner\", \"Host\": \"algo-1\", \"Operation\": \"training\", \"epoch\": 3, \"model\": 4}, \"Metrics\": {\"validation_multiclass_cross_entropy_objective\": {\"sum\": 1.046907510843363, \"count\": 1, \"min\": 1.046907510843363, \"max\": 1.046907510843363}}}\u001b[0m\n",
      "\u001b[34m#metrics {\"StartTime\": 1659362602.8427267, \"EndTime\": 1659362602.8427505, \"Dimensions\": {\"Algorithm\": \"Linear Learner\", \"Host\": \"algo-1\", \"Operation\": \"training\", \"epoch\": 3, \"model\": 5}, \"Metrics\": {\"validation_multiclass_cross_entropy_objective\": {\"sum\": 0.9883912232545045, \"count\": 1, \"min\": 0.9883912232545045, \"max\": 0.9883912232545045}}}\u001b[0m\n",
      "\u001b[34m#metrics {\"StartTime\": 1659362602.8428128, \"EndTime\": 1659362602.8428302, \"Dimensions\": {\"Algorithm\": \"Linear Learner\", \"Host\": \"algo-1\", \"Operation\": \"training\", \"epoch\": 3, \"model\": 6}, \"Metrics\": {\"validation_multiclass_cross_entropy_objective\": {\"sum\": 0.886699779613598, \"count\": 1, \"min\": 0.886699779613598, \"max\": 0.886699779613598}}}\u001b[0m\n",
      "\u001b[34m#metrics {\"StartTime\": 1659362602.8429053, \"EndTime\": 1659362602.8429282, \"Dimensions\": {\"Algorithm\": \"Linear Learner\", \"Host\": \"algo-1\", \"Operation\": \"training\", \"epoch\": 3, \"model\": 7}, \"Metrics\": {\"validation_multiclass_cross_entropy_objective\": {\"sum\": 1.0451556368991062, \"count\": 1, \"min\": 1.0451556368991062, \"max\": 1.0451556368991062}}}\u001b[0m\n",
      "\u001b[34m#metrics {\"StartTime\": 1659362602.8429918, \"EndTime\": 1659362602.8430097, \"Dimensions\": {\"Algorithm\": \"Linear Learner\", \"Host\": \"algo-1\", \"Operation\": \"training\", \"epoch\": 3, \"model\": 8}, \"Metrics\": {\"validation_multiclass_cross_entropy_objective\": {\"sum\": 0.8441734657631265, \"count\": 1, \"min\": 0.8441734657631265, \"max\": 0.8441734657631265}}}\u001b[0m\n",
      "\u001b[34m#metrics {\"StartTime\": 1659362602.8430603, \"EndTime\": 1659362602.843076, \"Dimensions\": {\"Algorithm\": \"Linear Learner\", \"Host\": \"algo-1\", \"Operation\": \"training\", \"epoch\": 3, \"model\": 9}, \"Metrics\": {\"validation_multiclass_cross_entropy_objective\": {\"sum\": 2.0304856858811937, \"count\": 1, \"min\": 2.0304856858811937, \"max\": 2.0304856858811937}}}\u001b[0m\n",
      "\u001b[34m#metrics {\"StartTime\": 1659362602.843128, \"EndTime\": 1659362602.8431425, \"Dimensions\": {\"Algorithm\": \"Linear Learner\", \"Host\": \"algo-1\", \"Operation\": \"training\", \"epoch\": 3, \"model\": 10}, \"Metrics\": {\"validation_multiclass_cross_entropy_objective\": {\"sum\": 1.045929917344102, \"count\": 1, \"min\": 1.045929917344102, \"max\": 1.045929917344102}}}\u001b[0m\n",
      "\u001b[34m#metrics {\"StartTime\": 1659362602.8432014, \"EndTime\": 1659362602.8432195, \"Dimensions\": {\"Algorithm\": \"Linear Learner\", \"Host\": \"algo-1\", \"Operation\": \"training\", \"epoch\": 3, \"model\": 11}, \"Metrics\": {\"validation_multiclass_cross_entropy_objective\": {\"sum\": 0.8418076661255982, \"count\": 1, \"min\": 0.8418076661255982, \"max\": 0.8418076661255982}}}\u001b[0m\n",
      "\u001b[34m[08/01/2022 14:03:22 INFO 139801523697472] #quality_metric: host=algo-1, epoch=3, validation multiclass_cross_entropy_objective <loss>=1.0270592629372537\u001b[0m\n",
      "\u001b[34m[08/01/2022 14:03:22 INFO 139801523697472] #early_stopping_criteria_metric: host=algo-1, epoch=3, criteria=multiclass_cross_entropy_objective, value=0.8418076661255982\u001b[0m\n",
      "\u001b[34m[08/01/2022 14:03:22 INFO 139801523697472] Saving model for epoch: 3\u001b[0m\n",
      "\u001b[34m[08/01/2022 14:03:22 INFO 139801523697472] Saved checkpoint to \"/tmp/tmp4vr7pzi0/mx-mod-0000.params\"\u001b[0m\n",
      "\u001b[34m[08/01/2022 14:03:22 INFO 139801523697472] #progress_metric: host=algo-1, completed 26.666666666666668 % of epochs\u001b[0m\n",
      "\u001b[34m#metrics {\"StartTime\": 1659362602.776471, \"EndTime\": 1659362602.8519647, \"Dimensions\": {\"Algorithm\": \"Linear Learner\", \"Host\": \"algo-1\", \"Operation\": \"training\", \"epoch\": 3, \"Meta\": \"training_data_iter\"}, \"Metrics\": {\"Total Records Seen\": {\"sum\": 9880.0, \"count\": 1, \"min\": 9880, \"max\": 9880}, \"Total Batches Seen\": {\"sum\": 11.0, \"count\": 1, \"min\": 11, \"max\": 11}, \"Max Records Seen Between Resets\": {\"sum\": 1776.0, \"count\": 1, \"min\": 1776, \"max\": 1776}, \"Max Batches Seen Between Resets\": {\"sum\": 2.0, \"count\": 1, \"min\": 2, \"max\": 2}, \"Reset Count\": {\"sum\": 6.0, \"count\": 1, \"min\": 6, \"max\": 6}, \"Number of Records Since Last Reset\": {\"sum\": 1776.0, \"count\": 1, \"min\": 1776, \"max\": 1776}, \"Number of Batches Since Last Reset\": {\"sum\": 2.0, \"count\": 1, \"min\": 2, \"max\": 2}}}\u001b[0m\n",
      "\u001b[34m[08/01/2022 14:03:22 INFO 139801523697472] #throughput_metric: host=algo-1, train throughput=23483.723003007548 records/second\u001b[0m\n",
      "\u001b[34m[2022-08-01 14:03:22.875] [tensorio] [info] epoch_stats={\"data_pipeline\": \"/opt/ml/input/data/train\", \"epoch\": 12, \"duration\": 22, \"num_examples\": 2, \"num_bytes\": 92352}\u001b[0m\n",
      "\u001b[34m#metrics {\"StartTime\": 1659362602.8753633, \"EndTime\": 1659362602.875418, \"Dimensions\": {\"Algorithm\": \"Linear Learner\", \"Host\": \"algo-1\", \"Operation\": \"training\", \"epoch\": 4, \"model\": 0}, \"Metrics\": {\"train_multiclass_cross_entropy_objective\": {\"sum\": 1.03218310546875, \"count\": 1, \"min\": 1.03218310546875, \"max\": 1.03218310546875}}}\u001b[0m\n",
      "\u001b[34m#metrics {\"StartTime\": 1659362602.875501, \"EndTime\": 1659362602.8755226, \"Dimensions\": {\"Algorithm\": \"Linear Learner\", \"Host\": \"algo-1\", \"Operation\": \"training\", \"epoch\": 4, \"model\": 1}, \"Metrics\": {\"train_multiclass_cross_entropy_objective\": {\"sum\": 1.0253536376953125, \"count\": 1, \"min\": 1.0253536376953125, \"max\": 1.0253536376953125}}}\u001b[0m\n",
      "\u001b[34m#metrics {\"StartTime\": 1659362602.8755858, \"EndTime\": 1659362602.875604, \"Dimensions\": {\"Algorithm\": \"Linear Learner\", \"Host\": \"algo-1\", \"Operation\": \"training\", \"epoch\": 4, \"model\": 2}, \"Metrics\": {\"train_multiclass_cross_entropy_objective\": {\"sum\": 1.00282861328125, \"count\": 1, \"min\": 1.00282861328125, \"max\": 1.00282861328125}}}\u001b[0m\n",
      "\u001b[34m#metrics {\"StartTime\": 1659362602.8756626, \"EndTime\": 1659362602.875681, \"Dimensions\": {\"Algorithm\": \"Linear Learner\", \"Host\": \"algo-1\", \"Operation\": \"training\", \"epoch\": 4, \"model\": 3}, \"Metrics\": {\"train_multiclass_cross_entropy_objective\": {\"sum\": 0.9858480224609375, \"count\": 1, \"min\": 0.9858480224609375, \"max\": 0.9858480224609375}}}\u001b[0m\n",
      "\u001b[34m#metrics {\"StartTime\": 1659362602.8757358, \"EndTime\": 1659362602.8757532, \"Dimensions\": {\"Algorithm\": \"Linear Learner\", \"Host\": \"algo-1\", \"Operation\": \"training\", \"epoch\": 4, \"model\": 4}, \"Metrics\": {\"train_multiclass_cross_entropy_objective\": {\"sum\": 1.047233154296875, \"count\": 1, \"min\": 1.047233154296875, \"max\": 1.047233154296875}}}\u001b[0m\n",
      "\u001b[34m#metrics {\"StartTime\": 1659362602.8758068, \"EndTime\": 1659362602.8758235, \"Dimensions\": {\"Algorithm\": \"Linear Learner\", \"Host\": \"algo-1\", \"Operation\": \"training\", \"epoch\": 4, \"model\": 5}, \"Metrics\": {\"train_multiclass_cross_entropy_objective\": {\"sum\": 0.9927888793945312, \"count\": 1, \"min\": 0.9927888793945312, \"max\": 0.9927888793945312}}}\u001b[0m\n",
      "\u001b[34m#metrics {\"StartTime\": 1659362602.8758783, \"EndTime\": 1659362602.875895, \"Dimensions\": {\"Algorithm\": \"Linear Learner\", \"Host\": \"algo-1\", \"Operation\": \"training\", \"epoch\": 4, \"model\": 6}, \"Metrics\": {\"train_multiclass_cross_entropy_objective\": {\"sum\": 0.8956713256835938, \"count\": 1, \"min\": 0.8956713256835938, \"max\": 0.8956713256835938}}}\u001b[0m\n",
      "\u001b[34m#metrics {\"StartTime\": 1659362602.875947, \"EndTime\": 1659362602.8759637, \"Dimensions\": {\"Algorithm\": \"Linear Learner\", \"Host\": \"algo-1\", \"Operation\": \"training\", \"epoch\": 4, \"model\": 7}, \"Metrics\": {\"train_multiclass_cross_entropy_objective\": {\"sum\": 1.0487437744140624, \"count\": 1, \"min\": 1.0487437744140624, \"max\": 1.0487437744140624}}}\u001b[0m\n",
      "\u001b[34m#metrics {\"StartTime\": 1659362602.8760169, \"EndTime\": 1659362602.8760335, \"Dimensions\": {\"Algorithm\": \"Linear Learner\", \"Host\": \"algo-1\", \"Operation\": \"training\", \"epoch\": 4, \"model\": 8}, \"Metrics\": {\"train_multiclass_cross_entropy_objective\": {\"sum\": 0.8530120849609375, \"count\": 1, \"min\": 0.8530120849609375, \"max\": 0.8530120849609375}}}\u001b[0m\n",
      "\u001b[34m#metrics {\"StartTime\": 1659362602.876086, \"EndTime\": 1659362602.8761024, \"Dimensions\": {\"Algorithm\": \"Linear Learner\", \"Host\": \"algo-1\", \"Operation\": \"training\", \"epoch\": 4, \"model\": 9}, \"Metrics\": {\"train_multiclass_cross_entropy_objective\": {\"sum\": 2.03142626953125, \"count\": 1, \"min\": 2.03142626953125, \"max\": 2.03142626953125}}}\u001b[0m\n",
      "\u001b[34m#metrics {\"StartTime\": 1659362602.876155, \"EndTime\": 1659362602.8761714, \"Dimensions\": {\"Algorithm\": \"Linear Learner\", \"Host\": \"algo-1\", \"Operation\": \"training\", \"epoch\": 4, \"model\": 10}, \"Metrics\": {\"train_multiclass_cross_entropy_objective\": {\"sum\": 1.0487557373046874, \"count\": 1, \"min\": 1.0487557373046874, \"max\": 1.0487557373046874}}}\u001b[0m\n",
      "\u001b[34m#metrics {\"StartTime\": 1659362602.876224, \"EndTime\": 1659362602.8762407, \"Dimensions\": {\"Algorithm\": \"Linear Learner\", \"Host\": \"algo-1\", \"Operation\": \"training\", \"epoch\": 4, \"model\": 11}, \"Metrics\": {\"train_multiclass_cross_entropy_objective\": {\"sum\": 0.8513424072265625, \"count\": 1, \"min\": 0.8513424072265625, \"max\": 0.8513424072265625}}}\u001b[0m\n",
      "\u001b[34m[08/01/2022 14:03:22 INFO 139801523697472] #quality_metric: host=algo-1, epoch=4, train multiclass_cross_entropy_objective <loss>=1.03218310546875\u001b[0m\n",
      "\u001b[34m[2022-08-01 14:03:22.918] [tensorio] [info] epoch_stats={\"data_pipeline\": \"/opt/ml/input/data/validation\", \"epoch\": 14, \"duration\": 32, \"num_examples\": 1, \"num_bytes\": 11544}\u001b[0m\n",
      "\u001b[34m#metrics {\"StartTime\": 1659362602.9226494, \"EndTime\": 1659362602.922696, \"Dimensions\": {\"Algorithm\": \"Linear Learner\", \"Host\": \"algo-1\", \"Operation\": \"training\", \"epoch\": 4, \"model\": 0}, \"Metrics\": {\"validation_multiclass_cross_entropy_objective\": {\"sum\": 1.0100545109929264, \"count\": 1, \"min\": 1.0100545109929264, \"max\": 1.0100545109929264}}}\u001b[0m\n",
      "\u001b[34m#metrics {\"StartTime\": 1659362602.9227853, \"EndTime\": 1659362602.9228077, \"Dimensions\": {\"Algorithm\": \"Linear Learner\", \"Host\": \"algo-1\", \"Operation\": \"training\", \"epoch\": 4, \"model\": 1}, \"Metrics\": {\"validation_multiclass_cross_entropy_objective\": {\"sum\": 0.9982991261525197, \"count\": 1, \"min\": 0.9982991261525197, \"max\": 0.9982991261525197}}}\u001b[0m\n",
      "\u001b[34m#metrics {\"StartTime\": 1659362602.922868, \"EndTime\": 1659362602.9228864, \"Dimensions\": {\"Algorithm\": \"Linear Learner\", \"Host\": \"algo-1\", \"Operation\": \"training\", \"epoch\": 4, \"model\": 2}, \"Metrics\": {\"validation_multiclass_cross_entropy_objective\": {\"sum\": 0.9440632725621129, \"count\": 1, \"min\": 0.9440632725621129, \"max\": 0.9440632725621129}}}\u001b[0m\n",
      "\u001b[34m#metrics {\"StartTime\": 1659362602.9235747, \"EndTime\": 1659362602.9235966, \"Dimensions\": {\"Algorithm\": \"Linear Learner\", \"Host\": \"algo-1\", \"Operation\": \"training\", \"epoch\": 4, \"model\": 3}, \"Metrics\": {\"validation_multiclass_cross_entropy_objective\": {\"sum\": 0.9517125310124578, \"count\": 1, \"min\": 0.9517125310124578, \"max\": 0.9517125310124578}}}\u001b[0m\n",
      "\u001b[34m#metrics {\"StartTime\": 1659362602.9236553, \"EndTime\": 1659362602.9236739, \"Dimensions\": {\"Algorithm\": \"Linear Learner\", \"Host\": \"algo-1\", \"Operation\": \"training\", \"epoch\": 4, \"model\": 4}, \"Metrics\": {\"validation_multiclass_cross_entropy_objective\": {\"sum\": 1.0277523006404843, \"count\": 1, \"min\": 1.0277523006404843, \"max\": 1.0277523006404843}}}\u001b[0m\n",
      "\u001b[34m#metrics {\"StartTime\": 1659362602.9239209, \"EndTime\": 1659362602.923949, \"Dimensions\": {\"Algorithm\": \"Linear Learner\", \"Host\": \"algo-1\", \"Operation\": \"training\", \"epoch\": 4, \"model\": 5}, \"Metrics\": {\"validation_multiclass_cross_entropy_objective\": {\"sum\": 0.9736388610289978, \"count\": 1, \"min\": 0.9736388610289978, \"max\": 0.9736388610289978}}}\u001b[0m\n",
      "\u001b[34m#metrics {\"StartTime\": 1659362602.9240162, \"EndTime\": 1659362602.9240363, \"Dimensions\": {\"Algorithm\": \"Linear Learner\", \"Host\": \"algo-1\", \"Operation\": \"training\", \"epoch\": 4, \"model\": 6}, \"Metrics\": {\"validation_multiclass_cross_entropy_objective\": {\"sum\": 0.8720021978154913, \"count\": 1, \"min\": 0.8720021978154913, \"max\": 0.8720021978154913}}}\u001b[0m\n",
      "\u001b[34m#metrics {\"StartTime\": 1659362602.924095, \"EndTime\": 1659362602.9241126, \"Dimensions\": {\"Algorithm\": \"Linear Learner\", \"Host\": \"algo-1\", \"Operation\": \"training\", \"epoch\": 4, \"model\": 7}, \"Metrics\": {\"validation_multiclass_cross_entropy_objective\": {\"sum\": 1.0315409479914486, \"count\": 1, \"min\": 1.0315409479914486, \"max\": 1.0315409479914486}}}\u001b[0m\n",
      "\u001b[34m#metrics {\"StartTime\": 1659362602.9241698, \"EndTime\": 1659362602.924188, \"Dimensions\": {\"Algorithm\": \"Linear Learner\", \"Host\": \"algo-1\", \"Operation\": \"training\", \"epoch\": 4, \"model\": 8}, \"Metrics\": {\"validation_multiclass_cross_entropy_objective\": {\"sum\": 0.8065404806051168, \"count\": 1, \"min\": 0.8065404806051168, \"max\": 0.8065404806051168}}}\u001b[0m\n",
      "\u001b[34m#metrics {\"StartTime\": 1659362602.9242425, \"EndTime\": 1659362602.92426, \"Dimensions\": {\"Algorithm\": \"Linear Learner\", \"Host\": \"algo-1\", \"Operation\": \"training\", \"epoch\": 4, \"model\": 9}, \"Metrics\": {\"validation_multiclass_cross_entropy_objective\": {\"sum\": 0.8620898272540118, \"count\": 1, \"min\": 0.8620898272540118, \"max\": 0.8620898272540118}}}\u001b[0m\n",
      "\u001b[34m#metrics {\"StartTime\": 1659362602.9243135, \"EndTime\": 1659362602.924331, \"Dimensions\": {\"Algorithm\": \"Linear Learner\", \"Host\": \"algo-1\", \"Operation\": \"training\", \"epoch\": 4, \"model\": 10}, \"Metrics\": {\"validation_multiclass_cross_entropy_objective\": {\"sum\": 1.0346797908748593, \"count\": 1, \"min\": 1.0346797908748593, \"max\": 1.0346797908748593}}}\u001b[0m\n",
      "\u001b[34m#metrics {\"StartTime\": 1659362602.9243846, \"EndTime\": 1659362602.9244015, \"Dimensions\": {\"Algorithm\": \"Linear Learner\", \"Host\": \"algo-1\", \"Operation\": \"training\", \"epoch\": 4, \"model\": 11}, \"Metrics\": {\"validation_multiclass_cross_entropy_objective\": {\"sum\": 0.9936064299162444, \"count\": 1, \"min\": 0.9936064299162444, \"max\": 0.9936064299162444}}}\u001b[0m\n",
      "\u001b[34m[08/01/2022 14:03:22 INFO 139801523697472] #quality_metric: host=algo-1, epoch=4, validation multiclass_cross_entropy_objective <loss>=1.0100545109929264\u001b[0m\n",
      "\u001b[34m[08/01/2022 14:03:22 INFO 139801523697472] #early_stopping_criteria_metric: host=algo-1, epoch=4, criteria=multiclass_cross_entropy_objective, value=0.8065404806051168\u001b[0m\n",
      "\u001b[34m[08/01/2022 14:03:22 INFO 139801523697472] Saving model for epoch: 4\u001b[0m\n",
      "\u001b[34m[08/01/2022 14:03:22 INFO 139801523697472] Saved checkpoint to \"/tmp/tmpdokwgoak/mx-mod-0000.params\"\u001b[0m\n",
      "\u001b[34m[08/01/2022 14:03:22 INFO 139801523697472] #progress_metric: host=algo-1, completed 33.333333333333336 % of epochs\u001b[0m\n",
      "\u001b[34m#metrics {\"StartTime\": 1659362602.8522735, \"EndTime\": 1659362602.935706, \"Dimensions\": {\"Algorithm\": \"Linear Learner\", \"Host\": \"algo-1\", \"Operation\": \"training\", \"epoch\": 4, \"Meta\": \"training_data_iter\"}, \"Metrics\": {\"Total Records Seen\": {\"sum\": 11656.0, \"count\": 1, \"min\": 11656, \"max\": 11656}, \"Total Batches Seen\": {\"sum\": 13.0, \"count\": 1, \"min\": 13, \"max\": 13}, \"Max Records Seen Between Resets\": {\"sum\": 1776.0, \"count\": 1, \"min\": 1776, \"max\": 1776}, \"Max Batches Seen Between Resets\": {\"sum\": 2.0, \"count\": 1, \"min\": 2, \"max\": 2}, \"Reset Count\": {\"sum\": 7.0, \"count\": 1, \"min\": 7, \"max\": 7}, \"Number of Records Since Last Reset\": {\"sum\": 1776.0, \"count\": 1, \"min\": 1776, \"max\": 1776}, \"Number of Batches Since Last Reset\": {\"sum\": 2.0, \"count\": 1, \"min\": 2, \"max\": 2}}}\u001b[0m\n",
      "\u001b[34m[08/01/2022 14:03:22 INFO 139801523697472] #throughput_metric: host=algo-1, train throughput=21249.340772943553 records/second\u001b[0m\n",
      "\u001b[34m[2022-08-01 14:03:22.968] [tensorio] [info] epoch_stats={\"data_pipeline\": \"/opt/ml/input/data/train\", \"epoch\": 14, \"duration\": 32, \"num_examples\": 2, \"num_bytes\": 92352}\u001b[0m\n",
      "\u001b[34m#metrics {\"StartTime\": 1659362602.9688113, \"EndTime\": 1659362602.9688785, \"Dimensions\": {\"Algorithm\": \"Linear Learner\", \"Host\": \"algo-1\", \"Operation\": \"training\", \"epoch\": 5, \"model\": 0}, \"Metrics\": {\"train_multiclass_cross_entropy_objective\": {\"sum\": 1.0152379760742187, \"count\": 1, \"min\": 1.0152379760742187, \"max\": 1.0152379760742187}}}\u001b[0m\n",
      "\u001b[34m#metrics {\"StartTime\": 1659362602.9692779, \"EndTime\": 1659362602.9692988, \"Dimensions\": {\"Algorithm\": \"Linear Learner\", \"Host\": \"algo-1\", \"Operation\": \"training\", \"epoch\": 5, \"model\": 1}, \"Metrics\": {\"train_multiclass_cross_entropy_objective\": {\"sum\": 1.0039544067382813, \"count\": 1, \"min\": 1.0039544067382813, \"max\": 1.0039544067382813}}}\u001b[0m\n",
      "\u001b[34m#metrics {\"StartTime\": 1659362602.96937, \"EndTime\": 1659362602.969388, \"Dimensions\": {\"Algorithm\": \"Linear Learner\", \"Host\": \"algo-1\", \"Operation\": \"training\", \"epoch\": 5, \"model\": 2}, \"Metrics\": {\"train_multiclass_cross_entropy_objective\": {\"sum\": 0.9525301513671875, \"count\": 1, \"min\": 0.9525301513671875, \"max\": 0.9525301513671875}}}\u001b[0m\n",
      "\u001b[34m#metrics {\"StartTime\": 1659362602.9694471, \"EndTime\": 1659362602.9694653, \"Dimensions\": {\"Algorithm\": \"Linear Learner\", \"Host\": \"algo-1\", \"Operation\": \"training\", \"epoch\": 5, \"model\": 3}, \"Metrics\": {\"train_multiclass_cross_entropy_objective\": {\"sum\": 0.959768310546875, \"count\": 1, \"min\": 0.959768310546875, \"max\": 0.959768310546875}}}\u001b[0m\n",
      "\u001b[34m#metrics {\"StartTime\": 1659362602.9695115, \"EndTime\": 1659362602.969548, \"Dimensions\": {\"Algorithm\": \"Linear Learner\", \"Host\": \"algo-1\", \"Operation\": \"training\", \"epoch\": 5, \"model\": 4}, \"Metrics\": {\"train_multiclass_cross_entropy_objective\": {\"sum\": 1.0289783935546875, \"count\": 1, \"min\": 1.0289783935546875, \"max\": 1.0289783935546875}}}\u001b[0m\n",
      "\u001b[34m#metrics {\"StartTime\": 1659362602.9696023, \"EndTime\": 1659362602.9696178, \"Dimensions\": {\"Algorithm\": \"Linear Learner\", \"Host\": \"algo-1\", \"Operation\": \"training\", \"epoch\": 5, \"model\": 5}, \"Metrics\": {\"train_multiclass_cross_entropy_objective\": {\"sum\": 0.9785779418945313, \"count\": 1, \"min\": 0.9785779418945313, \"max\": 0.9785779418945313}}}\u001b[0m\n",
      "\u001b[34m#metrics {\"StartTime\": 1659362602.9696696, \"EndTime\": 1659362602.9697127, \"Dimensions\": {\"Algorithm\": \"Linear Learner\", \"Host\": \"algo-1\", \"Operation\": \"training\", \"epoch\": 5, \"model\": 6}, \"Metrics\": {\"train_multiclass_cross_entropy_objective\": {\"sum\": 0.8819891967773438, \"count\": 1, \"min\": 0.8819891967773438, \"max\": 0.8819891967773438}}}\u001b[0m\n",
      "\u001b[34m#metrics {\"StartTime\": 1659362602.9697537, \"EndTime\": 1659362602.969769, \"Dimensions\": {\"Algorithm\": \"Linear Learner\", \"Host\": \"algo-1\", \"Operation\": \"training\", \"epoch\": 5, \"model\": 7}, \"Metrics\": {\"train_multiclass_cross_entropy_objective\": {\"sum\": 1.035796875, \"count\": 1, \"min\": 1.035796875, \"max\": 1.035796875}}}\u001b[0m\n",
      "\u001b[34m#metrics {\"StartTime\": 1659362602.9698162, \"EndTime\": 1659362602.969826, \"Dimensions\": {\"Algorithm\": \"Linear Learner\", \"Host\": \"algo-1\", \"Operation\": \"training\", \"epoch\": 5, \"model\": 8}, \"Metrics\": {\"train_multiclass_cross_entropy_objective\": {\"sum\": 0.816642578125, \"count\": 1, \"min\": 0.816642578125, \"max\": 0.816642578125}}}\u001b[0m\n",
      "\u001b[34m#metrics {\"StartTime\": 1659362602.9698682, \"EndTime\": 1659362602.9698827, \"Dimensions\": {\"Algorithm\": \"Linear Learner\", \"Host\": \"algo-1\", \"Operation\": \"training\", \"epoch\": 5, \"model\": 9}, \"Metrics\": {\"train_multiclass_cross_entropy_objective\": {\"sum\": 0.8850859985351562, \"count\": 1, \"min\": 0.8850859985351562, \"max\": 0.8850859985351562}}}\u001b[0m\n",
      "\u001b[34m#metrics {\"StartTime\": 1659362602.9699323, \"EndTime\": 1659362602.969946, \"Dimensions\": {\"Algorithm\": \"Linear Learner\", \"Host\": \"algo-1\", \"Operation\": \"training\", \"epoch\": 5, \"model\": 10}, \"Metrics\": {\"train_multiclass_cross_entropy_objective\": {\"sum\": 1.0386148681640626, \"count\": 1, \"min\": 1.0386148681640626, \"max\": 1.0386148681640626}}}\u001b[0m\n",
      "\u001b[34m#metrics {\"StartTime\": 1659362602.9699926, \"EndTime\": 1659362602.9700089, \"Dimensions\": {\"Algorithm\": \"Linear Learner\", \"Host\": \"algo-1\", \"Operation\": \"training\", \"epoch\": 5, \"model\": 11}, \"Metrics\": {\"train_multiclass_cross_entropy_objective\": {\"sum\": 1.0105449829101563, \"count\": 1, \"min\": 1.0105449829101563, \"max\": 1.0105449829101563}}}\u001b[0m\n",
      "\u001b[34m[08/01/2022 14:03:22 INFO 139801523697472] #quality_metric: host=algo-1, epoch=5, train multiclass_cross_entropy_objective <loss>=1.0152379760742187\u001b[0m\n",
      "\u001b[34m[2022-08-01 14:03:22.991] [tensorio] [info] epoch_stats={\"data_pipeline\": \"/opt/ml/input/data/validation\", \"epoch\": 17, \"duration\": 10, \"num_examples\": 1, \"num_bytes\": 11544}\u001b[0m\n",
      "\u001b[34m#metrics {\"StartTime\": 1659362602.9955122, \"EndTime\": 1659362602.9955666, \"Dimensions\": {\"Algorithm\": \"Linear Learner\", \"Host\": \"algo-1\", \"Operation\": \"training\", \"epoch\": 5, \"model\": 0}, \"Metrics\": {\"validation_multiclass_cross_entropy_objective\": {\"sum\": 0.9939004021721918, \"count\": 1, \"min\": 0.9939004021721918, \"max\": 0.9939004021721918}}}\u001b[0m\n",
      "\u001b[34m#metrics {\"StartTime\": 1659362602.9956558, \"EndTime\": 1659362602.995677, \"Dimensions\": {\"Algorithm\": \"Linear Learner\", \"Host\": \"algo-1\", \"Operation\": \"training\", \"epoch\": 5, \"model\": 1}, \"Metrics\": {\"validation_multiclass_cross_entropy_objective\": {\"sum\": 0.9781173843521256, \"count\": 1, \"min\": 0.9781173843521256, \"max\": 0.9781173843521256}}}\u001b[0m\n",
      "\u001b[34m#metrics {\"StartTime\": 1659362602.9957452, \"EndTime\": 1659362602.9957633, \"Dimensions\": {\"Algorithm\": \"Linear Learner\", \"Host\": \"algo-1\", \"Operation\": \"training\", \"epoch\": 5, \"model\": 2}, \"Metrics\": {\"validation_multiclass_cross_entropy_objective\": {\"sum\": 0.9010299132750915, \"count\": 1, \"min\": 0.9010299132750915, \"max\": 0.9010299132750915}}}\u001b[0m\n",
      "\u001b[34m#metrics {\"StartTime\": 1659362602.9958172, \"EndTime\": 1659362602.9958334, \"Dimensions\": {\"Algorithm\": \"Linear Learner\", \"Host\": \"algo-1\", \"Operation\": \"training\", \"epoch\": 5, \"model\": 3}, \"Metrics\": {\"validation_multiclass_cross_entropy_objective\": {\"sum\": 0.9276772576409418, \"count\": 1, \"min\": 0.9276772576409418, \"max\": 0.9276772576409418}}}\u001b[0m\n",
      "\u001b[34m#metrics {\"StartTime\": 1659362602.9958875, \"EndTime\": 1659362602.9959035, \"Dimensions\": {\"Algorithm\": \"Linear Learner\", \"Host\": \"algo-1\", \"Operation\": \"training\", \"epoch\": 5, \"model\": 4}, \"Metrics\": {\"validation_multiclass_cross_entropy_objective\": {\"sum\": 1.0094401728999507, \"count\": 1, \"min\": 1.0094401728999507, \"max\": 1.0094401728999507}}}\u001b[0m\n",
      "\u001b[34m#metrics {\"StartTime\": 1659362602.9959543, \"EndTime\": 1659362602.99597, \"Dimensions\": {\"Algorithm\": \"Linear Learner\", \"Host\": \"algo-1\", \"Operation\": \"training\", \"epoch\": 5, \"model\": 5}, \"Metrics\": {\"validation_multiclass_cross_entropy_objective\": {\"sum\": 0.9608209283502253, \"count\": 1, \"min\": 0.9608209283502253, \"max\": 0.9608209283502253}}}\u001b[0m\n",
      "\u001b[34m#metrics {\"StartTime\": 1659362602.9960256, \"EndTime\": 1659362602.996042, \"Dimensions\": {\"Algorithm\": \"Linear Learner\", \"Host\": \"algo-1\", \"Operation\": \"training\", \"epoch\": 5, \"model\": 6}, \"Metrics\": {\"validation_multiclass_cross_entropy_objective\": {\"sum\": 0.8611121650214668, \"count\": 1, \"min\": 0.8611121650214668, \"max\": 0.8611121650214668}}}\u001b[0m\n",
      "\u001b[34m#metrics {\"StartTime\": 1659362602.996094, \"EndTime\": 1659362602.9961107, \"Dimensions\": {\"Algorithm\": \"Linear Learner\", \"Host\": \"algo-1\", \"Operation\": \"training\", \"epoch\": 5, \"model\": 7}, \"Metrics\": {\"validation_multiclass_cross_entropy_objective\": {\"sum\": 1.018416877265449, \"count\": 1, \"min\": 1.018416877265449, \"max\": 1.018416877265449}}}\u001b[0m\n",
      "\u001b[34m#metrics {\"StartTime\": 1659362602.9961624, \"EndTime\": 1659362602.9961784, \"Dimensions\": {\"Algorithm\": \"Linear Learner\", \"Host\": \"algo-1\", \"Operation\": \"training\", \"epoch\": 5, \"model\": 8}, \"Metrics\": {\"validation_multiclass_cross_entropy_objective\": {\"sum\": 0.776808111517279, \"count\": 1, \"min\": 0.776808111517279, \"max\": 0.776808111517279}}}\u001b[0m\n",
      "\u001b[34m#metrics {\"StartTime\": 1659362602.996229, \"EndTime\": 1659362602.996243, \"Dimensions\": {\"Algorithm\": \"Linear Learner\", \"Host\": \"algo-1\", \"Operation\": \"training\", \"epoch\": 5, \"model\": 9}, \"Metrics\": {\"validation_multiclass_cross_entropy_objective\": {\"sum\": 1.0299277778144356, \"count\": 1, \"min\": 1.0299277778144356, \"max\": 1.0299277778144356}}}\u001b[0m\n",
      "\u001b[34m#metrics {\"StartTime\": 1659362602.9963298, \"EndTime\": 1659362602.9963472, \"Dimensions\": {\"Algorithm\": \"Linear Learner\", \"Host\": \"algo-1\", \"Operation\": \"training\", \"epoch\": 5, \"model\": 10}, \"Metrics\": {\"validation_multiclass_cross_entropy_objective\": {\"sum\": 1.0237428819811023, \"count\": 1, \"min\": 1.0237428819811023, \"max\": 1.0237428819811023}}}\u001b[0m\n",
      "\u001b[34m#metrics {\"StartTime\": 1659362602.996398, \"EndTime\": 1659362602.996413, \"Dimensions\": {\"Algorithm\": \"Linear Learner\", \"Host\": \"algo-1\", \"Operation\": \"training\", \"epoch\": 5, \"model\": 11}, \"Metrics\": {\"validation_multiclass_cross_entropy_objective\": {\"sum\": 1.0481382490278364, \"count\": 1, \"min\": 1.0481382490278364, \"max\": 1.0481382490278364}}}\u001b[0m\n",
      "\u001b[34m[08/01/2022 14:03:22 INFO 139801523697472] #quality_metric: host=algo-1, epoch=5, validation multiclass_cross_entropy_objective <loss>=0.9939004021721918\u001b[0m\n",
      "\u001b[34m[08/01/2022 14:03:23 INFO 139801523697472] #early_stopping_criteria_metric: host=algo-1, epoch=5, criteria=multiclass_cross_entropy_objective, value=0.776808111517279\u001b[0m\n",
      "\u001b[34m[08/01/2022 14:03:23 INFO 139801523697472] Epoch 5: Loss improved. Updating best model\u001b[0m\n",
      "\u001b[34m[08/01/2022 14:03:23 INFO 139801523697472] Saving model for epoch: 5\u001b[0m\n",
      "\u001b[34m[08/01/2022 14:03:23 INFO 139801523697472] Saved checkpoint to \"/tmp/tmp4rydmnc9/mx-mod-0000.params\"\u001b[0m\n",
      "\u001b[34m[08/01/2022 14:03:23 INFO 139801523697472] #progress_metric: host=algo-1, completed 40.0 % of epochs\u001b[0m\n",
      "\u001b[34m#metrics {\"StartTime\": 1659362602.9360409, \"EndTime\": 1659362603.021588, \"Dimensions\": {\"Algorithm\": \"Linear Learner\", \"Host\": \"algo-1\", \"Operation\": \"training\", \"epoch\": 5, \"Meta\": \"training_data_iter\"}, \"Metrics\": {\"Total Records Seen\": {\"sum\": 13432.0, \"count\": 1, \"min\": 13432, \"max\": 13432}, \"Total Batches Seen\": {\"sum\": 15.0, \"count\": 1, \"min\": 15, \"max\": 15}, \"Max Records Seen Between Resets\": {\"sum\": 1776.0, \"count\": 1, \"min\": 1776, \"max\": 1776}, \"Max Batches Seen Between Resets\": {\"sum\": 2.0, \"count\": 1, \"min\": 2, \"max\": 2}, \"Reset Count\": {\"sum\": 8.0, \"count\": 1, \"min\": 8, \"max\": 8}, \"Number of Records Since Last Reset\": {\"sum\": 1776.0, \"count\": 1, \"min\": 1776, \"max\": 1776}, \"Number of Batches Since Last Reset\": {\"sum\": 2.0, \"count\": 1, \"min\": 2, \"max\": 2}}}\u001b[0m\n",
      "\u001b[34m[08/01/2022 14:03:23 INFO 139801523697472] #throughput_metric: host=algo-1, train throughput=20716.58699950775 records/second\u001b[0m\n",
      "\u001b[34m[2022-08-01 14:03:23.053] [tensorio] [info] epoch_stats={\"data_pipeline\": \"/opt/ml/input/data/train\", \"epoch\": 16, \"duration\": 31, \"num_examples\": 2, \"num_bytes\": 92352}\u001b[0m\n",
      "\u001b[34m#metrics {\"StartTime\": 1659362603.0542552, \"EndTime\": 1659362603.0543277, \"Dimensions\": {\"Algorithm\": \"Linear Learner\", \"Host\": \"algo-1\", \"Operation\": \"training\", \"epoch\": 6, \"model\": 0}, \"Metrics\": {\"train_multiclass_cross_entropy_objective\": {\"sum\": 0.9983641967773438, \"count\": 1, \"min\": 0.9983641967773438, \"max\": 0.9983641967773438}}}\u001b[0m\n",
      "\u001b[34m#metrics {\"StartTime\": 1659362603.054664, \"EndTime\": 1659362603.0546925, \"Dimensions\": {\"Algorithm\": \"Linear Learner\", \"Host\": \"algo-1\", \"Operation\": \"training\", \"epoch\": 6, \"model\": 1}, \"Metrics\": {\"train_multiclass_cross_entropy_objective\": {\"sum\": 0.9830233154296875, \"count\": 1, \"min\": 0.9830233154296875, \"max\": 0.9830233154296875}}}\u001b[0m\n",
      "\u001b[34m#metrics {\"StartTime\": 1659362603.055, \"EndTime\": 1659362603.055028, \"Dimensions\": {\"Algorithm\": \"Linear Learner\", \"Host\": \"algo-1\", \"Operation\": \"training\", \"epoch\": 6, \"model\": 2}, \"Metrics\": {\"train_multiclass_cross_entropy_objective\": {\"sum\": 0.90822900390625, \"count\": 1, \"min\": 0.90822900390625, \"max\": 0.90822900390625}}}\u001b[0m\n",
      "\u001b[34m#metrics {\"StartTime\": 1659362603.05532, \"EndTime\": 1659362603.0553463, \"Dimensions\": {\"Algorithm\": \"Linear Learner\", \"Host\": \"algo-1\", \"Operation\": \"training\", \"epoch\": 6, \"model\": 3}, \"Metrics\": {\"train_multiclass_cross_entropy_objective\": {\"sum\": 0.9347615966796875, \"count\": 1, \"min\": 0.9347615966796875, \"max\": 0.9347615966796875}}}\u001b[0m\n",
      "\u001b[34m#metrics {\"StartTime\": 1659362603.05564, \"EndTime\": 1659362603.0556667, \"Dimensions\": {\"Algorithm\": \"Linear Learner\", \"Host\": \"algo-1\", \"Operation\": \"training\", \"epoch\": 6, \"model\": 4}, \"Metrics\": {\"train_multiclass_cross_entropy_objective\": {\"sum\": 1.01159619140625, \"count\": 1, \"min\": 1.01159619140625, \"max\": 1.01159619140625}}}\u001b[0m\n",
      "\u001b[34m#metrics {\"StartTime\": 1659362603.0559697, \"EndTime\": 1659362603.0559971, \"Dimensions\": {\"Algorithm\": \"Linear Learner\", \"Host\": \"algo-1\", \"Operation\": \"training\", \"epoch\": 6, \"model\": 5}, \"Metrics\": {\"train_multiclass_cross_entropy_objective\": {\"sum\": 0.9659964599609375, \"count\": 1, \"min\": 0.9659964599609375, \"max\": 0.9659964599609375}}}\u001b[0m\n",
      "\u001b[34m#metrics {\"StartTime\": 1659362603.0562882, \"EndTime\": 1659362603.056316, \"Dimensions\": {\"Algorithm\": \"Linear Learner\", \"Host\": \"algo-1\", \"Operation\": \"training\", \"epoch\": 6, \"model\": 6}, \"Metrics\": {\"train_multiclass_cross_entropy_objective\": {\"sum\": 0.8716508178710938, \"count\": 1, \"min\": 0.8716508178710938, \"max\": 0.8716508178710938}}}\u001b[0m\n",
      "\u001b[34m#metrics {\"StartTime\": 1659362603.0566146, \"EndTime\": 1659362603.0566423, \"Dimensions\": {\"Algorithm\": \"Linear Learner\", \"Host\": \"algo-1\", \"Operation\": \"training\", \"epoch\": 6, \"model\": 7}, \"Metrics\": {\"train_multiclass_cross_entropy_objective\": {\"sum\": 1.022560546875, \"count\": 1, \"min\": 1.022560546875, \"max\": 1.022560546875}}}\u001b[0m\n",
      "\u001b[34m#metrics {\"StartTime\": 1659362603.0567775, \"EndTime\": 1659362603.0568483, \"Dimensions\": {\"Algorithm\": \"Linear Learner\", \"Host\": \"algo-1\", \"Operation\": \"training\", \"epoch\": 6, \"model\": 8}, \"Metrics\": {\"train_multiclass_cross_entropy_objective\": {\"sum\": 0.7877861938476562, \"count\": 1, \"min\": 0.7877861938476562, \"max\": 0.7877861938476562}}}\u001b[0m\n",
      "\u001b[34m#metrics {\"StartTime\": 1659362603.0569239, \"EndTime\": 1659362603.0569446, \"Dimensions\": {\"Algorithm\": \"Linear Learner\", \"Host\": \"algo-1\", \"Operation\": \"training\", \"epoch\": 6, \"model\": 9}, \"Metrics\": {\"train_multiclass_cross_entropy_objective\": {\"sum\": 1.042639892578125, \"count\": 1, \"min\": 1.042639892578125, \"max\": 1.042639892578125}}}\u001b[0m\n",
      "\u001b[34m#metrics {\"StartTime\": 1659362603.0570052, \"EndTime\": 1659362603.0570228, \"Dimensions\": {\"Algorithm\": \"Linear Learner\", \"Host\": \"algo-1\", \"Operation\": \"training\", \"epoch\": 6, \"model\": 10}, \"Metrics\": {\"train_multiclass_cross_entropy_objective\": {\"sum\": 1.0279864501953124, \"count\": 1, \"min\": 1.0279864501953124, \"max\": 1.0279864501953124}}}\u001b[0m\n",
      "\u001b[34m#metrics {\"StartTime\": 1659362603.0570772, \"EndTime\": 1659362603.057095, \"Dimensions\": {\"Algorithm\": \"Linear Learner\", \"Host\": \"algo-1\", \"Operation\": \"training\", \"epoch\": 6, \"model\": 11}, \"Metrics\": {\"train_multiclass_cross_entropy_objective\": {\"sum\": 1.056670166015625, \"count\": 1, \"min\": 1.056670166015625, \"max\": 1.056670166015625}}}\u001b[0m\n",
      "\u001b[34m[08/01/2022 14:03:23 INFO 139801523697472] #quality_metric: host=algo-1, epoch=6, train multiclass_cross_entropy_objective <loss>=0.9983641967773438\u001b[0m\n",
      "\u001b[34m[2022-08-01 14:03:23.083] [tensorio] [info] epoch_stats={\"data_pipeline\": \"/opt/ml/input/data/validation\", \"epoch\": 20, \"duration\": 11, \"num_examples\": 1, \"num_bytes\": 11544}\u001b[0m\n",
      "\u001b[34m#metrics {\"StartTime\": 1659362603.0873346, \"EndTime\": 1659362603.0873694, \"Dimensions\": {\"Algorithm\": \"Linear Learner\", \"Host\": \"algo-1\", \"Operation\": \"training\", \"epoch\": 6, \"model\": 0}, \"Metrics\": {\"validation_multiclass_cross_entropy_objective\": {\"sum\": 0.9816924086562148, \"count\": 1, \"min\": 0.9816924086562148, \"max\": 0.9816924086562148}}}\u001b[0m\n",
      "\u001b[34m#metrics {\"StartTime\": 1659362603.0874534, \"EndTime\": 1659362603.0874755, \"Dimensions\": {\"Algorithm\": \"Linear Learner\", \"Host\": \"algo-1\", \"Operation\": \"training\", \"epoch\": 6, \"model\": 1}, \"Metrics\": {\"validation_multiclass_cross_entropy_objective\": {\"sum\": 0.9640626649598818, \"count\": 1, \"min\": 0.9640626649598818, \"max\": 0.9640626649598818}}}\u001b[0m\n",
      "\u001b[34m#metrics {\"StartTime\": 1659362603.0875394, \"EndTime\": 1659362603.0875516, \"Dimensions\": {\"Algorithm\": \"Linear Learner\", \"Host\": \"algo-1\", \"Operation\": \"training\", \"epoch\": 6, \"model\": 2}, \"Metrics\": {\"validation_multiclass_cross_entropy_objective\": {\"sum\": 0.8840011734146256, \"count\": 1, \"min\": 0.8840011734146256, \"max\": 0.8840011734146256}}}\u001b[0m\n",
      "\u001b[34m#metrics {\"StartTime\": 1659362603.0876236, \"EndTime\": 1659362603.0876431, \"Dimensions\": {\"Algorithm\": \"Linear Learner\", \"Host\": \"algo-1\", \"Operation\": \"training\", \"epoch\": 6, \"model\": 3}, \"Metrics\": {\"validation_multiclass_cross_entropy_objective\": {\"sum\": 0.913693058598149, \"count\": 1, \"min\": 0.913693058598149, \"max\": 0.913693058598149}}}\u001b[0m\n",
      "\u001b[34m#metrics {\"StartTime\": 1659362603.0876932, \"EndTime\": 1659362603.0877101, \"Dimensions\": {\"Algorithm\": \"Linear Learner\", \"Host\": \"algo-1\", \"Operation\": \"training\", \"epoch\": 6, \"model\": 4}, \"Metrics\": {\"validation_multiclass_cross_entropy_objective\": {\"sum\": 0.9919377919789907, \"count\": 1, \"min\": 0.9919377919789907, \"max\": 0.9919377919789907}}}\u001b[0m\n",
      "\u001b[34m#metrics {\"StartTime\": 1659362603.0877635, \"EndTime\": 1659362603.08778, \"Dimensions\": {\"Algorithm\": \"Linear Learner\", \"Host\": \"algo-1\", \"Operation\": \"training\", \"epoch\": 6, \"model\": 5}, \"Metrics\": {\"validation_multiclass_cross_entropy_objective\": {\"sum\": 0.9490948238888303, \"count\": 1, \"min\": 0.9490948238888303, \"max\": 0.9490948238888303}}}\u001b[0m\n",
      "\u001b[34m#metrics {\"StartTime\": 1659362603.0878308, \"EndTime\": 1659362603.0878472, \"Dimensions\": {\"Algorithm\": \"Linear Learner\", \"Host\": \"algo-1\", \"Operation\": \"training\", \"epoch\": 6, \"model\": 6}, \"Metrics\": {\"validation_multiclass_cross_entropy_objective\": {\"sum\": 0.8521690024985923, \"count\": 1, \"min\": 0.8521690024985923, \"max\": 0.8521690024985923}}}\u001b[0m\n",
      "\u001b[34m#metrics {\"StartTime\": 1659362603.087902, \"EndTime\": 1659362603.087919, \"Dimensions\": {\"Algorithm\": \"Linear Learner\", \"Host\": \"algo-1\", \"Operation\": \"training\", \"epoch\": 6, \"model\": 7}, \"Metrics\": {\"validation_multiclass_cross_entropy_objective\": {\"sum\": 1.007544096525725, \"count\": 1, \"min\": 1.007544096525725, \"max\": 1.007544096525725}}}\u001b[0m\n",
      "\u001b[34m#metrics {\"StartTime\": 1659362603.0879717, \"EndTime\": 1659362603.0879881, \"Dimensions\": {\"Algorithm\": \"Linear Learner\", \"Host\": \"algo-1\", \"Operation\": \"training\", \"epoch\": 6, \"model\": 8}, \"Metrics\": {\"validation_multiclass_cross_entropy_objective\": {\"sum\": 0.7531444790127041, \"count\": 1, \"min\": 0.7531444790127041, \"max\": 0.7531444790127041}}}\u001b[0m\n",
      "\u001b[34m#metrics {\"StartTime\": 1659362603.0880406, \"EndTime\": 1659362603.0880575, \"Dimensions\": {\"Algorithm\": \"Linear Learner\", \"Host\": \"algo-1\", \"Operation\": \"training\", \"epoch\": 6, \"model\": 9}, \"Metrics\": {\"validation_multiclass_cross_entropy_objective\": {\"sum\": 0.9661099545590512, \"count\": 1, \"min\": 0.9661099545590512, \"max\": 0.9661099545590512}}}\u001b[0m\n",
      "\u001b[34m#metrics {\"StartTime\": 1659362603.0881143, \"EndTime\": 1659362603.0881295, \"Dimensions\": {\"Algorithm\": \"Linear Learner\", \"Host\": \"algo-1\", \"Operation\": \"training\", \"epoch\": 6, \"model\": 10}, \"Metrics\": {\"validation_multiclass_cross_entropy_objective\": {\"sum\": 1.0140147166209177, \"count\": 1, \"min\": 1.0140147166209177, \"max\": 1.0140147166209177}}}\u001b[0m\n",
      "\u001b[34m#metrics {\"StartTime\": 1659362603.088183, \"EndTime\": 1659362603.0881994, \"Dimensions\": {\"Algorithm\": \"Linear Learner\", \"Host\": \"algo-1\", \"Operation\": \"training\", \"epoch\": 6, \"model\": 11}, \"Metrics\": {\"validation_multiclass_cross_entropy_objective\": {\"sum\": 0.7726690618841497, \"count\": 1, \"min\": 0.7726690618841497, \"max\": 0.7726690618841497}}}\u001b[0m\n",
      "\u001b[34m[08/01/2022 14:03:23 INFO 139801523697472] #quality_metric: host=algo-1, epoch=6, validation multiclass_cross_entropy_objective <loss>=0.9816924086562148\u001b[0m\n",
      "\u001b[34m[08/01/2022 14:03:23 INFO 139801523697472] #early_stopping_criteria_metric: host=algo-1, epoch=6, criteria=multiclass_cross_entropy_objective, value=0.7531444790127041\u001b[0m\n",
      "\u001b[34m[08/01/2022 14:03:23 INFO 139801523697472] Epoch 6: Loss improved. Updating best model\u001b[0m\n",
      "\u001b[34m[08/01/2022 14:03:23 INFO 139801523697472] Saving model for epoch: 6\u001b[0m\n",
      "\u001b[34m[08/01/2022 14:03:23 INFO 139801523697472] Saved checkpoint to \"/tmp/tmp26wza65a/mx-mod-0000.params\"\u001b[0m\n",
      "\u001b[34m[08/01/2022 14:03:23 INFO 139801523697472] #progress_metric: host=algo-1, completed 46.666666666666664 % of epochs\u001b[0m\n",
      "\u001b[34m#metrics {\"StartTime\": 1659362603.0219324, \"EndTime\": 1659362603.0989752, \"Dimensions\": {\"Algorithm\": \"Linear Learner\", \"Host\": \"algo-1\", \"Operation\": \"training\", \"epoch\": 6, \"Meta\": \"training_data_iter\"}, \"Metrics\": {\"Total Records Seen\": {\"sum\": 15208.0, \"count\": 1, \"min\": 15208, \"max\": 15208}, \"Total Batches Seen\": {\"sum\": 17.0, \"count\": 1, \"min\": 17, \"max\": 17}, \"Max Records Seen Between Resets\": {\"sum\": 1776.0, \"count\": 1, \"min\": 1776, \"max\": 1776}, \"Max Batches Seen Between Resets\": {\"sum\": 2.0, \"count\": 1, \"min\": 2, \"max\": 2}, \"Reset Count\": {\"sum\": 9.0, \"count\": 1, \"min\": 9, \"max\": 9}, \"Number of Records Since Last Reset\": {\"sum\": 1776.0, \"count\": 1, \"min\": 1776, \"max\": 1776}, \"Number of Batches Since Last Reset\": {\"sum\": 2.0, \"count\": 1, \"min\": 2, \"max\": 2}}}\u001b[0m\n",
      "\u001b[34m[08/01/2022 14:03:23 INFO 139801523697472] #throughput_metric: host=algo-1, train throughput=23017.711615949374 records/second\u001b[0m\n",
      "\u001b[34m[2022-08-01 14:03:23.136] [tensorio] [info] epoch_stats={\"data_pipeline\": \"/opt/ml/input/data/train\", \"epoch\": 18, \"duration\": 35, \"num_examples\": 2, \"num_bytes\": 92352}\u001b[0m\n",
      "\u001b[34m#metrics {\"StartTime\": 1659362603.136975, \"EndTime\": 1659362603.1370459, \"Dimensions\": {\"Algorithm\": \"Linear Learner\", \"Host\": \"algo-1\", \"Operation\": \"training\", \"epoch\": 7, \"model\": 0}, \"Metrics\": {\"train_multiclass_cross_entropy_objective\": {\"sum\": 0.9853231811523437, \"count\": 1, \"min\": 0.9853231811523437, \"max\": 0.9853231811523437}}}\u001b[0m\n",
      "\u001b[34m#metrics {\"StartTime\": 1659362603.1374772, \"EndTime\": 1659362603.1375046, \"Dimensions\": {\"Algorithm\": \"Linear Learner\", \"Host\": \"algo-1\", \"Operation\": \"training\", \"epoch\": 7, \"model\": 1}, \"Metrics\": {\"train_multiclass_cross_entropy_objective\": {\"sum\": 0.9681892700195313, \"count\": 1, \"min\": 0.9681892700195313, \"max\": 0.9681892700195313}}}\u001b[0m\n",
      "\u001b[34m#metrics {\"StartTime\": 1659362603.1376026, \"EndTime\": 1659362603.1376245, \"Dimensions\": {\"Algorithm\": \"Linear Learner\", \"Host\": \"algo-1\", \"Operation\": \"training\", \"epoch\": 7, \"model\": 2}, \"Metrics\": {\"train_multiclass_cross_entropy_objective\": {\"sum\": 0.890293212890625, \"count\": 1, \"min\": 0.890293212890625, \"max\": 0.890293212890625}}}\u001b[0m\n",
      "\u001b[34m#metrics {\"StartTime\": 1659362603.1377213, \"EndTime\": 1659362603.1377404, \"Dimensions\": {\"Algorithm\": \"Linear Learner\", \"Host\": \"algo-1\", \"Operation\": \"training\", \"epoch\": 7, \"model\": 3}, \"Metrics\": {\"train_multiclass_cross_entropy_objective\": {\"sum\": 0.9197091064453125, \"count\": 1, \"min\": 0.9197091064453125, \"max\": 0.9197091064453125}}}\u001b[0m\n",
      "\u001b[34m#metrics {\"StartTime\": 1659362603.1377985, \"EndTime\": 1659362603.1378167, \"Dimensions\": {\"Algorithm\": \"Linear Learner\", \"Host\": \"algo-1\", \"Operation\": \"training\", \"epoch\": 7, \"model\": 4}, \"Metrics\": {\"train_multiclass_cross_entropy_objective\": {\"sum\": 0.9950196533203125, \"count\": 1, \"min\": 0.9950196533203125, \"max\": 0.9950196533203125}}}\u001b[0m\n",
      "\u001b[34m#metrics {\"StartTime\": 1659362603.1378736, \"EndTime\": 1659362603.1378913, \"Dimensions\": {\"Algorithm\": \"Linear Learner\", \"Host\": \"algo-1\", \"Operation\": \"training\", \"epoch\": 7, \"model\": 5}, \"Metrics\": {\"train_multiclass_cross_entropy_objective\": {\"sum\": 0.9546382446289062, \"count\": 1, \"min\": 0.9546382446289062, \"max\": 0.9546382446289062}}}\u001b[0m\n",
      "\u001b[34m#metrics {\"StartTime\": 1659362603.1379466, \"EndTime\": 1659362603.1379633, \"Dimensions\": {\"Algorithm\": \"Linear Learner\", \"Host\": \"algo-1\", \"Operation\": \"training\", \"epoch\": 7, \"model\": 6}, \"Metrics\": {\"train_multiclass_cross_entropy_objective\": {\"sum\": 0.8637085571289063, \"count\": 1, \"min\": 0.8637085571289063, \"max\": 0.8637085571289063}}}\u001b[0m\n",
      "\u001b[34m#metrics {\"StartTime\": 1659362603.1380177, \"EndTime\": 1659362603.1380346, \"Dimensions\": {\"Algorithm\": \"Linear Learner\", \"Host\": \"algo-1\", \"Operation\": \"training\", \"epoch\": 7, \"model\": 7}, \"Metrics\": {\"train_multiclass_cross_entropy_objective\": {\"sum\": 1.0112341918945313, \"count\": 1, \"min\": 1.0112341918945313, \"max\": 1.0112341918945313}}}\u001b[0m\n",
      "\u001b[34m#metrics {\"StartTime\": 1659362603.1380882, \"EndTime\": 1659362603.1381037, \"Dimensions\": {\"Algorithm\": \"Linear Learner\", \"Host\": \"algo-1\", \"Operation\": \"training\", \"epoch\": 7, \"model\": 8}, \"Metrics\": {\"train_multiclass_cross_entropy_objective\": {\"sum\": 0.764803955078125, \"count\": 1, \"min\": 0.764803955078125, \"max\": 0.764803955078125}}}\u001b[0m\n",
      "\u001b[34m#metrics {\"StartTime\": 1659362603.1381555, \"EndTime\": 1659362603.1381724, \"Dimensions\": {\"Algorithm\": \"Linear Learner\", \"Host\": \"algo-1\", \"Operation\": \"training\", \"epoch\": 7, \"model\": 9}, \"Metrics\": {\"train_multiclass_cross_entropy_objective\": {\"sum\": 1.0003087158203126, \"count\": 1, \"min\": 1.0003087158203126, \"max\": 1.0003087158203126}}}\u001b[0m\n",
      "\u001b[34m#metrics {\"StartTime\": 1659362603.1382356, \"EndTime\": 1659362603.1382542, \"Dimensions\": {\"Algorithm\": \"Linear Learner\", \"Host\": \"algo-1\", \"Operation\": \"training\", \"epoch\": 7, \"model\": 10}, \"Metrics\": {\"train_multiclass_cross_entropy_objective\": {\"sum\": 1.0180759887695312, \"count\": 1, \"min\": 1.0180759887695312, \"max\": 1.0180759887695312}}}\u001b[0m\n",
      "\u001b[34m#metrics {\"StartTime\": 1659362603.138312, \"EndTime\": 1659362603.1383288, \"Dimensions\": {\"Algorithm\": \"Linear Learner\", \"Host\": \"algo-1\", \"Operation\": \"training\", \"epoch\": 7, \"model\": 11}, \"Metrics\": {\"train_multiclass_cross_entropy_objective\": {\"sum\": 0.7881486206054688, \"count\": 1, \"min\": 0.7881486206054688, \"max\": 0.7881486206054688}}}\u001b[0m\n",
      "\u001b[34m[08/01/2022 14:03:23 INFO 139801523697472] #quality_metric: host=algo-1, epoch=7, train multiclass_cross_entropy_objective <loss>=0.9853231811523437\u001b[0m\n",
      "\u001b[34m[2022-08-01 14:03:23.168] [tensorio] [info] epoch_stats={\"data_pipeline\": \"/opt/ml/input/data/validation\", \"epoch\": 23, \"duration\": 13, \"num_examples\": 1, \"num_bytes\": 11544}\u001b[0m\n",
      "\u001b[34m#metrics {\"StartTime\": 1659362603.1719236, \"EndTime\": 1659362603.1719577, \"Dimensions\": {\"Algorithm\": \"Linear Learner\", \"Host\": \"algo-1\", \"Operation\": \"training\", \"epoch\": 7, \"model\": 0}, \"Metrics\": {\"validation_multiclass_cross_entropy_objective\": {\"sum\": 0.9710025959186726, \"count\": 1, \"min\": 0.9710025959186726, \"max\": 0.9710025959186726}}}\u001b[0m\n",
      "\u001b[34m#metrics {\"StartTime\": 1659362603.172023, \"EndTime\": 1659362603.1720436, \"Dimensions\": {\"Algorithm\": \"Linear Learner\", \"Host\": \"algo-1\", \"Operation\": \"training\", \"epoch\": 7, \"model\": 1}, \"Metrics\": {\"validation_multiclass_cross_entropy_objective\": {\"sum\": 0.9522011559288781, \"count\": 1, \"min\": 0.9522011559288781, \"max\": 0.9522011559288781}}}\u001b[0m\n",
      "\u001b[34m#metrics {\"StartTime\": 1659362603.1721044, \"EndTime\": 1659362603.1721232, \"Dimensions\": {\"Algorithm\": \"Linear Learner\", \"Host\": \"algo-1\", \"Operation\": \"training\", \"epoch\": 7, \"model\": 2}, \"Metrics\": {\"validation_multiclass_cross_entropy_objective\": {\"sum\": 0.8751449584960938, \"count\": 1, \"min\": 0.8751449584960938, \"max\": 0.8751449584960938}}}\u001b[0m\n",
      "\u001b[34m#metrics {\"StartTime\": 1659362603.1721804, \"EndTime\": 1659362603.1721988, \"Dimensions\": {\"Algorithm\": \"Linear Learner\", \"Host\": \"algo-1\", \"Operation\": \"training\", \"epoch\": 7, \"model\": 3}, \"Metrics\": {\"validation_multiclass_cross_entropy_objective\": {\"sum\": 0.9035690582550324, \"count\": 1, \"min\": 0.9035690582550324, \"max\": 0.9035690582550324}}}\u001b[0m\n",
      "\u001b[34m#metrics {\"StartTime\": 1659362603.1722555, \"EndTime\": 1659362603.1722736, \"Dimensions\": {\"Algorithm\": \"Linear Learner\", \"Host\": \"algo-1\", \"Operation\": \"training\", \"epoch\": 7, \"model\": 4}, \"Metrics\": {\"validation_multiclass_cross_entropy_objective\": {\"sum\": 0.9752499692074887, \"count\": 1, \"min\": 0.9752499692074887, \"max\": 0.9752499692074887}}}\u001b[0m\n",
      "\u001b[34m#metrics {\"StartTime\": 1659362603.1723292, \"EndTime\": 1659362603.172347, \"Dimensions\": {\"Algorithm\": \"Linear Learner\", \"Host\": \"algo-1\", \"Operation\": \"training\", \"epoch\": 7, \"model\": 5}, \"Metrics\": {\"validation_multiclass_cross_entropy_objective\": {\"sum\": 0.9385290747290259, \"count\": 1, \"min\": 0.9385290747290259, \"max\": 0.9385290747290259}}}\u001b[0m\n",
      "\u001b[34m#metrics {\"StartTime\": 1659362603.1724024, \"EndTime\": 1659362603.1724186, \"Dimensions\": {\"Algorithm\": \"Linear Learner\", \"Host\": \"algo-1\", \"Operation\": \"training\", \"epoch\": 7, \"model\": 6}, \"Metrics\": {\"validation_multiclass_cross_entropy_objective\": {\"sum\": 0.8457017503343187, \"count\": 1, \"min\": 0.8457017503343187, \"max\": 0.8457017503343187}}}\u001b[0m\n",
      "\u001b[34m#metrics {\"StartTime\": 1659362603.1724737, \"EndTime\": 1659362603.172491, \"Dimensions\": {\"Algorithm\": \"Linear Learner\", \"Host\": \"algo-1\", \"Operation\": \"training\", \"epoch\": 7, \"model\": 7}, \"Metrics\": {\"validation_multiclass_cross_entropy_objective\": {\"sum\": 0.9978819151182432, \"count\": 1, \"min\": 0.9978819151182432, \"max\": 0.9978819151182432}}}\u001b[0m\n",
      "\u001b[34m#metrics {\"StartTime\": 1659362603.1725438, \"EndTime\": 1659362603.172561, \"Dimensions\": {\"Algorithm\": \"Linear Learner\", \"Host\": \"algo-1\", \"Operation\": \"training\", \"epoch\": 7, \"model\": 8}, \"Metrics\": {\"validation_multiclass_cross_entropy_objective\": {\"sum\": 0.7345062805725647, \"count\": 1, \"min\": 0.7345062805725647, \"max\": 0.7345062805725647}}}\u001b[0m\n",
      "\u001b[34m#metrics {\"StartTime\": 1659362603.172614, \"EndTime\": 1659362603.1726303, \"Dimensions\": {\"Algorithm\": \"Linear Learner\", \"Host\": \"algo-1\", \"Operation\": \"training\", \"epoch\": 7, \"model\": 9}, \"Metrics\": {\"validation_multiclass_cross_entropy_objective\": {\"sum\": 0.8614959029464034, \"count\": 1, \"min\": 0.8614959029464034, \"max\": 0.8614959029464034}}}\u001b[0m\n",
      "\u001b[34m#metrics {\"StartTime\": 1659362603.1726828, \"EndTime\": 1659362603.1726992, \"Dimensions\": {\"Algorithm\": \"Linear Learner\", \"Host\": \"algo-1\", \"Operation\": \"training\", \"epoch\": 7, \"model\": 10}, \"Metrics\": {\"validation_multiclass_cross_entropy_objective\": {\"sum\": 1.0053842905405406, \"count\": 1, \"min\": 1.0053842905405406, \"max\": 1.0053842905405406}}}\u001b[0m\n",
      "\u001b[34m#metrics {\"StartTime\": 1659362603.1727643, \"EndTime\": 1659362603.1727827, \"Dimensions\": {\"Algorithm\": \"Linear Learner\", \"Host\": \"algo-1\", \"Operation\": \"training\", \"epoch\": 7, \"model\": 11}, \"Metrics\": {\"validation_multiclass_cross_entropy_objective\": {\"sum\": 0.7539334683804899, \"count\": 1, \"min\": 0.7539334683804899, \"max\": 0.7539334683804899}}}\u001b[0m\n",
      "\u001b[34m[08/01/2022 14:03:23 INFO 139801523697472] #quality_metric: host=algo-1, epoch=7, validation multiclass_cross_entropy_objective <loss>=0.9710025959186726\u001b[0m\n",
      "\u001b[34m[08/01/2022 14:03:23 INFO 139801523697472] #early_stopping_criteria_metric: host=algo-1, epoch=7, criteria=multiclass_cross_entropy_objective, value=0.7345062805725647\u001b[0m\n",
      "\u001b[34m[08/01/2022 14:03:23 INFO 139801523697472] Epoch 7: Loss improved. Updating best model\u001b[0m\n",
      "\u001b[34m[08/01/2022 14:03:23 INFO 139801523697472] Saving model for epoch: 7\u001b[0m\n",
      "\u001b[34m[08/01/2022 14:03:23 INFO 139801523697472] Saved checkpoint to \"/tmp/tmpsb1fqmz8/mx-mod-0000.params\"\u001b[0m\n",
      "\u001b[34m[08/01/2022 14:03:23 INFO 139801523697472] #progress_metric: host=algo-1, completed 53.333333333333336 % of epochs\u001b[0m\n",
      "\u001b[34m#metrics {\"StartTime\": 1659362603.099233, \"EndTime\": 1659362603.181084, \"Dimensions\": {\"Algorithm\": \"Linear Learner\", \"Host\": \"algo-1\", \"Operation\": \"training\", \"epoch\": 7, \"Meta\": \"training_data_iter\"}, \"Metrics\": {\"Total Records Seen\": {\"sum\": 16984.0, \"count\": 1, \"min\": 16984, \"max\": 16984}, \"Total Batches Seen\": {\"sum\": 19.0, \"count\": 1, \"min\": 19, \"max\": 19}, \"Max Records Seen Between Resets\": {\"sum\": 1776.0, \"count\": 1, \"min\": 1776, \"max\": 1776}, \"Max Batches Seen Between Resets\": {\"sum\": 2.0, \"count\": 1, \"min\": 2, \"max\": 2}, \"Reset Count\": {\"sum\": 10.0, \"count\": 1, \"min\": 10, \"max\": 10}, \"Number of Records Since Last Reset\": {\"sum\": 1776.0, \"count\": 1, \"min\": 1776, \"max\": 1776}, \"Number of Batches Since Last Reset\": {\"sum\": 2.0, \"count\": 1, \"min\": 2, \"max\": 2}}}\u001b[0m\n",
      "\u001b[34m[08/01/2022 14:03:23 INFO 139801523697472] #throughput_metric: host=algo-1, train throughput=21665.713366626045 records/second\u001b[0m\n",
      "\u001b[34m[2022-08-01 14:03:23.207] [tensorio] [info] epoch_stats={\"data_pipeline\": \"/opt/ml/input/data/train\", \"epoch\": 20, \"duration\": 25, \"num_examples\": 2, \"num_bytes\": 92352}\u001b[0m\n",
      "\u001b[34m#metrics {\"StartTime\": 1659362603.207325, \"EndTime\": 1659362603.2073922, \"Dimensions\": {\"Algorithm\": \"Linear Learner\", \"Host\": \"algo-1\", \"Operation\": \"training\", \"epoch\": 8, \"model\": 0}, \"Metrics\": {\"train_multiclass_cross_entropy_objective\": {\"sum\": 0.9742128295898438, \"count\": 1, \"min\": 0.9742128295898438, \"max\": 0.9742128295898438}}}\u001b[0m\n",
      "\u001b[34m#metrics {\"StartTime\": 1659362603.2075524, \"EndTime\": 1659362603.20758, \"Dimensions\": {\"Algorithm\": \"Linear Learner\", \"Host\": \"algo-1\", \"Operation\": \"training\", \"epoch\": 8, \"model\": 1}, \"Metrics\": {\"train_multiclass_cross_entropy_objective\": {\"sum\": 0.9560975952148437, \"count\": 1, \"min\": 0.9560975952148437, \"max\": 0.9560975952148437}}}\u001b[0m\n",
      "\u001b[34m#metrics {\"StartTime\": 1659362603.2076972, \"EndTime\": 1659362603.2077205, \"Dimensions\": {\"Algorithm\": \"Linear Learner\", \"Host\": \"algo-1\", \"Operation\": \"training\", \"epoch\": 8, \"model\": 2}, \"Metrics\": {\"train_multiclass_cross_entropy_objective\": {\"sum\": 0.88151708984375, \"count\": 1, \"min\": 0.88151708984375, \"max\": 0.88151708984375}}}\u001b[0m\n",
      "\u001b[34m#metrics {\"StartTime\": 1659362603.2077951, \"EndTime\": 1659362603.2078145, \"Dimensions\": {\"Algorithm\": \"Linear Learner\", \"Host\": \"algo-1\", \"Operation\": \"training\", \"epoch\": 8, \"model\": 3}, \"Metrics\": {\"train_multiclass_cross_entropy_objective\": {\"sum\": 0.9090670166015625, \"count\": 1, \"min\": 0.9090670166015625, \"max\": 0.9090670166015625}}}\u001b[0m\n",
      "\u001b[34m#metrics {\"StartTime\": 1659362603.2079222, \"EndTime\": 1659362603.2079432, \"Dimensions\": {\"Algorithm\": \"Linear Learner\", \"Host\": \"algo-1\", \"Operation\": \"training\", \"epoch\": 8, \"model\": 4}, \"Metrics\": {\"train_multiclass_cross_entropy_objective\": {\"sum\": 0.979219482421875, \"count\": 1, \"min\": 0.979219482421875, \"max\": 0.979219482421875}}}\u001b[0m\n",
      "\u001b[34m#metrics {\"StartTime\": 1659362603.2080379, \"EndTime\": 1659362603.208058, \"Dimensions\": {\"Algorithm\": \"Linear Learner\", \"Host\": \"algo-1\", \"Operation\": \"training\", \"epoch\": 8, \"model\": 5}, \"Metrics\": {\"train_multiclass_cross_entropy_objective\": {\"sum\": 0.9442431030273437, \"count\": 1, \"min\": 0.9442431030273437, \"max\": 0.9442431030273437}}}\u001b[0m\n",
      "\u001b[34m#metrics {\"StartTime\": 1659362603.2081661, \"EndTime\": 1659362603.2081947, \"Dimensions\": {\"Algorithm\": \"Linear Learner\", \"Host\": \"algo-1\", \"Operation\": \"training\", \"epoch\": 8, \"model\": 6}, \"Metrics\": {\"train_multiclass_cross_entropy_objective\": {\"sum\": 0.857370361328125, \"count\": 1, \"min\": 0.857370361328125, \"max\": 0.857370361328125}}}\u001b[0m\n",
      "\u001b[34m#metrics {\"StartTime\": 1659362603.2082756, \"EndTime\": 1659362603.208328, \"Dimensions\": {\"Algorithm\": \"Linear Learner\", \"Host\": \"algo-1\", \"Operation\": \"training\", \"epoch\": 8, \"model\": 7}, \"Metrics\": {\"train_multiclass_cross_entropy_objective\": {\"sum\": 1.0012473754882814, \"count\": 1, \"min\": 1.0012473754882814, \"max\": 1.0012473754882814}}}\u001b[0m\n",
      "\u001b[34m#metrics {\"StartTime\": 1659362603.2084086, \"EndTime\": 1659362603.2084272, \"Dimensions\": {\"Algorithm\": \"Linear Learner\", \"Host\": \"algo-1\", \"Operation\": \"training\", \"epoch\": 8, \"model\": 8}, \"Metrics\": {\"train_multiclass_cross_entropy_objective\": {\"sum\": 0.7468468017578125, \"count\": 1, \"min\": 0.7468468017578125, \"max\": 0.7468468017578125}}}\u001b[0m\n",
      "\u001b[34m#metrics {\"StartTime\": 1659362603.20853, \"EndTime\": 1659362603.2085497, \"Dimensions\": {\"Algorithm\": \"Linear Learner\", \"Host\": \"algo-1\", \"Operation\": \"training\", \"epoch\": 8, \"model\": 9}, \"Metrics\": {\"train_multiclass_cross_entropy_objective\": {\"sum\": 0.8839507446289062, \"count\": 1, \"min\": 0.8839507446289062, \"max\": 0.8839507446289062}}}\u001b[0m\n",
      "\u001b[34m#metrics {\"StartTime\": 1659362603.208641, \"EndTime\": 1659362603.208686, \"Dimensions\": {\"Algorithm\": \"Linear Learner\", \"Host\": \"algo-1\", \"Operation\": \"training\", \"epoch\": 8, \"model\": 10}, \"Metrics\": {\"train_multiclass_cross_entropy_objective\": {\"sum\": 1.009175048828125, \"count\": 1, \"min\": 1.009175048828125, \"max\": 1.009175048828125}}}\u001b[0m\n",
      "\u001b[34m#metrics {\"StartTime\": 1659362603.2087567, \"EndTime\": 1659362603.208777, \"Dimensions\": {\"Algorithm\": \"Linear Learner\", \"Host\": \"algo-1\", \"Operation\": \"training\", \"epoch\": 8, \"model\": 11}, \"Metrics\": {\"train_multiclass_cross_entropy_objective\": {\"sum\": 0.7669869384765625, \"count\": 1, \"min\": 0.7669869384765625, \"max\": 0.7669869384765625}}}\u001b[0m\n",
      "\u001b[34m[08/01/2022 14:03:23 INFO 139801523697472] #quality_metric: host=algo-1, epoch=8, train multiclass_cross_entropy_objective <loss>=0.9742128295898438\u001b[0m\n",
      "\u001b[34m[2022-08-01 14:03:23.231] [tensorio] [info] epoch_stats={\"data_pipeline\": \"/opt/ml/input/data/validation\", \"epoch\": 26, \"duration\": 11, \"num_examples\": 1, \"num_bytes\": 11544}\u001b[0m\n",
      "\u001b[34m#metrics {\"StartTime\": 1659362603.2359364, \"EndTime\": 1659362603.2360003, \"Dimensions\": {\"Algorithm\": \"Linear Learner\", \"Host\": \"algo-1\", \"Operation\": \"training\", \"epoch\": 8, \"model\": 0}, \"Metrics\": {\"validation_multiclass_cross_entropy_objective\": {\"sum\": 0.9585014549461571, \"count\": 1, \"min\": 0.9585014549461571, \"max\": 0.9585014549461571}}}\u001b[0m\n",
      "\u001b[34m#metrics {\"StartTime\": 1659362603.2360709, \"EndTime\": 1659362603.236085, \"Dimensions\": {\"Algorithm\": \"Linear Learner\", \"Host\": \"algo-1\", \"Operation\": \"training\", \"epoch\": 8, \"model\": 1}, \"Metrics\": {\"validation_multiclass_cross_entropy_objective\": {\"sum\": 0.9375753316793356, \"count\": 1, \"min\": 0.9375753316793356, \"max\": 0.9375753316793356}}}\u001b[0m\n",
      "\u001b[34m#metrics {\"StartTime\": 1659362603.236295, \"EndTime\": 1659362603.2363183, \"Dimensions\": {\"Algorithm\": \"Linear Learner\", \"Host\": \"algo-1\", \"Operation\": \"training\", \"epoch\": 8, \"model\": 2}, \"Metrics\": {\"validation_multiclass_cross_entropy_objective\": {\"sum\": 0.8565547358882319, \"count\": 1, \"min\": 0.8565547358882319, \"max\": 0.8565547358882319}}}\u001b[0m\n",
      "\u001b[34m#metrics {\"StartTime\": 1659362603.2364395, \"EndTime\": 1659362603.2364614, \"Dimensions\": {\"Algorithm\": \"Linear Learner\", \"Host\": \"algo-1\", \"Operation\": \"training\", \"epoch\": 8, \"model\": 3}, \"Metrics\": {\"validation_multiclass_cross_entropy_objective\": {\"sum\": 0.8892968667520059, \"count\": 1, \"min\": 0.8892968667520059, \"max\": 0.8892968667520059}}}\u001b[0m\n",
      "\u001b[34m#metrics {\"StartTime\": 1659362603.2365243, \"EndTime\": 1659362603.2365425, \"Dimensions\": {\"Algorithm\": \"Linear Learner\", \"Host\": \"algo-1\", \"Operation\": \"training\", \"epoch\": 8, \"model\": 4}, \"Metrics\": {\"validation_multiclass_cross_entropy_objective\": {\"sum\": 0.9593923757742117, \"count\": 1, \"min\": 0.9593923757742117, \"max\": 0.9593923757742117}}}\u001b[0m\n",
      "\u001b[34m#metrics {\"StartTime\": 1659362603.236597, \"EndTime\": 1659362603.2366152, \"Dimensions\": {\"Algorithm\": \"Linear Learner\", \"Host\": \"algo-1\", \"Operation\": \"training\", \"epoch\": 8, \"model\": 5}, \"Metrics\": {\"validation_multiclass_cross_entropy_objective\": {\"sum\": 0.9286073564409135, \"count\": 1, \"min\": 0.9286073564409135, \"max\": 0.9286073564409135}}}\u001b[0m\n",
      "\u001b[34m#metrics {\"StartTime\": 1659362603.2366793, \"EndTime\": 1659362603.2366982, \"Dimensions\": {\"Algorithm\": \"Linear Learner\", \"Host\": \"algo-1\", \"Operation\": \"training\", \"epoch\": 8, \"model\": 6}, \"Metrics\": {\"validation_multiclass_cross_entropy_objective\": {\"sum\": 0.839864782384924, \"count\": 1, \"min\": 0.839864782384924, \"max\": 0.839864782384924}}}\u001b[0m\n",
      "\u001b[34m#metrics {\"StartTime\": 1659362603.236754, \"EndTime\": 1659362603.2367718, \"Dimensions\": {\"Algorithm\": \"Linear Learner\", \"Host\": \"algo-1\", \"Operation\": \"training\", \"epoch\": 8, \"model\": 7}, \"Metrics\": {\"validation_multiclass_cross_entropy_objective\": {\"sum\": 0.9874037321623381, \"count\": 1, \"min\": 0.9874037321623381, \"max\": 0.9874037321623381}}}\u001b[0m\n",
      "\u001b[34m#metrics {\"StartTime\": 1659362603.236826, \"EndTime\": 1659362603.2368429, \"Dimensions\": {\"Algorithm\": \"Linear Learner\", \"Host\": \"algo-1\", \"Operation\": \"training\", \"epoch\": 8, \"model\": 8}, \"Metrics\": {\"validation_multiclass_cross_entropy_objective\": {\"sum\": 0.7201382748715512, \"count\": 1, \"min\": 0.7201382748715512, \"max\": 0.7201382748715512}}}\u001b[0m\n",
      "\u001b[34m#metrics {\"StartTime\": 1659362603.2368965, \"EndTime\": 1659362603.236913, \"Dimensions\": {\"Algorithm\": \"Linear Learner\", \"Host\": \"algo-1\", \"Operation\": \"training\", \"epoch\": 8, \"model\": 9}, \"Metrics\": {\"validation_multiclass_cross_entropy_objective\": {\"sum\": 0.7733155671540681, \"count\": 1, \"min\": 0.7733155671540681, \"max\": 0.7733155671540681}}}\u001b[0m\n",
      "\u001b[34m#metrics {\"StartTime\": 1659362603.236964, \"EndTime\": 1659362603.2369807, \"Dimensions\": {\"Algorithm\": \"Linear Learner\", \"Host\": \"algo-1\", \"Operation\": \"training\", \"epoch\": 8, \"model\": 10}, \"Metrics\": {\"validation_multiclass_cross_entropy_objective\": {\"sum\": 0.9966917295713682, \"count\": 1, \"min\": 0.9966917295713682, \"max\": 0.9966917295713682}}}\u001b[0m\n",
      "\u001b[34m#metrics {\"StartTime\": 1659362603.2370455, \"EndTime\": 1659362603.2370641, \"Dimensions\": {\"Algorithm\": \"Linear Learner\", \"Host\": \"algo-1\", \"Operation\": \"training\", \"epoch\": 8, \"model\": 11}, \"Metrics\": {\"validation_multiclass_cross_entropy_objective\": {\"sum\": 0.7390858418232685, \"count\": 1, \"min\": 0.7390858418232685, \"max\": 0.7390858418232685}}}\u001b[0m\n",
      "\u001b[34m[08/01/2022 14:03:23 INFO 139801523697472] #quality_metric: host=algo-1, epoch=8, validation multiclass_cross_entropy_objective <loss>=0.9585014549461571\u001b[0m\n",
      "\u001b[34m[08/01/2022 14:03:23 INFO 139801523697472] #early_stopping_criteria_metric: host=algo-1, epoch=8, criteria=multiclass_cross_entropy_objective, value=0.7201382748715512\u001b[0m\n",
      "\u001b[34m[08/01/2022 14:03:23 INFO 139801523697472] Epoch 8: Loss improved. Updating best model\u001b[0m\n",
      "\u001b[34m[08/01/2022 14:03:23 INFO 139801523697472] Saving model for epoch: 8\u001b[0m\n",
      "\u001b[34m[08/01/2022 14:03:23 INFO 139801523697472] Saved checkpoint to \"/tmp/tmpr0s2gada/mx-mod-0000.params\"\u001b[0m\n",
      "\u001b[34m[08/01/2022 14:03:23 INFO 139801523697472] #progress_metric: host=algo-1, completed 60.0 % of epochs\u001b[0m\n",
      "\u001b[34m#metrics {\"StartTime\": 1659362603.1813407, \"EndTime\": 1659362603.2475774, \"Dimensions\": {\"Algorithm\": \"Linear Learner\", \"Host\": \"algo-1\", \"Operation\": \"training\", \"epoch\": 8, \"Meta\": \"training_data_iter\"}, \"Metrics\": {\"Total Records Seen\": {\"sum\": 18760.0, \"count\": 1, \"min\": 18760, \"max\": 18760}, \"Total Batches Seen\": {\"sum\": 21.0, \"count\": 1, \"min\": 21, \"max\": 21}, \"Max Records Seen Between Resets\": {\"sum\": 1776.0, \"count\": 1, \"min\": 1776, \"max\": 1776}, \"Max Batches Seen Between Resets\": {\"sum\": 2.0, \"count\": 1, \"min\": 2, \"max\": 2}, \"Reset Count\": {\"sum\": 11.0, \"count\": 1, \"min\": 11, \"max\": 11}, \"Number of Records Since Last Reset\": {\"sum\": 1776.0, \"count\": 1, \"min\": 1776, \"max\": 1776}, \"Number of Batches Since Last Reset\": {\"sum\": 2.0, \"count\": 1, \"min\": 2, \"max\": 2}}}\u001b[0m\n",
      "\u001b[34m[08/01/2022 14:03:23 INFO 139801523697472] #throughput_metric: host=algo-1, train throughput=26752.92308576354 records/second\u001b[0m\n",
      "\u001b[34m[2022-08-01 14:03:23.271] [tensorio] [info] epoch_stats={\"data_pipeline\": \"/opt/ml/input/data/train\", \"epoch\": 22, \"duration\": 22, \"num_examples\": 2, \"num_bytes\": 92352}\u001b[0m\n",
      "\u001b[34m#metrics {\"StartTime\": 1659362603.2711158, \"EndTime\": 1659362603.2712812, \"Dimensions\": {\"Algorithm\": \"Linear Learner\", \"Host\": \"algo-1\", \"Operation\": \"training\", \"epoch\": 9, \"model\": 0}, \"Metrics\": {\"train_multiclass_cross_entropy_objective\": {\"sum\": 0.9618958129882812, \"count\": 1, \"min\": 0.9618958129882812, \"max\": 0.9618958129882812}}}\u001b[0m\n",
      "\u001b[34m#metrics {\"StartTime\": 1659362603.2714489, \"EndTime\": 1659362603.2715855, \"Dimensions\": {\"Algorithm\": \"Linear Learner\", \"Host\": \"algo-1\", \"Operation\": \"training\", \"epoch\": 9, \"model\": 1}, \"Metrics\": {\"train_multiclass_cross_entropy_objective\": {\"sum\": 0.941915771484375, \"count\": 1, \"min\": 0.941915771484375, \"max\": 0.941915771484375}}}\u001b[0m\n",
      "\u001b[34m#metrics {\"StartTime\": 1659362603.2716846, \"EndTime\": 1659362603.2718945, \"Dimensions\": {\"Algorithm\": \"Linear Learner\", \"Host\": \"algo-1\", \"Operation\": \"training\", \"epoch\": 9, \"model\": 2}, \"Metrics\": {\"train_multiclass_cross_entropy_objective\": {\"sum\": 0.8639841918945312, \"count\": 1, \"min\": 0.8639841918945312, \"max\": 0.8639841918945312}}}\u001b[0m\n",
      "\u001b[34m#metrics {\"StartTime\": 1659362603.2720065, \"EndTime\": 1659362603.272129, \"Dimensions\": {\"Algorithm\": \"Linear Learner\", \"Host\": \"algo-1\", \"Operation\": \"training\", \"epoch\": 9, \"model\": 3}, \"Metrics\": {\"train_multiclass_cross_entropy_objective\": {\"sum\": 0.8950126953125, \"count\": 1, \"min\": 0.8950126953125, \"max\": 0.8950126953125}}}\u001b[0m\n",
      "\u001b[34m#metrics {\"StartTime\": 1659362603.2722602, \"EndTime\": 1659362603.27243, \"Dimensions\": {\"Algorithm\": \"Linear Learner\", \"Host\": \"algo-1\", \"Operation\": \"training\", \"epoch\": 9, \"model\": 4}, \"Metrics\": {\"train_multiclass_cross_entropy_objective\": {\"sum\": 0.964184814453125, \"count\": 1, \"min\": 0.964184814453125, \"max\": 0.964184814453125}}}\u001b[0m\n",
      "\u001b[34m#metrics {\"StartTime\": 1659362603.272506, \"EndTime\": 1659362603.2725227, \"Dimensions\": {\"Algorithm\": \"Linear Learner\", \"Host\": \"algo-1\", \"Operation\": \"training\", \"epoch\": 9, \"model\": 5}, \"Metrics\": {\"train_multiclass_cross_entropy_objective\": {\"sum\": 0.9346255493164063, \"count\": 1, \"min\": 0.9346255493164063, \"max\": 0.9346255493164063}}}\u001b[0m\n",
      "\u001b[34m#metrics {\"StartTime\": 1659362603.2725966, \"EndTime\": 1659362603.2726092, \"Dimensions\": {\"Algorithm\": \"Linear Learner\", \"Host\": \"algo-1\", \"Operation\": \"training\", \"epoch\": 9, \"model\": 6}, \"Metrics\": {\"train_multiclass_cross_entropy_objective\": {\"sum\": 0.8526281127929688, \"count\": 1, \"min\": 0.8526281127929688, \"max\": 0.8526281127929688}}}\u001b[0m\n",
      "\u001b[34m#metrics {\"StartTime\": 1659362603.2726576, \"EndTime\": 1659362603.272674, \"Dimensions\": {\"Algorithm\": \"Linear Learner\", \"Host\": \"algo-1\", \"Operation\": \"training\", \"epoch\": 9, \"model\": 7}, \"Metrics\": {\"train_multiclass_cross_entropy_objective\": {\"sum\": 0.990891357421875, \"count\": 1, \"min\": 0.990891357421875, \"max\": 0.990891357421875}}}\u001b[0m\n",
      "\u001b[34m#metrics {\"StartTime\": 1659362603.2728908, \"EndTime\": 1659362603.272913, \"Dimensions\": {\"Algorithm\": \"Linear Learner\", \"Host\": \"algo-1\", \"Operation\": \"training\", \"epoch\": 9, \"model\": 8}, \"Metrics\": {\"train_multiclass_cross_entropy_objective\": {\"sum\": 0.733297607421875, \"count\": 1, \"min\": 0.733297607421875, \"max\": 0.733297607421875}}}\u001b[0m\n",
      "\u001b[34m#metrics {\"StartTime\": 1659362603.2729769, \"EndTime\": 1659362603.2730157, \"Dimensions\": {\"Algorithm\": \"Linear Learner\", \"Host\": \"algo-1\", \"Operation\": \"training\", \"epoch\": 9, \"model\": 9}, \"Metrics\": {\"train_multiclass_cross_entropy_objective\": {\"sum\": 0.8032108764648438, \"count\": 1, \"min\": 0.8032108764648438, \"max\": 0.8032108764648438}}}\u001b[0m\n",
      "\u001b[34m#metrics {\"StartTime\": 1659362603.273076, \"EndTime\": 1659362603.2730932, \"Dimensions\": {\"Algorithm\": \"Linear Learner\", \"Host\": \"algo-1\", \"Operation\": \"training\", \"epoch\": 9, \"model\": 10}, \"Metrics\": {\"train_multiclass_cross_entropy_objective\": {\"sum\": 1.0005331420898438, \"count\": 1, \"min\": 1.0005331420898438, \"max\": 1.0005331420898438}}}\u001b[0m\n",
      "\u001b[34m#metrics {\"StartTime\": 1659362603.2731955, \"EndTime\": 1659362603.2732162, \"Dimensions\": {\"Algorithm\": \"Linear Learner\", \"Host\": \"algo-1\", \"Operation\": \"training\", \"epoch\": 9, \"model\": 11}, \"Metrics\": {\"train_multiclass_cross_entropy_objective\": {\"sum\": 0.755513671875, \"count\": 1, \"min\": 0.755513671875, \"max\": 0.755513671875}}}\u001b[0m\n",
      "\u001b[34m[08/01/2022 14:03:23 INFO 139801523697472] #quality_metric: host=algo-1, epoch=9, train multiclass_cross_entropy_objective <loss>=0.9618958129882812\u001b[0m\n",
      "\u001b[34m[2022-08-01 14:03:23.298] [tensorio] [info] epoch_stats={\"data_pipeline\": \"/opt/ml/input/data/validation\", \"epoch\": 29, \"duration\": 12, \"num_examples\": 1, \"num_bytes\": 11544}\u001b[0m\n",
      "\u001b[34m#metrics {\"StartTime\": 1659362603.3034499, \"EndTime\": 1659362603.3035195, \"Dimensions\": {\"Algorithm\": \"Linear Learner\", \"Host\": \"algo-1\", \"Operation\": \"training\", \"epoch\": 9, \"model\": 0}, \"Metrics\": {\"validation_multiclass_cross_entropy_objective\": {\"sum\": 0.9445367761560388, \"count\": 1, \"min\": 0.9445367761560388, \"max\": 0.9445367761560388}}}\u001b[0m\n",
      "\u001b[34m#metrics {\"StartTime\": 1659362603.3036487, \"EndTime\": 1659362603.30367, \"Dimensions\": {\"Algorithm\": \"Linear Learner\", \"Host\": \"algo-1\", \"Operation\": \"training\", \"epoch\": 9, \"model\": 1}, \"Metrics\": {\"validation_multiclass_cross_entropy_objective\": {\"sum\": 0.9207396636138091, \"count\": 1, \"min\": 0.9207396636138091, \"max\": 0.9207396636138091}}}\u001b[0m\n",
      "\u001b[34m#metrics {\"StartTime\": 1659362603.3037293, \"EndTime\": 1659362603.303746, \"Dimensions\": {\"Algorithm\": \"Linear Learner\", \"Host\": \"algo-1\", \"Operation\": \"training\", \"epoch\": 9, \"model\": 2}, \"Metrics\": {\"validation_multiclass_cross_entropy_objective\": {\"sum\": 0.8297453184385557, \"count\": 1, \"min\": 0.8297453184385557, \"max\": 0.8297453184385557}}}\u001b[0m\n",
      "\u001b[34m#metrics {\"StartTime\": 1659362603.3037965, \"EndTime\": 1659362603.3038118, \"Dimensions\": {\"Algorithm\": \"Linear Learner\", \"Host\": \"algo-1\", \"Operation\": \"training\", \"epoch\": 9, \"model\": 3}, \"Metrics\": {\"validation_multiclass_cross_entropy_objective\": {\"sum\": 0.8711527231577281, \"count\": 1, \"min\": 0.8711527231577281, \"max\": 0.8711527231577281}}}\u001b[0m\n",
      "\u001b[34m#metrics {\"StartTime\": 1659362603.3038654, \"EndTime\": 1659362603.3038821, \"Dimensions\": {\"Algorithm\": \"Linear Learner\", \"Host\": \"algo-1\", \"Operation\": \"training\", \"epoch\": 9, \"model\": 4}, \"Metrics\": {\"validation_multiclass_cross_entropy_objective\": {\"sum\": 0.9443805454013584, \"count\": 1, \"min\": 0.9443805454013584, \"max\": 0.9443805454013584}}}\u001b[0m\n",
      "\u001b[34m#metrics {\"StartTime\": 1659362603.3039331, \"EndTime\": 1659362603.3039496, \"Dimensions\": {\"Algorithm\": \"Linear Learner\", \"Host\": \"algo-1\", \"Operation\": \"training\", \"epoch\": 9, \"model\": 5}, \"Metrics\": {\"validation_multiclass_cross_entropy_objective\": {\"sum\": 0.919510368828301, \"count\": 1, \"min\": 0.919510368828301, \"max\": 0.919510368828301}}}\u001b[0m\n",
      "\u001b[34m#metrics {\"StartTime\": 1659362603.303987, \"EndTime\": 1659362603.303996, \"Dimensions\": {\"Algorithm\": \"Linear Learner\", \"Host\": \"algo-1\", \"Operation\": \"training\", \"epoch\": 9, \"model\": 6}, \"Metrics\": {\"validation_multiclass_cross_entropy_objective\": {\"sum\": 0.8361467241166948, \"count\": 1, \"min\": 0.8361467241166948, \"max\": 0.8361467241166948}}}\u001b[0m\n",
      "\u001b[34m#metrics {\"StartTime\": 1659362603.304023, \"EndTime\": 1659362603.3040366, \"Dimensions\": {\"Algorithm\": \"Linear Learner\", \"Host\": \"algo-1\", \"Operation\": \"training\", \"epoch\": 9, \"model\": 7}, \"Metrics\": {\"validation_multiclass_cross_entropy_objective\": {\"sum\": 0.9760390273085585, \"count\": 1, \"min\": 0.9760390273085585, \"max\": 0.9760390273085585}}}\u001b[0m\n",
      "\u001b[34m#metrics {\"StartTime\": 1659362603.3040717, \"EndTime\": 1659362603.30408, \"Dimensions\": {\"Algorithm\": \"Linear Learner\", \"Host\": \"algo-1\", \"Operation\": \"training\", \"epoch\": 9, \"model\": 8}, \"Metrics\": {\"validation_multiclass_cross_entropy_objective\": {\"sum\": 0.7090885746586431, \"count\": 1, \"min\": 0.7090885746586431, \"max\": 0.7090885746586431}}}\u001b[0m\n",
      "\u001b[34m#metrics {\"StartTime\": 1659362603.3041062, \"EndTime\": 1659362603.3041134, \"Dimensions\": {\"Algorithm\": \"Linear Learner\", \"Host\": \"algo-1\", \"Operation\": \"training\", \"epoch\": 9, \"model\": 9}, \"Metrics\": {\"validation_multiclass_cross_entropy_objective\": {\"sum\": 0.8904751614407376, \"count\": 1, \"min\": 0.8904751614407376, \"max\": 0.8904751614407376}}}\u001b[0m\n",
      "\u001b[34m#metrics {\"StartTime\": 1659362603.304139, \"EndTime\": 1659362603.3041465, \"Dimensions\": {\"Algorithm\": \"Linear Learner\", \"Host\": \"algo-1\", \"Operation\": \"training\", \"epoch\": 9, \"model\": 10}, \"Metrics\": {\"validation_multiclass_cross_entropy_objective\": {\"sum\": 0.9873264072177647, \"count\": 1, \"min\": 0.9873264072177647, \"max\": 0.9873264072177647}}}\u001b[0m\n",
      "\u001b[34m#metrics {\"StartTime\": 1659362603.3041716, \"EndTime\": 1659362603.3041787, \"Dimensions\": {\"Algorithm\": \"Linear Learner\", \"Host\": \"algo-1\", \"Operation\": \"training\", \"epoch\": 9, \"model\": 11}, \"Metrics\": {\"validation_multiclass_cross_entropy_objective\": {\"sum\": 0.732469232232721, \"count\": 1, \"min\": 0.732469232232721, \"max\": 0.732469232232721}}}\u001b[0m\n",
      "\u001b[34m[08/01/2022 14:03:23 INFO 139801523697472] #quality_metric: host=algo-1, epoch=9, validation multiclass_cross_entropy_objective <loss>=0.9445367761560388\u001b[0m\n",
      "\u001b[34m[08/01/2022 14:03:23 INFO 139801523697472] #early_stopping_criteria_metric: host=algo-1, epoch=9, criteria=multiclass_cross_entropy_objective, value=0.7090885746586431\u001b[0m\n",
      "\u001b[34m[08/01/2022 14:03:23 INFO 139801523697472] Epoch 9: Loss improved. Updating best model\u001b[0m\n",
      "\u001b[34m[08/01/2022 14:03:23 INFO 139801523697472] Saving model for epoch: 9\u001b[0m\n",
      "\u001b[34m[08/01/2022 14:03:23 INFO 139801523697472] Saved checkpoint to \"/tmp/tmpa9uv15s3/mx-mod-0000.params\"\u001b[0m\n",
      "\u001b[34m[08/01/2022 14:03:23 INFO 139801523697472] #progress_metric: host=algo-1, completed 66.66666666666667 % of epochs\u001b[0m\n",
      "\u001b[34m#metrics {\"StartTime\": 1659362603.2479124, \"EndTime\": 1659362603.3160806, \"Dimensions\": {\"Algorithm\": \"Linear Learner\", \"Host\": \"algo-1\", \"Operation\": \"training\", \"epoch\": 9, \"Meta\": \"training_data_iter\"}, \"Metrics\": {\"Total Records Seen\": {\"sum\": 20536.0, \"count\": 1, \"min\": 20536, \"max\": 20536}, \"Total Batches Seen\": {\"sum\": 23.0, \"count\": 1, \"min\": 23, \"max\": 23}, \"Max Records Seen Between Resets\": {\"sum\": 1776.0, \"count\": 1, \"min\": 1776, \"max\": 1776}, \"Max Batches Seen Between Resets\": {\"sum\": 2.0, \"count\": 1, \"min\": 2, \"max\": 2}, \"Reset Count\": {\"sum\": 12.0, \"count\": 1, \"min\": 12, \"max\": 12}, \"Number of Records Since Last Reset\": {\"sum\": 1776.0, \"count\": 1, \"min\": 1776, \"max\": 1776}, \"Number of Batches Since Last Reset\": {\"sum\": 2.0, \"count\": 1, \"min\": 2, \"max\": 2}}}\u001b[0m\n",
      "\u001b[34m[08/01/2022 14:03:23 INFO 139801523697472] #throughput_metric: host=algo-1, train throughput=25991.765019504943 records/second\u001b[0m\n",
      "\u001b[34m[2022-08-01 14:03:23.341] [tensorio] [info] epoch_stats={\"data_pipeline\": \"/opt/ml/input/data/train\", \"epoch\": 24, \"duration\": 24, \"num_examples\": 2, \"num_bytes\": 92352}\u001b[0m\n",
      "\u001b[34m#metrics {\"StartTime\": 1659362603.3412147, \"EndTime\": 1659362603.3412738, \"Dimensions\": {\"Algorithm\": \"Linear Learner\", \"Host\": \"algo-1\", \"Operation\": \"training\", \"epoch\": 10, \"model\": 0}, \"Metrics\": {\"train_multiclass_cross_entropy_objective\": {\"sum\": 0.9485713500976563, \"count\": 1, \"min\": 0.9485713500976563, \"max\": 0.9485713500976563}}}\u001b[0m\n",
      "\u001b[34m#metrics {\"StartTime\": 1659362603.3413615, \"EndTime\": 1659362603.3413835, \"Dimensions\": {\"Algorithm\": \"Linear Learner\", \"Host\": \"algo-1\", \"Operation\": \"training\", \"epoch\": 10, \"model\": 1}, \"Metrics\": {\"train_multiclass_cross_entropy_objective\": {\"sum\": 0.925982177734375, \"count\": 1, \"min\": 0.925982177734375, \"max\": 0.925982177734375}}}\u001b[0m\n",
      "\u001b[34m#metrics {\"StartTime\": 1659362603.3414497, \"EndTime\": 1659362603.341468, \"Dimensions\": {\"Algorithm\": \"Linear Learner\", \"Host\": \"algo-1\", \"Operation\": \"training\", \"epoch\": 10, \"model\": 2}, \"Metrics\": {\"train_multiclass_cross_entropy_objective\": {\"sum\": 0.8388611450195312, \"count\": 1, \"min\": 0.8388611450195312, \"max\": 0.8388611450195312}}}\u001b[0m\n",
      "\u001b[34m#metrics {\"StartTime\": 1659362603.3415284, \"EndTime\": 1659362603.3415477, \"Dimensions\": {\"Algorithm\": \"Linear Learner\", \"Host\": \"algo-1\", \"Operation\": \"training\", \"epoch\": 10, \"model\": 3}, \"Metrics\": {\"train_multiclass_cross_entropy_objective\": {\"sum\": 0.8776348876953125, \"count\": 1, \"min\": 0.8776348876953125, \"max\": 0.8776348876953125}}}\u001b[0m\n",
      "\u001b[34m#metrics {\"StartTime\": 1659362603.3416038, \"EndTime\": 1659362603.3416238, \"Dimensions\": {\"Algorithm\": \"Linear Learner\", \"Host\": \"algo-1\", \"Operation\": \"training\", \"epoch\": 10, \"model\": 4}, \"Metrics\": {\"train_multiclass_cross_entropy_objective\": {\"sum\": 0.949911376953125, \"count\": 1, \"min\": 0.949911376953125, \"max\": 0.949911376953125}}}\u001b[0m\n",
      "\u001b[34m#metrics {\"StartTime\": 1659362603.3417177, \"EndTime\": 1659362603.3417385, \"Dimensions\": {\"Algorithm\": \"Linear Learner\", \"Host\": \"algo-1\", \"Operation\": \"training\", \"epoch\": 10, \"model\": 5}, \"Metrics\": {\"train_multiclass_cross_entropy_objective\": {\"sum\": 0.9256568603515625, \"count\": 1, \"min\": 0.9256568603515625, \"max\": 0.9256568603515625}}}\u001b[0m\n",
      "\u001b[34m#metrics {\"StartTime\": 1659362603.3417997, \"EndTime\": 1659362603.3418198, \"Dimensions\": {\"Algorithm\": \"Linear Learner\", \"Host\": \"algo-1\", \"Operation\": \"training\", \"epoch\": 10, \"model\": 6}, \"Metrics\": {\"train_multiclass_cross_entropy_objective\": {\"sum\": 0.8485236206054687, \"count\": 1, \"min\": 0.8485236206054687, \"max\": 0.8485236206054687}}}\u001b[0m\n",
      "\u001b[34m#metrics {\"StartTime\": 1659362603.3418767, \"EndTime\": 1659362603.3418944, \"Dimensions\": {\"Algorithm\": \"Linear Learner\", \"Host\": \"algo-1\", \"Operation\": \"training\", \"epoch\": 10, \"model\": 7}, \"Metrics\": {\"train_multiclass_cross_entropy_objective\": {\"sum\": 0.9800468139648437, \"count\": 1, \"min\": 0.9800468139648437, \"max\": 0.9800468139648437}}}\u001b[0m\n",
      "\u001b[34m#metrics {\"StartTime\": 1659362603.3419476, \"EndTime\": 1659362603.3419607, \"Dimensions\": {\"Algorithm\": \"Linear Learner\", \"Host\": \"algo-1\", \"Operation\": \"training\", \"epoch\": 10, \"model\": 8}, \"Metrics\": {\"train_multiclass_cross_entropy_objective\": {\"sum\": 0.7232676391601562, \"count\": 1, \"min\": 0.7232676391601562, \"max\": 0.7232676391601562}}}\u001b[0m\n",
      "\u001b[34m#metrics {\"StartTime\": 1659362603.3420138, \"EndTime\": 1659362603.342029, \"Dimensions\": {\"Algorithm\": \"Linear Learner\", \"Host\": \"algo-1\", \"Operation\": \"training\", \"epoch\": 10, \"model\": 9}, \"Metrics\": {\"train_multiclass_cross_entropy_objective\": {\"sum\": 0.9164950561523437, \"count\": 1, \"min\": 0.9164950561523437, \"max\": 0.9164950561523437}}}\u001b[0m\n",
      "\u001b[34m#metrics {\"StartTime\": 1659362603.342076, \"EndTime\": 1659362603.3420906, \"Dimensions\": {\"Algorithm\": \"Linear Learner\", \"Host\": \"algo-1\", \"Operation\": \"training\", \"epoch\": 10, \"model\": 10}, \"Metrics\": {\"train_multiclass_cross_entropy_objective\": {\"sum\": 0.9916439819335937, \"count\": 1, \"min\": 0.9916439819335937, \"max\": 0.9916439819335937}}}\u001b[0m\n",
      "\u001b[34m#metrics {\"StartTime\": 1659362603.3421843, \"EndTime\": 1659362603.3422105, \"Dimensions\": {\"Algorithm\": \"Linear Learner\", \"Host\": \"algo-1\", \"Operation\": \"training\", \"epoch\": 10, \"model\": 11}, \"Metrics\": {\"train_multiclass_cross_entropy_objective\": {\"sum\": 0.747091552734375, \"count\": 1, \"min\": 0.747091552734375, \"max\": 0.747091552734375}}}\u001b[0m\n",
      "\u001b[34m[08/01/2022 14:03:23 INFO 139801523697472] #quality_metric: host=algo-1, epoch=10, train multiclass_cross_entropy_objective <loss>=0.9485713500976563\u001b[0m\n",
      "\u001b[34m[2022-08-01 14:03:23.380] [tensorio] [info] epoch_stats={\"data_pipeline\": \"/opt/ml/input/data/validation\", \"epoch\": 32, \"duration\": 26, \"num_examples\": 1, \"num_bytes\": 11544}\u001b[0m\n",
      "\u001b[34m#metrics {\"StartTime\": 1659362603.385888, \"EndTime\": 1659362603.3859556, \"Dimensions\": {\"Algorithm\": \"Linear Learner\", \"Host\": \"algo-1\", \"Operation\": \"training\", \"epoch\": 10, \"model\": 0}, \"Metrics\": {\"validation_multiclass_cross_entropy_objective\": {\"sum\": 0.9316181492161106, \"count\": 1, \"min\": 0.9316181492161106, \"max\": 0.9316181492161106}}}\u001b[0m\n",
      "\u001b[34m#metrics {\"StartTime\": 1659362603.3863192, \"EndTime\": 1659362603.38635, \"Dimensions\": {\"Algorithm\": \"Linear Learner\", \"Host\": \"algo-1\", \"Operation\": \"training\", \"epoch\": 10, \"model\": 1}, \"Metrics\": {\"validation_multiclass_cross_entropy_objective\": {\"sum\": 0.9051046285543356, \"count\": 1, \"min\": 0.9051046285543356, \"max\": 0.9051046285543356}}}\u001b[0m\n",
      "\u001b[34m#metrics {\"StartTime\": 1659362603.3866625, \"EndTime\": 1659362603.3866892, \"Dimensions\": {\"Algorithm\": \"Linear Learner\", \"Host\": \"algo-1\", \"Operation\": \"training\", \"epoch\": 10, \"model\": 2}, \"Metrics\": {\"validation_multiclass_cross_entropy_objective\": {\"sum\": 0.8061451267551731, \"count\": 1, \"min\": 0.8061451267551731, \"max\": 0.8061451267551731}}}\u001b[0m\n",
      "\u001b[34m#metrics {\"StartTime\": 1659362603.3869936, \"EndTime\": 1659362603.3870215, \"Dimensions\": {\"Algorithm\": \"Linear Learner\", \"Host\": \"algo-1\", \"Operation\": \"training\", \"epoch\": 10, \"model\": 3}, \"Metrics\": {\"validation_multiclass_cross_entropy_objective\": {\"sum\": 0.8541580062728744, \"count\": 1, \"min\": 0.8541580062728744, \"max\": 0.8541580062728744}}}\u001b[0m\n",
      "\u001b[34m#metrics {\"StartTime\": 1659362603.3873289, \"EndTime\": 1659362603.3873558, \"Dimensions\": {\"Algorithm\": \"Linear Learner\", \"Host\": \"algo-1\", \"Operation\": \"training\", \"epoch\": 10, \"model\": 4}, \"Metrics\": {\"validation_multiclass_cross_entropy_objective\": {\"sum\": 0.9302162651543144, \"count\": 1, \"min\": 0.9302162651543144, \"max\": 0.9302162651543144}}}\u001b[0m\n",
      "\u001b[34m#metrics {\"StartTime\": 1659362603.387437, \"EndTime\": 1659362603.3874524, \"Dimensions\": {\"Algorithm\": \"Linear Learner\", \"Host\": \"algo-1\", \"Operation\": \"training\", \"epoch\": 10, \"model\": 5}, \"Metrics\": {\"validation_multiclass_cross_entropy_objective\": {\"sum\": 0.9107974628070453, \"count\": 1, \"min\": 0.9107974628070453, \"max\": 0.9107974628070453}}}\u001b[0m\n",
      "\u001b[34m#metrics {\"StartTime\": 1659362603.3875074, \"EndTime\": 1659362603.3875525, \"Dimensions\": {\"Algorithm\": \"Linear Learner\", \"Host\": \"algo-1\", \"Operation\": \"training\", \"epoch\": 10, \"model\": 6}, \"Metrics\": {\"validation_multiclass_cross_entropy_objective\": {\"sum\": 0.8320942784214879, \"count\": 1, \"min\": 0.8320942784214879, \"max\": 0.8320942784214879}}}\u001b[0m\n",
      "\u001b[34m#metrics {\"StartTime\": 1659362603.387619, \"EndTime\": 1659362603.3876383, \"Dimensions\": {\"Algorithm\": \"Linear Learner\", \"Host\": \"algo-1\", \"Operation\": \"training\", \"epoch\": 10, \"model\": 7}, \"Metrics\": {\"validation_multiclass_cross_entropy_objective\": {\"sum\": 0.965047887853674, \"count\": 1, \"min\": 0.965047887853674, \"max\": 0.965047887853674}}}\u001b[0m\n",
      "\u001b[34m#metrics {\"StartTime\": 1659362603.3877046, \"EndTime\": 1659362603.3877234, \"Dimensions\": {\"Algorithm\": \"Linear Learner\", \"Host\": \"algo-1\", \"Operation\": \"training\", \"epoch\": 10, \"model\": 8}, \"Metrics\": {\"validation_multiclass_cross_entropy_objective\": {\"sum\": 0.700357385583826, \"count\": 1, \"min\": 0.700357385583826, \"max\": 0.700357385583826}}}\u001b[0m\n",
      "\u001b[34m#metrics {\"StartTime\": 1659362603.3877795, \"EndTime\": 1659362603.387796, \"Dimensions\": {\"Algorithm\": \"Linear Learner\", \"Host\": \"algo-1\", \"Operation\": \"training\", \"epoch\": 10, \"model\": 9}, \"Metrics\": {\"validation_multiclass_cross_entropy_objective\": {\"sum\": 1.1265192117776957, \"count\": 1, \"min\": 1.1265192117776957, \"max\": 1.1265192117776957}}}\u001b[0m\n",
      "\u001b[34m#metrics {\"StartTime\": 1659362603.38786, \"EndTime\": 1659362603.3878756, \"Dimensions\": {\"Algorithm\": \"Linear Learner\", \"Host\": \"algo-1\", \"Operation\": \"training\", \"epoch\": 10, \"model\": 10}, \"Metrics\": {\"validation_multiclass_cross_entropy_objective\": {\"sum\": 0.9778387396185247, \"count\": 1, \"min\": 0.9778387396185247, \"max\": 0.9778387396185247}}}\u001b[0m\n",
      "\u001b[34m#metrics {\"StartTime\": 1659362603.3879242, \"EndTime\": 1659362603.3879373, \"Dimensions\": {\"Algorithm\": \"Linear Learner\", \"Host\": \"algo-1\", \"Operation\": \"training\", \"epoch\": 10, \"model\": 11}, \"Metrics\": {\"validation_multiclass_cross_entropy_objective\": {\"sum\": 0.7242622719154702, \"count\": 1, \"min\": 0.7242622719154702, \"max\": 0.7242622719154702}}}\u001b[0m\n",
      "\u001b[34m[08/01/2022 14:03:23 INFO 139801523697472] #quality_metric: host=algo-1, epoch=10, validation multiclass_cross_entropy_objective <loss>=0.9316181492161106\u001b[0m\n",
      "\u001b[34m[08/01/2022 14:03:23 INFO 139801523697472] #early_stopping_criteria_metric: host=algo-1, epoch=10, criteria=multiclass_cross_entropy_objective, value=0.700357385583826\u001b[0m\n",
      "\u001b[34m[08/01/2022 14:03:23 INFO 139801523697472] Epoch 10: Loss improved. Updating best model\u001b[0m\n",
      "\u001b[34m[08/01/2022 14:03:23 INFO 139801523697472] Saving model for epoch: 10\u001b[0m\n",
      "\u001b[34m[08/01/2022 14:03:23 INFO 139801523697472] Saved checkpoint to \"/tmp/tmpyrar4wb6/mx-mod-0000.params\"\u001b[0m\n",
      "\u001b[34m[08/01/2022 14:03:23 INFO 139801523697472] #progress_metric: host=algo-1, completed 73.33333333333333 % of epochs\u001b[0m\n",
      "\u001b[34m#metrics {\"StartTime\": 1659362603.316419, \"EndTime\": 1659362603.4016817, \"Dimensions\": {\"Algorithm\": \"Linear Learner\", \"Host\": \"algo-1\", \"Operation\": \"training\", \"epoch\": 10, \"Meta\": \"training_data_iter\"}, \"Metrics\": {\"Total Records Seen\": {\"sum\": 22312.0, \"count\": 1, \"min\": 22312, \"max\": 22312}, \"Total Batches Seen\": {\"sum\": 25.0, \"count\": 1, \"min\": 25, \"max\": 25}, \"Max Records Seen Between Resets\": {\"sum\": 1776.0, \"count\": 1, \"min\": 1776, \"max\": 1776}, \"Max Batches Seen Between Resets\": {\"sum\": 2.0, \"count\": 1, \"min\": 2, \"max\": 2}, \"Reset Count\": {\"sum\": 13.0, \"count\": 1, \"min\": 13, \"max\": 13}, \"Number of Records Since Last Reset\": {\"sum\": 1776.0, \"count\": 1, \"min\": 1776, \"max\": 1776}, \"Number of Batches Since Last Reset\": {\"sum\": 2.0, \"count\": 1, \"min\": 2, \"max\": 2}}}\u001b[0m\n",
      "\u001b[34m[08/01/2022 14:03:23 INFO 139801523697472] #throughput_metric: host=algo-1, train throughput=20786.130190195552 records/second\u001b[0m\n",
      "\u001b[34m[2022-08-01 14:03:23.423] [tensorio] [info] epoch_stats={\"data_pipeline\": \"/opt/ml/input/data/train\", \"epoch\": 26, \"duration\": 20, \"num_examples\": 2, \"num_bytes\": 92352}\u001b[0m\n",
      "\u001b[34m#metrics {\"StartTime\": 1659362603.4232318, \"EndTime\": 1659362603.4232845, \"Dimensions\": {\"Algorithm\": \"Linear Learner\", \"Host\": \"algo-1\", \"Operation\": \"training\", \"epoch\": 11, \"model\": 0}, \"Metrics\": {\"train_multiclass_cross_entropy_objective\": {\"sum\": 0.936486328125, \"count\": 1, \"min\": 0.936486328125, \"max\": 0.936486328125}}}\u001b[0m\n",
      "\u001b[34m#metrics {\"StartTime\": 1659362603.4233649, \"EndTime\": 1659362603.4233813, \"Dimensions\": {\"Algorithm\": \"Linear Learner\", \"Host\": \"algo-1\", \"Operation\": \"training\", \"epoch\": 11, \"model\": 1}, \"Metrics\": {\"train_multiclass_cross_entropy_objective\": {\"sum\": 0.9114187622070312, \"count\": 1, \"min\": 0.9114187622070312, \"max\": 0.9114187622070312}}}\u001b[0m\n",
      "\u001b[34m#metrics {\"StartTime\": 1659362603.423431, \"EndTime\": 1659362603.4234433, \"Dimensions\": {\"Algorithm\": \"Linear Learner\", \"Host\": \"algo-1\", \"Operation\": \"training\", \"epoch\": 11, \"model\": 2}, \"Metrics\": {\"train_multiclass_cross_entropy_objective\": {\"sum\": 0.8171005859375, \"count\": 1, \"min\": 0.8171005859375, \"max\": 0.8171005859375}}}\u001b[0m\n",
      "\u001b[34m#metrics {\"StartTime\": 1659362603.4234846, \"EndTime\": 1659362603.423496, \"Dimensions\": {\"Algorithm\": \"Linear Learner\", \"Host\": \"algo-1\", \"Operation\": \"training\", \"epoch\": 11, \"model\": 3}, \"Metrics\": {\"train_multiclass_cross_entropy_objective\": {\"sum\": 0.8616476440429688, \"count\": 1, \"min\": 0.8616476440429688, \"max\": 0.8616476440429688}}}\u001b[0m\n",
      "\u001b[34m#metrics {\"StartTime\": 1659362603.4235427, \"EndTime\": 1659362603.423555, \"Dimensions\": {\"Algorithm\": \"Linear Learner\", \"Host\": \"algo-1\", \"Operation\": \"training\", \"epoch\": 11, \"model\": 4}, \"Metrics\": {\"train_multiclass_cross_entropy_objective\": {\"sum\": 0.9363878784179688, \"count\": 1, \"min\": 0.9363878784179688, \"max\": 0.9363878784179688}}}\u001b[0m\n",
      "\u001b[34m#metrics {\"StartTime\": 1659362603.423595, \"EndTime\": 1659362603.4236057, \"Dimensions\": {\"Algorithm\": \"Linear Learner\", \"Host\": \"algo-1\", \"Operation\": \"training\", \"epoch\": 11, \"model\": 5}, \"Metrics\": {\"train_multiclass_cross_entropy_objective\": {\"sum\": 0.9172357177734375, \"count\": 1, \"min\": 0.9172357177734375, \"max\": 0.9172357177734375}}}\u001b[0m\n",
      "\u001b[34m#metrics {\"StartTime\": 1659362603.4236438, \"EndTime\": 1659362603.4236543, \"Dimensions\": {\"Algorithm\": \"Linear Learner\", \"Host\": \"algo-1\", \"Operation\": \"training\", \"epoch\": 11, \"model\": 6}, \"Metrics\": {\"train_multiclass_cross_entropy_objective\": {\"sum\": 0.8457938842773437, \"count\": 1, \"min\": 0.8457938842773437, \"max\": 0.8457938842773437}}}\u001b[0m\n",
      "\u001b[34m#metrics {\"StartTime\": 1659362603.4236925, \"EndTime\": 1659362603.423703, \"Dimensions\": {\"Algorithm\": \"Linear Learner\", \"Host\": \"algo-1\", \"Operation\": \"training\", \"epoch\": 11, \"model\": 7}, \"Metrics\": {\"train_multiclass_cross_entropy_objective\": {\"sum\": 0.9697664184570313, \"count\": 1, \"min\": 0.9697664184570313, \"max\": 0.9697664184570313}}}\u001b[0m\n",
      "\u001b[34m#metrics {\"StartTime\": 1659362603.4237432, \"EndTime\": 1659362603.4237537, \"Dimensions\": {\"Algorithm\": \"Linear Learner\", \"Host\": \"algo-1\", \"Operation\": \"training\", \"epoch\": 11, \"model\": 8}, \"Metrics\": {\"train_multiclass_cross_entropy_objective\": {\"sum\": 0.7157525024414062, \"count\": 1, \"min\": 0.7157525024414062, \"max\": 0.7157525024414062}}}\u001b[0m\n",
      "\u001b[34m#metrics {\"StartTime\": 1659362603.423795, \"EndTime\": 1659362603.423806, \"Dimensions\": {\"Algorithm\": \"Linear Learner\", \"Host\": \"algo-1\", \"Operation\": \"training\", \"epoch\": 11, \"model\": 9}, \"Metrics\": {\"train_multiclass_cross_entropy_objective\": {\"sum\": 1.1543360595703125, \"count\": 1, \"min\": 1.1543360595703125, \"max\": 1.1543360595703125}}}\u001b[0m\n",
      "\u001b[34m#metrics {\"StartTime\": 1659362603.4238517, \"EndTime\": 1659362603.4238634, \"Dimensions\": {\"Algorithm\": \"Linear Learner\", \"Host\": \"algo-1\", \"Operation\": \"training\", \"epoch\": 11, \"model\": 10}, \"Metrics\": {\"train_multiclass_cross_entropy_objective\": {\"sum\": 0.982904296875, \"count\": 1, \"min\": 0.982904296875, \"max\": 0.982904296875}}}\u001b[0m\n",
      "\u001b[34m#metrics {\"StartTime\": 1659362603.423902, \"EndTime\": 1659362603.4239128, \"Dimensions\": {\"Algorithm\": \"Linear Learner\", \"Host\": \"algo-1\", \"Operation\": \"training\", \"epoch\": 11, \"model\": 11}, \"Metrics\": {\"train_multiclass_cross_entropy_objective\": {\"sum\": 0.7418512573242187, \"count\": 1, \"min\": 0.7418512573242187, \"max\": 0.7418512573242187}}}\u001b[0m\n",
      "\u001b[34m[08/01/2022 14:03:23 INFO 139801523697472] #quality_metric: host=algo-1, epoch=11, train multiclass_cross_entropy_objective <loss>=0.936486328125\u001b[0m\n",
      "\u001b[34m[2022-08-01 14:03:23.446] [tensorio] [info] epoch_stats={\"data_pipeline\": \"/opt/ml/input/data/validation\", \"epoch\": 35, \"duration\": 11, \"num_examples\": 1, \"num_bytes\": 11544}\u001b[0m\n",
      "\u001b[34m#metrics {\"StartTime\": 1659362603.4496253, \"EndTime\": 1659362603.4497142, \"Dimensions\": {\"Algorithm\": \"Linear Learner\", \"Host\": \"algo-1\", \"Operation\": \"training\", \"epoch\": 11, \"model\": 0}, \"Metrics\": {\"validation_multiclass_cross_entropy_objective\": {\"sum\": 0.9206571149396466, \"count\": 1, \"min\": 0.9206571149396466, \"max\": 0.9206571149396466}}}\u001b[0m\n",
      "\u001b[34m#metrics {\"StartTime\": 1659362603.4498155, \"EndTime\": 1659362603.449832, \"Dimensions\": {\"Algorithm\": \"Linear Learner\", \"Host\": \"algo-1\", \"Operation\": \"training\", \"epoch\": 11, \"model\": 1}, \"Metrics\": {\"validation_multiclass_cross_entropy_objective\": {\"sum\": 0.8926412221547719, \"count\": 1, \"min\": 0.8926412221547719, \"max\": 0.8926412221547719}}}\u001b[0m\n",
      "\u001b[34m#metrics {\"StartTime\": 1659362603.449888, \"EndTime\": 1659362603.4499056, \"Dimensions\": {\"Algorithm\": \"Linear Learner\", \"Host\": \"algo-1\", \"Operation\": \"training\", \"epoch\": 11, \"model\": 2}, \"Metrics\": {\"validation_multiclass_cross_entropy_objective\": {\"sum\": 0.79347174017279, \"count\": 1, \"min\": 0.79347174017279, \"max\": 0.79347174017279}}}\u001b[0m\n",
      "\u001b[34m#metrics {\"StartTime\": 1659362603.4499617, \"EndTime\": 1659362603.4499779, \"Dimensions\": {\"Algorithm\": \"Linear Learner\", \"Host\": \"algo-1\", \"Operation\": \"training\", \"epoch\": 11, \"model\": 3}, \"Metrics\": {\"validation_multiclass_cross_entropy_objective\": {\"sum\": 0.8417616148252745, \"count\": 1, \"min\": 0.8417616148252745, \"max\": 0.8417616148252745}}}\u001b[0m\n",
      "\u001b[34m#metrics {\"StartTime\": 1659362603.4500334, \"EndTime\": 1659362603.4500523, \"Dimensions\": {\"Algorithm\": \"Linear Learner\", \"Host\": \"algo-1\", \"Operation\": \"training\", \"epoch\": 11, \"model\": 4}, \"Metrics\": {\"validation_multiclass_cross_entropy_objective\": {\"sum\": 0.9168795336474169, \"count\": 1, \"min\": 0.9168795336474169, \"max\": 0.9168795336474169}}}\u001b[0m\n",
      "\u001b[34m#metrics {\"StartTime\": 1659362603.4501095, \"EndTime\": 1659362603.4501271, \"Dimensions\": {\"Algorithm\": \"Linear Learner\", \"Host\": \"algo-1\", \"Operation\": \"training\", \"epoch\": 11, \"model\": 5}, \"Metrics\": {\"validation_multiclass_cross_entropy_objective\": {\"sum\": 0.9027696214280687, \"count\": 1, \"min\": 0.9027696214280687, \"max\": 0.9027696214280687}}}\u001b[0m\n",
      "\u001b[34m#metrics {\"StartTime\": 1659362603.4501922, \"EndTime\": 1659362603.4502106, \"Dimensions\": {\"Algorithm\": \"Linear Learner\", \"Host\": \"algo-1\", \"Operation\": \"training\", \"epoch\": 11, \"model\": 6}, \"Metrics\": {\"validation_multiclass_cross_entropy_objective\": {\"sum\": 0.8300546182168497, \"count\": 1, \"min\": 0.8300546182168497, \"max\": 0.8300546182168497}}}\u001b[0m\n",
      "\u001b[34m#metrics {\"StartTime\": 1659362603.4502668, \"EndTime\": 1659362603.4502833, \"Dimensions\": {\"Algorithm\": \"Linear Learner\", \"Host\": \"algo-1\", \"Operation\": \"training\", \"epoch\": 11, \"model\": 7}, \"Metrics\": {\"validation_multiclass_cross_entropy_objective\": {\"sum\": 0.9552351118208052, \"count\": 1, \"min\": 0.9552351118208052, \"max\": 0.9552351118208052}}}\u001b[0m\n",
      "\u001b[34m#metrics {\"StartTime\": 1659362603.4503403, \"EndTime\": 1659362603.4503572, \"Dimensions\": {\"Algorithm\": \"Linear Learner\", \"Host\": \"algo-1\", \"Operation\": \"training\", \"epoch\": 11, \"model\": 8}, \"Metrics\": {\"validation_multiclass_cross_entropy_objective\": {\"sum\": 0.6932918101817638, \"count\": 1, \"min\": 0.6932918101817638, \"max\": 0.6932918101817638}}}\u001b[0m\n",
      "\u001b[34m#metrics {\"StartTime\": 1659362603.450423, \"EndTime\": 1659362603.4504387, \"Dimensions\": {\"Algorithm\": \"Linear Learner\", \"Host\": \"algo-1\", \"Operation\": \"training\", \"epoch\": 11, \"model\": 9}, \"Metrics\": {\"validation_multiclass_cross_entropy_objective\": {\"sum\": 0.8486811319986979, \"count\": 1, \"min\": 0.8486811319986979, \"max\": 0.8486811319986979}}}\u001b[0m\n",
      "\u001b[34m#metrics {\"StartTime\": 1659362603.4505007, \"EndTime\": 1659362603.4505165, \"Dimensions\": {\"Algorithm\": \"Linear Learner\", \"Host\": \"algo-1\", \"Operation\": \"training\", \"epoch\": 11, \"model\": 10}, \"Metrics\": {\"validation_multiclass_cross_entropy_objective\": {\"sum\": 0.9689559936523438, \"count\": 1, \"min\": 0.9689559936523438, \"max\": 0.9689559936523438}}}\u001b[0m\n",
      "\u001b[34m#metrics {\"StartTime\": 1659362603.450578, \"EndTime\": 1659362603.4505951, \"Dimensions\": {\"Algorithm\": \"Linear Learner\", \"Host\": \"algo-1\", \"Operation\": \"training\", \"epoch\": 11, \"model\": 11}, \"Metrics\": {\"validation_multiclass_cross_entropy_objective\": {\"sum\": 0.7209465095588753, \"count\": 1, \"min\": 0.7209465095588753, \"max\": 0.7209465095588753}}}\u001b[0m\n",
      "\u001b[34m[08/01/2022 14:03:23 INFO 139801523697472] #quality_metric: host=algo-1, epoch=11, validation multiclass_cross_entropy_objective <loss>=0.9206571149396466\u001b[0m\n",
      "\u001b[34m[08/01/2022 14:03:23 INFO 139801523697472] #early_stopping_criteria_metric: host=algo-1, epoch=11, criteria=multiclass_cross_entropy_objective, value=0.6932918101817638\u001b[0m\n",
      "\u001b[34m[08/01/2022 14:03:23 INFO 139801523697472] Epoch 11: Loss improved. Updating best model\u001b[0m\n",
      "\u001b[34m[08/01/2022 14:03:23 INFO 139801523697472] Saving model for epoch: 11\u001b[0m\n",
      "\u001b[34m[08/01/2022 14:03:23 INFO 139801523697472] Saved checkpoint to \"/tmp/tmpjvgaj1jz/mx-mod-0000.params\"\u001b[0m\n",
      "\u001b[34m[08/01/2022 14:03:23 INFO 139801523697472] #progress_metric: host=algo-1, completed 80.0 % of epochs\u001b[0m\n",
      "\u001b[34m#metrics {\"StartTime\": 1659362603.4020262, \"EndTime\": 1659362603.4621305, \"Dimensions\": {\"Algorithm\": \"Linear Learner\", \"Host\": \"algo-1\", \"Operation\": \"training\", \"epoch\": 11, \"Meta\": \"training_data_iter\"}, \"Metrics\": {\"Total Records Seen\": {\"sum\": 24088.0, \"count\": 1, \"min\": 24088, \"max\": 24088}, \"Total Batches Seen\": {\"sum\": 27.0, \"count\": 1, \"min\": 27, \"max\": 27}, \"Max Records Seen Between Resets\": {\"sum\": 1776.0, \"count\": 1, \"min\": 1776, \"max\": 1776}, \"Max Batches Seen Between Resets\": {\"sum\": 2.0, \"count\": 1, \"min\": 2, \"max\": 2}, \"Reset Count\": {\"sum\": 14.0, \"count\": 1, \"min\": 14, \"max\": 14}, \"Number of Records Since Last Reset\": {\"sum\": 1776.0, \"count\": 1, \"min\": 1776, \"max\": 1776}, \"Number of Batches Since Last Reset\": {\"sum\": 2.0, \"count\": 1, \"min\": 2, \"max\": 2}}}\u001b[0m\n",
      "\u001b[34m[08/01/2022 14:03:23 INFO 139801523697472] #throughput_metric: host=algo-1, train throughput=29467.828266485223 records/second\u001b[0m\n",
      "\u001b[34m[2022-08-01 14:03:23.486] [tensorio] [info] epoch_stats={\"data_pipeline\": \"/opt/ml/input/data/train\", \"epoch\": 28, \"duration\": 23, \"num_examples\": 2, \"num_bytes\": 92352}\u001b[0m\n",
      "\u001b[34m#metrics {\"StartTime\": 1659362603.4866023, \"EndTime\": 1659362603.486832, \"Dimensions\": {\"Algorithm\": \"Linear Learner\", \"Host\": \"algo-1\", \"Operation\": \"training\", \"epoch\": 12, \"model\": 0}, \"Metrics\": {\"train_multiclass_cross_entropy_objective\": {\"sum\": 0.9263245849609375, \"count\": 1, \"min\": 0.9263245849609375, \"max\": 0.9263245849609375}}}\u001b[0m\n",
      "\u001b[34m#metrics {\"StartTime\": 1659362603.4869204, \"EndTime\": 1659362603.4869428, \"Dimensions\": {\"Algorithm\": \"Linear Learner\", \"Host\": \"algo-1\", \"Operation\": \"training\", \"epoch\": 12, \"model\": 1}, \"Metrics\": {\"train_multiclass_cross_entropy_objective\": {\"sum\": 0.8999277954101562, \"count\": 1, \"min\": 0.8999277954101562, \"max\": 0.8999277954101562}}}\u001b[0m\n",
      "\u001b[34m#metrics {\"StartTime\": 1659362603.487007, \"EndTime\": 1659362603.4870257, \"Dimensions\": {\"Algorithm\": \"Linear Learner\", \"Host\": \"algo-1\", \"Operation\": \"training\", \"epoch\": 12, \"model\": 2}, \"Metrics\": {\"train_multiclass_cross_entropy_objective\": {\"sum\": 0.8059401245117187, \"count\": 1, \"min\": 0.8059401245117187, \"max\": 0.8059401245117187}}}\u001b[0m\n",
      "\u001b[34m#metrics {\"StartTime\": 1659362603.4873161, \"EndTime\": 1659362603.4875102, \"Dimensions\": {\"Algorithm\": \"Linear Learner\", \"Host\": \"algo-1\", \"Operation\": \"training\", \"epoch\": 12, \"model\": 3}, \"Metrics\": {\"train_multiclass_cross_entropy_objective\": {\"sum\": 0.8501904296875, \"count\": 1, \"min\": 0.8501904296875, \"max\": 0.8501904296875}}}\u001b[0m\n",
      "\u001b[34m#metrics {\"StartTime\": 1659362603.4876003, \"EndTime\": 1659362603.4878201, \"Dimensions\": {\"Algorithm\": \"Linear Learner\", \"Host\": \"algo-1\", \"Operation\": \"training\", \"epoch\": 12, \"model\": 4}, \"Metrics\": {\"train_multiclass_cross_entropy_objective\": {\"sum\": 0.9235873413085938, \"count\": 1, \"min\": 0.9235873413085938, \"max\": 0.9235873413085938}}}\u001b[0m\n",
      "\u001b[34m#metrics {\"StartTime\": 1659362603.4879093, \"EndTime\": 1659362603.487932, \"Dimensions\": {\"Algorithm\": \"Linear Learner\", \"Host\": \"algo-1\", \"Operation\": \"training\", \"epoch\": 12, \"model\": 5}, \"Metrics\": {\"train_multiclass_cross_entropy_objective\": {\"sum\": 0.9092908325195312, \"count\": 1, \"min\": 0.9092908325195312, \"max\": 0.9092908325195312}}}\u001b[0m\n",
      "\u001b[34m#metrics {\"StartTime\": 1659362603.488162, \"EndTime\": 1659362603.4883215, \"Dimensions\": {\"Algorithm\": \"Linear Learner\", \"Host\": \"algo-1\", \"Operation\": \"training\", \"epoch\": 12, \"model\": 6}, \"Metrics\": {\"train_multiclass_cross_entropy_objective\": {\"sum\": 0.8428941040039063, \"count\": 1, \"min\": 0.8428941040039063, \"max\": 0.8428941040039063}}}\u001b[0m\n",
      "\u001b[34m#metrics {\"StartTime\": 1659362603.4884148, \"EndTime\": 1659362603.4884331, \"Dimensions\": {\"Algorithm\": \"Linear Learner\", \"Host\": \"algo-1\", \"Operation\": \"training\", \"epoch\": 12, \"model\": 7}, \"Metrics\": {\"train_multiclass_cross_entropy_objective\": {\"sum\": 0.9606159057617187, \"count\": 1, \"min\": 0.9606159057617187, \"max\": 0.9606159057617187}}}\u001b[0m\n",
      "\u001b[34m#metrics {\"StartTime\": 1659362603.488484, \"EndTime\": 1659362603.488496, \"Dimensions\": {\"Algorithm\": \"Linear Learner\", \"Host\": \"algo-1\", \"Operation\": \"training\", \"epoch\": 12, \"model\": 8}, \"Metrics\": {\"train_multiclass_cross_entropy_objective\": {\"sum\": 0.7100371704101562, \"count\": 1, \"min\": 0.7100371704101562, \"max\": 0.7100371704101562}}}\u001b[0m\n",
      "\u001b[34m#metrics {\"StartTime\": 1659362603.488535, \"EndTime\": 1659362603.4885461, \"Dimensions\": {\"Algorithm\": \"Linear Learner\", \"Host\": \"algo-1\", \"Operation\": \"training\", \"epoch\": 12, \"model\": 9}, \"Metrics\": {\"train_multiclass_cross_entropy_objective\": {\"sum\": 0.8775864868164063, \"count\": 1, \"min\": 0.8775864868164063, \"max\": 0.8775864868164063}}}\u001b[0m\n",
      "\u001b[34m#metrics {\"StartTime\": 1659362603.4886472, \"EndTime\": 1659362603.4886613, \"Dimensions\": {\"Algorithm\": \"Linear Learner\", \"Host\": \"algo-1\", \"Operation\": \"training\", \"epoch\": 12, \"model\": 10}, \"Metrics\": {\"train_multiclass_cross_entropy_objective\": {\"sum\": 0.9748095703125, \"count\": 1, \"min\": 0.9748095703125, \"max\": 0.9748095703125}}}\u001b[0m\n",
      "\u001b[34m#metrics {\"StartTime\": 1659362603.4887002, \"EndTime\": 1659362603.4887106, \"Dimensions\": {\"Algorithm\": \"Linear Learner\", \"Host\": \"algo-1\", \"Operation\": \"training\", \"epoch\": 12, \"model\": 11}, \"Metrics\": {\"train_multiclass_cross_entropy_objective\": {\"sum\": 0.7370922241210938, \"count\": 1, \"min\": 0.7370922241210938, \"max\": 0.7370922241210938}}}\u001b[0m\n",
      "\u001b[34m[08/01/2022 14:03:23 INFO 139801523697472] #quality_metric: host=algo-1, epoch=12, train multiclass_cross_entropy_objective <loss>=0.9263245849609375\u001b[0m\n",
      "\u001b[34m[2022-08-01 14:03:23.518] [tensorio] [info] epoch_stats={\"data_pipeline\": \"/opt/ml/input/data/validation\", \"epoch\": 38, \"duration\": 16, \"num_examples\": 1, \"num_bytes\": 11544}\u001b[0m\n",
      "\u001b[34m#metrics {\"StartTime\": 1659362603.5219858, \"EndTime\": 1659362603.522024, \"Dimensions\": {\"Algorithm\": \"Linear Learner\", \"Host\": \"algo-1\", \"Operation\": \"training\", \"epoch\": 12, \"model\": 0}, \"Metrics\": {\"validation_multiclass_cross_entropy_objective\": {\"sum\": 0.9108252310538077, \"count\": 1, \"min\": 0.9108252310538077, \"max\": 0.9108252310538077}}}\u001b[0m\n",
      "\u001b[34m#metrics {\"StartTime\": 1659362603.522098, \"EndTime\": 1659362603.5221198, \"Dimensions\": {\"Algorithm\": \"Linear Learner\", \"Host\": \"algo-1\", \"Operation\": \"training\", \"epoch\": 12, \"model\": 1}, \"Metrics\": {\"validation_multiclass_cross_entropy_objective\": {\"sum\": 0.8820520349451013, \"count\": 1, \"min\": 0.8820520349451013, \"max\": 0.8820520349451013}}}\u001b[0m\n",
      "\u001b[34m#metrics {\"StartTime\": 1659362603.5224428, \"EndTime\": 1659362603.522466, \"Dimensions\": {\"Algorithm\": \"Linear Learner\", \"Host\": \"algo-1\", \"Operation\": \"training\", \"epoch\": 12, \"model\": 2}, \"Metrics\": {\"validation_multiclass_cross_entropy_objective\": {\"sum\": 0.7874741425385346, \"count\": 1, \"min\": 0.7874741425385346, \"max\": 0.7874741425385346}}}\u001b[0m\n",
      "\u001b[34m#metrics {\"StartTime\": 1659362603.5225263, \"EndTime\": 1659362603.5225441, \"Dimensions\": {\"Algorithm\": \"Linear Learner\", \"Host\": \"algo-1\", \"Operation\": \"training\", \"epoch\": 12, \"model\": 3}, \"Metrics\": {\"validation_multiclass_cross_entropy_objective\": {\"sum\": 0.8325396701022312, \"count\": 1, \"min\": 0.8325396701022312, \"max\": 0.8325396701022312}}}\u001b[0m\n",
      "\u001b[34m#metrics {\"StartTime\": 1659362603.5226028, \"EndTime\": 1659362603.5226204, \"Dimensions\": {\"Algorithm\": \"Linear Learner\", \"Host\": \"algo-1\", \"Operation\": \"training\", \"epoch\": 12, \"model\": 4}, \"Metrics\": {\"validation_multiclass_cross_entropy_objective\": {\"sum\": 0.904331585308453, \"count\": 1, \"min\": 0.904331585308453, \"max\": 0.904331585308453}}}\u001b[0m\n",
      "\u001b[34m#metrics {\"StartTime\": 1659362603.5226748, \"EndTime\": 1659362603.5226927, \"Dimensions\": {\"Algorithm\": \"Linear Learner\", \"Host\": \"algo-1\", \"Operation\": \"training\", \"epoch\": 12, \"model\": 5}, \"Metrics\": {\"validation_multiclass_cross_entropy_objective\": {\"sum\": 0.8949262601835234, \"count\": 1, \"min\": 0.8949262601835234, \"max\": 0.8949262601835234}}}\u001b[0m\n",
      "\u001b[34m#metrics {\"StartTime\": 1659362603.522798, \"EndTime\": 1659362603.522819, \"Dimensions\": {\"Algorithm\": \"Linear Learner\", \"Host\": \"algo-1\", \"Operation\": \"training\", \"epoch\": 12, \"model\": 6}, \"Metrics\": {\"validation_multiclass_cross_entropy_objective\": {\"sum\": 0.8271030047992328, \"count\": 1, \"min\": 0.8271030047992328, \"max\": 0.8271030047992328}}}\u001b[0m\n",
      "\u001b[34m#metrics {\"StartTime\": 1659362603.5228772, \"EndTime\": 1659362603.5228946, \"Dimensions\": {\"Algorithm\": \"Linear Learner\", \"Host\": \"algo-1\", \"Operation\": \"training\", \"epoch\": 12, \"model\": 7}, \"Metrics\": {\"validation_multiclass_cross_entropy_objective\": {\"sum\": 0.9462568953230575, \"count\": 1, \"min\": 0.9462568953230575, \"max\": 0.9462568953230575}}}\u001b[0m\n",
      "\u001b[34m#metrics {\"StartTime\": 1659362603.5229478, \"EndTime\": 1659362603.5229642, \"Dimensions\": {\"Algorithm\": \"Linear Learner\", \"Host\": \"algo-1\", \"Operation\": \"training\", \"epoch\": 12, \"model\": 8}, \"Metrics\": {\"validation_multiclass_cross_entropy_objective\": {\"sum\": 0.6876294935071791, \"count\": 1, \"min\": 0.6876294935071791, \"max\": 0.6876294935071791}}}\u001b[0m\n",
      "\u001b[34m#metrics {\"StartTime\": 1659362603.5230386, \"EndTime\": 1659362603.5230577, \"Dimensions\": {\"Algorithm\": \"Linear Learner\", \"Host\": \"algo-1\", \"Operation\": \"training\", \"epoch\": 12, \"model\": 9}, \"Metrics\": {\"validation_multiclass_cross_entropy_objective\": {\"sum\": 0.9615854486688837, \"count\": 1, \"min\": 0.9615854486688837, \"max\": 0.9615854486688837}}}\u001b[0m\n",
      "\u001b[34m#metrics {\"StartTime\": 1659362603.523113, \"EndTime\": 1659362603.523131, \"Dimensions\": {\"Algorithm\": \"Linear Learner\", \"Host\": \"algo-1\", \"Operation\": \"training\", \"epoch\": 12, \"model\": 10}, \"Metrics\": {\"validation_multiclass_cross_entropy_objective\": {\"sum\": 0.9608302760768581, \"count\": 1, \"min\": 0.9608302760768581, \"max\": 0.9608302760768581}}}\u001b[0m\n",
      "\u001b[34m#metrics {\"StartTime\": 1659362603.5231843, \"EndTime\": 1659362603.5232008, \"Dimensions\": {\"Algorithm\": \"Linear Learner\", \"Host\": \"algo-1\", \"Operation\": \"training\", \"epoch\": 12, \"model\": 11}, \"Metrics\": {\"validation_multiclass_cross_entropy_objective\": {\"sum\": 0.715646692224451, \"count\": 1, \"min\": 0.715646692224451, \"max\": 0.715646692224451}}}\u001b[0m\n",
      "\u001b[34m[08/01/2022 14:03:23 INFO 139801523697472] #quality_metric: host=algo-1, epoch=12, validation multiclass_cross_entropy_objective <loss>=0.9108252310538077\u001b[0m\n",
      "\u001b[34m[08/01/2022 14:03:23 INFO 139801523697472] #early_stopping_criteria_metric: host=algo-1, epoch=12, criteria=multiclass_cross_entropy_objective, value=0.6876294935071791\u001b[0m\n",
      "\u001b[34m[08/01/2022 14:03:23 INFO 139801523697472] Epoch 12: Loss improved. Updating best model\u001b[0m\n",
      "\u001b[34m[08/01/2022 14:03:23 INFO 139801523697472] Saving model for epoch: 12\u001b[0m\n",
      "\u001b[34m[08/01/2022 14:03:23 INFO 139801523697472] Saved checkpoint to \"/tmp/tmp5sacmlot/mx-mod-0000.params\"\u001b[0m\n",
      "\u001b[34m[08/01/2022 14:03:23 INFO 139801523697472] #progress_metric: host=algo-1, completed 86.66666666666667 % of epochs\u001b[0m\n",
      "\u001b[34m#metrics {\"StartTime\": 1659362603.4624827, \"EndTime\": 1659362603.5361779, \"Dimensions\": {\"Algorithm\": \"Linear Learner\", \"Host\": \"algo-1\", \"Operation\": \"training\", \"epoch\": 12, \"Meta\": \"training_data_iter\"}, \"Metrics\": {\"Total Records Seen\": {\"sum\": 25864.0, \"count\": 1, \"min\": 25864, \"max\": 25864}, \"Total Batches Seen\": {\"sum\": 29.0, \"count\": 1, \"min\": 29, \"max\": 29}, \"Max Records Seen Between Resets\": {\"sum\": 1776.0, \"count\": 1, \"min\": 1776, \"max\": 1776}, \"Max Batches Seen Between Resets\": {\"sum\": 2.0, \"count\": 1, \"min\": 2, \"max\": 2}, \"Reset Count\": {\"sum\": 15.0, \"count\": 1, \"min\": 15, \"max\": 15}, \"Number of Records Since Last Reset\": {\"sum\": 1776.0, \"count\": 1, \"min\": 1776, \"max\": 1776}, \"Number of Batches Since Last Reset\": {\"sum\": 2.0, \"count\": 1, \"min\": 2, \"max\": 2}}}\u001b[0m\n",
      "\u001b[34m[08/01/2022 14:03:23 INFO 139801523697472] #throughput_metric: host=algo-1, train throughput=24053.822296276205 records/second\u001b[0m\n",
      "\u001b[34m[2022-08-01 14:03:23.585] [tensorio] [info] epoch_stats={\"data_pipeline\": \"/opt/ml/input/data/train\", \"epoch\": 30, \"duration\": 48, \"num_examples\": 2, \"num_bytes\": 92352}\u001b[0m\n",
      "\u001b[34m#metrics {\"StartTime\": 1659362603.5856192, \"EndTime\": 1659362603.58572, \"Dimensions\": {\"Algorithm\": \"Linear Learner\", \"Host\": \"algo-1\", \"Operation\": \"training\", \"epoch\": 13, \"model\": 0}, \"Metrics\": {\"train_multiclass_cross_entropy_objective\": {\"sum\": 0.9170615234375, \"count\": 1, \"min\": 0.9170615234375, \"max\": 0.9170615234375}}}\u001b[0m\n",
      "\u001b[34m#metrics {\"StartTime\": 1659362603.5858638, \"EndTime\": 1659362603.5858872, \"Dimensions\": {\"Algorithm\": \"Linear Learner\", \"Host\": \"algo-1\", \"Operation\": \"training\", \"epoch\": 13, \"model\": 1}, \"Metrics\": {\"train_multiclass_cross_entropy_objective\": {\"sum\": 0.890017822265625, \"count\": 1, \"min\": 0.890017822265625, \"max\": 0.890017822265625}}}\u001b[0m\n",
      "\u001b[34m#metrics {\"StartTime\": 1659362603.5859451, \"EndTime\": 1659362603.5859616, \"Dimensions\": {\"Algorithm\": \"Linear Learner\", \"Host\": \"algo-1\", \"Operation\": \"training\", \"epoch\": 13, \"model\": 2}, \"Metrics\": {\"train_multiclass_cross_entropy_objective\": {\"sum\": 0.8010418090820313, \"count\": 1, \"min\": 0.8010418090820313, \"max\": 0.8010418090820313}}}\u001b[0m\n",
      "\u001b[34m#metrics {\"StartTime\": 1659362603.5860126, \"EndTime\": 1659362603.5860288, \"Dimensions\": {\"Algorithm\": \"Linear Learner\", \"Host\": \"algo-1\", \"Operation\": \"training\", \"epoch\": 13, \"model\": 3}, \"Metrics\": {\"train_multiclass_cross_entropy_objective\": {\"sum\": 0.8416005249023437, \"count\": 1, \"min\": 0.8416005249023437, \"max\": 0.8416005249023437}}}\u001b[0m\n",
      "\u001b[34m#metrics {\"StartTime\": 1659362603.5860813, \"EndTime\": 1659362603.5860982, \"Dimensions\": {\"Algorithm\": \"Linear Learner\", \"Host\": \"algo-1\", \"Operation\": \"training\", \"epoch\": 13, \"model\": 4}, \"Metrics\": {\"train_multiclass_cross_entropy_objective\": {\"sum\": 0.911470703125, \"count\": 1, \"min\": 0.911470703125, \"max\": 0.911470703125}}}\u001b[0m\n",
      "\u001b[34m#metrics {\"StartTime\": 1659362603.5861506, \"EndTime\": 1659362603.586167, \"Dimensions\": {\"Algorithm\": \"Linear Learner\", \"Host\": \"algo-1\", \"Operation\": \"training\", \"epoch\": 13, \"model\": 5}, \"Metrics\": {\"train_multiclass_cross_entropy_objective\": {\"sum\": 0.901758544921875, \"count\": 1, \"min\": 0.901758544921875, \"max\": 0.901758544921875}}}\u001b[0m\n",
      "\u001b[34m#metrics {\"StartTime\": 1659362603.5862226, \"EndTime\": 1659362603.58626, \"Dimensions\": {\"Algorithm\": \"Linear Learner\", \"Host\": \"algo-1\", \"Operation\": \"training\", \"epoch\": 13, \"model\": 6}, \"Metrics\": {\"train_multiclass_cross_entropy_objective\": {\"sum\": 0.8414108276367187, \"count\": 1, \"min\": 0.8414108276367187, \"max\": 0.8414108276367187}}}\u001b[0m\n",
      "\u001b[34m#metrics {\"StartTime\": 1659362603.586315, \"EndTime\": 1659362603.5863318, \"Dimensions\": {\"Algorithm\": \"Linear Learner\", \"Host\": \"algo-1\", \"Operation\": \"training\", \"epoch\": 13, \"model\": 7}, \"Metrics\": {\"train_multiclass_cross_entropy_objective\": {\"sum\": 0.9520338134765625, \"count\": 1, \"min\": 0.9520338134765625, \"max\": 0.9520338134765625}}}\u001b[0m\n",
      "\u001b[34m#metrics {\"StartTime\": 1659362603.5863838, \"EndTime\": 1659362603.5864005, \"Dimensions\": {\"Algorithm\": \"Linear Learner\", \"Host\": \"algo-1\", \"Operation\": \"training\", \"epoch\": 13, \"model\": 8}, \"Metrics\": {\"train_multiclass_cross_entropy_objective\": {\"sum\": 0.7057743530273437, \"count\": 1, \"min\": 0.7057743530273437, \"max\": 0.7057743530273437}}}\u001b[0m\n",
      "\u001b[34m#metrics {\"StartTime\": 1659362603.5864515, \"EndTime\": 1659362603.5864677, \"Dimensions\": {\"Algorithm\": \"Linear Learner\", \"Host\": \"algo-1\", \"Operation\": \"training\", \"epoch\": 13, \"model\": 9}, \"Metrics\": {\"train_multiclass_cross_entropy_objective\": {\"sum\": 0.994546630859375, \"count\": 1, \"min\": 0.994546630859375, \"max\": 0.994546630859375}}}\u001b[0m\n",
      "\u001b[34m#metrics {\"StartTime\": 1659362603.5865219, \"EndTime\": 1659362603.586538, \"Dimensions\": {\"Algorithm\": \"Linear Learner\", \"Host\": \"algo-1\", \"Operation\": \"training\", \"epoch\": 13, \"model\": 10}, \"Metrics\": {\"train_multiclass_cross_entropy_objective\": {\"sum\": 0.9672753295898437, \"count\": 1, \"min\": 0.9672753295898437, \"max\": 0.9672753295898437}}}\u001b[0m\n",
      "\u001b[34m#metrics {\"StartTime\": 1659362603.5865893, \"EndTime\": 1659362603.5866058, \"Dimensions\": {\"Algorithm\": \"Linear Learner\", \"Host\": \"algo-1\", \"Operation\": \"training\", \"epoch\": 13, \"model\": 11}, \"Metrics\": {\"train_multiclass_cross_entropy_objective\": {\"sum\": 0.7346845092773437, \"count\": 1, \"min\": 0.7346845092773437, \"max\": 0.7346845092773437}}}\u001b[0m\n",
      "\u001b[34m[08/01/2022 14:03:23 INFO 139801523697472] #quality_metric: host=algo-1, epoch=13, train multiclass_cross_entropy_objective <loss>=0.9170615234375\u001b[0m\n",
      "\u001b[34m[2022-08-01 14:03:23.636] [tensorio] [info] epoch_stats={\"data_pipeline\": \"/opt/ml/input/data/validation\", \"epoch\": 41, \"duration\": 18, \"num_examples\": 1, \"num_bytes\": 11544}\u001b[0m\n",
      "\u001b[34m#metrics {\"StartTime\": 1659362603.6393728, \"EndTime\": 1659362603.6394413, \"Dimensions\": {\"Algorithm\": \"Linear Learner\", \"Host\": \"algo-1\", \"Operation\": \"training\", \"epoch\": 13, \"model\": 0}, \"Metrics\": {\"validation_multiclass_cross_entropy_objective\": {\"sum\": 0.9007824734524563, \"count\": 1, \"min\": 0.9007824734524563, \"max\": 0.9007824734524563}}}\u001b[0m\n",
      "\u001b[34m#metrics {\"StartTime\": 1659362603.6404428, \"EndTime\": 1659362603.6404724, \"Dimensions\": {\"Algorithm\": \"Linear Learner\", \"Host\": \"algo-1\", \"Operation\": \"training\", \"epoch\": 13, \"model\": 1}, \"Metrics\": {\"validation_multiclass_cross_entropy_objective\": {\"sum\": 0.8710235045836853, \"count\": 1, \"min\": 0.8710235045836853, \"max\": 0.8710235045836853}}}\u001b[0m\n",
      "\u001b[34m#metrics {\"StartTime\": 1659362603.6405451, \"EndTime\": 1659362603.6405644, \"Dimensions\": {\"Algorithm\": \"Linear Learner\", \"Host\": \"algo-1\", \"Operation\": \"training\", \"epoch\": 13, \"model\": 2}, \"Metrics\": {\"validation_multiclass_cross_entropy_objective\": {\"sum\": 0.7801455935916385, \"count\": 1, \"min\": 0.7801455935916385, \"max\": 0.7801455935916385}}}\u001b[0m\n",
      "\u001b[34m#metrics {\"StartTime\": 1659362603.6406238, \"EndTime\": 1659362603.640639, \"Dimensions\": {\"Algorithm\": \"Linear Learner\", \"Host\": \"algo-1\", \"Operation\": \"training\", \"epoch\": 13, \"model\": 3}, \"Metrics\": {\"validation_multiclass_cross_entropy_objective\": {\"sum\": 0.8227114978137317, \"count\": 1, \"min\": 0.8227114978137317, \"max\": 0.8227114978137317}}}\u001b[0m\n",
      "\u001b[34m#metrics {\"StartTime\": 1659362603.6406932, \"EndTime\": 1659362603.640711, \"Dimensions\": {\"Algorithm\": \"Linear Learner\", \"Host\": \"algo-1\", \"Operation\": \"training\", \"epoch\": 13, \"model\": 4}, \"Metrics\": {\"validation_multiclass_cross_entropy_objective\": {\"sum\": 0.8925252003712697, \"count\": 1, \"min\": 0.8925252003712697, \"max\": 0.8925252003712697}}}\u001b[0m\n",
      "\u001b[34m#metrics {\"StartTime\": 1659362603.6407657, \"EndTime\": 1659362603.6407795, \"Dimensions\": {\"Algorithm\": \"Linear Learner\", \"Host\": \"algo-1\", \"Operation\": \"training\", \"epoch\": 13, \"model\": 5}, \"Metrics\": {\"validation_multiclass_cross_entropy_objective\": {\"sum\": 0.8877381333359727, \"count\": 1, \"min\": 0.8877381333359727, \"max\": 0.8877381333359727}}}\u001b[0m\n",
      "\u001b[34m#metrics {\"StartTime\": 1659362603.6408322, \"EndTime\": 1659362603.6408486, \"Dimensions\": {\"Algorithm\": \"Linear Learner\", \"Host\": \"algo-1\", \"Operation\": \"training\", \"epoch\": 13, \"model\": 6}, \"Metrics\": {\"validation_multiclass_cross_entropy_objective\": {\"sum\": 0.8262692013302365, \"count\": 1, \"min\": 0.8262692013302365, \"max\": 0.8262692013302365}}}\u001b[0m\n",
      "\u001b[34m#metrics {\"StartTime\": 1659362603.6409261, \"EndTime\": 1659362603.6409438, \"Dimensions\": {\"Algorithm\": \"Linear Learner\", \"Host\": \"algo-1\", \"Operation\": \"training\", \"epoch\": 13, \"model\": 7}, \"Metrics\": {\"validation_multiclass_cross_entropy_objective\": {\"sum\": 0.937435734379399, \"count\": 1, \"min\": 0.937435734379399, \"max\": 0.937435734379399}}}\u001b[0m\n",
      "\u001b[34m#metrics {\"StartTime\": 1659362603.6410007, \"EndTime\": 1659362603.6410177, \"Dimensions\": {\"Algorithm\": \"Linear Learner\", \"Host\": \"algo-1\", \"Operation\": \"training\", \"epoch\": 13, \"model\": 8}, \"Metrics\": {\"validation_multiclass_cross_entropy_objective\": {\"sum\": 0.6832418355855856, \"count\": 1, \"min\": 0.6832418355855856, \"max\": 0.6832418355855856}}}\u001b[0m\n",
      "\u001b[34m#metrics {\"StartTime\": 1659362603.6410713, \"EndTime\": 1659362603.6410878, \"Dimensions\": {\"Algorithm\": \"Linear Learner\", \"Host\": \"algo-1\", \"Operation\": \"training\", \"epoch\": 13, \"model\": 9}, \"Metrics\": {\"validation_multiclass_cross_entropy_objective\": {\"sum\": 0.7841880042273719, \"count\": 1, \"min\": 0.7841880042273719, \"max\": 0.7841880042273719}}}\u001b[0m\n",
      "\u001b[34m#metrics {\"StartTime\": 1659362603.6411393, \"EndTime\": 1659362603.6411552, \"Dimensions\": {\"Algorithm\": \"Linear Learner\", \"Host\": \"algo-1\", \"Operation\": \"training\", \"epoch\": 13, \"model\": 10}, \"Metrics\": {\"validation_multiclass_cross_entropy_objective\": {\"sum\": 0.9531310485289978, \"count\": 1, \"min\": 0.9531310485289978, \"max\": 0.9531310485289978}}}\u001b[0m\n",
      "\u001b[34m#metrics {\"StartTime\": 1659362603.6412067, \"EndTime\": 1659362603.6412227, \"Dimensions\": {\"Algorithm\": \"Linear Learner\", \"Host\": \"algo-1\", \"Operation\": \"training\", \"epoch\": 13, \"model\": 11}, \"Metrics\": {\"validation_multiclass_cross_entropy_objective\": {\"sum\": 0.7147295840151675, \"count\": 1, \"min\": 0.7147295840151675, \"max\": 0.7147295840151675}}}\u001b[0m\n",
      "\u001b[34m[08/01/2022 14:03:23 INFO 139801523697472] #quality_metric: host=algo-1, epoch=13, validation multiclass_cross_entropy_objective <loss>=0.9007824734524563\u001b[0m\n",
      "\u001b[34m[08/01/2022 14:03:23 INFO 139801523697472] #early_stopping_criteria_metric: host=algo-1, epoch=13, criteria=multiclass_cross_entropy_objective, value=0.6832418355855856\u001b[0m\n",
      "\u001b[34m[08/01/2022 14:03:23 INFO 139801523697472] Epoch 13: Loss improved. Updating best model\u001b[0m\n",
      "\u001b[34m[08/01/2022 14:03:23 INFO 139801523697472] Saving model for epoch: 13\u001b[0m\n",
      "\u001b[34m[08/01/2022 14:03:23 INFO 139801523697472] Saved checkpoint to \"/tmp/tmpmpea3iyw/mx-mod-0000.params\"\u001b[0m\n",
      "\u001b[34m[08/01/2022 14:03:23 INFO 139801523697472] #progress_metric: host=algo-1, completed 93.33333333333333 % of epochs\u001b[0m\n",
      "\u001b[34m#metrics {\"StartTime\": 1659362603.53652, \"EndTime\": 1659362603.6559458, \"Dimensions\": {\"Algorithm\": \"Linear Learner\", \"Host\": \"algo-1\", \"Operation\": \"training\", \"epoch\": 13, \"Meta\": \"training_data_iter\"}, \"Metrics\": {\"Total Records Seen\": {\"sum\": 27640.0, \"count\": 1, \"min\": 27640, \"max\": 27640}, \"Total Batches Seen\": {\"sum\": 31.0, \"count\": 1, \"min\": 31, \"max\": 31}, \"Max Records Seen Between Resets\": {\"sum\": 1776.0, \"count\": 1, \"min\": 1776, \"max\": 1776}, \"Max Batches Seen Between Resets\": {\"sum\": 2.0, \"count\": 1, \"min\": 2, \"max\": 2}, \"Reset Count\": {\"sum\": 16.0, \"count\": 1, \"min\": 16, \"max\": 16}, \"Number of Records Since Last Reset\": {\"sum\": 1776.0, \"count\": 1, \"min\": 1776, \"max\": 1776}, \"Number of Batches Since Last Reset\": {\"sum\": 2.0, \"count\": 1, \"min\": 2, \"max\": 2}}}\u001b[0m\n",
      "\u001b[34m[08/01/2022 14:03:23 INFO 139801523697472] #throughput_metric: host=algo-1, train throughput=14852.481574676296 records/second\u001b[0m\n",
      "\u001b[34m[2022-08-01 14:03:23.692] [tensorio] [info] epoch_stats={\"data_pipeline\": \"/opt/ml/input/data/train\", \"epoch\": 32, \"duration\": 36, \"num_examples\": 2, \"num_bytes\": 92352}\u001b[0m\n",
      "\u001b[34m#metrics {\"StartTime\": 1659362603.6928895, \"EndTime\": 1659362603.6929529, \"Dimensions\": {\"Algorithm\": \"Linear Learner\", \"Host\": \"algo-1\", \"Operation\": \"training\", \"epoch\": 14, \"model\": 0}, \"Metrics\": {\"train_multiclass_cross_entropy_objective\": {\"sum\": 0.9072907104492187, \"count\": 1, \"min\": 0.9072907104492187, \"max\": 0.9072907104492187}}}\u001b[0m\n",
      "\u001b[34m#metrics {\"StartTime\": 1659362603.693068, \"EndTime\": 1659362603.6931164, \"Dimensions\": {\"Algorithm\": \"Linear Learner\", \"Host\": \"algo-1\", \"Operation\": \"training\", \"epoch\": 14, \"model\": 1}, \"Metrics\": {\"train_multiclass_cross_entropy_objective\": {\"sum\": 0.8793280029296875, \"count\": 1, \"min\": 0.8793280029296875, \"max\": 0.8793280029296875}}}\u001b[0m\n",
      "\u001b[34m#metrics {\"StartTime\": 1659362603.693187, \"EndTime\": 1659362603.6932073, \"Dimensions\": {\"Algorithm\": \"Linear Learner\", \"Host\": \"algo-1\", \"Operation\": \"training\", \"epoch\": 14, \"model\": 2}, \"Metrics\": {\"train_multiclass_cross_entropy_objective\": {\"sum\": 0.7944518432617188, \"count\": 1, \"min\": 0.7944518432617188, \"max\": 0.7944518432617188}}}\u001b[0m\n",
      "\u001b[34m#metrics {\"StartTime\": 1659362603.693304, \"EndTime\": 1659362603.6933255, \"Dimensions\": {\"Algorithm\": \"Linear Learner\", \"Host\": \"algo-1\", \"Operation\": \"training\", \"epoch\": 14, \"model\": 3}, \"Metrics\": {\"train_multiclass_cross_entropy_objective\": {\"sum\": 0.8320138549804688, \"count\": 1, \"min\": 0.8320138549804688, \"max\": 0.8320138549804688}}}\u001b[0m\n",
      "\u001b[34m#metrics {\"StartTime\": 1659362603.6934175, \"EndTime\": 1659362603.6934373, \"Dimensions\": {\"Algorithm\": \"Linear Learner\", \"Host\": \"algo-1\", \"Operation\": \"training\", \"epoch\": 14, \"model\": 4}, \"Metrics\": {\"train_multiclass_cross_entropy_objective\": {\"sum\": 0.8999974975585937, \"count\": 1, \"min\": 0.8999974975585937, \"max\": 0.8999974975585937}}}\u001b[0m\n",
      "\u001b[34m#metrics {\"StartTime\": 1659362603.693496, \"EndTime\": 1659362603.693515, \"Dimensions\": {\"Algorithm\": \"Linear Learner\", \"Host\": \"algo-1\", \"Operation\": \"training\", \"epoch\": 14, \"model\": 5}, \"Metrics\": {\"train_multiclass_cross_entropy_objective\": {\"sum\": 0.8945975341796875, \"count\": 1, \"min\": 0.8945975341796875, \"max\": 0.8945975341796875}}}\u001b[0m\n",
      "\u001b[34m#metrics {\"StartTime\": 1659362603.693609, \"EndTime\": 1659362603.6936293, \"Dimensions\": {\"Algorithm\": \"Linear Learner\", \"Host\": \"algo-1\", \"Operation\": \"training\", \"epoch\": 14, \"model\": 6}, \"Metrics\": {\"train_multiclass_cross_entropy_objective\": {\"sum\": 0.8393883666992188, \"count\": 1, \"min\": 0.8393883666992188, \"max\": 0.8393883666992188}}}\u001b[0m\n",
      "\u001b[34m#metrics {\"StartTime\": 1659362603.6937172, \"EndTime\": 1659362603.6937373, \"Dimensions\": {\"Algorithm\": \"Linear Learner\", \"Host\": \"algo-1\", \"Operation\": \"training\", \"epoch\": 14, \"model\": 7}, \"Metrics\": {\"train_multiclass_cross_entropy_objective\": {\"sum\": 0.9432586059570313, \"count\": 1, \"min\": 0.9432586059570313, \"max\": 0.9432586059570313}}}\u001b[0m\n",
      "\u001b[34m#metrics {\"StartTime\": 1659362603.6938293, \"EndTime\": 1659362603.6938481, \"Dimensions\": {\"Algorithm\": \"Linear Learner\", \"Host\": \"algo-1\", \"Operation\": \"training\", \"epoch\": 14, \"model\": 8}, \"Metrics\": {\"train_multiclass_cross_entropy_objective\": {\"sum\": 0.702761474609375, \"count\": 1, \"min\": 0.702761474609375, \"max\": 0.702761474609375}}}\u001b[0m\n",
      "\u001b[34m#metrics {\"StartTime\": 1659362603.693902, \"EndTime\": 1659362603.6939535, \"Dimensions\": {\"Algorithm\": \"Linear Learner\", \"Host\": \"algo-1\", \"Operation\": \"training\", \"epoch\": 14, \"model\": 9}, \"Metrics\": {\"train_multiclass_cross_entropy_objective\": {\"sum\": 0.8147272338867187, \"count\": 1, \"min\": 0.8147272338867187, \"max\": 0.8147272338867187}}}\u001b[0m\n",
      "\u001b[34m#metrics {\"StartTime\": 1659362603.6940434, \"EndTime\": 1659362603.6940632, \"Dimensions\": {\"Algorithm\": \"Linear Learner\", \"Host\": \"algo-1\", \"Operation\": \"training\", \"epoch\": 14, \"model\": 10}, \"Metrics\": {\"train_multiclass_cross_entropy_objective\": {\"sum\": 0.9598355102539062, \"count\": 1, \"min\": 0.9598355102539062, \"max\": 0.9598355102539062}}}\u001b[0m\n",
      "\u001b[34m#metrics {\"StartTime\": 1659362603.6941183, \"EndTime\": 1659362603.694261, \"Dimensions\": {\"Algorithm\": \"Linear Learner\", \"Host\": \"algo-1\", \"Operation\": \"training\", \"epoch\": 14, \"model\": 11}, \"Metrics\": {\"train_multiclass_cross_entropy_objective\": {\"sum\": 0.7322227783203125, \"count\": 1, \"min\": 0.7322227783203125, \"max\": 0.7322227783203125}}}\u001b[0m\n",
      "\u001b[34m[08/01/2022 14:03:23 INFO 139801523697472] #quality_metric: host=algo-1, epoch=14, train multiclass_cross_entropy_objective <loss>=0.9072907104492187\u001b[0m\n",
      "\u001b[34m[2022-08-01 14:03:23.723] [tensorio] [info] epoch_stats={\"data_pipeline\": \"/opt/ml/input/data/validation\", \"epoch\": 44, \"duration\": 17, \"num_examples\": 1, \"num_bytes\": 11544}\u001b[0m\n",
      "\u001b[34m#metrics {\"StartTime\": 1659362603.7275465, \"EndTime\": 1659362603.7276068, \"Dimensions\": {\"Algorithm\": \"Linear Learner\", \"Host\": \"algo-1\", \"Operation\": \"training\", \"epoch\": 14, \"model\": 0}, \"Metrics\": {\"validation_multiclass_cross_entropy_objective\": {\"sum\": 0.8905522801854588, \"count\": 1, \"min\": 0.8905522801854588, \"max\": 0.8905522801854588}}}\u001b[0m\n",
      "\u001b[34m#metrics {\"StartTime\": 1659362603.727686, \"EndTime\": 1659362603.7277079, \"Dimensions\": {\"Algorithm\": \"Linear Learner\", \"Host\": \"algo-1\", \"Operation\": \"training\", \"epoch\": 14, \"model\": 1}, \"Metrics\": {\"validation_multiclass_cross_entropy_objective\": {\"sum\": 0.8593943140528224, \"count\": 1, \"min\": 0.8593943140528224, \"max\": 0.8593943140528224}}}\u001b[0m\n",
      "\u001b[34m#metrics {\"StartTime\": 1659362603.7277722, \"EndTime\": 1659362603.7277906, \"Dimensions\": {\"Algorithm\": \"Linear Learner\", \"Host\": \"algo-1\", \"Operation\": \"training\", \"epoch\": 14, \"model\": 2}, \"Metrics\": {\"validation_multiclass_cross_entropy_objective\": {\"sum\": 0.7685393599776534, \"count\": 1, \"min\": 0.7685393599776534, \"max\": 0.7685393599776534}}}\u001b[0m\n",
      "\u001b[34m#metrics {\"StartTime\": 1659362603.727852, \"EndTime\": 1659362603.7278702, \"Dimensions\": {\"Algorithm\": \"Linear Learner\", \"Host\": \"algo-1\", \"Operation\": \"training\", \"epoch\": 14, \"model\": 3}, \"Metrics\": {\"validation_multiclass_cross_entropy_objective\": {\"sum\": 0.8112817025399423, \"count\": 1, \"min\": 0.8112817025399423, \"max\": 0.8112817025399423}}}\u001b[0m\n",
      "\u001b[34m#metrics {\"StartTime\": 1659362603.7279282, \"EndTime\": 1659362603.7279463, \"Dimensions\": {\"Algorithm\": \"Linear Learner\", \"Host\": \"algo-1\", \"Operation\": \"training\", \"epoch\": 14, \"model\": 4}, \"Metrics\": {\"validation_multiclass_cross_entropy_objective\": {\"sum\": 0.8814151523349522, \"count\": 1, \"min\": 0.8814151523349522, \"max\": 0.8814151523349522}}}\u001b[0m\n",
      "\u001b[34m#metrics {\"StartTime\": 1659362603.7280016, \"EndTime\": 1659362603.7280192, \"Dimensions\": {\"Algorithm\": \"Linear Learner\", \"Host\": \"algo-1\", \"Operation\": \"training\", \"epoch\": 14, \"model\": 5}, \"Metrics\": {\"validation_multiclass_cross_entropy_objective\": {\"sum\": 0.880560522680884, \"count\": 1, \"min\": 0.880560522680884, \"max\": 0.880560522680884}}}\u001b[0m\n",
      "\u001b[34m#metrics {\"StartTime\": 1659362603.728074, \"EndTime\": 1659362603.7280915, \"Dimensions\": {\"Algorithm\": \"Linear Learner\", \"Host\": \"algo-1\", \"Operation\": \"training\", \"epoch\": 14, \"model\": 6}, \"Metrics\": {\"validation_multiclass_cross_entropy_objective\": {\"sum\": 0.8240079450177716, \"count\": 1, \"min\": 0.8240079450177716, \"max\": 0.8240079450177716}}}\u001b[0m\n",
      "\u001b[34m#metrics {\"StartTime\": 1659362603.7281468, \"EndTime\": 1659362603.728164, \"Dimensions\": {\"Algorithm\": \"Linear Learner\", \"Host\": \"algo-1\", \"Operation\": \"training\", \"epoch\": 14, \"model\": 7}, \"Metrics\": {\"validation_multiclass_cross_entropy_objective\": {\"sum\": 0.9287912179757883, \"count\": 1, \"min\": 0.9287912179757883, \"max\": 0.9287912179757883}}}\u001b[0m\n",
      "\u001b[34m#metrics {\"StartTime\": 1659362603.7282164, \"EndTime\": 1659362603.7282329, \"Dimensions\": {\"Algorithm\": \"Linear Learner\", \"Host\": \"algo-1\", \"Operation\": \"training\", \"epoch\": 14, \"model\": 8}, \"Metrics\": {\"validation_multiclass_cross_entropy_objective\": {\"sum\": 0.679933771356806, \"count\": 1, \"min\": 0.679933771356806, \"max\": 0.679933771356806}}}\u001b[0m\n",
      "\u001b[34m#metrics {\"StartTime\": 1659362603.728286, \"EndTime\": 1659362603.7283037, \"Dimensions\": {\"Algorithm\": \"Linear Learner\", \"Host\": \"algo-1\", \"Operation\": \"training\", \"epoch\": 14, \"model\": 9}, \"Metrics\": {\"validation_multiclass_cross_entropy_objective\": {\"sum\": 0.8714913033150338, \"count\": 1, \"min\": 0.8714913033150338, \"max\": 0.8714913033150338}}}\u001b[0m\n",
      "\u001b[34m#metrics {\"StartTime\": 1659362603.728358, \"EndTime\": 1659362603.7283764, \"Dimensions\": {\"Algorithm\": \"Linear Learner\", \"Host\": \"algo-1\", \"Operation\": \"training\", \"epoch\": 14, \"model\": 10}, \"Metrics\": {\"validation_multiclass_cross_entropy_objective\": {\"sum\": 0.9456884710638372, \"count\": 1, \"min\": 0.9456884710638372, \"max\": 0.9456884710638372}}}\u001b[0m\n",
      "\u001b[34m#metrics {\"StartTime\": 1659362603.7284322, \"EndTime\": 1659362603.7284482, \"Dimensions\": {\"Algorithm\": \"Linear Learner\", \"Host\": \"algo-1\", \"Operation\": \"training\", \"epoch\": 14, \"model\": 11}, \"Metrics\": {\"validation_multiclass_cross_entropy_objective\": {\"sum\": 0.7118841635214316, \"count\": 1, \"min\": 0.7118841635214316, \"max\": 0.7118841635214316}}}\u001b[0m\n",
      "\u001b[34m[08/01/2022 14:03:23 INFO 139801523697472] #quality_metric: host=algo-1, epoch=14, validation multiclass_cross_entropy_objective <loss>=0.8905522801854588\u001b[0m\n",
      "\u001b[34m[08/01/2022 14:03:23 INFO 139801523697472] #early_stopping_criteria_metric: host=algo-1, epoch=14, criteria=multiclass_cross_entropy_objective, value=0.679933771356806\u001b[0m\n",
      "\u001b[34m[08/01/2022 14:03:23 INFO 139801523697472] Epoch 14: Loss improved. Updating best model\u001b[0m\n",
      "\u001b[34m[08/01/2022 14:03:23 INFO 139801523697472] Saving model for epoch: 14\u001b[0m\n",
      "\u001b[34m[08/01/2022 14:03:23 INFO 139801523697472] Saved checkpoint to \"/tmp/tmp54rqdnk6/mx-mod-0000.params\"\u001b[0m\n",
      "\u001b[34m[08/01/2022 14:03:23 INFO 139801523697472] #progress_metric: host=algo-1, completed 100.0 % of epochs\u001b[0m\n",
      "\u001b[34m#metrics {\"StartTime\": 1659362603.6562774, \"EndTime\": 1659362603.7704384, \"Dimensions\": {\"Algorithm\": \"Linear Learner\", \"Host\": \"algo-1\", \"Operation\": \"training\", \"epoch\": 14, \"Meta\": \"training_data_iter\"}, \"Metrics\": {\"Total Records Seen\": {\"sum\": 29416.0, \"count\": 1, \"min\": 29416, \"max\": 29416}, \"Total Batches Seen\": {\"sum\": 33.0, \"count\": 1, \"min\": 33, \"max\": 33}, \"Max Records Seen Between Resets\": {\"sum\": 1776.0, \"count\": 1, \"min\": 1776, \"max\": 1776}, \"Max Batches Seen Between Resets\": {\"sum\": 2.0, \"count\": 1, \"min\": 2, \"max\": 2}, \"Reset Count\": {\"sum\": 17.0, \"count\": 1, \"min\": 17, \"max\": 17}, \"Number of Records Since Last Reset\": {\"sum\": 1776.0, \"count\": 1, \"min\": 1776, \"max\": 1776}, \"Number of Batches Since Last Reset\": {\"sum\": 2.0, \"count\": 1, \"min\": 2, \"max\": 2}}}\u001b[0m\n",
      "\u001b[34m[08/01/2022 14:03:23 INFO 139801523697472] #throughput_metric: host=algo-1, train throughput=15492.58740141759 records/second\u001b[0m\n",
      "\u001b[34m[08/01/2022 14:03:23 WARNING 139801523697472] wait_for_all_workers will not sync workers since the kv store is not running distributed\u001b[0m\n",
      "\u001b[34m[08/01/2022 14:03:23 WARNING 139801523697472] wait_for_all_workers will not sync workers since the kv store is not running distributed\u001b[0m\n",
      "\u001b[34m[2022-08-01 14:03:23.836] [tensorio] [info] epoch_stats={\"data_pipeline\": \"/opt/ml/input/data/validation\", \"epoch\": 47, \"duration\": 52, \"num_examples\": 1, \"num_bytes\": 11544}\u001b[0m\n",
      "\u001b[34m[08/01/2022 14:03:23 INFO 139801523697472] #early_stopping_criteria_metric: host=algo-1, epoch=14, criteria=multiclass_cross_entropy_objective, value=0.679933771356806\u001b[0m\n",
      "\u001b[34m[2022-08-01 14:03:23.868] [tensorio] [info] epoch_stats={\"data_pipeline\": \"/opt/ml/input/data/validation\", \"epoch\": 49, \"duration\": 17, \"num_examples\": 1, \"num_bytes\": 11544}\u001b[0m\n",
      "\u001b[34m[08/01/2022 14:03:23 INFO 139801523697472] #validation_score (algo-1) : ('multiclass_cross_entropy_objective', 0.679933771356806)\u001b[0m\n",
      "\u001b[34m[08/01/2022 14:03:23 INFO 139801523697472] #validation_score (algo-1) : ('multiclass_accuracy', 0.8018018018018018)\u001b[0m\n",
      "\u001b[34m[08/01/2022 14:03:23 INFO 139801523697472] #validation_score (algo-1) : ('multiclass_top_k_accuracy_3', 1.0)\u001b[0m\n",
      "\u001b[34m[08/01/2022 14:03:23 INFO 139801523697472] #validation_score (algo-1) : ('dcg', 0.916824821953301)\u001b[0m\n",
      "\u001b[34m[08/01/2022 14:03:23 INFO 139801523697472] #validation_score (algo-1) : ('macro_recall', 0.8032333)\u001b[0m\n",
      "\u001b[34m[08/01/2022 14:03:23 INFO 139801523697472] #validation_score (algo-1) : ('macro_precision', 0.80768627)\u001b[0m\n",
      "\u001b[34m[08/01/2022 14:03:23 INFO 139801523697472] #validation_score (algo-1) : ('macro_f_1.000', 0.8033984)\u001b[0m\n",
      "\u001b[34m[08/01/2022 14:03:23 INFO 139801523697472] #validation_score (algo-1) : ('multiclass_balanced_accuracy', 0.8032332856758865)\u001b[0m\n",
      "\u001b[34m[08/01/2022 14:03:23 INFO 139801523697472] #validation_score (algo-1) : ('multiclass_log_loss', 0.8713880263932385)\u001b[0m\n",
      "\u001b[34m[08/01/2022 14:03:23 INFO 139801523697472] #quality_metric: host=algo-1, validation multiclass_cross_entropy_objective <loss>=0.679933771356806\u001b[0m\n",
      "\u001b[34m[08/01/2022 14:03:23 INFO 139801523697472] #quality_metric: host=algo-1, validation multiclass_accuracy <score>=0.8018018018018018\u001b[0m\n",
      "\u001b[34m[08/01/2022 14:03:23 INFO 139801523697472] #quality_metric: host=algo-1, validation multiclass_top_k_accuracy_3 <score>=1.0\u001b[0m\n",
      "\u001b[34m[08/01/2022 14:03:23 INFO 139801523697472] #quality_metric: host=algo-1, validation dcg <score>=0.916824821953301\u001b[0m\n",
      "\u001b[34m[08/01/2022 14:03:23 INFO 139801523697472] #quality_metric: host=algo-1, validation macro_recall <score>=0.8032333254814148\u001b[0m\n",
      "\u001b[34m[08/01/2022 14:03:23 INFO 139801523697472] #quality_metric: host=algo-1, validation macro_precision <score>=0.8076862692832947\u001b[0m\n",
      "\u001b[34m[08/01/2022 14:03:23 INFO 139801523697472] #quality_metric: host=algo-1, validation macro_f_1.000 <score>=0.8033983707427979\u001b[0m\n",
      "\u001b[34m[08/01/2022 14:03:23 INFO 139801523697472] #quality_metric: host=algo-1, validation multiclass_balanced_accuracy <score>=0.8032332856758865\u001b[0m\n",
      "\u001b[34m[08/01/2022 14:03:23 INFO 139801523697472] #quality_metric: host=algo-1, validation multiclass_log_loss <score>=0.8713880263932385\u001b[0m\n",
      "\u001b[34m[08/01/2022 14:03:23 INFO 139801523697472] Best model found for hyperparameters: {\"optimizer\": \"adam\", \"learning_rate\": 0.10200995219090397, \"l1\": 0.10587917499153388, \"wd\": 0.011994309302164696, \"lr_scheduler_step\": 52, \"lr_scheduler_factor\": 0.9835865984378375, \"lr_scheduler_minimum_lr\": 2.597459914786608e-06}\u001b[0m\n",
      "\u001b[34m[08/01/2022 14:03:23 INFO 139801523697472] Saved checkpoint to \"/tmp/tmp27_1l66d/mx-mod-0000.params\"\u001b[0m\n",
      "\u001b[34m[2022-08-01 14:03:23.927] [tensorio] [info] epoch_stats={\"data_pipeline\": \"/opt/ml/input/data/test\", \"epoch\": 0, \"duration\": 1579, \"num_examples\": 1, \"num_bytes\": 11544}\u001b[0m\n",
      "\u001b[34m[2022-08-01 14:03:24.005] [tensorio] [info] epoch_stats={\"data_pipeline\": \"/opt/ml/input/data/test\", \"epoch\": 1, \"duration\": 77, \"num_examples\": 1, \"num_bytes\": 11544}\u001b[0m\n",
      "\u001b[34m#metrics {\"StartTime\": 1659362603.9273076, \"EndTime\": 1659362604.0591094, \"Dimensions\": {\"Algorithm\": \"Linear Learner\", \"Host\": \"algo-1\", \"Operation\": \"training\", \"Meta\": \"test_data_iter\"}, \"Metrics\": {\"Total Records Seen\": {\"sum\": 222.0, \"count\": 1, \"min\": 222, \"max\": 222}, \"Total Batches Seen\": {\"sum\": 1.0, \"count\": 1, \"min\": 1, \"max\": 1}, \"Max Records Seen Between Resets\": {\"sum\": 222.0, \"count\": 1, \"min\": 222, \"max\": 222}, \"Max Batches Seen Between Resets\": {\"sum\": 1.0, \"count\": 1, \"min\": 1, \"max\": 1}, \"Reset Count\": {\"sum\": 1.0, \"count\": 1, \"min\": 1, \"max\": 1}, \"Number of Records Since Last Reset\": {\"sum\": 222.0, \"count\": 1, \"min\": 222, \"max\": 222}, \"Number of Batches Since Last Reset\": {\"sum\": 1.0, \"count\": 1, \"min\": 1, \"max\": 1}}}\u001b[0m\n",
      "\u001b[34m[08/01/2022 14:03:24 INFO 139801523697472] #test_score (algo-1) : ('multiclass_cross_entropy_objective', 0.8117860673784135)\u001b[0m\n",
      "\u001b[34m[08/01/2022 14:03:24 INFO 139801523697472] #test_score (algo-1) : ('multiclass_accuracy', 0.7207207207207207)\u001b[0m\n",
      "\u001b[34m[08/01/2022 14:03:24 INFO 139801523697472] #test_score (algo-1) : ('multiclass_top_k_accuracy_3', 1.0)\u001b[0m\n",
      "\u001b[34m[08/01/2022 14:03:24 INFO 139801523697472] #test_score (algo-1) : ('dcg', 0.8821820095852688)\u001b[0m\n",
      "\u001b[34m[08/01/2022 14:03:24 INFO 139801523697472] #test_score (algo-1) : ('macro_recall', 0.7169678)\u001b[0m\n",
      "\u001b[34m[08/01/2022 14:03:24 INFO 139801523697472] #test_score (algo-1) : ('macro_precision', 0.7299402)\u001b[0m\n",
      "\u001b[34m[08/01/2022 14:03:24 INFO 139801523697472] #test_score (algo-1) : ('macro_f_1.000', 0.7183555)\u001b[0m\n",
      "\u001b[34m[08/01/2022 14:03:24 INFO 139801523697472] #test_score (algo-1) : ('multiclass_balanced_accuracy', 0.7169678147939017)\u001b[0m\n",
      "\u001b[34m[08/01/2022 14:03:24 INFO 139801523697472] #test_score (algo-1) : ('multiclass_log_loss', 0.9070928323188799)\u001b[0m\n",
      "\u001b[34m[08/01/2022 14:03:24 INFO 139801523697472] #quality_metric: host=algo-1, test multiclass_cross_entropy_objective <loss>=0.8117860673784135\u001b[0m\n",
      "\u001b[34m[08/01/2022 14:03:24 INFO 139801523697472] #quality_metric: host=algo-1, test multiclass_accuracy <score>=0.7207207207207207\u001b[0m\n",
      "\u001b[34m[08/01/2022 14:03:24 INFO 139801523697472] #quality_metric: host=algo-1, test multiclass_top_k_accuracy_3 <score>=1.0\u001b[0m\n",
      "\u001b[34m[08/01/2022 14:03:24 INFO 139801523697472] #quality_metric: host=algo-1, test dcg <score>=0.8821820095852688\u001b[0m\n",
      "\u001b[34m[08/01/2022 14:03:24 INFO 139801523697472] #quality_metric: host=algo-1, test macro_recall <score>=0.7169678211212158\u001b[0m\n",
      "\u001b[34m[08/01/2022 14:03:24 INFO 139801523697472] #quality_metric: host=algo-1, test macro_precision <score>=0.7299401760101318\u001b[0m\n",
      "\u001b[34m[08/01/2022 14:03:24 INFO 139801523697472] #quality_metric: host=algo-1, test macro_f_1.000 <score>=0.7183554768562317\u001b[0m\n",
      "\u001b[34m[08/01/2022 14:03:24 INFO 139801523697472] #quality_metric: host=algo-1, test multiclass_balanced_accuracy <score>=0.7169678147939017\u001b[0m\n",
      "\u001b[34m[08/01/2022 14:03:24 INFO 139801523697472] #quality_metric: host=algo-1, test multiclass_log_loss <score>=0.9070928323188799\u001b[0m\n",
      "\u001b[34m#metrics {\"StartTime\": 1659362602.3439574, \"EndTime\": 1659362604.0711193, \"Dimensions\": {\"Algorithm\": \"Linear Learner\", \"Host\": \"algo-1\", \"Operation\": \"training\"}, \"Metrics\": {\"initialize.time\": {\"sum\": 182.3744773864746, \"count\": 1, \"min\": 182.3744773864746, \"max\": 182.3744773864746}, \"epochs\": {\"sum\": 15.0, \"count\": 1, \"min\": 15, \"max\": 15}, \"check_early_stopping.time\": {\"sum\": 18.381357192993164, \"count\": 16, \"min\": 0.23984909057617188, \"max\": 3.2858848571777344}, \"update.time\": {\"sum\": 1144.0231800079346, \"count\": 15, \"min\": 52.44731903076172, \"max\": 115.24629592895508}, \"finalize.time\": {\"sum\": 149.53875541687012, \"count\": 1, \"min\": 149.53875541687012, \"max\": 149.53875541687012}, \"setuptime\": {\"sum\": 36.32760047912598, \"count\": 1, \"min\": 36.32760047912598, \"max\": 36.32760047912598}, \"totaltime\": {\"sum\": 2025.1109600067139, \"count\": 1, \"min\": 2025.1109600067139, \"max\": 2025.1109600067139}}}\u001b[0m\n",
      "\n",
      "2022-08-01 14:03:40 Uploading - Uploading generated training model\n",
      "2022-08-01 14:03:40 Completed - Training job completed\n",
      "Training seconds: 113\n",
      "Billable seconds: 113\n"
     ]
    }
   ],
   "source": [
    "multiclass_estimator.fit([train_records, val_records, test_records])"
   ]
  },
  {
   "cell_type": "markdown",
   "id": "064f88de",
   "metadata": {
    "id": "cfcb1f00-4ba1-499b-a80f-67de7d34ead2"
   },
   "source": [
    "### Deploy a model hosting endpoint"
   ]
  },
  {
   "cell_type": "code",
   "execution_count": 24,
   "id": "09cf4098",
   "metadata": {
    "id": "bd9fac51-c7b2-4b0c-bf6b-c264a6e82c03"
   },
   "outputs": [
    {
     "name": "stderr",
     "output_type": "stream",
     "text": [
      "Defaulting to the only supported framework/algorithm version: 1. Ignoring framework/algorithm version: 1.\n"
     ]
    },
    {
     "name": "stdout",
     "output_type": "stream",
     "text": [
      "-------!"
     ]
    }
   ],
   "source": [
    "multiclass_predictor = multiclass_estimator.deploy(initial_instance_count=1, instance_type='ml.m4.xlarge')"
   ]
  },
  {
   "cell_type": "markdown",
   "id": "eb7d5798",
   "metadata": {
    "id": "d5274955-f1a9-4a94-ba1f-b67b687c5286"
   },
   "source": [
    "### Evaluate a model on a test set using the given prediction endpoint. Display classification metrics"
   ]
  },
  {
   "cell_type": "code",
   "execution_count": 25,
   "id": "32950098",
   "metadata": {
    "id": "f4951683-c2b1-44a8-9d53-4576b17dc8a8"
   },
   "outputs": [],
   "source": [
    "def evaluate_metrics(predictor, test_features, test_labels):\n",
    "    # split the test dataset into 100 batches and evaluate using prediction endpoint\n",
    "    prediction_batches = [predictor.predict(batch) for batch in np.array_split(test_features, 100)]\n",
    "\n",
    "    # parse protobuf responses to extract predicted labels\n",
    "    extract_label = lambda x: x.label['predicted_label'].float32_tensor.values\n",
    "    test_preds = np.concatenate([np.array([extract_label(x) for x in batch]) for batch in prediction_batches])\n",
    "    test_preds = test_preds.reshape((-1,))\n",
    "    \n",
    "    # calculate accuracy\n",
    "    accuracy = (test_preds == test_labels).sum() / test_labels.shape[0]\n",
    "    \n",
    "    # calculate recall for each class\n",
    "    recall_per_class, classes = [], []\n",
    "    for target_label in np.unique(test_labels):\n",
    "        recall_numerator = np.logical_and(test_preds == target_label, test_labels == target_label).sum()\n",
    "        recall_denominator = (test_labels == target_label).sum()\n",
    "        recall_per_class.append(recall_numerator / recall_denominator)\n",
    "        classes.append(label_map[target_label])\n",
    "    recall = pd.DataFrame({'recall': recall_per_class, 'class_label': classes})\n",
    "    recall.sort_values('class_label', ascending=False, inplace=True)\n",
    "\n",
    "    # calculate confusion matrix\n",
    "    label_mapper = np.vectorize(lambda x: label_map[x])\n",
    "    confusion_matrix = pd.crosstab(label_mapper(test_labels), label_mapper(test_preds), \n",
    "                                   rownames=['Actuals'], colnames=['Predictions'], normalize='index')\n",
    "\n",
    "    # display results\n",
    "    sns.heatmap(confusion_matrix, annot=True, fmt='.2f', cmap=\"YlGnBu\").set_title('Confusion Matrix')  \n",
    "    ax = recall.plot(kind='barh', x='class_label', y='recall', color='steelblue', title='Recall', legend=False)\n",
    "    ax.set_ylabel('')\n",
    "    print('Accuracy: {:.3f}'.format(accuracy))"
   ]
  },
  {
   "cell_type": "markdown",
   "id": "1ddccb50",
   "metadata": {
    "id": "0c9ac589-ffe4-443f-999b-7d5eb4f6073a"
   },
   "source": [
    "### Evaluate metrics of the model trained with default hyperparameters"
   ]
  },
  {
   "cell_type": "code",
   "execution_count": 26,
   "id": "12a197b2",
   "metadata": {
    "id": "32f913fd-4528-4c54-9261-ea492d975565"
   },
   "outputs": [
    {
     "name": "stdout",
     "output_type": "stream",
     "text": [
      "Accuracy: 0.721\n"
     ]
    },
    {
     "data": {
      "image/png": "[encoded data removed]",
      "text/plain": [
       "<Figure size 432x288 with 2 Axes>"
      ]
     },
     "metadata": {},
     "output_type": "display_data"
    },
    {
     "data": {
      "image/png": "[encoded data removed]",
      "text/plain": [
       "<Figure size 432x288 with 1 Axes>"
      ]
     },
     "metadata": {},
     "output_type": "display_data"
    }
   ],
   "source": [
    "evaluate_metrics(multiclass_predictor, test_features, test_labels)"
   ]
  },
  {
   "cell_type": "markdown",
   "id": "c43a32fb",
   "metadata": {
    "id": "dbbd94f3-b547-452d-ad51-9e9e966f6bb6"
   },
   "source": [
    "### Instantiate the second endpoint with LinearLearner estimator object which has balanced weights for enhanced accuracy. We can choose either or both endpoints for monitoring using Watson OpenScale."
   ]
  },
  {
   "cell_type": "code",
   "execution_count": null,
   "id": "acb89094",
   "metadata": {
    "id": "b43f7485-2b47-41c1-aece-55f49b7335d6"
   },
   "outputs": [],
   "source": [
    "balanced_multiclass_estimator = sagemaker.LinearLearner(role=role,\n",
    "                                                        train_instance_count=1,\n",
    "                                                        train_instance_type='ml.m4.xlarge',\n",
    "                                                        predictor_type='multiclass_classifier',\n",
    "                                                        num_classes=3,\n",
    "                                                        balance_multiclass_weights=True)"
   ]
  },
  {
   "cell_type": "markdown",
   "id": "6ef786d7",
   "metadata": {
    "id": "541f78b2-8e73-4d78-92fd-69d55e5c79e9"
   },
   "source": [
    "### Start a training job"
   ]
  },
  {
   "cell_type": "code",
   "execution_count": null,
   "id": "1b87ce9b",
   "metadata": {
    "id": "0ed76f4f-6de1-4f4d-96af-290a6582b206"
   },
   "outputs": [],
   "source": [
    "balanced_multiclass_estimator.fit([train_records, val_records, test_records])"
   ]
  },
  {
   "cell_type": "markdown",
   "id": "2994d6fa",
   "metadata": {
    "id": "fef99fea-9f8c-46af-b01f-ed220d903b96"
   },
   "source": [
    "### Deploy a model hosting endpoint"
   ]
  },
  {
   "cell_type": "code",
   "execution_count": null,
   "id": "b22cfbcb",
   "metadata": {
    "id": "e9e057b9-5622-442f-9c32-92032c99f97b"
   },
   "outputs": [],
   "source": [
    "balanced_multiclass_predictor = balanced_multiclass_estimator.deploy(initial_instance_count=1, \n",
    "                                                                     instance_type='ml.m4.xlarge')"
   ]
  },
  {
   "cell_type": "markdown",
   "id": "1d3bfc78",
   "metadata": {
    "id": "54ea5618-9776-4416-8df4-d3e8ec0e3be1"
   },
   "source": [
    "### Evaluate metrics of the model trained with balanced class weights"
   ]
  },
  {
   "cell_type": "code",
   "execution_count": null,
   "id": "202b063b",
   "metadata": {
    "id": "76853505-0513-4e65-a86d-bc0c4148a872"
   },
   "outputs": [],
   "source": [
    "evaluate_metrics(balanced_multiclass_predictor, test_features, test_labels)"
   ]
  },
  {
   "cell_type": "markdown",
   "id": "cfedb051",
   "metadata": {
    "id": "33d8d9b6d51b45c7b95dbeca3034b2d2"
   },
   "source": [
    "### Print the deployed endpoints"
   ]
  },
  {
   "cell_type": "code",
   "execution_count": null,
   "id": "9f6a4cac",
   "metadata": {
    "id": "391621a4-a3ee-485c-9085-385150b3226e"
   },
   "outputs": [],
   "source": [
    "client = boto3.client('sagemaker')\n",
    "response = client.list_endpoints(\n",
    "    StatusEquals = 'InService'\n",
    ")\n",
    "print(response)"
   ]
  },
  {
   "cell_type": "code",
   "execution_count": null,
   "id": "4ca7b38b",
   "metadata": {
    "id": "e9a58879-f14b-4627-baa8-79740f843f0c"
   },
   "outputs": [],
   "source": [
    "#ARN\n",
    "arn:aws:sagemaker:"
   ]
  },
  {
   "cell_type": "code",
   "execution_count": null,
   "id": "7fcd4583",
   "metadata": {
    "id": "9fe3e82c-835f-4b8c-a099-790f4f0fa8fc"
   },
   "outputs": [],
   "source": [
    "#ARN\n",
    "arn:aws:sagemaker:"
   ]
  },
  {
   "cell_type": "markdown",
   "id": "aee2d4c1",
   "metadata": {
    "id": "f12e0b85-0141-4ae4-b93c-82590878488c"
   },
   "source": [
    "### Delete endpoints"
   ]
  },
  {
   "cell_type": "code",
   "execution_count": null,
   "id": "0fc91b82",
   "metadata": {
    "id": "57f036e4-6487-4154-87d6-8e8b581a336c"
   },
   "outputs": [],
   "source": [
    "multiclass_predictor.delete_endpoint()\n",
    "balanced_multiclass_predictor.delete_endpoint()"
   ]
  },
  {
   "cell_type": "markdown",
   "id": "6bf6f6ea",
   "metadata": {
    "id": "e485b237-d951-402c-8f98-d85ae75836e6"
   },
   "source": [
    "### In this Notebook, we have learnt how to predict Risk Index using multiclass classifier SageMaker Models. How to build, run and evaluate them in Watson Studio platform. These models are deployed on SageMaker Platform."
   ]
  }
 ],
 "metadata": {
  "kernelspec": {
   "display_name": "Python 3.8",
   "language": "python",
   "name": "python3"
  },
  "language_info": {
   "codemirror_mode": {
    "name": "ipython",
    "version": 3
   },
   "file_extension": ".py",
   "mimetype": "text/x-python",
   "name": "python",
   "nbconvert_exporter": "python",
   "pygments_lexer": "ipython3",
   "version": "3.8.11"
  }
 },
 "nbformat": 4,
 "nbformat_minor": 5
}
