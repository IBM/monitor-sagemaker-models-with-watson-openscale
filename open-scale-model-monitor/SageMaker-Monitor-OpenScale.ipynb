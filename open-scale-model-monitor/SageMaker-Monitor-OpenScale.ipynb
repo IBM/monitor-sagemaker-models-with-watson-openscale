{
 "cells": [
  {
   "cell_type": "markdown",
   "metadata": {
    "id": "dbf512e7-7891-4379-84e3-fc93e5dad9d6"
   },
   "source": [
    "# Integrate SageMaker Model with Watson Open Scale"
   ]
  },
  {
   "cell_type": "markdown",
   "metadata": {
    "id": "e68acbdc-c539-4215-8dc8-22245a24445a"
   },
   "source": [
    "Contents\n",
    "- Setup\n",
    "- Binding machine learning engine\n",
    "- Subscriptions\n",
    "- Performance monitor, scoring and payload logging\n",
    "- Quality monitor and feedback logging\n",
    "- Fairness, Drift monitoring and explanations"
   ]
  },
  {
   "cell_type": "markdown",
   "metadata": {
    "id": "a4a286b4-7504-465a-bc93-53d2d4ebe031"
   },
   "source": [
    "<a id=\"setup\"></a>\n",
    "## 1. Setup"
   ]
  },
  {
   "cell_type": "markdown",
   "metadata": {
    "id": "d9f4b9cc-8a90-437b-baf8-75c64297c083"
   },
   "source": [
    "### Requirements installation"
   ]
  },
  {
   "cell_type": "code",
   "execution_count": 1,
   "metadata": {
    "id": "3ca194ad-47b1-4c76-b3c6-765d2f5d5843"
   },
   "outputs": [
    {
     "name": "stdout",
     "output_type": "stream",
     "text": [
      "Requirement already satisfied: dill>=0.3.5.1 in /opt/conda/envs/Python-3.8-main/lib/python3.8/site-packages (from pathos->sagemaker) (0.3.5.1)\n",
      "Requirement already satisfied: certifi>=2017.4.17 in /opt/conda/envs/Python-3.8-main/lib/python3.8/site-packages (from requests<3.0,>=2.0->ibm-watson-openscale) (2021.10.8)\n",
      "Requirement already satisfied: six>=1.5 in /opt/conda/envs/Python-3.8-main/lib/python3.8/site-packages (from python-dateutil<3.0.0,>=2.1->botocore<1.28.0,>=1.27.42->boto3) (1.15.0)\n",
      "Requirement already satisfied: six>=1.5 in /opt/conda/envs/Python-3.8-main/lib/python3.8/site-packages (from python-dateutil>=2.7.3->pandas==1.2.5) (1.15.0)\n"
     ]
    }
   ],
   "source": [
    "!pip install sagemaker --no-cache | tail -n 1\n",
    "!pip install --upgrade ibm-watson-openscale --no-cache | tail -n 1\n",
    "!pip install --upgrade boto3 --no-cache | tail -n 1\n",
    "!pip install -U pandas==1.2.5 | tail -n 1"
   ]
  },
  {
   "cell_type": "markdown",
   "metadata": {
    "id": "9e788f76-6f29-4029-8f5b-db476712ab31"
   },
   "source": [
    "**Action:** Restart the kernel."
   ]
  },
  {
   "cell_type": "markdown",
   "metadata": {
    "id": "56540e9f-69a7-4586-a1f8-4f28dfd85c78"
   },
   "source": [
    "### Model creation using [Amazon SageMaker](https://aws.amazon.com/sagemaker/)"
   ]
  },
  {
   "cell_type": "markdown",
   "metadata": {
    "id": "1df3327f-ed1c-48f0-bc2f-7f8138e2dff0"
   },
   "source": [
    "- Run the notebook ( RI-SageMaker-Deploy-Wstudio.ipynb ) to train a SageMaker model and create deployment endpoint for online inference"
   ]
  },
  {
   "cell_type": "markdown",
   "metadata": {
    "id": "b920574e-eb0d-4e01-bdff-da5f86794e81"
   },
   "source": [
    "### 1.2 Authentication"
   ]
  },
  {
   "cell_type": "markdown",
   "metadata": {
    "id": "ddadce6b-7e79-4bb7-8214-0b794fe88db6"
   },
   "source": [
    "#### Generate IBM Cloud API key as per steps listed in the documentation"
   ]
  },
  {
   "cell_type": "code",
   "execution_count": 2,
   "metadata": {
    "id": "ee3c16b0-54e3-406f-9a7f-593908e313fc"
   },
   "outputs": [],
   "source": [
    "CLOUD_API_KEY = ''"
   ]
  },
  {
   "cell_type": "markdown",
   "metadata": {},
   "source": [
    "#### Since we are using internal database associated with OpenScale instance, DB_CREDENTIALS are not needed."
   ]
  },
  {
   "cell_type": "code",
   "execution_count": 3,
   "metadata": {
    "id": "3b903f2c7a3b418cacccf97fc838d073"
   },
   "outputs": [],
   "source": [
    "DB_CREDENTIALS=None"
   ]
  },
  {
   "cell_type": "code",
   "execution_count": 4,
   "metadata": {
    "id": "09f8ad5a-d78b-4bac-b39b-4ae93196961f"
   },
   "outputs": [],
   "source": [
    "SCHEMA_NAME = 'data_mart_for_ibm_aws'"
   ]
  },
  {
   "cell_type": "markdown",
   "metadata": {},
   "source": [
    "### Update the below cell with IBM Cloud Object Storage credentials. You can generate them by referring to the documentation."
   ]
  },
  {
   "cell_type": "code",
   "execution_count": 5,
   "metadata": {
    "id": "52f7d27b-25e1-416c-af74-948adf7ccdfa"
   },
   "outputs": [],
   "source": [
    "IAM_URL=\"https://iam.ng.bluemix.net/oidc/token\"\n",
    "COS_RESOURCE_CRN=\"\"\n",
    "COS_API_KEY_ID = \"\"\n",
    "COS_ENDPOINT = \"https://control.cloud-object-storage.cloud.ibm.com/v2/endpoints\" # Current list avaiable at https://control.cloud-object-storage.cloud.ibm.com/v2/endpoints"
   ]
  },
  {
   "cell_type": "code",
   "execution_count": 6,
   "metadata": {
    "id": "9f614fda82a44b2d8a9c578a22a7aa2f"
   },
   "outputs": [
    {
     "name": "stdout",
     "output_type": "stream",
     "text": [
      "--2022-08-01 14:21:18--  https://ibm-aws-immersion-day.s3.us-east-2.amazonaws.com/publicdata/Data-region-RI-SM.csv\n",
      "Resolving ibm-aws-immersion-day.s3.us-east-2.amazonaws.com (ibm-aws-immersion-day.s3.us-east-2.amazonaws.com)... 3.5.132.11\n",
      "Connecting to ibm-aws-immersion-day.s3.us-east-2.amazonaws.com (ibm-aws-immersion-day.s3.us-east-2.amazonaws.com)|3.5.132.11|:443... connected.\n",
      "HTTP request sent, awaiting response... 200 OK\n",
      "Length: 36731 (36K) [text/csv]\n",
      "Saving to: ‘Data-region-RI-SM.csv.1’\n",
      "\n",
      "Data-region-RI-SM.c 100%[===================>]  35.87K  --.-KB/s    in 0.001s  \n",
      "\n",
      "2022-08-01 14:21:18 (55.4 MB/s) - ‘Data-region-RI-SM.csv.1’ saved [36731/36731]\n",
      "\n"
     ]
    }
   ],
   "source": [
    "!wget \"https://ibm-aws-immersion-day.s3.us-east-2.amazonaws.com/publicdata/Data-region-RI-SM.csv\""
   ]
  },
  {
   "cell_type": "code",
   "execution_count": 7,
   "metadata": {
    "id": "b4ec7466-1998-4a0e-ac8a-c7d218f97629"
   },
   "outputs": [],
   "source": [
    "BUCKET_NAME = \"rksharathkumar-ibm-aws-05-22\" \n",
    "training_data_file_name=\"Data-region-RI-SM.csv\""
   ]
  },
  {
   "cell_type": "markdown",
   "metadata": {
    "id": "fe09b709-b989-4b84-80d8-96c0ea6fec1c"
   },
   "source": [
    "### Store training data in COS for OpenScale reference"
   ]
  },
  {
   "cell_type": "code",
   "execution_count": 8,
   "metadata": {
    "id": "55b9849f-7c34-4c0e-a691-2f214703d52a"
   },
   "outputs": [],
   "source": [
    "import ibm_boto3\n",
    "from ibm_botocore.client import Config, ClientError\n",
    "\n",
    "cos_client = ibm_boto3.resource(\"s3\",\n",
    "    ibm_api_key_id=COS_API_KEY_ID,\n",
    "    ibm_service_instance_id=COS_RESOURCE_CRN,\n",
    "    ibm_auth_endpoint=\"https://iam.bluemix.net/oidc/token\",\n",
    "    config=Config(signature_version=\"oauth\"),\n",
    "    endpoint_url=COS_ENDPOINT\n",
    ")"
   ]
  },
  {
   "cell_type": "code",
   "execution_count": 9,
   "metadata": {
    "id": "fbd21628-8c8e-4ed5-8db0-1004c07a4b7f"
   },
   "outputs": [
    {
     "data": {
      "text/plain": [
       "'rksharathkumar-ibm-aws-05-22'"
      ]
     },
     "execution_count": 9,
     "metadata": {},
     "output_type": "execute_result"
    }
   ],
   "source": [
    "BUCKET_NAME"
   ]
  },
  {
   "cell_type": "code",
   "execution_count": 10,
   "metadata": {
    "id": "677ec268-7f7f-4e5e-8644-15a49e1c63be"
   },
   "outputs": [
    {
     "data": {
      "text/plain": [
       "'3.0.21'"
      ]
     },
     "execution_count": 10,
     "metadata": {},
     "output_type": "execute_result"
    }
   ],
   "source": [
    "from ibm_cloud_sdk_core.authenticators import IAMAuthenticator,CloudPakForDataAuthenticator\n",
    "\n",
    "from ibm_watson_openscale import *\n",
    "from ibm_watson_openscale.supporting_classes.enums import *\n",
    "from ibm_watson_openscale.supporting_classes import *\n",
    "\n",
    "authenticator = IAMAuthenticator(apikey=CLOUD_API_KEY)\n",
    "wos_client = APIClient(authenticator=authenticator,service_url=\"https://aiopenscale.cloud.ibm.com\")\n",
    "wos_client.version"
   ]
  },
  {
   "cell_type": "markdown",
   "metadata": {
    "id": "7fc1dfb7-d953-4578-a6d8-09e047f5a087"
   },
   "source": [
    "Create schema for data mart."
   ]
  },
  {
   "cell_type": "code",
   "execution_count": 11,
   "metadata": {
    "id": "0bf2a4e0-eae4-4b06-8ed2-8de52efe5b93"
   },
   "outputs": [
    {
     "data": {
      "text/html": [
       "<HTML>\n",
       "        <body>\n",
       "            <h3>Data Marts</h3>\n",
       "            <table style='border: 1px solid #dddddd; font-family: Courier'>\n",
       "                <th style='border: 1px solid #dddddd'>name</th><th style='border: 1px solid #dddddd'>description</th><th style='border: 1px solid #dddddd'>internal_database</th><th style='border: 1px solid #dddddd'>status</th><th style='border: 1px solid #dddddd'>created_at</th><th style='border: 1px solid #dddddd'>id</th>\n",
       "                <tr><td style='border: 1px solid #dddddd'>None</td><td style='border: 1px solid #dddddd'>None</td><td style='border: 1px solid #dddddd'>True</td><td style='border: 1px solid #dddddd'>active</td><td style='border: 1px solid #dddddd'>2022-07-04 07:44:31.582000+00:00</td><td style='border: 1px solid #dddddd'>0ea0e235-e74f-45b0-8dca-e3ac5e613620</td></tr>\n",
       "            </table>\n",
       "        </body>\n",
       "        </HTML>"
      ],
      "text/plain": [
       "<IPython.core.display.HTML object>"
      ]
     },
     "metadata": {},
     "output_type": "display_data"
    }
   ],
   "source": [
    "wos_client.data_marts.show()"
   ]
  },
  {
   "cell_type": "code",
   "execution_count": 12,
   "metadata": {
    "id": "c46281b7-c27e-47ad-9046-140a99d9d702"
   },
   "outputs": [
    {
     "name": "stdout",
     "output_type": "stream",
     "text": [
      "Using existing datamart 0ea0e235-e74f-45b0-8dca-e3ac5e613620\n"
     ]
    }
   ],
   "source": [
    "data_marts = wos_client.data_marts.list().result.data_marts\n",
    "if len(data_marts) == 0:\n",
    "    if DB_CREDENTIALS is not None:\n",
    "        if SCHEMA_NAME is None: \n",
    "            print(\"Please specify the SCHEMA_NAME and rerun the cell\")\n",
    "\n",
    "        print('Setting up external datamart')\n",
    "        added_data_mart_result = wos_client.data_marts.add(\n",
    "                background_mode=False,\n",
    "                name=\"WOS SGM Data Mart\",\n",
    "                description=\"Data Mart created for WOS SGM\",\n",
    "                database_configuration=DatabaseConfigurationRequest(\n",
    "                  database_type=DatabaseType.POSTGRESQL, # For DB2 use DatabaseType.DB2\n",
    "                    credentials=PrimaryStorageCredentialsLong(\n",
    "                        hostname=DB_CREDENTIALS['hostname'],\n",
    "                        username=DB_CREDENTIALS['username'],\n",
    "                        password=DB_CREDENTIALS['password'],\n",
    "                        db=DB_CREDENTIALS['database'],\n",
    "                        port=DB_CREDENTIALS['port'],\n",
    "                        ssl=False,\n",
    "                        certificate_base64=False\n",
    "                    ),\n",
    "                    location=LocationSchemaName(\n",
    "                        schema_name= SCHEMA_NAME\n",
    "                    )\n",
    "                )\n",
    "             ).result\n",
    "    else:\n",
    "        print('Setting up internal datamart')\n",
    "        added_data_mart_result = wos_client.data_marts.add(\n",
    "                background_mode=False,\n",
    "                name=\"WOS SGM Data Mart\",\n",
    "                description=\"Data Mart created for WOS SGM\", \n",
    "                internal_database = True).result\n",
    "        \n",
    "    data_mart_id = added_data_mart_result.metadata.id\n",
    "    \n",
    "else:\n",
    "    data_mart_id=data_marts[0].metadata.id\n",
    "    print('Using existing datamart {}'.format(data_mart_id))"
   ]
  },
  {
   "cell_type": "code",
   "execution_count": 13,
   "metadata": {
    "id": "f4633150-a92a-4698-8499-cb0548d46f0c"
   },
   "outputs": [
    {
     "data": {
      "text/plain": [
       "{'metadata': {'id': '0ea0e235-e74f-45b0-8dca-e3ac5e613620',\n",
       "  'crn': 'crn:v1:bluemix:public:aiopenscale:us-south:a/f9ef21df684bc495941d94a200fb650b:0ea0e235-e74f-45b0-8dca-e3ac5e613620:data_mart:0ea0e235-e74f-45b0-8dca-e3ac5e613620',\n",
       "  'url': '/v2/data_marts/0ea0e235-e74f-45b0-8dca-e3ac5e613620',\n",
       "  'created_at': '2022-07-04T07:44:31.582000Z',\n",
       "  'created_by': 'IBMid-50YWG7G0UB'},\n",
       " 'entity': {'service_instance_crn': 'crn:v1:bluemix:public:aiopenscale:us-south:a/f9ef21df684bc495941d94a200fb650b:0ea0e235-e74f-45b0-8dca-e3ac5e613620::',\n",
       "  'internal_database': True,\n",
       "  'database_configuration': {'database_type': 'postgresql',\n",
       "   'credentials': {'secret_id': 'bc17a850-0d03-44b9-a482-af8030b783f2'},\n",
       "   'location': {'schema_name': '0ea0e235-e74f-45b0-8dca-e3ac5e613620'}},\n",
       "  'status': {'state': 'active'}}}"
      ]
     },
     "execution_count": 13,
     "metadata": {},
     "output_type": "execute_result"
    }
   ],
   "source": [
    "wos_client.data_marts.get(data_mart_id).result.to_dict()"
   ]
  },
  {
   "cell_type": "markdown",
   "metadata": {
    "id": "c9311a7f-779c-4726-ad00-8fae71efccc6"
   },
   "source": [
    "<a id=\"binding\"></a>\n",
    "## 2. Bind machine learning engines"
   ]
  },
  {
   "cell_type": "markdown",
   "metadata": {
    "id": "9664669a-723c-43fa-a5a7-09fef8479d98"
   },
   "source": [
    "### Bind  `SageMaker` machine learning engine\n",
    "\n",
    "#### Provide AWS credentials using following fields:\n",
    "- `access_key_id`\n",
    "- `secret_access_key`\n",
    "- `region`"
   ]
  },
  {
   "cell_type": "code",
   "execution_count": 14,
   "metadata": {
    "id": "d3a3d477-d543-49ba-8979-e50e87a4ee43"
   },
   "outputs": [],
   "source": [
    "SAGEMAKER_ENGINE_CREDENTIALS = {\n",
    "                   'access_key_id': '', \n",
    "                   'secret_access_key': '', \n",
    "                   'region': ''}"
   ]
  },
  {
   "cell_type": "code",
   "execution_count": 15,
   "metadata": {
    "id": "2dc3c3d4-f6c0-4d94-842c-c64a985d9f6e"
   },
   "outputs": [],
   "source": [
    "SERVICE_PROVIDER_NAME = \"AWS SGM Machine Learning\"\n",
    "SERVICE_PROVIDER_DESCRIPTION = \"Added by AWS IBM Integration\""
   ]
  },
  {
   "cell_type": "code",
   "execution_count": 16,
   "metadata": {
    "id": "57c0684c-ecb8-492f-b752-236bc529fe0c"
   },
   "outputs": [
    {
     "name": "stdout",
     "output_type": "stream",
     "text": [
      "Deleted existing service_provider for WML instance: a2f2d219-ce42-4b62-a795-2c02025099da\n"
     ]
    }
   ],
   "source": [
    "service_providers = wos_client.service_providers.list().result.service_providers\n",
    "for service_provider in service_providers:\n",
    "    service_instance_name = service_provider.entity.name\n",
    "    if service_instance_name == SERVICE_PROVIDER_NAME:\n",
    "        service_provider_id = service_provider.metadata.id\n",
    "        wos_client.service_providers.delete(service_provider_id)\n",
    "        print(\"Deleted existing service_provider for WML instance: {}\".format(service_provider_id))"
   ]
  },
  {
   "cell_type": "code",
   "execution_count": 17,
   "metadata": {
    "id": "5509cf40-9af8-4e19-a43d-ff817709ee9b"
   },
   "outputs": [
    {
     "name": "stdout",
     "output_type": "stream",
     "text": [
      "\n",
      "\n",
      "=================================================================================\n",
      "\n",
      " Waiting for end of adding service provider 2032ec06-c328-4b19-bc0c-10feae4ad55a \n",
      "\n",
      "=================================================================================\n",
      "\n",
      "\n",
      "\n",
      "active\n",
      "\n",
      "-----------------------------------------------\n",
      " Successfully finished adding service provider \n",
      "-----------------------------------------------\n",
      "\n",
      "\n",
      "Service Provider id  2032ec06-c328-4b19-bc0c-10feae4ad55a\n"
     ]
    }
   ],
   "source": [
    "added_service_provider_result=wos_client.service_providers.add(\n",
    "        name=SERVICE_PROVIDER_NAME,\n",
    "        description=\"AWS Service Provider\",\n",
    "        service_type=ServiceTypes.AMAZON_SAGEMAKER,\n",
    "        credentials=SageMakerCredentials(\n",
    "            access_key_id=SAGEMAKER_ENGINE_CREDENTIALS['access_key_id'],\n",
    "            secret_access_key=SAGEMAKER_ENGINE_CREDENTIALS['secret_access_key'],\n",
    "            region=SAGEMAKER_ENGINE_CREDENTIALS['region']\n",
    "        ),\n",
    "        background_mode=False\n",
    "    ).result\n",
    "\n",
    "\n",
    "\n",
    "service_provider_id = added_service_provider_result.metadata.id\n",
    "print(\"Service Provider id \", service_provider_id)"
   ]
  },
  {
   "cell_type": "code",
   "execution_count": 18,
   "metadata": {
    "id": "0c7f2e0a-b14d-4d5a-8cf4-d8bcb02a6ef9",
    "scrolled": true
   },
   "outputs": [
    {
     "data": {
      "text/html": [
       "<HTML>\n",
       "        <body>\n",
       "            <h3>Service Providers</h3>\n",
       "            <table style='border: 1px solid #dddddd; font-family: Courier'>\n",
       "                <th style='border: 1px solid #dddddd'>instance_id</th><th style='border: 1px solid #dddddd'>status</th><th style='border: 1px solid #dddddd'>name</th><th style='border: 1px solid #dddddd'>service_type</th><th style='border: 1px solid #dddddd'>created_at</th><th style='border: 1px solid #dddddd'>id</th>\n",
       "                <tr><td style='border: 1px solid #dddddd'>None</td><td style='border: 1px solid #dddddd'>active</td><td style='border: 1px solid #dddddd'>AWS SGM Machine Learning</td><td style='border: 1px solid #dddddd'>amazon_sagemaker</td><td style='border: 1px solid #dddddd'>2022-08-01 14:21:53.428000+00:00</td><td style='border: 1px solid #dddddd'>2032ec06-c328-4b19-bc0c-10feae4ad55a</td></tr><tr><td style='border: 1px solid #dddddd'>None</td><td style='border: 1px solid #dddddd'>active</td><td style='border: 1px solid #dddddd'>AWS ML Services</td><td style='border: 1px solid #dddddd'>amazon_sagemaker</td><td style='border: 1px solid #dddddd'>2022-07-05 11:50:18.620000+00:00</td><td style='border: 1px solid #dddddd'>9095e229-2b90-42fc-8d17-0f97c1f9d7ed</td></tr>\n",
       "            </table>\n",
       "        </body>\n",
       "        </HTML>"
      ],
      "text/plain": [
       "<IPython.core.display.HTML object>"
      ]
     },
     "metadata": {},
     "output_type": "display_data"
    }
   ],
   "source": [
    "wos_client.service_providers.show()"
   ]
  },
  {
   "cell_type": "code",
   "execution_count": 19,
   "metadata": {
    "id": "8f9f1fa8-4ebc-485c-955d-867ec44c7215"
   },
   "outputs": [
    {
     "data": {
      "text/plain": [
       "{'resources': [{'metadata': {'guid': '654baaba1f64b18d75ec863442e6a1ec',\n",
       "    'url': 'linear-learner-2022-08-01-14-04-03-736',\n",
       "    'created_at': '2022-08-01T14:04:04.300Z',\n",
       "    'modified_at': '2022-08-01T14:07:11.052Z'},\n",
       "   'entity': {'name': 'linear-learner-2022-08-01-14-04-03-736',\n",
       "    'deployment_rn': 'arn:aws:sagemaker:us-east-2:481118440516:endpoint/linear-learner-2022-08-01-14-04-03-736',\n",
       "    'type': 'online',\n",
       "    'scoring_endpoint': {'url': 'linear-learner-2022-08-01-14-04-03-736'},\n",
       "    'asset': {'asset_id': '654baaba1f64b18d75ec863442e6a1ec',\n",
       "     'asset_rn': 'arn:aws:sagemaker:us-east-2:481118440516:model/linear-learner-2022-08-01-14-04-03-736',\n",
       "     'url': 's3://sagemaker-us-east-2-481118440516/linear-learner-2022-08-01-13-59-49-824/output/model.tar.gz',\n",
       "     'name': 'linear-learner-2022-08-01-14-04-03-736',\n",
       "     'asset_type': 'model',\n",
       "     'created_at': '2022-08-01T14:04:04.016Z'},\n",
       "    'asset_properties': {'asset_revision': '1659362831052'}}}],\n",
       " 'count': 1}"
      ]
     },
     "execution_count": 19,
     "metadata": {},
     "output_type": "execute_result"
    }
   ],
   "source": [
    "asset_deployment_details = wos_client.service_providers.list_assets(data_mart_id=data_mart_id, service_provider_id=service_provider_id).result\n",
    "asset_deployment_details"
   ]
  },
  {
   "cell_type": "code",
   "execution_count": 20,
   "metadata": {
    "id": "ad240686-addf-4a17-9aab-11fe14fc7eff"
   },
   "outputs": [
    {
     "data": {
      "text/plain": [
       "{'metadata': {'guid': '654baaba1f64b18d75ec863442e6a1ec',\n",
       "  'url': 'linear-learner-2022-08-01-14-04-03-736',\n",
       "  'created_at': '2022-08-01T14:04:04.300Z',\n",
       "  'modified_at': '2022-08-01T14:07:11.052Z'},\n",
       " 'entity': {'name': 'linear-learner-2022-08-01-14-04-03-736',\n",
       "  'deployment_rn': 'arn:aws:sagemaker:us-east-2:481118440516:endpoint/linear-learner-2022-08-01-14-04-03-736',\n",
       "  'type': 'online',\n",
       "  'scoring_endpoint': {'url': 'linear-learner-2022-08-01-14-04-03-736'},\n",
       "  'asset': {'asset_id': '654baaba1f64b18d75ec863442e6a1ec',\n",
       "   'asset_rn': 'arn:aws:sagemaker:us-east-2:481118440516:model/linear-learner-2022-08-01-14-04-03-736',\n",
       "   'url': 's3://sagemaker-us-east-2-481118440516/linear-learner-2022-08-01-13-59-49-824/output/model.tar.gz',\n",
       "   'name': 'linear-learner-2022-08-01-14-04-03-736',\n",
       "   'asset_type': 'model',\n",
       "   'created_at': '2022-08-01T14:04:04.016Z'},\n",
       "  'asset_properties': {'asset_revision': '1659362831052'}}}"
      ]
     },
     "execution_count": 20,
     "metadata": {},
     "output_type": "execute_result"
    }
   ],
   "source": [
    "deployment_id='' # 'resources': [{'metadata': {'guid' value from previous cell will be deployment_id.\n",
    "for model_asset_details in asset_deployment_details['resources']:\n",
    "    if model_asset_details['metadata']['guid']==deployment_id:\n",
    "        break\n",
    "model_asset_details"
   ]
  },
  {
   "cell_type": "markdown",
   "metadata": {
    "id": "4138ac46-c946-49ae-a200-3a7db5d6fe3f"
   },
   "source": [
    "<a id=\"subsciption\"></a>\n",
    "## 3. Subscriptions"
   ]
  },
  {
   "cell_type": "markdown",
   "metadata": {
    "id": "c116a828-bdfa-416c-b11b-b33ff4488686"
   },
   "source": [
    "### Add subscriptions"
   ]
  },
  {
   "cell_type": "markdown",
   "metadata": {
    "id": "3983194d-5524-4414-a1c3-7d5d514aad3b"
   },
   "source": [
    "List available deployments.\n",
    "\n",
    "**Note:** Depending on number of assets it may take some time."
   ]
  },
  {
   "cell_type": "code",
   "execution_count": 21,
   "metadata": {
    "id": "090b820e-5d68-4588-8346-1bca073e4d16"
   },
   "outputs": [],
   "source": [
    "aws_asset = Asset(\n",
    "        asset_id=model_asset_details['entity']['asset']['asset_id'],\n",
    "        name=model_asset_details['entity']['asset']['name'],\n",
    "        url=model_asset_details['entity']['asset']['url'],\n",
    "        asset_type=model_asset_details['entity']['asset']['asset_type'] if 'asset_type' in model_asset_details['entity']['asset'] else 'model',\n",
    "        problem_type=ProblemType.BINARY_CLASSIFICATION,\n",
    "        input_data_type=InputDataType.STRUCTURED,\n",
    "    )"
   ]
  },
  {
   "cell_type": "code",
   "execution_count": 22,
   "metadata": {
    "id": "230d13f2-76ba-4e6e-b85c-721844f878ab"
   },
   "outputs": [],
   "source": [
    "from ibm_watson_openscale.base_classes.watson_open_scale_v2 import ScoringEndpointRequest\n",
    "deployment_scoring_endpoint = model_asset_details['entity']['scoring_endpoint']\n",
    "scoring_endpoint = ScoringEndpointRequest(url = model_asset_details['entity']['scoring_endpoint']['url'] )"
   ]
  },
  {
   "cell_type": "code",
   "execution_count": 23,
   "metadata": {
    "id": "255492a9-132c-42cd-ada3-d4f754fc7f1f"
   },
   "outputs": [],
   "source": [
    "deployment = AssetDeploymentRequest(\n",
    "        deployment_id=model_asset_details['metadata']['guid'],\n",
    "        url=model_asset_details['metadata']['url'],\n",
    "        name=model_asset_details['entity']['name'],\n",
    "        deployment_type=model_asset_details['entity']['type'],\n",
    "        scoring_endpoint =  scoring_endpoint\n",
    "    )"
   ]
  },
  {
   "cell_type": "code",
   "execution_count": 24,
   "metadata": {
    "id": "63b6a579-7870-4e5c-b7a7-f54c6028ed13"
   },
   "outputs": [],
   "source": [
    "training_data_reference = TrainingDataReference(type='cos',\n",
    "                                              location=COSTrainingDataReferenceLocation(bucket = BUCKET_NAME,\n",
    "                                                                                        file_name = training_data_file_name),\n",
    "                                              connection=COSTrainingDataReferenceConnection(\n",
    "                                                                        resource_instance_id= COS_RESOURCE_CRN,\n",
    "                                                                        url= COS_ENDPOINT,\n",
    "                                                                        api_key= COS_API_KEY_ID,\n",
    "                                                                        iam_url=IAM_URL)\n",
    "                                               )"
   ]
  },
  {
   "cell_type": "code",
   "execution_count": 25,
   "metadata": {
    "id": "bba9276c-b1fa-4145-9d84-dab20a0ffc08"
   },
   "outputs": [],
   "source": [
    "feature_columns = ['REGION','Total_cases']\n",
    "categorical_columns = ['REGION']"
   ]
  },
  {
   "cell_type": "code",
   "execution_count": 26,
   "metadata": {
    "id": "47e4eb79-b4e3-4d20-8c3e-c487347b4b75"
   },
   "outputs": [],
   "source": [
    "asset_properties = AssetPropertiesRequest(\n",
    "        label_column=\"Risk_Index\",\n",
    "        prediction_field='predicted_label',\n",
    "        probability_fields=['score'],\n",
    "        training_data_reference=training_data_reference,\n",
    "        training_data_schema=None,\n",
    "        input_data_schema=None,\n",
    "        output_data_schema=None,\n",
    "        feature_fields=feature_columns,\n",
    "        categorical_fields=categorical_columns\n",
    "    )"
   ]
  },
  {
   "cell_type": "code",
   "execution_count": 27,
   "metadata": {
    "id": "f69a719a-0351-4bfc-949a-829f5802f031"
   },
   "outputs": [
    {
     "name": "stdout",
     "output_type": "stream",
     "text": [
      "\n",
      "\n",
      "=============================================================================\n",
      "\n",
      " Waiting for end of adding subscription 6ed19a74-0643-4216-9f67-8b1ce743e29c \n",
      "\n",
      "=============================================================================\n",
      "\n",
      "\n",
      "\n",
      "active\n",
      "\n",
      "-------------------------------------------\n",
      " Successfully finished adding subscription \n",
      "-------------------------------------------\n",
      "\n",
      "\n"
     ]
    },
    {
     "data": {
      "text/plain": [
       "'6ed19a74-0643-4216-9f67-8b1ce743e29c'"
      ]
     },
     "execution_count": 27,
     "metadata": {},
     "output_type": "execute_result"
    }
   ],
   "source": [
    "subscription_details = wos_client.subscriptions.add(\n",
    "        data_mart_id=data_mart_id,\n",
    "        service_provider_id=service_provider_id,\n",
    "        asset=aws_asset,\n",
    "        deployment=deployment,\n",
    "        asset_properties=asset_properties,\n",
    "        background_mode=False\n",
    ").result\n",
    "subscription_id = subscription_details.metadata.id\n",
    "subscription_id"
   ]
  },
  {
   "cell_type": "markdown",
   "metadata": {
    "id": "a01b405e-11a1-4e8e-8d03-0e572b0710d0"
   },
   "source": [
    "#### List subscriptions"
   ]
  },
  {
   "cell_type": "code",
   "execution_count": 28,
   "metadata": {
    "id": "3092d51d-af01-4f89-8f64-c36ee54e3ff5"
   },
   "outputs": [
    {
     "data": {
      "text/html": [
       "<HTML>\n",
       "        <body>\n",
       "            <h3>Subscriptions</h3>\n",
       "            <table style='border: 1px solid #dddddd; font-family: Courier'>\n",
       "                <th style='border: 1px solid #dddddd'>asset_id</th><th style='border: 1px solid #dddddd'>asset_name</th><th style='border: 1px solid #dddddd'>data_mart_id</th><th style='border: 1px solid #dddddd'>deployment_id</th><th style='border: 1px solid #dddddd'>deployment_name</th><th style='border: 1px solid #dddddd'>service_provider_id</th><th style='border: 1px solid #dddddd'>status</th><th style='border: 1px solid #dddddd'>created_at</th><th style='border: 1px solid #dddddd'>id</th>\n",
       "                <tr><td style='border: 1px solid #dddddd'>654baaba1f64b18d75ec863442e6a1ec</td><td style='border: 1px solid #dddddd'>linear-learner-2022-08-01-14-04-03-736</td><td style='border: 1px solid #dddddd'>0ea0e235-e74f-45b0-8dca-e3ac5e613620</td><td style='border: 1px solid #dddddd'>654baaba1f64b18d75ec863442e6a1ec</td><td style='border: 1px solid #dddddd'>linear-learner-2022-08-01-14-04-03-736</td><td style='border: 1px solid #dddddd'>2032ec06-c328-4b19-bc0c-10feae4ad55a</td><td style='border: 1px solid #dddddd'>active</td><td style='border: 1px solid #dddddd'>2022-08-01 14:22:00.604000+00:00</td><td style='border: 1px solid #dddddd'>6ed19a74-0643-4216-9f67-8b1ce743e29c</td></tr>\n",
       "            </table>\n",
       "        </body>\n",
       "        </HTML>"
      ],
      "text/plain": [
       "<IPython.core.display.HTML object>"
      ]
     },
     "metadata": {},
     "output_type": "display_data"
    }
   ],
   "source": [
    "wos_client.subscriptions.show()"
   ]
  },
  {
   "cell_type": "markdown",
   "metadata": {
    "id": "faaf3457-5ec4-4621-a887-abd25832bf26"
   },
   "source": [
    "<a id=\"scoring\"></a>\n",
    "## 4. Performance metrics, scoring and payload logging"
   ]
  },
  {
   "cell_type": "markdown",
   "metadata": {
    "id": "f2ab922c-6e90-40c2-a439-5b85d17ba3dc"
   },
   "source": [
    "### Score the risk index model and measure response time"
   ]
  },
  {
   "cell_type": "code",
   "execution_count": 29,
   "metadata": {
    "id": "22cf94ec-5c58-41c5-af6a-1c5cbfff7392"
   },
   "outputs": [],
   "source": [
    "import requests\n",
    "import time\n",
    "import json\n",
    "import boto3"
   ]
  },
  {
   "cell_type": "code",
   "execution_count": 30,
   "metadata": {
    "id": "7c0055b0-ae39-4355-a01e-e4c156dad9bd"
   },
   "outputs": [
    {
     "data": {
      "text/plain": [
       "{'metadata': {'id': '6ed19a74-0643-4216-9f67-8b1ce743e29c',\n",
       "  'crn': 'crn:v1:bluemix:public:aiopenscale:us-south:a/f9ef21df684bc495941d94a200fb650b:0ea0e235-e74f-45b0-8dca-e3ac5e613620:subscription:6ed19a74-0643-4216-9f67-8b1ce743e29c',\n",
       "  'url': '/v2/subscriptions/6ed19a74-0643-4216-9f67-8b1ce743e29c',\n",
       "  'created_at': '2022-08-01T14:22:00.604000Z',\n",
       "  'created_by': 'IBMid-50YWG7G0UB'},\n",
       " 'entity': {'data_mart_id': '0ea0e235-e74f-45b0-8dca-e3ac5e613620',\n",
       "  'service_provider_id': '2032ec06-c328-4b19-bc0c-10feae4ad55a',\n",
       "  'asset': {'asset_id': '654baaba1f64b18d75ec863442e6a1ec',\n",
       "   'url': 's3://sagemaker-us-east-2-481118440516/linear-learner-2022-08-01-13-59-49-824/output/model.tar.gz',\n",
       "   'name': 'linear-learner-2022-08-01-14-04-03-736',\n",
       "   'asset_type': 'model',\n",
       "   'problem_type': 'binary',\n",
       "   'input_data_type': 'structured'},\n",
       "  'asset_properties': {'training_data_reference': {'secret_id': '399ed060-4c98-4ee6-8c9d-63f513e5c119'},\n",
       "   'output_data_schema': {'type': 'struct',\n",
       "    'fields': [{'metadata': {'modeling_role': 'record-id',\n",
       "       'primary_key': True},\n",
       "      'name': 'scoring_id',\n",
       "      'nullable': False,\n",
       "      'type': 'string'},\n",
       "     {'metadata': {'modeling_role': 'record-timestamp'},\n",
       "      'name': 'scoring_timestamp',\n",
       "      'nullable': False,\n",
       "      'type': 'timestamp'},\n",
       "     {'metadata': {},\n",
       "      'name': 'deployment_id',\n",
       "      'nullable': False,\n",
       "      'type': 'string'},\n",
       "     {'metadata': {},\n",
       "      'name': 'asset_revision',\n",
       "      'nullable': True,\n",
       "      'type': 'string'}]},\n",
       "   'label_column': 'Risk_Index',\n",
       "   'prediction_field': 'predicted_label',\n",
       "   'feature_fields': ['REGION', 'Total_cases'],\n",
       "   'categorical_fields': ['REGION'],\n",
       "   'probability_fields': ['score']},\n",
       "  'deployment': {'deployment_id': '654baaba1f64b18d75ec863442e6a1ec',\n",
       "   'url': 'linear-learner-2022-08-01-14-04-03-736',\n",
       "   'name': 'linear-learner-2022-08-01-14-04-03-736',\n",
       "   'deployment_type': 'online',\n",
       "   'scoring_endpoint': {'url': 'linear-learner-2022-08-01-14-04-03-736'}},\n",
       "  'status': {'state': 'active'}}}"
      ]
     },
     "execution_count": 30,
     "metadata": {},
     "output_type": "execute_result"
    }
   ],
   "source": [
    "subscription_details=wos_client.subscriptions.get(subscription_id).result.to_dict()\n",
    "subscription_details"
   ]
  },
  {
   "cell_type": "code",
   "execution_count": 31,
   "metadata": {
    "id": "63c05eb3-614e-4a76-aafe-3220db2e0aae"
   },
   "outputs": [],
   "source": [
    "endpoint_name = subscription_details['entity']['deployment']['name']\n",
    "\n",
    "payload = \"0,100\""
   ]
  },
  {
   "cell_type": "code",
   "execution_count": 32,
   "metadata": {
    "id": "a115e98f-96bb-464e-a797-d67184b13c3d"
   },
   "outputs": [
    {
     "name": "stdout",
     "output_type": "stream",
     "text": [
      "{\n",
      "  \"predictions\": [\n",
      "    {\n",
      "      \"score\": [\n",
      "        0.8418549299240112,\n",
      "        0.023631207644939423,\n",
      "        0.13451385498046875\n",
      "      ],\n",
      "      \"predicted_label\": 0\n",
      "    }\n",
      "  ]\n",
      "}\n"
     ]
    }
   ],
   "source": [
    "runtime = boto3.client('sagemaker-runtime',\n",
    "                       region_name=SAGEMAKER_ENGINE_CREDENTIALS['region'],\n",
    "                       aws_access_key_id=SAGEMAKER_ENGINE_CREDENTIALS['access_key_id'],\n",
    "                       aws_secret_access_key=SAGEMAKER_ENGINE_CREDENTIALS['secret_access_key'])\n",
    "\n",
    "start_time = time.time()\n",
    "response = runtime.invoke_endpoint(EndpointName=endpoint_name, ContentType='text/csv', Body=payload)\n",
    "response_time = int((time.time() - start_time)*1000)\n",
    "result = json.loads(response['Body'].read().decode())\n",
    "\n",
    "print(json.dumps(result, indent=2))"
   ]
  },
  {
   "cell_type": "markdown",
   "metadata": {
    "id": "2602aa1b-9d31-4605-a88e-8eee828db7b4"
   },
   "source": [
    "### Store the request and response in payload logging table"
   ]
  },
  {
   "cell_type": "markdown",
   "metadata": {
    "id": "07b8ddb7-cd3b-458c-b820-6d2b924d54ae"
   },
   "source": [
    "#### Transform the model's input and output to the format compatible with OpenScale standard."
   ]
  },
  {
   "cell_type": "code",
   "execution_count": 33,
   "metadata": {
    "id": "e736b382-ca1a-4281-a64b-5e92c789d94c"
   },
   "outputs": [
    {
     "name": "stdout",
     "output_type": "stream",
     "text": [
      "Payload data set id:  9613059e-ebbf-45b0-81b1-81d3abe231a8\n"
     ]
    }
   ],
   "source": [
    "import time\n",
    "\n",
    "time.sleep(5)\n",
    "payload_data_set_id = None\n",
    "payload_data_set_id = wos_client.data_sets.list(type=DataSetTypes.PAYLOAD_LOGGING, \n",
    "                                                target_target_id=subscription_id, \n",
    "                                                target_target_type=TargetTypes.SUBSCRIPTION).result.data_sets[0].metadata.id\n",
    "if payload_data_set_id is None:\n",
    "    print(\"Payload data set not found. Please check subscription status.\")\n",
    "else:\n",
    "    print(\"Payload data set id: \", payload_data_set_id)"
   ]
  },
  {
   "cell_type": "code",
   "execution_count": 34,
   "metadata": {
    "id": "88146788-c6b5-4cdf-b145-617b74d73e87"
   },
   "outputs": [],
   "source": [
    "values = [float(s) for s in payload.split(',')]\n",
    "\n",
    "request_data = {'fields': feature_columns, \n",
    "                'values': values}\n",
    "\n",
    "response_data = {'fields': list(result['predictions'][0]),\n",
    "                 'values': [list(x.values()) for x in result['predictions']]}"
   ]
  },
  {
   "cell_type": "markdown",
   "metadata": {
    "id": "9705e93b-b5d4-47b7-950d-1768d9be26fb"
   },
   "source": [
    "#### Store the payload using Python SDK"
   ]
  },
  {
   "cell_type": "markdown",
   "metadata": {
    "id": "0074022a-4407-4e2a-ba31-5dd556df9add"
   },
   "source": [
    "**Hint:** You can embed payload logging code into your custom deployment so it is logged automatically each time you score the model."
   ]
  },
  {
   "cell_type": "code",
   "execution_count": 35,
   "metadata": {
    "id": "c4f10e7e-d201-40cd-8efb-3cfd0f0218b2"
   },
   "outputs": [
    {
     "name": "stdout",
     "output_type": "stream",
     "text": [
      "Performing explicit payload logging.....\n",
      "\n",
      "\n",
      "==========================================================================================\n",
      "\n",
      " Waiting for end of storing records with request id: 5d7797f4-5072-4da1-8706-86e1de1000bd \n",
      "\n",
      "==========================================================================================\n",
      "\n",
      "\n",
      "\n",
      "active\n",
      "\n",
      "---------------------------------------\n",
      " Successfully finished storing records \n",
      "---------------------------------------\n",
      "\n",
      "\n",
      "Number of records in the payload logging table: 1\n"
     ]
    }
   ],
   "source": [
    "import uuid\n",
    "from ibm_watson_openscale.supporting_classes.payload_record import PayloadRecord\n",
    "\n",
    "print(\"Performing explicit payload logging.....\")\n",
    "wos_client.data_sets.store_records(data_set_id=payload_data_set_id, background_mode=False,request_body=[PayloadRecord(\n",
    "           scoring_id=str(uuid.uuid4()),\n",
    "           request=request_data,\n",
    "           response=response_data,\n",
    "           response_time=460\n",
    ")])\n",
    "time.sleep(5)\n",
    "pl_records_count = wos_client.data_sets.get_records_count(payload_data_set_id)\n",
    "print(\"Number of records in the payload logging table: {}\".format(pl_records_count))"
   ]
  },
  {
   "cell_type": "code",
   "execution_count": 36,
   "metadata": {
    "id": "9af476d8-8b2c-4ead-9731-47e140ed7d08"
   },
   "outputs": [
    {
     "data": {
      "text/html": [
       "<HTML>\n",
       "        <body>\n",
       "            <h3>Data Set 9613059e-ebbf-45b0-81b1-81d3abe231a8 Records</h3>\n",
       "            <table style='border: 1px solid #dddddd; font-family: Courier'>\n",
       "                <th style='border: 1px solid #dddddd'>asset_revision</th><th style='border: 1px solid #dddddd'>scoring_id</th><th style='border: 1px solid #dddddd'>predicted_label</th><th style='border: 1px solid #dddddd'>scoring_timestamp</th><th style='border: 1px solid #dddddd'>prediction_probability</th><th style='border: 1px solid #dddddd'>score</th><th style='border: 1px solid #dddddd'>REGION</th><th style='border: 1px solid #dddddd'>deployment_id</th><th style='border: 1px solid #dddddd'>Total_cases</th>\n",
       "                <tr><td style='border: 1px solid #dddddd'>None</td><td style='border: 1px solid #dddddd'>961bbd50-5019-41e3-bf2d-8d696b4170d6-1</td><td style='border: 1px solid #dddddd'>0</td><td style='border: 1px solid #dddddd'>2022-08-01T14:22:18.308Z</td><td style='border: 1px solid #dddddd'>0.8418549299240112</td><td style='border: 1px solid #dddddd'>[0.8418549299240112, 0.023631207644939423, 0.13451385498046875]</td><td style='border: 1px solid #dddddd'>0.0</td><td style='border: 1px solid #dddddd'>654baaba1f64b18d75ec863442e6a1ec</td><td style='border: 1px solid #dddddd'>100.0</td></tr>\n",
       "            </table>\n",
       "        </body>\n",
       "        </HTML>"
      ],
      "text/plain": [
       "<IPython.core.display.HTML object>"
      ]
     },
     "metadata": {},
     "output_type": "display_data"
    }
   ],
   "source": [
    "wos_client.data_sets.show_records(data_set_id=payload_data_set_id)"
   ]
  },
  {
   "cell_type": "markdown",
   "metadata": {
    "id": "4aa064bc-5ffe-42d9-82d0-ac2a194779a5"
   },
   "source": [
    "<a id=\"feedback\"></a>\n",
    "## 5. Feedback logging & quality (accuracy) monitoring"
   ]
  },
  {
   "cell_type": "markdown",
   "metadata": {
    "id": "56281cbf-4e04-48f4-a020-69aed704acf5"
   },
   "source": [
    "### Enable quality monitoring"
   ]
  },
  {
   "cell_type": "markdown",
   "metadata": {
    "id": "918e6572-cda9-4b9b-872c-bc0e4dcf9cb2"
   },
   "source": [
    "You need to provide the monitoring `threshold` and `min_records` (minimal number of feedback records)."
   ]
  },
  {
   "cell_type": "code",
   "execution_count": 37,
   "metadata": {
    "id": "83edd2a5-3ea2-4dbb-a20e-d9c0f22534c0"
   },
   "outputs": [
    {
     "name": "stdout",
     "output_type": "stream",
     "text": [
      "\n",
      "\n",
      "===================================================================================\n",
      "\n",
      " Waiting for end of monitor instance creation 055aed06-a0a7-480d-97d8-4ec62bd6f7e0 \n",
      "\n",
      "===================================================================================\n",
      "\n",
      "\n",
      "\n",
      "active\n",
      "\n",
      "---------------------------------------\n",
      " Monitor instance successfully created \n",
      "---------------------------------------\n",
      "\n",
      "\n"
     ]
    }
   ],
   "source": [
    "import time\n",
    "\n",
    "time.sleep(10)\n",
    "target = Target(\n",
    "        target_type=TargetTypes.SUBSCRIPTION,\n",
    "        target_id=subscription_id\n",
    ")\n",
    "parameters = {\n",
    "    \"min_feedback_data_size\": 10\n",
    "}\n",
    "thresholds = [\n",
    "                {\n",
    "                    \"metric_id\": \"area_under_roc\",\n",
    "                    \"type\": \"lower_limit\",\n",
    "                    \"value\": .80\n",
    "                }\n",
    "            ]\n",
    "quality_monitor_details = wos_client.monitor_instances.create(\n",
    "    data_mart_id=data_mart_id,\n",
    "    background_mode=False,\n",
    "    monitor_definition_id=wos_client.monitor_definitions.MONITORS.QUALITY.ID,\n",
    "    target=target,\n",
    "    parameters=parameters,\n",
    "    thresholds=thresholds\n",
    ").result"
   ]
  },
  {
   "cell_type": "code",
   "execution_count": 38,
   "metadata": {
    "id": "b1f80e2c-8152-4669-868a-69334090ecac"
   },
   "outputs": [
    {
     "data": {
      "text/plain": [
       "'055aed06-a0a7-480d-97d8-4ec62bd6f7e0'"
      ]
     },
     "execution_count": 38,
     "metadata": {},
     "output_type": "execute_result"
    }
   ],
   "source": [
    "quality_monitor_instance_id = quality_monitor_details.metadata.id\n",
    "quality_monitor_instance_id"
   ]
  },
  {
   "cell_type": "markdown",
   "metadata": {
    "id": "2b8a5bc2-fa1a-4175-8692-a6a720fb1869"
   },
   "source": [
    "### Feedback records logging"
   ]
  },
  {
   "cell_type": "markdown",
   "metadata": {
    "id": "d18ff39a-ad0b-48ea-a878-59cf36ba5510"
   },
   "source": [
    "Feedback records are used to evaluate your model. The predicted values are compared to real values (feedback records)."
   ]
  },
  {
   "cell_type": "markdown",
   "metadata": {
    "id": "4076732f-a929-4c3a-98fa-ad4ce4af2bce"
   },
   "source": [
    "You can check the schema of feedback table using below method."
   ]
  },
  {
   "cell_type": "code",
   "execution_count": 39,
   "metadata": {
    "id": "5088583c-013c-4982-a238-ea7d7236019a"
   },
   "outputs": [
    {
     "data": {
      "text/plain": [
       "'3faf2217-067e-415f-b319-cc13a0f2b3dc'"
      ]
     },
     "execution_count": 39,
     "metadata": {},
     "output_type": "execute_result"
    }
   ],
   "source": [
    "feedback_dataset_id = None\n",
    "feedback_dataset = wos_client.data_sets.list(type=DataSetTypes.FEEDBACK, \n",
    "                                                target_target_id=subscription_id, \n",
    "                                                target_target_type=TargetTypes.SUBSCRIPTION).result\n",
    "feedback_dataset_id = feedback_dataset.data_sets[0].metadata.id\n",
    "if feedback_dataset_id is None:\n",
    "    print(\"Feedback data set not found. Please check quality monitor status.\")\n",
    "feedback_dataset_id"
   ]
  },
  {
   "cell_type": "markdown",
   "metadata": {
    "id": "240c773e-aada-4777-b219-f1ad2e789030"
   },
   "source": [
    "The feedback records can be send to feedback table using below code."
   ]
  },
  {
   "cell_type": "code",
   "execution_count": 40,
   "metadata": {
    "id": "1b0ae8d0-9d65-4988-bd2c-eee60cbf34c2"
   },
   "outputs": [
    {
     "name": "stdout",
     "output_type": "stream",
     "text": [
      "\n",
      "\n",
      "==========================================================================================\n",
      "\n",
      " Waiting for end of storing records with request id: f5de35cf-1964-4814-93d6-838dd9f4c980 \n",
      "\n",
      "==========================================================================================\n",
      "\n",
      "\n",
      "\n",
      "active\n",
      "\n",
      "---------------------------------------\n",
      " Successfully finished storing records \n",
      "---------------------------------------\n",
      "\n",
      "\n"
     ]
    },
    {
     "data": {
      "text/plain": [
       "<ibm_cloud_sdk_core.detailed_response.DetailedResponse at 0x7f276e62f7f0>"
      ]
     },
     "execution_count": 40,
     "metadata": {},
     "output_type": "execute_result"
    }
   ],
   "source": [
    "import requests\n",
    "import pandas as pd\n",
    "import numpy as np\n",
    "import time\n",
    "\n",
    "time.sleep(10) #It gives enough time for dataset creation\n",
    "\n",
    "data = pd.read_csv('https://ibm-aws-immersion-day.s3.us-east-2.amazonaws.com/publicdata/Data-region-RI-SM-Feedback.csv',header=0,dtype=np.float)\n",
    "feedback_columns = data.columns.tolist()\n",
    "feedback_records = data.values.tolist()\n",
    "\n",
    "payload_scoring =  [{\"fields\": feedback_columns, \"values\": feedback_records}]\n",
    "wos_client.data_sets.store_records(feedback_dataset_id, request_body=payload_scoring, background_mode=False)"
   ]
  },
  {
   "cell_type": "code",
   "execution_count": 41,
   "metadata": {
    "id": "4851e875-2da5-4abf-85a1-1d882bd099a9"
   },
   "outputs": [
    {
     "data": {
      "text/html": [
       "<HTML>\n",
       "        <body>\n",
       "            <h3>Schema of 3faf2217-067e-415f-b319-cc13a0f2b3dc data set</h3>\n",
       "            <table style='border: 1px solid #dddddd; font-family: Courier'>\n",
       "                <th style='border: 1px solid #dddddd'>name</th><th style='border: 1px solid #dddddd'>type</th><th style='border: 1px solid #dddddd'>nullable</th>\n",
       "                <tr><td style='border: 1px solid #dddddd'>REGION</td><td style='border: 1px solid #dddddd'>double</td><td style='border: 1px solid #dddddd'>True</td></tr><tr><td style='border: 1px solid #dddddd'>Total_cases</td><td style='border: 1px solid #dddddd'>double</td><td style='border: 1px solid #dddddd'>True</td></tr><tr><td style='border: 1px solid #dddddd'>Risk_Index</td><td style='border: 1px solid #dddddd'>double</td><td style='border: 1px solid #dddddd'>True</td></tr><tr><td style='border: 1px solid #dddddd'>record_id</td><td style='border: 1px solid #dddddd'>string</td><td style='border: 1px solid #dddddd'>False</td></tr><tr><td style='border: 1px solid #dddddd'>record_timestamp</td><td style='border: 1px solid #dddddd'>timestamp</td><td style='border: 1px solid #dddddd'>False</td></tr><tr><td style='border: 1px solid #dddddd'>transaction_id</td><td style='border: 1px solid #dddddd'>string</td><td style='border: 1px solid #dddddd'>True</td></tr><tr><td style='border: 1px solid #dddddd'>_original_prediction</td><td style='border: 1px solid #dddddd'>integer</td><td style='border: 1px solid #dddddd'>True</td></tr><tr><td style='border: 1px solid #dddddd'>_original_probability</td><td style='border: 1px solid #dddddd'>{'containsNull': True, 'elementType': 'double', 'type': 'array'}</td><td style='border: 1px solid #dddddd'>True</td></tr><tr><td style='border: 1px solid #dddddd'>_debiased_prediction</td><td style='border: 1px solid #dddddd'>integer</td><td style='border: 1px solid #dddddd'>True</td></tr><tr><td style='border: 1px solid #dddddd'>_debiased_probability</td><td style='border: 1px solid #dddddd'>{'containsNull': True, 'elementType': 'double', 'type': 'array'}</td><td style='border: 1px solid #dddddd'>True</td></tr>\n",
       "            </table>\n",
       "        </body>\n",
       "        </HTML>"
      ],
      "text/plain": [
       "<IPython.core.display.HTML object>"
      ]
     },
     "metadata": {},
     "output_type": "display_data"
    }
   ],
   "source": [
    "wos_client.data_sets.print_records_schema(data_set_id=feedback_dataset_id)"
   ]
  },
  {
   "cell_type": "code",
   "execution_count": 42,
   "metadata": {
    "id": "6a6f4849-8bc3-49bc-bc33-2a4d5a32b170"
   },
   "outputs": [
    {
     "data": {
      "text/plain": [
       "12"
      ]
     },
     "execution_count": 42,
     "metadata": {},
     "output_type": "execute_result"
    }
   ],
   "source": [
    "wos_client.data_sets.get_records_count(data_set_id=feedback_dataset_id)"
   ]
  },
  {
   "cell_type": "code",
   "execution_count": 43,
   "metadata": {
    "id": "f13f9028-baec-4012-aea7-6e1f8e2a5d3d"
   },
   "outputs": [
    {
     "name": "stdout",
     "output_type": "stream",
     "text": [
      "\n",
      "\n",
      "========================================================================\n",
      "\n",
      " Waiting for end of monitoring run 019bf67f-af80-44b5-a4d9-c8077afb78fd \n",
      "\n",
      "========================================================================\n",
      "\n",
      "\n",
      "\n",
      "running\n",
      "finished\n",
      "\n",
      "---------------------------\n",
      " Successfully finished run \n",
      "---------------------------\n",
      "\n",
      "\n"
     ]
    }
   ],
   "source": [
    "run_details = wos_client.monitor_instances.run(monitor_instance_id=quality_monitor_instance_id, background_mode=False).result"
   ]
  },
  {
   "cell_type": "code",
   "execution_count": 44,
   "metadata": {
    "id": "917b7ae9-6a6b-4a27-a4fd-83d0adfd2429"
   },
   "outputs": [
    {
     "data": {
      "text/html": [
       "<HTML>\n",
       "        <body>\n",
       "            <h3>055aed06-a0a7-480d-97d8-4ec62bd6f7e0 Monitor Runs Metrics from: 2022-07-25 14:24:42.471681  till: 2022-08-01 14:24:42.471698</h3>\n",
       "            <table style='border: 1px solid #dddddd; font-family: Courier'>\n",
       "                <th style='border: 1px solid #dddddd'>ts</th><th style='border: 1px solid #dddddd'>id</th><th style='border: 1px solid #dddddd'>measurement_id</th><th style='border: 1px solid #dddddd'>value</th><th style='border: 1px solid #dddddd'>lower_limit</th><th style='border: 1px solid #dddddd'>upper_limit</th><th style='border: 1px solid #dddddd'>tags</th><th style='border: 1px solid #dddddd'>monitor_definition_id</th><th style='border: 1px solid #dddddd'>monitor_instance_id</th><th style='border: 1px solid #dddddd'>run_id</th><th style='border: 1px solid #dddddd'>target_type</th><th style='border: 1px solid #dddddd'>target_id</th>\n",
       "                <tr><td style='border: 1px solid #dddddd'>2022-08-01 14:24:23.605000+00:00</td><td style='border: 1px solid #dddddd'>true_positive_rate</td><td style='border: 1px solid #dddddd'>fc3110e5-d894-4805-9a76-baf3bdaa603d</td><td style='border: 1px solid #dddddd'>0.6666666666666666</td><td style='border: 1px solid #dddddd'>None</td><td style='border: 1px solid #dddddd'>None</td><td style='border: 1px solid #dddddd'>['model_type:original']</td><td style='border: 1px solid #dddddd'>quality</td><td style='border: 1px solid #dddddd'>055aed06-a0a7-480d-97d8-4ec62bd6f7e0</td><td style='border: 1px solid #dddddd'>019bf67f-af80-44b5-a4d9-c8077afb78fd</td><td style='border: 1px solid #dddddd'>subscription</td><td style='border: 1px solid #dddddd'>6ed19a74-0643-4216-9f67-8b1ce743e29c</td></tr><tr><td style='border: 1px solid #dddddd'>2022-08-01 14:24:23.605000+00:00</td><td style='border: 1px solid #dddddd'>area_under_roc</td><td style='border: 1px solid #dddddd'>fc3110e5-d894-4805-9a76-baf3bdaa603d</td><td style='border: 1px solid #dddddd'>0.8333333333333333</td><td style='border: 1px solid #dddddd'>0.8</td><td style='border: 1px solid #dddddd'>None</td><td style='border: 1px solid #dddddd'>['model_type:original']</td><td style='border: 1px solid #dddddd'>quality</td><td style='border: 1px solid #dddddd'>055aed06-a0a7-480d-97d8-4ec62bd6f7e0</td><td style='border: 1px solid #dddddd'>019bf67f-af80-44b5-a4d9-c8077afb78fd</td><td style='border: 1px solid #dddddd'>subscription</td><td style='border: 1px solid #dddddd'>6ed19a74-0643-4216-9f67-8b1ce743e29c</td></tr><tr><td style='border: 1px solid #dddddd'>2022-08-01 14:24:23.605000+00:00</td><td style='border: 1px solid #dddddd'>precision</td><td style='border: 1px solid #dddddd'>fc3110e5-d894-4805-9a76-baf3bdaa603d</td><td style='border: 1px solid #dddddd'>1.0</td><td style='border: 1px solid #dddddd'>None</td><td style='border: 1px solid #dddddd'>None</td><td style='border: 1px solid #dddddd'>['model_type:original']</td><td style='border: 1px solid #dddddd'>quality</td><td style='border: 1px solid #dddddd'>055aed06-a0a7-480d-97d8-4ec62bd6f7e0</td><td style='border: 1px solid #dddddd'>019bf67f-af80-44b5-a4d9-c8077afb78fd</td><td style='border: 1px solid #dddddd'>subscription</td><td style='border: 1px solid #dddddd'>6ed19a74-0643-4216-9f67-8b1ce743e29c</td></tr><tr><td style='border: 1px solid #dddddd'>2022-08-01 14:24:23.605000+00:00</td><td style='border: 1px solid #dddddd'>f1_measure</td><td style='border: 1px solid #dddddd'>fc3110e5-d894-4805-9a76-baf3bdaa603d</td><td style='border: 1px solid #dddddd'>0.8</td><td style='border: 1px solid #dddddd'>None</td><td style='border: 1px solid #dddddd'>None</td><td style='border: 1px solid #dddddd'>['model_type:original']</td><td style='border: 1px solid #dddddd'>quality</td><td style='border: 1px solid #dddddd'>055aed06-a0a7-480d-97d8-4ec62bd6f7e0</td><td style='border: 1px solid #dddddd'>019bf67f-af80-44b5-a4d9-c8077afb78fd</td><td style='border: 1px solid #dddddd'>subscription</td><td style='border: 1px solid #dddddd'>6ed19a74-0643-4216-9f67-8b1ce743e29c</td></tr><tr><td style='border: 1px solid #dddddd'>2022-08-01 14:24:23.605000+00:00</td><td style='border: 1px solid #dddddd'>accuracy</td><td style='border: 1px solid #dddddd'>fc3110e5-d894-4805-9a76-baf3bdaa603d</td><td style='border: 1px solid #dddddd'>0.9166666666666666</td><td style='border: 1px solid #dddddd'>None</td><td style='border: 1px solid #dddddd'>None</td><td style='border: 1px solid #dddddd'>['model_type:original']</td><td style='border: 1px solid #dddddd'>quality</td><td style='border: 1px solid #dddddd'>055aed06-a0a7-480d-97d8-4ec62bd6f7e0</td><td style='border: 1px solid #dddddd'>019bf67f-af80-44b5-a4d9-c8077afb78fd</td><td style='border: 1px solid #dddddd'>subscription</td><td style='border: 1px solid #dddddd'>6ed19a74-0643-4216-9f67-8b1ce743e29c</td></tr><tr><td style='border: 1px solid #dddddd'>2022-08-01 14:24:23.605000+00:00</td><td style='border: 1px solid #dddddd'>log_loss</td><td style='border: 1px solid #dddddd'>fc3110e5-d894-4805-9a76-baf3bdaa603d</td><td style='border: 1px solid #dddddd'>0.7617815096623223</td><td style='border: 1px solid #dddddd'>None</td><td style='border: 1px solid #dddddd'>None</td><td style='border: 1px solid #dddddd'>['model_type:original']</td><td style='border: 1px solid #dddddd'>quality</td><td style='border: 1px solid #dddddd'>055aed06-a0a7-480d-97d8-4ec62bd6f7e0</td><td style='border: 1px solid #dddddd'>019bf67f-af80-44b5-a4d9-c8077afb78fd</td><td style='border: 1px solid #dddddd'>subscription</td><td style='border: 1px solid #dddddd'>6ed19a74-0643-4216-9f67-8b1ce743e29c</td></tr><tr><td style='border: 1px solid #dddddd'>2022-08-01 14:24:23.605000+00:00</td><td style='border: 1px solid #dddddd'>false_positive_rate</td><td style='border: 1px solid #dddddd'>fc3110e5-d894-4805-9a76-baf3bdaa603d</td><td style='border: 1px solid #dddddd'>0.0</td><td style='border: 1px solid #dddddd'>None</td><td style='border: 1px solid #dddddd'>None</td><td style='border: 1px solid #dddddd'>['model_type:original']</td><td style='border: 1px solid #dddddd'>quality</td><td style='border: 1px solid #dddddd'>055aed06-a0a7-480d-97d8-4ec62bd6f7e0</td><td style='border: 1px solid #dddddd'>019bf67f-af80-44b5-a4d9-c8077afb78fd</td><td style='border: 1px solid #dddddd'>subscription</td><td style='border: 1px solid #dddddd'>6ed19a74-0643-4216-9f67-8b1ce743e29c</td></tr><tr><td style='border: 1px solid #dddddd'>2022-08-01 14:24:23.605000+00:00</td><td style='border: 1px solid #dddddd'>area_under_pr</td><td style='border: 1px solid #dddddd'>fc3110e5-d894-4805-9a76-baf3bdaa603d</td><td style='border: 1px solid #dddddd'>0.875</td><td style='border: 1px solid #dddddd'>None</td><td style='border: 1px solid #dddddd'>None</td><td style='border: 1px solid #dddddd'>['model_type:original']</td><td style='border: 1px solid #dddddd'>quality</td><td style='border: 1px solid #dddddd'>055aed06-a0a7-480d-97d8-4ec62bd6f7e0</td><td style='border: 1px solid #dddddd'>019bf67f-af80-44b5-a4d9-c8077afb78fd</td><td style='border: 1px solid #dddddd'>subscription</td><td style='border: 1px solid #dddddd'>6ed19a74-0643-4216-9f67-8b1ce743e29c</td></tr><tr><td style='border: 1px solid #dddddd'>2022-08-01 14:24:23.605000+00:00</td><td style='border: 1px solid #dddddd'>recall</td><td style='border: 1px solid #dddddd'>fc3110e5-d894-4805-9a76-baf3bdaa603d</td><td style='border: 1px solid #dddddd'>0.6666666666666666</td><td style='border: 1px solid #dddddd'>None</td><td style='border: 1px solid #dddddd'>None</td><td style='border: 1px solid #dddddd'>['model_type:original']</td><td style='border: 1px solid #dddddd'>quality</td><td style='border: 1px solid #dddddd'>055aed06-a0a7-480d-97d8-4ec62bd6f7e0</td><td style='border: 1px solid #dddddd'>019bf67f-af80-44b5-a4d9-c8077afb78fd</td><td style='border: 1px solid #dddddd'>subscription</td><td style='border: 1px solid #dddddd'>6ed19a74-0643-4216-9f67-8b1ce743e29c</td></tr>\n",
       "            </table>\n",
       "        </body>\n",
       "        </HTML>"
      ],
      "text/plain": [
       "<IPython.core.display.HTML object>"
      ]
     },
     "metadata": {},
     "output_type": "display_data"
    }
   ],
   "source": [
    "time.sleep(5)\n",
    "wos_client.monitor_instances.show_metrics(monitor_instance_id=quality_monitor_instance_id)"
   ]
  },
  {
   "cell_type": "markdown",
   "metadata": {
    "id": "e8da7566-a9ce-4839-a653-b779f810636e"
   },
   "source": [
    "<a id=\"datamart\"></a>\n",
    "## 6. Get the logged data"
   ]
  },
  {
   "cell_type": "markdown",
   "metadata": {
    "id": "0cfcfeca-03ac-4177-a23a-2a9a559b0358"
   },
   "source": [
    "### Payload logging"
   ]
  },
  {
   "cell_type": "markdown",
   "metadata": {
    "id": "b504a117-b371-4ca4-acc6-ed138ce0f35e"
   },
   "source": [
    "#### Print schema of payload_logging table"
   ]
  },
  {
   "cell_type": "code",
   "execution_count": 45,
   "metadata": {
    "id": "5b0b0e39-b19b-477d-b2fb-1056f2afaf1d"
   },
   "outputs": [
    {
     "data": {
      "text/html": [
       "<HTML>\n",
       "        <body>\n",
       "            <h3>Schema of 9613059e-ebbf-45b0-81b1-81d3abe231a8 data set</h3>\n",
       "            <table style='border: 1px solid #dddddd; font-family: Courier'>\n",
       "                <th style='border: 1px solid #dddddd'>name</th><th style='border: 1px solid #dddddd'>type</th><th style='border: 1px solid #dddddd'>nullable</th>\n",
       "                <tr><td style='border: 1px solid #dddddd'>scoring_id</td><td style='border: 1px solid #dddddd'>string</td><td style='border: 1px solid #dddddd'>False</td></tr><tr><td style='border: 1px solid #dddddd'>scoring_timestamp</td><td style='border: 1px solid #dddddd'>timestamp</td><td style='border: 1px solid #dddddd'>False</td></tr><tr><td style='border: 1px solid #dddddd'>deployment_id</td><td style='border: 1px solid #dddddd'>string</td><td style='border: 1px solid #dddddd'>False</td></tr><tr><td style='border: 1px solid #dddddd'>asset_revision</td><td style='border: 1px solid #dddddd'>string</td><td style='border: 1px solid #dddddd'>True</td></tr><tr><td style='border: 1px solid #dddddd'>REGION</td><td style='border: 1px solid #dddddd'>double</td><td style='border: 1px solid #dddddd'>True</td></tr><tr><td style='border: 1px solid #dddddd'>Total_cases</td><td style='border: 1px solid #dddddd'>double</td><td style='border: 1px solid #dddddd'>True</td></tr><tr><td style='border: 1px solid #dddddd'>score</td><td style='border: 1px solid #dddddd'>{'containsNull': True, 'elementType': 'double', 'type': 'array'}</td><td style='border: 1px solid #dddddd'>True</td></tr><tr><td style='border: 1px solid #dddddd'>predicted_label</td><td style='border: 1px solid #dddddd'>integer</td><td style='border: 1px solid #dddddd'>True</td></tr><tr><td style='border: 1px solid #dddddd'>prediction_probability</td><td style='border: 1px solid #dddddd'>double</td><td style='border: 1px solid #dddddd'>True</td></tr>\n",
       "            </table>\n",
       "        </body>\n",
       "        </HTML>"
      ],
      "text/plain": [
       "<IPython.core.display.HTML object>"
      ]
     },
     "metadata": {},
     "output_type": "display_data"
    }
   ],
   "source": [
    "wos_client.data_sets.print_records_schema(data_set_id=payload_data_set_id)"
   ]
  },
  {
   "cell_type": "markdown",
   "metadata": {
    "id": "a7d3bdd2-68a5-45b3-89ee-6507eebcc704"
   },
   "source": [
    "<a id=\"fairness_and_explainability\"></a>\n",
    "## 7. Fairness, Drift monitoring and explanations"
   ]
  },
  {
   "cell_type": "markdown",
   "metadata": {
    "id": "2fdf5f1e-a892-45e8-89fb-a96655a88767"
   },
   "source": [
    "### Get payload data"
   ]
  },
  {
   "cell_type": "code",
   "execution_count": 57,
   "metadata": {
    "id": "bcb445f6-f77c-458d-b5be-bd51c9f9ff32"
   },
   "outputs": [],
   "source": [
    "scoring_data_filename='Data-region-RI-SM-Scoring.csv'\n",
    "scoring_data_filename_json='Data-region-RI-SM-Scoring.json'"
   ]
  },
  {
   "cell_type": "code",
   "execution_count": 58,
   "metadata": {
    "id": "cb7481fb90ee4ddb8ec6a5854b6444d9"
   },
   "outputs": [
    {
     "name": "stdout",
     "output_type": "stream",
     "text": [
      "--2022-08-01 14:35:02--  https://ibm-aws-immersion-day.s3.us-east-2.amazonaws.com/publicdata/Data-region-RI-SM-Scoring.json\n",
      "Resolving ibm-aws-immersion-day.s3.us-east-2.amazonaws.com (ibm-aws-immersion-day.s3.us-east-2.amazonaws.com)... 52.219.94.66\n",
      "Connecting to ibm-aws-immersion-day.s3.us-east-2.amazonaws.com (ibm-aws-immersion-day.s3.us-east-2.amazonaws.com)|52.219.94.66|:443... connected.\n",
      "HTTP request sent, awaiting response... 200 OK\n",
      "Length: 106 [application/json]\n",
      "Saving to: ‘Data-region-RI-SM-Scoring.json’\n",
      "\n",
      "Data-region-RI-SM-S 100%[===================>]     106  --.-KB/s    in 0s      \n",
      "\n",
      "2022-08-01 14:35:02 (2.63 MB/s) - ‘Data-region-RI-SM-Scoring.json’ saved [106/106]\n",
      "\n",
      "--2022-08-01 14:35:02--  https://ibm-aws-immersion-day.s3.us-east-2.amazonaws.com/publicdata/Data-region-RI-SM-Scoring.csv\n",
      "Resolving ibm-aws-immersion-day.s3.us-east-2.amazonaws.com (ibm-aws-immersion-day.s3.us-east-2.amazonaws.com)... 52.219.94.66\n",
      "Connecting to ibm-aws-immersion-day.s3.us-east-2.amazonaws.com (ibm-aws-immersion-day.s3.us-east-2.amazonaws.com)|52.219.94.66|:443... connected.\n",
      "HTTP request sent, awaiting response... 200 OK\n",
      "Length: 94 [text/csv]\n",
      "Saving to: ‘Data-region-RI-SM-Scoring.csv’\n",
      "\n",
      "Data-region-RI-SM-S 100%[===================>]      94  --.-KB/s    in 0s      \n",
      "\n",
      "2022-08-01 14:35:02 (2.34 MB/s) - ‘Data-region-RI-SM-Scoring.csv’ saved [94/94]\n",
      "\n"
     ]
    }
   ],
   "source": [
    "!rm Data-region-RI-SM-Scoring.csv\n",
    "!rm Data-region-RI-SM-Scoring.json\n",
    "!wget \"https://ibm-aws-immersion-day.s3.us-east-2.amazonaws.com/publicdata/Data-region-RI-SM-Scoring.json\"\n",
    "!wget \"https://ibm-aws-immersion-day.s3.us-east-2.amazonaws.com/publicdata/Data-region-RI-SM-Scoring.csv\""
   ]
  },
  {
   "cell_type": "code",
   "execution_count": 59,
   "metadata": {
    "id": "f7b1c646f0ab444d828d0ac7ba39538f"
   },
   "outputs": [],
   "source": [
    "data=pd.read_csv('https://ibm-aws-immersion-day.s3.us-east-2.amazonaws.com/publicdata/Data-region-RI-SM-Scoring.csv')"
   ]
  },
  {
   "cell_type": "code",
   "execution_count": 60,
   "metadata": {
    "id": "cb0f95d405a04f44a9f14f0b01d42045"
   },
   "outputs": [],
   "source": [
    "import io\n",
    "from io import StringIO\n",
    "csv_file = io.StringIO()\n",
    "# by default sagemaker expects comma seperated\n",
    "data.to_csv(csv_file, sep=\",\", header=False, index=False)\n",
    "scoring_data_filename = csv_file.getvalue()"
   ]
  },
  {
   "cell_type": "code",
   "execution_count": 61,
   "metadata": {
    "id": "98ccab660c7743a99c8ae5694326551a"
   },
   "outputs": [
    {
     "name": "stdout",
     "output_type": "stream",
     "text": [
      "{\n",
      "  \"predictions\": [\n",
      "    {\n",
      "      \"score\": [\n",
      "        0.02799299918115139,\n",
      "        0.7118191719055176,\n",
      "        0.2601878345012665\n",
      "      ],\n",
      "      \"predicted_label\": 1\n",
      "    },\n",
      "    {\n",
      "      \"score\": [\n",
      "        0.8067101836204529,\n",
      "        0.02732161432504654,\n",
      "        0.16596820950508118\n",
      "      ],\n",
      "      \"predicted_label\": 0\n",
      "    },\n",
      "    {\n",
      "      \"score\": [\n",
      "        0.010750409215688705,\n",
      "        0.19208674132823944,\n",
      "        0.7971628308296204\n",
      "      ],\n",
      "      \"predicted_label\": 2\n",
      "    },\n",
      "    {\n",
      "      \"score\": [\n",
      "        0.03177503123879433,\n",
      "        0.7168406248092651,\n",
      "        0.25138434767723083\n",
      "      ],\n",
      "      \"predicted_label\": 1\n",
      "    },\n",
      "    {\n",
      "      \"score\": [\n",
      "        0.7829863429069519,\n",
      "        0.029666010290384293,\n",
      "        0.18734769523143768\n",
      "      ],\n",
      "      \"predicted_label\": 0\n",
      "    },\n",
      "    {\n",
      "      \"score\": [\n",
      "        0.060710735619068146,\n",
      "        0.26483166217803955,\n",
      "        0.6744576096534729\n",
      "      ],\n",
      "      \"predicted_label\": 2\n",
      "    },\n",
      "    {\n",
      "      \"score\": [\n",
      "        0.041998133063316345,\n",
      "        0.7258813977241516,\n",
      "        0.23212049901485443\n",
      "      ],\n",
      "      \"predicted_label\": 1\n",
      "    },\n",
      "    {\n",
      "      \"score\": [\n",
      "        0.3273279070854187,\n",
      "        0.27560198307037354,\n",
      "        0.39707013964653015\n",
      "      ],\n",
      "      \"predicted_label\": 2\n",
      "    },\n",
      "    {\n",
      "      \"score\": [\n",
      "        0.05508704483509064,\n",
      "        0.7314295172691345,\n",
      "        0.21348345279693604\n",
      "      ],\n",
      "      \"predicted_label\": 1\n",
      "    },\n",
      "    {\n",
      "      \"score\": [\n",
      "        0.7493403553962708,\n",
      "        0.03281030058860779,\n",
      "        0.21784931421279907\n",
      "      ],\n",
      "      \"predicted_label\": 0\n",
      "    },\n",
      "    {\n",
      "      \"score\": [\n",
      "        0.826548159122467,\n",
      "        0.025272492319345474,\n",
      "        0.1481793373823166\n",
      "      ],\n",
      "      \"predicted_label\": 0\n",
      "    }\n",
      "  ]\n",
      "}\n"
     ]
    }
   ],
   "source": [
    "sm_runtime = boto3.client('sagemaker-runtime',\n",
    "                       region_name=SAGEMAKER_ENGINE_CREDENTIALS['region'],\n",
    "                       aws_access_key_id=SAGEMAKER_ENGINE_CREDENTIALS['access_key_id'],\n",
    "                       aws_secret_access_key=SAGEMAKER_ENGINE_CREDENTIALS['secret_access_key'])\n",
    "\n",
    "\n",
    "scoring_response = sm_runtime.invoke_endpoint(EndpointName = endpoint_name,\n",
    "                                                  ContentType = 'text/csv',\n",
    "                                                  Body = scoring_data_filename)\n",
    "    \n",
    "result = json.loads(scoring_response['Body'].read().decode())\n",
    "print(json.dumps(result, indent=2))"
   ]
  },
  {
   "cell_type": "code",
   "execution_count": 62,
   "metadata": {
    "id": "6da9de22-6714-42c6-a65d-173e7f4c64d9"
   },
   "outputs": [],
   "source": [
    "f = open(scoring_data_filename_json,\"r\")\n",
    "payload_values = json.load(f)\n",
    "request_data = {'fields': feature_columns, \n",
    "                'values': payload_values}\n",
    "\n",
    "response_data = {'fields': list(result['predictions'][0]),\n",
    "                 'values': [list(x.values()) for x in result['predictions']]}\n"
   ]
  },
  {
   "cell_type": "code",
   "execution_count": 64,
   "metadata": {
    "id": "6b2162d3-9d90-44a2-9426-23839cc02071"
   },
   "outputs": [
    {
     "name": "stdout",
     "output_type": "stream",
     "text": [
      "Performing explicit payload logging.....\n",
      "Number of records in the payload logging table: 13\n"
     ]
    }
   ],
   "source": [
    "import uuid\n",
    "from ibm_watson_openscale.supporting_classes.payload_record import PayloadRecord\n",
    "\n",
    "print(\"Performing explicit payload logging.....\")\n",
    "wos_client.data_sets.store_records(data_set_id=payload_data_set_id, request_body=[PayloadRecord(\n",
    "           scoring_id=str(uuid.uuid4()),\n",
    "           request=request_data,\n",
    "           response=response_data,\n",
    "           response_time=460\n",
    ")])\n",
    "time.sleep(5)\n",
    "pl_records_count = wos_client.data_sets.get_records_count(payload_data_set_id)\n",
    "print(\"Number of records in the payload logging table: {}\".format(pl_records_count))"
   ]
  },
  {
   "cell_type": "code",
   "execution_count": 65,
   "metadata": {
    "id": "e0b7bc5d-ddd1-4e7d-8e5a-14ea4192eaf1"
   },
   "outputs": [
    {
     "data": {
      "text/html": [
       "<HTML>\n",
       "        <body>\n",
       "            <h3>Data Set 9613059e-ebbf-45b0-81b1-81d3abe231a8 Records</h3>\n",
       "            <table style='border: 1px solid #dddddd; font-family: Courier'>\n",
       "                <th style='border: 1px solid #dddddd'>asset_revision</th><th style='border: 1px solid #dddddd'>scoring_id</th><th style='border: 1px solid #dddddd'>predicted_label</th><th style='border: 1px solid #dddddd'>scoring_timestamp</th><th style='border: 1px solid #dddddd'>prediction_probability</th><th style='border: 1px solid #dddddd'>score</th><th style='border: 1px solid #dddddd'>REGION</th><th style='border: 1px solid #dddddd'>deployment_id</th><th style='border: 1px solid #dddddd'>Total_cases</th>\n",
       "                <tr><td style='border: 1px solid #dddddd'>None</td><td style='border: 1px solid #dddddd'>6b30cfa7-81ab-4db5-98ea-a23f54f6f387-1</td><td style='border: 1px solid #dddddd'>1.0</td><td style='border: 1px solid #dddddd'>2022-08-01T14:35:19.873Z</td><td style='border: 1px solid #dddddd'>0.7118191719055176</td><td style='border: 1px solid #dddddd'>[0.02799299918115139, 0.7118191719055176, 0.2601878345012665]</td><td style='border: 1px solid #dddddd'>1.0</td><td style='border: 1px solid #dddddd'>654baaba1f64b18d75ec863442e6a1ec</td><td style='border: 1px solid #dddddd'>10575.0</td></tr><tr><td style='border: 1px solid #dddddd'>None</td><td style='border: 1px solid #dddddd'>6b30cfa7-81ab-4db5-98ea-a23f54f6f387-10</td><td style='border: 1px solid #dddddd'>0.0</td><td style='border: 1px solid #dddddd'>2022-08-01T14:35:19.873Z</td><td style='border: 1px solid #dddddd'>0.7493403553962708</td><td style='border: 1px solid #dddddd'>[0.7493403553962708, 0.03281030058860779, 0.21784931421279907]</td><td style='border: 1px solid #dddddd'>2.0</td><td style='border: 1px solid #dddddd'>654baaba1f64b18d75ec863442e6a1ec</td><td style='border: 1px solid #dddddd'>200.0</td></tr><tr><td style='border: 1px solid #dddddd'>None</td><td style='border: 1px solid #dddddd'>6b30cfa7-81ab-4db5-98ea-a23f54f6f387-11</td><td style='border: 1px solid #dddddd'>0.0</td><td style='border: 1px solid #dddddd'>2022-08-01T14:35:19.873Z</td><td style='border: 1px solid #dddddd'>0.826548159122467</td><td style='border: 1px solid #dddddd'>[0.826548159122467, 0.025272492319345474, 0.1481793373823166]</td><td style='border: 1px solid #dddddd'>0.0</td><td style='border: 1px solid #dddddd'>654baaba1f64b18d75ec863442e6a1ec</td><td style='border: 1px solid #dddddd'>1400.0</td></tr><tr><td style='border: 1px solid #dddddd'>None</td><td style='border: 1px solid #dddddd'>6b30cfa7-81ab-4db5-98ea-a23f54f6f387-12</td><td style='border: 1px solid #dddddd'>nan</td><td style='border: 1px solid #dddddd'>2022-08-01T14:35:19.873Z</td><td style='border: 1px solid #dddddd'>nan</td><td style='border: 1px solid #dddddd'>[]</td><td style='border: 1px solid #dddddd'>0.0</td><td style='border: 1px solid #dddddd'>654baaba1f64b18d75ec863442e6a1ec</td><td style='border: 1px solid #dddddd'>350.0</td></tr><tr><td style='border: 1px solid #dddddd'>None</td><td style='border: 1px solid #dddddd'>6b30cfa7-81ab-4db5-98ea-a23f54f6f387-2</td><td style='border: 1px solid #dddddd'>0.0</td><td style='border: 1px solid #dddddd'>2022-08-01T14:35:19.873Z</td><td style='border: 1px solid #dddddd'>0.8067101836204529</td><td style='border: 1px solid #dddddd'>[0.8067101836204529, 0.02732161432504654, 0.16596820950508118]</td><td style='border: 1px solid #dddddd'>2.0</td><td style='border: 1px solid #dddddd'>654baaba1f64b18d75ec863442e6a1ec</td><td style='border: 1px solid #dddddd'>2100.0</td></tr><tr><td style='border: 1px solid #dddddd'>None</td><td style='border: 1px solid #dddddd'>6b30cfa7-81ab-4db5-98ea-a23f54f6f387-3</td><td style='border: 1px solid #dddddd'>2.0</td><td style='border: 1px solid #dddddd'>2022-08-01T14:35:19.873Z</td><td style='border: 1px solid #dddddd'>0.7971628308296204</td><td style='border: 1px solid #dddddd'>[0.010750409215688705, 0.19208674132823944, 0.7971628308296204]</td><td style='border: 1px solid #dddddd'>0.0</td><td style='border: 1px solid #dddddd'>654baaba1f64b18d75ec863442e6a1ec</td><td style='border: 1px solid #dddddd'>649.0</td></tr><tr><td style='border: 1px solid #dddddd'>None</td><td style='border: 1px solid #dddddd'>6b30cfa7-81ab-4db5-98ea-a23f54f6f387-4</td><td style='border: 1px solid #dddddd'>1.0</td><td style='border: 1px solid #dddddd'>2022-08-01T14:35:19.873Z</td><td style='border: 1px solid #dddddd'>0.7168406248092651</td><td style='border: 1px solid #dddddd'>[0.03177503123879433, 0.7168406248092651, 0.25138434767723083]</td><td style='border: 1px solid #dddddd'>1.0</td><td style='border: 1px solid #dddddd'>654baaba1f64b18d75ec863442e6a1ec</td><td style='border: 1px solid #dddddd'>10023.0</td></tr><tr><td style='border: 1px solid #dddddd'>None</td><td style='border: 1px solid #dddddd'>6b30cfa7-81ab-4db5-98ea-a23f54f6f387-5</td><td style='border: 1px solid #dddddd'>0.0</td><td style='border: 1px solid #dddddd'>2022-08-01T14:35:19.873Z</td><td style='border: 1px solid #dddddd'>0.7829863429069519</td><td style='border: 1px solid #dddddd'>[0.7829863429069519, 0.029666010290384293, 0.18734769523143768]</td><td style='border: 1px solid #dddddd'>2.0</td><td style='border: 1px solid #dddddd'>654baaba1f64b18d75ec863442e6a1ec</td><td style='border: 1px solid #dddddd'>1750.0</td></tr><tr><td style='border: 1px solid #dddddd'>None</td><td style='border: 1px solid #dddddd'>6b30cfa7-81ab-4db5-98ea-a23f54f6f387-6</td><td style='border: 1px solid #dddddd'>2.0</td><td style='border: 1px solid #dddddd'>2022-08-01T14:35:19.873Z</td><td style='border: 1px solid #dddddd'>0.6744576096534729</td><td style='border: 1px solid #dddddd'>[0.060710735619068146, 0.26483166217803955, 0.6744576096534729]</td><td style='border: 1px solid #dddddd'>0.0</td><td style='border: 1px solid #dddddd'>654baaba1f64b18d75ec863442e6a1ec</td><td style='border: 1px solid #dddddd'>977.0</td></tr><tr><td style='border: 1px solid #dddddd'>None</td><td style='border: 1px solid #dddddd'>6b30cfa7-81ab-4db5-98ea-a23f54f6f387-7</td><td style='border: 1px solid #dddddd'>1.0</td><td style='border: 1px solid #dddddd'>2022-08-01T14:35:19.873Z</td><td style='border: 1px solid #dddddd'>0.7258813977241516</td><td style='border: 1px solid #dddddd'>[0.041998133063316345, 0.7258813977241516, 0.23212049901485443]</td><td style='border: 1px solid #dddddd'>1.0</td><td style='border: 1px solid #dddddd'>654baaba1f64b18d75ec863442e6a1ec</td><td style='border: 1px solid #dddddd'>5900.0</td></tr>\n",
       "            </table>\n",
       "        </body>\n",
       "        </HTML>"
      ],
      "text/plain": [
       "<IPython.core.display.HTML object>"
      ]
     },
     "metadata": {},
     "output_type": "display_data"
    }
   ],
   "source": [
    "wos_client.data_sets.show_records(payload_data_set_id)"
   ]
  },
  {
   "cell_type": "markdown",
   "metadata": {
    "id": "11a99b20-05d3-4725-8531-363ea5906f29"
   },
   "source": [
    "### Enable and run fairness monitoring"
   ]
  },
  {
   "cell_type": "code",
   "execution_count": 66,
   "metadata": {
    "id": "d9e3bd57-5661-452b-9d99-c30773c597f5"
   },
   "outputs": [
    {
     "name": "stdout",
     "output_type": "stream",
     "text": [
      "\n",
      "\n",
      "===================================================================================\n",
      "\n",
      " Waiting for end of monitor instance creation c24491ec-baee-40e9-9a7d-aed76f04a12f \n",
      "\n",
      "===================================================================================\n",
      "\n",
      "\n",
      "\n",
      "active\n",
      "\n",
      "---------------------------------------\n",
      " Monitor instance successfully created \n",
      "---------------------------------------\n",
      "\n",
      "\n"
     ]
    },
    {
     "data": {
      "text/plain": [
       "'c24491ec-baee-40e9-9a7d-aed76f04a12f'"
      ]
     },
     "execution_count": 66,
     "metadata": {},
     "output_type": "execute_result"
    }
   ],
   "source": [
    "target = Target(\n",
    "    target_type=TargetTypes.SUBSCRIPTION,\n",
    "    target_id=subscription_id\n",
    "\n",
    ")\n",
    "parameters = {\n",
    "    \"features\": [\n",
    "        {\"feature\": \"REGION\",\n",
    "         \"majority\": [[1,1]],\n",
    "         \"minority\": [[0,0]],\n",
    "         \"threshold\": 0.95\n",
    "         }\n",
    "    ],\n",
    "    \"favourable_class\": [0],\n",
    "    \"unfavourable_class\": [2],\n",
    "    \"min_records\": 10\n",
    "}\n",
    "\n",
    "fairness_monitor_details = wos_client.monitor_instances.create(\n",
    "    data_mart_id=data_mart_id,\n",
    "    background_mode=False,\n",
    "    monitor_definition_id=wos_client.monitor_definitions.MONITORS.FAIRNESS.ID,\n",
    "    target=target,\n",
    "    parameters=parameters).result\n",
    "fairness_monitor_instance_id =fairness_monitor_details.metadata.id\n",
    "fairness_monitor_instance_id"
   ]
  },
  {
   "cell_type": "markdown",
   "metadata": {
    "id": "aca0c5f9-cacc-457c-9e5a-a5814e3a96e9"
   },
   "source": [
    "### Run fairness monitor"
   ]
  },
  {
   "cell_type": "code",
   "execution_count": 67,
   "metadata": {
    "id": "e4e9ecd0-52cc-4253-bacd-786144006fd0"
   },
   "outputs": [
    {
     "data": {
      "text/html": [
       "<HTML>\n",
       "        <body>\n",
       "            <h3>c24491ec-baee-40e9-9a7d-aed76f04a12f Monitor Runs Metrics from: 2022-07-25 14:36:15.661360  till: 2022-08-01 14:36:15.661381</h3>\n",
       "            <table style='border: 1px solid #dddddd; font-family: Courier'>\n",
       "                <th style='border: 1px solid #dddddd'>ts</th><th style='border: 1px solid #dddddd'>id</th><th style='border: 1px solid #dddddd'>measurement_id</th><th style='border: 1px solid #dddddd'>value</th><th style='border: 1px solid #dddddd'>lower_limit</th><th style='border: 1px solid #dddddd'>upper_limit</th><th style='border: 1px solid #dddddd'>tags</th><th style='border: 1px solid #dddddd'>monitor_definition_id</th><th style='border: 1px solid #dddddd'>monitor_instance_id</th><th style='border: 1px solid #dddddd'>run_id</th><th style='border: 1px solid #dddddd'>target_type</th><th style='border: 1px solid #dddddd'>target_id</th>\n",
       "                <tr><td style='border: 1px solid #dddddd'>2022-08-01 14:35:56.089376+00:00</td><td style='border: 1px solid #dddddd'>fairness_value</td><td style='border: 1px solid #dddddd'>280f4d62-3cb5-45ea-9824-93dd20aa16a4</td><td style='border: 1px solid #dddddd'>100.0</td><td style='border: 1px solid #dddddd'>80.0</td><td style='border: 1px solid #dddddd'>None</td><td style='border: 1px solid #dddddd'>['feature:REGION', 'fairness_metric_type:debiased_fairness', 'feature_value:0-0']</td><td style='border: 1px solid #dddddd'>fairness</td><td style='border: 1px solid #dddddd'>c24491ec-baee-40e9-9a7d-aed76f04a12f</td><td style='border: 1px solid #dddddd'>fc75fba9-3af8-421e-9d0b-59c47bb170ee</td><td style='border: 1px solid #dddddd'>subscription</td><td style='border: 1px solid #dddddd'>6ed19a74-0643-4216-9f67-8b1ce743e29c</td></tr><tr><td style='border: 1px solid #dddddd'>2022-08-01 14:35:56.089376+00:00</td><td style='border: 1px solid #dddddd'>fairness_value</td><td style='border: 1px solid #dddddd'>dc0f8d8b-c3cf-4848-80f6-af6579951bef</td><td style='border: 1px solid #dddddd'>100.0</td><td style='border: 1px solid #dddddd'>80.0</td><td style='border: 1px solid #dddddd'>None</td><td style='border: 1px solid #dddddd'>['feature:REGION', 'fairness_metric_type:fairness', 'feature_value:0-0']</td><td style='border: 1px solid #dddddd'>fairness</td><td style='border: 1px solid #dddddd'>c24491ec-baee-40e9-9a7d-aed76f04a12f</td><td style='border: 1px solid #dddddd'>fc75fba9-3af8-421e-9d0b-59c47bb170ee</td><td style='border: 1px solid #dddddd'>subscription</td><td style='border: 1px solid #dddddd'>6ed19a74-0643-4216-9f67-8b1ce743e29c</td></tr>\n",
       "            </table>\n",
       "        </body>\n",
       "        </HTML>"
      ],
      "text/plain": [
       "<IPython.core.display.HTML object>"
      ]
     },
     "metadata": {},
     "output_type": "display_data"
    }
   ],
   "source": [
    "time.sleep(20)\n",
    "#Note: When you create fairness monitor, initial run is also created\n",
    "wos_client.monitor_instances.show_metrics(monitor_instance_id=fairness_monitor_instance_id)"
   ]
  },
  {
   "cell_type": "markdown",
   "metadata": {
    "id": "a7975b8f-ce14-4c70-818c-e1b622005f02"
   },
   "source": [
    "### Enable and run Drift monitoring"
   ]
  },
  {
   "cell_type": "markdown",
   "metadata": {
    "id": "10145390-cedd-460d-aec0-787ada2d9c4c"
   },
   "source": [
    "#### Drift monitoring requires a trained model to be uploaded manually in the Watson OpenScale Dashboard. Please check the documentation for more details."
   ]
  },
  {
   "cell_type": "markdown",
   "metadata": {
    "id": "9a1b191c-3fbe-4273-a1f0-926dc78674f1"
   },
   "source": [
    "### Enable Explainability and run explanation on sample record. This metric is applicable for Binary Classification usecase where as Risk Index prediction is multiclass classification usecase."
   ]
  },
  {
   "cell_type": "code",
   "execution_count": 68,
   "metadata": {
    "id": "f3111eff-6c2a-458a-b5ad-bfd1c3703499"
   },
   "outputs": [
    {
     "name": "stdout",
     "output_type": "stream",
     "text": [
      "\n",
      "\n",
      "===================================================================================\n",
      "\n",
      " Waiting for end of monitor instance creation 858c71e5-55fb-458e-b988-ed79bda0b904 \n",
      "\n",
      "===================================================================================\n",
      "\n",
      "\n",
      "\n",
      "error\n",
      "\n",
      "-----------------------------------------------------\n",
      " Monitor instance creation failed with status: error \n",
      "-----------------------------------------------------\n",
      "\n",
      "\n",
      "Reason: ['code: AIQCS0002E, message: Action `Enable Monitor` has failed with status code 400', \"code: AIQES2015E, message: The training data reference contains missing location/connection keys. Details: missing_location_params:[], missing_connection_params:['api_key', 'resource_instance_id']\"]\n"
     ]
    }
   ],
   "source": [
    "target = Target(\n",
    "    target_type=TargetTypes.SUBSCRIPTION,\n",
    "    target_id=subscription_id\n",
    ")\n",
    "parameters = {\n",
    "    \"enabled\": True\n",
    "}\n",
    "explainability_details = wos_client.monitor_instances.create(\n",
    "    data_mart_id=data_mart_id,\n",
    "    background_mode=False,\n",
    "    monitor_definition_id=wos_client.monitor_definitions.MONITORS.EXPLAINABILITY.ID,\n",
    "    target=target,\n",
    "    parameters=parameters\n",
    ").result"
   ]
  },
  {
   "cell_type": "markdown",
   "metadata": {
    "id": "d2fefc3f-3d85-47fe-a107-ee23b429e595"
   },
   "source": [
    "Getting a `transaction_id` to run explanation on"
   ]
  },
  {
   "cell_type": "code",
   "execution_count": 69,
   "metadata": {
    "id": "7043112c-755f-41d4-bdf7-48fba0e0396e"
   },
   "outputs": [
    {
     "data": {
      "text/plain": [
       "'858c71e5-55fb-458e-b988-ed79bda0b904'"
      ]
     },
     "execution_count": 69,
     "metadata": {},
     "output_type": "execute_result"
    }
   ],
   "source": [
    "explainability_monitor_id = explainability_details.metadata.id\n",
    "explainability_monitor_id"
   ]
  },
  {
   "cell_type": "code",
   "execution_count": 70,
   "metadata": {
    "id": "dab932e7-41ce-413c-b56d-49163dd64ae8"
   },
   "outputs": [
    {
     "data": {
      "text/html": [
       "<HTML>\n",
       "        <body>\n",
       "            <h3>Data Set 9613059e-ebbf-45b0-81b1-81d3abe231a8 Records</h3>\n",
       "            <table style='border: 1px solid #dddddd; font-family: Courier'>\n",
       "                <th style='border: 1px solid #dddddd'>asset_revision</th><th style='border: 1px solid #dddddd'>debiased_probability</th><th style='border: 1px solid #dddddd'>scoring_id</th><th style='border: 1px solid #dddddd'>predicted_label</th><th style='border: 1px solid #dddddd'>scoring_timestamp</th><th style='border: 1px solid #dddddd'>prediction_probability</th><th style='border: 1px solid #dddddd'>score</th><th style='border: 1px solid #dddddd'>REGION</th><th style='border: 1px solid #dddddd'>deployment_id</th><th style='border: 1px solid #dddddd'>Total_cases</th><th style='border: 1px solid #dddddd'>debiased_prediction</th>\n",
       "                <tr><td style='border: 1px solid #dddddd'>None</td><td style='border: 1px solid #dddddd'>[0.02799299918115139, 0.7118191719055176, 0.2601878345012665]</td><td style='border: 1px solid #dddddd'>6b30cfa7-81ab-4db5-98ea-a23f54f6f387-1</td><td style='border: 1px solid #dddddd'>1.0</td><td style='border: 1px solid #dddddd'>2022-08-01T14:35:19.873Z</td><td style='border: 1px solid #dddddd'>0.7118191719055176</td><td style='border: 1px solid #dddddd'>[0.02799299918115139, 0.7118191719055176, 0.2601878345012665]</td><td style='border: 1px solid #dddddd'>1.0</td><td style='border: 1px solid #dddddd'>654baaba1f64b18d75ec863442e6a1ec</td><td style='border: 1px solid #dddddd'>10575.0</td><td style='border: 1px solid #dddddd'>1.0</td></tr><tr><td style='border: 1px solid #dddddd'>None</td><td style='border: 1px solid #dddddd'>[0.7493403553962708, 0.03281030058860779, 0.21784931421279907]</td><td style='border: 1px solid #dddddd'>6b30cfa7-81ab-4db5-98ea-a23f54f6f387-10</td><td style='border: 1px solid #dddddd'>0.0</td><td style='border: 1px solid #dddddd'>2022-08-01T14:35:19.873Z</td><td style='border: 1px solid #dddddd'>0.7493403553962708</td><td style='border: 1px solid #dddddd'>[0.7493403553962708, 0.03281030058860779, 0.21784931421279907]</td><td style='border: 1px solid #dddddd'>2.0</td><td style='border: 1px solid #dddddd'>654baaba1f64b18d75ec863442e6a1ec</td><td style='border: 1px solid #dddddd'>200.0</td><td style='border: 1px solid #dddddd'>0.0</td></tr><tr><td style='border: 1px solid #dddddd'>None</td><td style='border: 1px solid #dddddd'>[0.826548159122467, 0.025272492319345474, 0.1481793373823166]</td><td style='border: 1px solid #dddddd'>6b30cfa7-81ab-4db5-98ea-a23f54f6f387-11</td><td style='border: 1px solid #dddddd'>0.0</td><td style='border: 1px solid #dddddd'>2022-08-01T14:35:19.873Z</td><td style='border: 1px solid #dddddd'>0.826548159122467</td><td style='border: 1px solid #dddddd'>[0.826548159122467, 0.025272492319345474, 0.1481793373823166]</td><td style='border: 1px solid #dddddd'>0.0</td><td style='border: 1px solid #dddddd'>654baaba1f64b18d75ec863442e6a1ec</td><td style='border: 1px solid #dddddd'>1400.0</td><td style='border: 1px solid #dddddd'>0.0</td></tr><tr><td style='border: 1px solid #dddddd'>None</td><td style='border: 1px solid #dddddd'>None</td><td style='border: 1px solid #dddddd'>6b30cfa7-81ab-4db5-98ea-a23f54f6f387-12</td><td style='border: 1px solid #dddddd'>nan</td><td style='border: 1px solid #dddddd'>2022-08-01T14:35:19.873Z</td><td style='border: 1px solid #dddddd'>nan</td><td style='border: 1px solid #dddddd'>[]</td><td style='border: 1px solid #dddddd'>0.0</td><td style='border: 1px solid #dddddd'>654baaba1f64b18d75ec863442e6a1ec</td><td style='border: 1px solid #dddddd'>350.0</td><td style='border: 1px solid #dddddd'>nan</td></tr><tr><td style='border: 1px solid #dddddd'>None</td><td style='border: 1px solid #dddddd'>[0.8067101836204529, 0.02732161432504654, 0.16596820950508118]</td><td style='border: 1px solid #dddddd'>6b30cfa7-81ab-4db5-98ea-a23f54f6f387-2</td><td style='border: 1px solid #dddddd'>0.0</td><td style='border: 1px solid #dddddd'>2022-08-01T14:35:19.873Z</td><td style='border: 1px solid #dddddd'>0.8067101836204529</td><td style='border: 1px solid #dddddd'>[0.8067101836204529, 0.02732161432504654, 0.16596820950508118]</td><td style='border: 1px solid #dddddd'>2.0</td><td style='border: 1px solid #dddddd'>654baaba1f64b18d75ec863442e6a1ec</td><td style='border: 1px solid #dddddd'>2100.0</td><td style='border: 1px solid #dddddd'>0.0</td></tr><tr><td style='border: 1px solid #dddddd'>None</td><td style='border: 1px solid #dddddd'>[0.010750409215688705, 0.19208674132823944, 0.7971628308296204]</td><td style='border: 1px solid #dddddd'>6b30cfa7-81ab-4db5-98ea-a23f54f6f387-3</td><td style='border: 1px solid #dddddd'>2.0</td><td style='border: 1px solid #dddddd'>2022-08-01T14:35:19.873Z</td><td style='border: 1px solid #dddddd'>0.7971628308296204</td><td style='border: 1px solid #dddddd'>[0.010750409215688705, 0.19208674132823944, 0.7971628308296204]</td><td style='border: 1px solid #dddddd'>0.0</td><td style='border: 1px solid #dddddd'>654baaba1f64b18d75ec863442e6a1ec</td><td style='border: 1px solid #dddddd'>649.0</td><td style='border: 1px solid #dddddd'>2.0</td></tr><tr><td style='border: 1px solid #dddddd'>None</td><td style='border: 1px solid #dddddd'>[0.03177503123879433, 0.7168406248092651, 0.25138434767723083]</td><td style='border: 1px solid #dddddd'>6b30cfa7-81ab-4db5-98ea-a23f54f6f387-4</td><td style='border: 1px solid #dddddd'>1.0</td><td style='border: 1px solid #dddddd'>2022-08-01T14:35:19.873Z</td><td style='border: 1px solid #dddddd'>0.7168406248092651</td><td style='border: 1px solid #dddddd'>[0.03177503123879433, 0.7168406248092651, 0.25138434767723083]</td><td style='border: 1px solid #dddddd'>1.0</td><td style='border: 1px solid #dddddd'>654baaba1f64b18d75ec863442e6a1ec</td><td style='border: 1px solid #dddddd'>10023.0</td><td style='border: 1px solid #dddddd'>1.0</td></tr><tr><td style='border: 1px solid #dddddd'>None</td><td style='border: 1px solid #dddddd'>[0.7829863429069519, 0.029666010290384293, 0.18734769523143768]</td><td style='border: 1px solid #dddddd'>6b30cfa7-81ab-4db5-98ea-a23f54f6f387-5</td><td style='border: 1px solid #dddddd'>0.0</td><td style='border: 1px solid #dddddd'>2022-08-01T14:35:19.873Z</td><td style='border: 1px solid #dddddd'>0.7829863429069519</td><td style='border: 1px solid #dddddd'>[0.7829863429069519, 0.029666010290384293, 0.18734769523143768]</td><td style='border: 1px solid #dddddd'>2.0</td><td style='border: 1px solid #dddddd'>654baaba1f64b18d75ec863442e6a1ec</td><td style='border: 1px solid #dddddd'>1750.0</td><td style='border: 1px solid #dddddd'>0.0</td></tr><tr><td style='border: 1px solid #dddddd'>None</td><td style='border: 1px solid #dddddd'>[0.060710735619068146, 0.26483166217803955, 0.6744576096534729]</td><td style='border: 1px solid #dddddd'>6b30cfa7-81ab-4db5-98ea-a23f54f6f387-6</td><td style='border: 1px solid #dddddd'>2.0</td><td style='border: 1px solid #dddddd'>2022-08-01T14:35:19.873Z</td><td style='border: 1px solid #dddddd'>0.6744576096534729</td><td style='border: 1px solid #dddddd'>[0.060710735619068146, 0.26483166217803955, 0.6744576096534729]</td><td style='border: 1px solid #dddddd'>0.0</td><td style='border: 1px solid #dddddd'>654baaba1f64b18d75ec863442e6a1ec</td><td style='border: 1px solid #dddddd'>977.0</td><td style='border: 1px solid #dddddd'>2.0</td></tr><tr><td style='border: 1px solid #dddddd'>None</td><td style='border: 1px solid #dddddd'>[0.041998133063316345, 0.7258813977241516, 0.23212049901485443]</td><td style='border: 1px solid #dddddd'>6b30cfa7-81ab-4db5-98ea-a23f54f6f387-7</td><td style='border: 1px solid #dddddd'>1.0</td><td style='border: 1px solid #dddddd'>2022-08-01T14:35:19.873Z</td><td style='border: 1px solid #dddddd'>0.7258813977241516</td><td style='border: 1px solid #dddddd'>[0.041998133063316345, 0.7258813977241516, 0.23212049901485443]</td><td style='border: 1px solid #dddddd'>1.0</td><td style='border: 1px solid #dddddd'>654baaba1f64b18d75ec863442e6a1ec</td><td style='border: 1px solid #dddddd'>5900.0</td><td style='border: 1px solid #dddddd'>1.0</td></tr>\n",
       "            </table>\n",
       "        </body>\n",
       "        </HTML>"
      ],
      "text/plain": [
       "<IPython.core.display.HTML object>"
      ]
     },
     "metadata": {},
     "output_type": "display_data"
    }
   ],
   "source": [
    "wos_client.data_sets.show_records(data_set_id=payload_data_set_id)"
   ]
  },
  {
   "cell_type": "code",
   "execution_count": 71,
   "metadata": {
    "id": "7f69deca-872d-4ca6-b4fa-4c642c949df0"
   },
   "outputs": [
    {
     "name": "stdout",
     "output_type": "stream",
     "text": [
      "Running explanations on scoring IDs: ['6b30cfa7-81ab-4db5-98ea-a23f54f6f387-1', '6b30cfa7-81ab-4db5-98ea-a23f54f6f387-10', '6b30cfa7-81ab-4db5-98ea-a23f54f6f387-11', '6b30cfa7-81ab-4db5-98ea-a23f54f6f387-12', '6b30cfa7-81ab-4db5-98ea-a23f54f6f387-2']\n",
      "{\n",
      "  \"metadata\": {\n",
      "    \"explanation_task_ids\": [\n",
      "      \"5ef6e369-df72-4abb-8024-0819f481ab1c\",\n",
      "      \"c3523b69-187d-4435-a71b-6a6981395360\",\n",
      "      \"2f2848c4-6960-462b-9cfa-5951d3cc584b\",\n",
      "      \"7e042c9b-418b-41b5-b745-e8fd5c3ab716\",\n",
      "      \"60f72b5a-a6cd-4467-a805-87d8681c4b19\"\n",
      "    ],\n",
      "    \"created_by\": \"IBMid-50YWG7G0UB\",\n",
      "    \"created_at\": \"2022-08-01T14:37:59.692339Z\"\n",
      "  }\n",
      "}\n"
     ]
    },
    {
     "data": {
      "text/plain": [
       "'5ef6e369-df72-4abb-8024-0819f481ab1c'"
      ]
     },
     "execution_count": 71,
     "metadata": {},
     "output_type": "execute_result"
    }
   ],
   "source": [
    "payload_data = wos_client.data_sets.get_list_of_records(limit=5,data_set_id=payload_data_set_id,output_type='pandas').result\n",
    "scoring_ids=payload_data['scoring_id'].tolist()\n",
    "print(\"Running explanations on scoring IDs: {}\".format(scoring_ids))\n",
    "explanation_types = [\"lime\", \"contrastive\"]\n",
    "result = wos_client.monitor_instances.explanation_tasks(scoring_ids=scoring_ids, explanation_types=explanation_types).result\n",
    "print(result)\n",
    "explanation_task_id=result.to_dict()['metadata']['explanation_task_ids'][0]\n",
    "explanation_task_id"
   ]
  },
  {
   "cell_type": "code",
   "execution_count": 72,
   "metadata": {
    "id": "97976891-089b-4b3a-adcd-fc8bc55d42e5"
   },
   "outputs": [
    {
     "data": {
      "text/plain": [
       "{'metadata': {'explanation_task_id': '5ef6e369-df72-4abb-8024-0819f481ab1c',\n",
       "  'created_by': 'IBMid-50YWG7G0UB',\n",
       "  'created_at': '2022-08-01T14:37:59.692339Z'},\n",
       " 'entity': {'status': {'state': 'in_progress'},\n",
       "  'scoring_id': '6b30cfa7-81ab-4db5-98ea-a23f54f6f387-1'}}"
      ]
     },
     "execution_count": 72,
     "metadata": {},
     "output_type": "execute_result"
    }
   ],
   "source": [
    "wos_client.monitor_instances.get_explanation_tasks(explanation_task_id=explanation_task_id).result.to_dict()"
   ]
  },
  {
   "cell_type": "markdown",
   "metadata": {
    "id": "e8efa91e-375f-4eb1-b137-249c30787f9f"
   },
   "source": [
    "You can now view the [OpenScale Dashboard](https://aiopenscale.cloud.ibm.com/). Click on the tile for the Risk Index AWS model to see fairness, accuracy, and performance monitors. "
   ]
  },
  {
   "cell_type": "markdown",
   "metadata": {},
   "source": [
    "### In this Notebook, we have learnt how to configure the metrics for monitoring the SageMaker model using Watson OpenScale. Fairness & Quality metrics have been programmatically configuered using this notebook. Drift model has to be configuered manually using the steps listed in the documentation. Explainability metric works for Binary Classification only and Risk Index prediction is multiclass classification (three classes)."
   ]
  },
  {
   "cell_type": "markdown",
   "metadata": {
    "id": "a233fab5-3712-4fe9-988e-0a3ddc379d9f"
   },
   "source": [
    "---"
   ]
  }
 ],
 "metadata": {
  "kernelspec": {
   "display_name": "Python 3 (ipykernel)",
   "language": "python",
   "name": "python3"
  },
  "language_info": {
   "codemirror_mode": {
    "name": "ipython",
    "version": 3
   },
   "file_extension": ".py",
   "mimetype": "text/x-python",
   "name": "python",
   "nbconvert_exporter": "python",
   "pygments_lexer": "ipython3",
   "version": "3.8.9"
  },
  "varInspector": {
   "cols": {
    "lenName": 16,
    "lenType": 16,
    "lenVar": 40
   },
   "kernels_config": {
    "python": {
     "delete_cmd_postfix": "",
     "delete_cmd_prefix": "del ",
     "library": "var_list.py",
     "varRefreshCmd": "print(var_dic_list())"
    },
    "r": {
     "delete_cmd_postfix": ") ",
     "delete_cmd_prefix": "rm(",
     "library": "var_list.r",
     "varRefreshCmd": "cat(var_dic_list()) "
    }
   },
   "types_to_exclude": [
    "module",
    "function",
    "builtin_function_or_method",
    "instance",
    "_Feature"
   ],
   "window_display": false
  }
 },
 "nbformat": 4,
 "nbformat_minor": 1
}
