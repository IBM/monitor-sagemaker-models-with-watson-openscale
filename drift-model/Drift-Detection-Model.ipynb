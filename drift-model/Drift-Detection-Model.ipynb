{
 "cells": [
  {
   "cell_type": "markdown",
   "metadata": {
    "collapsed": true,
    "id": "3112b95d-4e53-40ca-9934-531bf6ebcb56"
   },
   "source": [
    "# Notebook for generating training data distribution and configuring Fairness\n",
    "\n",
    "This notebook analyzes training data and outputs a JSON which contains information related to data distribution and fairness configuration.  In order to use this notebook you need to do the following:\n",
    "\n",
    "1. Read the training data into a pandas dataframe called \"data_df\".  \n",
    "2. Edit the below cells and provide the training data and fairness configuration information. \n",
    "3. Run the notebook. It will generate a JSON and a download link for the JSON will be present at the very end of the notebook.\n",
    "4. Download the JSON by clicking on the link and upload it in the IBM AI OpenScale GUI.\n",
    "\n",
    "If you have multiple models (deployments), you will have to repeat the above steps for each model (deployment).\n",
    "\n",
    "**Note:** Please restart the kernel after executing below cell"
   ]
  },
  {
   "cell_type": "code",
   "execution_count": 1,
   "metadata": {
    "id": "02149ed4-01c9-4d65-bc4e-ea435b71e101"
   },
   "outputs": [
    {
     "name": "stdout",
     "output_type": "stream",
     "text": [
      "Requirement already satisfied: pandas in /opt/conda/envs/Python-3.9/lib/python3.9/site-packages (1.3.4)\n",
      "Requirement already satisfied: python-dateutil>=2.7.3 in /opt/conda/envs/Python-3.9/lib/python3.9/site-packages (from pandas) (2.8.2)\n",
      "Requirement already satisfied: pytz>=2017.3 in /opt/conda/envs/Python-3.9/lib/python3.9/site-packages (from pandas) (2021.3)\n",
      "Requirement already satisfied: numpy>=1.17.3 in /opt/conda/envs/Python-3.9/lib/python3.9/site-packages (from pandas) (1.20.3)\n",
      "Requirement already satisfied: six>=1.5 in /opt/conda/envs/Python-3.9/lib/python3.9/site-packages (from python-dateutil>=2.7.3->pandas) (1.15.0)\n",
      "Requirement already satisfied: ibm-cos-sdk in /opt/conda/envs/Python-3.9/lib/python3.9/site-packages (2.11.0)\n",
      "Requirement already satisfied: ibm-cos-sdk-core==2.11.0 in /opt/conda/envs/Python-3.9/lib/python3.9/site-packages (from ibm-cos-sdk) (2.11.0)\n",
      "Requirement already satisfied: ibm-cos-sdk-s3transfer==2.11.0 in /opt/conda/envs/Python-3.9/lib/python3.9/site-packages (from ibm-cos-sdk) (2.11.0)\n",
      "Requirement already satisfied: jmespath<1.0.0,>=0.7.1 in /opt/conda/envs/Python-3.9/lib/python3.9/site-packages (from ibm-cos-sdk) (0.10.0)\n",
      "Requirement already satisfied: requests<3.0,>=2.26 in /opt/conda/envs/Python-3.9/lib/python3.9/site-packages (from ibm-cos-sdk-core==2.11.0->ibm-cos-sdk) (2.26.0)\n",
      "Requirement already satisfied: urllib3<1.27,>=1.26.7 in /opt/conda/envs/Python-3.9/lib/python3.9/site-packages (from ibm-cos-sdk-core==2.11.0->ibm-cos-sdk) (1.26.7)\n",
      "Requirement already satisfied: python-dateutil<3.0.0,>=2.1 in /opt/conda/envs/Python-3.9/lib/python3.9/site-packages (from ibm-cos-sdk-core==2.11.0->ibm-cos-sdk) (2.8.2)\n",
      "Requirement already satisfied: six>=1.5 in /opt/conda/envs/Python-3.9/lib/python3.9/site-packages (from python-dateutil<3.0.0,>=2.1->ibm-cos-sdk-core==2.11.0->ibm-cos-sdk) (1.15.0)\n",
      "Requirement already satisfied: certifi>=2017.4.17 in /opt/conda/envs/Python-3.9/lib/python3.9/site-packages (from requests<3.0,>=2.26->ibm-cos-sdk-core==2.11.0->ibm-cos-sdk) (2021.10.8)\n",
      "Requirement already satisfied: idna<4,>=2.5 in /opt/conda/envs/Python-3.9/lib/python3.9/site-packages (from requests<3.0,>=2.26->ibm-cos-sdk-core==2.11.0->ibm-cos-sdk) (3.3)\n",
      "Requirement already satisfied: charset-normalizer~=2.0.0 in /opt/conda/envs/Python-3.9/lib/python3.9/site-packages (from requests<3.0,>=2.26->ibm-cos-sdk-core==2.11.0->ibm-cos-sdk) (2.0.4)\n",
      "Requirement already satisfied: numpy in /opt/conda/envs/Python-3.9/lib/python3.9/site-packages (1.20.3)\n",
      "Collecting scikit-learn==0.24.1\n",
      "  Using cached scikit_learn-0.24.1-cp39-cp39-manylinux2010_x86_64.whl (23.8 MB)\n",
      "Requirement already satisfied: threadpoolctl>=2.0.0 in /opt/conda/envs/Python-3.9/lib/python3.9/site-packages (from scikit-learn==0.24.1) (2.2.0)\n",
      "Requirement already satisfied: joblib>=0.11 in /opt/conda/envs/Python-3.9/lib/python3.9/site-packages (from scikit-learn==0.24.1) (0.17.0)\n",
      "Requirement already satisfied: scipy>=0.19.1 in /opt/conda/envs/Python-3.9/lib/python3.9/site-packages (from scikit-learn==0.24.1) (1.7.3)\n",
      "Requirement already satisfied: numpy>=1.13.3 in /opt/conda/envs/Python-3.9/lib/python3.9/site-packages (from scikit-learn==0.24.1) (1.20.3)\n",
      "Installing collected packages: scikit-learn\n",
      "  Attempting uninstall: scikit-learn\n",
      "    Found existing installation: scikit-learn 1.0.2\n",
      "    Uninstalling scikit-learn-1.0.2:\n",
      "      Successfully uninstalled scikit-learn-1.0.2\n",
      "\u001b[31mERROR: pip's dependency resolver does not currently take into account all the packages that are installed. This behaviour is the source of the following dependency conflicts.\n",
      "ibm-wos-utils 4.1.1 requires scikit-learn==1.0.2, but you have scikit-learn 0.24.1 which is incompatible.\u001b[0m\n",
      "Successfully installed scikit-learn-0.24.1\n",
      "Requirement already satisfied: pyspark in /opt/conda/envs/Python-3.9/lib/python3.9/site-packages (3.2.1)\n",
      "Requirement already satisfied: py4j==0.10.9.3 in /opt/conda/envs/Python-3.9/lib/python3.9/site-packages (from pyspark) (0.10.9.3)\n",
      "Requirement already satisfied: lime in /opt/conda/envs/Python-3.9/lib/python3.9/site-packages (0.2.0.1)\n",
      "Requirement already satisfied: scikit-image>=0.12 in /opt/conda/envs/Python-3.9/lib/python3.9/site-packages (from lime) (0.18.3)\n",
      "Requirement already satisfied: matplotlib in /opt/conda/envs/Python-3.9/lib/python3.9/site-packages (from lime) (3.5.0)\n",
      "Requirement already satisfied: scipy in /opt/conda/envs/Python-3.9/lib/python3.9/site-packages (from lime) (1.7.3)\n",
      "Requirement already satisfied: scikit-learn>=0.18 in /opt/conda/envs/Python-3.9/lib/python3.9/site-packages (from lime) (0.24.1)\n",
      "Requirement already satisfied: numpy in /opt/conda/envs/Python-3.9/lib/python3.9/site-packages (from lime) (1.20.3)\n",
      "Requirement already satisfied: tqdm in /opt/conda/envs/Python-3.9/lib/python3.9/site-packages (from lime) (4.62.3)\n",
      "Requirement already satisfied: networkx>=2.0 in /opt/conda/envs/Python-3.9/lib/python3.9/site-packages (from scikit-image>=0.12->lime) (2.6.3)\n",
      "Requirement already satisfied: pillow!=7.1.0,!=7.1.1,>=4.3.0 in /opt/conda/envs/Python-3.9/lib/python3.9/site-packages (from scikit-image>=0.12->lime) (9.0.1)\n",
      "Requirement already satisfied: imageio>=2.3.0 in /opt/conda/envs/Python-3.9/lib/python3.9/site-packages (from scikit-image>=0.12->lime) (2.9.0)\n",
      "Requirement already satisfied: tifffile>=2019.7.26 in /opt/conda/envs/Python-3.9/lib/python3.9/site-packages (from scikit-image>=0.12->lime) (2021.7.2)\n",
      "Requirement already satisfied: PyWavelets>=1.1.1 in /opt/conda/envs/Python-3.9/lib/python3.9/site-packages (from scikit-image>=0.12->lime) (1.1.1)\n",
      "Requirement already satisfied: packaging>=20.0 in /opt/conda/envs/Python-3.9/lib/python3.9/site-packages (from matplotlib->lime) (21.3)\n",
      "Requirement already satisfied: python-dateutil>=2.7 in /opt/conda/envs/Python-3.9/lib/python3.9/site-packages (from matplotlib->lime) (2.8.2)\n",
      "Requirement already satisfied: cycler>=0.10 in /opt/conda/envs/Python-3.9/lib/python3.9/site-packages (from matplotlib->lime) (0.11.0)\n",
      "Requirement already satisfied: kiwisolver>=1.0.1 in /opt/conda/envs/Python-3.9/lib/python3.9/site-packages (from matplotlib->lime) (1.3.1)\n",
      "Requirement already satisfied: pyparsing>=2.2.1 in /opt/conda/envs/Python-3.9/lib/python3.9/site-packages (from matplotlib->lime) (3.0.4)\n",
      "Requirement already satisfied: fonttools>=4.22.0 in /opt/conda/envs/Python-3.9/lib/python3.9/site-packages (from matplotlib->lime) (4.25.0)\n",
      "Requirement already satisfied: six>=1.5 in /opt/conda/envs/Python-3.9/lib/python3.9/site-packages (from python-dateutil>=2.7->matplotlib->lime) (1.15.0)\n",
      "Requirement already satisfied: joblib>=0.11 in /opt/conda/envs/Python-3.9/lib/python3.9/site-packages (from scikit-learn>=0.18->lime) (0.17.0)\n",
      "Requirement already satisfied: threadpoolctl>=2.0.0 in /opt/conda/envs/Python-3.9/lib/python3.9/site-packages (from scikit-learn>=0.18->lime) (2.2.0)\n",
      "Requirement already satisfied: ibm-watson-openscale in /opt/conda/envs/Python-3.9/lib/python3.9/site-packages (3.0.17)\n",
      "Requirement already satisfied: requests<3.0,>=2.0 in /opt/conda/envs/Python-3.9/lib/python3.9/site-packages (from ibm-watson-openscale) (2.26.0)\n",
      "Requirement already satisfied: python-dateutil>=2.5.3 in /opt/conda/envs/Python-3.9/lib/python3.9/site-packages (from ibm-watson-openscale) (2.8.2)\n",
      "Requirement already satisfied: pandas>=0.25.3 in /opt/conda/envs/Python-3.9/lib/python3.9/site-packages (from ibm-watson-openscale) (1.3.4)\n",
      "Requirement already satisfied: ibm-cloud-sdk-core==3.10.1 in /opt/conda/envs/Python-3.9/lib/python3.9/site-packages (from ibm-watson-openscale) (3.10.1)\n",
      "Requirement already satisfied: PyJWT<3.0.0,>=2.0.1 in /opt/conda/envs/Python-3.9/lib/python3.9/site-packages (from ibm-cloud-sdk-core==3.10.1->ibm-watson-openscale) (2.1.0)\n",
      "Requirement already satisfied: pytz>=2017.3 in /opt/conda/envs/Python-3.9/lib/python3.9/site-packages (from pandas>=0.25.3->ibm-watson-openscale) (2021.3)\n",
      "Requirement already satisfied: numpy>=1.17.3 in /opt/conda/envs/Python-3.9/lib/python3.9/site-packages (from pandas>=0.25.3->ibm-watson-openscale) (1.20.3)\n",
      "Requirement already satisfied: six>=1.5 in /opt/conda/envs/Python-3.9/lib/python3.9/site-packages (from python-dateutil>=2.5.3->ibm-watson-openscale) (1.15.0)\n",
      "Requirement already satisfied: idna<4,>=2.5 in /opt/conda/envs/Python-3.9/lib/python3.9/site-packages (from requests<3.0,>=2.0->ibm-watson-openscale) (3.3)\n",
      "Requirement already satisfied: charset-normalizer~=2.0.0 in /opt/conda/envs/Python-3.9/lib/python3.9/site-packages (from requests<3.0,>=2.0->ibm-watson-openscale) (2.0.4)\n",
      "Requirement already satisfied: certifi>=2017.4.17 in /opt/conda/envs/Python-3.9/lib/python3.9/site-packages (from requests<3.0,>=2.0->ibm-watson-openscale) (2021.10.8)\n",
      "Requirement already satisfied: urllib3<1.27,>=1.21.1 in /opt/conda/envs/Python-3.9/lib/python3.9/site-packages (from requests<3.0,>=2.0->ibm-watson-openscale) (1.26.7)\n",
      "Requirement already satisfied: ibm-wos-utils==4.1.1 in /opt/conda/envs/Python-3.9/lib/python3.9/site-packages (4.1.1)\n",
      "Requirement already satisfied: jenkspy in /opt/conda/envs/Python-3.9/lib/python3.9/site-packages (from ibm-wos-utils==4.1.1) (0.2.0)\n",
      "Requirement already satisfied: requests in /opt/conda/envs/Python-3.9/lib/python3.9/site-packages (from ibm-wos-utils==4.1.1) (2.26.0)\n",
      "Requirement already satisfied: tqdm in /opt/conda/envs/Python-3.9/lib/python3.9/site-packages (from ibm-wos-utils==4.1.1) (4.62.3)\n",
      "Requirement already satisfied: numpy in /opt/conda/envs/Python-3.9/lib/python3.9/site-packages (from ibm-wos-utils==4.1.1) (1.20.3)\n",
      "Requirement already satisfied: scikit-image in /opt/conda/envs/Python-3.9/lib/python3.9/site-packages (from ibm-wos-utils==4.1.1) (0.18.3)\n",
      "Requirement already satisfied: more-itertools>=8.6.0 in /opt/conda/envs/Python-3.9/lib/python3.9/site-packages (from ibm-wos-utils==4.1.1) (8.13.0)\n",
      "Requirement already satisfied: pandas in /opt/conda/envs/Python-3.9/lib/python3.9/site-packages (from ibm-wos-utils==4.1.1) (1.3.4)\n",
      "Collecting scikit-learn==1.0.2\n",
      "  Using cached scikit_learn-1.0.2-cp39-cp39-manylinux_2_17_x86_64.manylinux2014_x86_64.whl (26.4 MB)\n",
      "Requirement already satisfied: nltk in /opt/conda/envs/Python-3.9/lib/python3.9/site-packages (from ibm-wos-utils==4.1.1) (3.7)\n",
      "Requirement already satisfied: scipy>=1.1.0 in /opt/conda/envs/Python-3.9/lib/python3.9/site-packages (from scikit-learn==1.0.2->ibm-wos-utils==4.1.1) (1.7.3)\n",
      "Requirement already satisfied: joblib>=0.11 in /opt/conda/envs/Python-3.9/lib/python3.9/site-packages (from scikit-learn==1.0.2->ibm-wos-utils==4.1.1) (0.17.0)\n",
      "Requirement already satisfied: threadpoolctl>=2.0.0 in /opt/conda/envs/Python-3.9/lib/python3.9/site-packages (from scikit-learn==1.0.2->ibm-wos-utils==4.1.1) (2.2.0)\n",
      "Requirement already satisfied: click in /opt/conda/envs/Python-3.9/lib/python3.9/site-packages (from nltk->ibm-wos-utils==4.1.1) (8.0.3)\n",
      "Requirement already satisfied: regex>=2021.8.3 in /opt/conda/envs/Python-3.9/lib/python3.9/site-packages (from nltk->ibm-wos-utils==4.1.1) (2021.11.2)\n",
      "Requirement already satisfied: python-dateutil>=2.7.3 in /opt/conda/envs/Python-3.9/lib/python3.9/site-packages (from pandas->ibm-wos-utils==4.1.1) (2.8.2)\n",
      "Requirement already satisfied: pytz>=2017.3 in /opt/conda/envs/Python-3.9/lib/python3.9/site-packages (from pandas->ibm-wos-utils==4.1.1) (2021.3)\n",
      "Requirement already satisfied: six>=1.5 in /opt/conda/envs/Python-3.9/lib/python3.9/site-packages (from python-dateutil>=2.7.3->pandas->ibm-wos-utils==4.1.1) (1.15.0)\n",
      "Requirement already satisfied: urllib3<1.27,>=1.21.1 in /opt/conda/envs/Python-3.9/lib/python3.9/site-packages (from requests->ibm-wos-utils==4.1.1) (1.26.7)\n",
      "Requirement already satisfied: idna<4,>=2.5 in /opt/conda/envs/Python-3.9/lib/python3.9/site-packages (from requests->ibm-wos-utils==4.1.1) (3.3)\n",
      "Requirement already satisfied: certifi>=2017.4.17 in /opt/conda/envs/Python-3.9/lib/python3.9/site-packages (from requests->ibm-wos-utils==4.1.1) (2021.10.8)\n",
      "Requirement already satisfied: charset-normalizer~=2.0.0 in /opt/conda/envs/Python-3.9/lib/python3.9/site-packages (from requests->ibm-wos-utils==4.1.1) (2.0.4)\n",
      "Requirement already satisfied: matplotlib!=3.0.0,>=2.0.0 in /opt/conda/envs/Python-3.9/lib/python3.9/site-packages (from scikit-image->ibm-wos-utils==4.1.1) (3.5.0)\n",
      "Requirement already satisfied: networkx>=2.0 in /opt/conda/envs/Python-3.9/lib/python3.9/site-packages (from scikit-image->ibm-wos-utils==4.1.1) (2.6.3)\n",
      "Requirement already satisfied: pillow!=7.1.0,!=7.1.1,>=4.3.0 in /opt/conda/envs/Python-3.9/lib/python3.9/site-packages (from scikit-image->ibm-wos-utils==4.1.1) (9.0.1)\n",
      "Requirement already satisfied: imageio>=2.3.0 in /opt/conda/envs/Python-3.9/lib/python3.9/site-packages (from scikit-image->ibm-wos-utils==4.1.1) (2.9.0)\n",
      "Requirement already satisfied: tifffile>=2019.7.26 in /opt/conda/envs/Python-3.9/lib/python3.9/site-packages (from scikit-image->ibm-wos-utils==4.1.1) (2021.7.2)\n",
      "Requirement already satisfied: PyWavelets>=1.1.1 in /opt/conda/envs/Python-3.9/lib/python3.9/site-packages (from scikit-image->ibm-wos-utils==4.1.1) (1.1.1)\n",
      "Requirement already satisfied: fonttools>=4.22.0 in /opt/conda/envs/Python-3.9/lib/python3.9/site-packages (from matplotlib!=3.0.0,>=2.0.0->scikit-image->ibm-wos-utils==4.1.1) (4.25.0)\n",
      "Requirement already satisfied: kiwisolver>=1.0.1 in /opt/conda/envs/Python-3.9/lib/python3.9/site-packages (from matplotlib!=3.0.0,>=2.0.0->scikit-image->ibm-wos-utils==4.1.1) (1.3.1)\n",
      "Requirement already satisfied: pyparsing>=2.2.1 in /opt/conda/envs/Python-3.9/lib/python3.9/site-packages (from matplotlib!=3.0.0,>=2.0.0->scikit-image->ibm-wos-utils==4.1.1) (3.0.4)\n",
      "Requirement already satisfied: cycler>=0.10 in /opt/conda/envs/Python-3.9/lib/python3.9/site-packages (from matplotlib!=3.0.0,>=2.0.0->scikit-image->ibm-wos-utils==4.1.1) (0.11.0)\n",
      "Requirement already satisfied: packaging>=20.0 in /opt/conda/envs/Python-3.9/lib/python3.9/site-packages (from matplotlib!=3.0.0,>=2.0.0->scikit-image->ibm-wos-utils==4.1.1) (21.3)\n",
      "Installing collected packages: scikit-learn\n",
      "  Attempting uninstall: scikit-learn\n",
      "    Found existing installation: scikit-learn 0.24.1\n",
      "    Uninstalling scikit-learn-0.24.1:\n",
      "      Successfully uninstalled scikit-learn-0.24.1\n",
      "Successfully installed scikit-learn-1.0.2\n"
     ]
    }
   ],
   "source": [
    "!pip install pandas\n",
    "!pip install ibm-cos-sdk\n",
    "!pip install numpy\n",
    "!pip install scikit-learn==0.24.1 \n",
    "!pip install pyspark\n",
    "!pip install lime\n",
    "!pip install --upgrade ibm-watson-openscale\n",
    "!pip install \"ibm-wos-utils==4.1.1\""
   ]
  },
  {
   "cell_type": "markdown",
   "metadata": {
    "id": "f90c1d27-0d3a-4ebe-9fc5-86a877756c85"
   },
   "source": [
    "# Read training data into a pandas data frame"
   ]
  },
  {
   "cell_type": "code",
   "execution_count": 2,
   "metadata": {
    "id": "3f5ac70d587d411d8dd7a75e1a0ae951"
   },
   "outputs": [],
   "source": [
    "VERSION = \"5.0.1\""
   ]
  },
  {
   "cell_type": "code",
   "execution_count": 3,
   "metadata": {
    "id": "57698194-fcf6-43ae-9c3e-6a9f86f8e32b"
   },
   "outputs": [
    {
     "data": {
      "text/html": [
       "<div>\n",
       "<style scoped>\n",
       "    .dataframe tbody tr th:only-of-type {\n",
       "        vertical-align: middle;\n",
       "    }\n",
       "\n",
       "    .dataframe tbody tr th {\n",
       "        vertical-align: top;\n",
       "    }\n",
       "\n",
       "    .dataframe thead th {\n",
       "        text-align: right;\n",
       "    }\n",
       "</style>\n",
       "<table border=\"1\" class=\"dataframe\">\n",
       "  <thead>\n",
       "    <tr style=\"text-align: right;\">\n",
       "      <th></th>\n",
       "      <th>REGION</th>\n",
       "      <th>Total_cases</th>\n",
       "      <th>Risk_Index</th>\n",
       "    </tr>\n",
       "  </thead>\n",
       "  <tbody>\n",
       "    <tr>\n",
       "      <th>0</th>\n",
       "      <td>0</td>\n",
       "      <td>119</td>\n",
       "      <td>0</td>\n",
       "    </tr>\n",
       "    <tr>\n",
       "      <th>1</th>\n",
       "      <td>1</td>\n",
       "      <td>461</td>\n",
       "      <td>2</td>\n",
       "    </tr>\n",
       "    <tr>\n",
       "      <th>2</th>\n",
       "      <td>2</td>\n",
       "      <td>383</td>\n",
       "      <td>1</td>\n",
       "    </tr>\n",
       "    <tr>\n",
       "      <th>3</th>\n",
       "      <td>0</td>\n",
       "      <td>238</td>\n",
       "      <td>0</td>\n",
       "    </tr>\n",
       "    <tr>\n",
       "      <th>4</th>\n",
       "      <td>1</td>\n",
       "      <td>794</td>\n",
       "      <td>2</td>\n",
       "    </tr>\n",
       "    <tr>\n",
       "      <th>5</th>\n",
       "      <td>2</td>\n",
       "      <td>568</td>\n",
       "      <td>1</td>\n",
       "    </tr>\n",
       "    <tr>\n",
       "      <th>6</th>\n",
       "      <td>0</td>\n",
       "      <td>219</td>\n",
       "      <td>0</td>\n",
       "    </tr>\n",
       "    <tr>\n",
       "      <th>7</th>\n",
       "      <td>1</td>\n",
       "      <td>1414</td>\n",
       "      <td>2</td>\n",
       "    </tr>\n",
       "    <tr>\n",
       "      <th>8</th>\n",
       "      <td>2</td>\n",
       "      <td>654</td>\n",
       "      <td>1</td>\n",
       "    </tr>\n",
       "    <tr>\n",
       "      <th>9</th>\n",
       "      <td>0</td>\n",
       "      <td>346</td>\n",
       "      <td>0</td>\n",
       "    </tr>\n",
       "  </tbody>\n",
       "</table>\n",
       "</div>"
      ],
      "text/plain": [
       "  REGION Total_cases Risk_Index\n",
       "0      0         119          0\n",
       "1      1         461          2\n",
       "2      2         383          1\n",
       "3      0         238          0\n",
       "4      1         794          2\n",
       "5      2         568          1\n",
       "6      0         219          0\n",
       "7      1        1414          2\n",
       "8      2         654          1\n",
       "9      0         346          0"
      ]
     },
     "execution_count": 3,
     "metadata": {},
     "output_type": "execute_result"
    }
   ],
   "source": [
    "import itc_utils.flight_service as itcfs\n",
    "\n",
    "readClient = itcfs.get_flight_client()\n",
    "\n",
    "nb_data_request = {\n",
    "    'data_name': \"\"\"Data-region-RI-SM-encoded.csv\"\"\",\n",
    "    'interaction_properties': {\n",
    "        #'row_limit': 500\n",
    "    }\n",
    "}\n",
    "\n",
    "flightInfo = itcfs.get_flight_info(readClient, nb_data_request=nb_data_request)\n",
    "\n",
    "data_df = itcfs.read_pandas_and_concat(readClient, flightInfo)\n",
    "data_df.head(10)\n"
   ]
  },
  {
   "cell_type": "code",
   "execution_count": 4,
   "metadata": {
    "id": "87317635df74441f85f18ebd1cf24fe1"
   },
   "outputs": [
    {
     "data": {
      "text/plain": [
       "REGION         object\n",
       "Total_cases    object\n",
       "Risk_Index     object\n",
       "dtype: object"
      ]
     },
     "execution_count": 4,
     "metadata": {},
     "output_type": "execute_result"
    }
   ],
   "source": [
    "data_df.dtypes"
   ]
  },
  {
   "cell_type": "markdown",
   "metadata": {
    "id": "dd6d8871-689b-4783-af32-ba9e9aae1860"
   },
   "source": [
    "# Select the services for which configuration information needs to be generated\n",
    "\n",
    "This notebook has support to generaton configuration information related to fairness , explainability and drift service. The below can be used by the user to control service specific configuration information.\n",
    "\n",
    "Details of the service speicifc flags available:\n",
    "\n",
    "- enable_fairness : Flag to allow generation of fairness specific data distribution needed for configuration\n",
    "- enable_explainability : Flag to allow generation of explainability specific information\n",
    "- enable_drift: Flag to allow generation of drift detection model needed by drift service\n",
    "\n",
    "\n",
    "service_configuration_support = { <br>\n",
    "&nbsp;&nbsp;&nbsp;&nbsp;\"enable_fairness\": True,   \n",
    "&nbsp;&nbsp;&nbsp;&nbsp;\"enable_explainability\": True,    \n",
    "&nbsp;&nbsp;&nbsp;&nbsp;\"enable_drift\": False  \n",
    "    }  \n",
    "\n"
   ]
  },
  {
   "cell_type": "code",
   "execution_count": 5,
   "metadata": {
    "id": "e5016bdd568f444dada488d86e83a2b8"
   },
   "outputs": [],
   "source": [
    "import pandas as pd"
   ]
  },
  {
   "cell_type": "code",
   "execution_count": 6,
   "metadata": {
    "id": "51e4bdd950b742be89da60aebdb41fa2"
   },
   "outputs": [],
   "source": [
    "data_df['REGION'] = pd.to_numeric(data_df['REGION'])\n",
    "data_df['Total_cases'] = pd.to_numeric(data_df['Total_cases'])\n",
    "data_df['Risk_Index'] = pd.to_numeric(data_df['Risk_Index'])"
   ]
  },
  {
   "cell_type": "code",
   "execution_count": 7,
   "metadata": {
    "id": "04ce6ae3ea67447e81b202a06a405de9"
   },
   "outputs": [
    {
     "data": {
      "text/plain": [
       "REGION         int64\n",
       "Total_cases    int64\n",
       "Risk_Index     int64\n",
       "dtype: object"
      ]
     },
     "execution_count": 7,
     "metadata": {},
     "output_type": "execute_result"
    }
   ],
   "source": [
    "data_df.dtypes"
   ]
  },
  {
   "cell_type": "code",
   "execution_count": 8,
   "metadata": {
    "id": "c3101683-cf10-47c0-bb9f-d07e7a6aaaa9"
   },
   "outputs": [],
   "source": [
    "service_configuration_support = {\n",
    "    \"enable_fairness\": True,\n",
    "    \"enable_explainability\": True,\n",
    "    \"enable_drift\": True\n",
    "}"
   ]
  },
  {
   "cell_type": "markdown",
   "metadata": {
    "id": "c083a482-77d4-4a81-8514-077df848aa21"
   },
   "source": [
    "# Training Data and Fairness Configuration Information\n",
    "\n",
    "Please provide information about the training data which is used to train the model.  "
   ]
  },
  {
   "cell_type": "code",
   "execution_count": 9,
   "metadata": {
    "id": "969fe4a4-1060-4809-ab5e-135e46eab24f"
   },
   "outputs": [],
   "source": [
    "training_data_info = {\n",
    "    \"class_label\": \"Risk_Index\",\n",
    "    \"feature_columns\": ['REGION','Total_cases'],\n",
    "    \"categorical_columns\": ['REGION']\n",
    "}"
   ]
  },
  {
   "cell_type": "markdown",
   "metadata": {
    "id": "10f682bf-4bf8-439c-b247-99d840a89aa7"
   },
   "source": [
    "# Specify the Model Type\n",
    "\n",
    "In the next cell, specify the type of your model.  If your model is a binary classification model, then set the type to \"binary\". If it is a multi-class classifier then set the type to \"multiclass\". If it is a regression model (e.g., Linear Regression), then set it to \"regression\"."
   ]
  },
  {
   "cell_type": "code",
   "execution_count": 10,
   "metadata": {
    "id": "5bcccecd-1ae4-4e0a-a17b-d54b1c2d69cd"
   },
   "outputs": [],
   "source": [
    "#Set model_type. Acceptable values are:[\"binary\",\"multiclass\",\"regression\"]\n",
    "model_type = \"multiclass\""
   ]
  },
  {
   "cell_type": "markdown",
   "metadata": {
    "id": "fd3bc3cf-e0f1-4b1f-8e6f-a0f58c0372c7"
   },
   "source": [
    "# Specify the Fairness Configuration\n",
    "\n",
    "You need to provide the following information for the fairness configuration: \n",
    "\n",
    "- fairness_attributes:  These are the attributes on which you wish to monitor fairness. \n",
    "- With Indirect Bias support, you can also monitor protected attributes for fairness. The protected attributes are those attributes which are present in the training data but are not used to train the model. To check if there exists indirect bias with respect to some protected attribute due to possible correlation with some feature column, it can be specified in fairness configuration.\n",
    "- type: The data type of the fairness attribute (e.g., float or int or double)\n",
    "- minority:  The minority group for which we want to ensure that the model is not biased.  "
   ]
  },
  {
   "cell_type": "code",
   "execution_count": 11,
   "metadata": {
    "id": "95b3bbd0-fb54-46dd-8c52-fb0dab72a93b"
   },
   "outputs": [],
   "source": [
    "fairness_attributes = [{\n",
    "                           \"type\" : \"int\", #data type of the column eg: float or int or double\n",
    "                           \"feature\": \"REGION\", \n",
    "                           \"majority\": [\n",
    "                               [1,1] # range of values for column eg: [31, 45] for int or [31.4, 45.1] for float\n",
    "                           ],\n",
    "                           \"minority\": [\n",
    "                               [0,0],    # range of values for column eg: [80, 100] for int or [80.0, 99.9] for float                    \n",
    "                           ],\n",
    "                           \"threshold\": 0.9 \n",
    "                       }]"
   ]
  },
  {
   "cell_type": "markdown",
   "metadata": {
    "id": "4c5fae13-458f-40b7-b327-60fd3950d1f3"
   },
   "source": [
    "# Specify the Favorable and Unfavorable class values\n",
    "\n",
    "The second part of fairness configuration is about the favourable and unfavourable class values. In other words in order to measure fairness, we need to know the target field values which can be considered as being favourable and those values which can be considered as unfavourable.  "
   ]
  },
  {
   "cell_type": "code",
   "execution_count": 12,
   "metadata": {
    "id": "b1530a2a-dcc3-4a8e-9138-934fbf7c0b69"
   },
   "outputs": [],
   "source": [
    "# For classification models use the below.\n",
    "parameters = {\n",
    "        \"favourable_class\" :  [0],\n",
    "        \"unfavourable_class\": [2]\n",
    "    }"
   ]
  },
  {
   "cell_type": "markdown",
   "metadata": {
    "id": "2b0a28bf-900c-40e0-b280-f9aa245ec9af"
   },
   "source": [
    "# Specify the number of records which should be processed for Fairness\n",
    "\n",
    "The final piece of information that needs to be provided is the number of records (min_records) that should be used for computing the fairness."
   ]
  },
  {
   "cell_type": "code",
   "execution_count": 13,
   "metadata": {
    "id": "0c71844b-deeb-4429-a662-f3590a7fc5d1"
   },
   "outputs": [],
   "source": [
    "# min_records = <Minimum number of records to be considered for preforming scoring>\n",
    "min_records = 10"
   ]
  },
  {
   "cell_type": "markdown",
   "metadata": {
    "id": "eb2c48ef-7a26-4090-b4d4-ef5bfe06ae70"
   },
   "source": [
    "# End of Input \n",
    "\n",
    "You need not edit anything beyond this point.  Run the notebook and go to the very last cell.  There will be a link to download the JSON file (called: \"Download training data distribution JSON file\").  Download the file and upload it using the IBM AI OpenScale GUI.\n",
    "\n",
    "*Note: drop_na parameter of TrainingStats object should be set to 'False' if NA values are taken care while reading the training data in the above cells*"
   ]
  },
  {
   "cell_type": "code",
   "execution_count": 14,
   "metadata": {
    "id": "b89d8f5d-7ec9-439a-a57d-51c40ab72014"
   },
   "outputs": [
    {
     "name": "stdout",
     "output_type": "stream",
     "text": [
      "Requirement already satisfied: ibm-wos-utils in /opt/conda/envs/Python-3.9/lib/python3.9/site-packages (4.1.1)\n",
      "Requirement already satisfied: numpy in /opt/conda/envs/Python-3.9/lib/python3.9/site-packages (from ibm-wos-utils) (1.20.3)\n",
      "Requirement already satisfied: requests in /opt/conda/envs/Python-3.9/lib/python3.9/site-packages (from ibm-wos-utils) (2.26.0)\n",
      "Requirement already satisfied: more-itertools>=8.6.0 in /opt/conda/envs/Python-3.9/lib/python3.9/site-packages (from ibm-wos-utils) (8.13.0)\n",
      "Requirement already satisfied: pandas in /opt/conda/envs/Python-3.9/lib/python3.9/site-packages (from ibm-wos-utils) (1.3.4)\n",
      "Requirement already satisfied: scikit-learn==1.0.2 in /opt/conda/envs/Python-3.9/lib/python3.9/site-packages (from ibm-wos-utils) (1.0.2)\n",
      "Requirement already satisfied: nltk in /opt/conda/envs/Python-3.9/lib/python3.9/site-packages (from ibm-wos-utils) (3.7)\n",
      "Requirement already satisfied: scikit-image in /opt/conda/envs/Python-3.9/lib/python3.9/site-packages (from ibm-wos-utils) (0.18.3)\n",
      "Requirement already satisfied: jenkspy in /opt/conda/envs/Python-3.9/lib/python3.9/site-packages (from ibm-wos-utils) (0.2.0)\n",
      "Requirement already satisfied: tqdm in /opt/conda/envs/Python-3.9/lib/python3.9/site-packages (from ibm-wos-utils) (4.62.3)\n",
      "Requirement already satisfied: threadpoolctl>=2.0.0 in /opt/conda/envs/Python-3.9/lib/python3.9/site-packages (from scikit-learn==1.0.2->ibm-wos-utils) (2.2.0)\n",
      "Requirement already satisfied: joblib>=0.11 in /opt/conda/envs/Python-3.9/lib/python3.9/site-packages (from scikit-learn==1.0.2->ibm-wos-utils) (0.17.0)\n",
      "Requirement already satisfied: scipy>=1.1.0 in /opt/conda/envs/Python-3.9/lib/python3.9/site-packages (from scikit-learn==1.0.2->ibm-wos-utils) (1.7.3)\n",
      "Requirement already satisfied: click in /opt/conda/envs/Python-3.9/lib/python3.9/site-packages (from nltk->ibm-wos-utils) (8.0.3)\n",
      "Requirement already satisfied: regex>=2021.8.3 in /opt/conda/envs/Python-3.9/lib/python3.9/site-packages (from nltk->ibm-wos-utils) (2021.11.2)\n",
      "Requirement already satisfied: python-dateutil>=2.7.3 in /opt/conda/envs/Python-3.9/lib/python3.9/site-packages (from pandas->ibm-wos-utils) (2.8.2)\n",
      "Requirement already satisfied: pytz>=2017.3 in /opt/conda/envs/Python-3.9/lib/python3.9/site-packages (from pandas->ibm-wos-utils) (2021.3)\n",
      "Requirement already satisfied: six>=1.5 in /opt/conda/envs/Python-3.9/lib/python3.9/site-packages (from python-dateutil>=2.7.3->pandas->ibm-wos-utils) (1.15.0)\n",
      "Requirement already satisfied: certifi>=2017.4.17 in /opt/conda/envs/Python-3.9/lib/python3.9/site-packages (from requests->ibm-wos-utils) (2021.10.8)\n",
      "Requirement already satisfied: charset-normalizer~=2.0.0 in /opt/conda/envs/Python-3.9/lib/python3.9/site-packages (from requests->ibm-wos-utils) (2.0.4)\n",
      "Requirement already satisfied: urllib3<1.27,>=1.21.1 in /opt/conda/envs/Python-3.9/lib/python3.9/site-packages (from requests->ibm-wos-utils) (1.26.7)\n",
      "Requirement already satisfied: idna<4,>=2.5 in /opt/conda/envs/Python-3.9/lib/python3.9/site-packages (from requests->ibm-wos-utils) (3.3)\n",
      "Requirement already satisfied: matplotlib!=3.0.0,>=2.0.0 in /opt/conda/envs/Python-3.9/lib/python3.9/site-packages (from scikit-image->ibm-wos-utils) (3.5.0)\n",
      "Requirement already satisfied: networkx>=2.0 in /opt/conda/envs/Python-3.9/lib/python3.9/site-packages (from scikit-image->ibm-wos-utils) (2.6.3)\n",
      "Requirement already satisfied: pillow!=7.1.0,!=7.1.1,>=4.3.0 in /opt/conda/envs/Python-3.9/lib/python3.9/site-packages (from scikit-image->ibm-wos-utils) (9.0.1)\n",
      "Requirement already satisfied: imageio>=2.3.0 in /opt/conda/envs/Python-3.9/lib/python3.9/site-packages (from scikit-image->ibm-wos-utils) (2.9.0)\n",
      "Requirement already satisfied: tifffile>=2019.7.26 in /opt/conda/envs/Python-3.9/lib/python3.9/site-packages (from scikit-image->ibm-wos-utils) (2021.7.2)\n",
      "Requirement already satisfied: PyWavelets>=1.1.1 in /opt/conda/envs/Python-3.9/lib/python3.9/site-packages (from scikit-image->ibm-wos-utils) (1.1.1)\n",
      "Requirement already satisfied: kiwisolver>=1.0.1 in /opt/conda/envs/Python-3.9/lib/python3.9/site-packages (from matplotlib!=3.0.0,>=2.0.0->scikit-image->ibm-wos-utils) (1.3.1)\n",
      "Requirement already satisfied: packaging>=20.0 in /opt/conda/envs/Python-3.9/lib/python3.9/site-packages (from matplotlib!=3.0.0,>=2.0.0->scikit-image->ibm-wos-utils) (21.3)\n",
      "Requirement already satisfied: cycler>=0.10 in /opt/conda/envs/Python-3.9/lib/python3.9/site-packages (from matplotlib!=3.0.0,>=2.0.0->scikit-image->ibm-wos-utils) (0.11.0)\n",
      "Requirement already satisfied: pyparsing>=2.2.1 in /opt/conda/envs/Python-3.9/lib/python3.9/site-packages (from matplotlib!=3.0.0,>=2.0.0->scikit-image->ibm-wos-utils) (3.0.4)\n",
      "Requirement already satisfied: fonttools>=4.22.0 in /opt/conda/envs/Python-3.9/lib/python3.9/site-packages (from matplotlib!=3.0.0,>=2.0.0->scikit-image->ibm-wos-utils) (4.25.0)\n"
     ]
    }
   ],
   "source": [
    "from ibm_watson_openscale.utils.training_stats import TrainingStats\n",
    "\n",
    "enable_explainability = service_configuration_support.get('enable_explainability')\n",
    "enable_fairness = service_configuration_support.get('enable_fairness')\n",
    "\n",
    "if enable_explainability or enable_fairness:\n",
    "    fairness_inputs = None\n",
    "    if enable_fairness:\n",
    "        fairness_inputs = {\n",
    "                \"fairness_attributes\": fairness_attributes,\n",
    "                \"min_records\" : min_records,\n",
    "                \"favourable_class\" :  parameters[\"favourable_class\"],\n",
    "                \"unfavourable_class\": parameters[\"unfavourable_class\"]\n",
    "            }\n",
    "    \n",
    "    input_parameters = {\n",
    "        \"label_column\": training_data_info[\"class_label\"],\n",
    "        \"feature_columns\": training_data_info[\"feature_columns\"],\n",
    "        \"categorical_columns\": training_data_info[\"categorical_columns\"],\n",
    "        \"fairness_inputs\": fairness_inputs,  \n",
    "        \"problem_type\" : model_type  \n",
    "    }\n",
    "\n",
    "    training_stats = TrainingStats(data_df,input_parameters, explain=enable_explainability, fairness=enable_fairness, drop_na=True)\n",
    "    config_json = training_stats.get_training_statistics()\n",
    "    config_json[\"notebook_version\"] = VERSION\n",
    "#print(config_json)"
   ]
  },
  {
   "cell_type": "markdown",
   "metadata": {
    "id": "5677fd74-4bb7-470c-85bd-38e7a5b946eb"
   },
   "source": [
    "### Indirect Bias\n",
    "In case of Indirect bias i.e if protected attributes(the sensitive attributes like race, gender etc which are present in the training data but are not used to train the model) are being monitored for fairness:\n",
    "- Bias service identifies correlations between the protected attribute and model features. Correlated attributes are also known as proxy features.\n",
    "- Existence of correlations with model features can result in indirect bias w.r.t protected attribute even though it is not used to train the model.\n",
    "- Highly correlated attributes based on their correlation strength are considered while computing bias for a given protected attribute.\n",
    "\n",
    "The following cell identifies if user has configured protected attribute for fairness by checking the feature, non-feature columns and the fairness configuration. If protected attribute/s are configured then it identifies correlations and stores it in the fairness configuration."
   ]
  },
  {
   "cell_type": "code",
   "execution_count": 15,
   "metadata": {
    "id": "a2c90389-6611-4f5b-9d9a-47b2e38943af"
   },
   "outputs": [],
   "source": [
    "# Checking if protected attributes are configured for fairness monitoring. If yes, then computing correlation information for each meta-field and updating it in the fairness configuration\n",
    "if enable_fairness:\n",
    "    fairness_configuration = config_json.get('fairness_configuration')\n",
    "    training_columns = data_df.columns.tolist()\n",
    "    label_column = training_data_info.get('class_label')\n",
    "    training_columns.remove(label_column)\n",
    "    feature_columns = training_data_info.get('feature_columns')\n",
    "    non_feature_columns = list(set(training_columns) - set(feature_columns))\n",
    "    if non_feature_columns is not None and len(non_feature_columns) > 0:\n",
    "        protected_attributes = []\n",
    "        fairness_attributes_list = [attribute.get('feature') for attribute in fairness_attributes]\n",
    "        for col in non_feature_columns:\n",
    "            if col in fairness_attributes_list:\n",
    "                protected_attributes.append(col)\n",
    "        if len(protected_attributes) > 0:\n",
    "            from ibm_watson_openscale.utils.indirect_bias_processor import IndirectBiasProcessor\n",
    "            fairness_configuration = IndirectBiasProcessor().get_correlated_attributes(data_df, fairness_configuration, feature_columns, protected_attributes, label_column)        "
   ]
  },
  {
   "cell_type": "code",
   "execution_count": 16,
   "metadata": {
    "id": "c0653cd1-a5ab-45cf-b33b-d6a1be5051ce"
   },
   "outputs": [
    {
     "name": "stdout",
     "output_type": "stream",
     "text": [
      "Finished generating training distribution data\n"
     ]
    },
    {
     "data": {
      "text/html": [
       "<a download=\"training_distribution.json\" href=\"data:text/json;base64,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\" target=\"_blank\">Download training data distribution JSON file</a>"
      ],
      "text/plain": [
       "<IPython.core.display.HTML object>"
      ]
     },
     "execution_count": 16,
     "metadata": {},
     "output_type": "execute_result"
    }
   ],
   "source": [
    "import json\n",
    "\n",
    "print(\"Finished generating training distribution data\")\n",
    "\n",
    "# Create a file download link\n",
    "import base64\n",
    "from IPython.display import HTML\n",
    "\n",
    "def create_download_link( title = \"Download training data distribution JSON file\", filename = \"training_distribution.json\"):  \n",
    "    if enable_explainability or enable_fairness:\n",
    "        output_json = json.dumps(config_json, indent=2)\n",
    "        b64 = base64.b64encode(output_json.encode())\n",
    "        payload = b64.decode()\n",
    "        html = '<a download=\"{filename}\" href=\"data:text/json;base64,{payload}\" target=\"_blank\">{title}</a>'\n",
    "        html = html.format(payload=payload,title=title,filename=filename)\n",
    "        return HTML(html)\n",
    "    else:\n",
    "        print('No download link generated as fairness/explainability services are disabled.')\n",
    "\n",
    "create_download_link()"
   ]
  },
  {
   "cell_type": "markdown",
   "metadata": {
    "id": "95d14d0a-98ae-4458-a7b9-11dcb54fbe16"
   },
   "source": [
    "# Drift detection model generation\n",
    "\n",
    "Please update the score function which will be used forgenerating drift detection model which will used for drift detection . This might take sometime to generate model and time taken depends on the training dataset size. The output of the score function should be a 2 arrays 1. Array of model prediction 2. Array of probabilities \n",
    "\n",
    "- User is expected to make sure that the data type of the \"class label\" column selected and the prediction column are same . For eg : If class label is numeric , the prediction array should also be numeric\n",
    "\n",
    "- Each entry of a probability array should have all the probabities of the unique class lable .\n",
    "  For eg: If the model_type=multiclass and unique class labels are A, B, C, D . Each entry in the probability array should be a array of size 4 . Eg : [ [0.50,0.30,0.10,0.10] ,[0.40,0.20,0.30,0.10]...]\n",
    "  \n",
    "**Note:**\n",
    "- *User is expected to add \"score\" method , which should output prediction column array and probability column array.*\n",
    "- *The data type of the label column and prediction column should be same . User needs to make sure that label column and prediction column array should have the same unique class labels*\n",
    "- **Please update the score function below with the help of templates documented [here](https://github.com/IBM-Watson/aios-data-distribution/blob/master/Score%20function%20templates%20for%20drift%20detection.md)**"
   ]
  },
  {
   "cell_type": "code",
   "execution_count": 17,
   "metadata": {
    "id": "9341cfc5-9960-4cd5-ae15-069f5f7b99dc"
   },
   "outputs": [],
   "source": [
    "#Update score function\n",
    "# def score(training_data_frame){\n",
    "#     <Fill in the template using the score function templates provided>\n",
    "# }\n"
   ]
  },
  {
   "cell_type": "code",
   "execution_count": 18,
   "metadata": {
    "id": "89ed9c8b62964821851957ac7c822ca3"
   },
   "outputs": [],
   "source": [
    "SAGEMAKER_CREDENTIALS = {\n",
    "    \"access_key_id\": 'Update the access id',\n",
    "    \"secret_access_key\": 'Update the secret key',\n",
    "    \"region\": 'update the region'\n",
    "}"
   ]
  },
  {
   "cell_type": "code",
   "execution_count": 19,
   "metadata": {
    "id": "6958c5864c5241a09b0da12b0f5a22a1"
   },
   "outputs": [],
   "source": [
    "def score(training_data_frame):\n",
    "    #User input needed\n",
    "    endpoint_name = 'update the endpoing name here from SageMaker'\n",
    "\n",
    "    access_id = SAGEMAKER_CREDENTIALS.get('access_key_id')\n",
    "    secret_key = SAGEMAKER_CREDENTIALS.get('secret_access_key')\n",
    "    region = SAGEMAKER_CREDENTIALS.get('region')\n",
    "    \n",
    "    #Covert the training data frames to bytes\n",
    "    import io\n",
    "    import numpy as np\n",
    "    train_df_bytes = io.BytesIO()\n",
    "    np.savetxt(train_df_bytes, training_data_frame.values, delimiter=',', fmt='%g')\n",
    "    payload_data = train_df_bytes.getvalue().decode().rstrip()\n",
    "\n",
    "    #Score the training data\n",
    "    import requests\n",
    "    import time\n",
    "    import json\n",
    "    import boto3\n",
    "\n",
    "    runtime = boto3.client('sagemaker-runtime', region_name=region, aws_access_key_id=access_id, aws_secret_access_key=secret_key)\n",
    "    start_time = time.time()\n",
    "\n",
    "    response = runtime.invoke_endpoint(EndpointName=endpoint_name, ContentType='text/csv', Body=payload_data)\n",
    "    response_time = int((time.time() - start_time)*1000)\n",
    "    results_decoded = json.loads(response['Body'].read().decode())\n",
    "\n",
    "    #Extract the details\n",
    "    results = results_decoded['predictions']\n",
    "\n",
    "    predicted_vector_list = []\n",
    "    probability_array_list = []\n",
    "\n",
    "    for value in results:\n",
    "        predicted_vector_list.append(value['predicted_label'])\n",
    "        probability_array_list.append(value['score'])\n",
    "\n",
    "    #Conver to numpy arrays\n",
    "    probability_array = np.array(probability_array_list)\n",
    "    predicted_vector = np.array(predicted_vector_list)\n",
    "\n",
    "    return probability_array, predicted_vector"
   ]
  },
  {
   "cell_type": "code",
   "execution_count": 20,
   "metadata": {
    "id": "c4a4ad22ae5a424c8b0aa7f0293de341"
   },
   "outputs": [
    {
     "name": "stdout",
     "output_type": "stream",
     "text": [
      "2220\n",
      "<function score at 0x7ff726999a60>\n"
     ]
    }
   ],
   "source": [
    "print(data_df.shape[0])\n",
    "print(score)"
   ]
  },
  {
   "cell_type": "code",
   "execution_count": 21,
   "metadata": {
    "id": "03d34d7b-e163-4eb7-848f-550b4acca573"
   },
   "outputs": [
    {
     "name": "stdout",
     "output_type": "stream",
     "text": [
      "Scoring training dataframe...: 100%|██████████| 1776/1776 [00:02<00:00, 813.65rows/s] \n",
      "Optimising Drift Detection Model...: 100%|██████████| 40/40 [00:15<00:00,  2.62models/s]\n",
      "Scoring training dataframe...: 100%|██████████| 444/444 [00:00<00:00, 925.23rows/s] \n",
      "Computing feature stats...: 100%|██████████| 2/2 [00:00<00:00, 305.57features/s]\n",
      "Learning single feature constraints...: 100%|██████████| 3/3 [00:00<00:00, 279.06constraints/s]\n",
      "Learning two feature constraints...: 100%|██████████| 2/2 [00:00<00:00, 84.89constraints/s]\n"
     ]
    }
   ],
   "source": [
    "#Generate drift detection model\n",
    "from ibm_wos_utils.drift.drift_trainer import DriftTrainer\n",
    "enable_drift = service_configuration_support.get('enable_drift')\n",
    "if enable_drift:\n",
    "    drift_detection_input = {\n",
    "        \"feature_columns\":training_data_info.get('feature_columns'),\n",
    "        \"categorical_columns\":training_data_info.get('categorical_columns'),\n",
    "        \"label_column\": training_data_info.get('class_label'),\n",
    "        \"problem_type\": model_type\n",
    "    }\n",
    "    \n",
    "    drift_trainer = DriftTrainer(data_df,drift_detection_input)\n",
    "    if model_type != \"regression\":\n",
    "        #Note: batch_size can be customized by user as per the training data size\n",
    "        drift_trainer.generate_drift_detection_model(score,batch_size=32)\n",
    "    \n",
    "    #Note:\n",
    "    # - Two column constraints are not computed beyond two_column_learner_limit(default set to 200)\n",
    "    # - Categorical columns with large (determined by categorical_unique_threshold; default > 0.8) number of unique values relative to total rows in the column are discarded. \n",
    "    #User can adjust the value depending on the requirement\n",
    "    \n",
    "    drift_trainer.learn_constraints(two_column_learner_limit=2, categorical_unique_threshold=0.8)\n",
    "    drift_trainer.create_archive()"
   ]
  },
  {
   "cell_type": "code",
   "execution_count": 22,
   "metadata": {
    "id": "1ebac730-61e9-47c4-8187-2f1977afacfe"
   },
   "outputs": [
    {
     "data": {
      "text/html": [
       "<a download=\"drift_detection_model.tar.gz\" href=\"data:text/json;base64,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\" target=\"_blank\">Download Drift detection model</a>"
      ],
      "text/plain": [
       "<IPython.core.display.HTML object>"
      ]
     },
     "execution_count": 22,
     "metadata": {},
     "output_type": "execute_result"
    }
   ],
   "source": [
    "#Generate a download link for drift detection model\n",
    "from IPython.display import HTML\n",
    "import base64\n",
    "import io\n",
    "\n",
    "def create_download_link_for_ddm( title = \"Download Drift detection model\", filename = \"drift_detection_model.tar.gz\"):  \n",
    "    \n",
    "    #Retains stats information    \n",
    "    if enable_drift:\n",
    "        with open(filename,'rb') as file:\n",
    "            ddm = file.read()\n",
    "        b64 = base64.b64encode(ddm)\n",
    "        payload = b64.decode()\n",
    "        \n",
    "        html = '<a download=\"{filename}\" href=\"data:text/json;base64,{payload}\" target=\"_blank\">{title}</a>'\n",
    "        html = html.format(payload=payload,title=title,filename=filename)\n",
    "        return HTML(html)\n",
    "    else:\n",
    "        print(\"Drift Detection is not enabled. Please enable and rerun the notebook\")\n",
    "\n",
    "create_download_link_for_ddm()\n"
   ]
  },
  {
   "cell_type": "code",
   "execution_count": null,
   "metadata": {
    "id": "86dd5a03fb824f6f8d4f52c340dfe705"
   },
   "outputs": [],
   "source": []
  }
 ],
 "metadata": {
  "kernelspec": {
   "display_name": "Python 3.9",
   "language": "python",
   "name": "python3"
  },
  "language_info": {
   "codemirror_mode": {
    "name": "ipython",
    "version": 3
   },
   "file_extension": ".py",
   "mimetype": "text/x-python",
   "name": "python",
   "nbconvert_exporter": "python",
   "pygments_lexer": "ipython3",
   "version": "3.9.7"
  }
 },
 "nbformat": 4,
 "nbformat_minor": 1
}
